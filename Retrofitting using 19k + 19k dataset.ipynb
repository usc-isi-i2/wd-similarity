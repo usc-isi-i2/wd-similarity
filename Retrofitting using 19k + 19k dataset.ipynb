{
 "cells": [
  {
   "cell_type": "code",
   "execution_count": 1,
   "id": "dynamic-generator",
   "metadata": {},
   "outputs": [],
   "source": [
    "import pandas as pd\n",
    "import numpy as np\n",
    "from sklearn.metrics.pairwise import euclidean_distances\n",
    "from sklearn.metrics.pairwise import cosine_similarity"
   ]
  },
  {
   "cell_type": "code",
   "execution_count": 2,
   "id": "objective-saturday",
   "metadata": {},
   "outputs": [],
   "source": [
    "p279WordSimSeededDF_wabs_text = pd.read_csv(\"../data/P279_dataset/P279_ChildPar_19k_WEmbAndCosSim.csv\")\n",
    "p279Seeded_SiblingsDF3_wabs_text = pd.read_csv(\"../data/P279_dataset/P279_Siblings_19k_WEmbAndCosSim.csv\")"
   ]
  },
  {
   "cell_type": "code",
   "execution_count": 3,
   "id": "joint-magnet",
   "metadata": {},
   "outputs": [
    {
     "data": {
      "text/html": [
       "<div>\n",
       "<style scoped>\n",
       "    .dataframe tbody tr th:only-of-type {\n",
       "        vertical-align: middle;\n",
       "    }\n",
       "\n",
       "    .dataframe tbody tr th {\n",
       "        vertical-align: top;\n",
       "    }\n",
       "\n",
       "    .dataframe thead th {\n",
       "        text-align: right;\n",
       "    }\n",
       "</style>\n",
       "<table border=\"1\" class=\"dataframe\">\n",
       "  <thead>\n",
       "    <tr style=\"text-align: right;\">\n",
       "      <th></th>\n",
       "      <th>node2</th>\n",
       "      <th>node1</th>\n",
       "      <th>id</th>\n",
       "      <th>node1_label</th>\n",
       "      <th>label</th>\n",
       "      <th>node2_label</th>\n",
       "      <th>sent</th>\n",
       "      <th>node1_emb</th>\n",
       "      <th>node2_emb</th>\n",
       "      <th>bert2SentSim</th>\n",
       "      <th>...</th>\n",
       "      <th>BERT_abstract_emb_right</th>\n",
       "      <th>BERT_abstract_firstSent_emb_right</th>\n",
       "      <th>textEmb_7props_left</th>\n",
       "      <th>textEmb_7props_right</th>\n",
       "      <th>textEmb_2props_left</th>\n",
       "      <th>textEmb_2props_right</th>\n",
       "      <th>textEmb_7props_cosSim</th>\n",
       "      <th>textEmb_2props_cosSim</th>\n",
       "      <th>BERT_abstract_cosSim</th>\n",
       "      <th>BERT_abstract_firstSent_cosSim</th>\n",
       "    </tr>\n",
       "  </thead>\n",
       "  <tbody>\n",
       "    <tr>\n",
       "      <th>0</th>\n",
       "      <td>Q100171002</td>\n",
       "      <td>Q1503443</td>\n",
       "      <td>Q1503443-P279-Q100171002-8282ae74-0</td>\n",
       "      <td>secrecy</td>\n",
       "      <td>P279</td>\n",
       "      <td>concealment</td>\n",
       "      <td>secrecy is concealment</td>\n",
       "      <td>[ 4.83600467e-01  1.25958338e-01  1.84784138e+...</td>\n",
       "      <td>[ 3.61319035e-01  1.03393383e-01  1.50166345e+...</td>\n",
       "      <td>0.901134</td>\n",
       "      <td>...</td>\n",
       "      <td>NaN</td>\n",
       "      <td>NaN</td>\n",
       "      <td>[0.87660795, 0.4991357, -0.39552155, 0.7046891...</td>\n",
       "      <td>[0.36156428, -0.015657336, -0.14483449, -0.253...</td>\n",
       "      <td>[0.79082793, 0.53679967, -0.3825465, 0.6778466...</td>\n",
       "      <td>[0.36156428, -0.015657336, -0.14483449, -0.253...</td>\n",
       "      <td>0.832602</td>\n",
       "      <td>0.823419</td>\n",
       "      <td>-1.000000</td>\n",
       "      <td>-1.000000</td>\n",
       "    </tr>\n",
       "    <tr>\n",
       "      <th>1</th>\n",
       "      <td>Q1002697</td>\n",
       "      <td>Q49850</td>\n",
       "      <td>Q49850-P279-Q1002697-0c52cf68-0</td>\n",
       "      <td>journal</td>\n",
       "      <td>P279</td>\n",
       "      <td>periodical</td>\n",
       "      <td>journal is periodical</td>\n",
       "      <td>[-5.87019742e-01 -3.76376987e-01  2.21003819e+...</td>\n",
       "      <td>[-2.23196611e-01 -4.97725368e-01  2.20271492e+...</td>\n",
       "      <td>0.863449</td>\n",
       "      <td>...</td>\n",
       "      <td>[-0.28667202591896057, -0.4099476933479309, 0....</td>\n",
       "      <td>[-0.25435054302215576, -0.92085862159729, 1.68...</td>\n",
       "      <td>[1.256428, 0.3254261, -0.26960722, 0.101883665...</td>\n",
       "      <td>[0.92698413, 0.32396156, -0.7647308, 0.6973268...</td>\n",
       "      <td>[1.256428, 0.3254261, -0.26960722, 0.101883665...</td>\n",
       "      <td>[1.0344226, 0.39984593, -0.76180136, 0.8256311...</td>\n",
       "      <td>0.742638</td>\n",
       "      <td>0.734428</td>\n",
       "      <td>-1.000000</td>\n",
       "      <td>-1.000000</td>\n",
       "    </tr>\n",
       "    <tr>\n",
       "      <th>2</th>\n",
       "      <td>Q101998</td>\n",
       "      <td>Q4421</td>\n",
       "      <td>Q4421-P279-Q101998-d0983886-0</td>\n",
       "      <td>forest</td>\n",
       "      <td>P279</td>\n",
       "      <td>biome</td>\n",
       "      <td>forest is biome</td>\n",
       "      <td>[-4.80742343e-02 -4.51617390e-01  1.48896754e+...</td>\n",
       "      <td>[ 5.09670794e-01 -4.42380428e-01  1.53245163e+...</td>\n",
       "      <td>0.507148</td>\n",
       "      <td>...</td>\n",
       "      <td>[0.12320789694786072, 0.2723684310913086, 0.05...</td>\n",
       "      <td>[0.5991100072860718, 0.15195603668689728, 0.59...</td>\n",
       "      <td>[0.8141036, 0.14491142, -0.59703183, 0.335001,...</td>\n",
       "      <td>[-0.16750671, -0.17960861, -0.58211946, -0.687...</td>\n",
       "      <td>[0.91628444, 0.104261845, -0.49683735, 0.21296...</td>\n",
       "      <td>[-0.13534825, -0.23398273, -0.5165668, -0.7297...</td>\n",
       "      <td>0.647031</td>\n",
       "      <td>0.707611</td>\n",
       "      <td>0.508060</td>\n",
       "      <td>0.455747</td>\n",
       "    </tr>\n",
       "    <tr>\n",
       "      <th>3</th>\n",
       "      <td>Q102165</td>\n",
       "      <td>Q2294</td>\n",
       "      <td>Q2294-P279-Q102165-0893a180-0</td>\n",
       "      <td>proton</td>\n",
       "      <td>P279</td>\n",
       "      <td>nucleon</td>\n",
       "      <td>proton is nucleon</td>\n",
       "      <td>[-3.39149237e-01  2.01575115e-01  1.08608294e+...</td>\n",
       "      <td>[-6.87960759e-02 -1.65659860e-01  9.53789592e-...</td>\n",
       "      <td>0.798707</td>\n",
       "      <td>...</td>\n",
       "      <td>[0.17410606145858765, 0.6839145421981812, -0.8...</td>\n",
       "      <td>[-0.04499293863773346, 0.6921464204788208, -0....</td>\n",
       "      <td>[0.469377, 0.7162001, -0.36740896, 0.76742333,...</td>\n",
       "      <td>[-0.11307852, 0.65730673, -0.13959256, 1.46633...</td>\n",
       "      <td>[0.4080446, 0.7498908, -0.2665757, 0.74437106,...</td>\n",
       "      <td>[-0.11307852, 0.65730673, -0.13959256, 1.46633...</td>\n",
       "      <td>0.836531</td>\n",
       "      <td>0.847591</td>\n",
       "      <td>0.855959</td>\n",
       "      <td>0.770030</td>\n",
       "    </tr>\n",
       "    <tr>\n",
       "      <th>4</th>\n",
       "      <td>Q102205</td>\n",
       "      <td>Q11435</td>\n",
       "      <td>Q11435-P279-Q102205-7b448d05-0</td>\n",
       "      <td>liquid</td>\n",
       "      <td>P279</td>\n",
       "      <td>fluid</td>\n",
       "      <td>liquid is fluid</td>\n",
       "      <td>[-5.40423356e-02 -1.01775277e+00  2.21057415e+...</td>\n",
       "      <td>[ 1.30038410e-01 -8.53226840e-01  2.37821031e+...</td>\n",
       "      <td>0.934246</td>\n",
       "      <td>...</td>\n",
       "      <td>[0.4393930733203888, 0.7159943580627441, 0.647...</td>\n",
       "      <td>[0.5091343522071838, -0.05845202878117561, 1.0...</td>\n",
       "      <td>[-0.19995248, 0.65605164, -0.14234662, 0.43931...</td>\n",
       "      <td>[0.4293771, 1.1976917, 0.04422909, 0.5975481, ...</td>\n",
       "      <td>[-0.45549682, 0.73478854, -0.1980287, 0.436793...</td>\n",
       "      <td>[0.33631665, 1.1661042, 0.13744242, 0.6776439,...</td>\n",
       "      <td>0.765589</td>\n",
       "      <td>0.780342</td>\n",
       "      <td>0.752693</td>\n",
       "      <td>0.515319</td>\n",
       "    </tr>\n",
       "  </tbody>\n",
       "</table>\n",
       "<p>5 rows × 26 columns</p>\n",
       "</div>"
      ],
      "text/plain": [
       "        node2     node1                                   id node1_label  \\\n",
       "0  Q100171002  Q1503443  Q1503443-P279-Q100171002-8282ae74-0     secrecy   \n",
       "1    Q1002697    Q49850      Q49850-P279-Q1002697-0c52cf68-0     journal   \n",
       "2     Q101998     Q4421        Q4421-P279-Q101998-d0983886-0      forest   \n",
       "3     Q102165     Q2294        Q2294-P279-Q102165-0893a180-0      proton   \n",
       "4     Q102205    Q11435       Q11435-P279-Q102205-7b448d05-0      liquid   \n",
       "\n",
       "  label  node2_label                    sent  \\\n",
       "0  P279  concealment  secrecy is concealment   \n",
       "1  P279   periodical   journal is periodical   \n",
       "2  P279        biome         forest is biome   \n",
       "3  P279      nucleon       proton is nucleon   \n",
       "4  P279        fluid         liquid is fluid   \n",
       "\n",
       "                                           node1_emb  \\\n",
       "0  [ 4.83600467e-01  1.25958338e-01  1.84784138e+...   \n",
       "1  [-5.87019742e-01 -3.76376987e-01  2.21003819e+...   \n",
       "2  [-4.80742343e-02 -4.51617390e-01  1.48896754e+...   \n",
       "3  [-3.39149237e-01  2.01575115e-01  1.08608294e+...   \n",
       "4  [-5.40423356e-02 -1.01775277e+00  2.21057415e+...   \n",
       "\n",
       "                                           node2_emb  bert2SentSim  ...  \\\n",
       "0  [ 3.61319035e-01  1.03393383e-01  1.50166345e+...      0.901134  ...   \n",
       "1  [-2.23196611e-01 -4.97725368e-01  2.20271492e+...      0.863449  ...   \n",
       "2  [ 5.09670794e-01 -4.42380428e-01  1.53245163e+...      0.507148  ...   \n",
       "3  [-6.87960759e-02 -1.65659860e-01  9.53789592e-...      0.798707  ...   \n",
       "4  [ 1.30038410e-01 -8.53226840e-01  2.37821031e+...      0.934246  ...   \n",
       "\n",
       "                             BERT_abstract_emb_right  \\\n",
       "0                                                NaN   \n",
       "1  [-0.28667202591896057, -0.4099476933479309, 0....   \n",
       "2  [0.12320789694786072, 0.2723684310913086, 0.05...   \n",
       "3  [0.17410606145858765, 0.6839145421981812, -0.8...   \n",
       "4  [0.4393930733203888, 0.7159943580627441, 0.647...   \n",
       "\n",
       "                   BERT_abstract_firstSent_emb_right  \\\n",
       "0                                                NaN   \n",
       "1  [-0.25435054302215576, -0.92085862159729, 1.68...   \n",
       "2  [0.5991100072860718, 0.15195603668689728, 0.59...   \n",
       "3  [-0.04499293863773346, 0.6921464204788208, -0....   \n",
       "4  [0.5091343522071838, -0.05845202878117561, 1.0...   \n",
       "\n",
       "                                 textEmb_7props_left  \\\n",
       "0  [0.87660795, 0.4991357, -0.39552155, 0.7046891...   \n",
       "1  [1.256428, 0.3254261, -0.26960722, 0.101883665...   \n",
       "2  [0.8141036, 0.14491142, -0.59703183, 0.335001,...   \n",
       "3  [0.469377, 0.7162001, -0.36740896, 0.76742333,...   \n",
       "4  [-0.19995248, 0.65605164, -0.14234662, 0.43931...   \n",
       "\n",
       "                                textEmb_7props_right  \\\n",
       "0  [0.36156428, -0.015657336, -0.14483449, -0.253...   \n",
       "1  [0.92698413, 0.32396156, -0.7647308, 0.6973268...   \n",
       "2  [-0.16750671, -0.17960861, -0.58211946, -0.687...   \n",
       "3  [-0.11307852, 0.65730673, -0.13959256, 1.46633...   \n",
       "4  [0.4293771, 1.1976917, 0.04422909, 0.5975481, ...   \n",
       "\n",
       "                                 textEmb_2props_left  \\\n",
       "0  [0.79082793, 0.53679967, -0.3825465, 0.6778466...   \n",
       "1  [1.256428, 0.3254261, -0.26960722, 0.101883665...   \n",
       "2  [0.91628444, 0.104261845, -0.49683735, 0.21296...   \n",
       "3  [0.4080446, 0.7498908, -0.2665757, 0.74437106,...   \n",
       "4  [-0.45549682, 0.73478854, -0.1980287, 0.436793...   \n",
       "\n",
       "                                textEmb_2props_right textEmb_7props_cosSim  \\\n",
       "0  [0.36156428, -0.015657336, -0.14483449, -0.253...              0.832602   \n",
       "1  [1.0344226, 0.39984593, -0.76180136, 0.8256311...              0.742638   \n",
       "2  [-0.13534825, -0.23398273, -0.5165668, -0.7297...              0.647031   \n",
       "3  [-0.11307852, 0.65730673, -0.13959256, 1.46633...              0.836531   \n",
       "4  [0.33631665, 1.1661042, 0.13744242, 0.6776439,...              0.765589   \n",
       "\n",
       "  textEmb_2props_cosSim BERT_abstract_cosSim BERT_abstract_firstSent_cosSim  \n",
       "0              0.823419            -1.000000                      -1.000000  \n",
       "1              0.734428            -1.000000                      -1.000000  \n",
       "2              0.707611             0.508060                       0.455747  \n",
       "3              0.847591             0.855959                       0.770030  \n",
       "4              0.780342             0.752693                       0.515319  \n",
       "\n",
       "[5 rows x 26 columns]"
      ]
     },
     "execution_count": 3,
     "metadata": {},
     "output_type": "execute_result"
    }
   ],
   "source": [
    "p279WordSimSeededDF_wabs_text.head()"
   ]
  },
  {
   "cell_type": "code",
   "execution_count": 4,
   "id": "incorporated-ambassador",
   "metadata": {},
   "outputs": [
    {
     "data": {
      "text/plain": [
       "Index(['node2', 'node1', 'id', 'node1_label', 'label', 'node2_label', 'sent',\n",
       "       'node1_emb', 'node2_emb', 'bert2SentSim', 'abstract',\n",
       "       'abstract_firstSent', 'BERT_abstract_emb',\n",
       "       'BERT_abstract_firstSent_emb', 'abstract_right',\n",
       "       'abstract_firstSent_right', 'BERT_abstract_emb_right',\n",
       "       'BERT_abstract_firstSent_emb_right', 'textEmb_7props_left',\n",
       "       'textEmb_7props_right', 'textEmb_2props_left', 'textEmb_2props_right',\n",
       "       'textEmb_7props_cosSim', 'textEmb_2props_cosSim',\n",
       "       'BERT_abstract_cosSim', 'BERT_abstract_firstSent_cosSim'],\n",
       "      dtype='object')"
      ]
     },
     "execution_count": 4,
     "metadata": {},
     "output_type": "execute_result"
    }
   ],
   "source": [
    "p279WordSimSeededDF_wabs_text.columns"
   ]
  },
  {
   "cell_type": "code",
   "execution_count": 5,
   "id": "original-grass",
   "metadata": {},
   "outputs": [
    {
     "data": {
      "text/plain": [
       "count    19454.000000\n",
       "mean         0.602876\n",
       "std          0.146181\n",
       "min          0.064503\n",
       "25%          0.493110\n",
       "50%          0.597949\n",
       "75%          0.711631\n",
       "max          1.000000\n",
       "Name: bert2SentSim, dtype: float64"
      ]
     },
     "execution_count": 5,
     "metadata": {},
     "output_type": "execute_result"
    }
   ],
   "source": [
    "p279WordSimSeededDF_wabs_text.bert2SentSim.describe()"
   ]
  },
  {
   "cell_type": "markdown",
   "id": "removed-occupation",
   "metadata": {},
   "source": [
    "# Retrofitting Setup"
   ]
  },
  {
   "cell_type": "code",
   "execution_count": 11,
   "id": "english-english",
   "metadata": {},
   "outputs": [],
   "source": [
    "def fetchEmbeddings(df):\n",
    "    embedDict = {}\n",
    "    for _, row in df.iterrows():\n",
    "        embedDict[row.node1_label] = row.textEmb_7props_left\n",
    "        embedDict[row.node2_label] = row.textEmb_7props_right\n",
    "    for key, val in embedDict.items():\n",
    "        temp = np.array([float(val1) for val1 in val[1:-1].split(',')])\n",
    "        temp2 = temp**2\n",
    "        embedDict[key] = temp / np.sqrt((temp2.sum() + 1e-6))\n",
    "#         embedDict[key] = temp\n",
    "    return embedDict"
   ]
  },
  {
   "cell_type": "code",
   "execution_count": 12,
   "id": "orange-person",
   "metadata": {},
   "outputs": [],
   "source": [
    "def fetchNeighbours(df):\n",
    "    neighboursDict = {}\n",
    "    for _, row in df.iterrows():\n",
    "        if row.node1_label not in neighboursDict:\n",
    "            neighboursDict[row.node1_label] = []\n",
    "        neighboursDict[row.node1_label].append((row.node2_label, row.bert2SentSim))\n",
    "        \n",
    "        if row.node2_label not in neighboursDict:\n",
    "            neighboursDict[row.node2_label] = []\n",
    "        neighboursDict[row.node2_label].append((row.node1_label, row.bert2SentSim))\n",
    "    return neighboursDict"
   ]
  },
  {
   "cell_type": "code",
   "execution_count": 139,
   "id": "joined-kazakhstan",
   "metadata": {},
   "outputs": [],
   "source": [
    "def retrofit(embedDict, neighDict):\n",
    "    newEmbedDict = {}\n",
    "    for word in embedDict.keys():\n",
    "        neighbs = neighDict[word]\n",
    "#         print([embedDict[neighb[0]] for neighb in neighbs])\n",
    "        newEmbedDict[word] = (embedDict[word] * (len(neighbs)) + sum([embedDict[neighb[0]] * float(neighb[1]) for neighb in neighbs])) / ((len(neighbs)) + sum([neighb[1] for neighb in neighbs]))\n",
    "#         newEmbedDict[word] = (embedDict[word] * (len(neighbs))**2 + sum([embedDict[neighb[0]] * float(neighb[1]) for neighb in neighbs])) / ((len(neighbs))**2 + sum([neighb[1] for neighb in neighbs]))\n",
    "#         newEmbedDict[word] = (embedDict[word] * (len(neighbs))**0.5 + sum([embedDict[neighb[0]] * float(neighb[1]) for neighb in neighbs])) / ((len(neighbs))**0.5 + sum([neighb[1] for neighb in neighbs]))\n",
    "    return newEmbedDict"
   ]
  },
  {
   "cell_type": "code",
   "execution_count": 9,
   "id": "collected-performance",
   "metadata": {},
   "outputs": [],
   "source": [
    "def determineDistances(embedDict, newEmbedDict):\n",
    "    dist = []\n",
    "    for word in embedDict.keys():\n",
    "        dist.append(euclidean_distances([embedDict[word]], [newEmbedDict[word]])[0][0])\n",
    "    return dist"
   ]
  },
  {
   "cell_type": "markdown",
   "id": "later-dimension",
   "metadata": {},
   "source": [
    "# Attempts"
   ]
  },
  {
   "cell_type": "markdown",
   "id": "serious-milan",
   "metadata": {},
   "source": [
    "## Sample attempt"
   ]
  },
  {
   "cell_type": "code",
   "execution_count": 91,
   "id": "substantial-aggregate",
   "metadata": {},
   "outputs": [],
   "source": [
    "p279WordSimSeededDF_wabs_text_sample = p279WordSimSeededDF_wabs_text[:1000]"
   ]
  },
  {
   "cell_type": "code",
   "execution_count": 116,
   "id": "analyzed-passion",
   "metadata": {},
   "outputs": [],
   "source": [
    "embedDict = fetchEmbeddings(p279WordSimSeededDF_wabs_text_sample)"
   ]
  },
  {
   "cell_type": "code",
   "execution_count": 117,
   "id": "japanese-defense",
   "metadata": {},
   "outputs": [],
   "source": [
    "neighDict = fetchNeighbours(p279WordSimSeededDF_wabs_text_sample)"
   ]
  },
  {
   "cell_type": "code",
   "execution_count": 94,
   "id": "dying-nigeria",
   "metadata": {},
   "outputs": [],
   "source": [
    "newEmbedDict = retrofit(embedDict, neighDict)"
   ]
  },
  {
   "cell_type": "code",
   "execution_count": 95,
   "id": "reduced-avenue",
   "metadata": {},
   "outputs": [
    {
     "data": {
      "text/plain": [
       "1034"
      ]
     },
     "execution_count": 95,
     "metadata": {},
     "output_type": "execute_result"
    }
   ],
   "source": [
    "len(embedDict.keys())"
   ]
  },
  {
   "cell_type": "code",
   "execution_count": 96,
   "id": "advised-hollywood",
   "metadata": {},
   "outputs": [],
   "source": [
    "dists = determineDistances(embedDict, newEmbedDict)"
   ]
  },
  {
   "cell_type": "code",
   "execution_count": 97,
   "id": "authentic-greene",
   "metadata": {},
   "outputs": [
    {
     "data": {
      "text/plain": [
       "count    1034.000000\n",
       "mean        0.281990\n",
       "std         0.054759\n",
       "min         0.069792\n",
       "25%         0.244698\n",
       "50%         0.278019\n",
       "75%         0.319656\n",
       "max         0.450444\n",
       "dtype: float64"
      ]
     },
     "execution_count": 97,
     "metadata": {},
     "output_type": "execute_result"
    }
   ],
   "source": [
    "pd.Series(dists).describe()"
   ]
  },
  {
   "cell_type": "markdown",
   "id": "variable-transportation",
   "metadata": {},
   "source": [
    "## ChildPar dataset"
   ]
  },
  {
   "cell_type": "code",
   "execution_count": 105,
   "id": "helpful-wellington",
   "metadata": {},
   "outputs": [],
   "source": [
    "# temp1 = p279WordSimSeededDF_wabs_text.apply(lambda p: (p.node1, p.node1_label), axis=1).to_list() + p279WordSimSeededDF_wabs_text.apply(lambda p: (p.node2, p.node2_label), axis=1).to_list()"
   ]
  },
  {
   "cell_type": "code",
   "execution_count": 105,
   "id": "sorted-capability",
   "metadata": {},
   "outputs": [],
   "source": [
    "# temp1 = p279WordSimSeededDF_wabs_text.apply(lambda p: (p.node1, p.node1_label), axis=1).to_list() + p279WordSimSeededDF_wabs_text.apply(lambda p: (p.node2, p.node2_label), axis=1).to_list()"
   ]
  },
  {
   "cell_type": "code",
   "execution_count": null,
   "id": "senior-psychology",
   "metadata": {},
   "outputs": [],
   "source": [
    "# temp1Dict = {}\n",
    "# for node, val in temp1:\n",
    "#     print(node, val)\n",
    "#     if node not in temp1Dict:\n",
    "#         temp1Dict[node] = val\n",
    "#     else:\n",
    "#         if temp1Dict[node] != val:\n",
    "#             print(node,val)"
   ]
  },
  {
   "cell_type": "code",
   "execution_count": 111,
   "id": "frequent-sight",
   "metadata": {},
   "outputs": [
    {
     "data": {
      "text/plain": [
       "18762"
      ]
     },
     "execution_count": 111,
     "metadata": {},
     "output_type": "execute_result"
    }
   ],
   "source": [
    "# len(temp1Dict.keys())"
   ]
  },
  {
   "cell_type": "code",
   "execution_count": 126,
   "id": "central-spyware",
   "metadata": {},
   "outputs": [],
   "source": [
    "embedDict = fetchEmbeddings(p279WordSimSeededDF_wabs_text)"
   ]
  },
  {
   "cell_type": "code",
   "execution_count": 127,
   "id": "white-genesis",
   "metadata": {},
   "outputs": [],
   "source": [
    "neighDict = fetchNeighbours(p279WordSimSeededDF_wabs_text)"
   ]
  },
  {
   "cell_type": "code",
   "execution_count": 128,
   "id": "registered-original",
   "metadata": {},
   "outputs": [],
   "source": [
    "newEmbedDict = retrofit(embedDict, neighDict)"
   ]
  },
  {
   "cell_type": "code",
   "execution_count": 129,
   "id": "experienced-conspiracy",
   "metadata": {},
   "outputs": [
    {
     "data": {
      "text/plain": [
       "18860"
      ]
     },
     "execution_count": 129,
     "metadata": {},
     "output_type": "execute_result"
    }
   ],
   "source": [
    "len(embedDict.keys())"
   ]
  },
  {
   "cell_type": "code",
   "execution_count": 130,
   "id": "every-interface",
   "metadata": {},
   "outputs": [],
   "source": [
    "dists = determineDistances(embedDict, newEmbedDict)"
   ]
  },
  {
   "cell_type": "code",
   "execution_count": 131,
   "id": "specified-berry",
   "metadata": {},
   "outputs": [
    {
     "data": {
      "text/plain": [
       "count    18860.000000\n",
       "mean         0.283712\n",
       "std          0.056573\n",
       "min          0.050719\n",
       "25%          0.246137\n",
       "50%          0.281897\n",
       "75%          0.319687\n",
       "max          0.564922\n",
       "dtype: float64"
      ]
     },
     "execution_count": 131,
     "metadata": {},
     "output_type": "execute_result"
    }
   ],
   "source": [
    "pd.Series(dists).describe()"
   ]
  },
  {
   "cell_type": "markdown",
   "id": "divine-chair",
   "metadata": {},
   "source": [
    "## Concatenated ChildPar + Siblings Dataset"
   ]
  },
  {
   "cell_type": "code",
   "execution_count": 140,
   "id": "fourth-exhibit",
   "metadata": {},
   "outputs": [],
   "source": [
    "embedDict = fetchEmbeddings(pd.concat([p279WordSimSeededDF_wabs_text, p279Seeded_SiblingsDF3_wabs_text]))"
   ]
  },
  {
   "cell_type": "code",
   "execution_count": 141,
   "id": "hungry-cream",
   "metadata": {},
   "outputs": [],
   "source": [
    "neighDict = fetchNeighbours(pd.concat([p279WordSimSeededDF_wabs_text, p279Seeded_SiblingsDF3_wabs_text]))"
   ]
  },
  {
   "cell_type": "code",
   "execution_count": 142,
   "id": "leading-invasion",
   "metadata": {},
   "outputs": [],
   "source": [
    "newEmbedDict = retrofit(embedDict, neighDict)"
   ]
  },
  {
   "cell_type": "code",
   "execution_count": 143,
   "id": "protecting-devon",
   "metadata": {},
   "outputs": [
    {
     "data": {
      "text/plain": [
       "18860"
      ]
     },
     "execution_count": 143,
     "metadata": {},
     "output_type": "execute_result"
    }
   ],
   "source": [
    "len(embedDict.keys())"
   ]
  },
  {
   "cell_type": "code",
   "execution_count": 144,
   "id": "prescribed-right",
   "metadata": {},
   "outputs": [],
   "source": [
    "dists = determineDistances(embedDict, newEmbedDict)"
   ]
  },
  {
   "cell_type": "code",
   "execution_count": 145,
   "id": "important-university",
   "metadata": {},
   "outputs": [
    {
     "data": {
      "text/plain": [
       "count    18860.000000\n",
       "mean         0.272088\n",
       "std          0.057231\n",
       "min          0.050719\n",
       "25%          0.231393\n",
       "50%          0.267868\n",
       "75%          0.308657\n",
       "max          0.564922\n",
       "dtype: float64"
      ]
     },
     "execution_count": 145,
     "metadata": {},
     "output_type": "execute_result"
    }
   ],
   "source": [
    "pd.Series(dists).describe()"
   ]
  },
  {
   "cell_type": "markdown",
   "id": "single-scope",
   "metadata": {},
   "source": [
    "# Correlation"
   ]
  },
  {
   "cell_type": "code",
   "execution_count": 146,
   "id": "opposite-amino",
   "metadata": {},
   "outputs": [],
   "source": [
    "wordSim353AnnotDF_New = pd.read_csv('../data/wordsim353LatestAnnot.csv')"
   ]
  },
  {
   "cell_type": "code",
   "execution_count": 147,
   "id": "looking-wonder",
   "metadata": {},
   "outputs": [
    {
     "data": {
      "text/html": [
       "<div>\n",
       "<style scoped>\n",
       "    .dataframe tbody tr th:only-of-type {\n",
       "        vertical-align: middle;\n",
       "    }\n",
       "\n",
       "    .dataframe tbody tr th {\n",
       "        vertical-align: top;\n",
       "    }\n",
       "\n",
       "    .dataframe thead th {\n",
       "        text-align: right;\n",
       "    }\n",
       "</style>\n",
       "<table border=\"1\" class=\"dataframe\">\n",
       "  <thead>\n",
       "    <tr style=\"text-align: right;\">\n",
       "      <th></th>\n",
       "      <th>ID</th>\n",
       "      <th>Word 1</th>\n",
       "      <th>Word 2</th>\n",
       "      <th>H_Sim</th>\n",
       "      <th>H_Dim</th>\n",
       "      <th>F_Sim</th>\n",
       "      <th>F_Dim</th>\n",
       "      <th>N_Sim</th>\n",
       "      <th>N_Dim</th>\n",
       "      <th>D_Sim</th>\n",
       "      <th>D_Dim</th>\n",
       "      <th>P_Sim</th>\n",
       "      <th>P_Dim</th>\n",
       "      <th>Avg</th>\n",
       "      <th>Stdev</th>\n",
       "      <th>H_orig</th>\n",
       "      <th>H_reversed</th>\n",
       "    </tr>\n",
       "  </thead>\n",
       "  <tbody>\n",
       "    <tr>\n",
       "      <th>0</th>\n",
       "      <td>1</td>\n",
       "      <td>admission</td>\n",
       "      <td>ticket</td>\n",
       "      <td>3</td>\n",
       "      <td>U</td>\n",
       "      <td>3</td>\n",
       "      <td>U</td>\n",
       "      <td>3</td>\n",
       "      <td>U</td>\n",
       "      <td>3</td>\n",
       "      <td>u</td>\n",
       "      <td>3.0</td>\n",
       "      <td>U</td>\n",
       "      <td>3.0</td>\n",
       "      <td>0.000000</td>\n",
       "      <td>5.5360</td>\n",
       "      <td>4.4640</td>\n",
       "    </tr>\n",
       "    <tr>\n",
       "      <th>1</th>\n",
       "      <td>2</td>\n",
       "      <td>alcohol</td>\n",
       "      <td>chemistry</td>\n",
       "      <td>3</td>\n",
       "      <td>D</td>\n",
       "      <td>3</td>\n",
       "      <td>D</td>\n",
       "      <td>3</td>\n",
       "      <td>D</td>\n",
       "      <td>4</td>\n",
       "      <td>NaN</td>\n",
       "      <td>3.0</td>\n",
       "      <td>H</td>\n",
       "      <td>3.2</td>\n",
       "      <td>0.447214</td>\n",
       "      <td>4.1250</td>\n",
       "      <td>5.8750</td>\n",
       "    </tr>\n",
       "    <tr>\n",
       "      <th>2</th>\n",
       "      <td>3</td>\n",
       "      <td>aluminum</td>\n",
       "      <td>metal</td>\n",
       "      <td>2</td>\n",
       "      <td>I</td>\n",
       "      <td>3</td>\n",
       "      <td>S</td>\n",
       "      <td>2</td>\n",
       "      <td>I</td>\n",
       "      <td>3</td>\n",
       "      <td>i</td>\n",
       "      <td>2.0</td>\n",
       "      <td>I</td>\n",
       "      <td>2.4</td>\n",
       "      <td>0.547723</td>\n",
       "      <td>6.6250</td>\n",
       "      <td>3.3750</td>\n",
       "    </tr>\n",
       "    <tr>\n",
       "      <th>3</th>\n",
       "      <td>4</td>\n",
       "      <td>announcement</td>\n",
       "      <td>effort</td>\n",
       "      <td>4</td>\n",
       "      <td>NaN</td>\n",
       "      <td>4</td>\n",
       "      <td>NaN</td>\n",
       "      <td>4</td>\n",
       "      <td>NaN</td>\n",
       "      <td>4</td>\n",
       "      <td>NaN</td>\n",
       "      <td>4.0</td>\n",
       "      <td>NaN</td>\n",
       "      <td>4.0</td>\n",
       "      <td>0.000000</td>\n",
       "      <td>2.0625</td>\n",
       "      <td>7.9375</td>\n",
       "    </tr>\n",
       "    <tr>\n",
       "      <th>4</th>\n",
       "      <td>5</td>\n",
       "      <td>announcement</td>\n",
       "      <td>news</td>\n",
       "      <td>2</td>\n",
       "      <td>I</td>\n",
       "      <td>2</td>\n",
       "      <td>I</td>\n",
       "      <td>3</td>\n",
       "      <td>I</td>\n",
       "      <td>2</td>\n",
       "      <td>i</td>\n",
       "      <td>2.0</td>\n",
       "      <td>I</td>\n",
       "      <td>2.2</td>\n",
       "      <td>0.447214</td>\n",
       "      <td>7.1875</td>\n",
       "      <td>2.8125</td>\n",
       "    </tr>\n",
       "  </tbody>\n",
       "</table>\n",
       "</div>"
      ],
      "text/plain": [
       "   ID        Word 1     Word 2  H_Sim H_Dim  F_Sim F_Dim  N_Sim N_Dim  D_Sim  \\\n",
       "0   1     admission     ticket      3     U      3     U      3     U      3   \n",
       "1   2       alcohol  chemistry      3     D      3     D      3     D      4   \n",
       "2   3      aluminum      metal      2     I      3     S      2     I      3   \n",
       "3   4  announcement     effort      4   NaN      4   NaN      4   NaN      4   \n",
       "4   5  announcement       news      2     I      2     I      3     I      2   \n",
       "\n",
       "  D_Dim  P_Sim P_Dim  Avg     Stdev  H_orig  H_reversed  \n",
       "0     u    3.0     U  3.0  0.000000  5.5360      4.4640  \n",
       "1   NaN    3.0     H  3.2  0.447214  4.1250      5.8750  \n",
       "2     i    2.0     I  2.4  0.547723  6.6250      3.3750  \n",
       "3   NaN    4.0   NaN  4.0  0.000000  2.0625      7.9375  \n",
       "4     i    2.0     I  2.2  0.447214  7.1875      2.8125  "
      ]
     },
     "execution_count": 147,
     "metadata": {},
     "output_type": "execute_result"
    }
   ],
   "source": [
    "wordSim353AnnotDF_New.head()"
   ]
  },
  {
   "cell_type": "code",
   "execution_count": 148,
   "id": "choice-hurricane",
   "metadata": {},
   "outputs": [],
   "source": [
    "def labelSamples(score):\n",
    "    return 'I' if score <= 1.75 else 'U' if score >= 3.5 else 'M'"
   ]
  },
  {
   "cell_type": "code",
   "execution_count": 149,
   "id": "secret-photography",
   "metadata": {},
   "outputs": [],
   "source": [
    "wordSim353AnnotDF_New['category'] = wordSim353AnnotDF_New.Avg.apply(labelSamples)"
   ]
  },
  {
   "cell_type": "code",
   "execution_count": 150,
   "id": "patent-blade",
   "metadata": {},
   "outputs": [],
   "source": [
    "wordSim353AnnotDF_New2 = wordSim353AnnotDF_New[wordSim353AnnotDF_New.apply(lambda p: p['Word 1'] in embedDict and p['Word 2'] in embedDict, axis=1)]"
   ]
  },
  {
   "cell_type": "code",
   "execution_count": 151,
   "id": "referenced-gossip",
   "metadata": {},
   "outputs": [
    {
     "name": "stderr",
     "output_type": "stream",
     "text": [
      "<ipython-input-151-37f43aeff81a>:1: SettingWithCopyWarning: \n",
      "A value is trying to be set on a copy of a slice from a DataFrame.\n",
      "Try using .loc[row_indexer,col_indexer] = value instead\n",
      "\n",
      "See the caveats in the documentation: https://pandas.pydata.org/pandas-docs/stable/user_guide/indexing.html#returning-a-view-versus-a-copy\n",
      "  wordSim353AnnotDF_New2['textOld'] = wordSim353AnnotDF_New2.apply(lambda p: cosine_similarity(np.array(embedDict[p['Word 1']]).reshape(1,-1), np.array(embedDict[p['Word 2']]).reshape(1,-1))[0][0], axis=1)\n"
     ]
    }
   ],
   "source": [
    "wordSim353AnnotDF_New2['textOld'] = wordSim353AnnotDF_New2.apply(lambda p: cosine_similarity(np.array(embedDict[p['Word 1']]).reshape(1,-1), np.array(embedDict[p['Word 2']]).reshape(1,-1))[0][0], axis=1)"
   ]
  },
  {
   "cell_type": "code",
   "execution_count": 152,
   "id": "traditional-bailey",
   "metadata": {},
   "outputs": [
    {
     "name": "stderr",
     "output_type": "stream",
     "text": [
      "<ipython-input-152-8a6d0faea853>:1: SettingWithCopyWarning: \n",
      "A value is trying to be set on a copy of a slice from a DataFrame.\n",
      "Try using .loc[row_indexer,col_indexer] = value instead\n",
      "\n",
      "See the caveats in the documentation: https://pandas.pydata.org/pandas-docs/stable/user_guide/indexing.html#returning-a-view-versus-a-copy\n",
      "  wordSim353AnnotDF_New2['textNew'] = wordSim353AnnotDF_New2.apply(lambda p: cosine_similarity(np.array(newEmbedDict[p['Word 1']]).reshape(1,-1), np.array(newEmbedDict[p['Word 2']]).reshape(1,-1))[0][0], axis=1)\n"
     ]
    }
   ],
   "source": [
    "wordSim353AnnotDF_New2['textNew'] = wordSim353AnnotDF_New2.apply(lambda p: cosine_similarity(np.array(newEmbedDict[p['Word 1']]).reshape(1,-1), np.array(newEmbedDict[p['Word 2']]).reshape(1,-1))[0][0], axis=1)"
   ]
  },
  {
   "cell_type": "code",
   "execution_count": 153,
   "id": "hollow-increase",
   "metadata": {},
   "outputs": [
    {
     "data": {
      "text/html": [
       "<div>\n",
       "<style scoped>\n",
       "    .dataframe tbody tr th:only-of-type {\n",
       "        vertical-align: middle;\n",
       "    }\n",
       "\n",
       "    .dataframe tbody tr th {\n",
       "        vertical-align: top;\n",
       "    }\n",
       "\n",
       "    .dataframe thead th {\n",
       "        text-align: right;\n",
       "    }\n",
       "</style>\n",
       "<table border=\"1\" class=\"dataframe\">\n",
       "  <thead>\n",
       "    <tr style=\"text-align: right;\">\n",
       "      <th></th>\n",
       "      <th>ID</th>\n",
       "      <th>Word 1</th>\n",
       "      <th>Word 2</th>\n",
       "      <th>H_Sim</th>\n",
       "      <th>H_Dim</th>\n",
       "      <th>F_Sim</th>\n",
       "      <th>F_Dim</th>\n",
       "      <th>N_Sim</th>\n",
       "      <th>N_Dim</th>\n",
       "      <th>D_Sim</th>\n",
       "      <th>D_Dim</th>\n",
       "      <th>P_Sim</th>\n",
       "      <th>P_Dim</th>\n",
       "      <th>Avg</th>\n",
       "      <th>Stdev</th>\n",
       "      <th>H_orig</th>\n",
       "      <th>H_reversed</th>\n",
       "      <th>category</th>\n",
       "      <th>textOld</th>\n",
       "      <th>textNew</th>\n",
       "    </tr>\n",
       "  </thead>\n",
       "  <tbody>\n",
       "    <tr>\n",
       "      <th>2</th>\n",
       "      <td>3</td>\n",
       "      <td>aluminum</td>\n",
       "      <td>metal</td>\n",
       "      <td>2</td>\n",
       "      <td>I</td>\n",
       "      <td>3</td>\n",
       "      <td>S</td>\n",
       "      <td>2</td>\n",
       "      <td>I</td>\n",
       "      <td>3</td>\n",
       "      <td>i</td>\n",
       "      <td>2.0</td>\n",
       "      <td>I</td>\n",
       "      <td>2.4</td>\n",
       "      <td>0.547723</td>\n",
       "      <td>6.6250</td>\n",
       "      <td>3.3750</td>\n",
       "      <td>M</td>\n",
       "      <td>0.640705</td>\n",
       "      <td>0.768632</td>\n",
       "    </tr>\n",
       "    <tr>\n",
       "      <th>4</th>\n",
       "      <td>5</td>\n",
       "      <td>announcement</td>\n",
       "      <td>news</td>\n",
       "      <td>2</td>\n",
       "      <td>I</td>\n",
       "      <td>2</td>\n",
       "      <td>I</td>\n",
       "      <td>3</td>\n",
       "      <td>I</td>\n",
       "      <td>2</td>\n",
       "      <td>i</td>\n",
       "      <td>2.0</td>\n",
       "      <td>I</td>\n",
       "      <td>2.2</td>\n",
       "      <td>0.447214</td>\n",
       "      <td>7.1875</td>\n",
       "      <td>2.8125</td>\n",
       "      <td>M</td>\n",
       "      <td>0.855666</td>\n",
       "      <td>0.867691</td>\n",
       "    </tr>\n",
       "    <tr>\n",
       "      <th>5</th>\n",
       "      <td>6</td>\n",
       "      <td>announcement</td>\n",
       "      <td>production</td>\n",
       "      <td>4</td>\n",
       "      <td>NaN</td>\n",
       "      <td>4</td>\n",
       "      <td>NaN</td>\n",
       "      <td>4</td>\n",
       "      <td>NaN</td>\n",
       "      <td>4</td>\n",
       "      <td>NaN</td>\n",
       "      <td>4.0</td>\n",
       "      <td>NaN</td>\n",
       "      <td>4.0</td>\n",
       "      <td>0.000000</td>\n",
       "      <td>1.6875</td>\n",
       "      <td>8.3125</td>\n",
       "      <td>U</td>\n",
       "      <td>0.622575</td>\n",
       "      <td>0.690300</td>\n",
       "    </tr>\n",
       "    <tr>\n",
       "      <th>6</th>\n",
       "      <td>7</td>\n",
       "      <td>announcement</td>\n",
       "      <td>warning</td>\n",
       "      <td>2</td>\n",
       "      <td>I</td>\n",
       "      <td>3</td>\n",
       "      <td>I</td>\n",
       "      <td>3</td>\n",
       "      <td>I</td>\n",
       "      <td>3</td>\n",
       "      <td>i</td>\n",
       "      <td>2.0</td>\n",
       "      <td>I</td>\n",
       "      <td>2.6</td>\n",
       "      <td>0.547723</td>\n",
       "      <td>4.6250</td>\n",
       "      <td>5.3750</td>\n",
       "      <td>M</td>\n",
       "      <td>0.666838</td>\n",
       "      <td>0.741316</td>\n",
       "    </tr>\n",
       "    <tr>\n",
       "      <th>9</th>\n",
       "      <td>10</td>\n",
       "      <td>architecture</td>\n",
       "      <td>century</td>\n",
       "      <td>4</td>\n",
       "      <td>NaN</td>\n",
       "      <td>3</td>\n",
       "      <td>H</td>\n",
       "      <td>4</td>\n",
       "      <td>NaN</td>\n",
       "      <td>4</td>\n",
       "      <td>NaN</td>\n",
       "      <td>4.0</td>\n",
       "      <td>NaN</td>\n",
       "      <td>3.8</td>\n",
       "      <td>0.447214</td>\n",
       "      <td>1.9290</td>\n",
       "      <td>8.0710</td>\n",
       "      <td>U</td>\n",
       "      <td>0.264764</td>\n",
       "      <td>0.458752</td>\n",
       "    </tr>\n",
       "  </tbody>\n",
       "</table>\n",
       "</div>"
      ],
      "text/plain": [
       "   ID        Word 1      Word 2  H_Sim H_Dim  F_Sim F_Dim  N_Sim N_Dim  D_Sim  \\\n",
       "2   3      aluminum       metal      2     I      3     S      2     I      3   \n",
       "4   5  announcement        news      2     I      2     I      3     I      2   \n",
       "5   6  announcement  production      4   NaN      4   NaN      4   NaN      4   \n",
       "6   7  announcement     warning      2     I      3     I      3     I      3   \n",
       "9  10  architecture     century      4   NaN      3     H      4   NaN      4   \n",
       "\n",
       "  D_Dim  P_Sim P_Dim  Avg     Stdev  H_orig  H_reversed category   textOld  \\\n",
       "2     i    2.0     I  2.4  0.547723  6.6250      3.3750        M  0.640705   \n",
       "4     i    2.0     I  2.2  0.447214  7.1875      2.8125        M  0.855666   \n",
       "5   NaN    4.0   NaN  4.0  0.000000  1.6875      8.3125        U  0.622575   \n",
       "6     i    2.0     I  2.6  0.547723  4.6250      5.3750        M  0.666838   \n",
       "9   NaN    4.0   NaN  3.8  0.447214  1.9290      8.0710        U  0.264764   \n",
       "\n",
       "    textNew  \n",
       "2  0.768632  \n",
       "4  0.867691  \n",
       "5  0.690300  \n",
       "6  0.741316  \n",
       "9  0.458752  "
      ]
     },
     "execution_count": 153,
     "metadata": {},
     "output_type": "execute_result"
    }
   ],
   "source": [
    "wordSim353AnnotDF_New2.head()"
   ]
  },
  {
   "cell_type": "code",
   "execution_count": 154,
   "id": "charming-double",
   "metadata": {},
   "outputs": [
    {
     "name": "stderr",
     "output_type": "stream",
     "text": [
      "<ipython-input-154-9282f100fe8d>:1: SettingWithCopyWarning: \n",
      "A value is trying to be set on a copy of a slice from a DataFrame.\n",
      "Try using .loc[row_indexer,col_indexer] = value instead\n",
      "\n",
      "See the caveats in the documentation: https://pandas.pydata.org/pandas-docs/stable/user_guide/indexing.html#returning-a-view-versus-a-copy\n",
      "  wordSim353AnnotDF_New2['textOld'] = wordSim353AnnotDF_New2.textOld.apply(lambda p: 4 - 3 * p)\n",
      "<ipython-input-154-9282f100fe8d>:2: SettingWithCopyWarning: \n",
      "A value is trying to be set on a copy of a slice from a DataFrame.\n",
      "Try using .loc[row_indexer,col_indexer] = value instead\n",
      "\n",
      "See the caveats in the documentation: https://pandas.pydata.org/pandas-docs/stable/user_guide/indexing.html#returning-a-view-versus-a-copy\n",
      "  wordSim353AnnotDF_New2['textNew'] = wordSim353AnnotDF_New2.textNew.apply(lambda p: 4 - 3 * p)\n"
     ]
    }
   ],
   "source": [
    "wordSim353AnnotDF_New2['textOld'] = wordSim353AnnotDF_New2.textOld.apply(lambda p: 4 - 3 * p)\n",
    "wordSim353AnnotDF_New2['textNew'] = wordSim353AnnotDF_New2.textNew.apply(lambda p: 4 - 3 * p)"
   ]
  },
  {
   "cell_type": "code",
   "execution_count": 155,
   "id": "orange-justice",
   "metadata": {},
   "outputs": [
    {
     "data": {
      "text/plain": [
       "204"
      ]
     },
     "execution_count": 155,
     "metadata": {},
     "output_type": "execute_result"
    }
   ],
   "source": [
    "len(wordSim353AnnotDF_New2)"
   ]
  },
  {
   "cell_type": "code",
   "execution_count": 156,
   "id": "strong-steal",
   "metadata": {},
   "outputs": [],
   "source": [
    "import scipy.stats as stats"
   ]
  },
  {
   "cell_type": "code",
   "execution_count": 157,
   "id": "satisfied-crisis",
   "metadata": {},
   "outputs": [
    {
     "data": {
      "text/plain": [
       "KendalltauResult(correlation=0.40669723469267965, pvalue=2.159786077235558e-16)"
      ]
     },
     "execution_count": 157,
     "metadata": {},
     "output_type": "execute_result"
    }
   ],
   "source": [
    "stats.kendalltau(wordSim353AnnotDF_New2['textOld'], wordSim353AnnotDF_New2['Avg'])"
   ]
  },
  {
   "cell_type": "code",
   "execution_count": 158,
   "id": "encouraging-theorem",
   "metadata": {},
   "outputs": [
    {
     "data": {
      "text/plain": [
       "KendalltauResult(correlation=0.40392814495955587, pvalue=3.436121838707459e-16)"
      ]
     },
     "execution_count": 158,
     "metadata": {},
     "output_type": "execute_result"
    }
   ],
   "source": [
    "stats.kendalltau(wordSim353AnnotDF_New2['textNew'], wordSim353AnnotDF_New2['Avg'])"
   ]
  },
  {
   "cell_type": "code",
   "execution_count": 159,
   "id": "alert-priest",
   "metadata": {},
   "outputs": [
    {
     "data": {
      "text/plain": [
       "KendalltauResult(correlation=0.4470576546988487, pvalue=2.8893276225801627e-21)"
      ]
     },
     "execution_count": 159,
     "metadata": {},
     "output_type": "execute_result"
    }
   ],
   "source": [
    "stats.kendalltau(wordSim353AnnotDF_New2['textOld'], wordSim353AnnotDF_New2['H_reversed'])"
   ]
  },
  {
   "cell_type": "code",
   "execution_count": 160,
   "id": "genetic-visiting",
   "metadata": {},
   "outputs": [
    {
     "data": {
      "text/plain": [
       "KendalltauResult(correlation=0.4545191133336838, pvalue=6.291422918165968e-22)"
      ]
     },
     "execution_count": 160,
     "metadata": {},
     "output_type": "execute_result"
    }
   ],
   "source": [
    "stats.kendalltau(wordSim353AnnotDF_New2['textNew'], wordSim353AnnotDF_New2['H_reversed'])"
   ]
  },
  {
   "cell_type": "code",
   "execution_count": 161,
   "id": "effective-bronze",
   "metadata": {},
   "outputs": [],
   "source": [
    "from sklearn.metrics import accuracy_score"
   ]
  },
  {
   "cell_type": "code",
   "execution_count": 162,
   "id": "perfect-priority",
   "metadata": {},
   "outputs": [
    {
     "data": {
      "text/plain": [
       "0.5637254901960784"
      ]
     },
     "execution_count": 162,
     "metadata": {},
     "output_type": "execute_result"
    }
   ],
   "source": [
    "accuracy_score(wordSim353AnnotDF_New2['textOld'].apply(labelSamples), wordSim353AnnotDF_New2['category'])"
   ]
  },
  {
   "cell_type": "code",
   "execution_count": 163,
   "id": "missing-track",
   "metadata": {},
   "outputs": [
    {
     "data": {
      "text/plain": [
       "0.4803921568627451"
      ]
     },
     "execution_count": 163,
     "metadata": {},
     "output_type": "execute_result"
    }
   ],
   "source": [
    "accuracy_score(wordSim353AnnotDF_New2['textNew'].apply(labelSamples), wordSim353AnnotDF_New2['category'])"
   ]
  },
  {
   "cell_type": "markdown",
   "id": "western-easter",
   "metadata": {},
   "source": [
    "# Generate Embeddings Files"
   ]
  },
  {
   "cell_type": "code",
   "execution_count": 132,
   "id": "nervous-physiology",
   "metadata": {},
   "outputs": [],
   "source": [
    "wordList = pd.concat([wordSim353AnnotDF_New2['Word 1'], wordSim353AnnotDF_New2['Word 2']])"
   ]
  },
  {
   "cell_type": "code",
   "execution_count": 135,
   "id": "neither-hammer",
   "metadata": {},
   "outputs": [],
   "source": [
    "wordList = wordList[~wordList.duplicated()]"
   ]
  },
  {
   "cell_type": "code",
   "execution_count": 136,
   "id": "welsh-indiana",
   "metadata": {},
   "outputs": [],
   "source": [
    "wordList.apply(lambda p: \"\\t\".join([str(p1) for p1 in embedDict[p].tolist()])).to_csv('../data/wordsim353_embeddings.tsv', index=False, header=None)"
   ]
  },
  {
   "cell_type": "code",
   "execution_count": 164,
   "id": "processed-wonder",
   "metadata": {},
   "outputs": [],
   "source": [
    "wordList.apply(lambda p: \"\\t\".join([str(p1) for p1 in newEmbedDict[p].tolist()])).to_csv('../data/wordsim353_embeddings_new_attempt1.tsv', index=False, header=None)"
   ]
  },
  {
   "cell_type": "code",
   "execution_count": 138,
   "id": "psychological-template",
   "metadata": {},
   "outputs": [],
   "source": [
    "wordList.to_csv('../data/wordsim353_embeddings_words.tsv', index=False, header=None)"
   ]
  },
  {
   "cell_type": "code",
   "execution_count": null,
   "id": "prime-munich",
   "metadata": {},
   "outputs": [],
   "source": []
  },
  {
   "cell_type": "code",
   "execution_count": null,
   "id": "assigned-appliance",
   "metadata": {},
   "outputs": [],
   "source": []
  },
  {
   "cell_type": "code",
   "execution_count": null,
   "id": "severe-textbook",
   "metadata": {},
   "outputs": [],
   "source": []
  },
  {
   "cell_type": "code",
   "execution_count": null,
   "id": "prompt-orlando",
   "metadata": {},
   "outputs": [],
   "source": []
  },
  {
   "cell_type": "code",
   "execution_count": null,
   "id": "otherwise-qatar",
   "metadata": {},
   "outputs": [],
   "source": []
  },
  {
   "cell_type": "code",
   "execution_count": null,
   "id": "inclusive-brick",
   "metadata": {},
   "outputs": [],
   "source": []
  },
  {
   "cell_type": "code",
   "execution_count": null,
   "id": "micro-kernel",
   "metadata": {},
   "outputs": [],
   "source": []
  },
  {
   "cell_type": "code",
   "execution_count": null,
   "id": "optical-atlas",
   "metadata": {},
   "outputs": [],
   "source": []
  },
  {
   "cell_type": "code",
   "execution_count": null,
   "id": "assured-means",
   "metadata": {},
   "outputs": [],
   "source": []
  },
  {
   "cell_type": "code",
   "execution_count": null,
   "id": "after-fever",
   "metadata": {},
   "outputs": [],
   "source": []
  },
  {
   "cell_type": "code",
   "execution_count": null,
   "id": "opened-baker",
   "metadata": {},
   "outputs": [],
   "source": []
  },
  {
   "cell_type": "code",
   "execution_count": null,
   "id": "supposed-charm",
   "metadata": {},
   "outputs": [],
   "source": []
  }
 ],
 "metadata": {
  "kernelspec": {
   "display_name": "kgtkEnv",
   "language": "python",
   "name": "kgtkenv"
  },
  "language_info": {
   "codemirror_mode": {
    "name": "ipython",
    "version": 3
   },
   "file_extension": ".py",
   "mimetype": "text/x-python",
   "name": "python",
   "nbconvert_exporter": "python",
   "pygments_lexer": "ipython3",
   "version": "3.8.5"
  },
  "toc": {
   "base_numbering": 1,
   "nav_menu": {},
   "number_sections": true,
   "sideBar": true,
   "skip_h1_title": false,
   "title_cell": "Table of Contents",
   "title_sidebar": "Contents",
   "toc_cell": false,
   "toc_position": {},
   "toc_section_display": true,
   "toc_window_display": false
  },
  "varInspector": {
   "cols": {
    "lenName": 16,
    "lenType": 16,
    "lenVar": 40
   },
   "kernels_config": {
    "python": {
     "delete_cmd_postfix": "",
     "delete_cmd_prefix": "del ",
     "library": "var_list.py",
     "varRefreshCmd": "print(var_dic_list())"
    },
    "r": {
     "delete_cmd_postfix": ") ",
     "delete_cmd_prefix": "rm(",
     "library": "var_list.r",
     "varRefreshCmd": "cat(var_dic_list()) "
    }
   },
   "types_to_exclude": [
    "module",
    "function",
    "builtin_function_or_method",
    "instance",
    "_Feature"
   ],
   "window_display": false
  }
 },
 "nbformat": 4,
 "nbformat_minor": 5
}
