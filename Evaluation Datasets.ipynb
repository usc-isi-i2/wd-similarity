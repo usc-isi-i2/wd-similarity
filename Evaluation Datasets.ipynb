{
 "cells": [
  {
   "cell_type": "code",
   "execution_count": 20,
   "id": "ultimate-subscriber",
   "metadata": {},
   "outputs": [],
   "source": [
    "import pandas as pd\n",
    "from tqdm.notebook import tqdm\n",
    "import gzip\n",
    "import os\n",
    "from sklearn.metrics.pairwise import cosine_similarity\n",
    "from matplotlib import pyplot\n",
    "from itertools import combinations\n",
    "import random"
   ]
  },
  {
   "cell_type": "code",
   "execution_count": 3,
   "id": "democratic-memorial",
   "metadata": {},
   "outputs": [],
   "source": [
    "LABELS_FILE = \"../source_dataset_files/wikidata-20210215-dwd-v2/labels.en.tsv.gz\"\n",
    "ALL_EDGES_FILE = \"../source_dataset_files/wikidata-20210215-dwd-v2/claims.tsv.gz\""
   ]
  },
  {
   "cell_type": "code",
   "execution_count": 26,
   "id": "perceived-robert",
   "metadata": {},
   "outputs": [],
   "source": [
    "CONCEPTNET_SOURCE_FILE = \"../data/evaluation/source_files/kgtk_conceptnet.tsv\"\n",
    "CONCEPTNET_INTERM_FILE = \"../data/evaluation/intermediate_files/kgtk_conceptnet.csv\"\n",
    "CONCEPTNET_FINAL_FILE = \"../data/evaluation/kgtk_conceptnet_final.csv\""
   ]
  },
  {
   "cell_type": "code",
   "execution_count": 65,
   "id": "southeast-liberty",
   "metadata": {},
   "outputs": [],
   "source": [
    "WIKI_CS_SOURCE_FILE = '../data/evaluation/source_files/wikidata-cs-20200504.tsv'\n",
    "WIKI_CS_INTERM_FILE = '../data/evaluation/intermediate_files/wikidata-cs_categorized.csv'\n",
    "WIKI_CS_FINAL_FILE = '../data/evaluation/wikidata-cs_final.csv'"
   ]
  },
  {
   "cell_type": "code",
   "execution_count": 57,
   "id": "automatic-rotation",
   "metadata": {},
   "outputs": [],
   "source": [
    "def uniformize_dataset(wikiDF):\n",
    "    needed_size = len(wikiDF[wikiDF.category == 'I'])\n",
    "    M_sampled_set = wikiDF[wikiDF.category == 'M'].sample(needed_size, random_state=13)\n",
    "    subset = wikiDF[wikiDF.category == 'M']\n",
    "    mainset = wikiDF\n",
    "    \n",
    "    mainset_pairs = set([(row['word1_kg_id'], row['word2_kg_id']) for _,row in mainset.iterrows()])\n",
    "    nodes = set([row['word1_kg_id'] for _,row in subset.iterrows()] \n",
    "            + [row['word2_kg_id'] for _,row in subset.iterrows()])\n",
    "    node_label_mappings = {row['word1_kg_id']: row['node1;label'] for _, row in subset.iterrows()}\n",
    "    node_label_mappings.update({row['word2_kg_id']: row['node2;label'] for _, row in subset.iterrows()})\n",
    "    \n",
    "    all_pairs = set([pair for pair in random.sample(list(combinations(list(nodes), 2)), 10*needed_size)])\n",
    "    removed_pairs = set()\n",
    "\n",
    "    first_line = True\n",
    "    \n",
    "    with gzip.open(ALL_EDGES_FILE, 'r') as claims_file:\n",
    "        for line in tqdm(claims_file, total=491297976): #, total=1034927835):\n",
    "            if first_line:\n",
    "                first_line = False\n",
    "                continue\n",
    "            line = line.decode(\"utf-8\").strip().split('\\t')\n",
    "            curr_pair = (line[1], line[3])\n",
    "            if curr_pair in all_pairs:\n",
    "                removed_pairs.add(curr_pair)\n",
    "    newDF = []\n",
    "    count = 0\n",
    "    \n",
    "    for pair in all_pairs - removed_pairs - mainset_pairs:\n",
    "        if pair is None or pair[0] is None or pair[1] is None:\n",
    "            continue\n",
    "        try:\n",
    "            newDF.append((pair[0], pair[1], 'U', node_label_mappings.get(pair[0],\"\"), node_label_mappings.get(pair[1],\"\"), None, None, None, None, None))\n",
    "            count += 1\n",
    "            if count == needed_size:\n",
    "                break\n",
    "        except:\n",
    "            print(f\"Error while processing pair: {pair}\")\n",
    "            \n",
    "    return pd.concat([\n",
    "            wikiDF[wikiDF.category == 'I'],\n",
    "            M_sampled_set,\n",
    "            pd.DataFrame(newDF, columns=subset.columns)\n",
    "        ])"
   ]
  },
  {
   "cell_type": "markdown",
   "id": "accredited-consistency",
   "metadata": {},
   "source": [
    "# ConceptNet"
   ]
  },
  {
   "cell_type": "code",
   "execution_count": 52,
   "id": "steady-mitchell",
   "metadata": {},
   "outputs": [
    {
     "data": {
      "application/vnd.jupyter.widget-view+json": {
       "model_id": "beb4ee57be0a42afaedfece6dac99064",
       "version_major": 2,
       "version_minor": 0
      },
      "text/plain": [
       "0it [00:00, ?it/s]"
      ]
     },
     "metadata": {},
     "output_type": "display_data"
    },
    {
     "name": "stdout",
     "output_type": "stream",
     "text": [
      "No. of conceptNet nodes fetched:  1165190\n"
     ]
    },
    {
     "data": {
      "application/vnd.jupyter.widget-view+json": {
       "model_id": "8bc3ec3c5db74a4eb8c6ba97d08a7a31",
       "version_major": 2,
       "version_minor": 0
      },
      "text/plain": [
       "0it [00:00, ?it/s]"
      ]
     },
     "metadata": {},
     "output_type": "display_data"
    }
   ],
   "source": [
    "labelsMap = {}\n",
    "with open(CONCEPTNET_SOURCE_FILE) as conceptFile:\n",
    "    firstLine = True\n",
    "    for line in tqdm(conceptFile):\n",
    "        if firstLine:\n",
    "            firstLine = False\n",
    "            continue\n",
    "        line = line.split('\\t')\n",
    "        labelsMap[line[3][1:-1]] = None\n",
    "        labelsMap[line[4][1:-1]] = None\n",
    "print(\"No. of conceptNet nodes fetched: \",len(labelsMap))\n",
    "with gzip.open(LABELS_FILE, 'r') as labelsFile:\n",
    "    firstLine = True\n",
    "    for line in tqdm(labelsFile):\n",
    "        if firstLine:\n",
    "            firstLine = False\n",
    "            continue\n",
    "        line = line.decode('utf-8').strip().split('\\t')\n",
    "        line[3] = line[3][1:-5]\n",
    "        qnode, label = line[1], line[3]\n",
    "#         print(qnode, label)\n",
    "        if label in labelsMap:\n",
    "            if labelsMap[label] == None:\n",
    "                labelsMap[label] = []\n",
    "            labelsMap[label].append(qnode)"
   ]
  },
  {
   "cell_type": "code",
   "execution_count": 53,
   "id": "studied-pharmacology",
   "metadata": {},
   "outputs": [],
   "source": [
    "def fetchQnode(label):\n",
    "    if pd.isna(label):\n",
    "        return None\n",
    "    label = label[1:-1]\n",
    "    if label not in labelsMap:\n",
    "        return None\n",
    "    else:\n",
    "        return labelsMap[label]"
   ]
  },
  {
   "cell_type": "code",
   "execution_count": 54,
   "id": "imperial-genetics",
   "metadata": {},
   "outputs": [
    {
     "name": "stderr",
     "output_type": "stream",
     "text": [
      "/nas/home/kshenoy/miniconda3/envs/kgtkEnv/lib/python3.8/site-packages/IPython/core/interactiveshell.py:3165: DtypeWarning: Columns (8) have mixed types.Specify dtype option on import or set low_memory=False.\n",
      "  has_raised = await self.run_ast_nodes(code_ast.body, cell_name,\n"
     ]
    },
    {
     "name": "stdout",
     "output_type": "stream",
     "text": [
      "Concept Net dataset size reduced from 3423004 pairs to 99052 pairs\n"
     ]
    },
    {
     "name": "stderr",
     "output_type": "stream",
     "text": [
      "<ipython-input-54-009d05c37ef7>:6: SettingWithCopyWarning: \n",
      "A value is trying to be set on a copy of a slice from a DataFrame.\n",
      "Try using .loc[row_indexer,col_indexer] = value instead\n",
      "\n",
      "See the caveats in the documentation: https://pandas.pydata.org/pandas-docs/stable/user_guide/indexing.html#returning-a-view-versus-a-copy\n",
      "  conceptDF1['node1;qnode;len'] = conceptDF1['node1;qnode'].apply(len)\n",
      "<ipython-input-54-009d05c37ef7>:7: SettingWithCopyWarning: \n",
      "A value is trying to be set on a copy of a slice from a DataFrame.\n",
      "Try using .loc[row_indexer,col_indexer] = value instead\n",
      "\n",
      "See the caveats in the documentation: https://pandas.pydata.org/pandas-docs/stable/user_guide/indexing.html#returning-a-view-versus-a-copy\n",
      "  conceptDF1['node2;qnode;len'] = conceptDF1['node2;qnode'].apply(len)\n"
     ]
    },
    {
     "name": "stdout",
     "output_type": "stream",
     "text": [
      "Concept Net dataset size reduced from 99052 pairs to 2084 pairs by keeping only pairs which have one-one mapping with qnodes\n"
     ]
    },
    {
     "data": {
      "text/plain": [
       "related to                   758\n",
       "synonym                      708\n",
       "form of                      219\n",
       "etymologically related to     82\n",
       "derived from                  77\n",
       "is a                          63\n",
       "has context                   45\n",
       "at location                   29\n",
       "antonym                       15\n",
       "manner of                     15\n",
       "similar to                    15\n",
       "part of                       12\n",
       "causes                         9\n",
       "distinct from                  6\n",
       "used for                       5\n",
       "receives action                4\n",
       "has prerequisite               4\n",
       "genus                          2\n",
       "has a                          2\n",
       "instance of                    2\n",
       "has subevent                   2\n",
       "capital                        2\n",
       "motivated by goal              2\n",
       "has last subevent              1\n",
       "has property                   1\n",
       "causes desire                  1\n",
       "genre                          1\n",
       "has first subevent             1\n",
       "language                       1\n",
       "Name: relation;label, dtype: int64"
      ]
     },
     "execution_count": 54,
     "metadata": {},
     "output_type": "execute_result"
    }
   ],
   "source": [
    "conceptDF = pd.read_csv(CONCEPTNET_SOURCE_FILE, sep='\\t')\n",
    "conceptDF['node1;qnode'] = conceptDF['node1;label'].apply(fetchQnode)\n",
    "conceptDF['node2;qnode'] = conceptDF['node2;label'].apply(fetchQnode)\n",
    "conceptDF1 = conceptDF[(~conceptDF['node1;qnode'].isna()) & (~conceptDF['node2;qnode'].isna())]\n",
    "print(f\"Concept Net dataset size reduced from {len(conceptDF)} pairs to {len(conceptDF1)} pairs\")\n",
    "conceptDF1['node1;qnode;len'] = conceptDF1['node1;qnode'].apply(len)\n",
    "conceptDF1['node2;qnode;len'] = conceptDF1['node2;qnode'].apply(len)\n",
    "conceptDF2 = conceptDF1[(conceptDF1['node1;qnode;len'] == 1) & (conceptDF1['node2;qnode;len'] == 1)]\n",
    "print(f\"Concept Net dataset size reduced from {len(conceptDF1)} pairs to {len(conceptDF2)} pairs by keeping only pairs which have one-one mapping with qnodes\")\n",
    "conceptDF2['relation;label'].value_counts()"
   ]
  },
  {
   "cell_type": "code",
   "execution_count": 55,
   "id": "elder-final",
   "metadata": {},
   "outputs": [
    {
     "name": "stderr",
     "output_type": "stream",
     "text": [
      "<ipython-input-55-ffe0073c31e5>:1: SettingWithCopyWarning: \n",
      "A value is trying to be set on a copy of a slice from a DataFrame.\n",
      "Try using .loc[row_indexer,col_indexer] = value instead\n",
      "\n",
      "See the caveats in the documentation: https://pandas.pydata.org/pandas-docs/stable/user_guide/indexing.html#returning-a-view-versus-a-copy\n",
      "  conceptDF2['category'] = conceptDF2['relation;label'].apply(lambda p: 'I' if p == 'synonym' or p == 'similar to' else 'M')\n",
      "<ipython-input-55-ffe0073c31e5>:3: SettingWithCopyWarning: \n",
      "A value is trying to be set on a copy of a slice from a DataFrame.\n",
      "Try using .loc[row_indexer,col_indexer] = value instead\n",
      "\n",
      "See the caveats in the documentation: https://pandas.pydata.org/pandas-docs/stable/user_guide/indexing.html#returning-a-view-versus-a-copy\n",
      "  conceptDF2['word1_kg_id'] = conceptDF2['node1;qnode'].apply(lambda p: p[0])\n",
      "<ipython-input-55-ffe0073c31e5>:4: SettingWithCopyWarning: \n",
      "A value is trying to be set on a copy of a slice from a DataFrame.\n",
      "Try using .loc[row_indexer,col_indexer] = value instead\n",
      "\n",
      "See the caveats in the documentation: https://pandas.pydata.org/pandas-docs/stable/user_guide/indexing.html#returning-a-view-versus-a-copy\n",
      "  conceptDF2['word2_kg_id'] = conceptDF2['node2;qnode'].apply(lambda p: p[0])\n"
     ]
    }
   ],
   "source": [
    "conceptDF2['category'] = conceptDF2['relation;label'].apply(lambda p: 'I' if p == 'synonym' or p == 'similar to' else 'M')\n",
    "conceptDF2['relation;label'].apply(lambda p: 'I' if p == 'synonym' or p == 'similar to' else 'M').value_counts()\n",
    "conceptDF2['word1_kg_id'] = conceptDF2['node1;qnode'].apply(lambda p: p[0])\n",
    "conceptDF2['word2_kg_id'] = conceptDF2['node2;qnode'].apply(lambda p: p[0])\n",
    "conceptDF2[['word1_kg_id', 'word2_kg_id', 'category', 'node1;label', 'node2;label', 'relation', 'relation;label', 'relation;dimension', 'source', 'sentence']].to_csv(CONCEPTNET_INTERM_FILE, index=None)"
   ]
  },
  {
   "cell_type": "code",
   "execution_count": 58,
   "id": "distinguished-mustang",
   "metadata": {},
   "outputs": [
    {
     "data": {
      "application/vnd.jupyter.widget-view+json": {
       "model_id": "18277bf62d5e4098a980327e5a94f8a4",
       "version_major": 2,
       "version_minor": 0
      },
      "text/plain": [
       "  0%|          | 0/491297976 [00:00<?, ?it/s]"
      ]
     },
     "metadata": {},
     "output_type": "display_data"
    }
   ],
   "source": [
    "conceptnet_uniform_df = uniformize_dataset(pd.read_csv(CONCEPTNET_INTERM_FILE))"
   ]
  },
  {
   "cell_type": "code",
   "execution_count": 61,
   "id": "exact-birthday",
   "metadata": {},
   "outputs": [],
   "source": [
    "conceptnet_uniform_df.to_csv(CONCEPTNET_FINAL_FILE, index=None)"
   ]
  },
  {
   "cell_type": "code",
   "execution_count": 62,
   "id": "equivalent-creek",
   "metadata": {},
   "outputs": [
    {
     "data": {
      "text/plain": [
       "I    723\n",
       "U    723\n",
       "M    723\n",
       "Name: category, dtype: int64"
      ]
     },
     "execution_count": 62,
     "metadata": {},
     "output_type": "execute_result"
    }
   ],
   "source": [
    "conceptnet_uniform_df.category.value_counts()"
   ]
  },
  {
   "cell_type": "code",
   "execution_count": 67,
   "id": "eastern-cargo",
   "metadata": {},
   "outputs": [
    {
     "data": {
      "text/html": [
       "<div>\n",
       "<style scoped>\n",
       "    .dataframe tbody tr th:only-of-type {\n",
       "        vertical-align: middle;\n",
       "    }\n",
       "\n",
       "    .dataframe tbody tr th {\n",
       "        vertical-align: top;\n",
       "    }\n",
       "\n",
       "    .dataframe thead th {\n",
       "        text-align: right;\n",
       "    }\n",
       "</style>\n",
       "<table border=\"1\" class=\"dataframe\">\n",
       "  <thead>\n",
       "    <tr style=\"text-align: right;\">\n",
       "      <th></th>\n",
       "      <th>word1_kg_id</th>\n",
       "      <th>word2_kg_id</th>\n",
       "      <th>category</th>\n",
       "      <th>node1;label</th>\n",
       "      <th>node2;label</th>\n",
       "      <th>relation</th>\n",
       "      <th>relation;label</th>\n",
       "      <th>relation;dimension</th>\n",
       "      <th>source</th>\n",
       "      <th>sentence</th>\n",
       "    </tr>\n",
       "  </thead>\n",
       "  <tbody>\n",
       "    <tr>\n",
       "      <th>1350</th>\n",
       "      <td>Q29736947</td>\n",
       "      <td>Q50414211</td>\n",
       "      <td>I</td>\n",
       "      <td>arco</td>\n",
       "      <td>bowed</td>\n",
       "      <td>/r/SimilarTo</td>\n",
       "      <td>similar to</td>\n",
       "      <td>NaN</td>\n",
       "      <td>CN</td>\n",
       "      <td>[[arco]] is similar to [[bowed]]</td>\n",
       "    </tr>\n",
       "    <tr>\n",
       "      <th>1351</th>\n",
       "      <td>Q29782278</td>\n",
       "      <td>Q12835706</td>\n",
       "      <td>I</td>\n",
       "      <td>auxo</td>\n",
       "      <td>thallo</td>\n",
       "      <td>/r/SimilarTo</td>\n",
       "      <td>similar to</td>\n",
       "      <td>NaN</td>\n",
       "      <td>CN</td>\n",
       "      <td>NaN</td>\n",
       "    </tr>\n",
       "    <tr>\n",
       "      <th>1352</th>\n",
       "      <td>Q50414211</td>\n",
       "      <td>Q29736947</td>\n",
       "      <td>I</td>\n",
       "      <td>bowed</td>\n",
       "      <td>arco</td>\n",
       "      <td>/r/SimilarTo</td>\n",
       "      <td>similar to</td>\n",
       "      <td>NaN</td>\n",
       "      <td>CN</td>\n",
       "      <td>[[bowed]] is similar to [[arco]]</td>\n",
       "    </tr>\n",
       "    <tr>\n",
       "      <th>1353</th>\n",
       "      <td>Q1146652</td>\n",
       "      <td>Q12835706</td>\n",
       "      <td>I</td>\n",
       "      <td>dike</td>\n",
       "      <td>thallo</td>\n",
       "      <td>/r/SimilarTo</td>\n",
       "      <td>similar to</td>\n",
       "      <td>NaN</td>\n",
       "      <td>CN</td>\n",
       "      <td>NaN</td>\n",
       "    </tr>\n",
       "    <tr>\n",
       "      <th>1354</th>\n",
       "      <td>Q61504726</td>\n",
       "      <td>Q3366001</td>\n",
       "      <td>I</td>\n",
       "      <td>empty</td>\n",
       "      <td>stripped</td>\n",
       "      <td>/r/SimilarTo</td>\n",
       "      <td>similar to</td>\n",
       "      <td>NaN</td>\n",
       "      <td>CN</td>\n",
       "      <td>[[empty]] is similar to [[stripped]]</td>\n",
       "    </tr>\n",
       "    <tr>\n",
       "      <th>...</th>\n",
       "      <td>...</td>\n",
       "      <td>...</td>\n",
       "      <td>...</td>\n",
       "      <td>...</td>\n",
       "      <td>...</td>\n",
       "      <td>...</td>\n",
       "      <td>...</td>\n",
       "      <td>...</td>\n",
       "      <td>...</td>\n",
       "      <td>...</td>\n",
       "    </tr>\n",
       "    <tr>\n",
       "      <th>2025</th>\n",
       "      <td>Q190527</td>\n",
       "      <td>Q2655953</td>\n",
       "      <td>I</td>\n",
       "      <td>value</td>\n",
       "      <td>prize</td>\n",
       "      <td>/r/Synonym</td>\n",
       "      <td>synonym</td>\n",
       "      <td>NaN</td>\n",
       "      <td>CN</td>\n",
       "      <td>[[value]] is a synonym of [[prize]]</td>\n",
       "    </tr>\n",
       "    <tr>\n",
       "      <th>2037</th>\n",
       "      <td>Q1128240</td>\n",
       "      <td>P3828</td>\n",
       "      <td>I</td>\n",
       "      <td>weary</td>\n",
       "      <td>aweary</td>\n",
       "      <td>/r/Synonym</td>\n",
       "      <td>synonym</td>\n",
       "      <td>NaN</td>\n",
       "      <td>CN</td>\n",
       "      <td>[[weary]] is a synonym of [[aweary]]</td>\n",
       "    </tr>\n",
       "    <tr>\n",
       "      <th>2038</th>\n",
       "      <td>Q1128240</td>\n",
       "      <td>Q29713327</td>\n",
       "      <td>I</td>\n",
       "      <td>weary</td>\n",
       "      <td>tire</td>\n",
       "      <td>/r/Synonym</td>\n",
       "      <td>synonym</td>\n",
       "      <td>NaN</td>\n",
       "      <td>CN</td>\n",
       "      <td>[[weary]] is a synonym of [[tire]]</td>\n",
       "    </tr>\n",
       "    <tr>\n",
       "      <th>2045</th>\n",
       "      <td>Q103859907</td>\n",
       "      <td>Q213449</td>\n",
       "      <td>I</td>\n",
       "      <td>whipping</td>\n",
       "      <td>beating</td>\n",
       "      <td>/r/Synonym</td>\n",
       "      <td>synonym</td>\n",
       "      <td>NaN</td>\n",
       "      <td>CN</td>\n",
       "      <td>[[whipping]] is a synonym of [[beating]]</td>\n",
       "    </tr>\n",
       "    <tr>\n",
       "      <th>2059</th>\n",
       "      <td>Q1128240</td>\n",
       "      <td>Q97138958</td>\n",
       "      <td>I</td>\n",
       "      <td>years</td>\n",
       "      <td>days</td>\n",
       "      <td>/r/Synonym</td>\n",
       "      <td>synonym</td>\n",
       "      <td>NaN</td>\n",
       "      <td>CN</td>\n",
       "      <td>[[years]] is a synonym of [[days]]</td>\n",
       "    </tr>\n",
       "  </tbody>\n",
       "</table>\n",
       "<p>76 rows × 10 columns</p>\n",
       "</div>"
      ],
      "text/plain": [
       "     word1_kg_id word2_kg_id category node1;label node2;label      relation  \\\n",
       "1350   Q29736947   Q50414211        I        arco       bowed  /r/SimilarTo   \n",
       "1351   Q29782278   Q12835706        I        auxo      thallo  /r/SimilarTo   \n",
       "1352   Q50414211   Q29736947        I       bowed        arco  /r/SimilarTo   \n",
       "1353    Q1146652   Q12835706        I        dike      thallo  /r/SimilarTo   \n",
       "1354   Q61504726    Q3366001        I       empty    stripped  /r/SimilarTo   \n",
       "...          ...         ...      ...         ...         ...           ...   \n",
       "2025     Q190527    Q2655953        I       value       prize    /r/Synonym   \n",
       "2037    Q1128240       P3828        I       weary      aweary    /r/Synonym   \n",
       "2038    Q1128240   Q29713327        I       weary        tire    /r/Synonym   \n",
       "2045  Q103859907     Q213449        I    whipping     beating    /r/Synonym   \n",
       "2059    Q1128240   Q97138958        I       years        days    /r/Synonym   \n",
       "\n",
       "     relation;label relation;dimension source  \\\n",
       "1350     similar to                NaN     CN   \n",
       "1351     similar to                NaN     CN   \n",
       "1352     similar to                NaN     CN   \n",
       "1353     similar to                NaN     CN   \n",
       "1354     similar to                NaN     CN   \n",
       "...             ...                ...    ...   \n",
       "2025        synonym                NaN     CN   \n",
       "2037        synonym                NaN     CN   \n",
       "2038        synonym                NaN     CN   \n",
       "2045        synonym                NaN     CN   \n",
       "2059        synonym                NaN     CN   \n",
       "\n",
       "                                      sentence  \n",
       "1350          [[arco]] is similar to [[bowed]]  \n",
       "1351                                       NaN  \n",
       "1352          [[bowed]] is similar to [[arco]]  \n",
       "1353                                       NaN  \n",
       "1354      [[empty]] is similar to [[stripped]]  \n",
       "...                                        ...  \n",
       "2025       [[value]] is a synonym of [[prize]]  \n",
       "2037      [[weary]] is a synonym of [[aweary]]  \n",
       "2038        [[weary]] is a synonym of [[tire]]  \n",
       "2045  [[whipping]] is a synonym of [[beating]]  \n",
       "2059        [[years]] is a synonym of [[days]]  \n",
       "\n",
       "[76 rows x 10 columns]"
      ]
     },
     "execution_count": 67,
     "metadata": {},
     "output_type": "execute_result"
    }
   ],
   "source": [
    "conceptnet_uniform_df[(conceptnet_uniform_df.category == 'I') & (conceptnet_uniform_df.word1_kg_id != conceptnet_uniform_df.word2_kg_id)].head(100)"
   ]
  },
  {
   "cell_type": "markdown",
   "id": "structural-league",
   "metadata": {},
   "source": [
    "# Wiki-CS"
   ]
  },
  {
   "cell_type": "code",
   "execution_count": 41,
   "id": "incomplete-range",
   "metadata": {},
   "outputs": [
    {
     "data": {
      "text/plain": [
       "inheritance     72707\n",
       "meronymy         6886\n",
       "context          5541\n",
       "distinctness     4934\n",
       "utility          2243\n",
       "antonymy         2184\n",
       "ordering         2107\n",
       "material         1426\n",
       "synonymy         1070\n",
       "properties       1049\n",
       "derivation        540\n",
       "causation         510\n",
       "similarity        345\n",
       "attribution       187\n",
       "other              42\n",
       "Name: dim, dtype: int64"
      ]
     },
     "execution_count": 41,
     "metadata": {},
     "output_type": "execute_result"
    }
   ],
   "source": [
    "wikiDF = pd.read_csv(WIKI_CS_SOURCE_FILE,sep='\\t')\n",
    "mapper1 = {'/r/DistinctFrom': 'distinctness',\n",
    "          '/r/Antonym': 'antonymy',\n",
    "          '/r/Synonym': 'synonymy',\n",
    "          '/r/SimilarTo': 'similarity',\n",
    "          '/r/DerivedFrom': 'derivation',\n",
    "          '/r/IsA': 'inheritance',\n",
    "          '/r/PartOf': 'meronymy',\n",
    "          '/r/MadeOf': 'material',\n",
    "          '/r/CreatedBy': 'attribution',\n",
    "          '/r/UsedFor': 'utility',\n",
    "          '/r/HasProperty': 'properties',\n",
    "          '/r/Causes': 'causation',\n",
    "          '/r/HasPrerequisite': 'ordering',\n",
    "          '/r/HasContext': 'context',\n",
    "          '/r/RelatedTo': 'other'}\n",
    "\n",
    "wikiDF['dim'] = wikiDF['relation'].apply(lambda p: mapper1[p])\n",
    "wikiDF['category'] = wikiDF['dim'].apply(lambda p: 'I' if p == 'synonymy' or p == 'similarity' else 'M')\n",
    "wikiDF['dim'].value_counts()"
   ]
  },
  {
   "cell_type": "code",
   "execution_count": 42,
   "id": "practical-credits",
   "metadata": {},
   "outputs": [
    {
     "data": {
      "text/plain": [
       "M    100701\n",
       "I      1070\n",
       "Name: dim, dtype: int64"
      ]
     },
     "execution_count": 42,
     "metadata": {},
     "output_type": "execute_result"
    }
   ],
   "source": [
    "wikiDF['dim'].apply(lambda p: 'I' if p == 'synonymy' else 'M').value_counts()"
   ]
  },
  {
   "cell_type": "code",
   "execution_count": 43,
   "id": "agreed-strand",
   "metadata": {},
   "outputs": [
    {
     "data": {
      "text/plain": [
       "M    100110\n",
       "I      1415\n",
       "Name: category, dtype: int64"
      ]
     },
     "execution_count": 43,
     "metadata": {},
     "output_type": "execute_result"
    }
   ],
   "source": [
    "wikiDF1 = wikiDF[wikiDF.apply(lambda p: p['node1'].startswith('Q') and p['node2'].startswith('Q'), axis=1)]\n",
    "wikiDF1.category.value_counts()"
   ]
  },
  {
   "cell_type": "code",
   "execution_count": 51,
   "id": "secondary-episode",
   "metadata": {},
   "outputs": [],
   "source": [
    "wikiDF1 = wikiDF1.rename(columns={'node1':'word1_kg_id', 'node2':'word2_kg_id'})\n",
    "wikiDF1[['word1_kg_id', 'word2_kg_id', 'category', 'node1;label', 'node2;label', 'relation', 'relation;label', 'relation;dimension', 'source', 'sentence']].to_csv(WIKI_CS_INTERM_FILE,index=None)"
   ]
  },
  {
   "cell_type": "code",
   "execution_count": 59,
   "id": "artificial-fantasy",
   "metadata": {},
   "outputs": [
    {
     "data": {
      "application/vnd.jupyter.widget-view+json": {
       "model_id": "c0dd5091b52c44849cf5dbfd30090864",
       "version_major": 2,
       "version_minor": 0
      },
      "text/plain": [
       "  0%|          | 0/491297976 [00:00<?, ?it/s]"
      ]
     },
     "metadata": {},
     "output_type": "display_data"
    }
   ],
   "source": [
    "wikiCS_uniform_df = uniformize_dataset(pd.read_csv(WIKI_CS_INTERM_FILE))"
   ]
  },
  {
   "cell_type": "code",
   "execution_count": 66,
   "id": "informative-section",
   "metadata": {},
   "outputs": [],
   "source": [
    "wikiCS_uniform_df.to_csv(WIKI_CS_FINAL_FILE, index=None)"
   ]
  },
  {
   "cell_type": "code",
   "execution_count": 63,
   "id": "strong-romance",
   "metadata": {},
   "outputs": [
    {
     "data": {
      "text/plain": [
       "M    1415\n",
       "I    1415\n",
       "U    1415\n",
       "Name: category, dtype: int64"
      ]
     },
     "execution_count": 63,
     "metadata": {},
     "output_type": "execute_result"
    }
   ],
   "source": [
    "wikiCS_uniform_df.category.value_counts()"
   ]
  },
  {
   "cell_type": "code",
   "execution_count": null,
   "id": "discrete-theory",
   "metadata": {},
   "outputs": [],
   "source": []
  },
  {
   "cell_type": "code",
   "execution_count": null,
   "id": "convinced-intro",
   "metadata": {},
   "outputs": [],
   "source": []
  }
 ],
 "metadata": {
  "kernelspec": {
   "display_name": "kgtkEnv",
   "language": "python",
   "name": "kgtkenv"
  },
  "language_info": {
   "codemirror_mode": {
    "name": "ipython",
    "version": 3
   },
   "file_extension": ".py",
   "mimetype": "text/x-python",
   "name": "python",
   "nbconvert_exporter": "python",
   "pygments_lexer": "ipython3",
   "version": "3.8.5"
  },
  "toc": {
   "base_numbering": 1,
   "nav_menu": {},
   "number_sections": true,
   "sideBar": true,
   "skip_h1_title": false,
   "title_cell": "Table of Contents",
   "title_sidebar": "Contents",
   "toc_cell": false,
   "toc_position": {},
   "toc_section_display": true,
   "toc_window_display": true
  },
  "varInspector": {
   "cols": {
    "lenName": 16,
    "lenType": 16,
    "lenVar": 40
   },
   "kernels_config": {
    "python": {
     "delete_cmd_postfix": "",
     "delete_cmd_prefix": "del ",
     "library": "var_list.py",
     "varRefreshCmd": "print(var_dic_list())"
    },
    "r": {
     "delete_cmd_postfix": ") ",
     "delete_cmd_prefix": "rm(",
     "library": "var_list.r",
     "varRefreshCmd": "cat(var_dic_list()) "
    }
   },
   "types_to_exclude": [
    "module",
    "function",
    "builtin_function_or_method",
    "instance",
    "_Feature"
   ],
   "window_display": false
  }
 },
 "nbformat": 4,
 "nbformat_minor": 5
}
