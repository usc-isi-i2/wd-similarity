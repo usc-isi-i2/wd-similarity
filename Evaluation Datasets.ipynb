{
 "cells": [
  {
   "cell_type": "code",
   "execution_count": 2,
   "id": "ultimate-subscriber",
   "metadata": {},
   "outputs": [],
   "source": [
    "import pandas as pd\n",
    "from tqdm.notebook import tqdm\n",
    "import gzip\n",
    "import os\n",
    "from sklearn.metrics.pairwise import cosine_similarity\n",
    "from matplotlib import pyplot\n",
    "from itertools import combinations\n",
    "import random"
   ]
  },
  {
   "cell_type": "code",
   "execution_count": 3,
   "id": "democratic-memorial",
   "metadata": {},
   "outputs": [],
   "source": [
    "LABELS_FILE = \"../source_dataset_files/wikidata-20210215-dwd-v2/labels.en.tsv.gz\"\n",
    "ALL_EDGES_FILE = \"../source_dataset_files/wikidata-20210215-dwd-v2/claims.tsv.gz\""
   ]
  },
  {
   "cell_type": "code",
   "execution_count": 24,
   "id": "covered-flashing",
   "metadata": {},
   "outputs": [],
   "source": [
    "# wikidata-20201208 files\n",
    "# https://drive.google.com/drive/u/3/folders/1qbbgjo7pddMdDvQzOSeSaL6lYwj_f5gi\n",
    "SITELINKS_FILE_V2 = \"../source_dataset_files/wikidata-20201208/sitelinks.en.tsv.gz\""
   ]
  },
  {
   "cell_type": "code",
   "execution_count": 4,
   "id": "improving-prototype",
   "metadata": {},
   "outputs": [],
   "source": [
    "WORDSIM_SOURCE_FILE = \"../data/evaluation/source_files/wordsim353_with_r3.csv\"\n",
    "WORDSIM_FINAL_FILE = \"../data/evaluation/wordsim353_with_r3.csv\"\n",
    "\n",
    "WORDSIM_OLD_SOURCE_FILE = \"../data/evaluation/source_files/wordsim_old.csv\"\n",
    "WORDSIM_OLD_FINAL_FILE = \"../data/evaluation/wordsim_old.csv\""
   ]
  },
  {
   "cell_type": "code",
   "execution_count": 12,
   "id": "immune-blend",
   "metadata": {},
   "outputs": [],
   "source": [
    "DBPEDIA_MC_30_SOURCE_FILE = \"../data/evaluation/source_files/mc-30_DBpedia.csv\"\n",
    "DBPEDIA_MC_30_FINAL_FILE = \"../data/evaluation/mc-30_DBpedia.csv\"\n",
    "\n",
    "DBPEDIA_RG_65_SOURCE_FILE = \"../data/evaluation/source_files/rg-65_DBpedia.csv\"\n",
    "DBPEDIA_RG_65_FINAL_FILE = \"../data/evaluation/rg-65_DBpedia.csv\""
   ]
  },
  {
   "cell_type": "code",
   "execution_count": 5,
   "id": "perceived-robert",
   "metadata": {},
   "outputs": [],
   "source": [
    "CONCEPTNET_SOURCE_FILE = \"../data/evaluation/source_files/kgtk_conceptnet.tsv\"\n",
    "CONCEPTNET_INTERM_FILE = \"../data/evaluation/intermediate_files/kgtk_conceptnet.csv\"\n",
    "CONCEPTNET_FINAL_FILE = \"../data/evaluation/kgtk_conceptnet_final.csv\""
   ]
  },
  {
   "cell_type": "code",
   "execution_count": 6,
   "id": "southeast-liberty",
   "metadata": {},
   "outputs": [],
   "source": [
    "WIKI_CS_SOURCE_FILE = '../data/evaluation/source_files/wikidata-cs-20200504.tsv'\n",
    "WIKI_CS_INTERM_FILE = '../data/evaluation/intermediate_files/wikidata-cs_categorized.csv'\n",
    "WIKI_CS_FINAL_FILE = '../data/evaluation/wikidata-cs_final.csv'"
   ]
  },
  {
   "cell_type": "code",
   "execution_count": null,
   "id": "annual-producer",
   "metadata": {},
   "outputs": [],
   "source": []
  },
  {
   "cell_type": "code",
   "execution_count": 7,
   "id": "automatic-rotation",
   "metadata": {},
   "outputs": [],
   "source": [
    "def uniformize_dataset(wikiDF):\n",
    "    needed_size = len(wikiDF[wikiDF.category == 'I'])\n",
    "    M_sampled_set = wikiDF[wikiDF.category == 'M'].sample(needed_size, random_state=13)\n",
    "    subset = wikiDF[wikiDF.category == 'M']\n",
    "    mainset = wikiDF\n",
    "    \n",
    "    mainset_pairs = set([(row['word1_kg_id'], row['word2_kg_id']) for _,row in mainset.iterrows()])\n",
    "    nodes = set([row['word1_kg_id'] for _,row in subset.iterrows()] \n",
    "            + [row['word2_kg_id'] for _,row in subset.iterrows()])\n",
    "    node_label_mappings = {row['word1_kg_id']: row['node1;label'] for _, row in subset.iterrows()}\n",
    "    node_label_mappings.update({row['word2_kg_id']: row['node2;label'] for _, row in subset.iterrows()})\n",
    "    \n",
    "    all_pairs = set([pair for pair in random.sample(list(combinations(list(nodes), 2)), 10*needed_size)])\n",
    "    removed_pairs = set()\n",
    "\n",
    "    first_line = True\n",
    "    \n",
    "    with gzip.open(ALL_EDGES_FILE, 'r') as claims_file:\n",
    "        for line in tqdm(claims_file, total=491297976): #, total=1034927835):\n",
    "            if first_line:\n",
    "                first_line = False\n",
    "                continue\n",
    "            line = line.decode(\"utf-8\").strip().split('\\t')\n",
    "            curr_pair = (line[1], line[3])\n",
    "            if curr_pair in all_pairs:\n",
    "                removed_pairs.add(curr_pair)\n",
    "    newDF = []\n",
    "    count = 0\n",
    "    \n",
    "    for pair in all_pairs - removed_pairs - mainset_pairs:\n",
    "        if pair is None or pair[0] is None or pair[1] is None:\n",
    "            continue\n",
    "        try:\n",
    "            newDF.append((pair[0], pair[1], 'U', node_label_mappings.get(pair[0],\"\"), node_label_mappings.get(pair[1],\"\"), None, None, None, None, None))\n",
    "            count += 1\n",
    "            if count == needed_size:\n",
    "                break\n",
    "        except:\n",
    "            print(f\"Error while processing pair: {pair}\")\n",
    "            \n",
    "    return pd.concat([\n",
    "            wikiDF[wikiDF.category == 'I'],\n",
    "            M_sampled_set,\n",
    "            pd.DataFrame(newDF, columns=subset.columns)\n",
    "        ])"
   ]
  },
  {
   "cell_type": "markdown",
   "id": "compact-telling",
   "metadata": {},
   "source": [
    "# Wordsim"
   ]
  },
  {
   "cell_type": "markdown",
   "id": "maritime-picnic",
   "metadata": {},
   "source": [
    "## New"
   ]
  },
  {
   "cell_type": "code",
   "execution_count": 8,
   "id": "touched-eclipse",
   "metadata": {},
   "outputs": [],
   "source": [
    "wordsim_df = pd.read_csv(WORDSIM_SOURCE_FILE)"
   ]
  },
  {
   "cell_type": "code",
   "execution_count": 10,
   "id": "inclusive-boxing",
   "metadata": {},
   "outputs": [
    {
     "data": {
      "text/plain": [
       "335"
      ]
     },
     "execution_count": 10,
     "metadata": {},
     "output_type": "execute_result"
    }
   ],
   "source": [
    "wordsim_df = wordsim_df[wordsim_df.word1_kg_id != wordsim_df.word2_kg_id]\n",
    "len(wordsim_df)"
   ]
  },
  {
   "cell_type": "code",
   "execution_count": 11,
   "id": "unknown-arabic",
   "metadata": {},
   "outputs": [
    {
     "data": {
      "text/plain": [
       "334"
      ]
     },
     "execution_count": 11,
     "metadata": {},
     "output_type": "execute_result"
    }
   ],
   "source": [
    "wordsim_df = wordsim_df[~(wordsim_df.word1_kg_id + wordsim_df.word2_kg_id).duplicated()]\n",
    "len(wordsim_df)"
   ]
  },
  {
   "cell_type": "code",
   "execution_count": null,
   "id": "macro-basin",
   "metadata": {},
   "outputs": [],
   "source": []
  },
  {
   "cell_type": "markdown",
   "id": "painted-oklahoma",
   "metadata": {},
   "source": [
    "## Old"
   ]
  },
  {
   "cell_type": "code",
   "execution_count": 82,
   "id": "engaging-clause",
   "metadata": {},
   "outputs": [],
   "source": [
    "old_wordsim_df = pd.read_csv(WORDSIM_OLD_SOURCE_FILE)"
   ]
  },
  {
   "cell_type": "code",
   "execution_count": 83,
   "id": "dutch-occasion",
   "metadata": {},
   "outputs": [],
   "source": [
    "old_wordsim_df['Avg'] = (10 - old_wordsim_df['Human (Mean)']) * 3 / 10 + 1"
   ]
  },
  {
   "cell_type": "code",
   "execution_count": 84,
   "id": "blocked-haven",
   "metadata": {},
   "outputs": [
    {
     "data": {
      "text/html": [
       "<div>\n",
       "<style scoped>\n",
       "    .dataframe tbody tr th:only-of-type {\n",
       "        vertical-align: middle;\n",
       "    }\n",
       "\n",
       "    .dataframe tbody tr th {\n",
       "        vertical-align: top;\n",
       "    }\n",
       "\n",
       "    .dataframe thead th {\n",
       "        text-align: right;\n",
       "    }\n",
       "</style>\n",
       "<table border=\"1\" class=\"dataframe\">\n",
       "  <thead>\n",
       "    <tr style=\"text-align: right;\">\n",
       "      <th></th>\n",
       "      <th>Word 1</th>\n",
       "      <th>word1_kg_id</th>\n",
       "      <th>word1_kg_label</th>\n",
       "      <th>word1_kg_description</th>\n",
       "      <th>Word 2</th>\n",
       "      <th>word2_kg_id</th>\n",
       "      <th>word2_kg_label</th>\n",
       "      <th>word2_kg_description</th>\n",
       "      <th>Human (Mean)</th>\n",
       "      <th>complex</th>\n",
       "      <th>transe</th>\n",
       "      <th>text</th>\n",
       "      <th>class</th>\n",
       "      <th>Avg</th>\n",
       "    </tr>\n",
       "  </thead>\n",
       "  <tbody>\n",
       "    <tr>\n",
       "      <th>0</th>\n",
       "      <td>admission</td>\n",
       "      <td>Q847337</td>\n",
       "      <td>confession</td>\n",
       "      <td>statement made by a person or a group of perso...</td>\n",
       "      <td>ticket</td>\n",
       "      <td>Q551800</td>\n",
       "      <td>ticket</td>\n",
       "      <td>paper or cardboard document showing payment fo...</td>\n",
       "      <td>5.5360</td>\n",
       "      <td>0.361115</td>\n",
       "      <td>0.446632</td>\n",
       "      <td>0.485653</td>\n",
       "      <td>NaN</td>\n",
       "      <td>2.33920</td>\n",
       "    </tr>\n",
       "    <tr>\n",
       "      <th>1</th>\n",
       "      <td>alcohol</td>\n",
       "      <td>Q154</td>\n",
       "      <td>alcoholic beverage</td>\n",
       "      <td>drink containing alcohols, typically ethanol</td>\n",
       "      <td>chemistry</td>\n",
       "      <td>Q2329</td>\n",
       "      <td>chemistry</td>\n",
       "      <td>branch of physical science concerned with the ...</td>\n",
       "      <td>4.1250</td>\n",
       "      <td>0.302163</td>\n",
       "      <td>0.274388</td>\n",
       "      <td>0.479313</td>\n",
       "      <td>0.005851</td>\n",
       "      <td>2.76250</td>\n",
       "    </tr>\n",
       "    <tr>\n",
       "      <th>2</th>\n",
       "      <td>aluminum</td>\n",
       "      <td>Q663</td>\n",
       "      <td>aluminium</td>\n",
       "      <td>metallic chemical element of silvery appearanc...</td>\n",
       "      <td>metal</td>\n",
       "      <td>Q11426</td>\n",
       "      <td>metal</td>\n",
       "      <td>element, compound or alloy that is a good cond...</td>\n",
       "      <td>6.6250</td>\n",
       "      <td>0.694462</td>\n",
       "      <td>0.429289</td>\n",
       "      <td>0.626784</td>\n",
       "      <td>0.393657</td>\n",
       "      <td>2.01250</td>\n",
       "    </tr>\n",
       "    <tr>\n",
       "      <th>3</th>\n",
       "      <td>announcement</td>\n",
       "      <td>Q567303</td>\n",
       "      <td>announcement</td>\n",
       "      <td>printed, spoken, or published statement or not...</td>\n",
       "      <td>effort</td>\n",
       "      <td>Q14536140</td>\n",
       "      <td>exertion</td>\n",
       "      <td>use of physical or perceived energy by a person</td>\n",
       "      <td>2.0625</td>\n",
       "      <td>0.324825</td>\n",
       "      <td>0.379077</td>\n",
       "      <td>0.618644</td>\n",
       "      <td>0.208812</td>\n",
       "      <td>3.38125</td>\n",
       "    </tr>\n",
       "    <tr>\n",
       "      <th>4</th>\n",
       "      <td>announcement</td>\n",
       "      <td>Q567303</td>\n",
       "      <td>announcement</td>\n",
       "      <td>printed, spoken, or published statement or not...</td>\n",
       "      <td>news</td>\n",
       "      <td>Q38926</td>\n",
       "      <td>news</td>\n",
       "      <td>communication of selected information on curre...</td>\n",
       "      <td>7.1875</td>\n",
       "      <td>0.361214</td>\n",
       "      <td>0.360383</td>\n",
       "      <td>0.863846</td>\n",
       "      <td>0.888621</td>\n",
       "      <td>1.84375</td>\n",
       "    </tr>\n",
       "  </tbody>\n",
       "</table>\n",
       "</div>"
      ],
      "text/plain": [
       "         Word 1 word1_kg_id      word1_kg_label  \\\n",
       "0     admission     Q847337          confession   \n",
       "1       alcohol        Q154  alcoholic beverage   \n",
       "2      aluminum        Q663           aluminium   \n",
       "3  announcement     Q567303        announcement   \n",
       "4  announcement     Q567303        announcement   \n",
       "\n",
       "                                word1_kg_description     Word 2 word2_kg_id  \\\n",
       "0  statement made by a person or a group of perso...     ticket     Q551800   \n",
       "1       drink containing alcohols, typically ethanol  chemistry       Q2329   \n",
       "2  metallic chemical element of silvery appearanc...      metal      Q11426   \n",
       "3  printed, spoken, or published statement or not...     effort   Q14536140   \n",
       "4  printed, spoken, or published statement or not...       news      Q38926   \n",
       "\n",
       "  word2_kg_label                               word2_kg_description  \\\n",
       "0         ticket  paper or cardboard document showing payment fo...   \n",
       "1      chemistry  branch of physical science concerned with the ...   \n",
       "2          metal  element, compound or alloy that is a good cond...   \n",
       "3       exertion    use of physical or perceived energy by a person   \n",
       "4           news  communication of selected information on curre...   \n",
       "\n",
       "   Human (Mean)   complex    transe      text     class      Avg  \n",
       "0        5.5360  0.361115  0.446632  0.485653       NaN  2.33920  \n",
       "1        4.1250  0.302163  0.274388  0.479313  0.005851  2.76250  \n",
       "2        6.6250  0.694462  0.429289  0.626784  0.393657  2.01250  \n",
       "3        2.0625  0.324825  0.379077  0.618644  0.208812  3.38125  \n",
       "4        7.1875  0.361214  0.360383  0.863846  0.888621  1.84375  "
      ]
     },
     "execution_count": 84,
     "metadata": {},
     "output_type": "execute_result"
    }
   ],
   "source": [
    "old_wordsim_df.head()"
   ]
  },
  {
   "cell_type": "code",
   "execution_count": 85,
   "id": "better-bangladesh",
   "metadata": {},
   "outputs": [
    {
     "data": {
      "text/plain": [
       "count    349.000000\n",
       "mean       2.784180\n",
       "std        0.613491\n",
       "min        1.000000\n",
       "25%        2.387500\n",
       "50%        2.818750\n",
       "75%        3.287500\n",
       "max        3.906250\n",
       "Name: Avg, dtype: float64"
      ]
     },
     "execution_count": 85,
     "metadata": {},
     "output_type": "execute_result"
    }
   ],
   "source": [
    "old_wordsim_df.Avg.describe()"
   ]
  },
  {
   "cell_type": "code",
   "execution_count": 89,
   "id": "convinced-pride",
   "metadata": {},
   "outputs": [],
   "source": [
    "old_wordsim_df['category'] = old_wordsim_df.Avg.apply(lambda score: 'I' if score <= 1.75 else 'U' if score >= 3.5 else 'M')"
   ]
  },
  {
   "cell_type": "code",
   "execution_count": 90,
   "id": "robust-pennsylvania",
   "metadata": {},
   "outputs": [],
   "source": [
    "old_wordsim_df.to_csv(WORDSIM_OLD_FINAL_FILE, index=None)"
   ]
  },
  {
   "cell_type": "code",
   "execution_count": null,
   "id": "living-darwin",
   "metadata": {},
   "outputs": [],
   "source": []
  },
  {
   "cell_type": "markdown",
   "id": "occasional-parcel",
   "metadata": {},
   "source": [
    "# DBPedia sourced eval datasets"
   ]
  },
  {
   "cell_type": "code",
   "execution_count": 45,
   "id": "matched-terminal",
   "metadata": {},
   "outputs": [],
   "source": [
    "dbpedia_30_df = pd.read_csv(DBPEDIA_MC_30_SOURCE_FILE, header=None)"
   ]
  },
  {
   "cell_type": "code",
   "execution_count": 46,
   "id": "measured-helen",
   "metadata": {},
   "outputs": [],
   "source": [
    "dbpedia_30_df.columns = ['Word 1', 'Word 2', 'Avg']"
   ]
  },
  {
   "cell_type": "code",
   "execution_count": 47,
   "id": "biological-gentleman",
   "metadata": {},
   "outputs": [],
   "source": [
    "dbpedia_65_df = pd.read_csv(DBPEDIA_RG_65_SOURCE_FILE, header=None)"
   ]
  },
  {
   "cell_type": "code",
   "execution_count": 48,
   "id": "annual-france",
   "metadata": {},
   "outputs": [],
   "source": [
    "dbpedia_65_df.columns = ['Word 1', 'Word 2', 'Avg']"
   ]
  },
  {
   "cell_type": "code",
   "execution_count": 49,
   "id": "native-allocation",
   "metadata": {},
   "outputs": [],
   "source": [
    "cvg_nodes = set(dbpedia_30_df['Word 1'].to_list() + dbpedia_30_df['Word 2'].to_list() + \\\n",
    "                   dbpedia_65_df['Word 1'].to_list() + dbpedia_65_df['Word 2'].to_list())\n",
    "for elem in list(cvg_nodes):\n",
    "    cvg_nodes.add(elem.capitalize())"
   ]
  },
  {
   "cell_type": "code",
   "execution_count": 34,
   "id": "historical-scott",
   "metadata": {},
   "outputs": [
    {
     "data": {
      "application/vnd.jupyter.widget-view+json": {
       "model_id": "2ebabfa2b63b4589a033281506ca7bd3",
       "version_major": 2,
       "version_minor": 0
      },
      "text/plain": [
       "0it [00:00, ?it/s]"
      ]
     },
     "metadata": {},
     "output_type": "display_data"
    },
    {
     "data": {
      "text/plain": [
       "defaultdict(str,\n",
       "            {'Brother': 'Q10861465',\n",
       "             'Cushion': 'Q10971235',\n",
       "             'Boy': 'Q3010',\n",
       "             'Glass': 'Q21830626',\n",
       "             'Hill': 'Q9131144',\n",
       "             'Tumbler': 'Q1190389',\n",
       "             'Fruit': 'Q1364',\n",
       "             'Car': 'Q1420',\n",
       "             'tool': 'Q14444884',\n",
       "             'Food': 'Q2095',\n",
       "             'Mound': 'Q1584134',\n",
       "             'Jewellery': 'Q161439',\n",
       "             'Furnace': 'Q1709184',\n",
       "             'Signature': 'Q188675',\n",
       "             'Stove': 'Q203789',\n",
       "             'Oracle': 'Q217123',\n",
       "             'Rooster': 'Q2216236',\n",
       "             'Implementation': 'Q245962',\n",
       "             'Magician_(paranormal)': 'Q2488257',\n",
       "             'Crane_(bird)': 'Q25365',\n",
       "             'Autograph': 'Q2872572',\n",
       "             'Woodland': 'Q3241565',\n",
       "             'Tool': 'Q39546',\n",
       "             'Cemetery': 'Q39614',\n",
       "             'Forest': 'Q4421',\n",
       "             'Shore': 'Q468756',\n",
       "             'Bird': 'Q6730492',\n",
       "             'Monk': 'Q733786',\n",
       "             'Gemstone': 'Q83437',\n",
       "             'Slavery': 'Q8463',\n",
       "             'Coast': 'Q93352',\n",
       "             'Pillow': 'Q99895'})"
      ]
     },
     "execution_count": 34,
     "metadata": {},
     "output_type": "execute_result"
    }
   ],
   "source": [
    "from collections import defaultdict\n",
    "sitelinks_map = defaultdict(str)\n",
    "with gzip.open(SITELINKS_FILE_V2) as f:\n",
    "    first_line = False\n",
    "    for line in tqdm(f):\n",
    "        if first_line:\n",
    "            first_line = True\n",
    "            continue\n",
    "        line = line.decode('utf-8').strip().split('\\t')\n",
    "        if line[2] != 'wikipedia_sitelink':\n",
    "            continue\n",
    "        fetch_main_string = lambda p: p.split(\"/\")[-1] if p.split(\"/\")[-1] != '' else p.split(\"/\")[-2]\n",
    "        sitelink_str = fetch_main_string(line[3])\n",
    "        if sitelink_str not in cvg_nodes:\n",
    "            continue\n",
    "        sitelinks_map[sitelink_str] = line[1]\n",
    "sitelinks_map"
   ]
  },
  {
   "cell_type": "code",
   "execution_count": 50,
   "id": "accepting-cherry",
   "metadata": {},
   "outputs": [],
   "source": [
    "# First check if capitalized version has a qnode else check for the original one\n",
    "fetch_qnode = lambda p: sitelinks_map[p.capitalize()] if p.capitalize() else sitelinks_map[p] if p in sitelinks_map in sitelinks_map else None\n",
    "dbpedia_30_df['word1_kg_id'] = dbpedia_30_df['Word 1'].apply(fetch_qnode)\n",
    "dbpedia_30_df['word2_kg_id'] = dbpedia_30_df['Word 2'].apply(fetch_qnode)\n",
    "dbpedia_65_df['word1_kg_id'] = dbpedia_65_df['Word 1'].apply(fetch_qnode)\n",
    "dbpedia_65_df['word2_kg_id'] = dbpedia_65_df['Word 2'].apply(fetch_qnode)"
   ]
  },
  {
   "cell_type": "code",
   "execution_count": 52,
   "id": "charming-perry",
   "metadata": {},
   "outputs": [
    {
     "data": {
      "text/html": [
       "<div>\n",
       "<style scoped>\n",
       "    .dataframe tbody tr th:only-of-type {\n",
       "        vertical-align: middle;\n",
       "    }\n",
       "\n",
       "    .dataframe tbody tr th {\n",
       "        vertical-align: top;\n",
       "    }\n",
       "\n",
       "    .dataframe thead th {\n",
       "        text-align: right;\n",
       "    }\n",
       "</style>\n",
       "<table border=\"1\" class=\"dataframe\">\n",
       "  <thead>\n",
       "    <tr style=\"text-align: right;\">\n",
       "      <th></th>\n",
       "      <th>Word 1</th>\n",
       "      <th>Word 2</th>\n",
       "      <th>Avg</th>\n",
       "      <th>word1_kg_id</th>\n",
       "      <th>word2_kg_id</th>\n",
       "    </tr>\n",
       "  </thead>\n",
       "  <tbody>\n",
       "    <tr>\n",
       "      <th>0</th>\n",
       "      <td>Gemstone</td>\n",
       "      <td>Jewellery</td>\n",
       "      <td>3.84</td>\n",
       "      <td>Q83437</td>\n",
       "      <td>Q161439</td>\n",
       "    </tr>\n",
       "    <tr>\n",
       "      <th>1</th>\n",
       "      <td>coast</td>\n",
       "      <td>shore</td>\n",
       "      <td>3.70</td>\n",
       "      <td>Q93352</td>\n",
       "      <td>Q468756</td>\n",
       "    </tr>\n",
       "    <tr>\n",
       "      <th>2</th>\n",
       "      <td>furnace</td>\n",
       "      <td>stove</td>\n",
       "      <td>3.11</td>\n",
       "      <td>Q1709184</td>\n",
       "      <td>Q203789</td>\n",
       "    </tr>\n",
       "  </tbody>\n",
       "</table>\n",
       "</div>"
      ],
      "text/plain": [
       "     Word 1     Word 2   Avg word1_kg_id word2_kg_id\n",
       "0  Gemstone  Jewellery  3.84      Q83437     Q161439\n",
       "1     coast      shore  3.70      Q93352     Q468756\n",
       "2   furnace      stove  3.11    Q1709184     Q203789"
      ]
     },
     "execution_count": 52,
     "metadata": {},
     "output_type": "execute_result"
    }
   ],
   "source": [
    "dbpedia_30_df.head(3)"
   ]
  },
  {
   "cell_type": "code",
   "execution_count": 43,
   "id": "generous-hayes",
   "metadata": {
    "scrolled": false
   },
   "outputs": [
    {
     "data": {
      "text/html": [
       "<div>\n",
       "<style scoped>\n",
       "    .dataframe tbody tr th:only-of-type {\n",
       "        vertical-align: middle;\n",
       "    }\n",
       "\n",
       "    .dataframe tbody tr th {\n",
       "        vertical-align: top;\n",
       "    }\n",
       "\n",
       "    .dataframe thead th {\n",
       "        text-align: right;\n",
       "    }\n",
       "</style>\n",
       "<table border=\"1\" class=\"dataframe\">\n",
       "  <thead>\n",
       "    <tr style=\"text-align: right;\">\n",
       "      <th></th>\n",
       "      <th>Word 1</th>\n",
       "      <th>Word 2</th>\n",
       "      <th>Avg</th>\n",
       "      <th>word1_kg_id</th>\n",
       "      <th>word2_kg_id</th>\n",
       "    </tr>\n",
       "  </thead>\n",
       "  <tbody>\n",
       "    <tr>\n",
       "      <th>0</th>\n",
       "      <td>Gemstone</td>\n",
       "      <td>Jewellery</td>\n",
       "      <td>3.94</td>\n",
       "      <td>Q83437</td>\n",
       "      <td>Q161439</td>\n",
       "    </tr>\n",
       "    <tr>\n",
       "      <th>1</th>\n",
       "      <td>cushion</td>\n",
       "      <td>pillow</td>\n",
       "      <td>3.84</td>\n",
       "      <td>Q10971235</td>\n",
       "      <td>Q99895</td>\n",
       "    </tr>\n",
       "    <tr>\n",
       "      <th>2</th>\n",
       "      <td>Implementation</td>\n",
       "      <td>tool</td>\n",
       "      <td>3.66</td>\n",
       "      <td>Q245962</td>\n",
       "      <td>Q39546</td>\n",
       "    </tr>\n",
       "  </tbody>\n",
       "</table>\n",
       "</div>"
      ],
      "text/plain": [
       "           Word 1     Word 2   Avg word1_kg_id word2_kg_id\n",
       "0        Gemstone  Jewellery  3.94      Q83437     Q161439\n",
       "1         cushion     pillow  3.84   Q10971235      Q99895\n",
       "2  Implementation       tool  3.66     Q245962      Q39546"
      ]
     },
     "execution_count": 43,
     "metadata": {},
     "output_type": "execute_result"
    }
   ],
   "source": [
    "dbpedia_65_df.head(3)"
   ]
  },
  {
   "cell_type": "code",
   "execution_count": 53,
   "id": "regulation-frequency",
   "metadata": {},
   "outputs": [],
   "source": [
    "dbpedia_30_df.to_csv(DBPEDIA_MC_30_FINAL_FILE, index=None)\n",
    "dbpedia_65_df.to_csv(DBPEDIA_RG_65_FINAL_FILE, index=None)"
   ]
  },
  {
   "cell_type": "code",
   "execution_count": null,
   "id": "conditional-signature",
   "metadata": {},
   "outputs": [],
   "source": []
  },
  {
   "cell_type": "code",
   "execution_count": null,
   "id": "exact-hospital",
   "metadata": {},
   "outputs": [],
   "source": []
  },
  {
   "cell_type": "code",
   "execution_count": null,
   "id": "measured-arbitration",
   "metadata": {},
   "outputs": [],
   "source": []
  },
  {
   "cell_type": "code",
   "execution_count": null,
   "id": "awful-vatican",
   "metadata": {},
   "outputs": [],
   "source": []
  },
  {
   "cell_type": "code",
   "execution_count": null,
   "id": "attended-tulsa",
   "metadata": {},
   "outputs": [],
   "source": []
  },
  {
   "cell_type": "code",
   "execution_count": null,
   "id": "collective-techno",
   "metadata": {},
   "outputs": [],
   "source": []
  },
  {
   "cell_type": "code",
   "execution_count": null,
   "id": "personalized-chambers",
   "metadata": {},
   "outputs": [],
   "source": []
  },
  {
   "cell_type": "markdown",
   "id": "accredited-consistency",
   "metadata": {},
   "source": [
    "# ConceptNet"
   ]
  },
  {
   "cell_type": "code",
   "execution_count": 52,
   "id": "steady-mitchell",
   "metadata": {},
   "outputs": [
    {
     "data": {
      "application/vnd.jupyter.widget-view+json": {
       "model_id": "beb4ee57be0a42afaedfece6dac99064",
       "version_major": 2,
       "version_minor": 0
      },
      "text/plain": [
       "0it [00:00, ?it/s]"
      ]
     },
     "metadata": {},
     "output_type": "display_data"
    },
    {
     "name": "stdout",
     "output_type": "stream",
     "text": [
      "No. of conceptNet nodes fetched:  1165190\n"
     ]
    },
    {
     "data": {
      "application/vnd.jupyter.widget-view+json": {
       "model_id": "8bc3ec3c5db74a4eb8c6ba97d08a7a31",
       "version_major": 2,
       "version_minor": 0
      },
      "text/plain": [
       "0it [00:00, ?it/s]"
      ]
     },
     "metadata": {},
     "output_type": "display_data"
    }
   ],
   "source": [
    "labelsMap = {}\n",
    "with open(CONCEPTNET_SOURCE_FILE) as conceptFile:\n",
    "    firstLine = True\n",
    "    for line in tqdm(conceptFile):\n",
    "        if firstLine:\n",
    "            firstLine = False\n",
    "            continue\n",
    "        line = line.split('\\t')\n",
    "        labelsMap[line[3][1:-1]] = None\n",
    "        labelsMap[line[4][1:-1]] = None\n",
    "print(\"No. of conceptNet nodes fetched: \",len(labelsMap))\n",
    "with gzip.open(LABELS_FILE, 'r') as labelsFile:\n",
    "    firstLine = True\n",
    "    for line in tqdm(labelsFile):\n",
    "        if firstLine:\n",
    "            firstLine = False\n",
    "            continue\n",
    "        line = line.decode('utf-8').strip().split('\\t')\n",
    "        line[3] = line[3][1:-5]\n",
    "        qnode, label = line[1], line[3]\n",
    "#         print(qnode, label)\n",
    "        if label in labelsMap:\n",
    "            if labelsMap[label] == None:\n",
    "                labelsMap[label] = []\n",
    "            labelsMap[label].append(qnode)"
   ]
  },
  {
   "cell_type": "code",
   "execution_count": 53,
   "id": "studied-pharmacology",
   "metadata": {},
   "outputs": [],
   "source": [
    "def fetchQnode(label):\n",
    "    if pd.isna(label):\n",
    "        return None\n",
    "    label = label[1:-1]\n",
    "    if label not in labelsMap:\n",
    "        return None\n",
    "    else:\n",
    "        return labelsMap[label]"
   ]
  },
  {
   "cell_type": "code",
   "execution_count": 54,
   "id": "imperial-genetics",
   "metadata": {},
   "outputs": [
    {
     "name": "stderr",
     "output_type": "stream",
     "text": [
      "/nas/home/kshenoy/miniconda3/envs/kgtkEnv/lib/python3.8/site-packages/IPython/core/interactiveshell.py:3165: DtypeWarning: Columns (8) have mixed types.Specify dtype option on import or set low_memory=False.\n",
      "  has_raised = await self.run_ast_nodes(code_ast.body, cell_name,\n"
     ]
    },
    {
     "name": "stdout",
     "output_type": "stream",
     "text": [
      "Concept Net dataset size reduced from 3423004 pairs to 99052 pairs\n"
     ]
    },
    {
     "name": "stderr",
     "output_type": "stream",
     "text": [
      "<ipython-input-54-009d05c37ef7>:6: SettingWithCopyWarning: \n",
      "A value is trying to be set on a copy of a slice from a DataFrame.\n",
      "Try using .loc[row_indexer,col_indexer] = value instead\n",
      "\n",
      "See the caveats in the documentation: https://pandas.pydata.org/pandas-docs/stable/user_guide/indexing.html#returning-a-view-versus-a-copy\n",
      "  conceptDF1['node1;qnode;len'] = conceptDF1['node1;qnode'].apply(len)\n",
      "<ipython-input-54-009d05c37ef7>:7: SettingWithCopyWarning: \n",
      "A value is trying to be set on a copy of a slice from a DataFrame.\n",
      "Try using .loc[row_indexer,col_indexer] = value instead\n",
      "\n",
      "See the caveats in the documentation: https://pandas.pydata.org/pandas-docs/stable/user_guide/indexing.html#returning-a-view-versus-a-copy\n",
      "  conceptDF1['node2;qnode;len'] = conceptDF1['node2;qnode'].apply(len)\n"
     ]
    },
    {
     "name": "stdout",
     "output_type": "stream",
     "text": [
      "Concept Net dataset size reduced from 99052 pairs to 2084 pairs by keeping only pairs which have one-one mapping with qnodes\n"
     ]
    },
    {
     "data": {
      "text/plain": [
       "related to                   758\n",
       "synonym                      708\n",
       "form of                      219\n",
       "etymologically related to     82\n",
       "derived from                  77\n",
       "is a                          63\n",
       "has context                   45\n",
       "at location                   29\n",
       "antonym                       15\n",
       "manner of                     15\n",
       "similar to                    15\n",
       "part of                       12\n",
       "causes                         9\n",
       "distinct from                  6\n",
       "used for                       5\n",
       "receives action                4\n",
       "has prerequisite               4\n",
       "genus                          2\n",
       "has a                          2\n",
       "instance of                    2\n",
       "has subevent                   2\n",
       "capital                        2\n",
       "motivated by goal              2\n",
       "has last subevent              1\n",
       "has property                   1\n",
       "causes desire                  1\n",
       "genre                          1\n",
       "has first subevent             1\n",
       "language                       1\n",
       "Name: relation;label, dtype: int64"
      ]
     },
     "execution_count": 54,
     "metadata": {},
     "output_type": "execute_result"
    }
   ],
   "source": [
    "conceptDF = pd.read_csv(CONCEPTNET_SOURCE_FILE, sep='\\t')\n",
    "conceptDF['node1;qnode'] = conceptDF['node1;label'].apply(fetchQnode)\n",
    "conceptDF['node2;qnode'] = conceptDF['node2;label'].apply(fetchQnode)\n",
    "conceptDF1 = conceptDF[(~conceptDF['node1;qnode'].isna()) & (~conceptDF['node2;qnode'].isna())]\n",
    "print(f\"Concept Net dataset size reduced from {len(conceptDF)} pairs to {len(conceptDF1)} pairs\")\n",
    "conceptDF1['node1;qnode;len'] = conceptDF1['node1;qnode'].apply(len)\n",
    "conceptDF1['node2;qnode;len'] = conceptDF1['node2;qnode'].apply(len)\n",
    "conceptDF2 = conceptDF1[(conceptDF1['node1;qnode;len'] == 1) & (conceptDF1['node2;qnode;len'] == 1)]\n",
    "print(f\"Concept Net dataset size reduced from {len(conceptDF1)} pairs to {len(conceptDF2)} pairs by keeping only pairs which have one-one mapping with qnodes\")\n",
    "conceptDF2['relation;label'].value_counts()"
   ]
  },
  {
   "cell_type": "code",
   "execution_count": 55,
   "id": "elder-final",
   "metadata": {},
   "outputs": [
    {
     "name": "stderr",
     "output_type": "stream",
     "text": [
      "<ipython-input-55-ffe0073c31e5>:1: SettingWithCopyWarning: \n",
      "A value is trying to be set on a copy of a slice from a DataFrame.\n",
      "Try using .loc[row_indexer,col_indexer] = value instead\n",
      "\n",
      "See the caveats in the documentation: https://pandas.pydata.org/pandas-docs/stable/user_guide/indexing.html#returning-a-view-versus-a-copy\n",
      "  conceptDF2['category'] = conceptDF2['relation;label'].apply(lambda p: 'I' if p == 'synonym' or p == 'similar to' else 'M')\n",
      "<ipython-input-55-ffe0073c31e5>:3: SettingWithCopyWarning: \n",
      "A value is trying to be set on a copy of a slice from a DataFrame.\n",
      "Try using .loc[row_indexer,col_indexer] = value instead\n",
      "\n",
      "See the caveats in the documentation: https://pandas.pydata.org/pandas-docs/stable/user_guide/indexing.html#returning-a-view-versus-a-copy\n",
      "  conceptDF2['word1_kg_id'] = conceptDF2['node1;qnode'].apply(lambda p: p[0])\n",
      "<ipython-input-55-ffe0073c31e5>:4: SettingWithCopyWarning: \n",
      "A value is trying to be set on a copy of a slice from a DataFrame.\n",
      "Try using .loc[row_indexer,col_indexer] = value instead\n",
      "\n",
      "See the caveats in the documentation: https://pandas.pydata.org/pandas-docs/stable/user_guide/indexing.html#returning-a-view-versus-a-copy\n",
      "  conceptDF2['word2_kg_id'] = conceptDF2['node2;qnode'].apply(lambda p: p[0])\n"
     ]
    }
   ],
   "source": [
    "conceptDF2['category'] = conceptDF2['relation;label'].apply(lambda p: 'I' if p == 'synonym' or p == 'similar to' else 'M')\n",
    "conceptDF2['relation;label'].apply(lambda p: 'I' if p == 'synonym' or p == 'similar to' else 'M').value_counts()\n",
    "conceptDF2['word1_kg_id'] = conceptDF2['node1;qnode'].apply(lambda p: p[0])\n",
    "conceptDF2['word2_kg_id'] = conceptDF2['node2;qnode'].apply(lambda p: p[0])\n",
    "conceptDF2[['word1_kg_id', 'word2_kg_id', 'category', 'node1;label', 'node2;label', 'relation', 'relation;label', 'relation;dimension', 'source', 'sentence']].to_csv(CONCEPTNET_INTERM_FILE, index=None)"
   ]
  },
  {
   "cell_type": "code",
   "execution_count": 58,
   "id": "distinguished-mustang",
   "metadata": {},
   "outputs": [
    {
     "data": {
      "application/vnd.jupyter.widget-view+json": {
       "model_id": "18277bf62d5e4098a980327e5a94f8a4",
       "version_major": 2,
       "version_minor": 0
      },
      "text/plain": [
       "  0%|          | 0/491297976 [00:00<?, ?it/s]"
      ]
     },
     "metadata": {},
     "output_type": "display_data"
    }
   ],
   "source": [
    "conceptnet_uniform_df = uniformize_dataset(pd.read_csv(CONCEPTNET_INTERM_FILE))"
   ]
  },
  {
   "cell_type": "code",
   "execution_count": 61,
   "id": "exact-birthday",
   "metadata": {},
   "outputs": [],
   "source": [
    "conceptnet_uniform_df.to_csv(CONCEPTNET_FINAL_FILE, index=None)"
   ]
  },
  {
   "cell_type": "code",
   "execution_count": 62,
   "id": "equivalent-creek",
   "metadata": {},
   "outputs": [
    {
     "data": {
      "text/plain": [
       "I    723\n",
       "U    723\n",
       "M    723\n",
       "Name: category, dtype: int64"
      ]
     },
     "execution_count": 62,
     "metadata": {},
     "output_type": "execute_result"
    }
   ],
   "source": [
    "conceptnet_uniform_df.category.value_counts()"
   ]
  },
  {
   "cell_type": "code",
   "execution_count": 67,
   "id": "eastern-cargo",
   "metadata": {},
   "outputs": [
    {
     "data": {
      "text/html": [
       "<div>\n",
       "<style scoped>\n",
       "    .dataframe tbody tr th:only-of-type {\n",
       "        vertical-align: middle;\n",
       "    }\n",
       "\n",
       "    .dataframe tbody tr th {\n",
       "        vertical-align: top;\n",
       "    }\n",
       "\n",
       "    .dataframe thead th {\n",
       "        text-align: right;\n",
       "    }\n",
       "</style>\n",
       "<table border=\"1\" class=\"dataframe\">\n",
       "  <thead>\n",
       "    <tr style=\"text-align: right;\">\n",
       "      <th></th>\n",
       "      <th>word1_kg_id</th>\n",
       "      <th>word2_kg_id</th>\n",
       "      <th>category</th>\n",
       "      <th>node1;label</th>\n",
       "      <th>node2;label</th>\n",
       "      <th>relation</th>\n",
       "      <th>relation;label</th>\n",
       "      <th>relation;dimension</th>\n",
       "      <th>source</th>\n",
       "      <th>sentence</th>\n",
       "    </tr>\n",
       "  </thead>\n",
       "  <tbody>\n",
       "    <tr>\n",
       "      <th>1350</th>\n",
       "      <td>Q29736947</td>\n",
       "      <td>Q50414211</td>\n",
       "      <td>I</td>\n",
       "      <td>arco</td>\n",
       "      <td>bowed</td>\n",
       "      <td>/r/SimilarTo</td>\n",
       "      <td>similar to</td>\n",
       "      <td>NaN</td>\n",
       "      <td>CN</td>\n",
       "      <td>[[arco]] is similar to [[bowed]]</td>\n",
       "    </tr>\n",
       "    <tr>\n",
       "      <th>1351</th>\n",
       "      <td>Q29782278</td>\n",
       "      <td>Q12835706</td>\n",
       "      <td>I</td>\n",
       "      <td>auxo</td>\n",
       "      <td>thallo</td>\n",
       "      <td>/r/SimilarTo</td>\n",
       "      <td>similar to</td>\n",
       "      <td>NaN</td>\n",
       "      <td>CN</td>\n",
       "      <td>NaN</td>\n",
       "    </tr>\n",
       "    <tr>\n",
       "      <th>1352</th>\n",
       "      <td>Q50414211</td>\n",
       "      <td>Q29736947</td>\n",
       "      <td>I</td>\n",
       "      <td>bowed</td>\n",
       "      <td>arco</td>\n",
       "      <td>/r/SimilarTo</td>\n",
       "      <td>similar to</td>\n",
       "      <td>NaN</td>\n",
       "      <td>CN</td>\n",
       "      <td>[[bowed]] is similar to [[arco]]</td>\n",
       "    </tr>\n",
       "    <tr>\n",
       "      <th>1353</th>\n",
       "      <td>Q1146652</td>\n",
       "      <td>Q12835706</td>\n",
       "      <td>I</td>\n",
       "      <td>dike</td>\n",
       "      <td>thallo</td>\n",
       "      <td>/r/SimilarTo</td>\n",
       "      <td>similar to</td>\n",
       "      <td>NaN</td>\n",
       "      <td>CN</td>\n",
       "      <td>NaN</td>\n",
       "    </tr>\n",
       "    <tr>\n",
       "      <th>1354</th>\n",
       "      <td>Q61504726</td>\n",
       "      <td>Q3366001</td>\n",
       "      <td>I</td>\n",
       "      <td>empty</td>\n",
       "      <td>stripped</td>\n",
       "      <td>/r/SimilarTo</td>\n",
       "      <td>similar to</td>\n",
       "      <td>NaN</td>\n",
       "      <td>CN</td>\n",
       "      <td>[[empty]] is similar to [[stripped]]</td>\n",
       "    </tr>\n",
       "    <tr>\n",
       "      <th>...</th>\n",
       "      <td>...</td>\n",
       "      <td>...</td>\n",
       "      <td>...</td>\n",
       "      <td>...</td>\n",
       "      <td>...</td>\n",
       "      <td>...</td>\n",
       "      <td>...</td>\n",
       "      <td>...</td>\n",
       "      <td>...</td>\n",
       "      <td>...</td>\n",
       "    </tr>\n",
       "    <tr>\n",
       "      <th>2025</th>\n",
       "      <td>Q190527</td>\n",
       "      <td>Q2655953</td>\n",
       "      <td>I</td>\n",
       "      <td>value</td>\n",
       "      <td>prize</td>\n",
       "      <td>/r/Synonym</td>\n",
       "      <td>synonym</td>\n",
       "      <td>NaN</td>\n",
       "      <td>CN</td>\n",
       "      <td>[[value]] is a synonym of [[prize]]</td>\n",
       "    </tr>\n",
       "    <tr>\n",
       "      <th>2037</th>\n",
       "      <td>Q1128240</td>\n",
       "      <td>P3828</td>\n",
       "      <td>I</td>\n",
       "      <td>weary</td>\n",
       "      <td>aweary</td>\n",
       "      <td>/r/Synonym</td>\n",
       "      <td>synonym</td>\n",
       "      <td>NaN</td>\n",
       "      <td>CN</td>\n",
       "      <td>[[weary]] is a synonym of [[aweary]]</td>\n",
       "    </tr>\n",
       "    <tr>\n",
       "      <th>2038</th>\n",
       "      <td>Q1128240</td>\n",
       "      <td>Q29713327</td>\n",
       "      <td>I</td>\n",
       "      <td>weary</td>\n",
       "      <td>tire</td>\n",
       "      <td>/r/Synonym</td>\n",
       "      <td>synonym</td>\n",
       "      <td>NaN</td>\n",
       "      <td>CN</td>\n",
       "      <td>[[weary]] is a synonym of [[tire]]</td>\n",
       "    </tr>\n",
       "    <tr>\n",
       "      <th>2045</th>\n",
       "      <td>Q103859907</td>\n",
       "      <td>Q213449</td>\n",
       "      <td>I</td>\n",
       "      <td>whipping</td>\n",
       "      <td>beating</td>\n",
       "      <td>/r/Synonym</td>\n",
       "      <td>synonym</td>\n",
       "      <td>NaN</td>\n",
       "      <td>CN</td>\n",
       "      <td>[[whipping]] is a synonym of [[beating]]</td>\n",
       "    </tr>\n",
       "    <tr>\n",
       "      <th>2059</th>\n",
       "      <td>Q1128240</td>\n",
       "      <td>Q97138958</td>\n",
       "      <td>I</td>\n",
       "      <td>years</td>\n",
       "      <td>days</td>\n",
       "      <td>/r/Synonym</td>\n",
       "      <td>synonym</td>\n",
       "      <td>NaN</td>\n",
       "      <td>CN</td>\n",
       "      <td>[[years]] is a synonym of [[days]]</td>\n",
       "    </tr>\n",
       "  </tbody>\n",
       "</table>\n",
       "<p>76 rows × 10 columns</p>\n",
       "</div>"
      ],
      "text/plain": [
       "     word1_kg_id word2_kg_id category node1;label node2;label      relation  \\\n",
       "1350   Q29736947   Q50414211        I        arco       bowed  /r/SimilarTo   \n",
       "1351   Q29782278   Q12835706        I        auxo      thallo  /r/SimilarTo   \n",
       "1352   Q50414211   Q29736947        I       bowed        arco  /r/SimilarTo   \n",
       "1353    Q1146652   Q12835706        I        dike      thallo  /r/SimilarTo   \n",
       "1354   Q61504726    Q3366001        I       empty    stripped  /r/SimilarTo   \n",
       "...          ...         ...      ...         ...         ...           ...   \n",
       "2025     Q190527    Q2655953        I       value       prize    /r/Synonym   \n",
       "2037    Q1128240       P3828        I       weary      aweary    /r/Synonym   \n",
       "2038    Q1128240   Q29713327        I       weary        tire    /r/Synonym   \n",
       "2045  Q103859907     Q213449        I    whipping     beating    /r/Synonym   \n",
       "2059    Q1128240   Q97138958        I       years        days    /r/Synonym   \n",
       "\n",
       "     relation;label relation;dimension source  \\\n",
       "1350     similar to                NaN     CN   \n",
       "1351     similar to                NaN     CN   \n",
       "1352     similar to                NaN     CN   \n",
       "1353     similar to                NaN     CN   \n",
       "1354     similar to                NaN     CN   \n",
       "...             ...                ...    ...   \n",
       "2025        synonym                NaN     CN   \n",
       "2037        synonym                NaN     CN   \n",
       "2038        synonym                NaN     CN   \n",
       "2045        synonym                NaN     CN   \n",
       "2059        synonym                NaN     CN   \n",
       "\n",
       "                                      sentence  \n",
       "1350          [[arco]] is similar to [[bowed]]  \n",
       "1351                                       NaN  \n",
       "1352          [[bowed]] is similar to [[arco]]  \n",
       "1353                                       NaN  \n",
       "1354      [[empty]] is similar to [[stripped]]  \n",
       "...                                        ...  \n",
       "2025       [[value]] is a synonym of [[prize]]  \n",
       "2037      [[weary]] is a synonym of [[aweary]]  \n",
       "2038        [[weary]] is a synonym of [[tire]]  \n",
       "2045  [[whipping]] is a synonym of [[beating]]  \n",
       "2059        [[years]] is a synonym of [[days]]  \n",
       "\n",
       "[76 rows x 10 columns]"
      ]
     },
     "execution_count": 67,
     "metadata": {},
     "output_type": "execute_result"
    }
   ],
   "source": [
    "conceptnet_uniform_df[(conceptnet_uniform_df.category == 'I') & (conceptnet_uniform_df.word1_kg_id != conceptnet_uniform_df.word2_kg_id)].head(100)"
   ]
  },
  {
   "cell_type": "markdown",
   "id": "structural-league",
   "metadata": {},
   "source": [
    "# Wiki-CS"
   ]
  },
  {
   "cell_type": "code",
   "execution_count": 41,
   "id": "incomplete-range",
   "metadata": {},
   "outputs": [
    {
     "data": {
      "text/plain": [
       "inheritance     72707\n",
       "meronymy         6886\n",
       "context          5541\n",
       "distinctness     4934\n",
       "utility          2243\n",
       "antonymy         2184\n",
       "ordering         2107\n",
       "material         1426\n",
       "synonymy         1070\n",
       "properties       1049\n",
       "derivation        540\n",
       "causation         510\n",
       "similarity        345\n",
       "attribution       187\n",
       "other              42\n",
       "Name: dim, dtype: int64"
      ]
     },
     "execution_count": 41,
     "metadata": {},
     "output_type": "execute_result"
    }
   ],
   "source": [
    "wikiDF = pd.read_csv(WIKI_CS_SOURCE_FILE,sep='\\t')\n",
    "mapper1 = {'/r/DistinctFrom': 'distinctness',\n",
    "          '/r/Antonym': 'antonymy',\n",
    "          '/r/Synonym': 'synonymy',\n",
    "          '/r/SimilarTo': 'similarity',\n",
    "          '/r/DerivedFrom': 'derivation',\n",
    "          '/r/IsA': 'inheritance',\n",
    "          '/r/PartOf': 'meronymy',\n",
    "          '/r/MadeOf': 'material',\n",
    "          '/r/CreatedBy': 'attribution',\n",
    "          '/r/UsedFor': 'utility',\n",
    "          '/r/HasProperty': 'properties',\n",
    "          '/r/Causes': 'causation',\n",
    "          '/r/HasPrerequisite': 'ordering',\n",
    "          '/r/HasContext': 'context',\n",
    "          '/r/RelatedTo': 'other'}\n",
    "\n",
    "wikiDF['dim'] = wikiDF['relation'].apply(lambda p: mapper1[p])\n",
    "wikiDF['category'] = wikiDF['dim'].apply(lambda p: 'I' if p == 'synonymy' or p == 'similarity' else 'M')\n",
    "wikiDF['dim'].value_counts()"
   ]
  },
  {
   "cell_type": "code",
   "execution_count": 42,
   "id": "practical-credits",
   "metadata": {},
   "outputs": [
    {
     "data": {
      "text/plain": [
       "M    100701\n",
       "I      1070\n",
       "Name: dim, dtype: int64"
      ]
     },
     "execution_count": 42,
     "metadata": {},
     "output_type": "execute_result"
    }
   ],
   "source": [
    "wikiDF['dim'].apply(lambda p: 'I' if p == 'synonymy' else 'M').value_counts()"
   ]
  },
  {
   "cell_type": "code",
   "execution_count": 43,
   "id": "agreed-strand",
   "metadata": {},
   "outputs": [
    {
     "data": {
      "text/plain": [
       "M    100110\n",
       "I      1415\n",
       "Name: category, dtype: int64"
      ]
     },
     "execution_count": 43,
     "metadata": {},
     "output_type": "execute_result"
    }
   ],
   "source": [
    "wikiDF1 = wikiDF[wikiDF.apply(lambda p: p['node1'].startswith('Q') and p['node2'].startswith('Q'), axis=1)]\n",
    "wikiDF1.category.value_counts()"
   ]
  },
  {
   "cell_type": "code",
   "execution_count": 51,
   "id": "secondary-episode",
   "metadata": {},
   "outputs": [],
   "source": [
    "wikiDF1 = wikiDF1.rename(columns={'node1':'word1_kg_id', 'node2':'word2_kg_id'})\n",
    "wikiDF1[['word1_kg_id', 'word2_kg_id', 'category', 'node1;label', 'node2;label', 'relation', 'relation;label', 'relation;dimension', 'source', 'sentence']].to_csv(WIKI_CS_INTERM_FILE,index=None)"
   ]
  },
  {
   "cell_type": "code",
   "execution_count": 59,
   "id": "artificial-fantasy",
   "metadata": {},
   "outputs": [
    {
     "data": {
      "application/vnd.jupyter.widget-view+json": {
       "model_id": "c0dd5091b52c44849cf5dbfd30090864",
       "version_major": 2,
       "version_minor": 0
      },
      "text/plain": [
       "  0%|          | 0/491297976 [00:00<?, ?it/s]"
      ]
     },
     "metadata": {},
     "output_type": "display_data"
    }
   ],
   "source": [
    "wikiCS_uniform_df = uniformize_dataset(pd.read_csv(WIKI_CS_INTERM_FILE))"
   ]
  },
  {
   "cell_type": "code",
   "execution_count": 66,
   "id": "informative-section",
   "metadata": {},
   "outputs": [],
   "source": [
    "wikiCS_uniform_df.to_csv(WIKI_CS_FINAL_FILE, index=None)"
   ]
  },
  {
   "cell_type": "code",
   "execution_count": 63,
   "id": "strong-romance",
   "metadata": {},
   "outputs": [
    {
     "data": {
      "text/plain": [
       "M    1415\n",
       "I    1415\n",
       "U    1415\n",
       "Name: category, dtype: int64"
      ]
     },
     "execution_count": 63,
     "metadata": {},
     "output_type": "execute_result"
    }
   ],
   "source": [
    "wikiCS_uniform_df.category.value_counts()"
   ]
  },
  {
   "cell_type": "code",
   "execution_count": null,
   "id": "discrete-theory",
   "metadata": {},
   "outputs": [],
   "source": []
  },
  {
   "cell_type": "code",
   "execution_count": null,
   "id": "convinced-intro",
   "metadata": {},
   "outputs": [],
   "source": []
  }
 ],
 "metadata": {
  "kernelspec": {
   "display_name": "kgtkEnv",
   "language": "python",
   "name": "kgtkenv"
  },
  "language_info": {
   "codemirror_mode": {
    "name": "ipython",
    "version": 3
   },
   "file_extension": ".py",
   "mimetype": "text/x-python",
   "name": "python",
   "nbconvert_exporter": "python",
   "pygments_lexer": "ipython3",
   "version": "3.8.5"
  },
  "toc": {
   "base_numbering": 1,
   "nav_menu": {},
   "number_sections": true,
   "sideBar": true,
   "skip_h1_title": false,
   "title_cell": "Table of Contents",
   "title_sidebar": "Contents",
   "toc_cell": false,
   "toc_position": {
    "height": "calc(100% - 180px)",
    "left": "10px",
    "top": "150px",
    "width": "192px"
   },
   "toc_section_display": true,
   "toc_window_display": true
  },
  "varInspector": {
   "cols": {
    "lenName": 16,
    "lenType": 16,
    "lenVar": 40
   },
   "kernels_config": {
    "python": {
     "delete_cmd_postfix": "",
     "delete_cmd_prefix": "del ",
     "library": "var_list.py",
     "varRefreshCmd": "print(var_dic_list())"
    },
    "r": {
     "delete_cmd_postfix": ") ",
     "delete_cmd_prefix": "rm(",
     "library": "var_list.r",
     "varRefreshCmd": "cat(var_dic_list()) "
    }
   },
   "types_to_exclude": [
    "module",
    "function",
    "builtin_function_or_method",
    "instance",
    "_Feature"
   ],
   "window_display": false
  }
 },
 "nbformat": 4,
 "nbformat_minor": 5
}
