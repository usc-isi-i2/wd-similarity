{
 "cells": [
  {
   "cell_type": "markdown",
   "id": "dressed-version",
   "metadata": {},
   "source": [
    "This is a boiler plate code for multi-fold SVM, RF training and testing which has been attempted to be used for Hans' Jiang Conrad similarity values"
   ]
  },
  {
   "cell_type": "code",
   "execution_count": 2,
   "id": "dynamic-generator",
   "metadata": {},
   "outputs": [],
   "source": [
    "import pandas as pd\n",
    "import numpy as np\n",
    "from sklearn.metrics.pairwise import euclidean_distances\n",
    "from sklearn.metrics.pairwise import cosine_similarity\n",
    "import scipy.stats as stats\n",
    "from sklearn.metrics import accuracy_score\n",
    "from sklearn.metrics import confusion_matrix\n",
    "import seaborn as sns\n",
    "import matplotlib.pyplot as plt\n",
    "from tqdm.notebook import tqdm\n",
    "from itertools import combinations\n",
    "from math import comb\n",
    "from sklearn.ensemble import RandomForestClassifier"
   ]
  },
  {
   "cell_type": "markdown",
   "id": "million-analyst",
   "metadata": {},
   "source": [
    "# Determine Differences"
   ]
  },
  {
   "cell_type": "code",
   "execution_count": 3,
   "id": "operating-launch",
   "metadata": {},
   "outputs": [],
   "source": [
    "wordSim353AnnotDF_New_Merged_DF = pd.read_csv('../data/wordsim353_annotation_task_qnodes_kartik_20210629+IDs+jiang_conrath_sim.tsv', sep='\\t')"
   ]
  },
  {
   "cell_type": "code",
   "execution_count": 4,
   "id": "regional-denmark",
   "metadata": {},
   "outputs": [],
   "source": [
    "wordsimLat = pd.read_csv('../data/wordsim353_all_embeddings_with_retrofits.csv')"
   ]
  },
  {
   "cell_type": "code",
   "execution_count": 6,
   "id": "functional-chosen",
   "metadata": {},
   "outputs": [],
   "source": [
    "wordSim353AnnotDF_New_Merged_DF = wordSim353AnnotDF_New_Merged_DF.set_index(['Word 1', 'Word 2']).join(wordsimLat.set_index(['Word 1', 'Word 2']),rsuffix='_right')"
   ]
  },
  {
   "cell_type": "code",
   "execution_count": 9,
   "id": "coral-puppy",
   "metadata": {},
   "outputs": [],
   "source": [
    "wordSim353AnnotDF_New_Merged_DF = wordSim353AnnotDF_New_Merged_DF.reset_index()"
   ]
  },
  {
   "cell_type": "code",
   "execution_count": 10,
   "id": "alone-rendering",
   "metadata": {},
   "outputs": [
    {
     "data": {
      "text/html": [
       "<div>\n",
       "<style scoped>\n",
       "    .dataframe tbody tr th:only-of-type {\n",
       "        vertical-align: middle;\n",
       "    }\n",
       "\n",
       "    .dataframe tbody tr th {\n",
       "        vertical-align: top;\n",
       "    }\n",
       "\n",
       "    .dataframe thead th {\n",
       "        text-align: right;\n",
       "    }\n",
       "</style>\n",
       "<table border=\"1\" class=\"dataframe\">\n",
       "  <thead>\n",
       "    <tr style=\"text-align: right;\">\n",
       "      <th></th>\n",
       "      <th>Word 1</th>\n",
       "      <th>Word 2</th>\n",
       "      <th>ID</th>\n",
       "      <th>word1_kg_id</th>\n",
       "      <th>word1_kg_label</th>\n",
       "      <th>word1_kg_description</th>\n",
       "      <th>word2_kg_id</th>\n",
       "      <th>word2_kg_label</th>\n",
       "      <th>word2_kg_description</th>\n",
       "      <th>Human (Mean)</th>\n",
       "      <th>...</th>\n",
       "      <th>concat_19k_v2_word1_new</th>\n",
       "      <th>concat_19k_v2_word2_new</th>\n",
       "      <th>concat_19k_v2_old_cosSim</th>\n",
       "      <th>concat_19k_v2_2_new_cosSim</th>\n",
       "      <th>concat_probase_19k_v2_word1_old</th>\n",
       "      <th>concat_probase_19k_v2_word2_old</th>\n",
       "      <th>concat_probase_19k_v2_word1_new</th>\n",
       "      <th>concat_probase_19k_v2_word2_new</th>\n",
       "      <th>concat_probase_19k_v2_old_cosSim</th>\n",
       "      <th>concat_probase_19k_v2_2_new_cosSim</th>\n",
       "    </tr>\n",
       "  </thead>\n",
       "  <tbody>\n",
       "    <tr>\n",
       "      <th>0</th>\n",
       "      <td>Arafat</td>\n",
       "      <td>peace</td>\n",
       "      <td>8</td>\n",
       "      <td>Q34211</td>\n",
       "      <td>Yasser Arafat</td>\n",
       "      <td>former Palestinian President</td>\n",
       "      <td>Q454</td>\n",
       "      <td>peace</td>\n",
       "      <td>state of harmony characterized by lack of viol...</td>\n",
       "      <td>2.1250</td>\n",
       "      <td>...</td>\n",
       "      <td>[0.006720443092017323, 0.008331487679612525, 0...</td>\n",
       "      <td>[-0.004515859576248157, -0.01172366887295375, ...</td>\n",
       "      <td>3.244539</td>\n",
       "      <td>3.175157</td>\n",
       "      <td>[0.006720440291834372, 0.008331484208161396, 0...</td>\n",
       "      <td>[-0.005011610937734838, -0.013383541550578623,...</td>\n",
       "      <td>[0.006720440291834372, 0.008331484208161396, 0...</td>\n",
       "      <td>[-0.00497129831746384, -0.01325426749683971, -...</td>\n",
       "      <td>3.244539</td>\n",
       "      <td>3.240270</td>\n",
       "    </tr>\n",
       "    <tr>\n",
       "      <th>1</th>\n",
       "      <td>Arafat</td>\n",
       "      <td>terror</td>\n",
       "      <td>9</td>\n",
       "      <td>Q34211</td>\n",
       "      <td>Yasser Arafat</td>\n",
       "      <td>former Palestinian President</td>\n",
       "      <td>Q13648784</td>\n",
       "      <td>terror</td>\n",
       "      <td>policy of political repression and violence</td>\n",
       "      <td>3.0625</td>\n",
       "      <td>...</td>\n",
       "      <td>[0.006720443092017323, 0.008331487679612525, 0...</td>\n",
       "      <td>[-0.004862257088069111, 0.014077170590128979, ...</td>\n",
       "      <td>3.085083</td>\n",
       "      <td>3.013958</td>\n",
       "      <td>[0.006720440291834372, 0.008331484208161396, 0...</td>\n",
       "      <td>[-0.005805280438126139, 0.015115419696749257, ...</td>\n",
       "      <td>[0.006720440291834372, 0.008331484208161396, 0...</td>\n",
       "      <td>[-0.004862255062129871, 0.014077164724644747, ...</td>\n",
       "      <td>3.085083</td>\n",
       "      <td>3.013958</td>\n",
       "    </tr>\n",
       "    <tr>\n",
       "      <th>2</th>\n",
       "      <td>FBI</td>\n",
       "      <td>fingerprint</td>\n",
       "      <td>109</td>\n",
       "      <td>Q8333</td>\n",
       "      <td>Federal Bureau of Investigation</td>\n",
       "      <td>United States law enforcement agency</td>\n",
       "      <td>Q178022</td>\n",
       "      <td>fingerprint</td>\n",
       "      <td>biometric identifier</td>\n",
       "      <td>4.0625</td>\n",
       "      <td>...</td>\n",
       "      <td>[0.006466897059812569, 0.014694837542908411, -...</td>\n",
       "      <td>[0.01523113309590259, 0.005271417380511587, -0...</td>\n",
       "      <td>2.823093</td>\n",
       "      <td>2.745230</td>\n",
       "      <td>[0.006466894365273728, 0.014694831420063071, -...</td>\n",
       "      <td>[0.013922101136130544, 0.0023911842131386003, ...</td>\n",
       "      <td>[0.006466894365273728, 0.014694831420063071, -...</td>\n",
       "      <td>[0.013814564227839972, 0.0024352598952305004, ...</td>\n",
       "      <td>2.823093</td>\n",
       "      <td>2.816176</td>\n",
       "    </tr>\n",
       "    <tr>\n",
       "      <th>3</th>\n",
       "      <td>FBI</td>\n",
       "      <td>investigation</td>\n",
       "      <td>110</td>\n",
       "      <td>Q8333</td>\n",
       "      <td>Federal Bureau of Investigation</td>\n",
       "      <td>United States law enforcement agency</td>\n",
       "      <td>Q21004260</td>\n",
       "      <td>inquiry</td>\n",
       "      <td>process that has the aim of augmenting knowled...</td>\n",
       "      <td>5.0625</td>\n",
       "      <td>...</td>\n",
       "      <td>[0.006466897059812569, 0.014694837542908411, -...</td>\n",
       "      <td>[0.013016090623183913, 0.01114268771757639, -0...</td>\n",
       "      <td>2.920986</td>\n",
       "      <td>2.886161</td>\n",
       "      <td>[0.006466894365273728, 0.014694831420063071, -...</td>\n",
       "      <td>[0.01327496060589727, 0.010965634890657862, -0...</td>\n",
       "      <td>[0.006466894365273728, 0.014694831420063071, -...</td>\n",
       "      <td>[0.013242882546106787, 0.010953106196386554, -...</td>\n",
       "      <td>2.920986</td>\n",
       "      <td>2.919120</td>\n",
       "    </tr>\n",
       "    <tr>\n",
       "      <th>4</th>\n",
       "      <td>Harvard</td>\n",
       "      <td>Yale</td>\n",
       "      <td>137</td>\n",
       "      <td>Q13371</td>\n",
       "      <td>Harvard University</td>\n",
       "      <td>private research university in Cambridge, Mass...</td>\n",
       "      <td>Q49112</td>\n",
       "      <td>Yale University</td>\n",
       "      <td>private research university in New Haven, Conn...</td>\n",
       "      <td>4.8750</td>\n",
       "      <td>...</td>\n",
       "      <td>[0.01322626159341165, 0.005047111630696947, -0...</td>\n",
       "      <td>[0.010410829393995813, 0.014776997996557633, -...</td>\n",
       "      <td>1.707655</td>\n",
       "      <td>1.707655</td>\n",
       "      <td>[0.013226256082472592, 0.005047109527735016, -...</td>\n",
       "      <td>[0.010410825056152807, 0.014776991839478788, -...</td>\n",
       "      <td>[0.013226256082472592, 0.005047109527735016, -...</td>\n",
       "      <td>[0.010410825056152807, 0.014776991839478788, -...</td>\n",
       "      <td>1.707655</td>\n",
       "      <td>1.707655</td>\n",
       "    </tr>\n",
       "  </tbody>\n",
       "</table>\n",
       "<p>5 rows × 117 columns</p>\n",
       "</div>"
      ],
      "text/plain": [
       "    Word 1         Word 2   ID word1_kg_id                   word1_kg_label  \\\n",
       "0   Arafat          peace    8      Q34211                    Yasser Arafat   \n",
       "1   Arafat         terror    9      Q34211                    Yasser Arafat   \n",
       "2      FBI    fingerprint  109       Q8333  Federal Bureau of Investigation   \n",
       "3      FBI  investigation  110       Q8333  Federal Bureau of Investigation   \n",
       "4  Harvard           Yale  137      Q13371               Harvard University   \n",
       "\n",
       "                                word1_kg_description word2_kg_id  \\\n",
       "0                       former Palestinian President        Q454   \n",
       "1                       former Palestinian President   Q13648784   \n",
       "2               United States law enforcement agency     Q178022   \n",
       "3               United States law enforcement agency   Q21004260   \n",
       "4  private research university in Cambridge, Mass...      Q49112   \n",
       "\n",
       "    word2_kg_label                               word2_kg_description  \\\n",
       "0            peace  state of harmony characterized by lack of viol...   \n",
       "1           terror        policy of political repression and violence   \n",
       "2      fingerprint                               biometric identifier   \n",
       "3          inquiry  process that has the aim of augmenting knowled...   \n",
       "4  Yale University  private research university in New Haven, Conn...   \n",
       "\n",
       "   Human (Mean)  ...                            concat_19k_v2_word1_new  \\\n",
       "0        2.1250  ...  [0.006720443092017323, 0.008331487679612525, 0...   \n",
       "1        3.0625  ...  [0.006720443092017323, 0.008331487679612525, 0...   \n",
       "2        4.0625  ...  [0.006466897059812569, 0.014694837542908411, -...   \n",
       "3        5.0625  ...  [0.006466897059812569, 0.014694837542908411, -...   \n",
       "4        4.8750  ...  [0.01322626159341165, 0.005047111630696947, -0...   \n",
       "\n",
       "                             concat_19k_v2_word2_new  \\\n",
       "0  [-0.004515859576248157, -0.01172366887295375, ...   \n",
       "1  [-0.004862257088069111, 0.014077170590128979, ...   \n",
       "2  [0.01523113309590259, 0.005271417380511587, -0...   \n",
       "3  [0.013016090623183913, 0.01114268771757639, -0...   \n",
       "4  [0.010410829393995813, 0.014776997996557633, -...   \n",
       "\n",
       "   concat_19k_v2_old_cosSim  concat_19k_v2_2_new_cosSim  \\\n",
       "0                  3.244539                    3.175157   \n",
       "1                  3.085083                    3.013958   \n",
       "2                  2.823093                    2.745230   \n",
       "3                  2.920986                    2.886161   \n",
       "4                  1.707655                    1.707655   \n",
       "\n",
       "                     concat_probase_19k_v2_word1_old  \\\n",
       "0  [0.006720440291834372, 0.008331484208161396, 0...   \n",
       "1  [0.006720440291834372, 0.008331484208161396, 0...   \n",
       "2  [0.006466894365273728, 0.014694831420063071, -...   \n",
       "3  [0.006466894365273728, 0.014694831420063071, -...   \n",
       "4  [0.013226256082472592, 0.005047109527735016, -...   \n",
       "\n",
       "                     concat_probase_19k_v2_word2_old  \\\n",
       "0  [-0.005011610937734838, -0.013383541550578623,...   \n",
       "1  [-0.005805280438126139, 0.015115419696749257, ...   \n",
       "2  [0.013922101136130544, 0.0023911842131386003, ...   \n",
       "3  [0.01327496060589727, 0.010965634890657862, -0...   \n",
       "4  [0.010410825056152807, 0.014776991839478788, -...   \n",
       "\n",
       "                     concat_probase_19k_v2_word1_new  \\\n",
       "0  [0.006720440291834372, 0.008331484208161396, 0...   \n",
       "1  [0.006720440291834372, 0.008331484208161396, 0...   \n",
       "2  [0.006466894365273728, 0.014694831420063071, -...   \n",
       "3  [0.006466894365273728, 0.014694831420063071, -...   \n",
       "4  [0.013226256082472592, 0.005047109527735016, -...   \n",
       "\n",
       "                     concat_probase_19k_v2_word2_new  \\\n",
       "0  [-0.00497129831746384, -0.01325426749683971, -...   \n",
       "1  [-0.004862255062129871, 0.014077164724644747, ...   \n",
       "2  [0.013814564227839972, 0.0024352598952305004, ...   \n",
       "3  [0.013242882546106787, 0.010953106196386554, -...   \n",
       "4  [0.010410825056152807, 0.014776991839478788, -...   \n",
       "\n",
       "   concat_probase_19k_v2_old_cosSim concat_probase_19k_v2_2_new_cosSim  \n",
       "0                          3.244539                           3.240270  \n",
       "1                          3.085083                           3.013958  \n",
       "2                          2.823093                           2.816176  \n",
       "3                          2.920986                           2.919120  \n",
       "4                          1.707655                           1.707655  \n",
       "\n",
       "[5 rows x 117 columns]"
      ]
     },
     "execution_count": 10,
     "metadata": {},
     "output_type": "execute_result"
    }
   ],
   "source": [
    "wordSim353AnnotDF_New_Merged_DF.head()"
   ]
  },
  {
   "cell_type": "code",
   "execution_count": 11,
   "id": "documented-civilian",
   "metadata": {},
   "outputs": [
    {
     "data": {
      "text/plain": [
       "[0, 1, 1, 19, 4, 0]"
      ]
     },
     "execution_count": 11,
     "metadata": {},
     "output_type": "execute_result"
    }
   ],
   "source": [
    "[wordSim353AnnotDF_New_Merged_DF[col].isna().sum() for col in ['Human (Mean)', 'complex', 'transe', 'text', 'class', 'jc_sim']]"
   ]
  },
  {
   "cell_type": "code",
   "execution_count": 12,
   "id": "hollywood-trade",
   "metadata": {},
   "outputs": [],
   "source": [
    "for col in ['complex', 'transe', 'text', 'class', 'jc_sim']:\n",
    "    wordSim353AnnotDF_New_Merged_DF[col] = wordSim353AnnotDF_New_Merged_DF[col].fillna(-1)"
   ]
  },
  {
   "cell_type": "code",
   "execution_count": 5,
   "id": "dangerous-syndicate",
   "metadata": {},
   "outputs": [],
   "source": [
    "# def determineFarNessOfOld(val1):\n",
    "#     if 0.000000 <= val1 < 0.496332:\n",
    "#         return 0\n",
    "#     else:\n",
    "#         return 1\n",
    "# def determineFarNessOfNew(val1):\n",
    "#     if 0 <= val1 < 0.570044:\n",
    "#         return 0\n",
    "#     else:\n",
    "#         return 1\n",
    "\n",
    "# wordSim353AnnotDF_New_Merged_DF['transe_19k_old_cosSim_Diff_Cat'] = wordSim353AnnotDF_New_Merged_DF['transe_19k_old_cosSim_Diff'].apply(determineFarNessOfOld)\n",
    "# wordSim353AnnotDF_New_Merged_DF['transe_19k_1_new_cosSim_Diff_Cat'] = wordSim353AnnotDF_New_Merged_DF['transe_19k_1_new_cosSim_Diff'].apply(determineFarNessOfNew)"
   ]
  },
  {
   "cell_type": "code",
   "execution_count": 6,
   "id": "monthly-application",
   "metadata": {},
   "outputs": [],
   "source": [
    "# wordSim353AnnotDF_New_Merged_DF = wordSim353AnnotDF_New_Merged_DF[['Word 1', 'Word 2', 'Avg', 'transe_19k_old_cosSim', 'transe_19k_1_new_cosSim', 'transe_19k_old_cosSim_Diff', 'transe_19k_1_new_cosSim_Diff', 'transe_19k_old_cosSim_Diff_Cat', 'transe_19k_1_new_cosSim_Diff_Cat']]"
   ]
  },
  {
   "cell_type": "code",
   "execution_count": 7,
   "id": "ultimate-stuff",
   "metadata": {},
   "outputs": [],
   "source": [
    "# wordSim353AnnotDF_New_Merged_DF"
   ]
  },
  {
   "cell_type": "code",
   "execution_count": 8,
   "id": "timely-jefferson",
   "metadata": {},
   "outputs": [],
   "source": [
    "# len(wordSim353AnnotDF_New_Merged_DF[(wordSim353AnnotDF_New_Merged_DF['transe_19k_old_cosSim_Diff_Cat'] == 0) & (wordSim353AnnotDF_New_Merged_DF['transe_19k_1_new_cosSim_Diff_Cat'] == 0)])"
   ]
  },
  {
   "cell_type": "code",
   "execution_count": 9,
   "id": "miniature-problem",
   "metadata": {},
   "outputs": [],
   "source": [
    "# wordSim353AnnotDF_New_Merged_DF = wordSim353AnnotDF_New_Merged_DF[]"
   ]
  },
  {
   "cell_type": "code",
   "execution_count": 10,
   "id": "incorporate-intermediate",
   "metadata": {},
   "outputs": [],
   "source": [
    "# wordSim353AnnotDF_New_Merged_DF[(wordSim353AnnotDF_New_Merged_DF['transe_19k_old_cosSim_Diff_Cat'] == 0) & (wordSim353AnnotDF_New_Merged_DF['transe_19k_1_new_cosSim_Diff_Cat'] == 0)].to_csv('../data/transEmb/good+good.csv',index=None)"
   ]
  },
  {
   "cell_type": "code",
   "execution_count": 11,
   "id": "american-february",
   "metadata": {},
   "outputs": [],
   "source": [
    "# wordSim353AnnotDF_New_Merged_DF[(wordSim353AnnotDF_New_Merged_DF['transe_19k_old_cosSim_Diff_Cat'] == 0) & (wordSim353AnnotDF_New_Merged_DF['transe_19k_1_new_cosSim_Diff_Cat'] == 1)].to_csv('../data/transEmb/good+bad.csv',index=None)"
   ]
  },
  {
   "cell_type": "code",
   "execution_count": 12,
   "id": "herbal-kitty",
   "metadata": {},
   "outputs": [],
   "source": [
    "# wordSim353AnnotDF_New_Merged_DF[(wordSim353AnnotDF_New_Merged_DF['transe_19k_old_cosSim_Diff_Cat'] == 1) & (wordSim353AnnotDF_New_Merged_DF['transe_19k_1_new_cosSim_Diff_Cat'] == 0)].to_csv('../data/transEmb/bad+good.csv',index=None)"
   ]
  },
  {
   "cell_type": "code",
   "execution_count": 13,
   "id": "outside-korean",
   "metadata": {},
   "outputs": [],
   "source": [
    "# wordSim353AnnotDF_New_Merged_DF[(wordSim353AnnotDF_New_Merged_DF['transe_19k_old_cosSim_Diff_Cat'] == 1) & (wordSim353AnnotDF_New_Merged_DF['transe_19k_1_new_cosSim_Diff_Cat'] == 1)].to_csv('../data/transEmb/bad+bad.csv',index=None)"
   ]
  },
  {
   "cell_type": "code",
   "execution_count": null,
   "id": "steady-alliance",
   "metadata": {},
   "outputs": [],
   "source": []
  },
  {
   "cell_type": "code",
   "execution_count": null,
   "id": "thousand-multiple",
   "metadata": {},
   "outputs": [],
   "source": []
  },
  {
   "cell_type": "markdown",
   "id": "nominated-variance",
   "metadata": {},
   "source": [
    "# SVM Models"
   ]
  },
  {
   "cell_type": "code",
   "execution_count": 14,
   "id": "perceived-dutch",
   "metadata": {},
   "outputs": [],
   "source": [
    "wordSim353AnnotDF_New_Merged_DF = pd.read_csv('../data/wordsim353_annotation_task_qnodes_kartik_20210629+IDs+jiang_conrath_sim.tsv', sep='\\t')"
   ]
  },
  {
   "cell_type": "code",
   "execution_count": 13,
   "id": "choice-worse",
   "metadata": {},
   "outputs": [
    {
     "data": {
      "text/html": [
       "<div>\n",
       "<style scoped>\n",
       "    .dataframe tbody tr th:only-of-type {\n",
       "        vertical-align: middle;\n",
       "    }\n",
       "\n",
       "    .dataframe tbody tr th {\n",
       "        vertical-align: top;\n",
       "    }\n",
       "\n",
       "    .dataframe thead th {\n",
       "        text-align: right;\n",
       "    }\n",
       "</style>\n",
       "<table border=\"1\" class=\"dataframe\">\n",
       "  <thead>\n",
       "    <tr style=\"text-align: right;\">\n",
       "      <th></th>\n",
       "      <th>Word 1</th>\n",
       "      <th>Word 2</th>\n",
       "      <th>ID</th>\n",
       "      <th>word1_kg_id</th>\n",
       "      <th>word1_kg_label</th>\n",
       "      <th>word1_kg_description</th>\n",
       "      <th>word2_kg_id</th>\n",
       "      <th>word2_kg_label</th>\n",
       "      <th>word2_kg_description</th>\n",
       "      <th>Human (Mean)</th>\n",
       "      <th>...</th>\n",
       "      <th>concat_19k_v2_word1_new</th>\n",
       "      <th>concat_19k_v2_word2_new</th>\n",
       "      <th>concat_19k_v2_old_cosSim</th>\n",
       "      <th>concat_19k_v2_2_new_cosSim</th>\n",
       "      <th>concat_probase_19k_v2_word1_old</th>\n",
       "      <th>concat_probase_19k_v2_word2_old</th>\n",
       "      <th>concat_probase_19k_v2_word1_new</th>\n",
       "      <th>concat_probase_19k_v2_word2_new</th>\n",
       "      <th>concat_probase_19k_v2_old_cosSim</th>\n",
       "      <th>concat_probase_19k_v2_2_new_cosSim</th>\n",
       "    </tr>\n",
       "  </thead>\n",
       "  <tbody>\n",
       "    <tr>\n",
       "      <th>0</th>\n",
       "      <td>Arafat</td>\n",
       "      <td>peace</td>\n",
       "      <td>8</td>\n",
       "      <td>Q34211</td>\n",
       "      <td>Yasser Arafat</td>\n",
       "      <td>former Palestinian President</td>\n",
       "      <td>Q454</td>\n",
       "      <td>peace</td>\n",
       "      <td>state of harmony characterized by lack of viol...</td>\n",
       "      <td>2.1250</td>\n",
       "      <td>...</td>\n",
       "      <td>[0.006720443092017323, 0.008331487679612525, 0...</td>\n",
       "      <td>[-0.004515859576248157, -0.01172366887295375, ...</td>\n",
       "      <td>3.244539</td>\n",
       "      <td>3.175157</td>\n",
       "      <td>[0.006720440291834372, 0.008331484208161396, 0...</td>\n",
       "      <td>[-0.005011610937734838, -0.013383541550578623,...</td>\n",
       "      <td>[0.006720440291834372, 0.008331484208161396, 0...</td>\n",
       "      <td>[-0.00497129831746384, -0.01325426749683971, -...</td>\n",
       "      <td>3.244539</td>\n",
       "      <td>3.240270</td>\n",
       "    </tr>\n",
       "    <tr>\n",
       "      <th>1</th>\n",
       "      <td>Arafat</td>\n",
       "      <td>terror</td>\n",
       "      <td>9</td>\n",
       "      <td>Q34211</td>\n",
       "      <td>Yasser Arafat</td>\n",
       "      <td>former Palestinian President</td>\n",
       "      <td>Q13648784</td>\n",
       "      <td>terror</td>\n",
       "      <td>policy of political repression and violence</td>\n",
       "      <td>3.0625</td>\n",
       "      <td>...</td>\n",
       "      <td>[0.006720443092017323, 0.008331487679612525, 0...</td>\n",
       "      <td>[-0.004862257088069111, 0.014077170590128979, ...</td>\n",
       "      <td>3.085083</td>\n",
       "      <td>3.013958</td>\n",
       "      <td>[0.006720440291834372, 0.008331484208161396, 0...</td>\n",
       "      <td>[-0.005805280438126139, 0.015115419696749257, ...</td>\n",
       "      <td>[0.006720440291834372, 0.008331484208161396, 0...</td>\n",
       "      <td>[-0.004862255062129871, 0.014077164724644747, ...</td>\n",
       "      <td>3.085083</td>\n",
       "      <td>3.013958</td>\n",
       "    </tr>\n",
       "    <tr>\n",
       "      <th>2</th>\n",
       "      <td>FBI</td>\n",
       "      <td>fingerprint</td>\n",
       "      <td>109</td>\n",
       "      <td>Q8333</td>\n",
       "      <td>Federal Bureau of Investigation</td>\n",
       "      <td>United States law enforcement agency</td>\n",
       "      <td>Q178022</td>\n",
       "      <td>fingerprint</td>\n",
       "      <td>biometric identifier</td>\n",
       "      <td>4.0625</td>\n",
       "      <td>...</td>\n",
       "      <td>[0.006466897059812569, 0.014694837542908411, -...</td>\n",
       "      <td>[0.01523113309590259, 0.005271417380511587, -0...</td>\n",
       "      <td>2.823093</td>\n",
       "      <td>2.745230</td>\n",
       "      <td>[0.006466894365273728, 0.014694831420063071, -...</td>\n",
       "      <td>[0.013922101136130544, 0.0023911842131386003, ...</td>\n",
       "      <td>[0.006466894365273728, 0.014694831420063071, -...</td>\n",
       "      <td>[0.013814564227839972, 0.0024352598952305004, ...</td>\n",
       "      <td>2.823093</td>\n",
       "      <td>2.816176</td>\n",
       "    </tr>\n",
       "    <tr>\n",
       "      <th>3</th>\n",
       "      <td>FBI</td>\n",
       "      <td>investigation</td>\n",
       "      <td>110</td>\n",
       "      <td>Q8333</td>\n",
       "      <td>Federal Bureau of Investigation</td>\n",
       "      <td>United States law enforcement agency</td>\n",
       "      <td>Q21004260</td>\n",
       "      <td>inquiry</td>\n",
       "      <td>process that has the aim of augmenting knowled...</td>\n",
       "      <td>5.0625</td>\n",
       "      <td>...</td>\n",
       "      <td>[0.006466897059812569, 0.014694837542908411, -...</td>\n",
       "      <td>[0.013016090623183913, 0.01114268771757639, -0...</td>\n",
       "      <td>2.920986</td>\n",
       "      <td>2.886161</td>\n",
       "      <td>[0.006466894365273728, 0.014694831420063071, -...</td>\n",
       "      <td>[0.01327496060589727, 0.010965634890657862, -0...</td>\n",
       "      <td>[0.006466894365273728, 0.014694831420063071, -...</td>\n",
       "      <td>[0.013242882546106787, 0.010953106196386554, -...</td>\n",
       "      <td>2.920986</td>\n",
       "      <td>2.919120</td>\n",
       "    </tr>\n",
       "    <tr>\n",
       "      <th>4</th>\n",
       "      <td>Harvard</td>\n",
       "      <td>Yale</td>\n",
       "      <td>137</td>\n",
       "      <td>Q13371</td>\n",
       "      <td>Harvard University</td>\n",
       "      <td>private research university in Cambridge, Mass...</td>\n",
       "      <td>Q49112</td>\n",
       "      <td>Yale University</td>\n",
       "      <td>private research university in New Haven, Conn...</td>\n",
       "      <td>4.8750</td>\n",
       "      <td>...</td>\n",
       "      <td>[0.01322626159341165, 0.005047111630696947, -0...</td>\n",
       "      <td>[0.010410829393995813, 0.014776997996557633, -...</td>\n",
       "      <td>1.707655</td>\n",
       "      <td>1.707655</td>\n",
       "      <td>[0.013226256082472592, 0.005047109527735016, -...</td>\n",
       "      <td>[0.010410825056152807, 0.014776991839478788, -...</td>\n",
       "      <td>[0.013226256082472592, 0.005047109527735016, -...</td>\n",
       "      <td>[0.010410825056152807, 0.014776991839478788, -...</td>\n",
       "      <td>1.707655</td>\n",
       "      <td>1.707655</td>\n",
       "    </tr>\n",
       "  </tbody>\n",
       "</table>\n",
       "<p>5 rows × 117 columns</p>\n",
       "</div>"
      ],
      "text/plain": [
       "    Word 1         Word 2   ID word1_kg_id                   word1_kg_label  \\\n",
       "0   Arafat          peace    8      Q34211                    Yasser Arafat   \n",
       "1   Arafat         terror    9      Q34211                    Yasser Arafat   \n",
       "2      FBI    fingerprint  109       Q8333  Federal Bureau of Investigation   \n",
       "3      FBI  investigation  110       Q8333  Federal Bureau of Investigation   \n",
       "4  Harvard           Yale  137      Q13371               Harvard University   \n",
       "\n",
       "                                word1_kg_description word2_kg_id  \\\n",
       "0                       former Palestinian President        Q454   \n",
       "1                       former Palestinian President   Q13648784   \n",
       "2               United States law enforcement agency     Q178022   \n",
       "3               United States law enforcement agency   Q21004260   \n",
       "4  private research university in Cambridge, Mass...      Q49112   \n",
       "\n",
       "    word2_kg_label                               word2_kg_description  \\\n",
       "0            peace  state of harmony characterized by lack of viol...   \n",
       "1           terror        policy of political repression and violence   \n",
       "2      fingerprint                               biometric identifier   \n",
       "3          inquiry  process that has the aim of augmenting knowled...   \n",
       "4  Yale University  private research university in New Haven, Conn...   \n",
       "\n",
       "   Human (Mean)  ...                            concat_19k_v2_word1_new  \\\n",
       "0        2.1250  ...  [0.006720443092017323, 0.008331487679612525, 0...   \n",
       "1        3.0625  ...  [0.006720443092017323, 0.008331487679612525, 0...   \n",
       "2        4.0625  ...  [0.006466897059812569, 0.014694837542908411, -...   \n",
       "3        5.0625  ...  [0.006466897059812569, 0.014694837542908411, -...   \n",
       "4        4.8750  ...  [0.01322626159341165, 0.005047111630696947, -0...   \n",
       "\n",
       "                             concat_19k_v2_word2_new  \\\n",
       "0  [-0.004515859576248157, -0.01172366887295375, ...   \n",
       "1  [-0.004862257088069111, 0.014077170590128979, ...   \n",
       "2  [0.01523113309590259, 0.005271417380511587, -0...   \n",
       "3  [0.013016090623183913, 0.01114268771757639, -0...   \n",
       "4  [0.010410829393995813, 0.014776997996557633, -...   \n",
       "\n",
       "   concat_19k_v2_old_cosSim  concat_19k_v2_2_new_cosSim  \\\n",
       "0                  3.244539                    3.175157   \n",
       "1                  3.085083                    3.013958   \n",
       "2                  2.823093                    2.745230   \n",
       "3                  2.920986                    2.886161   \n",
       "4                  1.707655                    1.707655   \n",
       "\n",
       "                     concat_probase_19k_v2_word1_old  \\\n",
       "0  [0.006720440291834372, 0.008331484208161396, 0...   \n",
       "1  [0.006720440291834372, 0.008331484208161396, 0...   \n",
       "2  [0.006466894365273728, 0.014694831420063071, -...   \n",
       "3  [0.006466894365273728, 0.014694831420063071, -...   \n",
       "4  [0.013226256082472592, 0.005047109527735016, -...   \n",
       "\n",
       "                     concat_probase_19k_v2_word2_old  \\\n",
       "0  [-0.005011610937734838, -0.013383541550578623,...   \n",
       "1  [-0.005805280438126139, 0.015115419696749257, ...   \n",
       "2  [0.013922101136130544, 0.0023911842131386003, ...   \n",
       "3  [0.01327496060589727, 0.010965634890657862, -0...   \n",
       "4  [0.010410825056152807, 0.014776991839478788, -...   \n",
       "\n",
       "                     concat_probase_19k_v2_word1_new  \\\n",
       "0  [0.006720440291834372, 0.008331484208161396, 0...   \n",
       "1  [0.006720440291834372, 0.008331484208161396, 0...   \n",
       "2  [0.006466894365273728, 0.014694831420063071, -...   \n",
       "3  [0.006466894365273728, 0.014694831420063071, -...   \n",
       "4  [0.013226256082472592, 0.005047109527735016, -...   \n",
       "\n",
       "                     concat_probase_19k_v2_word2_new  \\\n",
       "0  [-0.00497129831746384, -0.01325426749683971, -...   \n",
       "1  [-0.004862255062129871, 0.014077164724644747, ...   \n",
       "2  [0.013814564227839972, 0.0024352598952305004, ...   \n",
       "3  [0.013242882546106787, 0.010953106196386554, -...   \n",
       "4  [0.010410825056152807, 0.014776991839478788, -...   \n",
       "\n",
       "   concat_probase_19k_v2_old_cosSim concat_probase_19k_v2_2_new_cosSim  \n",
       "0                          3.244539                           3.240270  \n",
       "1                          3.085083                           3.013958  \n",
       "2                          2.823093                           2.816176  \n",
       "3                          2.920986                           2.919120  \n",
       "4                          1.707655                           1.707655  \n",
       "\n",
       "[5 rows x 117 columns]"
      ]
     },
     "execution_count": 13,
     "metadata": {},
     "output_type": "execute_result"
    }
   ],
   "source": [
    "wordSim353AnnotDF_New_Merged_DF.head()"
   ]
  },
  {
   "cell_type": "code",
   "execution_count": 14,
   "id": "continuing-fraud",
   "metadata": {},
   "outputs": [
    {
     "data": {
      "text/plain": [
       "['Word 1',\n",
       " 'Word 2',\n",
       " 'ID',\n",
       " 'word1_kg_id',\n",
       " 'word1_kg_label',\n",
       " 'word1_kg_description',\n",
       " 'word2_kg_id',\n",
       " 'word2_kg_label',\n",
       " 'word2_kg_description',\n",
       " 'Human (Mean)',\n",
       " 'complex',\n",
       " 'transe',\n",
       " 'text',\n",
       " 'class',\n",
       " 'jc_sim',\n",
       " 'ID_right',\n",
       " 'H_Sim',\n",
       " 'H_Dim',\n",
       " 'F_Sim',\n",
       " 'F_Dim',\n",
       " 'N_Sim',\n",
       " 'N_Dim',\n",
       " 'D_Sim',\n",
       " 'D_Dim',\n",
       " 'P_Sim',\n",
       " 'P_Dim',\n",
       " 'Avg',\n",
       " 'Stdev',\n",
       " 'H_orig',\n",
       " 'H_reversed',\n",
       " 'word1_kg_id_right',\n",
       " 'word2_kg_id_right',\n",
       " 'category',\n",
       " 'text_7props_19k_word1_old',\n",
       " 'text_7props_19k_word2_old',\n",
       " 'text_7props_19k_word1_new',\n",
       " 'text_7props_19k_word2_new',\n",
       " 'text_7props_19k_old_cosSim',\n",
       " 'text_7props_19k_2_new_cosSim',\n",
       " 'text_2props_19k_word1_old',\n",
       " 'text_2props_19k_word2_old',\n",
       " 'text_2props_19k_word1_new',\n",
       " 'text_2props_19k_word2_new',\n",
       " 'text_2props_19k_old_cosSim',\n",
       " 'text_2props_19k_2_new_cosSim',\n",
       " 'complex_19k_word1_old',\n",
       " 'complex_19k_word2_old',\n",
       " 'complex_19k_word1_new',\n",
       " 'complex_19k_word2_new',\n",
       " 'complex_19k_old_cosSim',\n",
       " 'complex_19k_1_new_cosSim',\n",
       " 'transe_19k_word1_old',\n",
       " 'transe_19k_word2_old',\n",
       " 'transe_19k_word1_new',\n",
       " 'transe_19k_word2_new',\n",
       " 'transe_19k_old_cosSim',\n",
       " 'transe_19k_1_new_cosSim',\n",
       " 'abstract_19k_word1_old',\n",
       " 'abstract_19k_word2_old',\n",
       " 'abstract_19k_word1_new',\n",
       " 'abstract_19k_word2_new',\n",
       " 'abstract_19k_old_cosSim',\n",
       " 'abstract_19k_2_new_cosSim',\n",
       " 'abstract_firstSent_19k_word1_old',\n",
       " 'abstract_firstSent_19k_word2_old',\n",
       " 'abstract_firstSent_19k_word1_new',\n",
       " 'abstract_firstSent_19k_word2_new',\n",
       " 'abstract_firstSent_19k_old_cosSim',\n",
       " 'abstract_firstSent_19k_2_new_cosSim',\n",
       " 'complex_probase_word1_old',\n",
       " 'complex_probase_word2_old',\n",
       " 'complex_probase_word1_new',\n",
       " 'complex_probase_word2_new',\n",
       " 'complex_probase_old_cosSim',\n",
       " 'complex_probase_2_new_cosSim',\n",
       " 'transe_probase_word1_old',\n",
       " 'transe_probase_word2_old',\n",
       " 'transe_probase_word1_new',\n",
       " 'transe_probase_word2_new',\n",
       " 'transe_probase_old_cosSim',\n",
       " 'transe_probase_1_new_cosSim',\n",
       " 'complex_probase_19k_word1_old',\n",
       " 'complex_probase_19k_word2_old',\n",
       " 'complex_probase_19k_word1_new',\n",
       " 'complex_probase_19k_word2_new',\n",
       " 'complex_probase_19k_old_cosSim',\n",
       " 'complex_probase_19k_1_new_cosSim',\n",
       " 'transe_probase_19k_word1_old',\n",
       " 'transe_probase_19k_word2_old',\n",
       " 'transe_probase_19k_word1_new',\n",
       " 'transe_probase_19k_word2_new',\n",
       " 'transe_probase_19k_old_cosSim',\n",
       " 'transe_probase_19k_1_new_cosSim',\n",
       " 'concat_19k_v1_word1_old',\n",
       " 'concat_19k_v1_word2_old',\n",
       " 'concat_19k_v1_word1_new',\n",
       " 'concat_19k_v1_word2_new',\n",
       " 'concat_19k_v1_old_cosSim',\n",
       " 'concat_19k_v1_2_new_cosSim',\n",
       " 'concat_probase_19k_v1_word1_old',\n",
       " 'concat_probase_19k_v1_word2_old',\n",
       " 'concat_probase_19k_v1_word1_new',\n",
       " 'concat_probase_19k_v1_word2_new',\n",
       " 'concat_probase_19k_v1_old_cosSim',\n",
       " 'concat_probase_19k_v1_2_new_cosSim',\n",
       " 'concat_19k_v2_word1_old',\n",
       " 'concat_19k_v2_word2_old',\n",
       " 'concat_19k_v2_word1_new',\n",
       " 'concat_19k_v2_word2_new',\n",
       " 'concat_19k_v2_old_cosSim',\n",
       " 'concat_19k_v2_2_new_cosSim',\n",
       " 'concat_probase_19k_v2_word1_old',\n",
       " 'concat_probase_19k_v2_word2_old',\n",
       " 'concat_probase_19k_v2_word1_new',\n",
       " 'concat_probase_19k_v2_word2_new',\n",
       " 'concat_probase_19k_v2_old_cosSim',\n",
       " 'concat_probase_19k_v2_2_new_cosSim']"
      ]
     },
     "execution_count": 14,
     "metadata": {},
     "output_type": "execute_result"
    }
   ],
   "source": [
    "wordSim353AnnotDF_New_Merged_DF.columns.to_list()"
   ]
  },
  {
   "cell_type": "code",
   "execution_count": 16,
   "id": "conservative-bunch",
   "metadata": {},
   "outputs": [],
   "source": [
    "# cosine_similarity(np.array([float(val1) for val1 in wordSim353AnnotDF_New_Merged_DF.iloc[0]['concat_19k_v2_word1_new'][1:-1].split(\",\")]).reshape(1,-1), np.array([float(val1) for val1 in wordSim353AnnotDF_New_Merged_DF.iloc[0]['concat_19k_v2_word2_new'][1:-1].split(\",\")]).reshape(1,-1))"
   ]
  },
  {
   "cell_type": "code",
   "execution_count": 17,
   "id": "middle-tower",
   "metadata": {},
   "outputs": [
    {
     "data": {
      "text/plain": [
       "Index(['ID', 'Word 1', 'word1_kg_id', 'word1_kg_label', 'word1_kg_description',\n",
       "       'Word 2', 'word2_kg_id', 'word2_kg_label', 'word2_kg_description',\n",
       "       'Human (Mean)', 'complex', 'transe', 'text', 'class', 'jc_sim'],\n",
       "      dtype='object')"
      ]
     },
     "execution_count": 17,
     "metadata": {},
     "output_type": "execute_result"
    }
   ],
   "source": [
    "wordSim353AnnotDF_New_Merged_DF.columns"
   ]
  },
  {
   "cell_type": "code",
   "execution_count": 15,
   "id": "growing-edgar",
   "metadata": {},
   "outputs": [],
   "source": [
    "from sklearn.model_selection import KFold\n",
    "\n",
    "import numpy as np\n",
    "from sklearn.pipeline import make_pipeline\n",
    "from sklearn.preprocessing import StandardScaler\n",
    "from sklearn.svm import SVR\n",
    "\n",
    "# from sklearn.metrics import accuracy_score\n",
    "from sklearn.metrics import mean_squared_error\n",
    "import seaborn as sns\n",
    "from sklearn.metrics import plot_confusion_matrix\n",
    "import matplotlib.pyplot as plt "
   ]
  },
  {
   "cell_type": "code",
   "execution_count": 16,
   "id": "respiratory-washer",
   "metadata": {},
   "outputs": [],
   "source": [
    "# def trainAndGenerateAccuracies(wordSim353AnnotDF_New_Merged_DF, colList):\n",
    "#     X = wordSim353AnnotDF_New_Merged_DF[colList]\n",
    "#     Y = wordSim353AnnotDF_New_Merged_DF['Avg']\n",
    "\n",
    "#     N_SPLITS = 10\n",
    "\n",
    "#     skf = KFold(n_splits=N_SPLITS, random_state=19, shuffle=True)\n",
    "#     X_train_splits, X_test_splits, Y_train_splits, Y_test_splits = [], [], [], []\n",
    "#     for train_index, test_index in skf.split(X, Y):\n",
    "#         X_train_splits.append(X.iloc[train_index])\n",
    "#         X_test_splits.append(X.iloc[test_index])\n",
    "#         Y_train_splits.append(Y.iloc[train_index])\n",
    "#         Y_test_splits.append(Y.iloc[test_index])\n",
    "\n",
    "#     preds = []\n",
    "#     for X_train1, Y_train1, X_test1, Y_test1 in zip(X_train_splits, Y_train_splits, X_test_splits, Y_test_splits):\n",
    "#         clf = make_pipeline(StandardScaler(), SVR(gamma='auto'))\n",
    "#         clf.fit(X_train1, Y_train1)\n",
    "#         preds.append(clf.predict(X_test1))\n",
    "\n",
    "#     tempVals = []å\n",
    "\n",
    "#     acc = 0\n",
    "#     for pred, Y_test1 in zip(preds, Y_test_splits):\n",
    "#         acc += mean_squared_error(pred, Y_test1)\n",
    "\n",
    "#     tempVals.append(acc/N_SPLITS)\n",
    "\n",
    "#     for col in colList:\n",
    "#         preds = []\n",
    "#         for X_train1, Y_train1, X_test1, Y_test1 in zip(X_train_splits, Y_train_splits, X_test_splits, Y_test_splits):\n",
    "#             clf1 = make_pipeline(StandardScaler(), SVR(gamma='auto'))\n",
    "#             clf1.fit(X_train1[[col]], Y_train1)\n",
    "#             preds.append(clf1.predict(X_test1[[col]]))\n",
    "#         acc = 0\n",
    "#         for pred, Y_test1 in zip(preds, Y_test_splits):\n",
    "#             acc += mean_squared_error(pred, Y_test1)\n",
    "#         tempVals.append(acc/N_SPLITS)\n",
    "#     return tempVals\n",
    "\n",
    "# def compareEmbeddings(wordSim353AnnotDF_New_Merged_DF, oldColList, newColList, indNames):\n",
    "#     tempVals1 = trainAndGenerateAccuracies(wordSim353AnnotDF_New_Merged_DF, oldColList)\n",
    "#     tempVals2 = trainAndGenerateAccuracies(wordSim353AnnotDF_New_Merged_DF, newColList)\n",
    "#     summ = (pd.DataFrame(list(zip(tempVals1, tempVals2)), index = ['Combined'] + indNames, columns = ['MSE of old embeddings compared to annotated category', 'MSE of new embeddings compared to annotated category']) * 100)\n",
    "#     summ['Increase'] = summ['MSE of new embeddings compared to annotated category'] - summ['MSE of old embeddings compared to annotated category']\n",
    "#     return summ.sort_values(by=['Increase'], ascending=False)\n"
   ]
  },
  {
   "cell_type": "code",
   "execution_count": 90,
   "id": "sustained-excitement",
   "metadata": {},
   "outputs": [],
   "source": [
    "def trainAndFindAccuracy(wordSim353AnnotDF_New_Merged_DF, colList):\n",
    "    X = wordSim353AnnotDF_New_Merged_DF[colList]\n",
    "    Y = wordSim353AnnotDF_New_Merged_DF['Avg']\n",
    "\n",
    "    N_SPLITS = 10\n",
    "\n",
    "    skf = KFold(n_splits=N_SPLITS, random_state=19, shuffle=True)\n",
    "    X_train_splits, X_test_splits, Y_train_splits, Y_test_splits = [], [], [], []\n",
    "    for train_index, test_index in skf.split(X, Y):\n",
    "        X_train_splits.append(X.iloc[train_index])\n",
    "        X_test_splits.append(X.iloc[test_index])\n",
    "        Y_train_splits.append(Y.iloc[train_index])\n",
    "        Y_test_splits.append(Y.iloc[test_index])\n",
    "\n",
    "    preds = []\n",
    "    for X_train1, Y_train1, X_test1, Y_test1 in zip(X_train_splits, Y_train_splits, X_test_splits, Y_test_splits):\n",
    "        clf = make_pipeline(StandardScaler(), SVR(gamma='auto'))\n",
    "        clf.fit(X_train1, Y_train1)\n",
    "        preds.append(clf.predict(X_test1))\n",
    "\n",
    "    tempVals = []\n",
    "\n",
    "    acc = 0\n",
    "    for pred, Y_test1 in zip(preds, Y_test_splits):\n",
    "        acc += mean_squared_error(pred, Y_test1)\n",
    "\n",
    "    return acc/N_SPLITS"
   ]
  },
  {
   "cell_type": "code",
   "execution_count": 71,
   "id": "polish-slovakia",
   "metadata": {},
   "outputs": [
    {
     "data": {
      "text/plain": [
       "349"
      ]
     },
     "execution_count": 71,
     "metadata": {},
     "output_type": "execute_result"
    }
   ],
   "source": [
    "len(wordSim353AnnotDF_New_Merged_DF)"
   ]
  },
  {
   "cell_type": "code",
   "execution_count": 18,
   "id": "answering-island",
   "metadata": {},
   "outputs": [],
   "source": [
    "# def trainAndFindAccuracyClassification(wordSim353AnnotDF_New_Merged_DF, colList):\n",
    "#     X = wordSim353AnnotDF_New_Merged_DF[colList]\n",
    "#     Y = wordSim353AnnotDF_New_Merged_DF['category']\n",
    "\n",
    "#     N_SPLITS = 10\n",
    "\n",
    "#     skf = StratifiedKFold(n_splits=N_SPLITS, random_state=19, shuffle=True)\n",
    "#     X_train_splits, X_test_splits, Y_train_splits, Y_test_splits = [], [], [], []\n",
    "#     for train_index, test_index in skf.split(X, Y):\n",
    "#         X_train_splits.append(X.iloc[train_index])\n",
    "#         X_test_splits.append(X.iloc[test_index])\n",
    "#         Y_train_splits.append(Y.iloc[train_index])\n",
    "#         Y_test_splits.append(Y.iloc[test_index])\n",
    "\n",
    "#     preds = []\n",
    "#     for X_train1, Y_train1, X_test1, Y_test1 in zip(X_train_splits, Y_train_splits, X_test_splits, Y_test_splits):\n",
    "#         clf = make_pipeline(StandardScaler(), SVC(gamma='auto', random_state=100))\n",
    "#         clf.fit(X_train1, Y_train1)\n",
    "#         preds.append(clf.predict(X_test1))\n",
    "\n",
    "#     tempVals = []\n",
    "\n",
    "#     acc = 0\n",
    "#     for pred, Y_test1 in zip(preds, Y_test_splits):\n",
    "#         acc += accuracy_score(pred, Y_test1)\n",
    "\n",
    "#     return acc/N_SPLITS"
   ]
  },
  {
   "cell_type": "code",
   "execution_count": 19,
   "id": "suspected-protein",
   "metadata": {},
   "outputs": [],
   "source": [
    "# def trainAndFindAccuracyRF(wordSim353AnnotDF_New_Merged_DF, colList):\n",
    "#     X = wordSim353AnnotDF_New_Merged_DF[colList]\n",
    "#     Y = wordSim353AnnotDF_New_Merged_DF['category']\n",
    "\n",
    "#     N_SPLITS = 10\n",
    "\n",
    "#     skf = StratifiedKFold(n_splits=N_SPLITS, random_state=19, shuffle=True)\n",
    "#     X_train_splits, X_test_splits, Y_train_splits, Y_test_splits = [], [], [], []\n",
    "#     for train_index, test_index in skf.split(X, Y):\n",
    "#         X_train_splits.append(X.iloc[train_index])\n",
    "#         X_test_splits.append(X.iloc[test_index])\n",
    "#         Y_train_splits.append(Y.iloc[train_index])\n",
    "#         Y_test_splits.append(Y.iloc[test_index])\n",
    "\n",
    "#     preds = []\n",
    "#     for X_train1, Y_train1, X_test1, Y_test1 in zip(X_train_splits, Y_train_splits, X_test_splits, Y_test_splits):\n",
    "#         clf = RandomForestClassifier(max_depth=max(2 * len(colList) // 3,3), random_state=100)\n",
    "#         clf.fit(X_train1, Y_train1)\n",
    "#         preds.append(clf.predict(X_test1))\n",
    "\n",
    "#     tempVals = []\n",
    "\n",
    "#     acc = 0\n",
    "#     for pred, Y_test1 in zip(preds, Y_test_splits):\n",
    "#         acc += accuracy_score(pred, Y_test1)\n",
    "\n",
    "#     return acc/N_SPLITS"
   ]
  },
  {
   "cell_type": "code",
   "execution_count": 51,
   "id": "intelligent-right",
   "metadata": {
    "scrolled": false
   },
   "outputs": [
    {
     "data": {
      "text/plain": [
       "0.016446209419554415"
      ]
     },
     "execution_count": 51,
     "metadata": {},
     "output_type": "execute_result"
    }
   ],
   "source": [
    "colList = ['complex', 'transe', 'text', 'class', 'jc_sim']\n",
    "indNames = ['Complex', 'Transe', 'Text', 'Class', 'JC_Sim']\n",
    "colPairs = list(zip(colList, indNames))\n",
    "trainAndFindAccuracy(wordSim353AnnotDF_New_Merged_DF, colList)"
   ]
  },
  {
   "cell_type": "markdown",
   "id": "collect-learning",
   "metadata": {},
   "source": [
    "## Regression"
   ]
  },
  {
   "cell_type": "code",
   "execution_count": 38,
   "id": "awful-glasgow",
   "metadata": {},
   "outputs": [],
   "source": [
    "wordSim353AnnotDF_New_Merged_DF['Avg1'] = wordSim353AnnotDF_New_Merged_DF['Avg']"
   ]
  },
  {
   "cell_type": "code",
   "execution_count": 39,
   "id": "built-intelligence",
   "metadata": {},
   "outputs": [],
   "source": [
    "wordSim353AnnotDF_New_Merged_DF['Avg'] = wordSim353AnnotDF_New_Merged_DF['Avg'].apply(lambda p: 1-(p - 1)/4)"
   ]
  },
  {
   "cell_type": "code",
   "execution_count": 49,
   "id": "continuous-mileage",
   "metadata": {},
   "outputs": [
    {
     "data": {
      "text/plain": [
       "count    349.000000\n",
       "mean     0.490867  \n",
       "std      0.189153  \n",
       "min      0.250000  \n",
       "25%      0.350000  \n",
       "50%      0.500000  \n",
       "75%      0.600000  \n",
       "max      1.000000  \n",
       "Name: Avg, dtype: float64"
      ]
     },
     "execution_count": 49,
     "metadata": {},
     "output_type": "execute_result"
    }
   ],
   "source": [
    "wordSim353AnnotDF_New_Merged_DF['Avg'].describe()"
   ]
  },
  {
   "cell_type": "code",
   "execution_count": 91,
   "id": "opened-morning",
   "metadata": {},
   "outputs": [
    {
     "data": {
      "application/vnd.jupyter.widget-view+json": {
       "model_id": "21fcb1c963234c3985a2963716e5f090",
       "version_major": 2,
       "version_minor": 0
      },
      "text/plain": [
       "  0%|          | 0/5 [00:00<?, ?it/s]"
      ]
     },
     "metadata": {},
     "output_type": "display_data"
    },
    {
     "name": "stdout",
     "output_type": "stream",
     "text": [
      "[[('Complex', 0.02321940095771151), ('Transe', 0.026212630341633864), ('Text', 0.02245616090133273), ('Class', 0.01936172956841233), ('JC_Sim', 0.01933705421406063)], [('Complex & Transe', 0.023498903093071868), ('Complex & Text', 0.020288804874437343), ('Complex & Class', 0.019280969582380746), ('Complex & JC_Sim', 0.018391197762239037), ('Transe & Text', 0.02164415251389583), ('Transe & Class', 0.019243961232510827), ('Transe & JC_Sim', 0.01915285516489467), ('Text & Class', 0.017471550608673957), ('Text & JC_Sim', 0.017272773472134774), ('Class & JC_Sim', 0.018168085523900198)], [('Complex & Transe & Text', 0.020668807932076618), ('Complex & Transe & Class', 0.018976450797180543), ('Complex & Transe & JC_Sim', 0.01856637416827929), ('Complex & Text & Class', 0.016934178158318845), ('Complex & Text & JC_Sim', 0.017271869864320485), ('Complex & Class & JC_Sim', 0.018330482575486425), ('Transe & Text & Class', 0.016909041915910205), ('Transe & Text & JC_Sim', 0.017556257532620998), ('Transe & Class & JC_Sim', 0.018350808562520037), ('Text & Class & JC_Sim', 0.016925180056652625)], [('Complex & Transe & Text & Class', 0.01678190662575939), ('Complex & Transe & Text & JC_Sim', 0.017471885532555027), ('Complex & Transe & Class & JC_Sim', 0.018200759073008162), ('Complex & Text & Class & JC_Sim', 0.016801512232522433), ('Transe & Text & Class & JC_Sim', 0.01651721526582666)], [('Complex & Transe & Text & Class & JC_Sim', 0.016446209419554415)]]\n"
     ]
    }
   ],
   "source": [
    "from joblib import Parallel, delayed\n",
    "def generateCombAccuracies(oldColPairs, r):\n",
    "    accs = []\n",
    "    for comb in tqdm(combinations(oldColPairs, r)):\n",
    "        assert len(comb) == r\n",
    "        oldAcc = trainAndFindAccuracy(wordSim353AnnotDF_New_Merged_DF, [col[0] for col in comb])\n",
    "#         newAcc = trainAndFindAccuracy(wordSim353AnnotDF_New_Merged_DF, [colMappers[col[0]] for col in comb])\n",
    "        indName = \" & \".join([col[1] for col in comb])\n",
    "        accs.append((indName, oldAcc))\n",
    "    return accs\n",
    "    \n",
    "results = Parallel(n_jobs=14)(delayed(generateCombAccuracies)(colPairs, i) for i in tqdm(range(1,len(colPairs)+1)))\n",
    "print(results)"
   ]
  },
  {
   "cell_type": "code",
   "execution_count": 92,
   "id": "comparable-queens",
   "metadata": {
    "scrolled": false
   },
   "outputs": [],
   "source": [
    "# from joblib import Parallel, delayed\n",
    "# def generateCombAccuracies(oldColPairs, r):\n",
    "#     accs = []\n",
    "#     for comb in tqdm(combinations(oldColPairs, r)):\n",
    "#         assert len(comb) == r\n",
    "#         oldAcc = trainAndFindAccuracyRF(wordSim353AnnotDF_New_Merged_DF, [col[0] for col in comb])\n",
    "#         newAcc = trainAndFindAccuracyRF(wordSim353AnnotDF_New_Merged_DF, [colMappers[col[0]] for col in comb])\n",
    "#         indName = \" & \".join([col[1] for col in comb])\n",
    "#         accs.append((indName, oldAcc, newAcc))\n",
    "#     return accs\n",
    "    \n",
    "# results = Parallel(n_jobs=14)(delayed(generateCombAccuracies)(oldColPairs, i) for i in tqdm(range(1,len(oldColPairs)+1)))\n",
    "# print(results)"
   ]
  },
  {
   "cell_type": "code",
   "execution_count": 79,
   "id": "scenic-acoustic",
   "metadata": {},
   "outputs": [],
   "source": [
    "results_flat = [item for sublist in results for item in sublist[-1]]"
   ]
  },
  {
   "cell_type": "code",
   "execution_count": null,
   "id": "statistical-nothing",
   "metadata": {},
   "outputs": [],
   "source": [
    "pd.Series(results_flat).describe()"
   ]
  },
  {
   "cell_type": "code",
   "execution_count": 93,
   "id": "knowing-granny",
   "metadata": {},
   "outputs": [],
   "source": [
    "results_flat = [item for sublist in results for item in sublist]"
   ]
  },
  {
   "cell_type": "code",
   "execution_count": 94,
   "id": "historic-packing",
   "metadata": {},
   "outputs": [],
   "source": [
    "allCombs = (pd.DataFrame(results_flat, columns = ['Combination','MSE']).set_index('Combination')).reset_index()"
   ]
  },
  {
   "cell_type": "code",
   "execution_count": 95,
   "id": "surrounded-declaration",
   "metadata": {},
   "outputs": [],
   "source": [
    "# allCombs['Increase'] = allCombs['Accuracy (in %) of new embeddings compared to annotated category'] - allCombs['Accuracy (in %) of old embeddings compared to annotated category']"
   ]
  },
  {
   "cell_type": "code",
   "execution_count": 96,
   "id": "satisfied-owner",
   "metadata": {},
   "outputs": [],
   "source": [
    "allCombs['count'] = allCombs['Combination'].apply(lambda p: p.count(\"&\")+1)"
   ]
  },
  {
   "cell_type": "code",
   "execution_count": 97,
   "id": "radio-requirement",
   "metadata": {},
   "outputs": [],
   "source": [
    "# allCombs.to_csv('../data/wordsim353_all_combinations_SVM_accuracies.csv', index=None)"
   ]
  },
  {
   "cell_type": "code",
   "execution_count": 98,
   "id": "fifteen-rough",
   "metadata": {},
   "outputs": [],
   "source": [
    "# allCombs = pd.read_csv('../data/wordsim353_all_combinations_SVM_accuracies.csv')"
   ]
  },
  {
   "cell_type": "code",
   "execution_count": 99,
   "id": "stable-lighting",
   "metadata": {},
   "outputs": [
    {
     "data": {
      "text/html": [
       "<div>\n",
       "<style scoped>\n",
       "    .dataframe tbody tr th:only-of-type {\n",
       "        vertical-align: middle;\n",
       "    }\n",
       "\n",
       "    .dataframe tbody tr th {\n",
       "        vertical-align: top;\n",
       "    }\n",
       "\n",
       "    .dataframe thead th {\n",
       "        text-align: right;\n",
       "    }\n",
       "</style>\n",
       "<table border=\"1\" class=\"dataframe\">\n",
       "  <thead>\n",
       "    <tr style=\"text-align: right;\">\n",
       "      <th></th>\n",
       "      <th>Combination</th>\n",
       "      <th>MSE</th>\n",
       "      <th>count</th>\n",
       "    </tr>\n",
       "  </thead>\n",
       "  <tbody>\n",
       "    <tr>\n",
       "      <th>0</th>\n",
       "      <td>Complex</td>\n",
       "      <td>0.023219</td>\n",
       "      <td>1</td>\n",
       "    </tr>\n",
       "    <tr>\n",
       "      <th>1</th>\n",
       "      <td>Transe</td>\n",
       "      <td>0.026213</td>\n",
       "      <td>1</td>\n",
       "    </tr>\n",
       "    <tr>\n",
       "      <th>2</th>\n",
       "      <td>Text</td>\n",
       "      <td>0.022456</td>\n",
       "      <td>1</td>\n",
       "    </tr>\n",
       "    <tr>\n",
       "      <th>3</th>\n",
       "      <td>Class</td>\n",
       "      <td>0.019362</td>\n",
       "      <td>1</td>\n",
       "    </tr>\n",
       "    <tr>\n",
       "      <th>4</th>\n",
       "      <td>JC_Sim</td>\n",
       "      <td>0.019337</td>\n",
       "      <td>1</td>\n",
       "    </tr>\n",
       "  </tbody>\n",
       "</table>\n",
       "</div>"
      ],
      "text/plain": [
       "  Combination       MSE  count\n",
       "0  Complex     0.023219  1    \n",
       "1  Transe      0.026213  1    \n",
       "2  Text        0.022456  1    \n",
       "3  Class       0.019362  1    \n",
       "4  JC_Sim      0.019337  1    "
      ]
     },
     "execution_count": 99,
     "metadata": {},
     "output_type": "execute_result"
    }
   ],
   "source": [
    "allCombs.head()"
   ]
  },
  {
   "cell_type": "code",
   "execution_count": 100,
   "id": "lucky-absorption",
   "metadata": {},
   "outputs": [
    {
     "name": "stdout",
     "output_type": "stream",
     "text": [
      "Determined accuracies of 31 combinations of embedding scores based on the length 5\n"
     ]
    }
   ],
   "source": [
    "print(f\"Determined accuracies of {len(allCombs)} combinations of embedding scores based on the length {len(colPairs)}\")"
   ]
  },
  {
   "cell_type": "code",
   "execution_count": 101,
   "id": "rising-explosion",
   "metadata": {},
   "outputs": [],
   "source": [
    "pd.options.display.max_colwidth = 0"
   ]
  },
  {
   "cell_type": "code",
   "execution_count": 102,
   "id": "passive-nowhere",
   "metadata": {
    "scrolled": false
   },
   "outputs": [
    {
     "data": {
      "text/html": [
       "<div>\n",
       "<style scoped>\n",
       "    .dataframe tbody tr th:only-of-type {\n",
       "        vertical-align: middle;\n",
       "    }\n",
       "\n",
       "    .dataframe tbody tr th {\n",
       "        vertical-align: top;\n",
       "    }\n",
       "\n",
       "    .dataframe thead th {\n",
       "        text-align: right;\n",
       "    }\n",
       "</style>\n",
       "<table border=\"1\" class=\"dataframe\">\n",
       "  <thead>\n",
       "    <tr style=\"text-align: right;\">\n",
       "      <th></th>\n",
       "      <th>Combination</th>\n",
       "      <th>MSE</th>\n",
       "      <th>count</th>\n",
       "    </tr>\n",
       "  </thead>\n",
       "  <tbody>\n",
       "    <tr>\n",
       "      <th>30</th>\n",
       "      <td>Complex &amp; Transe &amp; Text &amp; Class &amp; JC_Sim</td>\n",
       "      <td>0.016446</td>\n",
       "      <td>5</td>\n",
       "    </tr>\n",
       "    <tr>\n",
       "      <th>29</th>\n",
       "      <td>Transe &amp; Text &amp; Class &amp; JC_Sim</td>\n",
       "      <td>0.016517</td>\n",
       "      <td>4</td>\n",
       "    </tr>\n",
       "    <tr>\n",
       "      <th>25</th>\n",
       "      <td>Complex &amp; Transe &amp; Text &amp; Class</td>\n",
       "      <td>0.016782</td>\n",
       "      <td>4</td>\n",
       "    </tr>\n",
       "    <tr>\n",
       "      <th>28</th>\n",
       "      <td>Complex &amp; Text &amp; Class &amp; JC_Sim</td>\n",
       "      <td>0.016802</td>\n",
       "      <td>4</td>\n",
       "    </tr>\n",
       "    <tr>\n",
       "      <th>21</th>\n",
       "      <td>Transe &amp; Text &amp; Class</td>\n",
       "      <td>0.016909</td>\n",
       "      <td>3</td>\n",
       "    </tr>\n",
       "    <tr>\n",
       "      <th>24</th>\n",
       "      <td>Text &amp; Class &amp; JC_Sim</td>\n",
       "      <td>0.016925</td>\n",
       "      <td>3</td>\n",
       "    </tr>\n",
       "    <tr>\n",
       "      <th>18</th>\n",
       "      <td>Complex &amp; Text &amp; Class</td>\n",
       "      <td>0.016934</td>\n",
       "      <td>3</td>\n",
       "    </tr>\n",
       "    <tr>\n",
       "      <th>19</th>\n",
       "      <td>Complex &amp; Text &amp; JC_Sim</td>\n",
       "      <td>0.017272</td>\n",
       "      <td>3</td>\n",
       "    </tr>\n",
       "    <tr>\n",
       "      <th>13</th>\n",
       "      <td>Text &amp; JC_Sim</td>\n",
       "      <td>0.017273</td>\n",
       "      <td>2</td>\n",
       "    </tr>\n",
       "    <tr>\n",
       "      <th>12</th>\n",
       "      <td>Text &amp; Class</td>\n",
       "      <td>0.017472</td>\n",
       "      <td>2</td>\n",
       "    </tr>\n",
       "  </tbody>\n",
       "</table>\n",
       "</div>"
      ],
      "text/plain": [
       "                                 Combination       MSE  count\n",
       "30  Complex & Transe & Text & Class & JC_Sim  0.016446  5    \n",
       "29  Transe & Text & Class & JC_Sim            0.016517  4    \n",
       "25  Complex & Transe & Text & Class           0.016782  4    \n",
       "28  Complex & Text & Class & JC_Sim           0.016802  4    \n",
       "21  Transe & Text & Class                     0.016909  3    \n",
       "24  Text & Class & JC_Sim                     0.016925  3    \n",
       "18  Complex & Text & Class                    0.016934  3    \n",
       "19  Complex & Text & JC_Sim                   0.017272  3    \n",
       "13  Text & JC_Sim                             0.017273  2    \n",
       "12  Text & Class                              0.017472  2    "
      ]
     },
     "execution_count": 102,
     "metadata": {},
     "output_type": "execute_result"
    }
   ],
   "source": [
    "allCombs.sort_values(by=['MSE']).head(10)"
   ]
  },
  {
   "cell_type": "code",
   "execution_count": 103,
   "id": "offensive-spirituality",
   "metadata": {
    "scrolled": false
   },
   "outputs": [],
   "source": [
    "# allCombs.sort_values(by=['Accuracy (in %) of new embeddings compared to annotated category'], ascending=False).head(10)"
   ]
  },
  {
   "cell_type": "code",
   "execution_count": 104,
   "id": "virgin-mountain",
   "metadata": {
    "scrolled": false
   },
   "outputs": [],
   "source": [
    "# allCombs.sort_values(by=['Increase'], ascending=False).head(10)"
   ]
  },
  {
   "cell_type": "code",
   "execution_count": 105,
   "id": "quick-warner",
   "metadata": {
    "scrolled": false
   },
   "outputs": [
    {
     "data": {
      "text/html": [
       "<div>\n",
       "<style scoped>\n",
       "    .dataframe tbody tr th:only-of-type {\n",
       "        vertical-align: middle;\n",
       "    }\n",
       "\n",
       "    .dataframe tbody tr th {\n",
       "        vertical-align: top;\n",
       "    }\n",
       "\n",
       "    .dataframe thead th {\n",
       "        text-align: right;\n",
       "    }\n",
       "</style>\n",
       "<table border=\"1\" class=\"dataframe\">\n",
       "  <thead>\n",
       "    <tr style=\"text-align: right;\">\n",
       "      <th></th>\n",
       "      <th>Combination</th>\n",
       "      <th>MSE</th>\n",
       "      <th>count</th>\n",
       "    </tr>\n",
       "  </thead>\n",
       "  <tbody>\n",
       "    <tr>\n",
       "      <th>4</th>\n",
       "      <td>JC_Sim</td>\n",
       "      <td>0.019337</td>\n",
       "      <td>1</td>\n",
       "    </tr>\n",
       "    <tr>\n",
       "      <th>3</th>\n",
       "      <td>Class</td>\n",
       "      <td>0.019362</td>\n",
       "      <td>1</td>\n",
       "    </tr>\n",
       "    <tr>\n",
       "      <th>2</th>\n",
       "      <td>Text</td>\n",
       "      <td>0.022456</td>\n",
       "      <td>1</td>\n",
       "    </tr>\n",
       "    <tr>\n",
       "      <th>0</th>\n",
       "      <td>Complex</td>\n",
       "      <td>0.023219</td>\n",
       "      <td>1</td>\n",
       "    </tr>\n",
       "    <tr>\n",
       "      <th>1</th>\n",
       "      <td>Transe</td>\n",
       "      <td>0.026213</td>\n",
       "      <td>1</td>\n",
       "    </tr>\n",
       "  </tbody>\n",
       "</table>\n",
       "</div>"
      ],
      "text/plain": [
       "  Combination       MSE  count\n",
       "4  JC_Sim      0.019337  1    \n",
       "3  Class       0.019362  1    \n",
       "2  Text        0.022456  1    \n",
       "0  Complex     0.023219  1    \n",
       "1  Transe      0.026213  1    "
      ]
     },
     "execution_count": 105,
     "metadata": {},
     "output_type": "execute_result"
    }
   ],
   "source": [
    "allCombs[allCombs['count'] == 1].sort_values(by=['MSE']).head(10)"
   ]
  },
  {
   "cell_type": "markdown",
   "id": "relative-while",
   "metadata": {
    "heading_collapsed": true
   },
   "source": [
    "## Classification"
   ]
  },
  {
   "cell_type": "code",
   "execution_count": 89,
   "id": "forced-dominant",
   "metadata": {
    "hidden": true
   },
   "outputs": [],
   "source": [
    "def labelSamples(score):\n",
    "    return 'I' if score <= 1.75 else 'U' if score >= 3.5 else 'M'"
   ]
  },
  {
   "cell_type": "code",
   "execution_count": null,
   "id": "corresponding-measure",
   "metadata": {
    "hidden": true
   },
   "outputs": [],
   "source": [
    "wordSim353AnnotDF_New_Merged_DF['category'] = wordSim353AnnotDF_New_Merged_DF['Avg']"
   ]
  },
  {
   "cell_type": "code",
   "execution_count": 88,
   "id": "devoted-thousand",
   "metadata": {
    "hidden": true
   },
   "outputs": [
    {
     "data": {
      "application/vnd.jupyter.widget-view+json": {
       "model_id": "7bb7cc3195524ea588210ba32ad87c4a",
       "version_major": 2,
       "version_minor": 0
      },
      "text/plain": [
       "  0%|          | 0/5 [00:00<?, ?it/s]"
      ]
     },
     "metadata": {},
     "output_type": "display_data"
    },
    {
     "ename": "KeyError",
     "evalue": "'category'",
     "output_type": "error",
     "traceback": [
      "\u001b[0;31m---------------------------------------------------------------------------\u001b[0m",
      "\u001b[0;31m_RemoteTraceback\u001b[0m                          Traceback (most recent call last)",
      "\u001b[0;31m_RemoteTraceback\u001b[0m: \n\"\"\"\nTraceback (most recent call last):\n  File \"/nas/home/kshenoy/miniconda3/envs/kgtkEnv/lib/python3.8/site-packages/pandas/core/indexes/base.py\", line 3080, in get_loc\n    return self._engine.get_loc(casted_key)\n  File \"pandas/_libs/index.pyx\", line 70, in pandas._libs.index.IndexEngine.get_loc\n  File \"pandas/_libs/index.pyx\", line 101, in pandas._libs.index.IndexEngine.get_loc\n  File \"pandas/_libs/hashtable_class_helper.pxi\", line 4554, in pandas._libs.hashtable.PyObjectHashTable.get_item\n  File \"pandas/_libs/hashtable_class_helper.pxi\", line 4562, in pandas._libs.hashtable.PyObjectHashTable.get_item\nKeyError: 'category'\n\nThe above exception was the direct cause of the following exception:\n\nTraceback (most recent call last):\n  File \"/nas/home/kshenoy/miniconda3/envs/kgtkEnv/lib/python3.8/site-packages/joblib/externals/loky/process_executor.py\", line 431, in _process_worker\n    r = call_item()\n  File \"/nas/home/kshenoy/miniconda3/envs/kgtkEnv/lib/python3.8/site-packages/joblib/externals/loky/process_executor.py\", line 285, in __call__\n    return self.fn(*self.args, **self.kwargs)\n  File \"/nas/home/kshenoy/miniconda3/envs/kgtkEnv/lib/python3.8/site-packages/joblib/_parallel_backends.py\", line 595, in __call__\n    return self.func(*args, **kwargs)\n  File \"/nas/home/kshenoy/miniconda3/envs/kgtkEnv/lib/python3.8/site-packages/joblib/parallel.py\", line 262, in __call__\n    return [func(*args, **kwargs)\n  File \"/nas/home/kshenoy/miniconda3/envs/kgtkEnv/lib/python3.8/site-packages/joblib/parallel.py\", line 262, in <listcomp>\n    return [func(*args, **kwargs)\n  File \"<ipython-input-88-9f71ec8e69c0>\", line 6, in generateCombAccuraciesClassn\n  File \"<ipython-input-86-735432da042b>\", line 3, in trainAndFindAccuracyClassification\n  File \"/nas/home/kshenoy/miniconda3/envs/kgtkEnv/lib/python3.8/site-packages/pandas/core/frame.py\", line 3024, in __getitem__\n    indexer = self.columns.get_loc(key)\n  File \"/nas/home/kshenoy/miniconda3/envs/kgtkEnv/lib/python3.8/site-packages/pandas/core/indexes/base.py\", line 3082, in get_loc\n    raise KeyError(key) from err\nKeyError: 'category'\n\"\"\"",
      "\nThe above exception was the direct cause of the following exception:\n",
      "\u001b[0;31mKeyError\u001b[0m                                  Traceback (most recent call last)",
      "\u001b[0;32m<ipython-input-88-9f71ec8e69c0>\u001b[0m in \u001b[0;36m<module>\u001b[0;34m\u001b[0m\n\u001b[1;32m     10\u001b[0m     \u001b[0;32mreturn\u001b[0m \u001b[0maccs\u001b[0m\u001b[0;34m\u001b[0m\u001b[0;34m\u001b[0m\u001b[0m\n\u001b[1;32m     11\u001b[0m \u001b[0;34m\u001b[0m\u001b[0m\n\u001b[0;32m---> 12\u001b[0;31m \u001b[0mresultsClassn\u001b[0m \u001b[0;34m=\u001b[0m \u001b[0mParallel\u001b[0m\u001b[0;34m(\u001b[0m\u001b[0mn_jobs\u001b[0m\u001b[0;34m=\u001b[0m\u001b[0;36m14\u001b[0m\u001b[0;34m)\u001b[0m\u001b[0;34m(\u001b[0m\u001b[0mdelayed\u001b[0m\u001b[0;34m(\u001b[0m\u001b[0mgenerateCombAccuraciesClassn\u001b[0m\u001b[0;34m)\u001b[0m\u001b[0;34m(\u001b[0m\u001b[0mcolPairs\u001b[0m\u001b[0;34m,\u001b[0m \u001b[0mi\u001b[0m\u001b[0;34m)\u001b[0m \u001b[0;32mfor\u001b[0m \u001b[0mi\u001b[0m \u001b[0;32min\u001b[0m \u001b[0mtqdm\u001b[0m\u001b[0;34m(\u001b[0m\u001b[0mrange\u001b[0m\u001b[0;34m(\u001b[0m\u001b[0;36m1\u001b[0m\u001b[0;34m,\u001b[0m\u001b[0mlen\u001b[0m\u001b[0;34m(\u001b[0m\u001b[0mcolPairs\u001b[0m\u001b[0;34m)\u001b[0m\u001b[0;34m+\u001b[0m\u001b[0;36m1\u001b[0m\u001b[0;34m)\u001b[0m\u001b[0;34m)\u001b[0m\u001b[0;34m)\u001b[0m\u001b[0;34m\u001b[0m\u001b[0;34m\u001b[0m\u001b[0m\n\u001b[0m\u001b[1;32m     13\u001b[0m \u001b[0mprint\u001b[0m\u001b[0;34m(\u001b[0m\u001b[0mresultsClassn\u001b[0m\u001b[0;34m)\u001b[0m\u001b[0;34m\u001b[0m\u001b[0;34m\u001b[0m\u001b[0m\n",
      "\u001b[0;32m~/miniconda3/envs/kgtkEnv/lib/python3.8/site-packages/joblib/parallel.py\u001b[0m in \u001b[0;36m__call__\u001b[0;34m(self, iterable)\u001b[0m\n\u001b[1;32m   1052\u001b[0m \u001b[0;34m\u001b[0m\u001b[0m\n\u001b[1;32m   1053\u001b[0m             \u001b[0;32mwith\u001b[0m \u001b[0mself\u001b[0m\u001b[0;34m.\u001b[0m\u001b[0m_backend\u001b[0m\u001b[0;34m.\u001b[0m\u001b[0mretrieval_context\u001b[0m\u001b[0;34m(\u001b[0m\u001b[0;34m)\u001b[0m\u001b[0;34m:\u001b[0m\u001b[0;34m\u001b[0m\u001b[0;34m\u001b[0m\u001b[0m\n\u001b[0;32m-> 1054\u001b[0;31m                 \u001b[0mself\u001b[0m\u001b[0;34m.\u001b[0m\u001b[0mretrieve\u001b[0m\u001b[0;34m(\u001b[0m\u001b[0;34m)\u001b[0m\u001b[0;34m\u001b[0m\u001b[0;34m\u001b[0m\u001b[0m\n\u001b[0m\u001b[1;32m   1055\u001b[0m             \u001b[0;31m# Make sure that we get a last message telling us we are done\u001b[0m\u001b[0;34m\u001b[0m\u001b[0;34m\u001b[0m\u001b[0;34m\u001b[0m\u001b[0m\n\u001b[1;32m   1056\u001b[0m             \u001b[0melapsed_time\u001b[0m \u001b[0;34m=\u001b[0m \u001b[0mtime\u001b[0m\u001b[0;34m.\u001b[0m\u001b[0mtime\u001b[0m\u001b[0;34m(\u001b[0m\u001b[0;34m)\u001b[0m \u001b[0;34m-\u001b[0m \u001b[0mself\u001b[0m\u001b[0;34m.\u001b[0m\u001b[0m_start_time\u001b[0m\u001b[0;34m\u001b[0m\u001b[0;34m\u001b[0m\u001b[0m\n",
      "\u001b[0;32m~/miniconda3/envs/kgtkEnv/lib/python3.8/site-packages/joblib/parallel.py\u001b[0m in \u001b[0;36mretrieve\u001b[0;34m(self)\u001b[0m\n\u001b[1;32m    931\u001b[0m             \u001b[0;32mtry\u001b[0m\u001b[0;34m:\u001b[0m\u001b[0;34m\u001b[0m\u001b[0;34m\u001b[0m\u001b[0m\n\u001b[1;32m    932\u001b[0m                 \u001b[0;32mif\u001b[0m \u001b[0mgetattr\u001b[0m\u001b[0;34m(\u001b[0m\u001b[0mself\u001b[0m\u001b[0;34m.\u001b[0m\u001b[0m_backend\u001b[0m\u001b[0;34m,\u001b[0m \u001b[0;34m'supports_timeout'\u001b[0m\u001b[0;34m,\u001b[0m \u001b[0;32mFalse\u001b[0m\u001b[0;34m)\u001b[0m\u001b[0;34m:\u001b[0m\u001b[0;34m\u001b[0m\u001b[0;34m\u001b[0m\u001b[0m\n\u001b[0;32m--> 933\u001b[0;31m                     \u001b[0mself\u001b[0m\u001b[0;34m.\u001b[0m\u001b[0m_output\u001b[0m\u001b[0;34m.\u001b[0m\u001b[0mextend\u001b[0m\u001b[0;34m(\u001b[0m\u001b[0mjob\u001b[0m\u001b[0;34m.\u001b[0m\u001b[0mget\u001b[0m\u001b[0;34m(\u001b[0m\u001b[0mtimeout\u001b[0m\u001b[0;34m=\u001b[0m\u001b[0mself\u001b[0m\u001b[0;34m.\u001b[0m\u001b[0mtimeout\u001b[0m\u001b[0;34m)\u001b[0m\u001b[0;34m)\u001b[0m\u001b[0;34m\u001b[0m\u001b[0;34m\u001b[0m\u001b[0m\n\u001b[0m\u001b[1;32m    934\u001b[0m                 \u001b[0;32melse\u001b[0m\u001b[0;34m:\u001b[0m\u001b[0;34m\u001b[0m\u001b[0;34m\u001b[0m\u001b[0m\n\u001b[1;32m    935\u001b[0m                     \u001b[0mself\u001b[0m\u001b[0;34m.\u001b[0m\u001b[0m_output\u001b[0m\u001b[0;34m.\u001b[0m\u001b[0mextend\u001b[0m\u001b[0;34m(\u001b[0m\u001b[0mjob\u001b[0m\u001b[0;34m.\u001b[0m\u001b[0mget\u001b[0m\u001b[0;34m(\u001b[0m\u001b[0;34m)\u001b[0m\u001b[0;34m)\u001b[0m\u001b[0;34m\u001b[0m\u001b[0;34m\u001b[0m\u001b[0m\n",
      "\u001b[0;32m~/miniconda3/envs/kgtkEnv/lib/python3.8/site-packages/joblib/_parallel_backends.py\u001b[0m in \u001b[0;36mwrap_future_result\u001b[0;34m(future, timeout)\u001b[0m\n\u001b[1;32m    540\u001b[0m         AsyncResults.get from multiprocessing.\"\"\"\n\u001b[1;32m    541\u001b[0m         \u001b[0;32mtry\u001b[0m\u001b[0;34m:\u001b[0m\u001b[0;34m\u001b[0m\u001b[0;34m\u001b[0m\u001b[0m\n\u001b[0;32m--> 542\u001b[0;31m             \u001b[0;32mreturn\u001b[0m \u001b[0mfuture\u001b[0m\u001b[0;34m.\u001b[0m\u001b[0mresult\u001b[0m\u001b[0;34m(\u001b[0m\u001b[0mtimeout\u001b[0m\u001b[0;34m=\u001b[0m\u001b[0mtimeout\u001b[0m\u001b[0;34m)\u001b[0m\u001b[0;34m\u001b[0m\u001b[0;34m\u001b[0m\u001b[0m\n\u001b[0m\u001b[1;32m    543\u001b[0m         \u001b[0;32mexcept\u001b[0m \u001b[0mCfTimeoutError\u001b[0m \u001b[0;32mas\u001b[0m \u001b[0me\u001b[0m\u001b[0;34m:\u001b[0m\u001b[0;34m\u001b[0m\u001b[0;34m\u001b[0m\u001b[0m\n\u001b[1;32m    544\u001b[0m             \u001b[0;32mraise\u001b[0m \u001b[0mTimeoutError\u001b[0m \u001b[0;32mfrom\u001b[0m \u001b[0me\u001b[0m\u001b[0;34m\u001b[0m\u001b[0;34m\u001b[0m\u001b[0m\n",
      "\u001b[0;32m~/miniconda3/envs/kgtkEnv/lib/python3.8/concurrent/futures/_base.py\u001b[0m in \u001b[0;36mresult\u001b[0;34m(self, timeout)\u001b[0m\n\u001b[1;32m    437\u001b[0m                 \u001b[0;32mraise\u001b[0m \u001b[0mCancelledError\u001b[0m\u001b[0;34m(\u001b[0m\u001b[0;34m)\u001b[0m\u001b[0;34m\u001b[0m\u001b[0;34m\u001b[0m\u001b[0m\n\u001b[1;32m    438\u001b[0m             \u001b[0;32melif\u001b[0m \u001b[0mself\u001b[0m\u001b[0;34m.\u001b[0m\u001b[0m_state\u001b[0m \u001b[0;34m==\u001b[0m \u001b[0mFINISHED\u001b[0m\u001b[0;34m:\u001b[0m\u001b[0;34m\u001b[0m\u001b[0;34m\u001b[0m\u001b[0m\n\u001b[0;32m--> 439\u001b[0;31m                 \u001b[0;32mreturn\u001b[0m \u001b[0mself\u001b[0m\u001b[0;34m.\u001b[0m\u001b[0m__get_result\u001b[0m\u001b[0;34m(\u001b[0m\u001b[0;34m)\u001b[0m\u001b[0;34m\u001b[0m\u001b[0;34m\u001b[0m\u001b[0m\n\u001b[0m\u001b[1;32m    440\u001b[0m             \u001b[0;32melse\u001b[0m\u001b[0;34m:\u001b[0m\u001b[0;34m\u001b[0m\u001b[0;34m\u001b[0m\u001b[0m\n\u001b[1;32m    441\u001b[0m                 \u001b[0;32mraise\u001b[0m \u001b[0mTimeoutError\u001b[0m\u001b[0;34m(\u001b[0m\u001b[0;34m)\u001b[0m\u001b[0;34m\u001b[0m\u001b[0;34m\u001b[0m\u001b[0m\n",
      "\u001b[0;32m~/miniconda3/envs/kgtkEnv/lib/python3.8/concurrent/futures/_base.py\u001b[0m in \u001b[0;36m__get_result\u001b[0;34m(self)\u001b[0m\n\u001b[1;32m    386\u001b[0m     \u001b[0;32mdef\u001b[0m \u001b[0m__get_result\u001b[0m\u001b[0;34m(\u001b[0m\u001b[0mself\u001b[0m\u001b[0;34m)\u001b[0m\u001b[0;34m:\u001b[0m\u001b[0;34m\u001b[0m\u001b[0;34m\u001b[0m\u001b[0m\n\u001b[1;32m    387\u001b[0m         \u001b[0;32mif\u001b[0m \u001b[0mself\u001b[0m\u001b[0;34m.\u001b[0m\u001b[0m_exception\u001b[0m\u001b[0;34m:\u001b[0m\u001b[0;34m\u001b[0m\u001b[0;34m\u001b[0m\u001b[0m\n\u001b[0;32m--> 388\u001b[0;31m             \u001b[0;32mraise\u001b[0m \u001b[0mself\u001b[0m\u001b[0;34m.\u001b[0m\u001b[0m_exception\u001b[0m\u001b[0;34m\u001b[0m\u001b[0;34m\u001b[0m\u001b[0m\n\u001b[0m\u001b[1;32m    389\u001b[0m         \u001b[0;32melse\u001b[0m\u001b[0;34m:\u001b[0m\u001b[0;34m\u001b[0m\u001b[0;34m\u001b[0m\u001b[0m\n\u001b[1;32m    390\u001b[0m             \u001b[0;32mreturn\u001b[0m \u001b[0mself\u001b[0m\u001b[0;34m.\u001b[0m\u001b[0m_result\u001b[0m\u001b[0;34m\u001b[0m\u001b[0;34m\u001b[0m\u001b[0m\n",
      "\u001b[0;31mKeyError\u001b[0m: 'category'"
     ]
    }
   ],
   "source": [
    "from joblib import Parallel, delayed\n",
    "def generateCombAccuraciesClassn(oldColPairs, r):\n",
    "    accs = []\n",
    "    for comb in tqdm(combinations(oldColPairs, r)):\n",
    "        assert len(comb) == r\n",
    "        oldAcc = trainAndFindAccuracyClassification(wordSim353AnnotDF_New_Merged_DF, [col[0] for col in comb])\n",
    "#         newAcc = trainAndFindAccuracy(wordSim353AnnotDF_New_Merged_DF, [colMappers[col[0]] for col in comb])\n",
    "        indName = \" & \".join([col[1] for col in comb])\n",
    "        accs.append((indName, oldAcc))\n",
    "    return accs\n",
    "    \n",
    "resultsClassn = Parallel(n_jobs=14)(delayed(generateCombAccuraciesClassn)(colPairs, i) for i in tqdm(range(1,len(colPairs)+1)))\n",
    "print(resultsClassn)"
   ]
  },
  {
   "cell_type": "code",
   "execution_count": null,
   "id": "organized-campbell",
   "metadata": {
    "hidden": true
   },
   "outputs": [],
   "source": [
    "results_flat_classn = [item for sublist in resultsClassn for item in sublist]"
   ]
  },
  {
   "cell_type": "code",
   "execution_count": null,
   "id": "confidential-nicaragua",
   "metadata": {
    "hidden": true
   },
   "outputs": [],
   "source": [
    "allCombs_classn = (pd.DataFrame(results_flat_classn, columns = ['Combination','MSE']).set_index('Combination')).reset_index()"
   ]
  },
  {
   "cell_type": "code",
   "execution_count": null,
   "id": "outstanding-bracelet",
   "metadata": {
    "hidden": true
   },
   "outputs": [],
   "source": [
    "# allCombs['Increase'] = allCombs['Accuracy (in %) of new embeddings compared to annotated category'] - allCombs['Accuracy (in %) of old embeddings compared to annotated category']"
   ]
  },
  {
   "cell_type": "code",
   "execution_count": 79,
   "id": "transparent-possession",
   "metadata": {
    "hidden": true
   },
   "outputs": [],
   "source": [
    "allCombs_classn['count'] = allCombs_classn['Combination'].apply(lambda p: p.count(\"&\")+1)"
   ]
  },
  {
   "cell_type": "code",
   "execution_count": 80,
   "id": "peripheral-sucking",
   "metadata": {
    "hidden": true
   },
   "outputs": [],
   "source": [
    "# allCombs.to_csv('../data/wordsim353_all_combinations_SVM_accuracies.csv', index=None)"
   ]
  },
  {
   "cell_type": "code",
   "execution_count": 81,
   "id": "greek-sleeve",
   "metadata": {
    "hidden": true
   },
   "outputs": [],
   "source": [
    "# allCombs = pd.read_csv('../data/wordsim353_all_combinations_SVM_accuracies.csv')"
   ]
  },
  {
   "cell_type": "code",
   "execution_count": 82,
   "id": "attended-helen",
   "metadata": {
    "hidden": true
   },
   "outputs": [
    {
     "data": {
      "text/html": [
       "<div>\n",
       "<style scoped>\n",
       "    .dataframe tbody tr th:only-of-type {\n",
       "        vertical-align: middle;\n",
       "    }\n",
       "\n",
       "    .dataframe tbody tr th {\n",
       "        vertical-align: top;\n",
       "    }\n",
       "\n",
       "    .dataframe thead th {\n",
       "        text-align: right;\n",
       "    }\n",
       "</style>\n",
       "<table border=\"1\" class=\"dataframe\">\n",
       "  <thead>\n",
       "    <tr style=\"text-align: right;\">\n",
       "      <th></th>\n",
       "      <th>Combination</th>\n",
       "      <th>MSE</th>\n",
       "      <th>count</th>\n",
       "    </tr>\n",
       "  </thead>\n",
       "  <tbody>\n",
       "    <tr>\n",
       "      <th>0</th>\n",
       "      <td>Complex</td>\n",
       "      <td>3.064231</td>\n",
       "      <td>1</td>\n",
       "    </tr>\n",
       "    <tr>\n",
       "      <th>1</th>\n",
       "      <td>Transe</td>\n",
       "      <td>3.393020</td>\n",
       "      <td>1</td>\n",
       "    </tr>\n",
       "    <tr>\n",
       "      <th>2</th>\n",
       "      <td>Text</td>\n",
       "      <td>2.593313</td>\n",
       "      <td>1</td>\n",
       "    </tr>\n",
       "    <tr>\n",
       "      <th>3</th>\n",
       "      <td>Class</td>\n",
       "      <td>2.863816</td>\n",
       "      <td>1</td>\n",
       "    </tr>\n",
       "    <tr>\n",
       "      <th>4</th>\n",
       "      <td>JC_Sim</td>\n",
       "      <td>2.962828</td>\n",
       "      <td>1</td>\n",
       "    </tr>\n",
       "  </tbody>\n",
       "</table>\n",
       "</div>"
      ],
      "text/plain": [
       "  Combination       MSE  count\n",
       "0  Complex     3.064231  1    \n",
       "1  Transe      3.393020  1    \n",
       "2  Text        2.593313  1    \n",
       "3  Class       2.863816  1    \n",
       "4  JC_Sim      2.962828  1    "
      ]
     },
     "execution_count": 82,
     "metadata": {},
     "output_type": "execute_result"
    }
   ],
   "source": [
    "allCombs_classn.head()"
   ]
  },
  {
   "cell_type": "code",
   "execution_count": 83,
   "id": "local-chuck",
   "metadata": {
    "hidden": true
   },
   "outputs": [
    {
     "name": "stdout",
     "output_type": "stream",
     "text": [
      "Determined accuracies of 31 combinations of embedding scores based on the length 5\n"
     ]
    }
   ],
   "source": [
    "print(f\"Determined accuracies of {len(allCombs_classn)} combinations of embedding scores based on the length {len(colPairs)}\")"
   ]
  },
  {
   "cell_type": "code",
   "execution_count": 84,
   "id": "atomic-screw",
   "metadata": {
    "hidden": true
   },
   "outputs": [],
   "source": [
    "pd.options.display.max_colwidth = 0"
   ]
  },
  {
   "cell_type": "code",
   "execution_count": 85,
   "id": "rental-scratch",
   "metadata": {
    "hidden": true,
    "scrolled": false
   },
   "outputs": [
    {
     "data": {
      "text/html": [
       "<div>\n",
       "<style scoped>\n",
       "    .dataframe tbody tr th:only-of-type {\n",
       "        vertical-align: middle;\n",
       "    }\n",
       "\n",
       "    .dataframe tbody tr th {\n",
       "        vertical-align: top;\n",
       "    }\n",
       "\n",
       "    .dataframe thead th {\n",
       "        text-align: right;\n",
       "    }\n",
       "</style>\n",
       "<table border=\"1\" class=\"dataframe\">\n",
       "  <thead>\n",
       "    <tr style=\"text-align: right;\">\n",
       "      <th></th>\n",
       "      <th>Combination</th>\n",
       "      <th>MSE</th>\n",
       "      <th>count</th>\n",
       "    </tr>\n",
       "  </thead>\n",
       "  <tbody>\n",
       "    <tr>\n",
       "      <th>24</th>\n",
       "      <td>Text &amp; Class &amp; JC_Sim</td>\n",
       "      <td>2.337720</td>\n",
       "      <td>3</td>\n",
       "    </tr>\n",
       "    <tr>\n",
       "      <th>12</th>\n",
       "      <td>Text &amp; Class</td>\n",
       "      <td>2.339691</td>\n",
       "      <td>2</td>\n",
       "    </tr>\n",
       "    <tr>\n",
       "      <th>13</th>\n",
       "      <td>Text &amp; JC_Sim</td>\n",
       "      <td>2.369431</td>\n",
       "      <td>2</td>\n",
       "    </tr>\n",
       "    <tr>\n",
       "      <th>29</th>\n",
       "      <td>Transe &amp; Text &amp; Class &amp; JC_Sim</td>\n",
       "      <td>2.411251</td>\n",
       "      <td>4</td>\n",
       "    </tr>\n",
       "    <tr>\n",
       "      <th>28</th>\n",
       "      <td>Complex &amp; Text &amp; Class &amp; JC_Sim</td>\n",
       "      <td>2.415421</td>\n",
       "      <td>4</td>\n",
       "    </tr>\n",
       "    <tr>\n",
       "      <th>18</th>\n",
       "      <td>Complex &amp; Text &amp; Class</td>\n",
       "      <td>2.439534</td>\n",
       "      <td>3</td>\n",
       "    </tr>\n",
       "    <tr>\n",
       "      <th>21</th>\n",
       "      <td>Transe &amp; Text &amp; Class</td>\n",
       "      <td>2.473388</td>\n",
       "      <td>3</td>\n",
       "    </tr>\n",
       "    <tr>\n",
       "      <th>19</th>\n",
       "      <td>Complex &amp; Text &amp; JC_Sim</td>\n",
       "      <td>2.475702</td>\n",
       "      <td>3</td>\n",
       "    </tr>\n",
       "    <tr>\n",
       "      <th>22</th>\n",
       "      <td>Transe &amp; Text &amp; JC_Sim</td>\n",
       "      <td>2.491334</td>\n",
       "      <td>3</td>\n",
       "    </tr>\n",
       "    <tr>\n",
       "      <th>30</th>\n",
       "      <td>Complex &amp; Transe &amp; Text &amp; Class &amp; JC_Sim</td>\n",
       "      <td>2.497628</td>\n",
       "      <td>5</td>\n",
       "    </tr>\n",
       "  </tbody>\n",
       "</table>\n",
       "</div>"
      ],
      "text/plain": [
       "                                 Combination       MSE  count\n",
       "24  Text & Class & JC_Sim                     2.337720  3    \n",
       "12  Text & Class                              2.339691  2    \n",
       "13  Text & JC_Sim                             2.369431  2    \n",
       "29  Transe & Text & Class & JC_Sim            2.411251  4    \n",
       "28  Complex & Text & Class & JC_Sim           2.415421  4    \n",
       "18  Complex & Text & Class                    2.439534  3    \n",
       "21  Transe & Text & Class                     2.473388  3    \n",
       "19  Complex & Text & JC_Sim                   2.475702  3    \n",
       "22  Transe & Text & JC_Sim                    2.491334  3    \n",
       "30  Complex & Transe & Text & Class & JC_Sim  2.497628  5    "
      ]
     },
     "execution_count": 85,
     "metadata": {},
     "output_type": "execute_result"
    }
   ],
   "source": [
    "allCombs_classn.sort_values(by=['MSE']).head(10)"
   ]
  },
  {
   "cell_type": "code",
   "execution_count": 69,
   "id": "mexican-detective",
   "metadata": {
    "hidden": true,
    "scrolled": false
   },
   "outputs": [],
   "source": [
    "# allCombs.sort_values(by=['Accuracy (in %) of new embeddings compared to annotated category'], ascending=False).head(10)"
   ]
  },
  {
   "cell_type": "code",
   "execution_count": 70,
   "id": "vocal-morning",
   "metadata": {
    "hidden": true,
    "scrolled": false
   },
   "outputs": [],
   "source": [
    "# allCombs.sort_values(by=['Increase'], ascending=False).head(10)"
   ]
  },
  {
   "cell_type": "code",
   "execution_count": 72,
   "id": "yellow-replacement",
   "metadata": {
    "hidden": true,
    "scrolled": false
   },
   "outputs": [
    {
     "data": {
      "text/html": [
       "<div>\n",
       "<style scoped>\n",
       "    .dataframe tbody tr th:only-of-type {\n",
       "        vertical-align: middle;\n",
       "    }\n",
       "\n",
       "    .dataframe tbody tr th {\n",
       "        vertical-align: top;\n",
       "    }\n",
       "\n",
       "    .dataframe thead th {\n",
       "        text-align: right;\n",
       "    }\n",
       "</style>\n",
       "<table border=\"1\" class=\"dataframe\">\n",
       "  <thead>\n",
       "    <tr style=\"text-align: right;\">\n",
       "      <th></th>\n",
       "      <th>Combination</th>\n",
       "      <th>MSE</th>\n",
       "      <th>count</th>\n",
       "    </tr>\n",
       "  </thead>\n",
       "  <tbody>\n",
       "    <tr>\n",
       "      <th>2</th>\n",
       "      <td>Text</td>\n",
       "      <td>2.593313</td>\n",
       "      <td>1</td>\n",
       "    </tr>\n",
       "    <tr>\n",
       "      <th>3</th>\n",
       "      <td>Class</td>\n",
       "      <td>2.863816</td>\n",
       "      <td>1</td>\n",
       "    </tr>\n",
       "    <tr>\n",
       "      <th>4</th>\n",
       "      <td>JC_Sim</td>\n",
       "      <td>2.962828</td>\n",
       "      <td>1</td>\n",
       "    </tr>\n",
       "    <tr>\n",
       "      <th>0</th>\n",
       "      <td>Complex</td>\n",
       "      <td>3.064231</td>\n",
       "      <td>1</td>\n",
       "    </tr>\n",
       "    <tr>\n",
       "      <th>1</th>\n",
       "      <td>Transe</td>\n",
       "      <td>3.393020</td>\n",
       "      <td>1</td>\n",
       "    </tr>\n",
       "  </tbody>\n",
       "</table>\n",
       "</div>"
      ],
      "text/plain": [
       "  Combination       MSE  count\n",
       "2  Text        2.593313  1    \n",
       "3  Class       2.863816  1    \n",
       "4  JC_Sim      2.962828  1    \n",
       "0  Complex     3.064231  1    \n",
       "1  Transe      3.393020  1    "
      ]
     },
     "execution_count": 72,
     "metadata": {},
     "output_type": "execute_result"
    }
   ],
   "source": [
    "allCombs_classn[allCombs_classn['count'] == 1].sort_values(by=['MSE']).head(10)"
   ]
  },
  {
   "cell_type": "markdown",
   "id": "flying-boxing",
   "metadata": {
    "heading_collapsed": true
   },
   "source": [
    "## RF"
   ]
  },
  {
   "cell_type": "code",
   "execution_count": 250,
   "id": "unlikely-divorce",
   "metadata": {
    "hidden": true,
    "scrolled": false
   },
   "outputs": [
    {
     "data": {
      "application/vnd.jupyter.widget-view+json": {
       "model_id": "123c20d4e60b4e3e8b09c0e0e46efc1e",
       "version_major": 2,
       "version_minor": 0
      },
      "text/plain": [
       "  0%|          | 0/14 [00:00<?, ?it/s]"
      ]
     },
     "metadata": {},
     "output_type": "display_data"
    },
    {
     "name": "stderr",
     "output_type": "stream",
     "text": [
      "IOPub data rate exceeded.\n",
      "The notebook server will temporarily stop sending output\n",
      "to the client in order to avoid crashing it.\n",
      "To change this limit, set the config variable\n",
      "`--NotebookApp.iopub_data_rate_limit`.\n",
      "\n",
      "Current values:\n",
      "NotebookApp.iopub_data_rate_limit=1000000.0 (bytes/sec)\n",
      "NotebookApp.rate_limit_window=3.0 (secs)\n",
      "\n"
     ]
    }
   ],
   "source": [
    "from joblib import Parallel, delayed\n",
    "def generateCombAccuracies(oldColPairs, r):\n",
    "    accs = []\n",
    "    for comb in tqdm(combinations(oldColPairs, r)):\n",
    "        assert len(comb) == r\n",
    "        oldAcc = trainAndFindAccuracyRF(wordSim353AnnotDF_New_Merged_DF, [col[0] for col in comb])\n",
    "        newAcc = trainAndFindAccuracyRF(wordSim353AnnotDF_New_Merged_DF, [colMappers[col[0]] for col in comb])\n",
    "        indName = \" & \".join([col[1] for col in comb])\n",
    "        accs.append((indName, oldAcc, newAcc))\n",
    "    return accs\n",
    "    \n",
    "results1 = Parallel(n_jobs=14)(delayed(generateCombAccuracies)(oldColPairs, i) for i in tqdm(range(1,len(oldColPairs)+1)))\n",
    "print(results1)"
   ]
  },
  {
   "cell_type": "code",
   "execution_count": 263,
   "id": "progressive-width",
   "metadata": {
    "hidden": true
   },
   "outputs": [
    {
     "data": {
      "text/plain": [
       "True"
      ]
     },
     "execution_count": 263,
     "metadata": {},
     "output_type": "execute_result"
    }
   ],
   "source": [
    "results == results1"
   ]
  },
  {
   "cell_type": "code",
   "execution_count": 262,
   "id": "quality-listing",
   "metadata": {
    "hidden": true
   },
   "outputs": [],
   "source": [
    "results_flat1 = [item for sublist in results1 for item in sublist]"
   ]
  },
  {
   "cell_type": "code",
   "execution_count": 252,
   "id": "after-prospect",
   "metadata": {
    "hidden": true
   },
   "outputs": [],
   "source": [
    "allCombs1 = (pd.DataFrame(results_flat1, columns = ['Combination','Accuracy (in %) of old embeddings compared to annotated category', 'Accuracy (in %) of new embeddings compared to annotated category']).set_index('Combination') * 100).reset_index()"
   ]
  },
  {
   "cell_type": "code",
   "execution_count": 253,
   "id": "dated-musician",
   "metadata": {
    "hidden": true
   },
   "outputs": [],
   "source": [
    "allCombs1['Increase'] = allCombs1['Accuracy (in %) of new embeddings compared to annotated category'] - allCombs['Accuracy (in %) of old embeddings compared to annotated category']"
   ]
  },
  {
   "cell_type": "code",
   "execution_count": 254,
   "id": "descending-rebate",
   "metadata": {
    "hidden": true
   },
   "outputs": [],
   "source": [
    "allCombs1['count'] = allCombs1['Combination'].apply(lambda p: p.count(\"&\")+1)"
   ]
  },
  {
   "cell_type": "code",
   "execution_count": 255,
   "id": "union-forty",
   "metadata": {
    "hidden": true
   },
   "outputs": [
    {
     "data": {
      "text/html": [
       "<div>\n",
       "<style scoped>\n",
       "    .dataframe tbody tr th:only-of-type {\n",
       "        vertical-align: middle;\n",
       "    }\n",
       "\n",
       "    .dataframe tbody tr th {\n",
       "        vertical-align: top;\n",
       "    }\n",
       "\n",
       "    .dataframe thead th {\n",
       "        text-align: right;\n",
       "    }\n",
       "</style>\n",
       "<table border=\"1\" class=\"dataframe\">\n",
       "  <thead>\n",
       "    <tr style=\"text-align: right;\">\n",
       "      <th></th>\n",
       "      <th>Combination</th>\n",
       "      <th>Accuracy (in %) of old embeddings compared to annotated category</th>\n",
       "      <th>Accuracy (in %) of new embeddings compared to annotated category</th>\n",
       "      <th>Increase</th>\n",
       "      <th>count</th>\n",
       "    </tr>\n",
       "  </thead>\n",
       "  <tbody>\n",
       "    <tr>\n",
       "      <th>0</th>\n",
       "      <td>Text 7 props - 19k</td>\n",
       "      <td>65.126050</td>\n",
       "      <td>63.672269</td>\n",
       "      <td>-1.453782</td>\n",
       "      <td>1</td>\n",
       "    </tr>\n",
       "    <tr>\n",
       "      <th>1</th>\n",
       "      <td>Text 2 props - 19k</td>\n",
       "      <td>61.899160</td>\n",
       "      <td>63.344538</td>\n",
       "      <td>1.445378</td>\n",
       "      <td>1</td>\n",
       "    </tr>\n",
       "    <tr>\n",
       "      <th>2</th>\n",
       "      <td>Complex - 19k</td>\n",
       "      <td>66.613445</td>\n",
       "      <td>64.277311</td>\n",
       "      <td>-2.336134</td>\n",
       "      <td>1</td>\n",
       "    </tr>\n",
       "    <tr>\n",
       "      <th>3</th>\n",
       "      <td>Transe - 19k</td>\n",
       "      <td>66.613445</td>\n",
       "      <td>66.310924</td>\n",
       "      <td>-0.302521</td>\n",
       "      <td>1</td>\n",
       "    </tr>\n",
       "    <tr>\n",
       "      <th>4</th>\n",
       "      <td>Abstract - 19k</td>\n",
       "      <td>68.899160</td>\n",
       "      <td>66.008403</td>\n",
       "      <td>-2.890756</td>\n",
       "      <td>1</td>\n",
       "    </tr>\n",
       "  </tbody>\n",
       "</table>\n",
       "</div>"
      ],
      "text/plain": [
       "          Combination  \\\n",
       "0  Text 7 props - 19k   \n",
       "1  Text 2 props - 19k   \n",
       "2  Complex - 19k        \n",
       "3  Transe - 19k         \n",
       "4  Abstract - 19k       \n",
       "\n",
       "   Accuracy (in %) of old embeddings compared to annotated category  \\\n",
       "0  65.126050                                                          \n",
       "1  61.899160                                                          \n",
       "2  66.613445                                                          \n",
       "3  66.613445                                                          \n",
       "4  68.899160                                                          \n",
       "\n",
       "   Accuracy (in %) of new embeddings compared to annotated category  Increase  \\\n",
       "0  63.672269                                                        -1.453782   \n",
       "1  63.344538                                                         1.445378   \n",
       "2  64.277311                                                        -2.336134   \n",
       "3  66.310924                                                        -0.302521   \n",
       "4  66.008403                                                        -2.890756   \n",
       "\n",
       "   count  \n",
       "0  1      \n",
       "1  1      \n",
       "2  1      \n",
       "3  1      \n",
       "4  1      "
      ]
     },
     "execution_count": 255,
     "metadata": {},
     "output_type": "execute_result"
    }
   ],
   "source": [
    "allCombs1.head()"
   ]
  },
  {
   "cell_type": "code",
   "execution_count": 256,
   "id": "increased-dakota",
   "metadata": {
    "hidden": true
   },
   "outputs": [
    {
     "name": "stdout",
     "output_type": "stream",
     "text": [
      "Determined accuracies of 16383 combinations of embedding scores based on the length 14\n"
     ]
    }
   ],
   "source": [
    "print(f\"Determined accuracies of {len(allCombs1)} combinations of embedding scores based on the length {len(oldColPairs)}\")"
   ]
  },
  {
   "cell_type": "code",
   "execution_count": 257,
   "id": "indirect-baltimore",
   "metadata": {
    "hidden": true
   },
   "outputs": [],
   "source": [
    "pd.options.display.max_colwidth = 0"
   ]
  },
  {
   "cell_type": "code",
   "execution_count": 258,
   "id": "amber-estonia",
   "metadata": {
    "hidden": true,
    "scrolled": false
   },
   "outputs": [
    {
     "data": {
      "text/html": [
       "<div>\n",
       "<style scoped>\n",
       "    .dataframe tbody tr th:only-of-type {\n",
       "        vertical-align: middle;\n",
       "    }\n",
       "\n",
       "    .dataframe tbody tr th {\n",
       "        vertical-align: top;\n",
       "    }\n",
       "\n",
       "    .dataframe thead th {\n",
       "        text-align: right;\n",
       "    }\n",
       "</style>\n",
       "<table border=\"1\" class=\"dataframe\">\n",
       "  <thead>\n",
       "    <tr style=\"text-align: right;\">\n",
       "      <th></th>\n",
       "      <th>Combination</th>\n",
       "      <th>Accuracy (in %) of old embeddings compared to annotated category</th>\n",
       "      <th>Accuracy (in %) of new embeddings compared to annotated category</th>\n",
       "      <th>Increase</th>\n",
       "      <th>count</th>\n",
       "    </tr>\n",
       "  </thead>\n",
       "  <tbody>\n",
       "    <tr>\n",
       "      <th>5</th>\n",
       "      <td>Abstract First Sentence - 19k</td>\n",
       "      <td>73.285714</td>\n",
       "      <td>70.075630</td>\n",
       "      <td>-3.210084</td>\n",
       "      <td>1</td>\n",
       "    </tr>\n",
       "    <tr>\n",
       "      <th>60</th>\n",
       "      <td>Abstract - 19k &amp; Abstract First Sentence - 19k</td>\n",
       "      <td>72.117647</td>\n",
       "      <td>68.327731</td>\n",
       "      <td>-3.789916</td>\n",
       "      <td>2</td>\n",
       "    </tr>\n",
       "    <tr>\n",
       "      <th>138</th>\n",
       "      <td>Text 7 props - 19k &amp; Abstract - 19k &amp; Abstract First Sentence - 19k</td>\n",
       "      <td>72.100840</td>\n",
       "      <td>70.361345</td>\n",
       "      <td>-1.739496</td>\n",
       "      <td>3</td>\n",
       "    </tr>\n",
       "    <tr>\n",
       "      <th>151</th>\n",
       "      <td>Text 7 props - 19k &amp; Abstract First Sentence - 19k &amp; Complex-Transe-AbsFirstSent - 19k</td>\n",
       "      <td>71.831933</td>\n",
       "      <td>70.378151</td>\n",
       "      <td>-1.453782</td>\n",
       "      <td>3</td>\n",
       "    </tr>\n",
       "    <tr>\n",
       "      <th>152</th>\n",
       "      <td>Text 7 props - 19k &amp; Abstract First Sentence - 19k &amp; Complex-Transe-AbsFirstSent - Probase-19k</td>\n",
       "      <td>71.831933</td>\n",
       "      <td>71.252101</td>\n",
       "      <td>-0.579832</td>\n",
       "      <td>3</td>\n",
       "    </tr>\n",
       "    <tr>\n",
       "      <th>2114</th>\n",
       "      <td>Text 7 props - 19k &amp; Abstract First Sentence - 19k &amp; Complex-Transe-AbsFirstSent - Probase-19k &amp; 6 embeddings - 19k &amp; 6 embeddings - Probase-19k</td>\n",
       "      <td>71.815126</td>\n",
       "      <td>69.789916</td>\n",
       "      <td>-2.025210</td>\n",
       "      <td>5</td>\n",
       "    </tr>\n",
       "    <tr>\n",
       "      <th>2001</th>\n",
       "      <td>Text 7 props - 19k &amp; Abstract - 19k &amp; Abstract First Sentence - 19k &amp; Complex-Transe-AbsFirstSent - Probase-19k &amp; 6 embeddings - Probase-19k</td>\n",
       "      <td>71.815126</td>\n",
       "      <td>69.798319</td>\n",
       "      <td>-2.016807</td>\n",
       "      <td>5</td>\n",
       "    </tr>\n",
       "    <tr>\n",
       "      <th>2000</th>\n",
       "      <td>Text 7 props - 19k &amp; Abstract - 19k &amp; Abstract First Sentence - 19k &amp; Complex-Transe-AbsFirstSent - Probase-19k &amp; 6 embeddings - 19k</td>\n",
       "      <td>71.815126</td>\n",
       "      <td>70.378151</td>\n",
       "      <td>-1.436975</td>\n",
       "      <td>5</td>\n",
       "    </tr>\n",
       "    <tr>\n",
       "      <th>1999</th>\n",
       "      <td>Text 7 props - 19k &amp; Abstract - 19k &amp; Abstract First Sentence - 19k &amp; Complex-Transe-AbsFirstSent - 19k &amp; 6 embeddings - Probase-19k</td>\n",
       "      <td>71.815126</td>\n",
       "      <td>69.495798</td>\n",
       "      <td>-2.319328</td>\n",
       "      <td>5</td>\n",
       "    </tr>\n",
       "    <tr>\n",
       "      <th>1998</th>\n",
       "      <td>Text 7 props - 19k &amp; Abstract - 19k &amp; Abstract First Sentence - 19k &amp; Complex-Transe-AbsFirstSent - 19k &amp; 6 embeddings - 19k</td>\n",
       "      <td>71.815126</td>\n",
       "      <td>69.487395</td>\n",
       "      <td>-2.327731</td>\n",
       "      <td>5</td>\n",
       "    </tr>\n",
       "  </tbody>\n",
       "</table>\n",
       "</div>"
      ],
      "text/plain": [
       "                                                                                                                                           Combination  \\\n",
       "5     Abstract First Sentence - 19k                                                                                                                      \n",
       "60    Abstract - 19k & Abstract First Sentence - 19k                                                                                                     \n",
       "138   Text 7 props - 19k & Abstract - 19k & Abstract First Sentence - 19k                                                                                \n",
       "151   Text 7 props - 19k & Abstract First Sentence - 19k & Complex-Transe-AbsFirstSent - 19k                                                             \n",
       "152   Text 7 props - 19k & Abstract First Sentence - 19k & Complex-Transe-AbsFirstSent - Probase-19k                                                     \n",
       "2114  Text 7 props - 19k & Abstract First Sentence - 19k & Complex-Transe-AbsFirstSent - Probase-19k & 6 embeddings - 19k & 6 embeddings - Probase-19k   \n",
       "2001  Text 7 props - 19k & Abstract - 19k & Abstract First Sentence - 19k & Complex-Transe-AbsFirstSent - Probase-19k & 6 embeddings - Probase-19k       \n",
       "2000  Text 7 props - 19k & Abstract - 19k & Abstract First Sentence - 19k & Complex-Transe-AbsFirstSent - Probase-19k & 6 embeddings - 19k               \n",
       "1999  Text 7 props - 19k & Abstract - 19k & Abstract First Sentence - 19k & Complex-Transe-AbsFirstSent - 19k & 6 embeddings - Probase-19k               \n",
       "1998  Text 7 props - 19k & Abstract - 19k & Abstract First Sentence - 19k & Complex-Transe-AbsFirstSent - 19k & 6 embeddings - 19k                       \n",
       "\n",
       "      Accuracy (in %) of old embeddings compared to annotated category  \\\n",
       "5     73.285714                                                          \n",
       "60    72.117647                                                          \n",
       "138   72.100840                                                          \n",
       "151   71.831933                                                          \n",
       "152   71.831933                                                          \n",
       "2114  71.815126                                                          \n",
       "2001  71.815126                                                          \n",
       "2000  71.815126                                                          \n",
       "1999  71.815126                                                          \n",
       "1998  71.815126                                                          \n",
       "\n",
       "      Accuracy (in %) of new embeddings compared to annotated category  \\\n",
       "5     70.075630                                                          \n",
       "60    68.327731                                                          \n",
       "138   70.361345                                                          \n",
       "151   70.378151                                                          \n",
       "152   71.252101                                                          \n",
       "2114  69.789916                                                          \n",
       "2001  69.798319                                                          \n",
       "2000  70.378151                                                          \n",
       "1999  69.495798                                                          \n",
       "1998  69.487395                                                          \n",
       "\n",
       "      Increase  count  \n",
       "5    -3.210084  1      \n",
       "60   -3.789916  2      \n",
       "138  -1.739496  3      \n",
       "151  -1.453782  3      \n",
       "152  -0.579832  3      \n",
       "2114 -2.025210  5      \n",
       "2001 -2.016807  5      \n",
       "2000 -1.436975  5      \n",
       "1999 -2.319328  5      \n",
       "1998 -2.327731  5      "
      ]
     },
     "execution_count": 258,
     "metadata": {},
     "output_type": "execute_result"
    }
   ],
   "source": [
    "allCombs1.sort_values(by=['Accuracy (in %) of old embeddings compared to annotated category'], ascending=False).head(10)"
   ]
  },
  {
   "cell_type": "code",
   "execution_count": 259,
   "id": "dutch-offense",
   "metadata": {
    "hidden": true,
    "scrolled": false
   },
   "outputs": [
    {
     "data": {
      "text/html": [
       "<div>\n",
       "<style scoped>\n",
       "    .dataframe tbody tr th:only-of-type {\n",
       "        vertical-align: middle;\n",
       "    }\n",
       "\n",
       "    .dataframe tbody tr th {\n",
       "        vertical-align: top;\n",
       "    }\n",
       "\n",
       "    .dataframe thead th {\n",
       "        text-align: right;\n",
       "    }\n",
       "</style>\n",
       "<table border=\"1\" class=\"dataframe\">\n",
       "  <thead>\n",
       "    <tr style=\"text-align: right;\">\n",
       "      <th></th>\n",
       "      <th>Combination</th>\n",
       "      <th>Accuracy (in %) of old embeddings compared to annotated category</th>\n",
       "      <th>Accuracy (in %) of new embeddings compared to annotated category</th>\n",
       "      <th>Increase</th>\n",
       "      <th>count</th>\n",
       "    </tr>\n",
       "  </thead>\n",
       "  <tbody>\n",
       "    <tr>\n",
       "      <th>681</th>\n",
       "      <td>Text 7 props - 19k &amp; Abstract First Sentence - 19k &amp; Transe - Probase &amp; Complex-Transe-AbsFirstSent - Probase-19k</td>\n",
       "      <td>70.663866</td>\n",
       "      <td>71.260504</td>\n",
       "      <td>0.596639</td>\n",
       "      <td>4</td>\n",
       "    </tr>\n",
       "    <tr>\n",
       "      <th>218</th>\n",
       "      <td>Text 2 props - 19k &amp; Abstract First Sentence - 19k &amp; Complex-Transe-AbsFirstSent - Probase-19k</td>\n",
       "      <td>71.226891</td>\n",
       "      <td>71.252101</td>\n",
       "      <td>0.025210</td>\n",
       "      <td>3</td>\n",
       "    </tr>\n",
       "    <tr>\n",
       "      <th>1575</th>\n",
       "      <td>Text 7 props - 19k &amp; Text 2 props - 19k &amp; Abstract - 19k &amp; Abstract First Sentence - 19k &amp; Complex-Transe-AbsFirstSent - Probase-19k</td>\n",
       "      <td>71.235294</td>\n",
       "      <td>71.252101</td>\n",
       "      <td>0.016807</td>\n",
       "      <td>5</td>\n",
       "    </tr>\n",
       "    <tr>\n",
       "      <th>152</th>\n",
       "      <td>Text 7 props - 19k &amp; Abstract First Sentence - 19k &amp; Complex-Transe-AbsFirstSent - Probase-19k</td>\n",
       "      <td>71.831933</td>\n",
       "      <td>71.252101</td>\n",
       "      <td>-0.579832</td>\n",
       "      <td>3</td>\n",
       "    </tr>\n",
       "    <tr>\n",
       "      <th>3884</th>\n",
       "      <td>Text 7 props - 19k &amp; Text 2 props - 19k &amp; Abstract First Sentence - 19k &amp; Complex - Probase-19k &amp; Complex-Transe-AbsFirstSent - Probase-19k &amp; 6 embeddings - 19k</td>\n",
       "      <td>68.310924</td>\n",
       "      <td>71.235294</td>\n",
       "      <td>2.924370</td>\n",
       "      <td>6</td>\n",
       "    </tr>\n",
       "    <tr>\n",
       "      <th>129</th>\n",
       "      <td>Text 7 props - 19k &amp; Transe - 19k &amp; Abstract First Sentence - 19k</td>\n",
       "      <td>69.764706</td>\n",
       "      <td>71.235294</td>\n",
       "      <td>1.470588</td>\n",
       "      <td>3</td>\n",
       "    </tr>\n",
       "    <tr>\n",
       "      <th>217</th>\n",
       "      <td>Text 2 props - 19k &amp; Abstract First Sentence - 19k &amp; Complex-Transe-AbsFirstSent - 19k</td>\n",
       "      <td>71.226891</td>\n",
       "      <td>70.974790</td>\n",
       "      <td>-0.252101</td>\n",
       "      <td>3</td>\n",
       "    </tr>\n",
       "    <tr>\n",
       "      <th>604</th>\n",
       "      <td>Text 7 props - 19k &amp; Transe - 19k &amp; Abstract First Sentence - 19k &amp; Complex-Transe-AbsFirstSent - Probase-19k</td>\n",
       "      <td>71.529412</td>\n",
       "      <td>70.966387</td>\n",
       "      <td>-0.563025</td>\n",
       "      <td>4</td>\n",
       "    </tr>\n",
       "    <tr>\n",
       "      <th>7207</th>\n",
       "      <td>Text 7 props - 19k &amp; Text 2 props - 19k &amp; Abstract First Sentence - 19k &amp; Transe - Probase-19k &amp; Complex-Transe-AbsFirstSent - 19k &amp; Complex-Transe-AbsFirstSent - Probase-19k &amp; 6 embeddings - Probase-19k</td>\n",
       "      <td>68.605042</td>\n",
       "      <td>70.966387</td>\n",
       "      <td>2.361345</td>\n",
       "      <td>7</td>\n",
       "    </tr>\n",
       "    <tr>\n",
       "      <th>690</th>\n",
       "      <td>Text 7 props - 19k &amp; Abstract First Sentence - 19k &amp; Transe - Probase-19k &amp; Complex-Transe-AbsFirstSent - Probase-19k</td>\n",
       "      <td>70.663866</td>\n",
       "      <td>70.966387</td>\n",
       "      <td>0.302521</td>\n",
       "      <td>4</td>\n",
       "    </tr>\n",
       "  </tbody>\n",
       "</table>\n",
       "</div>"
      ],
      "text/plain": [
       "                                                                                                                                                                                                      Combination  \\\n",
       "681   Text 7 props - 19k & Abstract First Sentence - 19k & Transe - Probase & Complex-Transe-AbsFirstSent - Probase-19k                                                                                             \n",
       "218   Text 2 props - 19k & Abstract First Sentence - 19k & Complex-Transe-AbsFirstSent - Probase-19k                                                                                                                \n",
       "1575  Text 7 props - 19k & Text 2 props - 19k & Abstract - 19k & Abstract First Sentence - 19k & Complex-Transe-AbsFirstSent - Probase-19k                                                                          \n",
       "152   Text 7 props - 19k & Abstract First Sentence - 19k & Complex-Transe-AbsFirstSent - Probase-19k                                                                                                                \n",
       "3884  Text 7 props - 19k & Text 2 props - 19k & Abstract First Sentence - 19k & Complex - Probase-19k & Complex-Transe-AbsFirstSent - Probase-19k & 6 embeddings - 19k                                              \n",
       "129   Text 7 props - 19k & Transe - 19k & Abstract First Sentence - 19k                                                                                                                                             \n",
       "217   Text 2 props - 19k & Abstract First Sentence - 19k & Complex-Transe-AbsFirstSent - 19k                                                                                                                        \n",
       "604   Text 7 props - 19k & Transe - 19k & Abstract First Sentence - 19k & Complex-Transe-AbsFirstSent - Probase-19k                                                                                                 \n",
       "7207  Text 7 props - 19k & Text 2 props - 19k & Abstract First Sentence - 19k & Transe - Probase-19k & Complex-Transe-AbsFirstSent - 19k & Complex-Transe-AbsFirstSent - Probase-19k & 6 embeddings - Probase-19k   \n",
       "690   Text 7 props - 19k & Abstract First Sentence - 19k & Transe - Probase-19k & Complex-Transe-AbsFirstSent - Probase-19k                                                                                         \n",
       "\n",
       "      Accuracy (in %) of old embeddings compared to annotated category  \\\n",
       "681   70.663866                                                          \n",
       "218   71.226891                                                          \n",
       "1575  71.235294                                                          \n",
       "152   71.831933                                                          \n",
       "3884  68.310924                                                          \n",
       "129   69.764706                                                          \n",
       "217   71.226891                                                          \n",
       "604   71.529412                                                          \n",
       "7207  68.605042                                                          \n",
       "690   70.663866                                                          \n",
       "\n",
       "      Accuracy (in %) of new embeddings compared to annotated category  \\\n",
       "681   71.260504                                                          \n",
       "218   71.252101                                                          \n",
       "1575  71.252101                                                          \n",
       "152   71.252101                                                          \n",
       "3884  71.235294                                                          \n",
       "129   71.235294                                                          \n",
       "217   70.974790                                                          \n",
       "604   70.966387                                                          \n",
       "7207  70.966387                                                          \n",
       "690   70.966387                                                          \n",
       "\n",
       "      Increase  count  \n",
       "681   0.596639  4      \n",
       "218   0.025210  3      \n",
       "1575  0.016807  5      \n",
       "152  -0.579832  3      \n",
       "3884  2.924370  6      \n",
       "129   1.470588  3      \n",
       "217  -0.252101  3      \n",
       "604  -0.563025  4      \n",
       "7207  2.361345  7      \n",
       "690   0.302521  4      "
      ]
     },
     "execution_count": 259,
     "metadata": {},
     "output_type": "execute_result"
    }
   ],
   "source": [
    "allCombs1.sort_values(by=['Accuracy (in %) of new embeddings compared to annotated category'], ascending=False).head(10)"
   ]
  },
  {
   "cell_type": "code",
   "execution_count": 260,
   "id": "induced-transmission",
   "metadata": {
    "hidden": true,
    "scrolled": false
   },
   "outputs": [
    {
     "data": {
      "text/html": [
       "<div>\n",
       "<style scoped>\n",
       "    .dataframe tbody tr th:only-of-type {\n",
       "        vertical-align: middle;\n",
       "    }\n",
       "\n",
       "    .dataframe tbody tr th {\n",
       "        vertical-align: top;\n",
       "    }\n",
       "\n",
       "    .dataframe thead th {\n",
       "        text-align: right;\n",
       "    }\n",
       "</style>\n",
       "<table border=\"1\" class=\"dataframe\">\n",
       "  <thead>\n",
       "    <tr style=\"text-align: right;\">\n",
       "      <th></th>\n",
       "      <th>Combination</th>\n",
       "      <th>Accuracy (in %) of old embeddings compared to annotated category</th>\n",
       "      <th>Accuracy (in %) of new embeddings compared to annotated category</th>\n",
       "      <th>Increase</th>\n",
       "      <th>count</th>\n",
       "    </tr>\n",
       "  </thead>\n",
       "  <tbody>\n",
       "    <tr>\n",
       "      <th>13048</th>\n",
       "      <td>Text 7 props - 19k &amp; Text 2 props - 19k &amp; Complex - 19k &amp; Transe - 19k &amp; Abstract First Sentence - 19k &amp; Complex - Probase &amp; Transe - Probase &amp; Complex-Transe-AbsFirstSent - Probase-19k &amp; 6 embeddings - 19k</td>\n",
       "      <td>64.252101</td>\n",
       "      <td>70.352941</td>\n",
       "      <td>6.100840</td>\n",
       "      <td>9</td>\n",
       "    </tr>\n",
       "    <tr>\n",
       "      <th>13084</th>\n",
       "      <td>Text 7 props - 19k &amp; Text 2 props - 19k &amp; Complex - 19k &amp; Transe - 19k &amp; Abstract First Sentence - 19k &amp; Transe - Probase &amp; Transe - Probase-19k &amp; Complex-Transe-AbsFirstSent - Probase-19k &amp; 6 embeddings - 19k</td>\n",
       "      <td>64.252101</td>\n",
       "      <td>69.210084</td>\n",
       "      <td>4.957983</td>\n",
       "      <td>9</td>\n",
       "    </tr>\n",
       "    <tr>\n",
       "      <th>14022</th>\n",
       "      <td>Text 7 props - 19k &amp; Complex - 19k &amp; Abstract First Sentence - 19k &amp; Transe - Probase &amp; Transe - Probase-19k &amp; Complex-Transe-AbsFirstSent - 19k &amp; Complex-Transe-AbsFirstSent - Probase-19k &amp; 6 embeddings - 19k &amp; 6 embeddings - Probase-19k</td>\n",
       "      <td>64.529412</td>\n",
       "      <td>69.176471</td>\n",
       "      <td>4.647059</td>\n",
       "      <td>9</td>\n",
       "    </tr>\n",
       "    <tr>\n",
       "      <th>13861</th>\n",
       "      <td>Text 7 props - 19k &amp; Complex - 19k &amp; Transe - 19k &amp; Abstract First Sentence - 19k &amp; Complex - Probase &amp; Transe - Probase-19k &amp; Complex-Transe-AbsFirstSent - Probase-19k &amp; 6 embeddings - 19k &amp; 6 embeddings - Probase-19k</td>\n",
       "      <td>64.243697</td>\n",
       "      <td>68.890756</td>\n",
       "      <td>4.647059</td>\n",
       "      <td>9</td>\n",
       "    </tr>\n",
       "    <tr>\n",
       "      <th>7551</th>\n",
       "      <td>Text 7 props - 19k &amp; Complex - 19k &amp; Abstract - 19k &amp; Complex - Probase &amp; Complex - Probase-19k &amp; Transe - Probase-19k &amp; 6 embeddings - Probase-19k</td>\n",
       "      <td>63.092437</td>\n",
       "      <td>67.722689</td>\n",
       "      <td>4.630252</td>\n",
       "      <td>7</td>\n",
       "    </tr>\n",
       "    <tr>\n",
       "      <th>13058</th>\n",
       "      <td>Text 7 props - 19k &amp; Text 2 props - 19k &amp; Complex - 19k &amp; Transe - 19k &amp; Abstract First Sentence - 19k &amp; Complex - Probase &amp; Complex - Probase-19k &amp; Complex-Transe-AbsFirstSent - Probase-19k &amp; 6 embeddings - 19k</td>\n",
       "      <td>64.252101</td>\n",
       "      <td>68.605042</td>\n",
       "      <td>4.352941</td>\n",
       "      <td>9</td>\n",
       "    </tr>\n",
       "    <tr>\n",
       "      <th>6500</th>\n",
       "      <td>Text 7 props - 19k &amp; Text 2 props - 19k &amp; Complex - 19k &amp; Transe - 19k &amp; Abstract - 19k &amp; Complex - Probase-19k &amp; 6 embeddings - Probase-19k</td>\n",
       "      <td>63.689076</td>\n",
       "      <td>68.033613</td>\n",
       "      <td>4.344538</td>\n",
       "      <td>7</td>\n",
       "    </tr>\n",
       "    <tr>\n",
       "      <th>7537</th>\n",
       "      <td>Text 7 props - 19k &amp; Complex - 19k &amp; Abstract - 19k &amp; Complex - Probase &amp; Transe - Probase &amp; Complex - Probase-19k &amp; 6 embeddings - Probase-19k</td>\n",
       "      <td>63.092437</td>\n",
       "      <td>67.436975</td>\n",
       "      <td>4.344538</td>\n",
       "      <td>7</td>\n",
       "    </tr>\n",
       "    <tr>\n",
       "      <th>7570</th>\n",
       "      <td>Text 7 props - 19k &amp; Complex - 19k &amp; Abstract - 19k &amp; Transe - Probase &amp; Complex - Probase-19k &amp; Transe - Probase-19k &amp; 6 embeddings - 19k</td>\n",
       "      <td>63.092437</td>\n",
       "      <td>67.428571</td>\n",
       "      <td>4.336134</td>\n",
       "      <td>7</td>\n",
       "    </tr>\n",
       "    <tr>\n",
       "      <th>6499</th>\n",
       "      <td>Text 7 props - 19k &amp; Text 2 props - 19k &amp; Complex - 19k &amp; Transe - 19k &amp; Abstract - 19k &amp; Complex - Probase-19k &amp; 6 embeddings - 19k</td>\n",
       "      <td>63.689076</td>\n",
       "      <td>68.025210</td>\n",
       "      <td>4.336134</td>\n",
       "      <td>7</td>\n",
       "    </tr>\n",
       "  </tbody>\n",
       "</table>\n",
       "</div>"
      ],
      "text/plain": [
       "                                                                                                                                                                                                                                          Combination  \\\n",
       "13048  Text 7 props - 19k & Text 2 props - 19k & Complex - 19k & Transe - 19k & Abstract First Sentence - 19k & Complex - Probase & Transe - Probase & Complex-Transe-AbsFirstSent - Probase-19k & 6 embeddings - 19k                                   \n",
       "13084  Text 7 props - 19k & Text 2 props - 19k & Complex - 19k & Transe - 19k & Abstract First Sentence - 19k & Transe - Probase & Transe - Probase-19k & Complex-Transe-AbsFirstSent - Probase-19k & 6 embeddings - 19k                                \n",
       "14022  Text 7 props - 19k & Complex - 19k & Abstract First Sentence - 19k & Transe - Probase & Transe - Probase-19k & Complex-Transe-AbsFirstSent - 19k & Complex-Transe-AbsFirstSent - Probase-19k & 6 embeddings - 19k & 6 embeddings - Probase-19k   \n",
       "13861  Text 7 props - 19k & Complex - 19k & Transe - 19k & Abstract First Sentence - 19k & Complex - Probase & Transe - Probase-19k & Complex-Transe-AbsFirstSent - Probase-19k & 6 embeddings - 19k & 6 embeddings - Probase-19k                       \n",
       "7551   Text 7 props - 19k & Complex - 19k & Abstract - 19k & Complex - Probase & Complex - Probase-19k & Transe - Probase-19k & 6 embeddings - Probase-19k                                                                                              \n",
       "13058  Text 7 props - 19k & Text 2 props - 19k & Complex - 19k & Transe - 19k & Abstract First Sentence - 19k & Complex - Probase & Complex - Probase-19k & Complex-Transe-AbsFirstSent - Probase-19k & 6 embeddings - 19k                              \n",
       "6500   Text 7 props - 19k & Text 2 props - 19k & Complex - 19k & Transe - 19k & Abstract - 19k & Complex - Probase-19k & 6 embeddings - Probase-19k                                                                                                     \n",
       "7537   Text 7 props - 19k & Complex - 19k & Abstract - 19k & Complex - Probase & Transe - Probase & Complex - Probase-19k & 6 embeddings - Probase-19k                                                                                                  \n",
       "7570   Text 7 props - 19k & Complex - 19k & Abstract - 19k & Transe - Probase & Complex - Probase-19k & Transe - Probase-19k & 6 embeddings - 19k                                                                                                       \n",
       "6499   Text 7 props - 19k & Text 2 props - 19k & Complex - 19k & Transe - 19k & Abstract - 19k & Complex - Probase-19k & 6 embeddings - 19k                                                                                                             \n",
       "\n",
       "       Accuracy (in %) of old embeddings compared to annotated category  \\\n",
       "13048  64.252101                                                          \n",
       "13084  64.252101                                                          \n",
       "14022  64.529412                                                          \n",
       "13861  64.243697                                                          \n",
       "7551   63.092437                                                          \n",
       "13058  64.252101                                                          \n",
       "6500   63.689076                                                          \n",
       "7537   63.092437                                                          \n",
       "7570   63.092437                                                          \n",
       "6499   63.689076                                                          \n",
       "\n",
       "       Accuracy (in %) of new embeddings compared to annotated category  \\\n",
       "13048  70.352941                                                          \n",
       "13084  69.210084                                                          \n",
       "14022  69.176471                                                          \n",
       "13861  68.890756                                                          \n",
       "7551   67.722689                                                          \n",
       "13058  68.605042                                                          \n",
       "6500   68.033613                                                          \n",
       "7537   67.436975                                                          \n",
       "7570   67.428571                                                          \n",
       "6499   68.025210                                                          \n",
       "\n",
       "       Increase  count  \n",
       "13048  6.100840  9      \n",
       "13084  4.957983  9      \n",
       "14022  4.647059  9      \n",
       "13861  4.647059  9      \n",
       "7551   4.630252  7      \n",
       "13058  4.352941  9      \n",
       "6500   4.344538  7      \n",
       "7537   4.344538  7      \n",
       "7570   4.336134  7      \n",
       "6499   4.336134  7      "
      ]
     },
     "execution_count": 260,
     "metadata": {},
     "output_type": "execute_result"
    }
   ],
   "source": [
    "allCombs1.sort_values(by=['Increase'], ascending=False).head(10)"
   ]
  },
  {
   "cell_type": "code",
   "execution_count": 261,
   "id": "confidential-sandwich",
   "metadata": {
    "hidden": true,
    "scrolled": false
   },
   "outputs": [
    {
     "data": {
      "text/html": [
       "<div>\n",
       "<style scoped>\n",
       "    .dataframe tbody tr th:only-of-type {\n",
       "        vertical-align: middle;\n",
       "    }\n",
       "\n",
       "    .dataframe tbody tr th {\n",
       "        vertical-align: top;\n",
       "    }\n",
       "\n",
       "    .dataframe thead th {\n",
       "        text-align: right;\n",
       "    }\n",
       "</style>\n",
       "<table border=\"1\" class=\"dataframe\">\n",
       "  <thead>\n",
       "    <tr style=\"text-align: right;\">\n",
       "      <th></th>\n",
       "      <th>Combination</th>\n",
       "      <th>Accuracy (in %) of old embeddings compared to annotated category</th>\n",
       "      <th>Accuracy (in %) of new embeddings compared to annotated category</th>\n",
       "      <th>Increase</th>\n",
       "      <th>count</th>\n",
       "    </tr>\n",
       "  </thead>\n",
       "  <tbody>\n",
       "    <tr>\n",
       "      <th>11</th>\n",
       "      <td>Complex-Transe-AbsFirstSent - Probase-19k</td>\n",
       "      <td>70.042017</td>\n",
       "      <td>70.630252</td>\n",
       "      <td>0.588235</td>\n",
       "      <td>1</td>\n",
       "    </tr>\n",
       "    <tr>\n",
       "      <th>5</th>\n",
       "      <td>Abstract First Sentence - 19k</td>\n",
       "      <td>73.285714</td>\n",
       "      <td>70.075630</td>\n",
       "      <td>-3.210084</td>\n",
       "      <td>1</td>\n",
       "    </tr>\n",
       "    <tr>\n",
       "      <th>10</th>\n",
       "      <td>Complex-Transe-AbsFirstSent - 19k</td>\n",
       "      <td>70.042017</td>\n",
       "      <td>68.302521</td>\n",
       "      <td>-1.739496</td>\n",
       "      <td>1</td>\n",
       "    </tr>\n",
       "    <tr>\n",
       "      <th>13</th>\n",
       "      <td>6 embeddings - Probase-19k</td>\n",
       "      <td>68.907563</td>\n",
       "      <td>68.042017</td>\n",
       "      <td>-0.865546</td>\n",
       "      <td>1</td>\n",
       "    </tr>\n",
       "    <tr>\n",
       "      <th>12</th>\n",
       "      <td>6 embeddings - 19k</td>\n",
       "      <td>68.907563</td>\n",
       "      <td>66.857143</td>\n",
       "      <td>-2.050420</td>\n",
       "      <td>1</td>\n",
       "    </tr>\n",
       "    <tr>\n",
       "      <th>6</th>\n",
       "      <td>Complex - Probase</td>\n",
       "      <td>66.613445</td>\n",
       "      <td>66.596639</td>\n",
       "      <td>-0.016807</td>\n",
       "      <td>1</td>\n",
       "    </tr>\n",
       "    <tr>\n",
       "      <th>7</th>\n",
       "      <td>Transe - Probase</td>\n",
       "      <td>66.613445</td>\n",
       "      <td>66.596639</td>\n",
       "      <td>-0.016807</td>\n",
       "      <td>1</td>\n",
       "    </tr>\n",
       "    <tr>\n",
       "      <th>3</th>\n",
       "      <td>Transe - 19k</td>\n",
       "      <td>66.613445</td>\n",
       "      <td>66.310924</td>\n",
       "      <td>-0.302521</td>\n",
       "      <td>1</td>\n",
       "    </tr>\n",
       "    <tr>\n",
       "      <th>9</th>\n",
       "      <td>Transe - Probase-19k</td>\n",
       "      <td>66.613445</td>\n",
       "      <td>66.008403</td>\n",
       "      <td>-0.605042</td>\n",
       "      <td>1</td>\n",
       "    </tr>\n",
       "    <tr>\n",
       "      <th>4</th>\n",
       "      <td>Abstract - 19k</td>\n",
       "      <td>68.899160</td>\n",
       "      <td>66.008403</td>\n",
       "      <td>-2.890756</td>\n",
       "      <td>1</td>\n",
       "    </tr>\n",
       "  </tbody>\n",
       "</table>\n",
       "</div>"
      ],
      "text/plain": [
       "                                  Combination  \\\n",
       "11  Complex-Transe-AbsFirstSent - Probase-19k   \n",
       "5   Abstract First Sentence - 19k               \n",
       "10  Complex-Transe-AbsFirstSent - 19k           \n",
       "13  6 embeddings - Probase-19k                  \n",
       "12  6 embeddings - 19k                          \n",
       "6   Complex - Probase                           \n",
       "7   Transe - Probase                            \n",
       "3   Transe - 19k                                \n",
       "9   Transe - Probase-19k                        \n",
       "4   Abstract - 19k                              \n",
       "\n",
       "    Accuracy (in %) of old embeddings compared to annotated category  \\\n",
       "11  70.042017                                                          \n",
       "5   73.285714                                                          \n",
       "10  70.042017                                                          \n",
       "13  68.907563                                                          \n",
       "12  68.907563                                                          \n",
       "6   66.613445                                                          \n",
       "7   66.613445                                                          \n",
       "3   66.613445                                                          \n",
       "9   66.613445                                                          \n",
       "4   68.899160                                                          \n",
       "\n",
       "    Accuracy (in %) of new embeddings compared to annotated category  \\\n",
       "11  70.630252                                                          \n",
       "5   70.075630                                                          \n",
       "10  68.302521                                                          \n",
       "13  68.042017                                                          \n",
       "12  66.857143                                                          \n",
       "6   66.596639                                                          \n",
       "7   66.596639                                                          \n",
       "3   66.310924                                                          \n",
       "9   66.008403                                                          \n",
       "4   66.008403                                                          \n",
       "\n",
       "    Increase  count  \n",
       "11  0.588235  1      \n",
       "5  -3.210084  1      \n",
       "10 -1.739496  1      \n",
       "13 -0.865546  1      \n",
       "12 -2.050420  1      \n",
       "6  -0.016807  1      \n",
       "7  -0.016807  1      \n",
       "3  -0.302521  1      \n",
       "9  -0.605042  1      \n",
       "4  -2.890756  1      "
      ]
     },
     "execution_count": 261,
     "metadata": {},
     "output_type": "execute_result"
    }
   ],
   "source": [
    "allCombs1[allCombs1['count'] == 1].sort_values(by=['Accuracy (in %) of new embeddings compared to annotated category'], ascending=False).head(10)"
   ]
  },
  {
   "cell_type": "code",
   "execution_count": null,
   "id": "smoking-trinity",
   "metadata": {
    "hidden": true
   },
   "outputs": [],
   "source": []
  },
  {
   "cell_type": "code",
   "execution_count": null,
   "id": "successful-spider",
   "metadata": {
    "hidden": true
   },
   "outputs": [],
   "source": []
  },
  {
   "cell_type": "code",
   "execution_count": null,
   "id": "moral-thought",
   "metadata": {
    "hidden": true
   },
   "outputs": [],
   "source": []
  },
  {
   "cell_type": "markdown",
   "id": "western-easter",
   "metadata": {},
   "source": [
    "# Generate Embeddings Files"
   ]
  },
  {
   "cell_type": "code",
   "execution_count": 133,
   "id": "nervous-physiology",
   "metadata": {},
   "outputs": [],
   "source": [
    "wordList = pd.concat([wordSim353AnnotDF_New2[['word1_kg_id', 'Word 1']], wordSim353AnnotDF_New2[['word2_kg_id', 'Word 2']].rename(columns={'Word 2': 'Word 1', 'word2_kg_id': 'word1_kg_id'})])"
   ]
  },
  {
   "cell_type": "code",
   "execution_count": 134,
   "id": "neither-hammer",
   "metadata": {},
   "outputs": [],
   "source": [
    "wordList = wordList[~wordList.duplicated()]"
   ]
  },
  {
   "cell_type": "code",
   "execution_count": 135,
   "id": "welsh-indiana",
   "metadata": {},
   "outputs": [],
   "source": [
    "wordList['word1_kg_id'].apply(lambda p: \"\\t\".join([str(p1) for p1 in embedDict[p].tolist()])).to_csv('../data/wordsim353_embeddings.tsv', index=False, header=None)"
   ]
  },
  {
   "cell_type": "code",
   "execution_count": 136,
   "id": "processed-wonder",
   "metadata": {},
   "outputs": [],
   "source": [
    "wordList['word1_kg_id'].apply(lambda p: \"\\t\".join([str(p1) for p1 in newEmbedDict[p].tolist()])).to_csv('../data/wordsim353_embeddings_new_attempt1.tsv', index=False, header=None)"
   ]
  },
  {
   "cell_type": "code",
   "execution_count": 137,
   "id": "psychological-template",
   "metadata": {},
   "outputs": [],
   "source": [
    "wordList['Word 1'].to_csv('../data/wordsim353_embeddings_words.tsv', index=False, header=None)"
   ]
  },
  {
   "cell_type": "code",
   "execution_count": null,
   "id": "prime-munich",
   "metadata": {},
   "outputs": [],
   "source": []
  },
  {
   "cell_type": "code",
   "execution_count": null,
   "id": "assigned-appliance",
   "metadata": {},
   "outputs": [],
   "source": []
  },
  {
   "cell_type": "code",
   "execution_count": null,
   "id": "severe-textbook",
   "metadata": {},
   "outputs": [],
   "source": []
  },
  {
   "cell_type": "code",
   "execution_count": null,
   "id": "prompt-orlando",
   "metadata": {},
   "outputs": [],
   "source": []
  },
  {
   "cell_type": "code",
   "execution_count": null,
   "id": "otherwise-qatar",
   "metadata": {},
   "outputs": [],
   "source": []
  },
  {
   "cell_type": "code",
   "execution_count": null,
   "id": "inclusive-brick",
   "metadata": {},
   "outputs": [],
   "source": []
  },
  {
   "cell_type": "code",
   "execution_count": null,
   "id": "micro-kernel",
   "metadata": {},
   "outputs": [],
   "source": []
  },
  {
   "cell_type": "code",
   "execution_count": null,
   "id": "optical-atlas",
   "metadata": {},
   "outputs": [],
   "source": []
  },
  {
   "cell_type": "code",
   "execution_count": null,
   "id": "assured-means",
   "metadata": {},
   "outputs": [],
   "source": []
  },
  {
   "cell_type": "code",
   "execution_count": null,
   "id": "after-fever",
   "metadata": {},
   "outputs": [],
   "source": []
  },
  {
   "cell_type": "code",
   "execution_count": null,
   "id": "opened-baker",
   "metadata": {},
   "outputs": [],
   "source": []
  },
  {
   "cell_type": "code",
   "execution_count": null,
   "id": "supposed-charm",
   "metadata": {},
   "outputs": [],
   "source": []
  }
 ],
 "metadata": {
  "kernelspec": {
   "display_name": "kgtkEnv",
   "language": "python",
   "name": "kgtkenv"
  },
  "language_info": {
   "codemirror_mode": {
    "name": "ipython",
    "version": 3
   },
   "file_extension": ".py",
   "mimetype": "text/x-python",
   "name": "python",
   "nbconvert_exporter": "python",
   "pygments_lexer": "ipython3",
   "version": "3.8.5"
  },
  "toc": {
   "base_numbering": 1,
   "nav_menu": {},
   "number_sections": true,
   "sideBar": true,
   "skip_h1_title": false,
   "title_cell": "Table of Contents",
   "title_sidebar": "Contents",
   "toc_cell": false,
   "toc_position": {
    "height": "calc(100% - 180px)",
    "left": "10px",
    "top": "150px",
    "width": "384px"
   },
   "toc_section_display": true,
   "toc_window_display": true
  },
  "varInspector": {
   "cols": {
    "lenName": 16,
    "lenType": 16,
    "lenVar": 40
   },
   "kernels_config": {
    "python": {
     "delete_cmd_postfix": "",
     "delete_cmd_prefix": "del ",
     "library": "var_list.py",
     "varRefreshCmd": "print(var_dic_list())"
    },
    "r": {
     "delete_cmd_postfix": ") ",
     "delete_cmd_prefix": "rm(",
     "library": "var_list.r",
     "varRefreshCmd": "cat(var_dic_list()) "
    }
   },
   "types_to_exclude": [
    "module",
    "function",
    "builtin_function_or_method",
    "instance",
    "_Feature"
   ],
   "window_display": false
  }
 },
 "nbformat": 4,
 "nbformat_minor": 5
}
