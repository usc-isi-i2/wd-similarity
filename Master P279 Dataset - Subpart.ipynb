{
 "cells": [
  {
   "cell_type": "code",
   "execution_count": 1,
   "id": "faced-encoding",
   "metadata": {},
   "outputs": [],
   "source": [
    "import pandas as pd"
   ]
  },
  {
   "cell_type": "code",
   "execution_count": 2,
   "id": "metropolitan-feedback",
   "metadata": {},
   "outputs": [],
   "source": [
    "hierDF = pd.read_csv('../data/Master_P279_dataset/P279ChildPar.csv')"
   ]
  },
  {
   "cell_type": "code",
   "execution_count": 3,
   "id": "unusual-mentor",
   "metadata": {},
   "outputs": [
    {
     "data": {
      "text/html": [
       "<div>\n",
       "<style scoped>\n",
       "    .dataframe tbody tr th:only-of-type {\n",
       "        vertical-align: middle;\n",
       "    }\n",
       "\n",
       "    .dataframe tbody tr th {\n",
       "        vertical-align: top;\n",
       "    }\n",
       "\n",
       "    .dataframe thead th {\n",
       "        text-align: right;\n",
       "    }\n",
       "</style>\n",
       "<table border=\"1\" class=\"dataframe\">\n",
       "  <thead>\n",
       "    <tr style=\"text-align: right;\">\n",
       "      <th></th>\n",
       "      <th>Unnamed: 0</th>\n",
       "      <th>index</th>\n",
       "      <th>node2</th>\n",
       "      <th>id</th>\n",
       "      <th>node1</th>\n",
       "      <th>label</th>\n",
       "      <th>node2_desc</th>\n",
       "      <th>node1_label</th>\n",
       "      <th>node2_label</th>\n",
       "      <th>node1_desc</th>\n",
       "      <th>node1_labDesc</th>\n",
       "      <th>node2_labDesc</th>\n",
       "      <th>node1_emb</th>\n",
       "      <th>node2_emb</th>\n",
       "      <th>bert2SentSim</th>\n",
       "    </tr>\n",
       "  </thead>\n",
       "  <tbody>\n",
       "    <tr>\n",
       "      <th>0</th>\n",
       "      <td>0</td>\n",
       "      <td>1</td>\n",
       "      <td>Q100026</td>\n",
       "      <td>Q17372279-P279-Q100026-beba8cd1-0</td>\n",
       "      <td>Q17372279</td>\n",
       "      <td>P279</td>\n",
       "      <td>1974 fighter aircraft family by General Dynamics</td>\n",
       "      <td>YF-16</td>\n",
       "      <td>F-16 Fighting Falcon</td>\n",
       "      <td>initial prototype of the F-16 fighter aircraft</td>\n",
       "      <td>initial prototype of the F-16 fighter aircraft</td>\n",
       "      <td>1974 fighter aircraft family by General Dynamics</td>\n",
       "      <td>[-5.89544833e-01  1.19935878e-01  3.76383096e-...</td>\n",
       "      <td>[ 1.79253638e-01  6.10661507e-01  8.33987653e-...</td>\n",
       "      <td>0.666525</td>\n",
       "    </tr>\n",
       "    <tr>\n",
       "      <th>1</th>\n",
       "      <td>1</td>\n",
       "      <td>2</td>\n",
       "      <td>Q100026</td>\n",
       "      <td>Q17372377-P279-Q100026-fd42bd71-0</td>\n",
       "      <td>Q17372377</td>\n",
       "      <td>P279</td>\n",
       "      <td>1974 fighter aircraft family by General Dynamics</td>\n",
       "      <td>F-16A/B Fighting Falcon</td>\n",
       "      <td>F-16 Fighting Falcon</td>\n",
       "      <td>initial series of the F-16 fighter aircraft</td>\n",
       "      <td>initial series of the F-16 fighter aircraft</td>\n",
       "      <td>1974 fighter aircraft family by General Dynamics</td>\n",
       "      <td>[-6.08038664e-01  5.00908047e-02  5.60190260e-...</td>\n",
       "      <td>[ 1.79253891e-01  6.10661447e-01  8.33987534e-...</td>\n",
       "      <td>0.700515</td>\n",
       "    </tr>\n",
       "    <tr>\n",
       "      <th>2</th>\n",
       "      <td>2</td>\n",
       "      <td>3</td>\n",
       "      <td>Q100026</td>\n",
       "      <td>Q17372444-P279-Q100026-ca0fc4bd-0</td>\n",
       "      <td>Q17372444</td>\n",
       "      <td>P279</td>\n",
       "      <td>1974 fighter aircraft family by General Dynamics</td>\n",
       "      <td>F-16C/D Fighting Falcon</td>\n",
       "      <td>F-16 Fighting Falcon</td>\n",
       "      <td>multirole series of the F-16 fighter aircraft</td>\n",
       "      <td>multirole series of the F-16 fighter aircraft</td>\n",
       "      <td>1974 fighter aircraft family by General Dynamics</td>\n",
       "      <td>[-5.40582001e-01  1.56212196e-01  5.69522917e-...</td>\n",
       "      <td>[ 1.79253638e-01  6.10661507e-01  8.33987653e-...</td>\n",
       "      <td>0.683245</td>\n",
       "    </tr>\n",
       "    <tr>\n",
       "      <th>3</th>\n",
       "      <td>3</td>\n",
       "      <td>4</td>\n",
       "      <td>Q100026</td>\n",
       "      <td>Q17372455-P279-Q100026-c2b1bf36-0</td>\n",
       "      <td>Q17372455</td>\n",
       "      <td>P279</td>\n",
       "      <td>1974 fighter aircraft family by General Dynamics</td>\n",
       "      <td>F-16E/F Desert Falcon</td>\n",
       "      <td>F-16 Fighting Falcon</td>\n",
       "      <td>export strike fighter series of the F-16 fight...</td>\n",
       "      <td>export strike fighter series of the F-16 fight...</td>\n",
       "      <td>1974 fighter aircraft family by General Dynamics</td>\n",
       "      <td>[-4.99146163e-01  6.76080063e-02  3.48868877e-...</td>\n",
       "      <td>[ 1.79253638e-01  6.10661507e-01  8.33987653e-...</td>\n",
       "      <td>0.689516</td>\n",
       "    </tr>\n",
       "    <tr>\n",
       "      <th>4</th>\n",
       "      <td>4</td>\n",
       "      <td>5</td>\n",
       "      <td>Q100026</td>\n",
       "      <td>Q2029940-P279-Q100026-ceba4380-0</td>\n",
       "      <td>Q2029940</td>\n",
       "      <td>P279</td>\n",
       "      <td>1974 fighter aircraft family by General Dynamics</td>\n",
       "      <td>F-16 VISTA</td>\n",
       "      <td>F-16 Fighting Falcon</td>\n",
       "      <td>experimental aircraft</td>\n",
       "      <td>experimental aircraft</td>\n",
       "      <td>1974 fighter aircraft family by General Dynamics</td>\n",
       "      <td>[-1.47221148e-01  9.54690054e-02  1.05311513e+...</td>\n",
       "      <td>[ 1.79253638e-01  6.10661507e-01  8.33987653e-...</td>\n",
       "      <td>0.603161</td>\n",
       "    </tr>\n",
       "  </tbody>\n",
       "</table>\n",
       "</div>"
      ],
      "text/plain": [
       "   Unnamed: 0  index    node2                                 id      node1  \\\n",
       "0           0      1  Q100026  Q17372279-P279-Q100026-beba8cd1-0  Q17372279   \n",
       "1           1      2  Q100026  Q17372377-P279-Q100026-fd42bd71-0  Q17372377   \n",
       "2           2      3  Q100026  Q17372444-P279-Q100026-ca0fc4bd-0  Q17372444   \n",
       "3           3      4  Q100026  Q17372455-P279-Q100026-c2b1bf36-0  Q17372455   \n",
       "4           4      5  Q100026   Q2029940-P279-Q100026-ceba4380-0   Q2029940   \n",
       "\n",
       "  label                                        node2_desc  \\\n",
       "0  P279  1974 fighter aircraft family by General Dynamics   \n",
       "1  P279  1974 fighter aircraft family by General Dynamics   \n",
       "2  P279  1974 fighter aircraft family by General Dynamics   \n",
       "3  P279  1974 fighter aircraft family by General Dynamics   \n",
       "4  P279  1974 fighter aircraft family by General Dynamics   \n",
       "\n",
       "               node1_label           node2_label  \\\n",
       "0                    YF-16  F-16 Fighting Falcon   \n",
       "1  F-16A/B Fighting Falcon  F-16 Fighting Falcon   \n",
       "2  F-16C/D Fighting Falcon  F-16 Fighting Falcon   \n",
       "3    F-16E/F Desert Falcon  F-16 Fighting Falcon   \n",
       "4               F-16 VISTA  F-16 Fighting Falcon   \n",
       "\n",
       "                                          node1_desc  \\\n",
       "0     initial prototype of the F-16 fighter aircraft   \n",
       "1        initial series of the F-16 fighter aircraft   \n",
       "2      multirole series of the F-16 fighter aircraft   \n",
       "3  export strike fighter series of the F-16 fight...   \n",
       "4                              experimental aircraft   \n",
       "\n",
       "                                       node1_labDesc  \\\n",
       "0     initial prototype of the F-16 fighter aircraft   \n",
       "1        initial series of the F-16 fighter aircraft   \n",
       "2      multirole series of the F-16 fighter aircraft   \n",
       "3  export strike fighter series of the F-16 fight...   \n",
       "4                              experimental aircraft   \n",
       "\n",
       "                                      node2_labDesc  \\\n",
       "0  1974 fighter aircraft family by General Dynamics   \n",
       "1  1974 fighter aircraft family by General Dynamics   \n",
       "2  1974 fighter aircraft family by General Dynamics   \n",
       "3  1974 fighter aircraft family by General Dynamics   \n",
       "4  1974 fighter aircraft family by General Dynamics   \n",
       "\n",
       "                                           node1_emb  \\\n",
       "0  [-5.89544833e-01  1.19935878e-01  3.76383096e-...   \n",
       "1  [-6.08038664e-01  5.00908047e-02  5.60190260e-...   \n",
       "2  [-5.40582001e-01  1.56212196e-01  5.69522917e-...   \n",
       "3  [-4.99146163e-01  6.76080063e-02  3.48868877e-...   \n",
       "4  [-1.47221148e-01  9.54690054e-02  1.05311513e+...   \n",
       "\n",
       "                                           node2_emb  bert2SentSim  \n",
       "0  [ 1.79253638e-01  6.10661507e-01  8.33987653e-...      0.666525  \n",
       "1  [ 1.79253891e-01  6.10661447e-01  8.33987534e-...      0.700515  \n",
       "2  [ 1.79253638e-01  6.10661507e-01  8.33987653e-...      0.683245  \n",
       "3  [ 1.79253638e-01  6.10661507e-01  8.33987653e-...      0.689516  \n",
       "4  [ 1.79253638e-01  6.10661507e-01  8.33987653e-...      0.603161  "
      ]
     },
     "execution_count": 3,
     "metadata": {},
     "output_type": "execute_result"
    }
   ],
   "source": [
    "hierDF.head()"
   ]
  },
  {
   "cell_type": "code",
   "execution_count": 4,
   "id": "appropriate-understanding",
   "metadata": {},
   "outputs": [],
   "source": [
    "hierDF = hierDF[['id','node1','label','node2']]"
   ]
  },
  {
   "cell_type": "code",
   "execution_count": 5,
   "id": "conceptual-scene",
   "metadata": {},
   "outputs": [],
   "source": [
    "hierDFCounts = hierDF.groupby('node2').count()"
   ]
  },
  {
   "cell_type": "code",
   "execution_count": 6,
   "id": "criminal-irish",
   "metadata": {},
   "outputs": [
    {
     "name": "stdout",
     "output_type": "stream",
     "text": [
      "Found P279 counts for 109631 parents from a dataset of size 623368\n"
     ]
    }
   ],
   "source": [
    "print(f\"Found P279 counts for {len(hierDFCounts)} parents from a dataset of size {len(hierDF)}\")"
   ]
  },
  {
   "cell_type": "code",
   "execution_count": 9,
   "id": "functional-moderator",
   "metadata": {},
   "outputs": [],
   "source": [
    "hierDFCounts = hierDFCounts['node1'].rename({'node1': 'child_count'})"
   ]
  },
  {
   "cell_type": "code",
   "execution_count": 10,
   "id": "native-kernel",
   "metadata": {},
   "outputs": [
    {
     "data": {
      "text/plain": [
       "node2\n",
       "Q100026        7\n",
       "Q1000371       1\n",
       "Q100047       10\n",
       "Q100052008     4\n",
       "Q100052938     1\n",
       "Name: node1, dtype: int64"
      ]
     },
     "execution_count": 10,
     "metadata": {},
     "output_type": "execute_result"
    }
   ],
   "source": [
    "hierDFCounts.head()"
   ]
  },
  {
   "cell_type": "code",
   "execution_count": 11,
   "id": "international-mercury",
   "metadata": {},
   "outputs": [
    {
     "data": {
      "text/plain": [
       "count    109631.000000\n",
       "mean          5.686056\n",
       "std         124.365173\n",
       "min           1.000000\n",
       "25%           1.000000\n",
       "50%           2.000000\n",
       "75%           4.000000\n",
       "max       39217.000000\n",
       "Name: node1, dtype: float64"
      ]
     },
     "execution_count": 11,
     "metadata": {},
     "output_type": "execute_result"
    }
   ],
   "source": [
    "hierDFCounts.describe()"
   ]
  },
  {
   "cell_type": "code",
   "execution_count": 13,
   "id": "internal-server",
   "metadata": {},
   "outputs": [],
   "source": [
    "hierDFCounts.to_csv('../data/Master_P279_dataset/hierDF_direct_P279_counts.csv')"
   ]
  }
 ],
 "metadata": {
  "kernelspec": {
   "display_name": "kgtkEnv",
   "language": "python",
   "name": "kgtkenv"
  },
  "language_info": {
   "codemirror_mode": {
    "name": "ipython",
    "version": 3
   },
   "file_extension": ".py",
   "mimetype": "text/x-python",
   "name": "python",
   "nbconvert_exporter": "python",
   "pygments_lexer": "ipython3",
   "version": "3.8.5"
  },
  "toc": {
   "base_numbering": 1,
   "nav_menu": {},
   "number_sections": true,
   "sideBar": true,
   "skip_h1_title": false,
   "title_cell": "Table of Contents",
   "title_sidebar": "Contents",
   "toc_cell": false,
   "toc_position": {},
   "toc_section_display": true,
   "toc_window_display": false
  },
  "varInspector": {
   "cols": {
    "lenName": 16,
    "lenType": 16,
    "lenVar": 40
   },
   "kernels_config": {
    "python": {
     "delete_cmd_postfix": "",
     "delete_cmd_prefix": "del ",
     "library": "var_list.py",
     "varRefreshCmd": "print(var_dic_list())"
    },
    "r": {
     "delete_cmd_postfix": ") ",
     "delete_cmd_prefix": "rm(",
     "library": "var_list.r",
     "varRefreshCmd": "cat(var_dic_list()) "
    }
   },
   "types_to_exclude": [
    "module",
    "function",
    "builtin_function_or_method",
    "instance",
    "_Feature"
   ],
   "window_display": false
  }
 },
 "nbformat": 4,
 "nbformat_minor": 5
}
