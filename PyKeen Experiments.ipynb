{
 "cells": [
  {
   "cell_type": "code",
   "execution_count": 1,
   "id": "armed-stewart",
   "metadata": {},
   "outputs": [],
   "source": [
    "from pykeen.pipeline import pipeline"
   ]
  },
  {
   "cell_type": "code",
   "execution_count": 1,
   "id": "frozen-compound",
   "metadata": {},
   "outputs": [
    {
     "name": "stderr",
     "output_type": "stream",
     "text": [
      "No random seed is specified. Setting to 3177612343.\n"
     ]
    },
    {
     "data": {
      "application/vnd.jupyter.widget-view+json": {
       "model_id": "d77c3efdf45c4a1689aa9931034c9ccf",
       "version_major": 2,
       "version_minor": 0
      },
      "text/plain": [
       "Training epochs on cuda:   0%|          | 0/5 [00:00<?, ?epoch/s]"
      ]
     },
     "metadata": {},
     "output_type": "display_data"
    },
    {
     "data": {
      "application/vnd.jupyter.widget-view+json": {
       "model_id": "",
       "version_major": 2,
       "version_minor": 0
      },
      "text/plain": [
       "Training batches on cuda:   0%|          | 0/7 [00:00<?, ?batch/s]"
      ]
     },
     "metadata": {},
     "output_type": "display_data"
    },
    {
     "data": {
      "application/vnd.jupyter.widget-view+json": {
       "model_id": "",
       "version_major": 2,
       "version_minor": 0
      },
      "text/plain": [
       "Training batches on cuda:   0%|          | 0/7 [00:00<?, ?batch/s]"
      ]
     },
     "metadata": {},
     "output_type": "display_data"
    },
    {
     "data": {
      "application/vnd.jupyter.widget-view+json": {
       "model_id": "",
       "version_major": 2,
       "version_minor": 0
      },
      "text/plain": [
       "Training batches on cuda:   0%|          | 0/7 [00:00<?, ?batch/s]"
      ]
     },
     "metadata": {},
     "output_type": "display_data"
    },
    {
     "data": {
      "application/vnd.jupyter.widget-view+json": {
       "model_id": "",
       "version_major": 2,
       "version_minor": 0
      },
      "text/plain": [
       "Training batches on cuda:   0%|          | 0/7 [00:00<?, ?batch/s]"
      ]
     },
     "metadata": {},
     "output_type": "display_data"
    },
    {
     "data": {
      "application/vnd.jupyter.widget-view+json": {
       "model_id": "",
       "version_major": 2,
       "version_minor": 0
      },
      "text/plain": [
       "Training batches on cuda:   0%|          | 0/7 [00:00<?, ?batch/s]"
      ]
     },
     "metadata": {},
     "output_type": "display_data"
    },
    {
     "name": "stderr",
     "output_type": "stream",
     "text": [
      "INFO:pykeen.evaluation.evaluator:Starting batch_size search for evaluation now...\n",
      "INFO:pykeen.evaluation.evaluator:Concluded batch_size search with batch_size=201.\n"
     ]
    },
    {
     "data": {
      "application/vnd.jupyter.widget-view+json": {
       "model_id": "9fa69ddc39b248a89d31b7f2195d40b5",
       "version_major": 2,
       "version_minor": 0
      },
      "text/plain": [
       "Evaluating on cuda:   0%|          | 0.00/201 [00:00<?, ?triple/s]"
      ]
     },
     "metadata": {},
     "output_type": "display_data"
    },
    {
     "name": "stderr",
     "output_type": "stream",
     "text": [
      "INFO:pykeen.evaluation.evaluator:Evaluation took 0.23s seconds\n"
     ]
    }
   ],
   "source": [
    "\n",
    "\n",
    "result = pipeline(\n",
    "    model='TransE',\n",
    "    dataset='nations',\n",
    ")"
   ]
  },
  {
   "cell_type": "code",
   "execution_count": 10,
   "id": "reserved-creek",
   "metadata": {
    "scrolled": false
   },
   "outputs": [
    {
     "data": {
      "text/plain": [
       "array([[-0.19639337, -0.16836089, -0.03114699,  0.02896859, -0.09726831,\n",
       "        -0.06199516,  0.1575382 , -0.20129088, -0.22236192,  0.13590659,\n",
       "        -0.0757086 ,  0.20858522,  0.18815908, -0.20766027,  0.10798437,\n",
       "         0.08954764, -0.09195376,  0.1596149 , -0.11445791, -0.07740876,\n",
       "         0.06985323, -0.06789938,  0.14529385,  0.02011722,  0.06161602,\n",
       "         0.02293201, -0.16616736, -0.20045018, -0.15285876, -0.15629375,\n",
       "         0.14268196, -0.0245172 , -0.09785087, -0.08941651, -0.16856039,\n",
       "         0.18781452, -0.20977688, -0.22055082, -0.18371245, -0.14164966,\n",
       "        -0.16435796, -0.07544838,  0.19499303, -0.04047506,  0.1634386 ,\n",
       "         0.01718387,  0.16803576, -0.18486236, -0.04035482,  0.14574832],\n",
       "       [ 0.08400718, -0.03522509, -0.13971756,  0.11572263, -0.21427707,\n",
       "         0.24744639, -0.14123753,  0.21208856,  0.06978457, -0.07410707,\n",
       "         0.12106603,  0.21160452,  0.04917078, -0.05615771, -0.18857144,\n",
       "         0.03754288, -0.10723944, -0.0169801 , -0.10961365,  0.09709871,\n",
       "        -0.21529356,  0.09240917,  0.03186808, -0.1717462 ,  0.03995619,\n",
       "        -0.07868147, -0.12828583,  0.18932973, -0.13855843, -0.04771087,\n",
       "         0.13594243, -0.13656731,  0.14042093,  0.07074135,  0.1661649 ,\n",
       "         0.20597802,  0.07402486, -0.21130997, -0.10915475, -0.07341161,\n",
       "        -0.20499036,  0.12499193,  0.22410429, -0.0180589 , -0.2099524 ,\n",
       "        -0.25001502, -0.22337636, -0.01577005,  0.05505931, -0.0830399 ],\n",
       "       [ 0.17179759, -0.03645484,  0.11370327, -0.14019494, -0.12534976,\n",
       "         0.15352881,  0.13511488,  0.13912928, -0.0483072 , -0.01592247,\n",
       "        -0.23853096,  0.09579716,  0.00192258,  0.22907774,  0.11493239,\n",
       "        -0.176138  ,  0.22415411, -0.21653381, -0.09941845,  0.1492893 ,\n",
       "         0.14048633,  0.21955404, -0.06212671,  0.05424291,  0.22376709,\n",
       "         0.00884284,  0.06124731, -0.16212288, -0.08178599,  0.20820902,\n",
       "         0.06897985,  0.09998728, -0.05633331, -0.06100376,  0.19843301,\n",
       "         0.17467704, -0.14167382, -0.21307851, -0.12347709, -0.04030309,\n",
       "         0.14628026, -0.02140245,  0.00356108,  0.07652798, -0.00696065,\n",
       "         0.19196464,  0.17027777, -0.17200524,  0.15254925,  0.19917835],\n",
       "       [ 0.09154017, -0.22074386, -0.18088992, -0.09320766, -0.01921322,\n",
       "         0.09818047,  0.0437395 , -0.00359149, -0.13320586,  0.16235515,\n",
       "        -0.21977073,  0.08733401,  0.02094202, -0.2643878 , -0.05381404,\n",
       "        -0.10150728, -0.14666407, -0.10190584,  0.0581448 , -0.05233431,\n",
       "        -0.03329604,  0.03448562,  0.24132654,  0.24476916,  0.21892832,\n",
       "         0.07322221,  0.23690651,  0.20367865, -0.25628132, -0.22597446,\n",
       "        -0.09114146,  0.08833733,  0.1696906 ,  0.05527192,  0.08065356,\n",
       "        -0.19004323,  0.17325072,  0.17949852, -0.12614197,  0.06957392,\n",
       "        -0.09307367, -0.03594378, -0.14662026, -0.13562614,  0.1633929 ,\n",
       "         0.07712308, -0.09067339,  0.11562762,  0.00050979,  0.04710727],\n",
       "       [-0.08211254,  0.17491034,  0.05896247,  0.02629796,  0.09781988,\n",
       "        -0.21118644, -0.13064215,  0.11881437, -0.13431005, -0.08001482,\n",
       "        -0.20614998,  0.11788526, -0.02511169, -0.15362486,  0.13010472,\n",
       "         0.16089663,  0.17278983, -0.01427156,  0.0324924 ,  0.21914338,\n",
       "        -0.16901594,  0.2144066 ,  0.18227877, -0.16752782,  0.18044943,\n",
       "        -0.18088648, -0.08764116,  0.12936604,  0.06761473,  0.0863623 ,\n",
       "         0.13137005,  0.07520721, -0.07411153,  0.00085493, -0.17404146,\n",
       "         0.17726275, -0.12193546,  0.16026053, -0.2104451 , -0.16820604,\n",
       "         0.05141479, -0.16766544,  0.19905202,  0.00216742, -0.02905482,\n",
       "         0.18797643, -0.20268849,  0.04693165, -0.20051906,  0.12352565],\n",
       "       [-0.15712015, -0.09339907, -0.18187661,  0.17578691,  0.05235326,\n",
       "        -0.20340748,  0.18773216,  0.06509778, -0.09778243,  0.06552774,\n",
       "         0.14802836,  0.05967927, -0.16579376, -0.11907542, -0.16632716,\n",
       "        -0.1770228 ,  0.14406262, -0.08252464, -0.07413307, -0.18931122,\n",
       "        -0.1598736 ,  0.12601586,  0.13650092, -0.02211493,  0.10583386,\n",
       "         0.17770673,  0.21288018, -0.1147599 ,  0.14306472,  0.13834943,\n",
       "         0.0010584 , -0.08187279, -0.17594308, -0.20091459, -0.16830356,\n",
       "         0.18279408,  0.13213131,  0.10698148,  0.11420707,  0.0391953 ,\n",
       "        -0.16844204,  0.07081551, -0.14734401, -0.07963501, -0.04659073,\n",
       "        -0.22094299, -0.17782325, -0.19483247, -0.07195067,  0.19556463],\n",
       "       [ 0.04810758, -0.17026302, -0.17347021,  0.03226259, -0.24219921,\n",
       "        -0.13925387, -0.15466104,  0.19831258, -0.03611675, -0.17005117,\n",
       "        -0.05808706,  0.09096552,  0.02419714, -0.00962409,  0.0933923 ,\n",
       "        -0.05835747, -0.12071109,  0.08933903, -0.06352695, -0.21402836,\n",
       "        -0.23980798,  0.25110883, -0.01910508, -0.04188502,  0.08119819,\n",
       "         0.13139316, -0.09077525, -0.19752157, -0.00256558, -0.21086687,\n",
       "         0.18824519,  0.19447424, -0.05278929,  0.00044852,  0.00343218,\n",
       "        -0.13617216, -0.24112174,  0.09149597,  0.13875993,  0.25846294,\n",
       "        -0.08163656, -0.05617552, -0.2228135 , -0.18411545,  0.08131476,\n",
       "         0.07919797, -0.06930111,  0.06961904,  0.24592707,  0.08589988],\n",
       "       [-0.14640518,  0.11928324, -0.07409123, -0.09792867, -0.22891715,\n",
       "         0.09990875,  0.17659894,  0.19763768, -0.14523974, -0.0068074 ,\n",
       "        -0.15434922,  0.07462037, -0.16678724, -0.07306221,  0.22598466,\n",
       "        -0.09478337, -0.10829914,  0.00068458, -0.09439491, -0.0108681 ,\n",
       "         0.17655665, -0.06254452, -0.01635562, -0.14420186,  0.07649746,\n",
       "        -0.25066355,  0.22975226,  0.07027449,  0.11947302,  0.07098107,\n",
       "        -0.16550283,  0.16987841,  0.23524453, -0.03749033, -0.09777185,\n",
       "         0.09331265,  0.13934706, -0.13473545, -0.01010561,  0.01892876,\n",
       "         0.11611211,  0.21830612, -0.02559492,  0.205865  , -0.0318163 ,\n",
       "        -0.25584567, -0.20395377, -0.00614056, -0.19248585, -0.17786255],\n",
       "       [-0.24650532,  0.0174387 , -0.1660184 , -0.05952626, -0.17698249,\n",
       "        -0.20361026,  0.0642914 , -0.17894012, -0.0026814 ,  0.04739688,\n",
       "         0.24289759, -0.14653091, -0.23783526,  0.14575554,  0.08590838,\n",
       "        -0.198968  , -0.17858475, -0.02507035,  0.23852605,  0.21492226,\n",
       "        -0.07290644,  0.0805637 ,  0.22773932, -0.06190724,  0.18047015,\n",
       "         0.22446801, -0.05679401,  0.09598429, -0.11902507,  0.09209193,\n",
       "         0.01739208, -0.09718507,  0.12873136,  0.01577665, -0.17447105,\n",
       "        -0.11633729, -0.12534788,  0.08593753,  0.11171566, -0.10956202,\n",
       "         0.15098822, -0.07863545, -0.12281843, -0.07502203,  0.03448169,\n",
       "         0.20291723,  0.03189318,  0.06703094,  0.22824211, -0.0494961 ],\n",
       "       [ 0.2309472 , -0.0347519 ,  0.15192923,  0.14296553,  0.00791517,\n",
       "         0.20240901,  0.12905163,  0.00152958,  0.14889598, -0.04421031,\n",
       "        -0.26571572, -0.06320024, -0.00330904,  0.0169428 ,  0.21382515,\n",
       "        -0.06933823, -0.12908475,  0.02640192,  0.07430518, -0.23661894,\n",
       "        -0.19168346,  0.06941147, -0.12096203,  0.07644739, -0.22937258,\n",
       "        -0.16333365,  0.2565038 , -0.02651494,  0.1594433 , -0.22664072,\n",
       "         0.06456865, -0.22137389,  0.03152997,  0.10104731, -0.04997271,\n",
       "         0.12303443,  0.18517588,  0.14006168,  0.0004982 , -0.0760086 ,\n",
       "         0.076054  ,  0.10895997,  0.1418402 , -0.12021562, -0.13591073,\n",
       "        -0.12286597, -0.20992152, -0.06680023,  0.02430071,  0.23366396],\n",
       "       [-0.24478927, -0.11449192, -0.16088825, -0.20149426, -0.04054394,\n",
       "        -0.11813155,  0.1438273 ,  0.03971998, -0.27001834, -0.05435505,\n",
       "        -0.04079188,  0.21486373, -0.10834973,  0.08587287, -0.20321299,\n",
       "         0.05906281,  0.11607219,  0.04154148, -0.08319036,  0.07159384,\n",
       "         0.09396406,  0.04175074,  0.15517867, -0.0870461 ,  0.26161745,\n",
       "        -0.27072328, -0.03725231,  0.17339472,  0.15486923,  0.10055586,\n",
       "         0.05352404, -0.09070709,  0.12953727,  0.03590197,  0.15577438,\n",
       "        -0.24922238,  0.2079427 ,  0.0739115 , -0.02793941, -0.09390473,\n",
       "         0.12230153, -0.2537305 , -0.089622  ,  0.09086446,  0.1463312 ,\n",
       "        -0.06537158, -0.13445222, -0.00909109,  0.1755829 ,  0.11886591],\n",
       "       [-0.17689785, -0.02789728,  0.0926782 ,  0.2087373 , -0.1755333 ,\n",
       "        -0.00630249,  0.0835392 , -0.12393183, -0.0994062 ,  0.15981975,\n",
       "         0.05307345,  0.13503858, -0.07245373, -0.13480204,  0.08635263,\n",
       "        -0.19374774,  0.16315757,  0.20526557,  0.16031891,  0.06866097,\n",
       "        -0.14652589,  0.1959019 , -0.11914818,  0.20059603, -0.07110467,\n",
       "        -0.17224883,  0.02061648, -0.07414847,  0.22295515,  0.20749398,\n",
       "        -0.06189835, -0.20381938,  0.17843392, -0.07110257, -0.16802898,\n",
       "        -0.03861536,  0.22009614, -0.17320083,  0.1363343 , -0.16094032,\n",
       "         0.10635982, -0.01472931,  0.01764147,  0.04561342, -0.20185001,\n",
       "         0.19735058, -0.14901745, -0.07684697, -0.08739794, -0.16290334],\n",
       "       [ 0.18726055, -0.05893308, -0.09456284,  0.04616243, -0.09222145,\n",
       "         0.22188978,  0.11333711, -0.14913557, -0.05030894,  0.25899947,\n",
       "        -0.25867885,  0.20845415, -0.07103726,  0.09113341, -0.23880838,\n",
       "         0.01396979,  0.05398359,  0.21133317,  0.15613663, -0.12770912,\n",
       "        -0.04797746,  0.10115518,  0.17674786,  0.05452147, -0.23155946,\n",
       "        -0.00970665,  0.09051169,  0.12437607, -0.05990403, -0.02490725,\n",
       "        -0.13321383, -0.21961826, -0.05132074,  0.03969955, -0.05327285,\n",
       "        -0.16781576, -0.1956676 , -0.03650107,  0.20310017,  0.20638321,\n",
       "         0.06410098,  0.16357383, -0.01761731, -0.01029921, -0.15756902,\n",
       "        -0.14147511, -0.06397694, -0.26314327,  0.06933402, -0.10719081],\n",
       "       [-0.23495518, -0.17530571,  0.11807019, -0.2164792 , -0.07659577,\n",
       "         0.07663359,  0.13860796, -0.03602291, -0.14626017,  0.08137257,\n",
       "        -0.17461006,  0.16130821, -0.00179765,  0.22117947, -0.18971075,\n",
       "         0.12791681,  0.05122582, -0.04478684, -0.03979537,  0.22464836,\n",
       "        -0.1075406 , -0.19393307,  0.0192949 ,  0.00732254,  0.22900571,\n",
       "        -0.21262728,  0.08959627, -0.03409915,  0.08159275,  0.20853665,\n",
       "         0.21737494,  0.12393425, -0.04873991,  0.19730753,  0.06971721,\n",
       "        -0.03161063,  0.19812284, -0.0796216 , -0.14827883,  0.21757792,\n",
       "        -0.15493284,  0.09250676, -0.20186517, -0.14941402,  0.04221082,\n",
       "         0.16807486,  0.09295556, -0.07256678, -0.04787219, -0.07334726]],\n",
       "      dtype=float32)"
      ]
     },
     "execution_count": 10,
     "metadata": {},
     "output_type": "execute_result"
    }
   ],
   "source": [
    "result.model.entity_representations[0](indices=None).cpu().detach().numpy()"
   ]
  },
  {
   "cell_type": "code",
   "execution_count": null,
   "id": "infrared-memorial",
   "metadata": {},
   "outputs": [],
   "source": []
  },
  {
   "cell_type": "code",
   "execution_count": 11,
   "id": "british-petite",
   "metadata": {},
   "outputs": [
    {
     "name": "stderr",
     "output_type": "stream",
     "text": [
      "WARNING:pykeen.pipeline.api:No random seed is specified. Setting to 3648325710.\n"
     ]
    },
    {
     "ename": "AssertionError",
     "evalue": "",
     "output_type": "error",
     "traceback": [
      "\u001b[0;31m---------------------------------------------------------------------------\u001b[0m",
      "\u001b[0;31mAssertionError\u001b[0m                            Traceback (most recent call last)",
      "\u001b[0;32m<ipython-input-11-d9464a9d11c3>\u001b[0m in \u001b[0;36m<module>\u001b[0;34m\u001b[0m\n\u001b[1;32m      8\u001b[0m     \u001b[0mrelation_to_id\u001b[0m\u001b[0;34m=\u001b[0m\u001b[0mtraining\u001b[0m\u001b[0;34m.\u001b[0m\u001b[0mrelation_to_id\u001b[0m\u001b[0;34m,\u001b[0m\u001b[0;34m\u001b[0m\u001b[0;34m\u001b[0m\u001b[0m\n\u001b[1;32m      9\u001b[0m )\n\u001b[0;32m---> 10\u001b[0;31m result = pipeline(\n\u001b[0m\u001b[1;32m     11\u001b[0m     \u001b[0mtraining\u001b[0m\u001b[0;34m=\u001b[0m\u001b[0mtraining\u001b[0m\u001b[0;34m,\u001b[0m\u001b[0;34m\u001b[0m\u001b[0;34m\u001b[0m\u001b[0m\n\u001b[1;32m     12\u001b[0m     \u001b[0mtesting\u001b[0m\u001b[0;34m=\u001b[0m\u001b[0mtesting\u001b[0m\u001b[0;34m,\u001b[0m\u001b[0;34m\u001b[0m\u001b[0;34m\u001b[0m\u001b[0m\n",
      "\u001b[0;32m~/miniconda3/envs/kgtkEnv/lib/python3.8/site-packages/pykeen/pipeline/api.py\u001b[0m in \u001b[0;36mpipeline\u001b[0;34m(dataset, dataset_kwargs, training, testing, validation, evaluation_entity_whitelist, evaluation_relation_whitelist, model, model_kwargs, interaction, interaction_kwargs, dimensions, loss, loss_kwargs, regularizer, regularizer_kwargs, optimizer, optimizer_kwargs, clear_optimizer, lr_scheduler, lr_scheduler_kwargs, training_loop, training_loop_kwargs, negative_sampler, negative_sampler_kwargs, epochs, training_kwargs, stopper, stopper_kwargs, evaluator, evaluator_kwargs, evaluation_kwargs, result_tracker, result_tracker_kwargs, metadata, device, random_seed, use_testing_data, evaluation_fallback, filter_validation_when_testing, use_tqdm)\u001b[0m\n\u001b[1;32m    919\u001b[0m         \u001b[0;31m# TODO should kwargs for loss and regularizer be checked and raised for?\u001b[0m\u001b[0;34m\u001b[0m\u001b[0;34m\u001b[0m\u001b[0;34m\u001b[0m\u001b[0m\n\u001b[1;32m    920\u001b[0m     \u001b[0;32melse\u001b[0m\u001b[0;34m:\u001b[0m\u001b[0;34m\u001b[0m\u001b[0;34m\u001b[0m\u001b[0m\n\u001b[0;32m--> 921\u001b[0;31m         model_instance = _build_model_helper(\n\u001b[0m\u001b[1;32m    922\u001b[0m             \u001b[0mmodel\u001b[0m\u001b[0;34m=\u001b[0m\u001b[0mmodel\u001b[0m\u001b[0;34m,\u001b[0m\u001b[0;34m\u001b[0m\u001b[0;34m\u001b[0m\u001b[0m\n\u001b[1;32m    923\u001b[0m             \u001b[0mmodel_kwargs\u001b[0m\u001b[0;34m=\u001b[0m\u001b[0mmodel_kwargs\u001b[0m\u001b[0;34m,\u001b[0m\u001b[0;34m\u001b[0m\u001b[0;34m\u001b[0m\u001b[0m\n",
      "\u001b[0;32m~/miniconda3/envs/kgtkEnv/lib/python3.8/site-packages/pykeen/pipeline/api.py\u001b[0m in \u001b[0;36m_build_model_helper\u001b[0;34m(model, model_kwargs, loss, loss_kwargs, _device, _random_seed, regularizer, regularizer_kwargs, training_triples_factory)\u001b[0m\n\u001b[1;32m    642\u001b[0m     \u001b[0mloss_instance\u001b[0m \u001b[0;34m=\u001b[0m \u001b[0mloss_resolver\u001b[0m\u001b[0;34m.\u001b[0m\u001b[0mmake\u001b[0m\u001b[0;34m(\u001b[0m\u001b[0mloss\u001b[0m\u001b[0;34m,\u001b[0m \u001b[0mloss_kwargs\u001b[0m\u001b[0;34m)\u001b[0m\u001b[0;34m\u001b[0m\u001b[0;34m\u001b[0m\u001b[0m\n\u001b[1;32m    643\u001b[0m \u001b[0;34m\u001b[0m\u001b[0m\n\u001b[0;32m--> 644\u001b[0;31m     return model_resolver.make(\n\u001b[0m\u001b[1;32m    645\u001b[0m         \u001b[0mmodel\u001b[0m\u001b[0;34m,\u001b[0m\u001b[0;34m\u001b[0m\u001b[0;34m\u001b[0m\u001b[0m\n\u001b[1;32m    646\u001b[0m         \u001b[0mtriples_factory\u001b[0m\u001b[0;34m=\u001b[0m\u001b[0mtraining_triples_factory\u001b[0m\u001b[0;34m,\u001b[0m\u001b[0;34m\u001b[0m\u001b[0;34m\u001b[0m\u001b[0m\n",
      "\u001b[0;32m~/miniconda3/envs/kgtkEnv/lib/python3.8/site-packages/class_resolver/api.py\u001b[0m in \u001b[0;36mmake\u001b[0;34m(self, query, pos_kwargs, **kwargs)\u001b[0m\n\u001b[1;32m    255\u001b[0m             \u001b[0mcls\u001b[0m\u001b[0;34m:\u001b[0m \u001b[0mType\u001b[0m\u001b[0;34m[\u001b[0m\u001b[0mX\u001b[0m\u001b[0;34m]\u001b[0m \u001b[0;34m=\u001b[0m \u001b[0mself\u001b[0m\u001b[0;34m.\u001b[0m\u001b[0mlookup\u001b[0m\u001b[0;34m(\u001b[0m\u001b[0mquery\u001b[0m\u001b[0;34m)\u001b[0m\u001b[0;34m\u001b[0m\u001b[0;34m\u001b[0m\u001b[0m\n\u001b[1;32m    256\u001b[0m             \u001b[0;32mtry\u001b[0m\u001b[0;34m:\u001b[0m\u001b[0;34m\u001b[0m\u001b[0;34m\u001b[0m\u001b[0m\n\u001b[0;32m--> 257\u001b[0;31m                 \u001b[0;32mreturn\u001b[0m \u001b[0mcls\u001b[0m\u001b[0;34m(\u001b[0m\u001b[0;34m**\u001b[0m\u001b[0;34m(\u001b[0m\u001b[0mpos_kwargs\u001b[0m \u001b[0;32mor\u001b[0m \u001b[0;34m{\u001b[0m\u001b[0;34m}\u001b[0m\u001b[0;34m)\u001b[0m\u001b[0;34m,\u001b[0m \u001b[0;34m**\u001b[0m\u001b[0mkwargs\u001b[0m\u001b[0;34m)\u001b[0m  \u001b[0;31m# type: ignore\u001b[0m\u001b[0;34m\u001b[0m\u001b[0;34m\u001b[0m\u001b[0m\n\u001b[0m\u001b[1;32m    258\u001b[0m             \u001b[0;32mexcept\u001b[0m \u001b[0mTypeError\u001b[0m \u001b[0;32mas\u001b[0m \u001b[0me\u001b[0m\u001b[0;34m:\u001b[0m\u001b[0;34m\u001b[0m\u001b[0;34m\u001b[0m\u001b[0m\n\u001b[1;32m    259\u001b[0m                 \u001b[0;32mif\u001b[0m \u001b[0;34m\"required keyword-only argument\"\u001b[0m \u001b[0;32min\u001b[0m \u001b[0me\u001b[0m\u001b[0;34m.\u001b[0m\u001b[0margs\u001b[0m\u001b[0;34m[\u001b[0m\u001b[0;36m0\u001b[0m\u001b[0;34m]\u001b[0m\u001b[0;34m:\u001b[0m\u001b[0;34m\u001b[0m\u001b[0;34m\u001b[0m\u001b[0m\n",
      "\u001b[0;32m~/miniconda3/envs/kgtkEnv/lib/python3.8/site-packages/pykeen/models/unimodal/compgcn.py\u001b[0m in \u001b[0;36m__init__\u001b[0;34m(self, triples_factory, embedding_dim, encoder_kwargs, interaction, interaction_kwargs, **kwargs)\u001b[0m\n\u001b[1;32m     67\u001b[0m \u001b[0;34m\u001b[0m\u001b[0m\n\u001b[1;32m     68\u001b[0m         \u001b[0;31m# combined representation\u001b[0m\u001b[0;34m\u001b[0m\u001b[0;34m\u001b[0m\u001b[0;34m\u001b[0m\u001b[0m\n\u001b[0;32m---> 69\u001b[0;31m         entity_representations, relation_representations = CombinedCompGCNRepresentations(\n\u001b[0m\u001b[1;32m     70\u001b[0m             \u001b[0mtriples_factory\u001b[0m\u001b[0;34m=\u001b[0m\u001b[0mtriples_factory\u001b[0m\u001b[0;34m,\u001b[0m\u001b[0;34m\u001b[0m\u001b[0;34m\u001b[0m\u001b[0m\n\u001b[1;32m     71\u001b[0m             \u001b[0;34m**\u001b[0m\u001b[0mencoder_kwargs\u001b[0m\u001b[0;34m,\u001b[0m\u001b[0;34m\u001b[0m\u001b[0;34m\u001b[0m\u001b[0m\n",
      "\u001b[0;32m~/miniconda3/envs/kgtkEnv/lib/python3.8/site-packages/pykeen/nn/emb.py\u001b[0m in \u001b[0;36m__init__\u001b[0;34m(self, triples_factory, embedding_specification, num_layers, dims, layer_kwargs)\u001b[0m\n\u001b[1;32m    944\u001b[0m         \u001b[0msuper\u001b[0m\u001b[0;34m(\u001b[0m\u001b[0;34m)\u001b[0m\u001b[0;34m.\u001b[0m\u001b[0m__init__\u001b[0m\u001b[0;34m(\u001b[0m\u001b[0;34m)\u001b[0m\u001b[0;34m\u001b[0m\u001b[0;34m\u001b[0m\u001b[0m\n\u001b[1;32m    945\u001b[0m         \u001b[0;31m# TODO: Check\u001b[0m\u001b[0;34m\u001b[0m\u001b[0;34m\u001b[0m\u001b[0;34m\u001b[0m\u001b[0m\n\u001b[0;32m--> 946\u001b[0;31m         \u001b[0;32massert\u001b[0m \u001b[0mtriples_factory\u001b[0m\u001b[0;34m.\u001b[0m\u001b[0mcreate_inverse_triples\u001b[0m\u001b[0;34m\u001b[0m\u001b[0;34m\u001b[0m\u001b[0m\n\u001b[0m\u001b[1;32m    947\u001b[0m         self.entity_representations = embedding_specification.make(\n\u001b[1;32m    948\u001b[0m             \u001b[0mnum_embeddings\u001b[0m\u001b[0;34m=\u001b[0m\u001b[0mtriples_factory\u001b[0m\u001b[0;34m.\u001b[0m\u001b[0mnum_entities\u001b[0m\u001b[0;34m,\u001b[0m\u001b[0;34m\u001b[0m\u001b[0;34m\u001b[0m\u001b[0m\n",
      "\u001b[0;31mAssertionError\u001b[0m: "
     ]
    }
   ],
   "source": [
    "from pykeen.triples import TriplesFactory\n",
    "from pykeen.pipeline import pipeline\n",
    "from pykeen.datasets.nations import NATIONS_TRAIN_PATH, NATIONS_TEST_PATH\n",
    "training = TriplesFactory.from_path(NATIONS_TRAIN_PATH)\n",
    "testing = TriplesFactory.from_path(\n",
    "    NATIONS_TEST_PATH,\n",
    "    entity_to_id=training.entity_to_id,\n",
    "    relation_to_id=training.relation_to_id,\n",
    ")\n",
    "result = pipeline(\n",
    "    training=training,\n",
    "    testing=testing,\n",
    "    model='CompGCN',\n",
    "    model_kwargs=dict(embedding_dim=2),\n",
    "    epochs=5,  # short epochs for testing - you should go higher\n",
    ")\n",
    "result.save_to_directory('../data/pykeen_exp/test_pre_stratified_transe')"
   ]
  },
  {
   "cell_type": "code",
   "execution_count": 9,
   "id": "pursuant-colors",
   "metadata": {},
   "outputs": [
    {
     "data": {
      "text/plain": [
       "(100,)"
      ]
     },
     "execution_count": 9,
     "metadata": {},
     "output_type": "execute_result"
    }
   ],
   "source": [
    "result.model.entity_representations[0](indices=None).cpu().detach().numpy()[0].shape"
   ]
  }
 ],
 "metadata": {
  "kernelspec": {
   "display_name": "kgtkEnv",
   "language": "python",
   "name": "kgtkenv"
  },
  "language_info": {
   "codemirror_mode": {
    "name": "ipython",
    "version": 3
   },
   "file_extension": ".py",
   "mimetype": "text/x-python",
   "name": "python",
   "nbconvert_exporter": "python",
   "pygments_lexer": "ipython3",
   "version": "3.8.5"
  },
  "toc": {
   "base_numbering": 1,
   "nav_menu": {},
   "number_sections": true,
   "sideBar": true,
   "skip_h1_title": false,
   "title_cell": "Table of Contents",
   "title_sidebar": "Contents",
   "toc_cell": false,
   "toc_position": {},
   "toc_section_display": true,
   "toc_window_display": false
  },
  "varInspector": {
   "cols": {
    "lenName": 16,
    "lenType": 16,
    "lenVar": 40
   },
   "kernels_config": {
    "python": {
     "delete_cmd_postfix": "",
     "delete_cmd_prefix": "del ",
     "library": "var_list.py",
     "varRefreshCmd": "print(var_dic_list())"
    },
    "r": {
     "delete_cmd_postfix": ") ",
     "delete_cmd_prefix": "rm(",
     "library": "var_list.r",
     "varRefreshCmd": "cat(var_dic_list()) "
    }
   },
   "types_to_exclude": [
    "module",
    "function",
    "builtin_function_or_method",
    "instance",
    "_Feature"
   ],
   "window_display": false
  }
 },
 "nbformat": 4,
 "nbformat_minor": 5
}
