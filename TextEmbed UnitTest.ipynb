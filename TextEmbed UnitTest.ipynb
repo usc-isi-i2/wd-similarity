{
 "cells": [
  {
   "cell_type": "code",
   "execution_count": 26,
   "id": "addressed-titanium",
   "metadata": {},
   "outputs": [],
   "source": [
    "import pandas as pd\n",
    "import gzip\n",
    "from tqdm.notebook import tqdm"
   ]
  },
  {
   "cell_type": "code",
   "execution_count": 2,
   "id": "returning-matthew",
   "metadata": {},
   "outputs": [],
   "source": [
    "text_emb = pd.read_csv('../output/text-embeddings/missing_nodes.tsv', sep='\\t')"
   ]
  },
  {
   "cell_type": "code",
   "execution_count": 6,
   "id": "familiar-investment",
   "metadata": {},
   "outputs": [
    {
     "data": {
      "text/plain": [
       "array(['Q1000959', 'Q100156149', 'Q100276118', 'Q100287557', 'Q100306102',\n",
       "       'Q100325978', 'Q100345932', 'Q100347932', 'Q100347974',\n",
       "       'Q100348014', 'Q100348021', 'Q100348032', 'Q100348054',\n",
       "       'Q100348078', 'Q100385591', 'Q100385624', 'Q100385642',\n",
       "       'Q100385667', 'Q100388742', 'Q100388938'], dtype=object)"
      ]
     },
     "execution_count": 6,
     "metadata": {},
     "output_type": "execute_result"
    }
   ],
   "source": [
    "text_emb.node1.unique()[:20]"
   ]
  },
  {
   "cell_type": "code",
   "execution_count": 10,
   "id": "announced-andorra",
   "metadata": {},
   "outputs": [
    {
     "data": {
      "text/plain": [
       "array(['P279', 'P31', 'P373', 'P452', 'P1382', 'P106'], dtype=object)"
      ]
     },
     "execution_count": 10,
     "metadata": {},
     "output_type": "execute_result"
    }
   ],
   "source": [
    "text_emb.label.unique()"
   ]
  },
  {
   "cell_type": "code",
   "execution_count": 13,
   "id": "upper-facing",
   "metadata": {},
   "outputs": [],
   "source": [
    "subset_nodes = set(['Q1000959', 'Q100156149', 'Q100276118', 'Q100287557', 'Q100306102',\n",
    "       'Q1000959', 'Q105046695', 'Q105416259', 'Q105135334'])"
   ]
  },
  {
   "cell_type": "code",
   "execution_count": 17,
   "id": "separate-fishing",
   "metadata": {
    "scrolled": false
   },
   "outputs": [],
   "source": [
    "text_emb = text_emb[text_emb.node1.apply(lambda p: p in subset_nodes)].reset_index().drop(columns=['index'])"
   ]
  },
  {
   "cell_type": "code",
   "execution_count": 33,
   "id": "impossible-spanking",
   "metadata": {},
   "outputs": [],
   "source": [
    "text_emb.to_csv('../TEMP/kgtk_unittest/text_embedding.edges.tsv', sep='\\t', index=None)"
   ]
  },
  {
   "cell_type": "code",
   "execution_count": 24,
   "id": "permanent-worship",
   "metadata": {},
   "outputs": [],
   "source": [
    "def get_labels(node_set):\n",
    "    labels_dict = {}\n",
    "    lines = []\n",
    "    first_line = None\n",
    "    with gzip.open(\"../source_dataset_files/wikidata-20210215-dwd-v2/labels.en.tsv.gz\", 'r') as labelsFile:\n",
    "        for ogline in tqdm(labelsFile, total=41845781):\n",
    "            if first_line:\n",
    "                first_line = False\n",
    "                lines.append(ogline)\n",
    "                continue\n",
    "            line = ogline.decode('utf-8').strip().split('\\t')\n",
    "            line[3] = line[3][1:-5]\n",
    "            qnode, label = line[1], line[3]\n",
    "    #         print(qnode, label)\n",
    "            if qnode in node_set:\n",
    "                lines.append(ogline)\n",
    "    return lines"
   ]
  },
  {
   "cell_type": "code",
   "execution_count": 45,
   "id": "visible-fashion",
   "metadata": {},
   "outputs": [
    {
     "data": {
      "application/vnd.jupyter.widget-view+json": {
       "model_id": "e18b3e37f3ad45c5b4ecc4165cc1a08a",
       "version_major": 2,
       "version_minor": 0
      },
      "text/plain": [
       "  0%|          | 0/41845781 [00:00<?, ?it/s]"
      ]
     },
     "metadata": {},
     "output_type": "display_data"
    }
   ],
   "source": [
    "lines = get_labels(set(text_emb.node1.to_list() + text_emb.node2.to_list()))"
   ]
  },
  {
   "cell_type": "code",
   "execution_count": 46,
   "id": "digital-exhibition",
   "metadata": {},
   "outputs": [],
   "source": [
    "lines = [line.decode('utf-8') for line in lines]"
   ]
  },
  {
   "cell_type": "code",
   "execution_count": 47,
   "id": "usual-register",
   "metadata": {},
   "outputs": [],
   "source": [
    "lines = ['id\\tnode1\\tlabel\\tnode2\\n'] + lines"
   ]
  },
  {
   "cell_type": "code",
   "execution_count": 48,
   "id": "played-emergency",
   "metadata": {},
   "outputs": [],
   "source": [
    "with open('../TEMP/kgtk_unittest/text_embedding.labels.tsv', 'w') as f:\n",
    "    f.writelines(lines)"
   ]
  },
  {
   "cell_type": "code",
   "execution_count": 63,
   "id": "exceptional-spray",
   "metadata": {},
   "outputs": [
    {
     "data": {
      "text/plain": [
       "8"
      ]
     },
     "execution_count": 63,
     "metadata": {},
     "output_type": "execute_result"
    }
   ],
   "source": [
    "pd.read_csv('~/kgtk/tests/data/text_embedding.edges.tsv', sep='\\t').node1.nunique()"
   ]
  },
  {
   "cell_type": "code",
   "execution_count": 71,
   "id": "collect-bleeding",
   "metadata": {},
   "outputs": [],
   "source": [
    "temp1 = pd.read_csv('~/kgtk/tests/data/out.tsv', sep='\\t')\n",
    "temp2 = pd.read_csv('~/kgtk/tests/data/text_embedding.output.tsv', sep='\\t')"
   ]
  },
  {
   "cell_type": "code",
   "execution_count": 72,
   "id": "opposed-rouge",
   "metadata": {},
   "outputs": [
    {
     "data": {
      "text/html": [
       "<div>\n",
       "<style scoped>\n",
       "    .dataframe tbody tr th:only-of-type {\n",
       "        vertical-align: middle;\n",
       "    }\n",
       "\n",
       "    .dataframe tbody tr th {\n",
       "        vertical-align: top;\n",
       "    }\n",
       "\n",
       "    .dataframe thead th {\n",
       "        text-align: right;\n",
       "    }\n",
       "</style>\n",
       "<table border=\"1\" class=\"dataframe\">\n",
       "  <thead>\n",
       "    <tr style=\"text-align: right;\">\n",
       "      <th></th>\n",
       "      <th>node</th>\n",
       "      <th>property</th>\n",
       "      <th>value</th>\n",
       "    </tr>\n",
       "  </thead>\n",
       "  <tbody>\n",
       "    <tr>\n",
       "      <th>0</th>\n",
       "      <td>Q105135334</td>\n",
       "      <td>text_embedding</td>\n",
       "      <td>-0.6744056,-0.2023162,-0.27134913,-0.13181135,...</td>\n",
       "    </tr>\n",
       "    <tr>\n",
       "      <th>1</th>\n",
       "      <td>Q105135334</td>\n",
       "      <td>embedding_sentence</td>\n",
       "      <td>NaN</td>\n",
       "    </tr>\n",
       "    <tr>\n",
       "      <th>2</th>\n",
       "      <td>Q105046695</td>\n",
       "      <td>text_embedding</td>\n",
       "      <td>-0.6744056,-0.2023162,-0.27134913,-0.13181135,...</td>\n",
       "    </tr>\n",
       "    <tr>\n",
       "      <th>3</th>\n",
       "      <td>Q105046695</td>\n",
       "      <td>embedding_sentence</td>\n",
       "      <td>NaN</td>\n",
       "    </tr>\n",
       "    <tr>\n",
       "      <th>4</th>\n",
       "      <td>Q100306102</td>\n",
       "      <td>text_embedding</td>\n",
       "      <td>-0.6744056,-0.2023162,-0.27134913,-0.13181135,...</td>\n",
       "    </tr>\n",
       "    <tr>\n",
       "      <th>5</th>\n",
       "      <td>Q100306102</td>\n",
       "      <td>embedding_sentence</td>\n",
       "      <td>NaN</td>\n",
       "    </tr>\n",
       "    <tr>\n",
       "      <th>6</th>\n",
       "      <td>Q100287557</td>\n",
       "      <td>text_embedding</td>\n",
       "      <td>-0.6744056,-0.2023162,-0.27134913,-0.13181135,...</td>\n",
       "    </tr>\n",
       "    <tr>\n",
       "      <th>7</th>\n",
       "      <td>Q100287557</td>\n",
       "      <td>embedding_sentence</td>\n",
       "      <td>NaN</td>\n",
       "    </tr>\n",
       "    <tr>\n",
       "      <th>8</th>\n",
       "      <td>Q100276118</td>\n",
       "      <td>text_embedding</td>\n",
       "      <td>-0.6744056,-0.2023162,-0.27134913,-0.13181135,...</td>\n",
       "    </tr>\n",
       "    <tr>\n",
       "      <th>9</th>\n",
       "      <td>Q100276118</td>\n",
       "      <td>embedding_sentence</td>\n",
       "      <td>NaN</td>\n",
       "    </tr>\n",
       "    <tr>\n",
       "      <th>10</th>\n",
       "      <td>Q100156149</td>\n",
       "      <td>text_embedding</td>\n",
       "      <td>-0.6744056,-0.2023162,-0.27134913,-0.13181135,...</td>\n",
       "    </tr>\n",
       "    <tr>\n",
       "      <th>11</th>\n",
       "      <td>Q100156149</td>\n",
       "      <td>embedding_sentence</td>\n",
       "      <td>NaN</td>\n",
       "    </tr>\n",
       "    <tr>\n",
       "      <th>12</th>\n",
       "      <td>Q1000959</td>\n",
       "      <td>text_embedding</td>\n",
       "      <td>-0.6744056,-0.2023162,-0.27134913,-0.13181135,...</td>\n",
       "    </tr>\n",
       "    <tr>\n",
       "      <th>13</th>\n",
       "      <td>Q1000959</td>\n",
       "      <td>embedding_sentence</td>\n",
       "      <td>NaN</td>\n",
       "    </tr>\n",
       "  </tbody>\n",
       "</table>\n",
       "</div>"
      ],
      "text/plain": [
       "          node            property  \\\n",
       "0   Q105135334      text_embedding   \n",
       "1   Q105135334  embedding_sentence   \n",
       "2   Q105046695      text_embedding   \n",
       "3   Q105046695  embedding_sentence   \n",
       "4   Q100306102      text_embedding   \n",
       "5   Q100306102  embedding_sentence   \n",
       "6   Q100287557      text_embedding   \n",
       "7   Q100287557  embedding_sentence   \n",
       "8   Q100276118      text_embedding   \n",
       "9   Q100276118  embedding_sentence   \n",
       "10  Q100156149      text_embedding   \n",
       "11  Q100156149  embedding_sentence   \n",
       "12    Q1000959      text_embedding   \n",
       "13    Q1000959  embedding_sentence   \n",
       "\n",
       "                                                value  \n",
       "0   -0.6744056,-0.2023162,-0.27134913,-0.13181135,...  \n",
       "1                                                 NaN  \n",
       "2   -0.6744056,-0.2023162,-0.27134913,-0.13181135,...  \n",
       "3                                                 NaN  \n",
       "4   -0.6744056,-0.2023162,-0.27134913,-0.13181135,...  \n",
       "5                                                 NaN  \n",
       "6   -0.6744056,-0.2023162,-0.27134913,-0.13181135,...  \n",
       "7                                                 NaN  \n",
       "8   -0.6744056,-0.2023162,-0.27134913,-0.13181135,...  \n",
       "9                                                 NaN  \n",
       "10  -0.6744056,-0.2023162,-0.27134913,-0.13181135,...  \n",
       "11                                                NaN  \n",
       "12  -0.6744056,-0.2023162,-0.27134913,-0.13181135,...  \n",
       "13                                                NaN  "
      ]
     },
     "execution_count": 72,
     "metadata": {},
     "output_type": "execute_result"
    }
   ],
   "source": [
    "temp1"
   ]
  },
  {
   "cell_type": "code",
   "execution_count": 70,
   "id": "chronic-isaac",
   "metadata": {},
   "outputs": [
    {
     "data": {
      "text/html": [
       "<div>\n",
       "<style scoped>\n",
       "    .dataframe tbody tr th:only-of-type {\n",
       "        vertical-align: middle;\n",
       "    }\n",
       "\n",
       "    .dataframe tbody tr th {\n",
       "        vertical-align: top;\n",
       "    }\n",
       "\n",
       "    .dataframe thead th {\n",
       "        text-align: right;\n",
       "    }\n",
       "</style>\n",
       "<table border=\"1\" class=\"dataframe\">\n",
       "  <thead>\n",
       "    <tr style=\"text-align: right;\">\n",
       "      <th></th>\n",
       "      <th>node</th>\n",
       "      <th>property</th>\n",
       "      <th>value</th>\n",
       "    </tr>\n",
       "  </thead>\n",
       "  <tbody>\n",
       "    <tr>\n",
       "      <th>0</th>\n",
       "      <td>Q105416259</td>\n",
       "      <td>text_embedding</td>\n",
       "      <td>0.062068786,-0.04527851,0.08445225,0.020385189...</td>\n",
       "    </tr>\n",
       "    <tr>\n",
       "      <th>1</th>\n",
       "      <td>Q105416259</td>\n",
       "      <td>embedding_sentence</td>\n",
       "      <td>It is Content creation, group of humans.</td>\n",
       "    </tr>\n",
       "    <tr>\n",
       "      <th>2</th>\n",
       "      <td>Q105135334</td>\n",
       "      <td>text_embedding</td>\n",
       "      <td>-0.5932912,0.15151715,0.12169738,-0.57092476,0...</td>\n",
       "    </tr>\n",
       "    <tr>\n",
       "      <th>3</th>\n",
       "      <td>Q105135334</td>\n",
       "      <td>embedding_sentence</td>\n",
       "      <td>It is costume component, hatband.</td>\n",
       "    </tr>\n",
       "    <tr>\n",
       "      <th>4</th>\n",
       "      <td>Q105046695</td>\n",
       "      <td>text_embedding</td>\n",
       "      <td>0.78254557,0.7347305,-0.24301007,-0.40795732,0...</td>\n",
       "    </tr>\n",
       "    <tr>\n",
       "      <th>5</th>\n",
       "      <td>Q105046695</td>\n",
       "      <td>embedding_sentence</td>\n",
       "      <td>It is field of work, health care industry, ser...</td>\n",
       "    </tr>\n",
       "    <tr>\n",
       "      <th>6</th>\n",
       "      <td>Q100306102</td>\n",
       "      <td>text_embedding</td>\n",
       "      <td>1.0986179,0.4818771,-0.46546745,0.28162912,1.0...</td>\n",
       "    </tr>\n",
       "    <tr>\n",
       "      <th>7</th>\n",
       "      <td>Q100306102</td>\n",
       "      <td>embedding_sentence</td>\n",
       "      <td>It is bridged compound, pair of enantiomers.</td>\n",
       "    </tr>\n",
       "    <tr>\n",
       "      <th>8</th>\n",
       "      <td>Q100287557</td>\n",
       "      <td>text_embedding</td>\n",
       "      <td>0.91020757,0.6681585,-0.3698121,2.749119,1.556...</td>\n",
       "    </tr>\n",
       "    <tr>\n",
       "      <th>9</th>\n",
       "      <td>Q100287557</td>\n",
       "      <td>embedding_sentence</td>\n",
       "      <td>It is mushroom dish, veggie burger.</td>\n",
       "    </tr>\n",
       "    <tr>\n",
       "      <th>10</th>\n",
       "      <td>Q100276118</td>\n",
       "      <td>text_embedding</td>\n",
       "      <td>0.52650917,0.6521489,0.014877399,0.8474146,1.1...</td>\n",
       "    </tr>\n",
       "    <tr>\n",
       "      <th>11</th>\n",
       "      <td>Q100276118</td>\n",
       "      <td>embedding_sentence</td>\n",
       "      <td>It is group of stereoisomers, sugar acid.</td>\n",
       "    </tr>\n",
       "    <tr>\n",
       "      <th>12</th>\n",
       "      <td>Q100156149</td>\n",
       "      <td>text_embedding</td>\n",
       "      <td>-0.34179834,0.9796913,-1.2001768,0.9455819,0.6...</td>\n",
       "    </tr>\n",
       "    <tr>\n",
       "      <th>13</th>\n",
       "      <td>Q100156149</td>\n",
       "      <td>embedding_sentence</td>\n",
       "      <td>It is food brand, meat analogue.</td>\n",
       "    </tr>\n",
       "    <tr>\n",
       "      <th>14</th>\n",
       "      <td>Q1000959</td>\n",
       "      <td>text_embedding</td>\n",
       "      <td>0.026072552,1.0901248,-1.0570514,-0.83307713,1...</td>\n",
       "    </tr>\n",
       "    <tr>\n",
       "      <th>15</th>\n",
       "      <td>Q1000959</td>\n",
       "      <td>embedding_sentence</td>\n",
       "      <td>It is Reanda (apple), apple, apple cultivar.</td>\n",
       "    </tr>\n",
       "  </tbody>\n",
       "</table>\n",
       "</div>"
      ],
      "text/plain": [
       "          node            property  \\\n",
       "0   Q105416259      text_embedding   \n",
       "1   Q105416259  embedding_sentence   \n",
       "2   Q105135334      text_embedding   \n",
       "3   Q105135334  embedding_sentence   \n",
       "4   Q105046695      text_embedding   \n",
       "5   Q105046695  embedding_sentence   \n",
       "6   Q100306102      text_embedding   \n",
       "7   Q100306102  embedding_sentence   \n",
       "8   Q100287557      text_embedding   \n",
       "9   Q100287557  embedding_sentence   \n",
       "10  Q100276118      text_embedding   \n",
       "11  Q100276118  embedding_sentence   \n",
       "12  Q100156149      text_embedding   \n",
       "13  Q100156149  embedding_sentence   \n",
       "14    Q1000959      text_embedding   \n",
       "15    Q1000959  embedding_sentence   \n",
       "\n",
       "                                                value  \n",
       "0   0.062068786,-0.04527851,0.08445225,0.020385189...  \n",
       "1            It is Content creation, group of humans.  \n",
       "2   -0.5932912,0.15151715,0.12169738,-0.57092476,0...  \n",
       "3                   It is costume component, hatband.  \n",
       "4   0.78254557,0.7347305,-0.24301007,-0.40795732,0...  \n",
       "5   It is field of work, health care industry, ser...  \n",
       "6   1.0986179,0.4818771,-0.46546745,0.28162912,1.0...  \n",
       "7        It is bridged compound, pair of enantiomers.  \n",
       "8   0.91020757,0.6681585,-0.3698121,2.749119,1.556...  \n",
       "9                 It is mushroom dish, veggie burger.  \n",
       "10  0.52650917,0.6521489,0.014877399,0.8474146,1.1...  \n",
       "11          It is group of stereoisomers, sugar acid.  \n",
       "12  -0.34179834,0.9796913,-1.2001768,0.9455819,0.6...  \n",
       "13                   It is food brand, meat analogue.  \n",
       "14  0.026072552,1.0901248,-1.0570514,-0.83307713,1...  \n",
       "15       It is Reanda (apple), apple, apple cultivar.  "
      ]
     },
     "execution_count": 70,
     "metadata": {},
     "output_type": "execute_result"
    }
   ],
   "source": [
    "temp2"
   ]
  },
  {
   "cell_type": "code",
   "execution_count": 67,
   "id": "specific-listening",
   "metadata": {},
   "outputs": [
    {
     "name": "stdout",
     "output_type": "stream",
     "text": [
      "/nas/home/kshenoy/miniconda3/envs/kgtkEnv2/lib/python3.8/site-packages/rdflib_jsonld/__init__.py:9: DeprecationWarning: The rdflib-jsonld package has been integrated into rdflib as of rdflib==6.0.1.  Please remove rdflib-jsonld from your project's dependencies.\n",
      "  warnings.warn(\n",
      "Batches:   0%|                                            | 0/1 [00:00<?, ?it/s]/nas/home/kshenoy/miniconda3/envs/kgtkEnv2/lib/python3.8/site-packages/transformers/tokenization_utils_base.py:2227: UserWarning: `max_length` is ignored when `padding`=`True`.\n",
      "  warnings.warn(\"`max_length` is ignored when `padding`=`True`.\")\n",
      "Batches: 100%|████████████████████████████████████| 1/1 [00:00<00:00, 18.93it/s]\n"
     ]
    }
   ],
   "source": [
    "!~/miniconda3/envs/kgtkEnv2/bin/kgtk text-embedding -i ~/kgtk/tests/data/text_embedding.edges.tsv   \\\n",
    "    --model roberta-large-nli-mean-tokens   \\\n",
    "    --property-labels-file ~/kgtk/tests/data/text_embedding.labels.tsv  --debug   \\\n",
    "    --isa-properties P31 P279 P106 P39 P1382 P373 P452   \\\n",
    "    --save-embedding-sentence --out-file ../output/text-embeddings/P279-text-embedding-7-props-missing-qnodes.tsv"
   ]
  },
  {
   "cell_type": "code",
   "execution_count": 59,
   "id": "greenhouse-justice",
   "metadata": {},
   "outputs": [],
   "source": [
    "!cp ../TEMP/kgtk_unittest/text_embedding.edges.tsv ~/kgtk/tests/data/text_embedding.edges.tsv"
   ]
  },
  {
   "cell_type": "code",
   "execution_count": 58,
   "id": "hydraulic-springer",
   "metadata": {},
   "outputs": [
    {
     "name": "stdout",
     "output_type": "stream",
     "text": [
      "Q105416259\tembedding_sentence\tIt is Content creation, group of humans.\r\n",
      "Q105135334\tembedding_sentence\tIt is costume component, hatband.\r\n",
      "Q105046695\tembedding_sentence\tIt is field of work, health care industry, service, transportation industry.\r\n",
      "Q100306102\tembedding_sentence\tIt is bridged compound, pair of enantiomers.\r\n",
      "Q100287557\tembedding_sentence\tIt is mushroom dish, veggie burger.\r\n",
      "Q100276118\tembedding_sentence\tIt is group of stereoisomers, sugar acid.\r\n",
      "Q100156149\tembedding_sentence\tIt is food brand, meat analogue.\r\n",
      "Q1000959\tembedding_sentence\tIt is Reanda (apple), apple, apple cultivar.\r\n"
     ]
    }
   ],
   "source": [
    "!grep \"sentence\" ~/kgtk/tests/data/text_embedding.output.tsv"
   ]
  },
  {
   "cell_type": "code",
   "execution_count": 4,
   "id": "christian-roots",
   "metadata": {},
   "outputs": [],
   "source": [
    "first_line = None\n",
    "with open('../output/text-embeddings/missing_nodes.tsv') as f:\n",
    "    for line in f:\n",
    "        if first_line is None:\n",
    "            first_line = line\n",
    "            continue\n",
    "        line1 = line"
   ]
  }
 ],
 "metadata": {
  "kernelspec": {
   "display_name": "kgtkEnv",
   "language": "python",
   "name": "kgtkenv"
  },
  "language_info": {
   "codemirror_mode": {
    "name": "ipython",
    "version": 3
   },
   "file_extension": ".py",
   "mimetype": "text/x-python",
   "name": "python",
   "nbconvert_exporter": "python",
   "pygments_lexer": "ipython3",
   "version": "3.8.5"
  },
  "toc": {
   "base_numbering": 1,
   "nav_menu": {},
   "number_sections": true,
   "sideBar": true,
   "skip_h1_title": false,
   "title_cell": "Table of Contents",
   "title_sidebar": "Contents",
   "toc_cell": false,
   "toc_position": {},
   "toc_section_display": true,
   "toc_window_display": false
  },
  "varInspector": {
   "cols": {
    "lenName": 16,
    "lenType": 16,
    "lenVar": 40
   },
   "kernels_config": {
    "python": {
     "delete_cmd_postfix": "",
     "delete_cmd_prefix": "del ",
     "library": "var_list.py",
     "varRefreshCmd": "print(var_dic_list())"
    },
    "r": {
     "delete_cmd_postfix": ") ",
     "delete_cmd_prefix": "rm(",
     "library": "var_list.r",
     "varRefreshCmd": "cat(var_dic_list()) "
    }
   },
   "types_to_exclude": [
    "module",
    "function",
    "builtin_function_or_method",
    "instance",
    "_Feature"
   ],
   "window_display": false
  }
 },
 "nbformat": 4,
 "nbformat_minor": 5
}
