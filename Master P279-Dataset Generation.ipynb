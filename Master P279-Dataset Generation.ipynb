{
 "cells": [
  {
   "cell_type": "code",
   "execution_count": 3,
   "id": "individual-diamond",
   "metadata": {},
   "outputs": [],
   "source": [
    "import pandas as pd\n",
    "import scipy.stats as stats\n",
    "import json\n",
    "from tqdm.notebook import tqdm\n",
    "import dask.dataframe as dd"
   ]
  },
  {
   "cell_type": "markdown",
   "id": "funny-florist",
   "metadata": {},
   "source": [
    "# Other Utility Files"
   ]
  },
  {
   "cell_type": "markdown",
   "id": "magnetic-explanation",
   "metadata": {
    "heading_collapsed": true
   },
   "source": [
    "## Transitive Class Counts"
   ]
  },
  {
   "cell_type": "code",
   "execution_count": 2,
   "id": "subsequent-range",
   "metadata": {
    "hidden": true
   },
   "outputs": [],
   "source": [
    "derivedIsA = pd.read_csv('../data/derived.dwd_isa_class_count.compact.tsv', sep='\\t')"
   ]
  },
  {
   "cell_type": "code",
   "execution_count": 4,
   "id": "demographic-sapphire",
   "metadata": {
    "hidden": true
   },
   "outputs": [
    {
     "data": {
      "application/vnd.jupyter.widget-view+json": {
       "model_id": "9da5f22613ca4af8aae50c652993e720",
       "version_major": 2,
       "version_minor": 0
      },
      "text/plain": [
       "  0%|          | 0/41613030 [00:00<?, ?it/s]"
      ]
     },
     "metadata": {},
     "output_type": "display_data"
    }
   ],
   "source": [
    "derivedIsADict = {}\n",
    "min1, max1 = float('inf'), 0\n",
    "for _, row in tqdm(derivedIsA.iterrows(), total=len(derivedIsA)):\n",
    "    for val in row['node2'].split('|'):\n",
    "        qnode, count = val.split(':')\n",
    "        count = int(count)\n",
    "        if qnode in derivedIsADict:\n",
    "            assert derivedIsADict[qnode] == count\n",
    "        else:\n",
    "            derivedIsADict[qnode] = count\n",
    "        min1 = min(count, min1)\n",
    "        max1 = max(count, max1)            "
   ]
  },
  {
   "cell_type": "code",
   "execution_count": 5,
   "id": "economic-lending",
   "metadata": {
    "hidden": true
   },
   "outputs": [
    {
     "name": "stdout",
     "output_type": "stream",
     "text": [
      "Min branching factor: 1, Max branching factor: 41575722. Number of unique nodes: 250112\n"
     ]
    }
   ],
   "source": [
    "print(f\"Min branching factor: {min1}, Max branching factor: {max1}. Number of unique nodes: {len(derivedIsADict)}\")"
   ]
  },
  {
   "cell_type": "code",
   "execution_count": null,
   "id": "genuine-memorabilia",
   "metadata": {
    "hidden": true
   },
   "outputs": [],
   "source": [
    "# Alt\n",
    "# !zcat ../data/derived.dwd_isa_class_count.compact.tsv.gz | cut -f 3 | tail -n +2 | sed -e 's/|/\\n/g' -e 's/:/\\t/g' | sort | uniq > ../data/class-counts.tsv"
   ]
  },
  {
   "cell_type": "markdown",
   "id": "atomic-community",
   "metadata": {
    "heading_collapsed": true
   },
   "source": [
    "## Direct Class Counts"
   ]
  },
  {
   "cell_type": "code",
   "execution_count": null,
   "id": "third-intermediate",
   "metadata": {
    "hidden": true
   },
   "outputs": [],
   "source": [
    "hierDF = pd.read_csv('../data/Master_P279_dataset/P279ChildPar.csv')\n",
    "hierDF = hierDF[['id','node1','label','node2']]\n",
    "hierDFCounts = hierDF.groupby('node2').count()\n",
    "print(f\"Found P279 counts for {len(hierDFCounts)} parents from a dataset of size {len(hierDF)}\")\n",
    "hierDFCounts = hierDFCounts['node1'].rename({'node1': 'child_count'})\n",
    "hierDFCounts.to_csv('../data/Master_P279_dataset/hierDF_direct_P279_counts.csv')"
   ]
  },
  {
   "cell_type": "code",
   "execution_count": null,
   "id": "ambient-courtesy",
   "metadata": {
    "hidden": true
   },
   "outputs": [],
   "source": []
  },
  {
   "cell_type": "markdown",
   "id": "threatened-pacific",
   "metadata": {},
   "source": [
    "# P279 ChildPar Dataset\n",
    "\n",
    "Use descriptions wherever available, if not use labels, if not skip rows\n",
    "\n",
    "[Wikidata OS File (Wikidata 2021-02-15 DWD version)](https://drive.google.com/drive/folders/168j3OfdVGXMTKcs6VyH8rq_p0n6w0GGj?usp=sharing)"
   ]
  },
  {
   "cell_type": "code",
   "execution_count": null,
   "id": "polyphonic-county",
   "metadata": {},
   "outputs": [],
   "source": [
    "# !kgtk filter -i ../data/wikidataos.for.text-embedding.tsv.gz -p \";P279;\" -o ../data/P279_dataset/wikidata-P279.tsv"
   ]
  },
  {
   "cell_type": "code",
   "execution_count": 2,
   "id": "silent-liver",
   "metadata": {},
   "outputs": [],
   "source": [
    "p279DF = pd.read_csv('../data/P279_dataset/wikidata-P279.tsv',sep='\\t')\n",
    "p279DFNodesSet = set(p279DF.node1.to_list() + p279DF.node2.to_list())\n",
    "labelsDF = pd.read_csv('../data/labels.en.tsv', sep='\\t')\n",
    "descriptionsDF = pd.read_csv('../../wd-correctness/gdrive-kgtk-dump-2020-12-07/descriptions.en.tsv.gz', compression='gzip', sep='\\t')\n",
    "labelsDF = labelsDF[labelsDF.node1.apply(lambda p: p in p279DFNodesSet)]\n",
    "descriptionsDF = descriptionsDF[descriptionsDF.node1.apply(lambda p: p in p279DFNodesSet)]"
   ]
  },
  {
   "cell_type": "code",
   "execution_count": 3,
   "id": "cubic-taxation",
   "metadata": {},
   "outputs": [
    {
     "name": "stdout",
     "output_type": "stream",
     "text": [
      "There are 721983 rows in P279 dataset, 606996 unique number of nodes in this dataset, 511841 labels and 299844 descriptions\n"
     ]
    }
   ],
   "source": [
    "print(f\"There are {len(p279DF)} rows in P279 dataset, {len(p279DFNodesSet)} unique number of nodes in this dataset, {len(labelsDF)} labels and {len(descriptionsDF)} descriptions\")"
   ]
  },
  {
   "cell_type": "code",
   "execution_count": 4,
   "id": "damaged-driving",
   "metadata": {},
   "outputs": [],
   "source": [
    "p279DFNew = p279DF\n",
    "temp1 = p279DFNew.set_index('node1').join(labelsDF.set_index('node1'), rsuffix='_label')\n",
    "temp1 = temp1[['id','label','node2','node2_label']]\n",
    "temp2 = temp1.reset_index().set_index('node2').join(labelsDF.set_index('node1'), rsuffix='_label2')\n",
    "temp3 = temp2[['id','node1','label','node2', 'node2_label']].rename(columns={'node2_label': 'node1_label', 'node2':'node2_label'}).reset_index().rename(columns={'index':'node2'})\n",
    "temp3 = temp3[['id','node1','node1_label','label','node2','node2_label']]\n",
    "temp3['node1_label'] = temp3['node1_label'].apply(lambda p: p[1:-4] if type(p) == str else None)\n",
    "temp3['node2_label'] = temp3['node2_label'].apply(lambda p: p[1:-4] if type(p) == str else None)\n",
    "hierDF = temp3.copy()\n",
    "\n",
    "p279DFNew = hierDF\n",
    "temp1 = p279DFNew.set_index('node1').join(descriptionsDF.set_index('node1'), rsuffix='_desc')\n",
    "temp1 = temp1[['id','label','node2','node1_label','node2_label', 'node2_desc']]\n",
    "temp2 = temp1.reset_index().set_index('node2').join(descriptionsDF.set_index('node1'), rsuffix='_desc2')\n",
    "temp3 = temp2[['id','node1','label','node2', 'node1_label', 'node2_label', 'node2_desc']].rename(columns={'node2_desc': 'node1_desc', 'node2':'node2_desc'}).reset_index().rename(columns={'index':'node2'})\n",
    "# temp3 = temp3[['id','node1','node1_label','label','node2','node2_label']]\n",
    "# temp3 = temp3[~temp3['node1_label'].isna()]\n",
    "# temp3 = temp3[~temp3['node2_label'].isna()]\n",
    "temp3['node1_desc'] = temp3['node1_desc'].apply(lambda p: p[1:-4] if type(p) == str else None)\n",
    "temp3['node2_desc'] = temp3['node2_desc'].apply(lambda p: p[1:-4] if type(p) == str else None)\n",
    "hierDF = temp3.copy()"
   ]
  },
  {
   "cell_type": "code",
   "execution_count": 15,
   "id": "dress-yellow",
   "metadata": {},
   "outputs": [],
   "source": [
    "def combineLabDesc(row, nodeNum):\n",
    "    if type(row['node'+str(nodeNum)+'_desc']) == str and type(row['node'+str(nodeNum)+'_label']) == str :\n",
    "        return row['node'+str(nodeNum)+'_label'] + ' ' + row['node'+str(nodeNum)+'_desc']\n",
    "    else:\n",
    "        return None\n",
    "hierDF['node1_labDesc'] = hierDF.apply(combineLabDesc, axis=1, args=(1,))\n",
    "hierDF['node2_labDesc'] = hierDF.apply(combineLabDesc, axis=1, args=(2,))\n",
    "hierDF = hierDF[~hierDF['node1_labDesc'].isna()]\n",
    "hierDF = hierDF[~hierDF['node2_labDesc'].isna()]"
   ]
  },
  {
   "cell_type": "code",
   "execution_count": 16,
   "id": "adaptive-measure",
   "metadata": {},
   "outputs": [
    {
     "name": "stdout",
     "output_type": "stream",
     "text": [
      "There are 373463 rows in P279 dataset s.t. both nodes have either a label or a description.     There are 373463 rows where both nodes have labels.     There are 373463 rows where both nodes have descriptions.\n"
     ]
    }
   ],
   "source": [
    "print(f\"There are {len(hierDF)} rows in P279 dataset s.t. both nodes have either a label or a description. \\\n",
    "    There are {len(hierDF[(~hierDF.node1_label.isna()) & (~hierDF.node2_label.isna())])} rows where both nodes have labels. \\\n",
    "    There are {len(hierDF[(~hierDF.node1_desc.isna()) & (~hierDF.node2_desc.isna())])} rows where both nodes have descriptions.\")"
   ]
  },
  {
   "cell_type": "code",
   "execution_count": null,
   "id": "disturbed-adaptation",
   "metadata": {},
   "outputs": [],
   "source": [
    "hierDF.head()"
   ]
  },
  {
   "cell_type": "code",
   "execution_count": 8,
   "id": "dominant-crowd",
   "metadata": {},
   "outputs": [],
   "source": [
    "from sentence_transformers import SentenceTransformer\n",
    "from sklearn.metrics.pairwise import cosine_similarity\n",
    "from time import time\n",
    "import pandas as pd\n",
    "\n",
    "def getSentEmbeddings(valSeries, modelName):\n",
    "    model = SentenceTransformer(modelName)\n",
    "    start = time()\n",
    "    encodings = model.encode(valSeries.to_list())\n",
    "    print(time()-start,'s')\n",
    "    return encodings"
   ]
  },
  {
   "cell_type": "code",
   "execution_count": null,
   "id": "mineral-rider",
   "metadata": {},
   "outputs": [],
   "source": [
    "modelName = 'sentence-transformers/all-distilroberta-v1'"
   ]
  },
  {
   "cell_type": "code",
   "execution_count": 9,
   "id": "difficult-applicant",
   "metadata": {},
   "outputs": [],
   "source": [
    "hierDF = hierDF.reset_index()"
   ]
  },
  {
   "cell_type": "code",
   "execution_count": 10,
   "id": "objective-cowboy",
   "metadata": {},
   "outputs": [
    {
     "data": {
      "text/plain": [
       "(0, 0)"
      ]
     },
     "execution_count": 10,
     "metadata": {},
     "output_type": "execute_result"
    }
   ],
   "source": [
    "hierDF.node1_labDesc.isna().sum(), hierDF.node2_labDesc.isna().sum()"
   ]
  },
  {
   "cell_type": "code",
   "execution_count": 11,
   "id": "charged-finland",
   "metadata": {},
   "outputs": [
    {
     "name": "stdout",
     "output_type": "stream",
     "text": [
      "712.1184396743774 s\n",
      "560.1313090324402 s\n"
     ]
    }
   ],
   "source": [
    "hierDF['node1_emb'] = pd.Series(list(getSentEmbeddings(hierDF.node1_labDesc, modelName)))\n",
    "hierDF['node2_emb'] = pd.Series(list(getSentEmbeddings(hierDF.node2_labDesc, modelName)))"
   ]
  },
  {
   "cell_type": "code",
   "execution_count": 12,
   "id": "silver-variation",
   "metadata": {},
   "outputs": [
    {
     "data": {
      "text/html": [
       "<div>\n",
       "<style scoped>\n",
       "    .dataframe tbody tr th:only-of-type {\n",
       "        vertical-align: middle;\n",
       "    }\n",
       "\n",
       "    .dataframe tbody tr th {\n",
       "        vertical-align: top;\n",
       "    }\n",
       "\n",
       "    .dataframe thead th {\n",
       "        text-align: right;\n",
       "    }\n",
       "</style>\n",
       "<table border=\"1\" class=\"dataframe\">\n",
       "  <thead>\n",
       "    <tr style=\"text-align: right;\">\n",
       "      <th></th>\n",
       "      <th>level_0</th>\n",
       "      <th>Unnamed: 0</th>\n",
       "      <th>index</th>\n",
       "      <th>node2</th>\n",
       "      <th>id</th>\n",
       "      <th>node1</th>\n",
       "      <th>label</th>\n",
       "      <th>node2_desc</th>\n",
       "      <th>node1_label</th>\n",
       "      <th>node2_label</th>\n",
       "      <th>node1_desc</th>\n",
       "      <th>node1_labDesc</th>\n",
       "      <th>node2_labDesc</th>\n",
       "      <th>node1_emb</th>\n",
       "      <th>node2_emb</th>\n",
       "      <th>bert2SentSim</th>\n",
       "    </tr>\n",
       "  </thead>\n",
       "  <tbody>\n",
       "    <tr>\n",
       "      <th>0</th>\n",
       "      <td>0</td>\n",
       "      <td>0</td>\n",
       "      <td>1</td>\n",
       "      <td>Q100026</td>\n",
       "      <td>Q17372279-P279-Q100026-beba8cd1-0</td>\n",
       "      <td>Q17372279</td>\n",
       "      <td>P279</td>\n",
       "      <td>1974 fighter aircraft family by General Dynamics</td>\n",
       "      <td>YF-16</td>\n",
       "      <td>F-16 Fighting Falcon</td>\n",
       "      <td>initial prototype of the F-16 fighter aircraft</td>\n",
       "      <td>YF-16 initial prototype of the F-16 fighter ai...</td>\n",
       "      <td>F-16 Fighting Falcon 1974 fighter aircraft fam...</td>\n",
       "      <td>[-0.43750098, 0.04365531, 0.325353, 0.16819148...</td>\n",
       "      <td>[-0.12933655, 0.60260355, 0.24470265, -0.32232...</td>\n",
       "      <td>0.666525</td>\n",
       "    </tr>\n",
       "    <tr>\n",
       "      <th>1</th>\n",
       "      <td>1</td>\n",
       "      <td>1</td>\n",
       "      <td>2</td>\n",
       "      <td>Q100026</td>\n",
       "      <td>Q17372377-P279-Q100026-fd42bd71-0</td>\n",
       "      <td>Q17372377</td>\n",
       "      <td>P279</td>\n",
       "      <td>1974 fighter aircraft family by General Dynamics</td>\n",
       "      <td>F-16A/B Fighting Falcon</td>\n",
       "      <td>F-16 Fighting Falcon</td>\n",
       "      <td>initial series of the F-16 fighter aircraft</td>\n",
       "      <td>F-16A/B Fighting Falcon initial series of the ...</td>\n",
       "      <td>F-16 Fighting Falcon 1974 fighter aircraft fam...</td>\n",
       "      <td>[-0.5292441, 0.21775092, 0.29205856, -0.043881...</td>\n",
       "      <td>[-0.12933655, 0.60260355, 0.24470265, -0.32232...</td>\n",
       "      <td>0.700515</td>\n",
       "    </tr>\n",
       "    <tr>\n",
       "      <th>2</th>\n",
       "      <td>2</td>\n",
       "      <td>2</td>\n",
       "      <td>3</td>\n",
       "      <td>Q100026</td>\n",
       "      <td>Q17372444-P279-Q100026-ca0fc4bd-0</td>\n",
       "      <td>Q17372444</td>\n",
       "      <td>P279</td>\n",
       "      <td>1974 fighter aircraft family by General Dynamics</td>\n",
       "      <td>F-16C/D Fighting Falcon</td>\n",
       "      <td>F-16 Fighting Falcon</td>\n",
       "      <td>multirole series of the F-16 fighter aircraft</td>\n",
       "      <td>F-16C/D Fighting Falcon multirole series of th...</td>\n",
       "      <td>F-16 Fighting Falcon 1974 fighter aircraft fam...</td>\n",
       "      <td>[-0.43385798, 0.17806369, 0.35786152, 0.033635...</td>\n",
       "      <td>[-0.12933655, 0.60260355, 0.24470265, -0.32232...</td>\n",
       "      <td>0.683245</td>\n",
       "    </tr>\n",
       "    <tr>\n",
       "      <th>3</th>\n",
       "      <td>3</td>\n",
       "      <td>3</td>\n",
       "      <td>4</td>\n",
       "      <td>Q100026</td>\n",
       "      <td>Q17372455-P279-Q100026-c2b1bf36-0</td>\n",
       "      <td>Q17372455</td>\n",
       "      <td>P279</td>\n",
       "      <td>1974 fighter aircraft family by General Dynamics</td>\n",
       "      <td>F-16E/F Desert Falcon</td>\n",
       "      <td>F-16 Fighting Falcon</td>\n",
       "      <td>export strike fighter series of the F-16 fight...</td>\n",
       "      <td>F-16E/F Desert Falcon export strike fighter se...</td>\n",
       "      <td>F-16 Fighting Falcon 1974 fighter aircraft fam...</td>\n",
       "      <td>[-0.35206, 0.22591999, 0.20191742, -0.02384881...</td>\n",
       "      <td>[-0.12933655, 0.60260355, 0.24470265, -0.32232...</td>\n",
       "      <td>0.689516</td>\n",
       "    </tr>\n",
       "    <tr>\n",
       "      <th>4</th>\n",
       "      <td>4</td>\n",
       "      <td>4</td>\n",
       "      <td>5</td>\n",
       "      <td>Q100026</td>\n",
       "      <td>Q2029940-P279-Q100026-ceba4380-0</td>\n",
       "      <td>Q2029940</td>\n",
       "      <td>P279</td>\n",
       "      <td>1974 fighter aircraft family by General Dynamics</td>\n",
       "      <td>F-16 VISTA</td>\n",
       "      <td>F-16 Fighting Falcon</td>\n",
       "      <td>experimental aircraft</td>\n",
       "      <td>F-16 VISTA experimental aircraft</td>\n",
       "      <td>F-16 Fighting Falcon 1974 fighter aircraft fam...</td>\n",
       "      <td>[-0.27010456, 0.22041212, 0.8711852, 0.2625613...</td>\n",
       "      <td>[-0.12933655, 0.60260355, 0.24470265, -0.32232...</td>\n",
       "      <td>0.603161</td>\n",
       "    </tr>\n",
       "  </tbody>\n",
       "</table>\n",
       "</div>"
      ],
      "text/plain": [
       "   level_0  Unnamed: 0  index    node2                                 id  \\\n",
       "0        0           0      1  Q100026  Q17372279-P279-Q100026-beba8cd1-0   \n",
       "1        1           1      2  Q100026  Q17372377-P279-Q100026-fd42bd71-0   \n",
       "2        2           2      3  Q100026  Q17372444-P279-Q100026-ca0fc4bd-0   \n",
       "3        3           3      4  Q100026  Q17372455-P279-Q100026-c2b1bf36-0   \n",
       "4        4           4      5  Q100026   Q2029940-P279-Q100026-ceba4380-0   \n",
       "\n",
       "       node1 label                                        node2_desc  \\\n",
       "0  Q17372279  P279  1974 fighter aircraft family by General Dynamics   \n",
       "1  Q17372377  P279  1974 fighter aircraft family by General Dynamics   \n",
       "2  Q17372444  P279  1974 fighter aircraft family by General Dynamics   \n",
       "3  Q17372455  P279  1974 fighter aircraft family by General Dynamics   \n",
       "4   Q2029940  P279  1974 fighter aircraft family by General Dynamics   \n",
       "\n",
       "               node1_label           node2_label  \\\n",
       "0                    YF-16  F-16 Fighting Falcon   \n",
       "1  F-16A/B Fighting Falcon  F-16 Fighting Falcon   \n",
       "2  F-16C/D Fighting Falcon  F-16 Fighting Falcon   \n",
       "3    F-16E/F Desert Falcon  F-16 Fighting Falcon   \n",
       "4               F-16 VISTA  F-16 Fighting Falcon   \n",
       "\n",
       "                                          node1_desc  \\\n",
       "0     initial prototype of the F-16 fighter aircraft   \n",
       "1        initial series of the F-16 fighter aircraft   \n",
       "2      multirole series of the F-16 fighter aircraft   \n",
       "3  export strike fighter series of the F-16 fight...   \n",
       "4                              experimental aircraft   \n",
       "\n",
       "                                       node1_labDesc  \\\n",
       "0  YF-16 initial prototype of the F-16 fighter ai...   \n",
       "1  F-16A/B Fighting Falcon initial series of the ...   \n",
       "2  F-16C/D Fighting Falcon multirole series of th...   \n",
       "3  F-16E/F Desert Falcon export strike fighter se...   \n",
       "4                   F-16 VISTA experimental aircraft   \n",
       "\n",
       "                                       node2_labDesc  \\\n",
       "0  F-16 Fighting Falcon 1974 fighter aircraft fam...   \n",
       "1  F-16 Fighting Falcon 1974 fighter aircraft fam...   \n",
       "2  F-16 Fighting Falcon 1974 fighter aircraft fam...   \n",
       "3  F-16 Fighting Falcon 1974 fighter aircraft fam...   \n",
       "4  F-16 Fighting Falcon 1974 fighter aircraft fam...   \n",
       "\n",
       "                                           node1_emb  \\\n",
       "0  [-0.43750098, 0.04365531, 0.325353, 0.16819148...   \n",
       "1  [-0.5292441, 0.21775092, 0.29205856, -0.043881...   \n",
       "2  [-0.43385798, 0.17806369, 0.35786152, 0.033635...   \n",
       "3  [-0.35206, 0.22591999, 0.20191742, -0.02384881...   \n",
       "4  [-0.27010456, 0.22041212, 0.8711852, 0.2625613...   \n",
       "\n",
       "                                           node2_emb  bert2SentSim  \n",
       "0  [-0.12933655, 0.60260355, 0.24470265, -0.32232...      0.666525  \n",
       "1  [-0.12933655, 0.60260355, 0.24470265, -0.32232...      0.700515  \n",
       "2  [-0.12933655, 0.60260355, 0.24470265, -0.32232...      0.683245  \n",
       "3  [-0.12933655, 0.60260355, 0.24470265, -0.32232...      0.689516  \n",
       "4  [-0.12933655, 0.60260355, 0.24470265, -0.32232...      0.603161  "
      ]
     },
     "execution_count": 12,
     "metadata": {},
     "output_type": "execute_result"
    }
   ],
   "source": [
    "hierDF.head()"
   ]
  },
  {
   "cell_type": "code",
   "execution_count": 13,
   "id": "wanted-eclipse",
   "metadata": {},
   "outputs": [
    {
     "data": {
      "text/plain": [
       "(0, 0)"
      ]
     },
     "execution_count": 13,
     "metadata": {},
     "output_type": "execute_result"
    }
   ],
   "source": [
    "hierDF.node1_emb.isna().sum(), hierDF.node2_emb.isna().sum()"
   ]
  },
  {
   "cell_type": "code",
   "execution_count": 14,
   "id": "varying-landing",
   "metadata": {},
   "outputs": [],
   "source": [
    "hierDF['bert2SentSim'] = hierDF.apply(lambda p: cosine_similarity(p.node1_emb.reshape(1,-1), p.node2_emb.reshape(1,-1))[0][0], axis=1)"
   ]
  },
  {
   "cell_type": "code",
   "execution_count": 18,
   "id": "deadly-guard",
   "metadata": {},
   "outputs": [],
   "source": [
    "hierDF.to_csv('../data/Master_P279_dataset/P279ChildPar_filtered.csv')"
   ]
  },
  {
   "cell_type": "markdown",
   "id": "higher-merchandise",
   "metadata": {
    "heading_collapsed": true
   },
   "source": [
    "## Filter based on direct P279 counts"
   ]
  },
  {
   "cell_type": "code",
   "execution_count": 13,
   "id": "ordered-basin",
   "metadata": {
    "hidden": true
   },
   "outputs": [],
   "source": [
    "hierDF = pd.read_csv('../data/Master_P279_dataset/P279ChildPar_filtered.csv')"
   ]
  },
  {
   "cell_type": "code",
   "execution_count": 19,
   "id": "thirty-display",
   "metadata": {
    "hidden": true
   },
   "outputs": [
    {
     "data": {
      "text/plain": [
       "373463"
      ]
     },
     "execution_count": 19,
     "metadata": {},
     "output_type": "execute_result"
    }
   ],
   "source": [
    "len(hierDF)"
   ]
  },
  {
   "cell_type": "code",
   "execution_count": 20,
   "id": "recorded-major",
   "metadata": {
    "hidden": true
   },
   "outputs": [],
   "source": [
    "dirP279Counts = pd.read_csv('../data/Master_P279_dataset/hierDF_direct_P279_counts.csv')"
   ]
  },
  {
   "cell_type": "code",
   "execution_count": 21,
   "id": "upper-nothing",
   "metadata": {
    "hidden": true
   },
   "outputs": [
    {
     "data": {
      "text/html": [
       "<div>\n",
       "<style scoped>\n",
       "    .dataframe tbody tr th:only-of-type {\n",
       "        vertical-align: middle;\n",
       "    }\n",
       "\n",
       "    .dataframe tbody tr th {\n",
       "        vertical-align: top;\n",
       "    }\n",
       "\n",
       "    .dataframe thead th {\n",
       "        text-align: right;\n",
       "    }\n",
       "</style>\n",
       "<table border=\"1\" class=\"dataframe\">\n",
       "  <thead>\n",
       "    <tr style=\"text-align: right;\">\n",
       "      <th></th>\n",
       "      <th>node2</th>\n",
       "      <th>node1</th>\n",
       "    </tr>\n",
       "  </thead>\n",
       "  <tbody>\n",
       "    <tr>\n",
       "      <th>0</th>\n",
       "      <td>Q100026</td>\n",
       "      <td>7</td>\n",
       "    </tr>\n",
       "    <tr>\n",
       "      <th>1</th>\n",
       "      <td>Q1000371</td>\n",
       "      <td>1</td>\n",
       "    </tr>\n",
       "    <tr>\n",
       "      <th>2</th>\n",
       "      <td>Q100047</td>\n",
       "      <td>10</td>\n",
       "    </tr>\n",
       "    <tr>\n",
       "      <th>3</th>\n",
       "      <td>Q100052008</td>\n",
       "      <td>4</td>\n",
       "    </tr>\n",
       "    <tr>\n",
       "      <th>4</th>\n",
       "      <td>Q100052938</td>\n",
       "      <td>1</td>\n",
       "    </tr>\n",
       "  </tbody>\n",
       "</table>\n",
       "</div>"
      ],
      "text/plain": [
       "        node2  node1\n",
       "0     Q100026      7\n",
       "1    Q1000371      1\n",
       "2     Q100047     10\n",
       "3  Q100052008      4\n",
       "4  Q100052938      1"
      ]
     },
     "execution_count": 21,
     "metadata": {},
     "output_type": "execute_result"
    }
   ],
   "source": [
    "dirP279Counts.head()"
   ]
  },
  {
   "cell_type": "code",
   "execution_count": 22,
   "id": "sunrise-motorcycle",
   "metadata": {
    "hidden": true
   },
   "outputs": [],
   "source": [
    "dirP279Counts = dirP279Counts.set_index('node2')['node1']"
   ]
  },
  {
   "cell_type": "code",
   "execution_count": 23,
   "id": "federal-diabetes",
   "metadata": {
    "hidden": true
   },
   "outputs": [],
   "source": [
    "dirP279Counts1 = dirP279Counts[dirP279Counts >= 7]"
   ]
  },
  {
   "cell_type": "code",
   "execution_count": 24,
   "id": "superior-today",
   "metadata": {
    "hidden": true
   },
   "outputs": [
    {
     "data": {
      "text/plain": [
       "node2\n",
       "Q100026        7\n",
       "Q1000371       1\n",
       "Q100047       10\n",
       "Q100052008     4\n",
       "Q100052938     1\n",
       "Name: node1, dtype: int64"
      ]
     },
     "execution_count": 24,
     "metadata": {},
     "output_type": "execute_result"
    }
   ],
   "source": [
    "dirP279Counts.head()"
   ]
  },
  {
   "cell_type": "code",
   "execution_count": 25,
   "id": "virgin-freedom",
   "metadata": {
    "hidden": true
   },
   "outputs": [
    {
     "data": {
      "text/plain": [
       "count    109631.000000\n",
       "mean          5.686056\n",
       "std         124.365173\n",
       "min           1.000000\n",
       "25%           1.000000\n",
       "50%           2.000000\n",
       "75%           4.000000\n",
       "max       39217.000000\n",
       "Name: node1, dtype: float64"
      ]
     },
     "execution_count": 25,
     "metadata": {},
     "output_type": "execute_result"
    }
   ],
   "source": [
    "dirP279Counts.describe()"
   ]
  },
  {
   "cell_type": "code",
   "execution_count": 26,
   "id": "received-magic",
   "metadata": {
    "hidden": true
   },
   "outputs": [],
   "source": [
    "dirP279CountsNeededSet = set(dirP279Counts1.index.to_list())"
   ]
  },
  {
   "cell_type": "code",
   "execution_count": 27,
   "id": "damaged-market",
   "metadata": {
    "hidden": true
   },
   "outputs": [],
   "source": [
    "hierDF_dirP279_filtered = hierDF[hierDF.node2.apply(lambda p: p in dirP279CountsNeededSet)]"
   ]
  },
  {
   "cell_type": "code",
   "execution_count": 28,
   "id": "third-queensland",
   "metadata": {
    "hidden": true
   },
   "outputs": [
    {
     "data": {
      "text/plain": [
       "4864"
      ]
     },
     "execution_count": 28,
     "metadata": {},
     "output_type": "execute_result"
    }
   ],
   "source": [
    "(hierDF_dirP279_filtered.node1_desc == hierDF_dirP279_filtered.node2_desc).sum()"
   ]
  },
  {
   "cell_type": "code",
   "execution_count": 29,
   "id": "requested-prime",
   "metadata": {
    "hidden": true
   },
   "outputs": [],
   "source": [
    "hierDF_dirP279_filtered1 = hierDF_dirP279_filtered[hierDF_dirP279_filtered.node1_desc != hierDF_dirP279_filtered.node2_desc]"
   ]
  },
  {
   "cell_type": "code",
   "execution_count": 30,
   "id": "intermediate-marsh",
   "metadata": {
    "hidden": true
   },
   "outputs": [
    {
     "data": {
      "text/plain": [
       "(263907, 259043)"
      ]
     },
     "execution_count": 30,
     "metadata": {},
     "output_type": "execute_result"
    }
   ],
   "source": [
    "len(hierDF_dirP279_filtered), len(hierDF_dirP279_filtered1)"
   ]
  },
  {
   "cell_type": "code",
   "execution_count": 46,
   "id": "scientific-martin",
   "metadata": {
    "hidden": true
   },
   "outputs": [],
   "source": [
    "hierDF_dirP279_filtered1.to_csv('../data/Master_P279_dataset/P279ChildPar_dirP279_filtered.csv')"
   ]
  },
  {
   "cell_type": "code",
   "execution_count": 56,
   "id": "contained-direction",
   "metadata": {
    "hidden": true
   },
   "outputs": [],
   "source": [
    "hierDF_dirP279_filtered1[['id', 'node1', 'label', 'node2']].to_csv('../data/Master_P279_dataset/P279ChildPar_dirP279_filtered_baremetal.csv')"
   ]
  },
  {
   "cell_type": "code",
   "execution_count": 8,
   "id": "capital-occasion",
   "metadata": {
    "hidden": true
   },
   "outputs": [],
   "source": [
    "pd.read_csv('../data/Master_P279_dataset/P279ChildPar_dirP279_filtered_baremetal.csv')[['id', 'node1', 'label', 'node2']].to_csv('../data/Master_P279_dataset/P279ChildPar_dirP279_filtered_baremetal.tsv', index=False, sep='\\t')"
   ]
  },
  {
   "cell_type": "markdown",
   "id": "plain-jurisdiction",
   "metadata": {},
   "source": [
    "## Filter based on transitive P279 counts"
   ]
  },
  {
   "cell_type": "code",
   "execution_count": null,
   "id": "broken-intermediate",
   "metadata": {},
   "outputs": [],
   "source": [
    "hierDF = pd.read_csv('../data/Master_P279_dataset/P279ChildPar_filtered.csv')"
   ]
  },
  {
   "cell_type": "code",
   "execution_count": 31,
   "id": "trained-parent",
   "metadata": {},
   "outputs": [],
   "source": [
    "transitive_P279Counts = pd.read_csv('../data/class-counts.tsv', sep='\\t', header=None)"
   ]
  },
  {
   "cell_type": "code",
   "execution_count": 32,
   "id": "tutorial-buddy",
   "metadata": {},
   "outputs": [],
   "source": [
    "transitive_P279Counts = transitive_P279Counts.set_index(0)[1]"
   ]
  },
  {
   "cell_type": "code",
   "execution_count": 33,
   "id": "great-engine",
   "metadata": {},
   "outputs": [],
   "source": [
    "transitive_P279Counts = transitive_P279Counts[transitive_P279Counts >= 7]"
   ]
  },
  {
   "cell_type": "code",
   "execution_count": 34,
   "id": "matched-dance",
   "metadata": {},
   "outputs": [
    {
     "data": {
      "text/plain": [
       "count    6.853900e+04\n",
       "mean     2.466702e+04\n",
       "std      5.315130e+05\n",
       "min      7.000000e+00\n",
       "25%      1.200000e+01\n",
       "50%      2.600000e+01\n",
       "75%      9.600000e+01\n",
       "max      4.157572e+07\n",
       "Name: 1, dtype: float64"
      ]
     },
     "execution_count": 34,
     "metadata": {},
     "output_type": "execute_result"
    }
   ],
   "source": [
    "transitive_P279Counts.describe()"
   ]
  },
  {
   "cell_type": "code",
   "execution_count": 35,
   "id": "medical-hierarchy",
   "metadata": {},
   "outputs": [],
   "source": [
    "transitive_P279CountsNeededSet = set(transitive_P279Counts.index.to_list())"
   ]
  },
  {
   "cell_type": "code",
   "execution_count": 36,
   "id": "peaceful-protocol",
   "metadata": {},
   "outputs": [],
   "source": [
    "hierDF_transP279_filtered = hierDF[hierDF.node2.apply(lambda p: p in transitive_P279CountsNeededSet)]"
   ]
  },
  {
   "cell_type": "code",
   "execution_count": 37,
   "id": "threaded-insertion",
   "metadata": {},
   "outputs": [
    {
     "data": {
      "text/plain": [
       "6769"
      ]
     },
     "execution_count": 37,
     "metadata": {},
     "output_type": "execute_result"
    }
   ],
   "source": [
    "(hierDF_transP279_filtered.node1_desc == hierDF_transP279_filtered.node2_desc).sum()"
   ]
  },
  {
   "cell_type": "code",
   "execution_count": 38,
   "id": "greenhouse-worthy",
   "metadata": {},
   "outputs": [],
   "source": [
    "hierDF_transP279_filtered1 = hierDF_transP279_filtered[hierDF_transP279_filtered.node1_desc != hierDF_transP279_filtered.node2_desc]"
   ]
  },
  {
   "cell_type": "code",
   "execution_count": 39,
   "id": "apart-tooth",
   "metadata": {},
   "outputs": [
    {
     "data": {
      "text/plain": [
       "(310053, 303284)"
      ]
     },
     "execution_count": 39,
     "metadata": {},
     "output_type": "execute_result"
    }
   ],
   "source": [
    "len(hierDF_transP279_filtered), len(hierDF_transP279_filtered1)"
   ]
  },
  {
   "cell_type": "code",
   "execution_count": 41,
   "id": "spiritual-ballot",
   "metadata": {},
   "outputs": [],
   "source": [
    "hierDF_transP279_filtered1.to_csv('../data/Master_P279_dataset/P279ChildPar_transP279_filtered.csv')"
   ]
  },
  {
   "cell_type": "code",
   "execution_count": 42,
   "id": "adjusted-supervision",
   "metadata": {},
   "outputs": [],
   "source": [
    "hierDF_transP279_filtered1[['id', 'node1', 'label', 'node2']].to_csv('../data/Master_P279_dataset/P279ChildPar_transP279_filtered_baremetal.csv')"
   ]
  },
  {
   "cell_type": "code",
   "execution_count": 43,
   "id": "approved-genome",
   "metadata": {},
   "outputs": [],
   "source": [
    "pd.read_csv('../data/Master_P279_dataset/P279ChildPar_transP279_filtered_baremetal.csv')[['id', 'node1', 'label', 'node2']].to_csv('../data/Master_P279_dataset/P279ChildPar_transP279_filtered_baremetal.tsv', index=False, sep='\\t')"
   ]
  },
  {
   "cell_type": "code",
   "execution_count": 59,
   "id": "extreme-visibility",
   "metadata": {},
   "outputs": [
    {
     "data": {
      "text/html": [
       "<div>\n",
       "<style scoped>\n",
       "    .dataframe tbody tr th:only-of-type {\n",
       "        vertical-align: middle;\n",
       "    }\n",
       "\n",
       "    .dataframe tbody tr th {\n",
       "        vertical-align: top;\n",
       "    }\n",
       "\n",
       "    .dataframe thead th {\n",
       "        text-align: right;\n",
       "    }\n",
       "</style>\n",
       "<table border=\"1\" class=\"dataframe\">\n",
       "  <thead>\n",
       "    <tr style=\"text-align: right;\">\n",
       "      <th></th>\n",
       "      <th>Unnamed: 0</th>\n",
       "      <th>Unnamed: 0.1</th>\n",
       "      <th>index</th>\n",
       "      <th>node2</th>\n",
       "      <th>id</th>\n",
       "      <th>node1</th>\n",
       "      <th>label</th>\n",
       "      <th>node2_desc</th>\n",
       "      <th>node1_label</th>\n",
       "      <th>node2_label</th>\n",
       "      <th>node1_desc</th>\n",
       "      <th>node1_labDesc</th>\n",
       "      <th>node2_labDesc</th>\n",
       "      <th>node1_emb</th>\n",
       "      <th>node2_emb</th>\n",
       "      <th>bert2SentSim</th>\n",
       "    </tr>\n",
       "  </thead>\n",
       "  <tbody>\n",
       "    <tr>\n",
       "      <th>0</th>\n",
       "      <td>0</td>\n",
       "      <td>0</td>\n",
       "      <td>1</td>\n",
       "      <td>Q100026</td>\n",
       "      <td>Q17372279-P279-Q100026-beba8cd1-0</td>\n",
       "      <td>Q17372279</td>\n",
       "      <td>P279</td>\n",
       "      <td>1974 fighter aircraft family by General Dynamics</td>\n",
       "      <td>YF-16</td>\n",
       "      <td>F-16 Fighting Falcon</td>\n",
       "      <td>initial prototype of the F-16 fighter aircraft</td>\n",
       "      <td>YF-16 initial prototype of the F-16 fighter ai...</td>\n",
       "      <td>F-16 Fighting Falcon 1974 fighter aircraft fam...</td>\n",
       "      <td>[-5.89544833e-01  1.19935878e-01  3.76383096e-...</td>\n",
       "      <td>[ 1.79253638e-01  6.10661507e-01  8.33987653e-...</td>\n",
       "      <td>0.666525</td>\n",
       "    </tr>\n",
       "    <tr>\n",
       "      <th>1</th>\n",
       "      <td>1</td>\n",
       "      <td>1</td>\n",
       "      <td>2</td>\n",
       "      <td>Q100026</td>\n",
       "      <td>Q17372377-P279-Q100026-fd42bd71-0</td>\n",
       "      <td>Q17372377</td>\n",
       "      <td>P279</td>\n",
       "      <td>1974 fighter aircraft family by General Dynamics</td>\n",
       "      <td>F-16A/B Fighting Falcon</td>\n",
       "      <td>F-16 Fighting Falcon</td>\n",
       "      <td>initial series of the F-16 fighter aircraft</td>\n",
       "      <td>F-16A/B Fighting Falcon initial series of the ...</td>\n",
       "      <td>F-16 Fighting Falcon 1974 fighter aircraft fam...</td>\n",
       "      <td>[-6.08038664e-01  5.00908047e-02  5.60190260e-...</td>\n",
       "      <td>[ 1.79253891e-01  6.10661447e-01  8.33987534e-...</td>\n",
       "      <td>0.700515</td>\n",
       "    </tr>\n",
       "    <tr>\n",
       "      <th>2</th>\n",
       "      <td>2</td>\n",
       "      <td>2</td>\n",
       "      <td>3</td>\n",
       "      <td>Q100026</td>\n",
       "      <td>Q17372444-P279-Q100026-ca0fc4bd-0</td>\n",
       "      <td>Q17372444</td>\n",
       "      <td>P279</td>\n",
       "      <td>1974 fighter aircraft family by General Dynamics</td>\n",
       "      <td>F-16C/D Fighting Falcon</td>\n",
       "      <td>F-16 Fighting Falcon</td>\n",
       "      <td>multirole series of the F-16 fighter aircraft</td>\n",
       "      <td>F-16C/D Fighting Falcon multirole series of th...</td>\n",
       "      <td>F-16 Fighting Falcon 1974 fighter aircraft fam...</td>\n",
       "      <td>[-5.40582001e-01  1.56212196e-01  5.69522917e-...</td>\n",
       "      <td>[ 1.79253638e-01  6.10661507e-01  8.33987653e-...</td>\n",
       "      <td>0.683245</td>\n",
       "    </tr>\n",
       "    <tr>\n",
       "      <th>3</th>\n",
       "      <td>3</td>\n",
       "      <td>3</td>\n",
       "      <td>4</td>\n",
       "      <td>Q100026</td>\n",
       "      <td>Q17372455-P279-Q100026-c2b1bf36-0</td>\n",
       "      <td>Q17372455</td>\n",
       "      <td>P279</td>\n",
       "      <td>1974 fighter aircraft family by General Dynamics</td>\n",
       "      <td>F-16E/F Desert Falcon</td>\n",
       "      <td>F-16 Fighting Falcon</td>\n",
       "      <td>export strike fighter series of the F-16 fight...</td>\n",
       "      <td>F-16E/F Desert Falcon export strike fighter se...</td>\n",
       "      <td>F-16 Fighting Falcon 1974 fighter aircraft fam...</td>\n",
       "      <td>[-4.99146163e-01  6.76080063e-02  3.48868877e-...</td>\n",
       "      <td>[ 1.79253638e-01  6.10661507e-01  8.33987653e-...</td>\n",
       "      <td>0.689516</td>\n",
       "    </tr>\n",
       "    <tr>\n",
       "      <th>4</th>\n",
       "      <td>4</td>\n",
       "      <td>4</td>\n",
       "      <td>5</td>\n",
       "      <td>Q100026</td>\n",
       "      <td>Q2029940-P279-Q100026-ceba4380-0</td>\n",
       "      <td>Q2029940</td>\n",
       "      <td>P279</td>\n",
       "      <td>1974 fighter aircraft family by General Dynamics</td>\n",
       "      <td>F-16 VISTA</td>\n",
       "      <td>F-16 Fighting Falcon</td>\n",
       "      <td>experimental aircraft</td>\n",
       "      <td>F-16 VISTA experimental aircraft</td>\n",
       "      <td>F-16 Fighting Falcon 1974 fighter aircraft fam...</td>\n",
       "      <td>[-1.47221148e-01  9.54690054e-02  1.05311513e+...</td>\n",
       "      <td>[ 1.79253638e-01  6.10661507e-01  8.33987653e-...</td>\n",
       "      <td>0.603161</td>\n",
       "    </tr>\n",
       "  </tbody>\n",
       "</table>\n",
       "</div>"
      ],
      "text/plain": [
       "   Unnamed: 0  Unnamed: 0.1  index    node2  \\\n",
       "0           0             0      1  Q100026   \n",
       "1           1             1      2  Q100026   \n",
       "2           2             2      3  Q100026   \n",
       "3           3             3      4  Q100026   \n",
       "4           4             4      5  Q100026   \n",
       "\n",
       "                                  id      node1 label  \\\n",
       "0  Q17372279-P279-Q100026-beba8cd1-0  Q17372279  P279   \n",
       "1  Q17372377-P279-Q100026-fd42bd71-0  Q17372377  P279   \n",
       "2  Q17372444-P279-Q100026-ca0fc4bd-0  Q17372444  P279   \n",
       "3  Q17372455-P279-Q100026-c2b1bf36-0  Q17372455  P279   \n",
       "4   Q2029940-P279-Q100026-ceba4380-0   Q2029940  P279   \n",
       "\n",
       "                                         node2_desc              node1_label  \\\n",
       "0  1974 fighter aircraft family by General Dynamics                    YF-16   \n",
       "1  1974 fighter aircraft family by General Dynamics  F-16A/B Fighting Falcon   \n",
       "2  1974 fighter aircraft family by General Dynamics  F-16C/D Fighting Falcon   \n",
       "3  1974 fighter aircraft family by General Dynamics    F-16E/F Desert Falcon   \n",
       "4  1974 fighter aircraft family by General Dynamics               F-16 VISTA   \n",
       "\n",
       "            node2_label                                         node1_desc  \\\n",
       "0  F-16 Fighting Falcon     initial prototype of the F-16 fighter aircraft   \n",
       "1  F-16 Fighting Falcon        initial series of the F-16 fighter aircraft   \n",
       "2  F-16 Fighting Falcon      multirole series of the F-16 fighter aircraft   \n",
       "3  F-16 Fighting Falcon  export strike fighter series of the F-16 fight...   \n",
       "4  F-16 Fighting Falcon                              experimental aircraft   \n",
       "\n",
       "                                       node1_labDesc  \\\n",
       "0  YF-16 initial prototype of the F-16 fighter ai...   \n",
       "1  F-16A/B Fighting Falcon initial series of the ...   \n",
       "2  F-16C/D Fighting Falcon multirole series of th...   \n",
       "3  F-16E/F Desert Falcon export strike fighter se...   \n",
       "4                   F-16 VISTA experimental aircraft   \n",
       "\n",
       "                                       node2_labDesc  \\\n",
       "0  F-16 Fighting Falcon 1974 fighter aircraft fam...   \n",
       "1  F-16 Fighting Falcon 1974 fighter aircraft fam...   \n",
       "2  F-16 Fighting Falcon 1974 fighter aircraft fam...   \n",
       "3  F-16 Fighting Falcon 1974 fighter aircraft fam...   \n",
       "4  F-16 Fighting Falcon 1974 fighter aircraft fam...   \n",
       "\n",
       "                                           node1_emb  \\\n",
       "0  [-5.89544833e-01  1.19935878e-01  3.76383096e-...   \n",
       "1  [-6.08038664e-01  5.00908047e-02  5.60190260e-...   \n",
       "2  [-5.40582001e-01  1.56212196e-01  5.69522917e-...   \n",
       "3  [-4.99146163e-01  6.76080063e-02  3.48868877e-...   \n",
       "4  [-1.47221148e-01  9.54690054e-02  1.05311513e+...   \n",
       "\n",
       "                                           node2_emb  bert2SentSim  \n",
       "0  [ 1.79253638e-01  6.10661507e-01  8.33987653e-...      0.666525  \n",
       "1  [ 1.79253891e-01  6.10661447e-01  8.33987534e-...      0.700515  \n",
       "2  [ 1.79253638e-01  6.10661507e-01  8.33987653e-...      0.683245  \n",
       "3  [ 1.79253638e-01  6.10661507e-01  8.33987653e-...      0.689516  \n",
       "4  [ 1.79253638e-01  6.10661507e-01  8.33987653e-...      0.603161  "
      ]
     },
     "execution_count": 59,
     "metadata": {},
     "output_type": "execute_result"
    }
   ],
   "source": [
    "hierDF_transP279_filtered1 = pd.read_csv('../data/Master_P279_dataset/P279ChildPar_transP279_filtered.csv')\n",
    "hierDF_transP279_filtered1.head()"
   ]
  },
  {
   "cell_type": "code",
   "execution_count": 60,
   "id": "automated-science",
   "metadata": {},
   "outputs": [],
   "source": [
    "hierDF_transP279_filtered1[['id', 'node1', 'label', 'node2', 'bert2SentSim']].to_csv('../data/Master_P279_dataset/P279ChildPar_transP279_filtered_min_cols.csv')"
   ]
  },
  {
   "cell_type": "code",
   "execution_count": 61,
   "id": "three-highland",
   "metadata": {},
   "outputs": [
    {
     "data": {
      "text/plain": [
       "count    303284.000000\n",
       "mean          0.623925\n",
       "std           0.176450\n",
       "min          -0.111115\n",
       "25%           0.496446\n",
       "50%           0.630122\n",
       "75%           0.751900\n",
       "max           1.000000\n",
       "Name: bert2SentSim, dtype: float64"
      ]
     },
     "execution_count": 61,
     "metadata": {},
     "output_type": "execute_result"
    }
   ],
   "source": [
    "hierDF_transP279_filtered1['bert2SentSim'].describe()"
   ]
  },
  {
   "cell_type": "code",
   "execution_count": null,
   "id": "undefined-basement",
   "metadata": {},
   "outputs": [],
   "source": []
  },
  {
   "cell_type": "markdown",
   "id": "broken-latex",
   "metadata": {},
   "source": [
    "## Correct bertsim values"
   ]
  },
  {
   "cell_type": "code",
   "execution_count": 3,
   "id": "english-alfred",
   "metadata": {},
   "outputs": [],
   "source": [
    "hierDF = pd.read_csv('../data/Master_P279_dataset/P279ChildPar_filtered.bert.base.csv')"
   ]
  },
  {
   "cell_type": "code",
   "execution_count": 4,
   "id": "declared-browser",
   "metadata": {},
   "outputs": [
    {
     "data": {
      "text/html": [
       "<div>\n",
       "<style scoped>\n",
       "    .dataframe tbody tr th:only-of-type {\n",
       "        vertical-align: middle;\n",
       "    }\n",
       "\n",
       "    .dataframe tbody tr th {\n",
       "        vertical-align: top;\n",
       "    }\n",
       "\n",
       "    .dataframe thead th {\n",
       "        text-align: right;\n",
       "    }\n",
       "</style>\n",
       "<table border=\"1\" class=\"dataframe\">\n",
       "  <thead>\n",
       "    <tr style=\"text-align: right;\">\n",
       "      <th></th>\n",
       "      <th>Unnamed: 0</th>\n",
       "      <th>Unnamed: 0.1</th>\n",
       "      <th>index</th>\n",
       "      <th>node2</th>\n",
       "      <th>id</th>\n",
       "      <th>node1</th>\n",
       "      <th>label</th>\n",
       "      <th>node2_desc</th>\n",
       "      <th>node1_label</th>\n",
       "      <th>node2_label</th>\n",
       "      <th>node1_desc</th>\n",
       "      <th>node1_labDesc</th>\n",
       "      <th>node2_labDesc</th>\n",
       "      <th>node1_emb</th>\n",
       "      <th>node2_emb</th>\n",
       "      <th>bert2SentSim</th>\n",
       "    </tr>\n",
       "  </thead>\n",
       "  <tbody>\n",
       "    <tr>\n",
       "      <th>0</th>\n",
       "      <td>0</td>\n",
       "      <td>0</td>\n",
       "      <td>1</td>\n",
       "      <td>Q100026</td>\n",
       "      <td>Q17372279-P279-Q100026-beba8cd1-0</td>\n",
       "      <td>Q17372279</td>\n",
       "      <td>P279</td>\n",
       "      <td>1974 fighter aircraft family by General Dynamics</td>\n",
       "      <td>YF-16</td>\n",
       "      <td>F-16 Fighting Falcon</td>\n",
       "      <td>initial prototype of the F-16 fighter aircraft</td>\n",
       "      <td>YF-16 initial prototype of the F-16 fighter ai...</td>\n",
       "      <td>F-16 Fighting Falcon 1974 fighter aircraft fam...</td>\n",
       "      <td>[-5.89544833e-01  1.19935878e-01  3.76383096e-...</td>\n",
       "      <td>[ 1.79253638e-01  6.10661507e-01  8.33987653e-...</td>\n",
       "      <td>0.666525</td>\n",
       "    </tr>\n",
       "    <tr>\n",
       "      <th>1</th>\n",
       "      <td>1</td>\n",
       "      <td>1</td>\n",
       "      <td>2</td>\n",
       "      <td>Q100026</td>\n",
       "      <td>Q17372377-P279-Q100026-fd42bd71-0</td>\n",
       "      <td>Q17372377</td>\n",
       "      <td>P279</td>\n",
       "      <td>1974 fighter aircraft family by General Dynamics</td>\n",
       "      <td>F-16A/B Fighting Falcon</td>\n",
       "      <td>F-16 Fighting Falcon</td>\n",
       "      <td>initial series of the F-16 fighter aircraft</td>\n",
       "      <td>F-16A/B Fighting Falcon initial series of the ...</td>\n",
       "      <td>F-16 Fighting Falcon 1974 fighter aircraft fam...</td>\n",
       "      <td>[-6.08038664e-01  5.00908047e-02  5.60190260e-...</td>\n",
       "      <td>[ 1.79253891e-01  6.10661447e-01  8.33987534e-...</td>\n",
       "      <td>0.700515</td>\n",
       "    </tr>\n",
       "    <tr>\n",
       "      <th>2</th>\n",
       "      <td>2</td>\n",
       "      <td>2</td>\n",
       "      <td>3</td>\n",
       "      <td>Q100026</td>\n",
       "      <td>Q17372444-P279-Q100026-ca0fc4bd-0</td>\n",
       "      <td>Q17372444</td>\n",
       "      <td>P279</td>\n",
       "      <td>1974 fighter aircraft family by General Dynamics</td>\n",
       "      <td>F-16C/D Fighting Falcon</td>\n",
       "      <td>F-16 Fighting Falcon</td>\n",
       "      <td>multirole series of the F-16 fighter aircraft</td>\n",
       "      <td>F-16C/D Fighting Falcon multirole series of th...</td>\n",
       "      <td>F-16 Fighting Falcon 1974 fighter aircraft fam...</td>\n",
       "      <td>[-5.40582001e-01  1.56212196e-01  5.69522917e-...</td>\n",
       "      <td>[ 1.79253638e-01  6.10661507e-01  8.33987653e-...</td>\n",
       "      <td>0.683245</td>\n",
       "    </tr>\n",
       "    <tr>\n",
       "      <th>3</th>\n",
       "      <td>3</td>\n",
       "      <td>3</td>\n",
       "      <td>4</td>\n",
       "      <td>Q100026</td>\n",
       "      <td>Q17372455-P279-Q100026-c2b1bf36-0</td>\n",
       "      <td>Q17372455</td>\n",
       "      <td>P279</td>\n",
       "      <td>1974 fighter aircraft family by General Dynamics</td>\n",
       "      <td>F-16E/F Desert Falcon</td>\n",
       "      <td>F-16 Fighting Falcon</td>\n",
       "      <td>export strike fighter series of the F-16 fight...</td>\n",
       "      <td>F-16E/F Desert Falcon export strike fighter se...</td>\n",
       "      <td>F-16 Fighting Falcon 1974 fighter aircraft fam...</td>\n",
       "      <td>[-4.99146163e-01  6.76080063e-02  3.48868877e-...</td>\n",
       "      <td>[ 1.79253638e-01  6.10661507e-01  8.33987653e-...</td>\n",
       "      <td>0.689516</td>\n",
       "    </tr>\n",
       "    <tr>\n",
       "      <th>4</th>\n",
       "      <td>4</td>\n",
       "      <td>4</td>\n",
       "      <td>5</td>\n",
       "      <td>Q100026</td>\n",
       "      <td>Q2029940-P279-Q100026-ceba4380-0</td>\n",
       "      <td>Q2029940</td>\n",
       "      <td>P279</td>\n",
       "      <td>1974 fighter aircraft family by General Dynamics</td>\n",
       "      <td>F-16 VISTA</td>\n",
       "      <td>F-16 Fighting Falcon</td>\n",
       "      <td>experimental aircraft</td>\n",
       "      <td>F-16 VISTA experimental aircraft</td>\n",
       "      <td>F-16 Fighting Falcon 1974 fighter aircraft fam...</td>\n",
       "      <td>[-1.47221148e-01  9.54690054e-02  1.05311513e+...</td>\n",
       "      <td>[ 1.79253638e-01  6.10661507e-01  8.33987653e-...</td>\n",
       "      <td>0.603161</td>\n",
       "    </tr>\n",
       "  </tbody>\n",
       "</table>\n",
       "</div>"
      ],
      "text/plain": [
       "   Unnamed: 0  Unnamed: 0.1  index    node2  \\\n",
       "0           0             0      1  Q100026   \n",
       "1           1             1      2  Q100026   \n",
       "2           2             2      3  Q100026   \n",
       "3           3             3      4  Q100026   \n",
       "4           4             4      5  Q100026   \n",
       "\n",
       "                                  id      node1 label  \\\n",
       "0  Q17372279-P279-Q100026-beba8cd1-0  Q17372279  P279   \n",
       "1  Q17372377-P279-Q100026-fd42bd71-0  Q17372377  P279   \n",
       "2  Q17372444-P279-Q100026-ca0fc4bd-0  Q17372444  P279   \n",
       "3  Q17372455-P279-Q100026-c2b1bf36-0  Q17372455  P279   \n",
       "4   Q2029940-P279-Q100026-ceba4380-0   Q2029940  P279   \n",
       "\n",
       "                                         node2_desc              node1_label  \\\n",
       "0  1974 fighter aircraft family by General Dynamics                    YF-16   \n",
       "1  1974 fighter aircraft family by General Dynamics  F-16A/B Fighting Falcon   \n",
       "2  1974 fighter aircraft family by General Dynamics  F-16C/D Fighting Falcon   \n",
       "3  1974 fighter aircraft family by General Dynamics    F-16E/F Desert Falcon   \n",
       "4  1974 fighter aircraft family by General Dynamics               F-16 VISTA   \n",
       "\n",
       "            node2_label                                         node1_desc  \\\n",
       "0  F-16 Fighting Falcon     initial prototype of the F-16 fighter aircraft   \n",
       "1  F-16 Fighting Falcon        initial series of the F-16 fighter aircraft   \n",
       "2  F-16 Fighting Falcon      multirole series of the F-16 fighter aircraft   \n",
       "3  F-16 Fighting Falcon  export strike fighter series of the F-16 fight...   \n",
       "4  F-16 Fighting Falcon                              experimental aircraft   \n",
       "\n",
       "                                       node1_labDesc  \\\n",
       "0  YF-16 initial prototype of the F-16 fighter ai...   \n",
       "1  F-16A/B Fighting Falcon initial series of the ...   \n",
       "2  F-16C/D Fighting Falcon multirole series of th...   \n",
       "3  F-16E/F Desert Falcon export strike fighter se...   \n",
       "4                   F-16 VISTA experimental aircraft   \n",
       "\n",
       "                                       node2_labDesc  \\\n",
       "0  F-16 Fighting Falcon 1974 fighter aircraft fam...   \n",
       "1  F-16 Fighting Falcon 1974 fighter aircraft fam...   \n",
       "2  F-16 Fighting Falcon 1974 fighter aircraft fam...   \n",
       "3  F-16 Fighting Falcon 1974 fighter aircraft fam...   \n",
       "4  F-16 Fighting Falcon 1974 fighter aircraft fam...   \n",
       "\n",
       "                                           node1_emb  \\\n",
       "0  [-5.89544833e-01  1.19935878e-01  3.76383096e-...   \n",
       "1  [-6.08038664e-01  5.00908047e-02  5.60190260e-...   \n",
       "2  [-5.40582001e-01  1.56212196e-01  5.69522917e-...   \n",
       "3  [-4.99146163e-01  6.76080063e-02  3.48868877e-...   \n",
       "4  [-1.47221148e-01  9.54690054e-02  1.05311513e+...   \n",
       "\n",
       "                                           node2_emb  bert2SentSim  \n",
       "0  [ 1.79253638e-01  6.10661507e-01  8.33987653e-...      0.666525  \n",
       "1  [ 1.79253891e-01  6.10661447e-01  8.33987534e-...      0.700515  \n",
       "2  [ 1.79253638e-01  6.10661507e-01  8.33987653e-...      0.683245  \n",
       "3  [ 1.79253638e-01  6.10661507e-01  8.33987653e-...      0.689516  \n",
       "4  [ 1.79253638e-01  6.10661507e-01  8.33987653e-...      0.603161  "
      ]
     },
     "execution_count": 4,
     "metadata": {},
     "output_type": "execute_result"
    }
   ],
   "source": [
    "hierDF.head()"
   ]
  },
  {
   "cell_type": "code",
   "execution_count": 5,
   "id": "matched-general",
   "metadata": {},
   "outputs": [],
   "source": [
    "from sentence_transformers import SentenceTransformer\n",
    "from sklearn.metrics.pairwise import cosine_similarity\n",
    "from time import time\n",
    "import pandas as pd\n",
    "\n",
    "def getSentEmbeddings(valSeries, modelName):\n",
    "    model = SentenceTransformer(modelName)\n",
    "    start = time()\n",
    "    encodings = model.encode(valSeries.to_list())\n",
    "    print(time()-start,'s')\n",
    "    return encodings"
   ]
  },
  {
   "cell_type": "code",
   "execution_count": 6,
   "id": "adult-license",
   "metadata": {},
   "outputs": [],
   "source": [
    "modelName = 'sentence-transformers/all-distilroberta-v1'"
   ]
  },
  {
   "cell_type": "code",
   "execution_count": 7,
   "id": "aquatic-broadcast",
   "metadata": {},
   "outputs": [],
   "source": [
    "hierDF = hierDF.reset_index()"
   ]
  },
  {
   "cell_type": "code",
   "execution_count": 8,
   "id": "grave-orientation",
   "metadata": {},
   "outputs": [
    {
     "data": {
      "text/plain": [
       "(0, 0)"
      ]
     },
     "execution_count": 8,
     "metadata": {},
     "output_type": "execute_result"
    }
   ],
   "source": [
    "hierDF.node1_labDesc.isna().sum(), hierDF.node2_labDesc.isna().sum()"
   ]
  },
  {
   "cell_type": "code",
   "execution_count": 9,
   "id": "desirable-coral",
   "metadata": {},
   "outputs": [
    {
     "name": "stderr",
     "output_type": "stream",
     "text": [
      "Exception when trying to download https://sbert.net/models/sentence-transformers/all-distilroberta-v1.zip. Response 404\n",
      "SentenceTransformer-Model https://sbert.net/models/sentence-transformers/all-distilroberta-v1.zip not found. Try to create it from scratch\n",
      "Try to create Transformer Model sentence-transformers/all-distilroberta-v1 with mean pooling\n"
     ]
    },
    {
     "name": "stdout",
     "output_type": "stream",
     "text": [
      "198.2163701057434 s\n"
     ]
    },
    {
     "name": "stderr",
     "output_type": "stream",
     "text": [
      "Exception when trying to download https://sbert.net/models/sentence-transformers/all-distilroberta-v1.zip. Response 404\n",
      "SentenceTransformer-Model https://sbert.net/models/sentence-transformers/all-distilroberta-v1.zip not found. Try to create it from scratch\n",
      "Try to create Transformer Model sentence-transformers/all-distilroberta-v1 with mean pooling\n"
     ]
    },
    {
     "name": "stdout",
     "output_type": "stream",
     "text": [
      "157.96648454666138 s\n"
     ]
    }
   ],
   "source": [
    "hierDF['node1_emb'] = pd.Series(list(getSentEmbeddings(hierDF.node1_labDesc, modelName)))\n",
    "hierDF['node2_emb'] = pd.Series(list(getSentEmbeddings(hierDF.node2_labDesc, modelName)))"
   ]
  },
  {
   "cell_type": "code",
   "execution_count": 10,
   "id": "eligible-forestry",
   "metadata": {},
   "outputs": [
    {
     "data": {
      "text/html": [
       "<div>\n",
       "<style scoped>\n",
       "    .dataframe tbody tr th:only-of-type {\n",
       "        vertical-align: middle;\n",
       "    }\n",
       "\n",
       "    .dataframe tbody tr th {\n",
       "        vertical-align: top;\n",
       "    }\n",
       "\n",
       "    .dataframe thead th {\n",
       "        text-align: right;\n",
       "    }\n",
       "</style>\n",
       "<table border=\"1\" class=\"dataframe\">\n",
       "  <thead>\n",
       "    <tr style=\"text-align: right;\">\n",
       "      <th></th>\n",
       "      <th>level_0</th>\n",
       "      <th>Unnamed: 0</th>\n",
       "      <th>Unnamed: 0.1</th>\n",
       "      <th>index</th>\n",
       "      <th>node2</th>\n",
       "      <th>id</th>\n",
       "      <th>node1</th>\n",
       "      <th>label</th>\n",
       "      <th>node2_desc</th>\n",
       "      <th>node1_label</th>\n",
       "      <th>node2_label</th>\n",
       "      <th>node1_desc</th>\n",
       "      <th>node1_labDesc</th>\n",
       "      <th>node2_labDesc</th>\n",
       "      <th>node1_emb</th>\n",
       "      <th>node2_emb</th>\n",
       "      <th>bert2SentSim</th>\n",
       "    </tr>\n",
       "  </thead>\n",
       "  <tbody>\n",
       "    <tr>\n",
       "      <th>0</th>\n",
       "      <td>0</td>\n",
       "      <td>0</td>\n",
       "      <td>0</td>\n",
       "      <td>1</td>\n",
       "      <td>Q100026</td>\n",
       "      <td>Q17372279-P279-Q100026-beba8cd1-0</td>\n",
       "      <td>Q17372279</td>\n",
       "      <td>P279</td>\n",
       "      <td>1974 fighter aircraft family by General Dynamics</td>\n",
       "      <td>YF-16</td>\n",
       "      <td>F-16 Fighting Falcon</td>\n",
       "      <td>initial prototype of the F-16 fighter aircraft</td>\n",
       "      <td>YF-16 initial prototype of the F-16 fighter ai...</td>\n",
       "      <td>F-16 Fighting Falcon 1974 fighter aircraft fam...</td>\n",
       "      <td>[-0.0003191034, -0.31257066, 0.4071588, 0.4445...</td>\n",
       "      <td>[-0.26255214, -0.14327924, 0.36980763, 0.37005...</td>\n",
       "      <td>0.666525</td>\n",
       "    </tr>\n",
       "    <tr>\n",
       "      <th>1</th>\n",
       "      <td>1</td>\n",
       "      <td>1</td>\n",
       "      <td>1</td>\n",
       "      <td>2</td>\n",
       "      <td>Q100026</td>\n",
       "      <td>Q17372377-P279-Q100026-fd42bd71-0</td>\n",
       "      <td>Q17372377</td>\n",
       "      <td>P279</td>\n",
       "      <td>1974 fighter aircraft family by General Dynamics</td>\n",
       "      <td>F-16A/B Fighting Falcon</td>\n",
       "      <td>F-16 Fighting Falcon</td>\n",
       "      <td>initial series of the F-16 fighter aircraft</td>\n",
       "      <td>F-16A/B Fighting Falcon initial series of the ...</td>\n",
       "      <td>F-16 Fighting Falcon 1974 fighter aircraft fam...</td>\n",
       "      <td>[-0.066474006, -0.17350458, 0.24638148, 0.4571...</td>\n",
       "      <td>[-0.26255214, -0.14327924, 0.36980763, 0.37005...</td>\n",
       "      <td>0.700515</td>\n",
       "    </tr>\n",
       "    <tr>\n",
       "      <th>2</th>\n",
       "      <td>2</td>\n",
       "      <td>2</td>\n",
       "      <td>2</td>\n",
       "      <td>3</td>\n",
       "      <td>Q100026</td>\n",
       "      <td>Q17372444-P279-Q100026-ca0fc4bd-0</td>\n",
       "      <td>Q17372444</td>\n",
       "      <td>P279</td>\n",
       "      <td>1974 fighter aircraft family by General Dynamics</td>\n",
       "      <td>F-16C/D Fighting Falcon</td>\n",
       "      <td>F-16 Fighting Falcon</td>\n",
       "      <td>multirole series of the F-16 fighter aircraft</td>\n",
       "      <td>F-16C/D Fighting Falcon multirole series of th...</td>\n",
       "      <td>F-16 Fighting Falcon 1974 fighter aircraft fam...</td>\n",
       "      <td>[-0.11043589, -0.09184384, 0.24768801, 0.26410...</td>\n",
       "      <td>[-0.26255214, -0.14327924, 0.36980763, 0.37005...</td>\n",
       "      <td>0.683245</td>\n",
       "    </tr>\n",
       "    <tr>\n",
       "      <th>3</th>\n",
       "      <td>3</td>\n",
       "      <td>3</td>\n",
       "      <td>3</td>\n",
       "      <td>4</td>\n",
       "      <td>Q100026</td>\n",
       "      <td>Q17372455-P279-Q100026-c2b1bf36-0</td>\n",
       "      <td>Q17372455</td>\n",
       "      <td>P279</td>\n",
       "      <td>1974 fighter aircraft family by General Dynamics</td>\n",
       "      <td>F-16E/F Desert Falcon</td>\n",
       "      <td>F-16 Fighting Falcon</td>\n",
       "      <td>export strike fighter series of the F-16 fight...</td>\n",
       "      <td>F-16E/F Desert Falcon export strike fighter se...</td>\n",
       "      <td>F-16 Fighting Falcon 1974 fighter aircraft fam...</td>\n",
       "      <td>[-0.40679306, -0.026886435, 0.032887965, 0.641...</td>\n",
       "      <td>[-0.26255214, -0.14327924, 0.36980763, 0.37005...</td>\n",
       "      <td>0.689516</td>\n",
       "    </tr>\n",
       "    <tr>\n",
       "      <th>4</th>\n",
       "      <td>4</td>\n",
       "      <td>4</td>\n",
       "      <td>4</td>\n",
       "      <td>5</td>\n",
       "      <td>Q100026</td>\n",
       "      <td>Q2029940-P279-Q100026-ceba4380-0</td>\n",
       "      <td>Q2029940</td>\n",
       "      <td>P279</td>\n",
       "      <td>1974 fighter aircraft family by General Dynamics</td>\n",
       "      <td>F-16 VISTA</td>\n",
       "      <td>F-16 Fighting Falcon</td>\n",
       "      <td>experimental aircraft</td>\n",
       "      <td>F-16 VISTA experimental aircraft</td>\n",
       "      <td>F-16 Fighting Falcon 1974 fighter aircraft fam...</td>\n",
       "      <td>[-0.18904611, 0.10738096, 0.30325654, 0.650738...</td>\n",
       "      <td>[-0.26255214, -0.14327924, 0.36980763, 0.37005...</td>\n",
       "      <td>0.603161</td>\n",
       "    </tr>\n",
       "  </tbody>\n",
       "</table>\n",
       "</div>"
      ],
      "text/plain": [
       "   level_0  Unnamed: 0  Unnamed: 0.1  index    node2  \\\n",
       "0        0           0             0      1  Q100026   \n",
       "1        1           1             1      2  Q100026   \n",
       "2        2           2             2      3  Q100026   \n",
       "3        3           3             3      4  Q100026   \n",
       "4        4           4             4      5  Q100026   \n",
       "\n",
       "                                  id      node1 label  \\\n",
       "0  Q17372279-P279-Q100026-beba8cd1-0  Q17372279  P279   \n",
       "1  Q17372377-P279-Q100026-fd42bd71-0  Q17372377  P279   \n",
       "2  Q17372444-P279-Q100026-ca0fc4bd-0  Q17372444  P279   \n",
       "3  Q17372455-P279-Q100026-c2b1bf36-0  Q17372455  P279   \n",
       "4   Q2029940-P279-Q100026-ceba4380-0   Q2029940  P279   \n",
       "\n",
       "                                         node2_desc              node1_label  \\\n",
       "0  1974 fighter aircraft family by General Dynamics                    YF-16   \n",
       "1  1974 fighter aircraft family by General Dynamics  F-16A/B Fighting Falcon   \n",
       "2  1974 fighter aircraft family by General Dynamics  F-16C/D Fighting Falcon   \n",
       "3  1974 fighter aircraft family by General Dynamics    F-16E/F Desert Falcon   \n",
       "4  1974 fighter aircraft family by General Dynamics               F-16 VISTA   \n",
       "\n",
       "            node2_label                                         node1_desc  \\\n",
       "0  F-16 Fighting Falcon     initial prototype of the F-16 fighter aircraft   \n",
       "1  F-16 Fighting Falcon        initial series of the F-16 fighter aircraft   \n",
       "2  F-16 Fighting Falcon      multirole series of the F-16 fighter aircraft   \n",
       "3  F-16 Fighting Falcon  export strike fighter series of the F-16 fight...   \n",
       "4  F-16 Fighting Falcon                              experimental aircraft   \n",
       "\n",
       "                                       node1_labDesc  \\\n",
       "0  YF-16 initial prototype of the F-16 fighter ai...   \n",
       "1  F-16A/B Fighting Falcon initial series of the ...   \n",
       "2  F-16C/D Fighting Falcon multirole series of th...   \n",
       "3  F-16E/F Desert Falcon export strike fighter se...   \n",
       "4                   F-16 VISTA experimental aircraft   \n",
       "\n",
       "                                       node2_labDesc  \\\n",
       "0  F-16 Fighting Falcon 1974 fighter aircraft fam...   \n",
       "1  F-16 Fighting Falcon 1974 fighter aircraft fam...   \n",
       "2  F-16 Fighting Falcon 1974 fighter aircraft fam...   \n",
       "3  F-16 Fighting Falcon 1974 fighter aircraft fam...   \n",
       "4  F-16 Fighting Falcon 1974 fighter aircraft fam...   \n",
       "\n",
       "                                           node1_emb  \\\n",
       "0  [-0.0003191034, -0.31257066, 0.4071588, 0.4445...   \n",
       "1  [-0.066474006, -0.17350458, 0.24638148, 0.4571...   \n",
       "2  [-0.11043589, -0.09184384, 0.24768801, 0.26410...   \n",
       "3  [-0.40679306, -0.026886435, 0.032887965, 0.641...   \n",
       "4  [-0.18904611, 0.10738096, 0.30325654, 0.650738...   \n",
       "\n",
       "                                           node2_emb  bert2SentSim  \n",
       "0  [-0.26255214, -0.14327924, 0.36980763, 0.37005...      0.666525  \n",
       "1  [-0.26255214, -0.14327924, 0.36980763, 0.37005...      0.700515  \n",
       "2  [-0.26255214, -0.14327924, 0.36980763, 0.37005...      0.683245  \n",
       "3  [-0.26255214, -0.14327924, 0.36980763, 0.37005...      0.689516  \n",
       "4  [-0.26255214, -0.14327924, 0.36980763, 0.37005...      0.603161  "
      ]
     },
     "execution_count": 10,
     "metadata": {},
     "output_type": "execute_result"
    }
   ],
   "source": [
    "hierDF.head()"
   ]
  },
  {
   "cell_type": "code",
   "execution_count": 11,
   "id": "interested-chaos",
   "metadata": {},
   "outputs": [
    {
     "data": {
      "text/plain": [
       "(0, 0)"
      ]
     },
     "execution_count": 11,
     "metadata": {},
     "output_type": "execute_result"
    }
   ],
   "source": [
    "hierDF.node1_emb.isna().sum(), hierDF.node2_emb.isna().sum()"
   ]
  },
  {
   "cell_type": "code",
   "execution_count": 12,
   "id": "separated-accountability",
   "metadata": {},
   "outputs": [],
   "source": [
    "hierDF['similarity_value'] = hierDF.apply(lambda p: cosine_similarity(p.node1_emb.reshape(1,-1), p.node2_emb.reshape(1,-1))[0][0], axis=1)"
   ]
  },
  {
   "cell_type": "code",
   "execution_count": 17,
   "id": "subject-appendix",
   "metadata": {},
   "outputs": [],
   "source": [
    "hierDF.to_csv('../data/Master_P279_dataset/P279ChildPar_filtered.csv')"
   ]
  },
  {
   "cell_type": "code",
   "execution_count": null,
   "id": "applied-connection",
   "metadata": {},
   "outputs": [],
   "source": []
  },
  {
   "cell_type": "code",
   "execution_count": null,
   "id": "obvious-arkansas",
   "metadata": {},
   "outputs": [],
   "source": []
  },
  {
   "cell_type": "code",
   "execution_count": null,
   "id": "tight-price",
   "metadata": {},
   "outputs": [],
   "source": []
  },
  {
   "cell_type": "code",
   "execution_count": null,
   "id": "sacred-youth",
   "metadata": {},
   "outputs": [],
   "source": []
  },
  {
   "cell_type": "code",
   "execution_count": null,
   "id": "curious-shade",
   "metadata": {},
   "outputs": [],
   "source": []
  },
  {
   "cell_type": "markdown",
   "id": "broke-tolerance",
   "metadata": {},
   "source": [
    "# P279 Siblings Dataset"
   ]
  },
  {
   "cell_type": "code",
   "execution_count": 44,
   "id": "romantic-corporation",
   "metadata": {},
   "outputs": [],
   "source": [
    "# hierDF_dirP279_filtered = pd.read_csv('../data/Master_P279_dataset/P279ChildPar_dirP279_filtered_baremetal.csv')"
   ]
  },
  {
   "cell_type": "code",
   "execution_count": 2,
   "id": "going-custom",
   "metadata": {},
   "outputs": [],
   "source": [
    "hierDF_transP279_filtered = pd.read_csv('../data/Master_P279_dataset/P279ChildPar_transP279_filtered_baremetal.csv')"
   ]
  },
  {
   "cell_type": "code",
   "execution_count": 46,
   "id": "normal-playback",
   "metadata": {},
   "outputs": [
    {
     "data": {
      "text/html": [
       "<div>\n",
       "<style scoped>\n",
       "    .dataframe tbody tr th:only-of-type {\n",
       "        vertical-align: middle;\n",
       "    }\n",
       "\n",
       "    .dataframe tbody tr th {\n",
       "        vertical-align: top;\n",
       "    }\n",
       "\n",
       "    .dataframe thead th {\n",
       "        text-align: right;\n",
       "    }\n",
       "</style>\n",
       "<table border=\"1\" class=\"dataframe\">\n",
       "  <thead>\n",
       "    <tr style=\"text-align: right;\">\n",
       "      <th></th>\n",
       "      <th>Unnamed: 0</th>\n",
       "      <th>id</th>\n",
       "      <th>node1</th>\n",
       "      <th>label</th>\n",
       "      <th>node2</th>\n",
       "    </tr>\n",
       "  </thead>\n",
       "  <tbody>\n",
       "    <tr>\n",
       "      <th>0</th>\n",
       "      <td>0</td>\n",
       "      <td>Q17372279-P279-Q100026-beba8cd1-0</td>\n",
       "      <td>Q17372279</td>\n",
       "      <td>P279</td>\n",
       "      <td>Q100026</td>\n",
       "    </tr>\n",
       "    <tr>\n",
       "      <th>1</th>\n",
       "      <td>1</td>\n",
       "      <td>Q17372377-P279-Q100026-fd42bd71-0</td>\n",
       "      <td>Q17372377</td>\n",
       "      <td>P279</td>\n",
       "      <td>Q100026</td>\n",
       "    </tr>\n",
       "    <tr>\n",
       "      <th>2</th>\n",
       "      <td>2</td>\n",
       "      <td>Q17372444-P279-Q100026-ca0fc4bd-0</td>\n",
       "      <td>Q17372444</td>\n",
       "      <td>P279</td>\n",
       "      <td>Q100026</td>\n",
       "    </tr>\n",
       "    <tr>\n",
       "      <th>3</th>\n",
       "      <td>3</td>\n",
       "      <td>Q17372455-P279-Q100026-c2b1bf36-0</td>\n",
       "      <td>Q17372455</td>\n",
       "      <td>P279</td>\n",
       "      <td>Q100026</td>\n",
       "    </tr>\n",
       "    <tr>\n",
       "      <th>4</th>\n",
       "      <td>4</td>\n",
       "      <td>Q2029940-P279-Q100026-ceba4380-0</td>\n",
       "      <td>Q2029940</td>\n",
       "      <td>P279</td>\n",
       "      <td>Q100026</td>\n",
       "    </tr>\n",
       "  </tbody>\n",
       "</table>\n",
       "</div>"
      ],
      "text/plain": [
       "   Unnamed: 0                                 id      node1 label    node2\n",
       "0           0  Q17372279-P279-Q100026-beba8cd1-0  Q17372279  P279  Q100026\n",
       "1           1  Q17372377-P279-Q100026-fd42bd71-0  Q17372377  P279  Q100026\n",
       "2           2  Q17372444-P279-Q100026-ca0fc4bd-0  Q17372444  P279  Q100026\n",
       "3           3  Q17372455-P279-Q100026-c2b1bf36-0  Q17372455  P279  Q100026\n",
       "4           4   Q2029940-P279-Q100026-ceba4380-0   Q2029940  P279  Q100026"
      ]
     },
     "execution_count": 46,
     "metadata": {},
     "output_type": "execute_result"
    }
   ],
   "source": [
    "hierDF_transP279_filtered.head()"
   ]
  },
  {
   "cell_type": "code",
   "execution_count": 3,
   "id": "interpreted-elimination",
   "metadata": {},
   "outputs": [],
   "source": [
    "# hierDF_dirP279_filtered_left = hierDF_dirP279_filtered.set_index('node2')\n",
    "# hierDF_dirP279_filtered_right = hierDF_dirP279_filtered_left.copy()\n",
    "\n",
    "hierDF_transP279_filtered_left = hierDF_transP279_filtered.set_index('node2')\n",
    "hierDF_transP279_filtered_right = hierDF_transP279_filtered.copy().set_index('node2')"
   ]
  },
  {
   "cell_type": "code",
   "execution_count": 4,
   "id": "constant-thread",
   "metadata": {},
   "outputs": [],
   "source": [
    "# hierDF_dirP279_filtered_sibs = hierDF_dirP279_filtered_left.join(hierDF_dirP279_filtered_right, rsuffix='_right')"
   ]
  },
  {
   "cell_type": "code",
   "execution_count": 5,
   "id": "charitable-thesaurus",
   "metadata": {},
   "outputs": [
    {
     "name": "stdout",
     "output_type": "stream",
     "text": [
      "CPU times: user 19.2 s, sys: 12.7 s, total: 31.8 s\n",
      "Wall time: 31.8 s\n"
     ]
    }
   ],
   "source": [
    "%%time\n",
    "hierDF_transP279_filtered_sibs = hierDF_transP279_filtered_left.join(hierDF_transP279_filtered_right, rsuffix='_right')"
   ]
  },
  {
   "cell_type": "code",
   "execution_count": 6,
   "id": "consolidated-hampshire",
   "metadata": {},
   "outputs": [
    {
     "data": {
      "text/plain": [
       "109578774"
      ]
     },
     "execution_count": 6,
     "metadata": {},
     "output_type": "execute_result"
    }
   ],
   "source": [
    "len(hierDF_transP279_filtered_sibs)"
   ]
  },
  {
   "cell_type": "code",
   "execution_count": 7,
   "id": "blessed-microwave",
   "metadata": {},
   "outputs": [
    {
     "data": {
      "text/html": [
       "<div>\n",
       "<style scoped>\n",
       "    .dataframe tbody tr th:only-of-type {\n",
       "        vertical-align: middle;\n",
       "    }\n",
       "\n",
       "    .dataframe tbody tr th {\n",
       "        vertical-align: top;\n",
       "    }\n",
       "\n",
       "    .dataframe thead th {\n",
       "        text-align: right;\n",
       "    }\n",
       "</style>\n",
       "<table border=\"1\" class=\"dataframe\">\n",
       "  <thead>\n",
       "    <tr style=\"text-align: right;\">\n",
       "      <th></th>\n",
       "      <th>Unnamed: 0</th>\n",
       "      <th>id</th>\n",
       "      <th>node1</th>\n",
       "      <th>label</th>\n",
       "      <th>Unnamed: 0_right</th>\n",
       "      <th>id_right</th>\n",
       "      <th>node1_right</th>\n",
       "      <th>label_right</th>\n",
       "    </tr>\n",
       "    <tr>\n",
       "      <th>node2</th>\n",
       "      <th></th>\n",
       "      <th></th>\n",
       "      <th></th>\n",
       "      <th></th>\n",
       "      <th></th>\n",
       "      <th></th>\n",
       "      <th></th>\n",
       "      <th></th>\n",
       "    </tr>\n",
       "  </thead>\n",
       "  <tbody>\n",
       "    <tr>\n",
       "      <th>Q100026</th>\n",
       "      <td>0</td>\n",
       "      <td>Q17372279-P279-Q100026-beba8cd1-0</td>\n",
       "      <td>Q17372279</td>\n",
       "      <td>P279</td>\n",
       "      <td>0</td>\n",
       "      <td>Q17372279-P279-Q100026-beba8cd1-0</td>\n",
       "      <td>Q17372279</td>\n",
       "      <td>P279</td>\n",
       "    </tr>\n",
       "    <tr>\n",
       "      <th>Q100026</th>\n",
       "      <td>0</td>\n",
       "      <td>Q17372279-P279-Q100026-beba8cd1-0</td>\n",
       "      <td>Q17372279</td>\n",
       "      <td>P279</td>\n",
       "      <td>1</td>\n",
       "      <td>Q17372377-P279-Q100026-fd42bd71-0</td>\n",
       "      <td>Q17372377</td>\n",
       "      <td>P279</td>\n",
       "    </tr>\n",
       "    <tr>\n",
       "      <th>Q100026</th>\n",
       "      <td>0</td>\n",
       "      <td>Q17372279-P279-Q100026-beba8cd1-0</td>\n",
       "      <td>Q17372279</td>\n",
       "      <td>P279</td>\n",
       "      <td>2</td>\n",
       "      <td>Q17372444-P279-Q100026-ca0fc4bd-0</td>\n",
       "      <td>Q17372444</td>\n",
       "      <td>P279</td>\n",
       "    </tr>\n",
       "    <tr>\n",
       "      <th>Q100026</th>\n",
       "      <td>0</td>\n",
       "      <td>Q17372279-P279-Q100026-beba8cd1-0</td>\n",
       "      <td>Q17372279</td>\n",
       "      <td>P279</td>\n",
       "      <td>3</td>\n",
       "      <td>Q17372455-P279-Q100026-c2b1bf36-0</td>\n",
       "      <td>Q17372455</td>\n",
       "      <td>P279</td>\n",
       "    </tr>\n",
       "    <tr>\n",
       "      <th>Q100026</th>\n",
       "      <td>0</td>\n",
       "      <td>Q17372279-P279-Q100026-beba8cd1-0</td>\n",
       "      <td>Q17372279</td>\n",
       "      <td>P279</td>\n",
       "      <td>4</td>\n",
       "      <td>Q2029940-P279-Q100026-ceba4380-0</td>\n",
       "      <td>Q2029940</td>\n",
       "      <td>P279</td>\n",
       "    </tr>\n",
       "  </tbody>\n",
       "</table>\n",
       "</div>"
      ],
      "text/plain": [
       "         Unnamed: 0                                 id      node1 label  \\\n",
       "node2                                                                     \n",
       "Q100026           0  Q17372279-P279-Q100026-beba8cd1-0  Q17372279  P279   \n",
       "Q100026           0  Q17372279-P279-Q100026-beba8cd1-0  Q17372279  P279   \n",
       "Q100026           0  Q17372279-P279-Q100026-beba8cd1-0  Q17372279  P279   \n",
       "Q100026           0  Q17372279-P279-Q100026-beba8cd1-0  Q17372279  P279   \n",
       "Q100026           0  Q17372279-P279-Q100026-beba8cd1-0  Q17372279  P279   \n",
       "\n",
       "         Unnamed: 0_right                           id_right node1_right  \\\n",
       "node2                                                                      \n",
       "Q100026                 0  Q17372279-P279-Q100026-beba8cd1-0   Q17372279   \n",
       "Q100026                 1  Q17372377-P279-Q100026-fd42bd71-0   Q17372377   \n",
       "Q100026                 2  Q17372444-P279-Q100026-ca0fc4bd-0   Q17372444   \n",
       "Q100026                 3  Q17372455-P279-Q100026-c2b1bf36-0   Q17372455   \n",
       "Q100026                 4   Q2029940-P279-Q100026-ceba4380-0    Q2029940   \n",
       "\n",
       "        label_right  \n",
       "node2                \n",
       "Q100026        P279  \n",
       "Q100026        P279  \n",
       "Q100026        P279  \n",
       "Q100026        P279  \n",
       "Q100026        P279  "
      ]
     },
     "execution_count": 7,
     "metadata": {},
     "output_type": "execute_result"
    }
   ],
   "source": [
    "hierDF_transP279_filtered_sibs.head()"
   ]
  },
  {
   "cell_type": "code",
   "execution_count": 47,
   "id": "compliant-measure",
   "metadata": {},
   "outputs": [],
   "source": [
    "hierDF_transP279_filtered_sibs1 = hierDF_transP279_filtered_sibs.drop(columns=['Unnamed: 0', 'Unnamed: 0_right', 'label_right']).reset_index().rename(columns={'node2': 'par_node', 'node1_right': 'node2'})"
   ]
  },
  {
   "cell_type": "code",
   "execution_count": 48,
   "id": "anticipated-occasion",
   "metadata": {},
   "outputs": [
    {
     "data": {
      "text/html": [
       "<div>\n",
       "<style scoped>\n",
       "    .dataframe tbody tr th:only-of-type {\n",
       "        vertical-align: middle;\n",
       "    }\n",
       "\n",
       "    .dataframe tbody tr th {\n",
       "        vertical-align: top;\n",
       "    }\n",
       "\n",
       "    .dataframe thead th {\n",
       "        text-align: right;\n",
       "    }\n",
       "</style>\n",
       "<table border=\"1\" class=\"dataframe\">\n",
       "  <thead>\n",
       "    <tr style=\"text-align: right;\">\n",
       "      <th></th>\n",
       "      <th>par_node</th>\n",
       "      <th>id</th>\n",
       "      <th>node1</th>\n",
       "      <th>label</th>\n",
       "      <th>id_right</th>\n",
       "      <th>node2</th>\n",
       "    </tr>\n",
       "  </thead>\n",
       "  <tbody>\n",
       "    <tr>\n",
       "      <th>0</th>\n",
       "      <td>Q100026</td>\n",
       "      <td>Q17372279-P279-Q100026-beba8cd1-0</td>\n",
       "      <td>Q17372279</td>\n",
       "      <td>P279</td>\n",
       "      <td>Q17372279-P279-Q100026-beba8cd1-0</td>\n",
       "      <td>Q17372279</td>\n",
       "    </tr>\n",
       "    <tr>\n",
       "      <th>1</th>\n",
       "      <td>Q100026</td>\n",
       "      <td>Q17372279-P279-Q100026-beba8cd1-0</td>\n",
       "      <td>Q17372279</td>\n",
       "      <td>P279</td>\n",
       "      <td>Q17372377-P279-Q100026-fd42bd71-0</td>\n",
       "      <td>Q17372377</td>\n",
       "    </tr>\n",
       "    <tr>\n",
       "      <th>2</th>\n",
       "      <td>Q100026</td>\n",
       "      <td>Q17372279-P279-Q100026-beba8cd1-0</td>\n",
       "      <td>Q17372279</td>\n",
       "      <td>P279</td>\n",
       "      <td>Q17372444-P279-Q100026-ca0fc4bd-0</td>\n",
       "      <td>Q17372444</td>\n",
       "    </tr>\n",
       "    <tr>\n",
       "      <th>3</th>\n",
       "      <td>Q100026</td>\n",
       "      <td>Q17372279-P279-Q100026-beba8cd1-0</td>\n",
       "      <td>Q17372279</td>\n",
       "      <td>P279</td>\n",
       "      <td>Q17372455-P279-Q100026-c2b1bf36-0</td>\n",
       "      <td>Q17372455</td>\n",
       "    </tr>\n",
       "    <tr>\n",
       "      <th>4</th>\n",
       "      <td>Q100026</td>\n",
       "      <td>Q17372279-P279-Q100026-beba8cd1-0</td>\n",
       "      <td>Q17372279</td>\n",
       "      <td>P279</td>\n",
       "      <td>Q2029940-P279-Q100026-ceba4380-0</td>\n",
       "      <td>Q2029940</td>\n",
       "    </tr>\n",
       "  </tbody>\n",
       "</table>\n",
       "</div>"
      ],
      "text/plain": [
       "  par_node                                 id      node1 label  \\\n",
       "0  Q100026  Q17372279-P279-Q100026-beba8cd1-0  Q17372279  P279   \n",
       "1  Q100026  Q17372279-P279-Q100026-beba8cd1-0  Q17372279  P279   \n",
       "2  Q100026  Q17372279-P279-Q100026-beba8cd1-0  Q17372279  P279   \n",
       "3  Q100026  Q17372279-P279-Q100026-beba8cd1-0  Q17372279  P279   \n",
       "4  Q100026  Q17372279-P279-Q100026-beba8cd1-0  Q17372279  P279   \n",
       "\n",
       "                            id_right      node2  \n",
       "0  Q17372279-P279-Q100026-beba8cd1-0  Q17372279  \n",
       "1  Q17372377-P279-Q100026-fd42bd71-0  Q17372377  \n",
       "2  Q17372444-P279-Q100026-ca0fc4bd-0  Q17372444  \n",
       "3  Q17372455-P279-Q100026-c2b1bf36-0  Q17372455  \n",
       "4   Q2029940-P279-Q100026-ceba4380-0   Q2029940  "
      ]
     },
     "execution_count": 48,
     "metadata": {},
     "output_type": "execute_result"
    }
   ],
   "source": [
    "hierDF_transP279_filtered_sibs1.head()"
   ]
  },
  {
   "cell_type": "code",
   "execution_count": 49,
   "id": "steady-jacket",
   "metadata": {},
   "outputs": [
    {
     "data": {
      "text/plain": [
       "109578774"
      ]
     },
     "execution_count": 49,
     "metadata": {},
     "output_type": "execute_result"
    }
   ],
   "source": [
    "len(hierDF_transP279_filtered_sibs1)"
   ]
  },
  {
   "cell_type": "code",
   "execution_count": 50,
   "id": "italian-slovak",
   "metadata": {},
   "outputs": [],
   "source": [
    "hierDF_transP279_filtered_sibs1 = hierDF_transP279_filtered_sibs1[hierDF_transP279_filtered_sibs1.node1 != hierDF_transP279_filtered_sibs1.node2]"
   ]
  },
  {
   "cell_type": "code",
   "execution_count": 51,
   "id": "digital-oxygen",
   "metadata": {},
   "outputs": [
    {
     "data": {
      "text/plain": [
       "109275284"
      ]
     },
     "execution_count": 51,
     "metadata": {},
     "output_type": "execute_result"
    }
   ],
   "source": [
    "len(hierDF_transP279_filtered_sibs1)"
   ]
  },
  {
   "cell_type": "code",
   "execution_count": 52,
   "id": "fewer-rebel",
   "metadata": {},
   "outputs": [],
   "source": [
    "hierDF_transP279_filtered_sibs1.to_csv('../data/Master_P279_dataset/P279Siblings_transP279_filtered_baremetal.csv')"
   ]
  },
  {
   "cell_type": "markdown",
   "id": "failing-accent",
   "metadata": {},
   "source": [
    "## Add labels + descs"
   ]
  },
  {
   "cell_type": "code",
   "execution_count": 3,
   "id": "controlled-width",
   "metadata": {},
   "outputs": [],
   "source": [
    "from sklearn.utils.random import sample_without_replacement\n",
    "import pandas as pd"
   ]
  },
  {
   "cell_type": "code",
   "execution_count": 4,
   "id": "prompt-grade",
   "metadata": {},
   "outputs": [
    {
     "ename": "ParserError",
     "evalue": "Error tokenizing data. C error: Calling read(nbytes) on source failed. Try engine='python'.",
     "output_type": "error",
     "traceback": [
      "\u001b[0;31m---------------------------------------------------------------------------\u001b[0m",
      "\u001b[0;31mParserError\u001b[0m                               Traceback (most recent call last)",
      "\u001b[0;32m<ipython-input-4-c19c16c02269>\u001b[0m in \u001b[0;36m<module>\u001b[0;34m\u001b[0m\n\u001b[0;32m----> 1\u001b[0;31m \u001b[0mhierDF_transP279_filtered_sibs\u001b[0m \u001b[0;34m=\u001b[0m \u001b[0mpd\u001b[0m\u001b[0;34m.\u001b[0m\u001b[0mread_csv\u001b[0m\u001b[0;34m(\u001b[0m\u001b[0;34m'../data/Master_P279_dataset/P279Siblings_transP279_filtered_baremetal.csv'\u001b[0m\u001b[0;34m)\u001b[0m\u001b[0;34m\u001b[0m\u001b[0;34m\u001b[0m\u001b[0m\n\u001b[0m",
      "\u001b[0;32m~/miniconda3/envs/kgtkEnv/lib/python3.8/site-packages/pandas/io/parsers.py\u001b[0m in \u001b[0;36mread_csv\u001b[0;34m(filepath_or_buffer, sep, delimiter, header, names, index_col, usecols, squeeze, prefix, mangle_dupe_cols, dtype, engine, converters, true_values, false_values, skipinitialspace, skiprows, skipfooter, nrows, na_values, keep_default_na, na_filter, verbose, skip_blank_lines, parse_dates, infer_datetime_format, keep_date_col, date_parser, dayfirst, cache_dates, iterator, chunksize, compression, thousands, decimal, lineterminator, quotechar, quoting, doublequote, escapechar, comment, encoding, dialect, error_bad_lines, warn_bad_lines, delim_whitespace, low_memory, memory_map, float_precision, storage_options)\u001b[0m\n\u001b[1;32m    608\u001b[0m     \u001b[0mkwds\u001b[0m\u001b[0;34m.\u001b[0m\u001b[0mupdate\u001b[0m\u001b[0;34m(\u001b[0m\u001b[0mkwds_defaults\u001b[0m\u001b[0;34m)\u001b[0m\u001b[0;34m\u001b[0m\u001b[0;34m\u001b[0m\u001b[0m\n\u001b[1;32m    609\u001b[0m \u001b[0;34m\u001b[0m\u001b[0m\n\u001b[0;32m--> 610\u001b[0;31m     \u001b[0;32mreturn\u001b[0m \u001b[0m_read\u001b[0m\u001b[0;34m(\u001b[0m\u001b[0mfilepath_or_buffer\u001b[0m\u001b[0;34m,\u001b[0m \u001b[0mkwds\u001b[0m\u001b[0;34m)\u001b[0m\u001b[0;34m\u001b[0m\u001b[0;34m\u001b[0m\u001b[0m\n\u001b[0m\u001b[1;32m    611\u001b[0m \u001b[0;34m\u001b[0m\u001b[0m\n\u001b[1;32m    612\u001b[0m \u001b[0;34m\u001b[0m\u001b[0m\n",
      "\u001b[0;32m~/miniconda3/envs/kgtkEnv/lib/python3.8/site-packages/pandas/io/parsers.py\u001b[0m in \u001b[0;36m_read\u001b[0;34m(filepath_or_buffer, kwds)\u001b[0m\n\u001b[1;32m    466\u001b[0m \u001b[0;34m\u001b[0m\u001b[0m\n\u001b[1;32m    467\u001b[0m     \u001b[0;32mwith\u001b[0m \u001b[0mparser\u001b[0m\u001b[0;34m:\u001b[0m\u001b[0;34m\u001b[0m\u001b[0;34m\u001b[0m\u001b[0m\n\u001b[0;32m--> 468\u001b[0;31m         \u001b[0;32mreturn\u001b[0m \u001b[0mparser\u001b[0m\u001b[0;34m.\u001b[0m\u001b[0mread\u001b[0m\u001b[0;34m(\u001b[0m\u001b[0mnrows\u001b[0m\u001b[0;34m)\u001b[0m\u001b[0;34m\u001b[0m\u001b[0;34m\u001b[0m\u001b[0m\n\u001b[0m\u001b[1;32m    469\u001b[0m \u001b[0;34m\u001b[0m\u001b[0m\n\u001b[1;32m    470\u001b[0m \u001b[0;34m\u001b[0m\u001b[0m\n",
      "\u001b[0;32m~/miniconda3/envs/kgtkEnv/lib/python3.8/site-packages/pandas/io/parsers.py\u001b[0m in \u001b[0;36mread\u001b[0;34m(self, nrows)\u001b[0m\n\u001b[1;32m   1055\u001b[0m     \u001b[0;32mdef\u001b[0m \u001b[0mread\u001b[0m\u001b[0;34m(\u001b[0m\u001b[0mself\u001b[0m\u001b[0;34m,\u001b[0m \u001b[0mnrows\u001b[0m\u001b[0;34m=\u001b[0m\u001b[0;32mNone\u001b[0m\u001b[0;34m)\u001b[0m\u001b[0;34m:\u001b[0m\u001b[0;34m\u001b[0m\u001b[0;34m\u001b[0m\u001b[0m\n\u001b[1;32m   1056\u001b[0m         \u001b[0mnrows\u001b[0m \u001b[0;34m=\u001b[0m \u001b[0mvalidate_integer\u001b[0m\u001b[0;34m(\u001b[0m\u001b[0;34m\"nrows\"\u001b[0m\u001b[0;34m,\u001b[0m \u001b[0mnrows\u001b[0m\u001b[0;34m)\u001b[0m\u001b[0;34m\u001b[0m\u001b[0;34m\u001b[0m\u001b[0m\n\u001b[0;32m-> 1057\u001b[0;31m         \u001b[0mindex\u001b[0m\u001b[0;34m,\u001b[0m \u001b[0mcolumns\u001b[0m\u001b[0;34m,\u001b[0m \u001b[0mcol_dict\u001b[0m \u001b[0;34m=\u001b[0m \u001b[0mself\u001b[0m\u001b[0;34m.\u001b[0m\u001b[0m_engine\u001b[0m\u001b[0;34m.\u001b[0m\u001b[0mread\u001b[0m\u001b[0;34m(\u001b[0m\u001b[0mnrows\u001b[0m\u001b[0;34m)\u001b[0m\u001b[0;34m\u001b[0m\u001b[0;34m\u001b[0m\u001b[0m\n\u001b[0m\u001b[1;32m   1058\u001b[0m \u001b[0;34m\u001b[0m\u001b[0m\n\u001b[1;32m   1059\u001b[0m         \u001b[0;32mif\u001b[0m \u001b[0mindex\u001b[0m \u001b[0;32mis\u001b[0m \u001b[0;32mNone\u001b[0m\u001b[0;34m:\u001b[0m\u001b[0;34m\u001b[0m\u001b[0;34m\u001b[0m\u001b[0m\n",
      "\u001b[0;32m~/miniconda3/envs/kgtkEnv/lib/python3.8/site-packages/pandas/io/parsers.py\u001b[0m in \u001b[0;36mread\u001b[0;34m(self, nrows)\u001b[0m\n\u001b[1;32m   2059\u001b[0m     \u001b[0;32mdef\u001b[0m \u001b[0mread\u001b[0m\u001b[0;34m(\u001b[0m\u001b[0mself\u001b[0m\u001b[0;34m,\u001b[0m \u001b[0mnrows\u001b[0m\u001b[0;34m=\u001b[0m\u001b[0;32mNone\u001b[0m\u001b[0;34m)\u001b[0m\u001b[0;34m:\u001b[0m\u001b[0;34m\u001b[0m\u001b[0;34m\u001b[0m\u001b[0m\n\u001b[1;32m   2060\u001b[0m         \u001b[0;32mtry\u001b[0m\u001b[0;34m:\u001b[0m\u001b[0;34m\u001b[0m\u001b[0;34m\u001b[0m\u001b[0m\n\u001b[0;32m-> 2061\u001b[0;31m             \u001b[0mdata\u001b[0m \u001b[0;34m=\u001b[0m \u001b[0mself\u001b[0m\u001b[0;34m.\u001b[0m\u001b[0m_reader\u001b[0m\u001b[0;34m.\u001b[0m\u001b[0mread\u001b[0m\u001b[0;34m(\u001b[0m\u001b[0mnrows\u001b[0m\u001b[0;34m)\u001b[0m\u001b[0;34m\u001b[0m\u001b[0;34m\u001b[0m\u001b[0m\n\u001b[0m\u001b[1;32m   2062\u001b[0m         \u001b[0;32mexcept\u001b[0m \u001b[0mStopIteration\u001b[0m\u001b[0;34m:\u001b[0m\u001b[0;34m\u001b[0m\u001b[0;34m\u001b[0m\u001b[0m\n\u001b[1;32m   2063\u001b[0m             \u001b[0;32mif\u001b[0m \u001b[0mself\u001b[0m\u001b[0;34m.\u001b[0m\u001b[0m_first_chunk\u001b[0m\u001b[0;34m:\u001b[0m\u001b[0;34m\u001b[0m\u001b[0;34m\u001b[0m\u001b[0m\n",
      "\u001b[0;32mpandas/_libs/parsers.pyx\u001b[0m in \u001b[0;36mpandas._libs.parsers.TextReader.read\u001b[0;34m()\u001b[0m\n",
      "\u001b[0;32mpandas/_libs/parsers.pyx\u001b[0m in \u001b[0;36mpandas._libs.parsers.TextReader._read_low_memory\u001b[0;34m()\u001b[0m\n",
      "\u001b[0;32mpandas/_libs/parsers.pyx\u001b[0m in \u001b[0;36mpandas._libs.parsers.TextReader._read_rows\u001b[0;34m()\u001b[0m\n",
      "\u001b[0;32mpandas/_libs/parsers.pyx\u001b[0m in \u001b[0;36mpandas._libs.parsers.TextReader._tokenize_rows\u001b[0;34m()\u001b[0m\n",
      "\u001b[0;32mpandas/_libs/parsers.pyx\u001b[0m in \u001b[0;36mpandas._libs.parsers.raise_parser_error\u001b[0;34m()\u001b[0m\n",
      "\u001b[0;31mParserError\u001b[0m: Error tokenizing data. C error: Calling read(nbytes) on source failed. Try engine='python'."
     ]
    }
   ],
   "source": [
    "hierDF_transP279_filtered_sibs = pd.read_csv('../data/Master_P279_dataset/P279Siblings_transP279_filtered_baremetal.csv')"
   ]
  },
  {
   "cell_type": "code",
   "execution_count": null,
   "id": "american-porter",
   "metadata": {},
   "outputs": [],
   "source": [
    "hierDF_transP279_filtered_sibs1 = hierDF_transP279_filtered_sibs.iloc[sample_without_replacement(len(hierDF_transP279_filtered_sibs), 10000000, random_state=13)]"
   ]
  },
  {
   "cell_type": "code",
   "execution_count": null,
   "id": "third-canon",
   "metadata": {},
   "outputs": [],
   "source": [
    "hierDF_transP279_filtered_sibs1 = hierDF_transP279_filtered_sibs1.drop(columns=['Unnamed: 0']).reset_index()"
   ]
  },
  {
   "cell_type": "code",
   "execution_count": null,
   "id": "widespread-construction",
   "metadata": {},
   "outputs": [],
   "source": [
    "hierDF_transP279_filtered_sibs1.head()"
   ]
  },
  {
   "cell_type": "code",
   "execution_count": null,
   "id": "necessary-gibson",
   "metadata": {},
   "outputs": [],
   "source": [
    "len(hierDF_transP279_filtered_sibs1)"
   ]
  },
  {
   "cell_type": "code",
   "execution_count": null,
   "id": "prospective-beast",
   "metadata": {},
   "outputs": [],
   "source": [
    "labelsDF = pd.read_csv('../data/labels.en.tsv', sep='\\t')"
   ]
  },
  {
   "cell_type": "code",
   "execution_count": null,
   "id": "dutch-night",
   "metadata": {},
   "outputs": [],
   "source": [
    "hierDF_transP279_filtered_set = set(hierDF_transP279_filtered_sibs1.node1.to_list() + hierDF_transP279_filtered_sibs1.node2.to_list() + hierDF_transP279_filtered_sibs1.par_node.to_list())"
   ]
  },
  {
   "cell_type": "code",
   "execution_count": null,
   "id": "sunset-mercy",
   "metadata": {},
   "outputs": [],
   "source": [
    "labelsDF = labelsDF[labelsDF.node1.apply(lambda p: p in hierDF_transP279_filtered_set)]"
   ]
  },
  {
   "cell_type": "code",
   "execution_count": null,
   "id": "ongoing-maryland",
   "metadata": {},
   "outputs": [],
   "source": [
    "labelsDF.head()"
   ]
  },
  {
   "cell_type": "code",
   "execution_count": null,
   "id": "statewide-updating",
   "metadata": {},
   "outputs": [],
   "source": [
    "labelsDict = {row['node1']: row['node2'] for _, row in labelsDF.iterrows() if row['node1'] in hierDF_transP279_filtered_set}"
   ]
  },
  {
   "cell_type": "code",
   "execution_count": null,
   "id": "paperback-diagnosis",
   "metadata": {},
   "outputs": [],
   "source": [
    "descriptionsDF = pd.read_csv('../../wd-correctness/gdrive-kgtk-dump-2020-12-07/descriptions.en.tsv.gz', compression='gzip', sep='\\t')"
   ]
  },
  {
   "cell_type": "code",
   "execution_count": null,
   "id": "radio-investigation",
   "metadata": {},
   "outputs": [],
   "source": [
    "descriptionsDF = descriptionsDF[descriptionsDF.node1.apply(lambda p: p in hierDF_transP279_filtered_set)]"
   ]
  },
  {
   "cell_type": "code",
   "execution_count": null,
   "id": "rising-pride",
   "metadata": {},
   "outputs": [],
   "source": [
    "descDict = {row['node1']: row['node2'] for _, row in descriptionsDF.iterrows() if row['node1'] in hierDF_transP279_filtered_set}"
   ]
  },
  {
   "cell_type": "code",
   "execution_count": null,
   "id": "mexican-clothing",
   "metadata": {},
   "outputs": [],
   "source": [
    "hierDF_transP279_filtered_sibs1['node1_label'] = hierDF_transP279_filtered_sibs1.node1.apply(lambda p: labelsDict[p][1:-4] if p in labelsDict else None)\n",
    "hierDF_transP279_filtered_sibs1['node2_label'] = hierDF_transP279_filtered_sibs1.node2.apply(lambda p: labelsDict[p][1:-4] if p in labelsDict else None)\n",
    "hierDF_transP279_filtered_sibs1['par_label'] = hierDF_transP279_filtered_sibs1.par_node.apply(lambda p: labelsDict[p][1:-4] if p in labelsDict else None)"
   ]
  },
  {
   "cell_type": "code",
   "execution_count": null,
   "id": "rotary-discipline",
   "metadata": {},
   "outputs": [],
   "source": [
    "hierDF_transP279_filtered_sibs1['node1_desc'] = hierDF_transP279_filtered_sibs1.node1.apply(lambda p: descDict[p][1:-4] if p in descDict else None)\n",
    "hierDF_transP279_filtered_sibs1['node2_desc'] = hierDF_transP279_filtered_sibs1.node2.apply(lambda p: descDict[p][1:-4] if p in descDict else None)"
   ]
  },
  {
   "cell_type": "code",
   "execution_count": null,
   "id": "minute-chain",
   "metadata": {},
   "outputs": [],
   "source": [
    "hierDF_transP279_filtered_sibs1['node1_sent'] = hierDF_transP279_filtered_sibs1.apply(lambda p: p['node1_label'] + ' ' + p['node1_desc'] + ' is ' + p['par_label'],axis=1)\n",
    "hierDF_transP279_filtered_sibs1['node2_sent'] = hierDF_transP279_filtered_sibs1.apply(lambda p: p['node2_label'] + ' ' + p['node2_desc'] + ' is ' + p['par_label'],axis=1)"
   ]
  },
  {
   "cell_type": "code",
   "execution_count": null,
   "id": "economic-document",
   "metadata": {},
   "outputs": [],
   "source": [
    "hierDF_transP279_filtered_sibs1.head()"
   ]
  },
  {
   "cell_type": "code",
   "execution_count": null,
   "id": "official-uniform",
   "metadata": {},
   "outputs": [],
   "source": [
    "# hierDF_transP279_filtered_sibs1.to_csv('../data/Master_P279_dataset/P279Siblings_transP279_filtered.csv')"
   ]
  },
  {
   "cell_type": "code",
   "execution_count": null,
   "id": "metric-essex",
   "metadata": {},
   "outputs": [],
   "source": [
    "hierDF_transP279_filtered_sibs1[['id', 'node1', 'label', 'node2', 'par_node']].to_csv('../data/Master_P279_dataset/P279Siblings_transP279_filtered_min_cols.csv')"
   ]
  },
  {
   "cell_type": "code",
   "execution_count": null,
   "id": "closing-neighbor",
   "metadata": {},
   "outputs": [],
   "source": [
    "hierDF_transP279_filtered_sibs2 = hierDF_transP279_filtered_sibs1[hierDF_transP279_filtered_sibs1.node1_desc != hierDF_transP279_filtered_sibs1.node2_desc]"
   ]
  },
  {
   "cell_type": "code",
   "execution_count": null,
   "id": "medieval-clarity",
   "metadata": {},
   "outputs": [],
   "source": [
    "from sentence_transformers import SentenceTransformer\n",
    "from sklearn.metrics.pairwise import cosine_similarity\n",
    "from time import time\n",
    "import pandas as pd\n",
    "\n",
    "def getSentEmbeddings(valSeries, modelName):\n",
    "    model = SentenceTransformer(modelName, device='cuda:2')\n",
    "    start = time()\n",
    "    encodings = model.encode(valSeries.to_list(), show_progress_bar=True, batch_size=1000)\n",
    "    print(time()-start,'s')\n",
    "    return encodings"
   ]
  },
  {
   "cell_type": "code",
   "execution_count": null,
   "id": "improved-horizontal",
   "metadata": {},
   "outputs": [],
   "source": [
    "modelName = 'sentence-transformers/all-distilroberta-v1'"
   ]
  },
  {
   "cell_type": "code",
   "execution_count": 24,
   "id": "bizarre-brook",
   "metadata": {},
   "outputs": [],
   "source": [
    "hierDF_transP279_filtered_sibs2 = hierDF_transP279_filtered_sibs2.reset_index()"
   ]
  },
  {
   "cell_type": "code",
   "execution_count": 25,
   "id": "convinced-scanning",
   "metadata": {},
   "outputs": [
    {
     "name": "stderr",
     "output_type": "stream",
     "text": [
      "Exception when trying to download https://sbert.net/models/sentence-transformers/all-distilroberta-v1.zip. Response 404\n",
      "SentenceTransformer-Model https://sbert.net/models/sentence-transformers/all-distilroberta-v1.zip not found. Try to create it from scratch\n",
      "Try to create Transformer Model sentence-transformers/all-distilroberta-v1 with mean pooling\n"
     ]
    },
    {
     "name": "stdout",
     "output_type": "stream",
     "text": [
      "3682.2832567691803 s\n"
     ]
    },
    {
     "name": "stderr",
     "output_type": "stream",
     "text": [
      "Exception when trying to download https://sbert.net/models/sentence-transformers/all-distilroberta-v1.zip. Response 404\n",
      "SentenceTransformer-Model https://sbert.net/models/sentence-transformers/all-distilroberta-v1.zip not found. Try to create it from scratch\n",
      "Try to create Transformer Model sentence-transformers/all-distilroberta-v1 with mean pooling\n"
     ]
    },
    {
     "name": "stdout",
     "output_type": "stream",
     "text": [
      "3649.976934671402 s\n"
     ]
    }
   ],
   "source": [
    "hierDF_transP279_filtered_sibs2['node1_emb'] = pd.Series(list(getSentEmbeddings(hierDF_transP279_filtered_sibs2.node1_sent, modelName)))\n",
    "hierDF_transP279_filtered_sibs2['node2_emb'] = pd.Series(list(getSentEmbeddings(hierDF_transP279_filtered_sibs2.node2_sent, modelName)))"
   ]
  },
  {
   "cell_type": "code",
   "execution_count": 25,
   "id": "intensive-software",
   "metadata": {},
   "outputs": [],
   "source": [
    "# Alt scoring\n",
    "from sentence_transformers.cross_encoder import CrossEncoder\n",
    "crossEncModel = 'cross-encoder/nli-distilroberta-base'\n",
    "model = CrossEncoder(crossEncModel)\n",
    "crossEncSimVals = model.predict(list(zip(hierDF_transP279_filtered_sibs2.node1_sent.to_list(), hierDF_transP279_filtered_sibs2.node2_sent.to_list())))"
   ]
  },
  {
   "cell_type": "code",
   "execution_count": 26,
   "id": "published-moses",
   "metadata": {},
   "outputs": [
    {
     "data": {
      "text/plain": [
       "array([[ 0.70532274, -0.6136245 ,  0.10315116],\n",
       "       [ 2.0433352 , -1.5074009 , -0.38424107]], dtype=float32)"
      ]
     },
     "execution_count": 26,
     "metadata": {},
     "output_type": "execute_result"
    }
   ],
   "source": [
    "crossEncSimVals[:2]"
   ]
  },
  {
   "cell_type": "code",
   "execution_count": 29,
   "id": "bright-timothy",
   "metadata": {},
   "outputs": [
    {
     "data": {
      "text/plain": [
       "array([ 0.57001173, -1.8462102 ,  1.5409116 ], dtype=float32)"
      ]
     },
     "execution_count": 29,
     "metadata": {},
     "output_type": "execute_result"
    }
   ],
   "source": [
    "model.predict([\"mayor of Dobrești mayor of Dobrești, Bihor \", \"mayor of Pâncota public office in Romania is\"])"
   ]
  },
  {
   "cell_type": "code",
   "execution_count": 26,
   "id": "initial-handy",
   "metadata": {
    "scrolled": false
   },
   "outputs": [
    {
     "data": {
      "text/html": [
       "<div>\n",
       "<style scoped>\n",
       "    .dataframe tbody tr th:only-of-type {\n",
       "        vertical-align: middle;\n",
       "    }\n",
       "\n",
       "    .dataframe tbody tr th {\n",
       "        vertical-align: top;\n",
       "    }\n",
       "\n",
       "    .dataframe thead th {\n",
       "        text-align: right;\n",
       "    }\n",
       "</style>\n",
       "<table border=\"1\" class=\"dataframe\">\n",
       "  <thead>\n",
       "    <tr style=\"text-align: right;\">\n",
       "      <th></th>\n",
       "      <th>level_0</th>\n",
       "      <th>index</th>\n",
       "      <th>par_node</th>\n",
       "      <th>id</th>\n",
       "      <th>node1</th>\n",
       "      <th>label</th>\n",
       "      <th>id_right</th>\n",
       "      <th>node2</th>\n",
       "      <th>node1_label</th>\n",
       "      <th>node2_label</th>\n",
       "      <th>par_label</th>\n",
       "      <th>node1_desc</th>\n",
       "      <th>node2_desc</th>\n",
       "      <th>node1_sent</th>\n",
       "      <th>node2_sent</th>\n",
       "      <th>node1_emb</th>\n",
       "      <th>node2_emb</th>\n",
       "    </tr>\n",
       "  </thead>\n",
       "  <tbody>\n",
       "    <tr>\n",
       "      <th>0</th>\n",
       "      <td>1</td>\n",
       "      <td>103575910</td>\n",
       "      <td>Q99762605</td>\n",
       "      <td>Q98956067-P279-Q99762605-c31fed7d-0</td>\n",
       "      <td>Q98956067</td>\n",
       "      <td>P279</td>\n",
       "      <td>Q98954409-P279-Q99762605-e294a05f-0</td>\n",
       "      <td>Q98954409</td>\n",
       "      <td>mayor of Dobrești</td>\n",
       "      <td>mayor of Pâncota</td>\n",
       "      <td>mayor of a place in Romania</td>\n",
       "      <td>mayor of Dobrești, Bihor county</td>\n",
       "      <td>public office in Romania</td>\n",
       "      <td>mayor of Dobrești mayor of Dobrești, Bihor cou...</td>\n",
       "      <td>mayor of Pâncota public office in Romania is m...</td>\n",
       "      <td>[0.29432657, -0.12315029, -0.045695502, 0.3632...</td>\n",
       "      <td>[0.40726575, -0.3538948, -0.19948234, -0.10712...</td>\n",
       "    </tr>\n",
       "    <tr>\n",
       "      <th>1</th>\n",
       "      <td>4</td>\n",
       "      <td>2387372</td>\n",
       "      <td>Q11436</td>\n",
       "      <td>Q135880-P279-Q11436-96699f83-0</td>\n",
       "      <td>Q135880</td>\n",
       "      <td>P279</td>\n",
       "      <td>Q7395320-P279-Q11436-c0a6c3fd-0</td>\n",
       "      <td>Q7395320</td>\n",
       "      <td>A-12</td>\n",
       "      <td>SZD-49 Jantar K</td>\n",
       "      <td>aircraft</td>\n",
       "      <td>1936 autogyro prototype by the Central Aero-Hy...</td>\n",
       "      <td>glider aircraft</td>\n",
       "      <td>A-12 1936 autogyro prototype by the Central Ae...</td>\n",
       "      <td>SZD-49 Jantar K glider aircraft is aircraft</td>\n",
       "      <td>[-0.19948986, -0.35904005, 0.09085509, 0.16439...</td>\n",
       "      <td>[-0.22941455, -0.05107765, 0.3621345, 0.495969...</td>\n",
       "    </tr>\n",
       "    <tr>\n",
       "      <th>2</th>\n",
       "      <td>5</td>\n",
       "      <td>24016847</td>\n",
       "      <td>Q21167512</td>\n",
       "      <td>Q69525859-P279-Q21167512-f5328a1d-0</td>\n",
       "      <td>Q69525859</td>\n",
       "      <td>P279</td>\n",
       "      <td>Q21175029-P279-Q21167512-56cdfd0e-0</td>\n",
       "      <td>Q21175029</td>\n",
       "      <td>sodium carbonate exposures</td>\n",
       "      <td>pentaborane exposure</td>\n",
       "      <td>chemical hazard</td>\n",
       "      <td>hazardous chemical exposures</td>\n",
       "      <td>hazardous chemical exposure</td>\n",
       "      <td>sodium carbonate exposures hazardous chemical ...</td>\n",
       "      <td>pentaborane exposure hazardous chemical exposu...</td>\n",
       "      <td>[-0.23254174, -0.019664198, -0.49748045, 0.018...</td>\n",
       "      <td>[-0.57571846, -0.29551026, -0.50132465, -0.239...</td>\n",
       "    </tr>\n",
       "    <tr>\n",
       "      <th>3</th>\n",
       "      <td>10</td>\n",
       "      <td>108650504</td>\n",
       "      <td>Q99762605</td>\n",
       "      <td>Q98958530-P279-Q99762605-fdded642-0</td>\n",
       "      <td>Q98958530</td>\n",
       "      <td>P279</td>\n",
       "      <td>Q98956734-P279-Q99762605-2dbce366-0</td>\n",
       "      <td>Q98956734</td>\n",
       "      <td>mayor of Urziceni</td>\n",
       "      <td>mayor of Ionești</td>\n",
       "      <td>mayor of a place in Romania</td>\n",
       "      <td>mayor of Urziceni, Satu Mare county</td>\n",
       "      <td>mayor of Ionești, Vâlcea county</td>\n",
       "      <td>mayor of Urziceni mayor of Urziceni, Satu Mare...</td>\n",
       "      <td>mayor of Ionești mayor of Ionești, Vâlcea coun...</td>\n",
       "      <td>[0.5272284, -0.36796138, -0.053719513, 0.40885...</td>\n",
       "      <td>[0.11683124, -0.23857604, -0.057602327, -0.193...</td>\n",
       "    </tr>\n",
       "    <tr>\n",
       "      <th>4</th>\n",
       "      <td>11</td>\n",
       "      <td>106811689</td>\n",
       "      <td>Q99762605</td>\n",
       "      <td>Q98957693-P279-Q99762605-5c11a747-0</td>\n",
       "      <td>Q98957693</td>\n",
       "      <td>P279</td>\n",
       "      <td>Q98955251-P279-Q99762605-400c2ed9-0</td>\n",
       "      <td>Q98955251</td>\n",
       "      <td>mayor of Racovițeni</td>\n",
       "      <td>mayor of Blandiana</td>\n",
       "      <td>mayor of a place in Romania</td>\n",
       "      <td>mayor of Racovițeni, Buzău county</td>\n",
       "      <td>mayor of Blandiana, Alba county</td>\n",
       "      <td>mayor of Racovițeni mayor of Racovițeni, Buzău...</td>\n",
       "      <td>mayor of Blandiana mayor of Blandiana, Alba co...</td>\n",
       "      <td>[0.34337035, -0.25570026, -0.20981959, 0.10492...</td>\n",
       "      <td>[0.36922738, 0.20065087, -0.18316983, 0.193541...</td>\n",
       "    </tr>\n",
       "  </tbody>\n",
       "</table>\n",
       "</div>"
      ],
      "text/plain": [
       "   level_0      index   par_node                                   id  \\\n",
       "0        1  103575910  Q99762605  Q98956067-P279-Q99762605-c31fed7d-0   \n",
       "1        4    2387372     Q11436       Q135880-P279-Q11436-96699f83-0   \n",
       "2        5   24016847  Q21167512  Q69525859-P279-Q21167512-f5328a1d-0   \n",
       "3       10  108650504  Q99762605  Q98958530-P279-Q99762605-fdded642-0   \n",
       "4       11  106811689  Q99762605  Q98957693-P279-Q99762605-5c11a747-0   \n",
       "\n",
       "       node1 label                             id_right      node2  \\\n",
       "0  Q98956067  P279  Q98954409-P279-Q99762605-e294a05f-0  Q98954409   \n",
       "1    Q135880  P279      Q7395320-P279-Q11436-c0a6c3fd-0   Q7395320   \n",
       "2  Q69525859  P279  Q21175029-P279-Q21167512-56cdfd0e-0  Q21175029   \n",
       "3  Q98958530  P279  Q98956734-P279-Q99762605-2dbce366-0  Q98956734   \n",
       "4  Q98957693  P279  Q98955251-P279-Q99762605-400c2ed9-0  Q98955251   \n",
       "\n",
       "                  node1_label           node2_label  \\\n",
       "0           mayor of Dobrești      mayor of Pâncota   \n",
       "1                        A-12       SZD-49 Jantar K   \n",
       "2  sodium carbonate exposures  pentaborane exposure   \n",
       "3           mayor of Urziceni      mayor of Ionești   \n",
       "4         mayor of Racovițeni    mayor of Blandiana   \n",
       "\n",
       "                     par_label  \\\n",
       "0  mayor of a place in Romania   \n",
       "1                     aircraft   \n",
       "2              chemical hazard   \n",
       "3  mayor of a place in Romania   \n",
       "4  mayor of a place in Romania   \n",
       "\n",
       "                                          node1_desc  \\\n",
       "0                    mayor of Dobrești, Bihor county   \n",
       "1  1936 autogyro prototype by the Central Aero-Hy...   \n",
       "2                       hazardous chemical exposures   \n",
       "3                mayor of Urziceni, Satu Mare county   \n",
       "4                  mayor of Racovițeni, Buzău county   \n",
       "\n",
       "                        node2_desc  \\\n",
       "0         public office in Romania   \n",
       "1                  glider aircraft   \n",
       "2      hazardous chemical exposure   \n",
       "3  mayor of Ionești, Vâlcea county   \n",
       "4  mayor of Blandiana, Alba county   \n",
       "\n",
       "                                          node1_sent  \\\n",
       "0  mayor of Dobrești mayor of Dobrești, Bihor cou...   \n",
       "1  A-12 1936 autogyro prototype by the Central Ae...   \n",
       "2  sodium carbonate exposures hazardous chemical ...   \n",
       "3  mayor of Urziceni mayor of Urziceni, Satu Mare...   \n",
       "4  mayor of Racovițeni mayor of Racovițeni, Buzău...   \n",
       "\n",
       "                                          node2_sent  \\\n",
       "0  mayor of Pâncota public office in Romania is m...   \n",
       "1        SZD-49 Jantar K glider aircraft is aircraft   \n",
       "2  pentaborane exposure hazardous chemical exposu...   \n",
       "3  mayor of Ionești mayor of Ionești, Vâlcea coun...   \n",
       "4  mayor of Blandiana mayor of Blandiana, Alba co...   \n",
       "\n",
       "                                           node1_emb  \\\n",
       "0  [0.29432657, -0.12315029, -0.045695502, 0.3632...   \n",
       "1  [-0.19948986, -0.35904005, 0.09085509, 0.16439...   \n",
       "2  [-0.23254174, -0.019664198, -0.49748045, 0.018...   \n",
       "3  [0.5272284, -0.36796138, -0.053719513, 0.40885...   \n",
       "4  [0.34337035, -0.25570026, -0.20981959, 0.10492...   \n",
       "\n",
       "                                           node2_emb  \n",
       "0  [0.40726575, -0.3538948, -0.19948234, -0.10712...  \n",
       "1  [-0.22941455, -0.05107765, 0.3621345, 0.495969...  \n",
       "2  [-0.57571846, -0.29551026, -0.50132465, -0.239...  \n",
       "3  [0.11683124, -0.23857604, -0.057602327, -0.193...  \n",
       "4  [0.36922738, 0.20065087, -0.18316983, 0.193541...  "
      ]
     },
     "execution_count": 26,
     "metadata": {},
     "output_type": "execute_result"
    }
   ],
   "source": [
    "hierDF_transP279_filtered_sibs2.head()"
   ]
  },
  {
   "cell_type": "code",
   "execution_count": 27,
   "id": "anonymous-corruption",
   "metadata": {},
   "outputs": [
    {
     "data": {
      "text/plain": [
       "(0, 0)"
      ]
     },
     "execution_count": 27,
     "metadata": {},
     "output_type": "execute_result"
    }
   ],
   "source": [
    "hierDF_transP279_filtered_sibs2.node1_emb.isna().sum(), hierDF_transP279_filtered_sibs2.node2_emb.isna().sum()"
   ]
  },
  {
   "cell_type": "code",
   "execution_count": 28,
   "id": "french-discount",
   "metadata": {},
   "outputs": [],
   "source": [
    "hierDF_transP279_filtered_sibs2['similarity_value'] = hierDF_transP279_filtered_sibs2.apply(lambda p: cosine_similarity(p.node1_emb.reshape(1,-1), p.node2_emb.reshape(1,-1))[0][0], axis=1)"
   ]
  },
  {
   "cell_type": "code",
   "execution_count": 29,
   "id": "hidden-invalid",
   "metadata": {},
   "outputs": [
    {
     "data": {
      "text/plain": [
       "count    3.707847e+06\n",
       "mean     5.596878e-01\n",
       "std      1.731009e-01\n",
       "min     -1.290048e-01\n",
       "25%      4.218415e-01\n",
       "50%      5.907606e-01\n",
       "75%      7.042572e-01\n",
       "max      9.998616e-01\n",
       "Name: similarity_value, dtype: float64"
      ]
     },
     "execution_count": 29,
     "metadata": {},
     "output_type": "execute_result"
    }
   ],
   "source": [
    "hierDF_transP279_filtered_sibs2['similarity_value'].describe()"
   ]
  },
  {
   "cell_type": "code",
   "execution_count": 30,
   "id": "lasting-torture",
   "metadata": {},
   "outputs": [
    {
     "name": "stdout",
     "output_type": "stream",
     "text": [
      "Dataset reduced from 10000000 to 3707847 by eliminating rows where node1_desc == node2_desc\n"
     ]
    }
   ],
   "source": [
    "print(f\"Dataset reduced from {len(hierDF_transP279_filtered_sibs1)} to {len(hierDF_transP279_filtered_sibs2)} by eliminating rows where node1_desc == node2_desc\")"
   ]
  },
  {
   "cell_type": "code",
   "execution_count": 31,
   "id": "continental-interim",
   "metadata": {},
   "outputs": [],
   "source": [
    "hierDF_transP279_filtered_sibs2[['id', 'node1', 'label', 'node2', 'par_node', 'similarity_value']].to_csv('../data/Master_P279_dataset/P279Siblings_transP279_filtered_min_cols_with_desc_dups_removed.csv')"
   ]
  },
  {
   "cell_type": "code",
   "execution_count": null,
   "id": "cathedral-charge",
   "metadata": {},
   "outputs": [],
   "source": [
    "# import pandas as pd\n",
    "# pd.read_csv('../data/Master_P279_dataset/P279Siblings_transP279_filtered_min_cols_with_desc_dups_removed.csv')['similarity_value'].describe()"
   ]
  },
  {
   "cell_type": "code",
   "execution_count": null,
   "id": "italic-desktop",
   "metadata": {},
   "outputs": [],
   "source": []
  },
  {
   "cell_type": "code",
   "execution_count": 6,
   "id": "declared-monroe",
   "metadata": {},
   "outputs": [],
   "source": [
    "wordSim353AnnotDF_New = pd.read_csv('../data/wordsim353_with_r3.csv')"
   ]
  },
  {
   "cell_type": "code",
   "execution_count": 7,
   "id": "opening-rally",
   "metadata": {},
   "outputs": [],
   "source": [
    "wordsim_nodes = set(wordSim353AnnotDF_New.word1_kg_id.to_list() + wordSim353AnnotDF_New.word2_kg_id.to_list())"
   ]
  },
  {
   "cell_type": "code",
   "execution_count": 27,
   "id": "diagnostic-guess",
   "metadata": {},
   "outputs": [],
   "source": [
    "P279_3M_data = pd.read_csv('../data/Master_P279_dataset/P279Siblings_transP279_filtered_min_cols_with_desc_dups_removed.csv')"
   ]
  },
  {
   "cell_type": "code",
   "execution_count": 28,
   "id": "utility-prophet",
   "metadata": {},
   "outputs": [],
   "source": [
    "P279_10M_data = pd.read_csv('../data/Master_P279_dataset/P279Siblings_transP279_filtered_min_cols.csv')"
   ]
  },
  {
   "cell_type": "code",
   "execution_count": 29,
   "id": "treated-anniversary",
   "metadata": {},
   "outputs": [
    {
     "name": "stdout",
     "output_type": "stream",
     "text": [
      "CPU times: user 40.2 s, sys: 779 ms, total: 40.9 s\n",
      "Wall time: 40.9 s\n"
     ]
    },
    {
     "data": {
      "text/plain": [
       "398221"
      ]
     },
     "execution_count": 29,
     "metadata": {},
     "output_type": "execute_result"
    }
   ],
   "source": [
    "%%time\n",
    "P279_3M_data.apply(lambda p: p['node1'] in wordsim_nodes or p['node2'] in wordsim_nodes or p['par_node'] in wordsim_nodes, axis=1).sum()"
   ]
  },
  {
   "cell_type": "code",
   "execution_count": 30,
   "id": "laughing-blake",
   "metadata": {},
   "outputs": [
    {
     "name": "stdout",
     "output_type": "stream",
     "text": [
      "CPU times: user 1min 48s, sys: 2.78 s, total: 1min 51s\n",
      "Wall time: 1min 51s\n"
     ]
    },
    {
     "data": {
      "text/plain": [
       "406185"
      ]
     },
     "execution_count": 30,
     "metadata": {},
     "output_type": "execute_result"
    }
   ],
   "source": [
    "%%time\n",
    "P279_10M_data.apply(lambda p: p['node1'] in wordsim_nodes or p['node2'] in wordsim_nodes or p['par_node'] in wordsim_nodes, axis=1).sum()"
   ]
  },
  {
   "cell_type": "code",
   "execution_count": 31,
   "id": "traditional-guess",
   "metadata": {},
   "outputs": [],
   "source": [
    "P279_10M_data[P279_10M_data.apply(lambda p: p['node1'] in wordsim_nodes or p['node2'] in wordsim_nodes or p['par_node'] in wordsim_nodes, axis=1)].to_csv('../data/Master_P279_dataset/P279Siblings_transP279_filtered_min_cols_wordsim_only.csv')"
   ]
  },
  {
   "cell_type": "code",
   "execution_count": 23,
   "id": "loved-arkansas",
   "metadata": {},
   "outputs": [],
   "source": [
    "P279_19k_data = pd.read_csv('../data/P279_dataset/P279_19k_Siblings_Dataset.csv')"
   ]
  },
  {
   "cell_type": "code",
   "execution_count": 24,
   "id": "cloudy-encoding",
   "metadata": {},
   "outputs": [
    {
     "data": {
      "text/html": [
       "<div>\n",
       "<style scoped>\n",
       "    .dataframe tbody tr th:only-of-type {\n",
       "        vertical-align: middle;\n",
       "    }\n",
       "\n",
       "    .dataframe tbody tr th {\n",
       "        vertical-align: top;\n",
       "    }\n",
       "\n",
       "    .dataframe thead th {\n",
       "        text-align: right;\n",
       "    }\n",
       "</style>\n",
       "<table border=\"1\" class=\"dataframe\">\n",
       "  <thead>\n",
       "    <tr style=\"text-align: right;\">\n",
       "      <th></th>\n",
       "      <th>Unnamed: 0</th>\n",
       "      <th>index</th>\n",
       "      <th>node1</th>\n",
       "      <th>parent</th>\n",
       "      <th>node2</th>\n",
       "      <th>node1_label</th>\n",
       "      <th>par_label</th>\n",
       "      <th>node2_label</th>\n",
       "      <th>node1_sent</th>\n",
       "      <th>node2_sent</th>\n",
       "      <th>comb_sent</th>\n",
       "      <th>node1_emb</th>\n",
       "      <th>node2_emb</th>\n",
       "      <th>bert2SentSim</th>\n",
       "    </tr>\n",
       "  </thead>\n",
       "  <tbody>\n",
       "    <tr>\n",
       "      <th>0</th>\n",
       "      <td>0</td>\n",
       "      <td>2897760</td>\n",
       "      <td>Q7047901</td>\n",
       "      <td>Q17517</td>\n",
       "      <td>Q7410591</td>\n",
       "      <td>Nokia 5330 Mobile TV Edition</td>\n",
       "      <td>mobile phone</td>\n",
       "      <td>Samsung SGH-i780</td>\n",
       "      <td>Nokia 5330 Mobile TV Edition is mobile phone</td>\n",
       "      <td>Samsung SGH-i780 is mobile phone</td>\n",
       "      <td>mobile phone is typically Nokia 5330 Mobile TV...</td>\n",
       "      <td>[-5.48004732e-02  3.50154340e-01  4.38094527e-...</td>\n",
       "      <td>[-2.98046470e-01  3.74356419e-01  5.27383387e-...</td>\n",
       "      <td>0.883490</td>\n",
       "    </tr>\n",
       "    <tr>\n",
       "      <th>1</th>\n",
       "      <td>1</td>\n",
       "      <td>10431390</td>\n",
       "      <td>Q15991265</td>\n",
       "      <td>Q2736</td>\n",
       "      <td>Q15991267</td>\n",
       "      <td>amateur football</td>\n",
       "      <td>association football</td>\n",
       "      <td>professional football</td>\n",
       "      <td>amateur football is association football</td>\n",
       "      <td>professional football is association football</td>\n",
       "      <td>association football is typically amateur foot...</td>\n",
       "      <td>[-1.95897296e-01  1.04528800e-01  4.40772206e-...</td>\n",
       "      <td>[-2.94859111e-01  1.88360184e-01 -1.96894854e-...</td>\n",
       "      <td>0.803443</td>\n",
       "    </tr>\n",
       "    <tr>\n",
       "      <th>2</th>\n",
       "      <td>2</td>\n",
       "      <td>417162</td>\n",
       "      <td>Q15222772</td>\n",
       "      <td>Q1420</td>\n",
       "      <td>Q7246913</td>\n",
       "      <td>Glider (automobiles)</td>\n",
       "      <td>motor car</td>\n",
       "      <td>Probe 16</td>\n",
       "      <td>Glider (automobiles) is motor car</td>\n",
       "      <td>Probe 16 is motor car</td>\n",
       "      <td>motor car is typically Glider (automobiles) or...</td>\n",
       "      <td>[-1.21378571e-01  3.04012895e-01  4.18751419e-...</td>\n",
       "      <td>[ 0.16769831  0.62631613  1.0727373   0.235646...</td>\n",
       "      <td>0.760663</td>\n",
       "    </tr>\n",
       "    <tr>\n",
       "      <th>3</th>\n",
       "      <td>3</td>\n",
       "      <td>420822</td>\n",
       "      <td>Q15609267</td>\n",
       "      <td>Q1420</td>\n",
       "      <td>Q16997137</td>\n",
       "      <td>Isotta Fraschini Tipo D</td>\n",
       "      <td>motor car</td>\n",
       "      <td>Allard M2</td>\n",
       "      <td>Isotta Fraschini Tipo D is motor car</td>\n",
       "      <td>Allard M2 is motor car</td>\n",
       "      <td>motor car is typically Isotta Fraschini Tipo D...</td>\n",
       "      <td>[ 1.71256125e-01  2.56909907e-01  7.91365981e-...</td>\n",
       "      <td>[-3.38893235e-01  3.94817479e-02  6.53142512e-...</td>\n",
       "      <td>0.851455</td>\n",
       "    </tr>\n",
       "    <tr>\n",
       "      <th>4</th>\n",
       "      <td>4</td>\n",
       "      <td>3361954</td>\n",
       "      <td>Q10748135</td>\n",
       "      <td>Q2095</td>\n",
       "      <td>Q17116114</td>\n",
       "      <td>kelewele</td>\n",
       "      <td>food</td>\n",
       "      <td>Horsebread</td>\n",
       "      <td>kelewele is food</td>\n",
       "      <td>Horsebread is food</td>\n",
       "      <td>food is typically kelewele or Horsebread</td>\n",
       "      <td>[ 2.51727879e-01 -1.59988493e-01  1.39032674e+...</td>\n",
       "      <td>[-2.70331770e-01 -6.03621602e-01  7.06666887e-...</td>\n",
       "      <td>0.728477</td>\n",
       "    </tr>\n",
       "  </tbody>\n",
       "</table>\n",
       "</div>"
      ],
      "text/plain": [
       "   Unnamed: 0     index      node1  parent      node2  \\\n",
       "0           0   2897760   Q7047901  Q17517   Q7410591   \n",
       "1           1  10431390  Q15991265   Q2736  Q15991267   \n",
       "2           2    417162  Q15222772   Q1420   Q7246913   \n",
       "3           3    420822  Q15609267   Q1420  Q16997137   \n",
       "4           4   3361954  Q10748135   Q2095  Q17116114   \n",
       "\n",
       "                    node1_label             par_label            node2_label  \\\n",
       "0  Nokia 5330 Mobile TV Edition          mobile phone       Samsung SGH-i780   \n",
       "1              amateur football  association football  professional football   \n",
       "2          Glider (automobiles)             motor car               Probe 16   \n",
       "3       Isotta Fraschini Tipo D             motor car              Allard M2   \n",
       "4                      kelewele                  food             Horsebread   \n",
       "\n",
       "                                     node1_sent  \\\n",
       "0  Nokia 5330 Mobile TV Edition is mobile phone   \n",
       "1      amateur football is association football   \n",
       "2             Glider (automobiles) is motor car   \n",
       "3          Isotta Fraschini Tipo D is motor car   \n",
       "4                              kelewele is food   \n",
       "\n",
       "                                      node2_sent  \\\n",
       "0               Samsung SGH-i780 is mobile phone   \n",
       "1  professional football is association football   \n",
       "2                          Probe 16 is motor car   \n",
       "3                         Allard M2 is motor car   \n",
       "4                             Horsebread is food   \n",
       "\n",
       "                                           comb_sent  \\\n",
       "0  mobile phone is typically Nokia 5330 Mobile TV...   \n",
       "1  association football is typically amateur foot...   \n",
       "2  motor car is typically Glider (automobiles) or...   \n",
       "3  motor car is typically Isotta Fraschini Tipo D...   \n",
       "4           food is typically kelewele or Horsebread   \n",
       "\n",
       "                                           node1_emb  \\\n",
       "0  [-5.48004732e-02  3.50154340e-01  4.38094527e-...   \n",
       "1  [-1.95897296e-01  1.04528800e-01  4.40772206e-...   \n",
       "2  [-1.21378571e-01  3.04012895e-01  4.18751419e-...   \n",
       "3  [ 1.71256125e-01  2.56909907e-01  7.91365981e-...   \n",
       "4  [ 2.51727879e-01 -1.59988493e-01  1.39032674e+...   \n",
       "\n",
       "                                           node2_emb  bert2SentSim  \n",
       "0  [-2.98046470e-01  3.74356419e-01  5.27383387e-...      0.883490  \n",
       "1  [-2.94859111e-01  1.88360184e-01 -1.96894854e-...      0.803443  \n",
       "2  [ 0.16769831  0.62631613  1.0727373   0.235646...      0.760663  \n",
       "3  [-3.38893235e-01  3.94817479e-02  6.53142512e-...      0.851455  \n",
       "4  [-2.70331770e-01 -6.03621602e-01  7.06666887e-...      0.728477  "
      ]
     },
     "execution_count": 24,
     "metadata": {},
     "output_type": "execute_result"
    }
   ],
   "source": [
    "P279_19k_data.head()"
   ]
  },
  {
   "cell_type": "code",
   "execution_count": 26,
   "id": "creative-lloyd",
   "metadata": {},
   "outputs": [
    {
     "name": "stdout",
     "output_type": "stream",
     "text": [
      "CPU times: user 305 ms, sys: 2.01 ms, total: 307 ms\n",
      "Wall time: 304 ms\n"
     ]
    },
    {
     "data": {
      "text/plain": [
       "19454"
      ]
     },
     "execution_count": 26,
     "metadata": {},
     "output_type": "execute_result"
    }
   ],
   "source": [
    "%%time\n",
    "P279_19k_data.apply(lambda p: p['node1'] in wordsim_nodes or p['node2'] in wordsim_nodes or p['parent'] in wordsim_nodes, axis=1).sum()"
   ]
  },
  {
   "cell_type": "markdown",
   "id": "gorgeous-checkout",
   "metadata": {},
   "source": [
    "## Correct bertsim values"
   ]
  },
  {
   "cell_type": "code",
   "execution_count": 19,
   "id": "editorial-worth",
   "metadata": {},
   "outputs": [
    {
     "ename": "EmptyDataError",
     "evalue": "No columns to parse from file",
     "output_type": "error",
     "traceback": [
      "\u001b[0;31m---------------------------------------------------------------------------\u001b[0m",
      "\u001b[0;31mEmptyDataError\u001b[0m                            Traceback (most recent call last)",
      "\u001b[0;32m<ipython-input-19-a356dd453328>\u001b[0m in \u001b[0;36m<module>\u001b[0;34m\u001b[0m\n\u001b[0;32m----> 1\u001b[0;31m \u001b[0mhierDF_transP279_filtered_sibs1\u001b[0m \u001b[0;34m=\u001b[0m \u001b[0mpd\u001b[0m\u001b[0;34m.\u001b[0m\u001b[0mread_csv\u001b[0m\u001b[0;34m(\u001b[0m\u001b[0;34m'../data/Master_P279_dataset/P279Siblings_transP279_filtered.tsv'\u001b[0m\u001b[0;34m,\u001b[0m \u001b[0msep\u001b[0m\u001b[0;34m=\u001b[0m\u001b[0;34m'\\t'\u001b[0m\u001b[0;34m)\u001b[0m\u001b[0;34m\u001b[0m\u001b[0;34m\u001b[0m\u001b[0m\n\u001b[0m",
      "\u001b[0;32m~/miniconda3/envs/kgtkEnv/lib/python3.8/site-packages/pandas/io/parsers.py\u001b[0m in \u001b[0;36mread_csv\u001b[0;34m(filepath_or_buffer, sep, delimiter, header, names, index_col, usecols, squeeze, prefix, mangle_dupe_cols, dtype, engine, converters, true_values, false_values, skipinitialspace, skiprows, skipfooter, nrows, na_values, keep_default_na, na_filter, verbose, skip_blank_lines, parse_dates, infer_datetime_format, keep_date_col, date_parser, dayfirst, cache_dates, iterator, chunksize, compression, thousands, decimal, lineterminator, quotechar, quoting, doublequote, escapechar, comment, encoding, dialect, error_bad_lines, warn_bad_lines, delim_whitespace, low_memory, memory_map, float_precision, storage_options)\u001b[0m\n\u001b[1;32m    608\u001b[0m     \u001b[0mkwds\u001b[0m\u001b[0;34m.\u001b[0m\u001b[0mupdate\u001b[0m\u001b[0;34m(\u001b[0m\u001b[0mkwds_defaults\u001b[0m\u001b[0;34m)\u001b[0m\u001b[0;34m\u001b[0m\u001b[0;34m\u001b[0m\u001b[0m\n\u001b[1;32m    609\u001b[0m \u001b[0;34m\u001b[0m\u001b[0m\n\u001b[0;32m--> 610\u001b[0;31m     \u001b[0;32mreturn\u001b[0m \u001b[0m_read\u001b[0m\u001b[0;34m(\u001b[0m\u001b[0mfilepath_or_buffer\u001b[0m\u001b[0;34m,\u001b[0m \u001b[0mkwds\u001b[0m\u001b[0;34m)\u001b[0m\u001b[0;34m\u001b[0m\u001b[0;34m\u001b[0m\u001b[0m\n\u001b[0m\u001b[1;32m    611\u001b[0m \u001b[0;34m\u001b[0m\u001b[0m\n\u001b[1;32m    612\u001b[0m \u001b[0;34m\u001b[0m\u001b[0m\n",
      "\u001b[0;32m~/miniconda3/envs/kgtkEnv/lib/python3.8/site-packages/pandas/io/parsers.py\u001b[0m in \u001b[0;36m_read\u001b[0;34m(filepath_or_buffer, kwds)\u001b[0m\n\u001b[1;32m    460\u001b[0m \u001b[0;34m\u001b[0m\u001b[0m\n\u001b[1;32m    461\u001b[0m     \u001b[0;31m# Create the parser.\u001b[0m\u001b[0;34m\u001b[0m\u001b[0;34m\u001b[0m\u001b[0;34m\u001b[0m\u001b[0m\n\u001b[0;32m--> 462\u001b[0;31m     \u001b[0mparser\u001b[0m \u001b[0;34m=\u001b[0m \u001b[0mTextFileReader\u001b[0m\u001b[0;34m(\u001b[0m\u001b[0mfilepath_or_buffer\u001b[0m\u001b[0;34m,\u001b[0m \u001b[0;34m**\u001b[0m\u001b[0mkwds\u001b[0m\u001b[0;34m)\u001b[0m\u001b[0;34m\u001b[0m\u001b[0;34m\u001b[0m\u001b[0m\n\u001b[0m\u001b[1;32m    463\u001b[0m \u001b[0;34m\u001b[0m\u001b[0m\n\u001b[1;32m    464\u001b[0m     \u001b[0;32mif\u001b[0m \u001b[0mchunksize\u001b[0m \u001b[0;32mor\u001b[0m \u001b[0miterator\u001b[0m\u001b[0;34m:\u001b[0m\u001b[0;34m\u001b[0m\u001b[0;34m\u001b[0m\u001b[0m\n",
      "\u001b[0;32m~/miniconda3/envs/kgtkEnv/lib/python3.8/site-packages/pandas/io/parsers.py\u001b[0m in \u001b[0;36m__init__\u001b[0;34m(self, f, engine, **kwds)\u001b[0m\n\u001b[1;32m    817\u001b[0m             \u001b[0mself\u001b[0m\u001b[0;34m.\u001b[0m\u001b[0moptions\u001b[0m\u001b[0;34m[\u001b[0m\u001b[0;34m\"has_index_names\"\u001b[0m\u001b[0;34m]\u001b[0m \u001b[0;34m=\u001b[0m \u001b[0mkwds\u001b[0m\u001b[0;34m[\u001b[0m\u001b[0;34m\"has_index_names\"\u001b[0m\u001b[0;34m]\u001b[0m\u001b[0;34m\u001b[0m\u001b[0;34m\u001b[0m\u001b[0m\n\u001b[1;32m    818\u001b[0m \u001b[0;34m\u001b[0m\u001b[0m\n\u001b[0;32m--> 819\u001b[0;31m         \u001b[0mself\u001b[0m\u001b[0;34m.\u001b[0m\u001b[0m_engine\u001b[0m \u001b[0;34m=\u001b[0m \u001b[0mself\u001b[0m\u001b[0;34m.\u001b[0m\u001b[0m_make_engine\u001b[0m\u001b[0;34m(\u001b[0m\u001b[0mself\u001b[0m\u001b[0;34m.\u001b[0m\u001b[0mengine\u001b[0m\u001b[0;34m)\u001b[0m\u001b[0;34m\u001b[0m\u001b[0;34m\u001b[0m\u001b[0m\n\u001b[0m\u001b[1;32m    820\u001b[0m \u001b[0;34m\u001b[0m\u001b[0m\n\u001b[1;32m    821\u001b[0m     \u001b[0;32mdef\u001b[0m \u001b[0mclose\u001b[0m\u001b[0;34m(\u001b[0m\u001b[0mself\u001b[0m\u001b[0;34m)\u001b[0m\u001b[0;34m:\u001b[0m\u001b[0;34m\u001b[0m\u001b[0;34m\u001b[0m\u001b[0m\n",
      "\u001b[0;32m~/miniconda3/envs/kgtkEnv/lib/python3.8/site-packages/pandas/io/parsers.py\u001b[0m in \u001b[0;36m_make_engine\u001b[0;34m(self, engine)\u001b[0m\n\u001b[1;32m   1048\u001b[0m             )\n\u001b[1;32m   1049\u001b[0m         \u001b[0;31m# error: Too many arguments for \"ParserBase\"\u001b[0m\u001b[0;34m\u001b[0m\u001b[0;34m\u001b[0m\u001b[0;34m\u001b[0m\u001b[0m\n\u001b[0;32m-> 1050\u001b[0;31m         \u001b[0;32mreturn\u001b[0m \u001b[0mmapping\u001b[0m\u001b[0;34m[\u001b[0m\u001b[0mengine\u001b[0m\u001b[0;34m]\u001b[0m\u001b[0;34m(\u001b[0m\u001b[0mself\u001b[0m\u001b[0;34m.\u001b[0m\u001b[0mf\u001b[0m\u001b[0;34m,\u001b[0m \u001b[0;34m**\u001b[0m\u001b[0mself\u001b[0m\u001b[0;34m.\u001b[0m\u001b[0moptions\u001b[0m\u001b[0;34m)\u001b[0m  \u001b[0;31m# type: ignore[call-arg]\u001b[0m\u001b[0;34m\u001b[0m\u001b[0;34m\u001b[0m\u001b[0m\n\u001b[0m\u001b[1;32m   1051\u001b[0m \u001b[0;34m\u001b[0m\u001b[0m\n\u001b[1;32m   1052\u001b[0m     \u001b[0;32mdef\u001b[0m \u001b[0m_failover_to_python\u001b[0m\u001b[0;34m(\u001b[0m\u001b[0mself\u001b[0m\u001b[0;34m)\u001b[0m\u001b[0;34m:\u001b[0m\u001b[0;34m\u001b[0m\u001b[0;34m\u001b[0m\u001b[0m\n",
      "\u001b[0;32m~/miniconda3/envs/kgtkEnv/lib/python3.8/site-packages/pandas/io/parsers.py\u001b[0m in \u001b[0;36m__init__\u001b[0;34m(self, src, **kwds)\u001b[0m\n\u001b[1;32m   1896\u001b[0m \u001b[0;34m\u001b[0m\u001b[0m\n\u001b[1;32m   1897\u001b[0m         \u001b[0;32mtry\u001b[0m\u001b[0;34m:\u001b[0m\u001b[0;34m\u001b[0m\u001b[0;34m\u001b[0m\u001b[0m\n\u001b[0;32m-> 1898\u001b[0;31m             \u001b[0mself\u001b[0m\u001b[0;34m.\u001b[0m\u001b[0m_reader\u001b[0m \u001b[0;34m=\u001b[0m \u001b[0mparsers\u001b[0m\u001b[0;34m.\u001b[0m\u001b[0mTextReader\u001b[0m\u001b[0;34m(\u001b[0m\u001b[0mself\u001b[0m\u001b[0;34m.\u001b[0m\u001b[0mhandles\u001b[0m\u001b[0;34m.\u001b[0m\u001b[0mhandle\u001b[0m\u001b[0;34m,\u001b[0m \u001b[0;34m**\u001b[0m\u001b[0mkwds\u001b[0m\u001b[0;34m)\u001b[0m\u001b[0;34m\u001b[0m\u001b[0;34m\u001b[0m\u001b[0m\n\u001b[0m\u001b[1;32m   1899\u001b[0m         \u001b[0;32mexcept\u001b[0m \u001b[0mException\u001b[0m\u001b[0;34m:\u001b[0m\u001b[0;34m\u001b[0m\u001b[0;34m\u001b[0m\u001b[0m\n\u001b[1;32m   1900\u001b[0m             \u001b[0mself\u001b[0m\u001b[0;34m.\u001b[0m\u001b[0mhandles\u001b[0m\u001b[0;34m.\u001b[0m\u001b[0mclose\u001b[0m\u001b[0;34m(\u001b[0m\u001b[0;34m)\u001b[0m\u001b[0;34m\u001b[0m\u001b[0;34m\u001b[0m\u001b[0m\n",
      "\u001b[0;32mpandas/_libs/parsers.pyx\u001b[0m in \u001b[0;36mpandas._libs.parsers.TextReader.__cinit__\u001b[0;34m()\u001b[0m\n",
      "\u001b[0;31mEmptyDataError\u001b[0m: No columns to parse from file"
     ]
    }
   ],
   "source": [
    "hierDF_transP279_filtered_sibs1 = pd.read_csv('../data/Master_P279_dataset/P279Siblings_transP279_filtered.tsv', sep='\\t')"
   ]
  },
  {
   "cell_type": "code",
   "execution_count": 53,
   "id": "reverse-belief",
   "metadata": {},
   "outputs": [],
   "source": [
    "hierDF_transP279_filtered_sibs2 = hierDF_transP279_filtered_sibs1[hierDF_transP279_filtered_sibs1.node1_desc != hierDF_transP279_filtered_sibs1.node2_desc]"
   ]
  },
  {
   "cell_type": "code",
   "execution_count": 64,
   "id": "lasting-shark",
   "metadata": {},
   "outputs": [
    {
     "name": "stdout",
     "output_type": "stream",
     "text": [
      "Dataset reduced from 10000000 to 3707847 by eliminating rows where node1_desc == node2_desc\n"
     ]
    }
   ],
   "source": [
    "print(f\"Dataset reduced from {len(hierDF_transP279_filtered_sibs1)} to {len(hierDF_transP279_filtered_sibs2)} by eliminating rows where node1_desc == node2_desc\")"
   ]
  },
  {
   "cell_type": "code",
   "execution_count": null,
   "id": "seasonal-daisy",
   "metadata": {},
   "outputs": [],
   "source": [
    "hierDF_transP279_filtered_sibs1 = hierDF_transP279_filtered_sibs2"
   ]
  },
  {
   "cell_type": "code",
   "execution_count": 45,
   "id": "urban-spectrum",
   "metadata": {},
   "outputs": [],
   "source": [
    "from sentence_transformers import SentenceTransformer\n",
    "from sklearn.metrics.pairwise import cosine_similarity\n",
    "from time import time\n",
    "import pandas as pd\n",
    "\n",
    "def getSentEmbeddings(valSeries, modelName):\n",
    "    model = SentenceTransformer(modelName)\n",
    "    start = time()\n",
    "    encodings = model.encode(valSeries.to_list())\n",
    "    print(time()-start,'s')\n",
    "    return encodings\n",
    "\n",
    "modelName = 'sentence-transformers/all-distilroberta-v1'"
   ]
  },
  {
   "cell_type": "code",
   "execution_count": 46,
   "id": "incredible-green",
   "metadata": {},
   "outputs": [
    {
     "name": "stdout",
     "output_type": "stream",
     "text": [
      "15682.8797955513 s\n",
      "15108.38348031044 s\n"
     ]
    }
   ],
   "source": [
    "hierDF_transP279_filtered_sibs1['node1_emb'] = pd.Series(list(getSentEmbeddings(hierDF_transP279_filtered_sibs1.node1_sent, modelName)))\n",
    "hierDF_transP279_filtered_sibs1['node2_emb'] = pd.Series(list(getSentEmbeddings(hierDF_transP279_filtered_sibs1.node2_sent, modelName)))"
   ]
  },
  {
   "cell_type": "code",
   "execution_count": 48,
   "id": "suited-prerequisite",
   "metadata": {},
   "outputs": [
    {
     "data": {
      "text/plain": [
       "(0, 0)"
      ]
     },
     "execution_count": 48,
     "metadata": {},
     "output_type": "execute_result"
    }
   ],
   "source": [
    "hierDF_transP279_filtered_sibs1.node1_emb.isna().sum(), hierDF_transP279_filtered_sibs1.node2_emb.isna().sum()"
   ]
  },
  {
   "cell_type": "code",
   "execution_count": 49,
   "id": "asian-review",
   "metadata": {},
   "outputs": [],
   "source": [
    "hierDF_transP279_filtered_sibs1['similarity_value'] = hierDF_transP279_filtered_sibs1.apply(lambda p: cosine_similarity(p.node1_emb.reshape(1,-1), p.node2_emb.reshape(1,-1))[0][0], axis=1)"
   ]
  },
  {
   "cell_type": "code",
   "execution_count": 52,
   "id": "global-immunology",
   "metadata": {},
   "outputs": [
    {
     "data": {
      "text/plain": [
       "count    1.000000e+07\n",
       "mean     9.141334e-01\n",
       "std      1.338514e-01\n",
       "min     -5.180746e-02\n",
       "25%      8.585989e-01\n",
       "50%      9.876406e-01\n",
       "75%      9.928079e-01\n",
       "max      1.000000e+00\n",
       "Name: bert2SentSim, dtype: float64"
      ]
     },
     "execution_count": 52,
     "metadata": {},
     "output_type": "execute_result"
    }
   ],
   "source": [
    "hierDF_transP279_filtered_sibs1['similarity_value'].describe()"
   ]
  },
  {
   "cell_type": "code",
   "execution_count": 65,
   "id": "curious-drilling",
   "metadata": {},
   "outputs": [],
   "source": [
    "hierDF_transP279_filtered_sibs2[['id', 'node1', 'label', 'node2', 'par_node', 'similarity_value']].to_csv('../data/Master_P279_dataset/P279Siblings_transP279_filtered_min_cols_with_desc_dups_removed.csv')"
   ]
  },
  {
   "cell_type": "code",
   "execution_count": null,
   "id": "written-yorkshire",
   "metadata": {},
   "outputs": [],
   "source": []
  },
  {
   "cell_type": "code",
   "execution_count": null,
   "id": "white-blind",
   "metadata": {},
   "outputs": [],
   "source": []
  },
  {
   "cell_type": "code",
   "execution_count": null,
   "id": "thrown-abuse",
   "metadata": {},
   "outputs": [],
   "source": []
  },
  {
   "cell_type": "markdown",
   "id": "neither-consumer",
   "metadata": {},
   "source": [
    "# Class Similarity Datasets"
   ]
  },
  {
   "cell_type": "markdown",
   "id": "spread-snapshot",
   "metadata": {},
   "source": [
    "## ChildPar"
   ]
  },
  {
   "cell_type": "code",
   "execution_count": 32,
   "id": "supposed-newport",
   "metadata": {},
   "outputs": [],
   "source": [
    "hierDF_transP279_filtered2 = pd.read_csv('../data/Master_P279_dataset/P279ChildPar_transP279_filtered_min_cols.csv')"
   ]
  },
  {
   "cell_type": "code",
   "execution_count": 39,
   "id": "reliable-publisher",
   "metadata": {},
   "outputs": [],
   "source": [
    "hierDF_transP279_filtered2[['node1', 'node2']].rename(columns={'node1':'q1', 'node2':'q2'}).to_csv('../data/Master_P279_dataset/P279ChildPar_transP279_filtered_min_cols_FOR_CLASS.tsv', sep='\\t', index=False)"
   ]
  },
  {
   "cell_type": "code",
   "execution_count": 42,
   "id": "pregnant-edgar",
   "metadata": {},
   "outputs": [],
   "source": [
    "# import os\n",
    "# import requests\n",
    "# import pandas as pd\n",
    "\n",
    "\n",
    "# def call_semantic_similarity(input_file, url):\n",
    "#     file_name = os.path.basename(input_file)\n",
    "\n",
    "#     files = {\n",
    "#         'file': (file_name, open(input_file, mode='rb'), 'application/octet-stream')\n",
    "#     }\n",
    "#     resp = requests.post(url, files=files)\n",
    "#     print(resp)\n",
    "#     s = resp.json()\n",
    "\n",
    "#     return pd.DataFrame(s)\n",
    " \n",
    "\n",
    "# url = 'https://kgtk.isi.edu/similarity_api'\n",
    "# df = call_semantic_similarity('../data/Master_P279_dataset/P279ChildPar_transP279_filtered_min_cols_FOR_CLASS.tsv', url)\n",
    "# # df.to_csv('test_file_similarity.tsv', index=False, sep='\\t')"
   ]
  },
  {
   "cell_type": "code",
   "execution_count": 74,
   "id": "flying-perception",
   "metadata": {},
   "outputs": [
    {
     "data": {
      "application/vnd.jupyter.widget-view+json": {
       "model_id": "978c7892341342029d881b0bf31a6f66",
       "version_major": 2,
       "version_minor": 0
      },
      "text/plain": [
       "  0%|          | 0/303284 [00:00<?, ?it/s]"
      ]
     },
     "metadata": {},
     "output_type": "display_data"
    },
    {
     "name": "stdout",
     "output_type": "stream",
     "text": [
      "could not convert string to float: ''\n",
      "Resp not found for Q102108504, Q100171002\n"
     ]
    }
   ],
   "source": [
    "import requests\n",
    "from tqdm.notebook import tqdm\n",
    "import json\n",
    "from joblib import Parallel, delayed\n",
    "import sys\n",
    "\n",
    "hierDF_transP279_filtered2_class_arr = []\n",
    "\n",
    "def fetchClassSim(row):\n",
    "    resp = requests.get(\"https://kgtk.isi.edu/similarity_api?q1=\"+row['node1']+\"&q2=\"+row['node2']+\"&embedding_type=class\")\n",
    "    try:\n",
    "        row['classSim'] = float(resp.json()['similarity']) if resp else -1\n",
    "    except Exception as exc:\n",
    "        print(exc)\n",
    "        print(f\"Resp not found for {row['node1']}, {row['node2']}\")\n",
    "        row['classSim'] = None\n",
    "    row['Resp_code'] = resp\n",
    "    return row\n",
    "\n",
    "hierDF_transP279_filtered2_class_arr = Parallel(n_jobs=5)(delayed(fetchClassSim)(row) for _, row in tqdm(hierDF_transP279_filtered2.iloc[:100].iterrows(), total=len(hierDF_transP279_filtered2)))\n",
    "                                                                                                                                          \n",
    "                                                                                                                                          "
   ]
  },
  {
   "cell_type": "code",
   "execution_count": 75,
   "id": "empirical-suspect",
   "metadata": {},
   "outputs": [
    {
     "data": {
      "text/plain": [
       "[Unnamed: 0                                      0\n",
       " id              Q17372279-P279-Q100026-beba8cd1-0\n",
       " node1                                   Q17372279\n",
       " label                                        P279\n",
       " node2                                     Q100026\n",
       " bert2SentSim                             0.666525\n",
       " classSim                                 0.835782\n",
       " Resp_code                        <Response [200]>\n",
       " Name: 0, dtype: object,\n",
       " Unnamed: 0                                      1\n",
       " id              Q17372377-P279-Q100026-fd42bd71-0\n",
       " node1                                   Q17372377\n",
       " label                                        P279\n",
       " node2                                     Q100026\n",
       " bert2SentSim                             0.700515\n",
       " classSim                                  0.94674\n",
       " Resp_code                        <Response [200]>\n",
       " Name: 1, dtype: object,\n",
       " Unnamed: 0                                      2\n",
       " id              Q17372444-P279-Q100026-ca0fc4bd-0\n",
       " node1                                   Q17372444\n",
       " label                                        P279\n",
       " node2                                     Q100026\n",
       " bert2SentSim                             0.683245\n",
       " classSim                                 0.946647\n",
       " Resp_code                        <Response [200]>\n",
       " Name: 2, dtype: object,\n",
       " Unnamed: 0                                      3\n",
       " id              Q17372455-P279-Q100026-c2b1bf36-0\n",
       " node1                                   Q17372455\n",
       " label                                        P279\n",
       " node2                                     Q100026\n",
       " bert2SentSim                             0.689516\n",
       " classSim                                 0.943256\n",
       " Resp_code                        <Response [200]>\n",
       " Name: 3, dtype: object,\n",
       " Unnamed: 0                                     4\n",
       " id              Q2029940-P279-Q100026-ceba4380-0\n",
       " node1                                   Q2029940\n",
       " label                                       P279\n",
       " node2                                    Q100026\n",
       " bert2SentSim                            0.603161\n",
       " classSim                                0.809487\n",
       " Resp_code                       <Response [200]>\n",
       " Name: 4, dtype: object,\n",
       " Unnamed: 0                                    5\n",
       " id              Q209480-P279-Q100026-a218e96b-0\n",
       " node1                                   Q209480\n",
       " label                                      P279\n",
       " node2                                   Q100026\n",
       " bert2SentSim                            0.61352\n",
       " classSim                               0.975716\n",
       " Resp_code                      <Response [200]>\n",
       " Name: 5, dtype: object,\n",
       " Unnamed: 0                                      6\n",
       " id              Q77929250-P279-Q100026-964ec021-0\n",
       " node1                                   Q77929250\n",
       " label                                        P279\n",
       " node2                                     Q100026\n",
       " bert2SentSim                              0.76767\n",
       " classSim                                 0.961308\n",
       " Resp_code                        <Response [200]>\n",
       " Name: 6, dtype: object,\n",
       " Unnamed: 0                                      7\n",
       " id              Q1087043-P279-Q1000371-945e7797-0\n",
       " node1                                    Q1087043\n",
       " label                                        P279\n",
       " node2                                    Q1000371\n",
       " bert2SentSim                             0.699843\n",
       " classSim                                 0.671266\n",
       " Resp_code                        <Response [200]>\n",
       " Name: 7, dtype: object,\n",
       " Unnamed: 0                                    8\n",
       " id              Q384656-P279-Q100047-6147b9a8-0\n",
       " node1                                   Q384656\n",
       " label                                      P279\n",
       " node2                                   Q100047\n",
       " bert2SentSim                           0.681549\n",
       " classSim                               0.943953\n",
       " Resp_code                      <Response [200]>\n",
       " Name: 8, dtype: object,\n",
       " Unnamed: 0                                    9\n",
       " id              Q471089-P279-Q100047-473b504b-0\n",
       " node1                                   Q471089\n",
       " label                                      P279\n",
       " node2                                   Q100047\n",
       " bert2SentSim                           0.679593\n",
       " classSim                               0.943953\n",
       " Resp_code                      <Response [200]>\n",
       " Name: 9, dtype: object,\n",
       " Unnamed: 0                                   10\n",
       " id              Q471094-P279-Q100047-14b1b1df-0\n",
       " node1                                   Q471094\n",
       " label                                      P279\n",
       " node2                                   Q100047\n",
       " bert2SentSim                           0.681549\n",
       " classSim                               0.943953\n",
       " Resp_code                      <Response [200]>\n",
       " Name: 10, dtype: object,\n",
       " Unnamed: 0                                   11\n",
       " id              Q471102-P279-Q100047-886a847c-0\n",
       " node1                                   Q471102\n",
       " label                                      P279\n",
       " node2                                   Q100047\n",
       " bert2SentSim                           0.681549\n",
       " classSim                               0.943953\n",
       " Resp_code                      <Response [200]>\n",
       " Name: 11, dtype: object,\n",
       " Unnamed: 0                                   12\n",
       " id              Q471127-P279-Q100047-6738fc46-0\n",
       " node1                                   Q471127\n",
       " label                                      P279\n",
       " node2                                   Q100047\n",
       " bert2SentSim                           0.681549\n",
       " classSim                               0.943953\n",
       " Resp_code                      <Response [200]>\n",
       " Name: 12, dtype: object,\n",
       " Unnamed: 0                                   13\n",
       " id              Q471144-P279-Q100047-766e1fa3-0\n",
       " node1                                   Q471144\n",
       " label                                      P279\n",
       " node2                                   Q100047\n",
       " bert2SentSim                           0.811462\n",
       " classSim                               0.943953\n",
       " Resp_code                      <Response [200]>\n",
       " Name: 13, dtype: object,\n",
       " Unnamed: 0                                   14\n",
       " id              Q471158-P279-Q100047-7955aa40-0\n",
       " node1                                   Q471158\n",
       " label                                      P279\n",
       " node2                                   Q100047\n",
       " bert2SentSim                           0.681549\n",
       " classSim                               0.943953\n",
       " Resp_code                      <Response [200]>\n",
       " Name: 14, dtype: object,\n",
       " Unnamed: 0                                         15\n",
       " id              Q100052562-P279-Q100052008-1a4fa432-0\n",
       " node1                                      Q100052562\n",
       " label                                            P279\n",
       " node2                                      Q100052008\n",
       " bert2SentSim                                 0.515993\n",
       " classSim                                     0.913344\n",
       " Resp_code                            <Response [200]>\n",
       " Name: 15, dtype: object,\n",
       " Unnamed: 0                                         16\n",
       " id              Q100052791-P279-Q100052008-1d15b1ae-0\n",
       " node1                                      Q100052791\n",
       " label                                            P279\n",
       " node2                                      Q100052008\n",
       " bert2SentSim                                 0.478483\n",
       " classSim                                     0.907455\n",
       " Resp_code                            <Response [200]>\n",
       " Name: 16, dtype: object,\n",
       " Unnamed: 0                                         17\n",
       " id              Q100119502-P279-Q100052008-d2c330a4-0\n",
       " node1                                      Q100119502\n",
       " label                                            P279\n",
       " node2                                      Q100052008\n",
       " bert2SentSim                                  0.51221\n",
       " classSim                                     0.913229\n",
       " Resp_code                            <Response [200]>\n",
       " Name: 17, dtype: object,\n",
       " Unnamed: 0                                        18\n",
       " id              Q88594442-P279-Q100052008-badba21b-0\n",
       " node1                                      Q88594442\n",
       " label                                           P279\n",
       " node2                                     Q100052008\n",
       " bert2SentSim                                0.424672\n",
       " classSim                                     0.91916\n",
       " Resp_code                           <Response [200]>\n",
       " Name: 18, dtype: object,\n",
       " Unnamed: 0                                     19\n",
       " id              Q1133024-P279-Q1000660-6d8a1a17-0\n",
       " node1                                    Q1133024\n",
       " label                                        P279\n",
       " node2                                    Q1000660\n",
       " bert2SentSim                             0.556017\n",
       " classSim                                  0.96031\n",
       " Resp_code                        <Response [200]>\n",
       " Name: 19, dtype: object,\n",
       " Unnamed: 0                                     20\n",
       " id              Q1231309-P279-Q1000660-656bad41-0\n",
       " node1                                    Q1231309\n",
       " label                                        P279\n",
       " node2                                    Q1000660\n",
       " bert2SentSim                             0.473025\n",
       " classSim                                 0.987153\n",
       " Resp_code                        <Response [200]>\n",
       " Name: 20, dtype: object,\n",
       " Unnamed: 0                                     21\n",
       " id              Q1892554-P279-Q1000660-b60addd4-0\n",
       " node1                                    Q1892554\n",
       " label                                        P279\n",
       " node2                                    Q1000660\n",
       " bert2SentSim                             0.710084\n",
       " classSim                                 0.986632\n",
       " Resp_code                        <Response [200]>\n",
       " Name: 21, dtype: object,\n",
       " Unnamed: 0                                     22\n",
       " id              Q2835946-P279-Q1000660-ff0a5cf9-0\n",
       " node1                                    Q2835946\n",
       " label                                        P279\n",
       " node2                                    Q1000660\n",
       " bert2SentSim                              0.69158\n",
       " classSim                                 0.986632\n",
       " Resp_code                        <Response [200]>\n",
       " Name: 22, dtype: object,\n",
       " Unnamed: 0                                     23\n",
       " id              Q3413373-P279-Q1000660-9d565f5e-0\n",
       " node1                                    Q3413373\n",
       " label                                        P279\n",
       " node2                                    Q1000660\n",
       " bert2SentSim                             0.676028\n",
       " classSim                                 0.986632\n",
       " Resp_code                        <Response [200]>\n",
       " Name: 23, dtype: object,\n",
       " Unnamed: 0                                     24\n",
       " id              Q5611316-P279-Q1000660-6b051008-0\n",
       " node1                                    Q5611316\n",
       " label                                        P279\n",
       " node2                                    Q1000660\n",
       " bert2SentSim                             0.652025\n",
       " classSim                                 0.986632\n",
       " Resp_code                        <Response [200]>\n",
       " Name: 24, dtype: object,\n",
       " Unnamed: 0                                    25\n",
       " id              Q649977-P279-Q1000660-cc4475c9-0\n",
       " node1                                    Q649977\n",
       " label                                       P279\n",
       " node2                                   Q1000660\n",
       " bert2SentSim                            0.548393\n",
       " classSim                                0.986632\n",
       " Resp_code                       <Response [200]>\n",
       " Name: 25, dtype: object,\n",
       " Unnamed: 0                                     26\n",
       " id              Q7269432-P279-Q1000660-8976e0ff-0\n",
       " node1                                    Q7269432\n",
       " label                                        P279\n",
       " node2                                    Q1000660\n",
       " bert2SentSim                             0.439381\n",
       " classSim                                 0.989483\n",
       " Resp_code                        <Response [200]>\n",
       " Name: 26, dtype: object,\n",
       " Unnamed: 0                                    27\n",
       " id              Q844980-P279-Q1000660-5f020e98-0\n",
       " node1                                    Q844980\n",
       " label                                       P279\n",
       " node2                                   Q1000660\n",
       " bert2SentSim                            0.678084\n",
       " classSim                                0.986632\n",
       " Resp_code                       <Response [200]>\n",
       " Name: 27, dtype: object,\n",
       " Unnamed: 0                                     28\n",
       " id              Q1051606-P279-Q1000809-995e5221-0\n",
       " node1                                    Q1051606\n",
       " label                                        P279\n",
       " node2                                    Q1000809\n",
       " bert2SentSim                             0.740599\n",
       " classSim                                 0.912943\n",
       " Resp_code                        <Response [200]>\n",
       " Name: 28, dtype: object,\n",
       " Unnamed: 0                                     29\n",
       " id              Q4984171-P279-Q1000809-95749f41-0\n",
       " node1                                    Q4984171\n",
       " label                                        P279\n",
       " node2                                    Q1000809\n",
       " bert2SentSim                             0.808338\n",
       " classSim                                 0.957835\n",
       " Resp_code                        <Response [200]>\n",
       " Name: 29, dtype: object,\n",
       " Unnamed: 0                                     30\n",
       " id              Q2047562-P279-Q1001041-45feee81-0\n",
       " node1                                    Q2047562\n",
       " label                                        P279\n",
       " node2                                    Q1001041\n",
       " bert2SentSim                             0.359032\n",
       " classSim                                 0.707243\n",
       " Resp_code                        <Response [200]>\n",
       " Name: 30, dtype: object,\n",
       " Unnamed: 0                                     31\n",
       " id              Q8069073-P279-Q1001041-3f13f5bb-0\n",
       " node1                                    Q8069073\n",
       " label                                        P279\n",
       " node2                                    Q1001041\n",
       " bert2SentSim                             0.769952\n",
       " classSim                                 0.849692\n",
       " Resp_code                        <Response [200]>\n",
       " Name: 31, dtype: object,\n",
       " Unnamed: 0                                     32\n",
       " id              Q1070955-P279-Q1001051-5df03dac-0\n",
       " node1                                    Q1070955\n",
       " label                                        P279\n",
       " node2                                    Q1001051\n",
       " bert2SentSim                             0.800508\n",
       " classSim                                  0.86936\n",
       " Resp_code                        <Response [200]>\n",
       " Name: 32, dtype: object,\n",
       " Unnamed: 0                                     33\n",
       " id              Q1153367-P279-Q1001051-34783d55-0\n",
       " node1                                    Q1153367\n",
       " label                                        P279\n",
       " node2                                    Q1001051\n",
       " bert2SentSim                             0.837581\n",
       " classSim                                 0.876525\n",
       " Resp_code                        <Response [200]>\n",
       " Name: 33, dtype: object,\n",
       " Unnamed: 0                                     34\n",
       " id              Q1958065-P279-Q1001051-d6eb5968-0\n",
       " node1                                    Q1958065\n",
       " label                                        P279\n",
       " node2                                    Q1001051\n",
       " bert2SentSim                             0.848892\n",
       " classSim                                 0.707989\n",
       " Resp_code                        <Response [200]>\n",
       " Name: 34, dtype: object,\n",
       " Unnamed: 0                                    35\n",
       " id              Q209680-P279-Q1001051-072eeb1b-0\n",
       " node1                                    Q209680\n",
       " label                                       P279\n",
       " node2                                   Q1001051\n",
       " bert2SentSim                            0.656872\n",
       " classSim                                0.724838\n",
       " Resp_code                       <Response [200]>\n",
       " Name: 35, dtype: object,\n",
       " Unnamed: 0                                     36\n",
       " id              Q2986204-P279-Q1001051-7b21695a-0\n",
       " node1                                    Q2986204\n",
       " label                                        P279\n",
       " node2                                    Q1001051\n",
       " bert2SentSim                             0.816212\n",
       " classSim                                 0.796208\n",
       " Resp_code                        <Response [200]>\n",
       " Name: 36, dtype: object,\n",
       " Unnamed: 0                                    37\n",
       " id              Q385530-P279-Q1001051-17db3704-0\n",
       " node1                                    Q385530\n",
       " label                                       P279\n",
       " node2                                   Q1001051\n",
       " bert2SentSim                             0.75061\n",
       " classSim                                0.780191\n",
       " Resp_code                       <Response [200]>\n",
       " Name: 37, dtype: object,\n",
       " Unnamed: 0                                      38\n",
       " id              Q41795401-P279-Q1001051-5747dcc4-0\n",
       " node1                                    Q41795401\n",
       " label                                         P279\n",
       " node2                                     Q1001051\n",
       " bert2SentSim                              0.787191\n",
       " classSim                                   0.88381\n",
       " Resp_code                         <Response [200]>\n",
       " Name: 38, dtype: object,\n",
       " Unnamed: 0                                    39\n",
       " id              Q612405-P279-Q1001051-bb6fa17c-0\n",
       " node1                                    Q612405\n",
       " label                                       P279\n",
       " node2                                   Q1001051\n",
       " bert2SentSim                             0.72366\n",
       " classSim                                 0.86936\n",
       " Resp_code                       <Response [200]>\n",
       " Name: 39, dtype: object,\n",
       " Unnamed: 0                                    40\n",
       " id              Q668439-P279-Q1001051-bbba9ea3-0\n",
       " node1                                    Q668439\n",
       " label                                       P279\n",
       " node2                                   Q1001051\n",
       " bert2SentSim                            0.698926\n",
       " classSim                                 0.86936\n",
       " Resp_code                       <Response [200]>\n",
       " Name: 40, dtype: object,\n",
       " Unnamed: 0                                     41\n",
       " id              Q7133779-P279-Q1001051-4fc71627-0\n",
       " node1                                    Q7133779\n",
       " label                                        P279\n",
       " node2                                    Q1001051\n",
       " bert2SentSim                             0.576617\n",
       " classSim                                  0.86936\n",
       " Resp_code                        <Response [200]>\n",
       " Name: 41, dtype: object,\n",
       " Unnamed: 0                                     42\n",
       " id              Q7630946-P279-Q1001051-2e78f5b5-0\n",
       " node1                                    Q7630946\n",
       " label                                        P279\n",
       " node2                                    Q1001051\n",
       " bert2SentSim                             0.632298\n",
       " classSim                                 0.796208\n",
       " Resp_code                        <Response [200]>\n",
       " Name: 42, dtype: object,\n",
       " Unnamed: 0                                     43\n",
       " id              Q1056352-P279-Q1001059-c1976180-0\n",
       " node1                                    Q1056352\n",
       " label                                        P279\n",
       " node2                                    Q1001059\n",
       " bert2SentSim                             0.717131\n",
       " classSim                                 0.886053\n",
       " Resp_code                        <Response [200]>\n",
       " Name: 43, dtype: object,\n",
       " Unnamed: 0                                     44\n",
       " id              Q2123051-P279-Q1001059-18b4564b-0\n",
       " node1                                    Q2123051\n",
       " label                                        P279\n",
       " node2                                    Q1001059\n",
       " bert2SentSim                             0.606046\n",
       " classSim                                 0.465094\n",
       " Resp_code                        <Response [200]>\n",
       " Name: 44, dtype: object,\n",
       " Unnamed: 0                                    45\n",
       " id              Q444278-P279-Q1001059-0c74af28-0\n",
       " node1                                    Q444278\n",
       " label                                       P279\n",
       " node2                                   Q1001059\n",
       " bert2SentSim                            0.481163\n",
       " classSim                                0.881922\n",
       " Resp_code                       <Response [200]>\n",
       " Name: 45, dtype: object,\n",
       " Unnamed: 0                                     46\n",
       " id              Q7240696-P279-Q1001059-31dfa177-0\n",
       " node1                                    Q7240696\n",
       " label                                        P279\n",
       " node2                                    Q1001059\n",
       " bert2SentSim                             0.752948\n",
       " classSim                                 0.881922\n",
       " Resp_code                        <Response [200]>\n",
       " Name: 46, dtype: object,\n",
       " Unnamed: 0                                      47\n",
       " id              Q85776190-P279-Q1001059-b7a4aad6-0\n",
       " node1                                    Q85776190\n",
       " label                                         P279\n",
       " node2                                     Q1001059\n",
       " bert2SentSim                              0.747289\n",
       " classSim                                   0.53963\n",
       " Resp_code                         <Response [200]>\n",
       " Name: 47, dtype: object,\n",
       " Unnamed: 0                                         48\n",
       " id              Q100052008-P279-Q100116222-d1597eca-0\n",
       " node1                                      Q100052008\n",
       " label                                            P279\n",
       " node2                                      Q100116222\n",
       " bert2SentSim                                 0.725062\n",
       " classSim                                     0.909364\n",
       " Resp_code                            <Response [200]>\n",
       " Name: 48, dtype: object,\n",
       " Unnamed: 0                                        49\n",
       " id              Q27303706-P279-Q100116222-526530c6-0\n",
       " node1                                      Q27303706\n",
       " label                                           P279\n",
       " node2                                     Q100116222\n",
       " bert2SentSim                                0.537653\n",
       " classSim                                    0.917887\n",
       " Resp_code                           <Response [200]>\n",
       " Name: 49, dtype: object,\n",
       " Unnamed: 0                                        50\n",
       " id              Q99565932-P279-Q100116222-139f958c-0\n",
       " node1                                      Q99565932\n",
       " label                                           P279\n",
       " node2                                     Q100116222\n",
       " bert2SentSim                                0.691907\n",
       " classSim                                    0.892978\n",
       " Resp_code                           <Response [200]>\n",
       " Name: 50, dtype: object,\n",
       " Unnamed: 0                                     51\n",
       " id              Q1416523-P279-Q1001329-2b6d0c1e-0\n",
       " node1                                    Q1416523\n",
       " label                                        P279\n",
       " node2                                    Q1001329\n",
       " bert2SentSim                             0.160931\n",
       " classSim                                 0.871646\n",
       " Resp_code                        <Response [200]>\n",
       " Name: 51, dtype: object,\n",
       " Unnamed: 0                                     52\n",
       " id              Q2963918-P279-Q1001329-c85a352f-0\n",
       " node1                                    Q2963918\n",
       " label                                        P279\n",
       " node2                                    Q1001329\n",
       " bert2SentSim                             0.469497\n",
       " classSim                                 0.878703\n",
       " Resp_code                        <Response [200]>\n",
       " Name: 52, dtype: object,\n",
       " Unnamed: 0                                      53\n",
       " id              Q56756850-P279-Q1001329-6cb334b1-0\n",
       " node1                                    Q56756850\n",
       " label                                         P279\n",
       " node2                                     Q1001329\n",
       " bert2SentSim                              0.412103\n",
       " classSim                                  0.363595\n",
       " Resp_code                         <Response [200]>\n",
       " Name: 53, dtype: object,\n",
       " Unnamed: 0                                      54\n",
       " id              Q60782200-P279-Q1001329-0b4da903-0\n",
       " node1                                    Q60782200\n",
       " label                                         P279\n",
       " node2                                     Q1001329\n",
       " bert2SentSim                              0.239958\n",
       " classSim                                  0.871646\n",
       " Resp_code                         <Response [200]>\n",
       " Name: 54, dtype: object,\n",
       " Unnamed: 0                                      55\n",
       " id              Q78841106-P279-Q1001329-d474c822-0\n",
       " node1                                    Q78841106\n",
       " label                                         P279\n",
       " node2                                     Q1001329\n",
       " bert2SentSim                              0.496099\n",
       " classSim                                  0.871646\n",
       " Resp_code                         <Response [200]>\n",
       " Name: 55, dtype: object,\n",
       " Unnamed: 0                                    56\n",
       " id              Q798863-P279-Q1001329-c284c2ec-0\n",
       " node1                                    Q798863\n",
       " label                                       P279\n",
       " node2                                   Q1001329\n",
       " bert2SentSim                            0.597623\n",
       " classSim                                0.871646\n",
       " Resp_code                       <Response [200]>\n",
       " Name: 56, dtype: object,\n",
       " Unnamed: 0                                      57\n",
       " id              Q96337569-P279-Q1001329-b8b30fb9-0\n",
       " node1                                    Q96337569\n",
       " label                                         P279\n",
       " node2                                     Q1001329\n",
       " bert2SentSim                              0.210435\n",
       " classSim                                  0.871646\n",
       " Resp_code                         <Response [200]>\n",
       " Name: 57, dtype: object,\n",
       " Unnamed: 0                                       58\n",
       " id              Q3403683-P279-Q100135295-fd0a0a92-0\n",
       " node1                                      Q3403683\n",
       " label                                          P279\n",
       " node2                                    Q100135295\n",
       " bert2SentSim                               0.371629\n",
       " classSim                                   0.811291\n",
       " Resp_code                          <Response [200]>\n",
       " Name: 58, dtype: object,\n",
       " Unnamed: 0                                         59\n",
       " id              Q100095237-P279-Q100136951-a7f6f753-0\n",
       " node1                                      Q100095237\n",
       " label                                            P279\n",
       " node2                                      Q100136951\n",
       " bert2SentSim                                 0.883361\n",
       " classSim                                     0.909817\n",
       " Resp_code                            <Response [200]>\n",
       " Name: 59, dtype: object,\n",
       " Unnamed: 0                                         60\n",
       " id              Q100136066-P279-Q100136951-1e2368cd-0\n",
       " node1                                      Q100136066\n",
       " label                                            P279\n",
       " node2                                      Q100136951\n",
       " bert2SentSim                                 0.883361\n",
       " classSim                                     0.843155\n",
       " Resp_code                            <Response [200]>\n",
       " Name: 60, dtype: object,\n",
       " Unnamed: 0                                      61\n",
       " id              Q235041-P279-Q100136951-07d30679-0\n",
       " node1                                      Q235041\n",
       " label                                         P279\n",
       " node2                                   Q100136951\n",
       " bert2SentSim                              0.607752\n",
       " classSim                                  0.719618\n",
       " Resp_code                         <Response [200]>\n",
       " Name: 61, dtype: object,\n",
       " Unnamed: 0                                      62\n",
       " id              Q22006653-P279-Q1001378-98eddb62-0\n",
       " node1                                    Q22006653\n",
       " label                                         P279\n",
       " node2                                     Q1001378\n",
       " bert2SentSim                              0.366579\n",
       " classSim                                    0.5263\n",
       " Resp_code                         <Response [200]>\n",
       " Name: 62, dtype: object,\n",
       " Unnamed: 0                                     63\n",
       " id              Q2895476-P279-Q1001378-9d15228e-0\n",
       " node1                                    Q2895476\n",
       " label                                        P279\n",
       " node2                                    Q1001378\n",
       " bert2SentSim                             0.682378\n",
       " classSim                                  0.75066\n",
       " Resp_code                        <Response [200]>\n",
       " Name: 63, dtype: object,\n",
       " Unnamed: 0                                     64\n",
       " id              Q2918907-P279-Q1001378-39c09697-0\n",
       " node1                                    Q2918907\n",
       " label                                        P279\n",
       " node2                                    Q1001378\n",
       " bert2SentSim                             0.813292\n",
       " classSim                                 0.775328\n",
       " Resp_code                        <Response [200]>\n",
       " Name: 64, dtype: object,\n",
       " Unnamed: 0                                     65\n",
       " id              Q3516833-P279-Q1001378-30384a7c-0\n",
       " node1                                    Q3516833\n",
       " label                                        P279\n",
       " node2                                    Q1001378\n",
       " bert2SentSim                             0.684669\n",
       " classSim                                 0.916831\n",
       " Resp_code                        <Response [200]>\n",
       " Name: 65, dtype: object,\n",
       " Unnamed: 0                                     66\n",
       " id              Q4129855-P279-Q1001378-3ad464f7-0\n",
       " node1                                    Q4129855\n",
       " label                                        P279\n",
       " node2                                    Q1001378\n",
       " bert2SentSim                             0.740775\n",
       " classSim                                 0.905545\n",
       " Resp_code                        <Response [200]>\n",
       " Name: 66, dtype: object,\n",
       " Unnamed: 0                                     67\n",
       " id              Q5197004-P279-Q1001378-513f9939-0\n",
       " node1                                    Q5197004\n",
       " label                                        P279\n",
       " node2                                    Q1001378\n",
       " bert2SentSim                             0.642596\n",
       " classSim                                 0.892815\n",
       " Resp_code                        <Response [200]>\n",
       " Name: 67, dtype: object,\n",
       " Unnamed: 0                                     68\n",
       " id              Q7237336-P279-Q1001378-55e73e1a-0\n",
       " node1                                    Q7237336\n",
       " label                                        P279\n",
       " node2                                    Q1001378\n",
       " bert2SentSim                              0.58928\n",
       " classSim                                 0.892815\n",
       " Resp_code                        <Response [200]>\n",
       " Name: 68, dtype: object,\n",
       " Unnamed: 0                                    69\n",
       " id              Q738160-P279-Q1001378-b69af0cb-0\n",
       " node1                                    Q738160\n",
       " label                                       P279\n",
       " node2                                   Q1001378\n",
       " bert2SentSim                            0.813292\n",
       " classSim                                0.892815\n",
       " Resp_code                       <Response [200]>\n",
       " Name: 69, dtype: object,\n",
       " Unnamed: 0                                  70\n",
       " id              Q8317-P279-Q1001378-a56c669f-0\n",
       " node1                                    Q8317\n",
       " label                                     P279\n",
       " node2                                 Q1001378\n",
       " bert2SentSim                          0.636886\n",
       " classSim                              0.541961\n",
       " Resp_code                     <Response [200]>\n",
       " Name: 70, dtype: object,\n",
       " Unnamed: 0                                      71\n",
       " id              Q86908314-P279-Q1001378-7a81e91b-0\n",
       " node1                                    Q86908314\n",
       " label                                         P279\n",
       " node2                                     Q1001378\n",
       " bert2SentSim                              0.421366\n",
       " classSim                                  0.892815\n",
       " Resp_code                         <Response [200]>\n",
       " Name: 71, dtype: object,\n",
       " Unnamed: 0                                      72\n",
       " id              Q86910224-P279-Q1001378-b427331c-0\n",
       " node1                                    Q86910224\n",
       " label                                         P279\n",
       " node2                                     Q1001378\n",
       " bert2SentSim                              0.584772\n",
       " classSim                                  0.892815\n",
       " Resp_code                         <Response [200]>\n",
       " Name: 72, dtype: object,\n",
       " Unnamed: 0                                         73\n",
       " id              Q100148346-P279-Q100148352-003654ac-0\n",
       " node1                                      Q100148346\n",
       " label                                            P279\n",
       " node2                                      Q100148352\n",
       " bert2SentSim                                 0.872339\n",
       " classSim                                     0.951283\n",
       " Resp_code                            <Response [200]>\n",
       " Name: 73, dtype: object,\n",
       " Unnamed: 0                                        74\n",
       " id              Q27147769-P279-Q100148352-8254b7c4-0\n",
       " node1                                      Q27147769\n",
       " label                                           P279\n",
       " node2                                     Q100148352\n",
       " bert2SentSim                                0.886007\n",
       " classSim                                    0.924902\n",
       " Resp_code                           <Response [200]>\n",
       " Name: 74, dtype: object,\n",
       " Unnamed: 0                                     75\n",
       " id              Q14747611-P279-Q100159-567e45a7-0\n",
       " node1                                   Q14747611\n",
       " label                                        P279\n",
       " node2                                     Q100159\n",
       " bert2SentSim                              0.50114\n",
       " classSim                                 0.866312\n",
       " Resp_code                        <Response [200]>\n",
       " Name: 75, dtype: object,\n",
       " Unnamed: 0                                     76\n",
       " id              Q17089549-P279-Q100159-3247e0d4-0\n",
       " node1                                   Q17089549\n",
       " label                                        P279\n",
       " node2                                     Q100159\n",
       " bert2SentSim                             0.705335\n",
       " classSim                                 0.866312\n",
       " Resp_code                        <Response [200]>\n",
       " Name: 76, dtype: object,\n",
       " Unnamed: 0                                     77\n",
       " id              Q18923049-P279-Q100159-04db261f-0\n",
       " node1                                   Q18923049\n",
       " label                                        P279\n",
       " node2                                     Q100159\n",
       " bert2SentSim                             0.861815\n",
       " classSim                                 0.719858\n",
       " Resp_code                        <Response [200]>\n",
       " Name: 77, dtype: object,\n",
       " Unnamed: 0                                    78\n",
       " id              Q2056084-P279-Q100159-94d1b7b8-0\n",
       " node1                                   Q2056084\n",
       " label                                       P279\n",
       " node2                                    Q100159\n",
       " bert2SentSim                            0.782052\n",
       " classSim                                0.866312\n",
       " Resp_code                       <Response [200]>\n",
       " Name: 78, dtype: object,\n",
       " Unnamed: 0                                    79\n",
       " id              Q5097845-P279-Q100159-c2bd0b24-0\n",
       " node1                                   Q5097845\n",
       " label                                       P279\n",
       " node2                                    Q100159\n",
       " bert2SentSim                            0.551256\n",
       " classSim                                0.866312\n",
       " Resp_code                       <Response [200]>\n",
       " Name: 79, dtype: object,\n",
       " Unnamed: 0                                    80\n",
       " id              Q6061403-P279-Q100159-d5101564-0\n",
       " node1                                   Q6061403\n",
       " label                                       P279\n",
       " node2                                    Q100159\n",
       " bert2SentSim                            0.565718\n",
       " classSim                                0.866312\n",
       " Resp_code                       <Response [200]>\n",
       " Name: 80, dtype: object,\n",
       " Unnamed: 0                                   81\n",
       " id              Q652653-P279-Q100159-bd6c5d3a-0\n",
       " node1                                   Q652653\n",
       " label                                      P279\n",
       " node2                                   Q100159\n",
       " bert2SentSim                           0.501037\n",
       " classSim                               0.837687\n",
       " Resp_code                      <Response [200]>\n",
       " Name: 81, dtype: object,\n",
       " Unnamed: 0                                     82\n",
       " id              Q66293226-P279-Q100159-ad4b8016-0\n",
       " node1                                   Q66293226\n",
       " label                                        P279\n",
       " node2                                     Q100159\n",
       " bert2SentSim                               0.8089\n",
       " classSim                                 0.866312\n",
       " Resp_code                        <Response [200]>\n",
       " Name: 82, dtype: object,\n",
       " Unnamed: 0                                         83\n",
       " id              Q100166380-P279-Q100166391-4684ea65-0\n",
       " node1                                      Q100166380\n",
       " label                                            P279\n",
       " node2                                      Q100166391\n",
       " bert2SentSim                                 0.752609\n",
       " classSim                                     0.799499\n",
       " Resp_code                            <Response [200]>\n",
       " Name: 83, dtype: object,\n",
       " Unnamed: 0                                      84\n",
       " id              Q244326-P279-Q100166391-35359099-0\n",
       " node1                                      Q244326\n",
       " label                                         P279\n",
       " node2                                   Q100166391\n",
       " bert2SentSim                              0.522545\n",
       " classSim                                  0.470975\n",
       " Resp_code                         <Response [200]>\n",
       " Name: 84, dtype: object,\n",
       " Unnamed: 0                                     85\n",
       " id              Q40551-P279-Q100166391-7242baf9-0\n",
       " node1                                      Q40551\n",
       " label                                        P279\n",
       " node2                                  Q100166391\n",
       " bert2SentSim                              0.74986\n",
       " classSim                                 0.781795\n",
       " Resp_code                        <Response [200]>\n",
       " Name: 85, dtype: object,\n",
       " Unnamed: 0                                         86\n",
       " id              Q102108504-P279-Q100171002-7ccf3934-0\n",
       " node1                                      Q102108504\n",
       " label                                            P279\n",
       " node2                                      Q100171002\n",
       " bert2SentSim                                 0.680867\n",
       " classSim                                         None\n",
       " Resp_code                            <Response [200]>\n",
       " Name: 86, dtype: object,\n",
       " Unnamed: 0                                       87\n",
       " id              Q1150647-P279-Q100171002-fb1cad26-0\n",
       " node1                                      Q1150647\n",
       " label                                          P279\n",
       " node2                                    Q100171002\n",
       " bert2SentSim                               0.664551\n",
       " classSim                                   0.795416\n",
       " Resp_code                          <Response [200]>\n",
       " Name: 87, dtype: object,\n",
       " Unnamed: 0                                       88\n",
       " id              Q1503443-P279-Q100171002-8282ae74-0\n",
       " node1                                      Q1503443\n",
       " label                                          P279\n",
       " node2                                    Q100171002\n",
       " bert2SentSim                               0.748802\n",
       " classSim                                   0.822611\n",
       " Resp_code                          <Response [200]>\n",
       " Name: 88, dtype: object,\n",
       " Unnamed: 0                                       89\n",
       " id              Q2616305-P279-Q100171002-49dc8346-0\n",
       " node1                                      Q2616305\n",
       " label                                          P279\n",
       " node2                                    Q100171002\n",
       " bert2SentSim                               0.646817\n",
       " classSim                                   0.887266\n",
       " Resp_code                          <Response [200]>\n",
       " Name: 89, dtype: object,\n",
       " Unnamed: 0                                        90\n",
       " id              Q24050179-P279-Q100195948-90966900-0\n",
       " node1                                      Q24050179\n",
       " label                                           P279\n",
       " node2                                     Q100195948\n",
       " bert2SentSim                                0.652214\n",
       " classSim                                    0.698738\n",
       " Resp_code                           <Response [200]>\n",
       " Name: 90, dtype: object,\n",
       " Unnamed: 0                                        91\n",
       " id              Q29479539-P279-Q100195948-e222789a-0\n",
       " node1                                      Q29479539\n",
       " label                                           P279\n",
       " node2                                     Q100195948\n",
       " bert2SentSim                                0.689148\n",
       " classSim                                    0.681145\n",
       " Resp_code                           <Response [200]>\n",
       " Name: 91, dtype: object,\n",
       " Unnamed: 0                                      92\n",
       " id              Q308859-P279-Q100195948-a5841742-0\n",
       " node1                                      Q308859\n",
       " label                                         P279\n",
       " node2                                   Q100195948\n",
       " bert2SentSim                              0.750328\n",
       " classSim                                  0.279686\n",
       " Resp_code                         <Response [200]>\n",
       " Name: 92, dtype: object,\n",
       " Unnamed: 0                                         93\n",
       " id              Q100251305-P279-Q100251275-02ddd08e-0\n",
       " node1                                      Q100251305\n",
       " label                                            P279\n",
       " node2                                      Q100251275\n",
       " bert2SentSim                                 0.486286\n",
       " classSim                                      0.94603\n",
       " Resp_code                            <Response [200]>\n",
       " Name: 93, dtype: object,\n",
       " Unnamed: 0                                         94\n",
       " id              Q100251705-P279-Q100251275-fa0c89c7-0\n",
       " node1                                      Q100251705\n",
       " label                                            P279\n",
       " node2                                      Q100251275\n",
       " bert2SentSim                                 0.370606\n",
       " classSim                                      0.94603\n",
       " Resp_code                            <Response [200]>\n",
       " Name: 94, dtype: object,\n",
       " Unnamed: 0                                        95\n",
       " id              Q16007968-P279-Q100251275-318d5598-0\n",
       " node1                                      Q16007968\n",
       " label                                           P279\n",
       " node2                                     Q100251275\n",
       " bert2SentSim                                0.478886\n",
       " classSim                                      0.9303\n",
       " Resp_code                           <Response [200]>\n",
       " Name: 95, dtype: object,\n",
       " Unnamed: 0                                       96\n",
       " id              Q3310017-P279-Q100251275-772909ea-0\n",
       " node1                                      Q3310017\n",
       " label                                          P279\n",
       " node2                                    Q100251275\n",
       " bert2SentSim                                0.57202\n",
       " classSim                                   0.929488\n",
       " Resp_code                          <Response [200]>\n",
       " Name: 96, dtype: object,\n",
       " Unnamed: 0                                       97\n",
       " id              Q4855428-P279-Q100251275-fbf2100a-0\n",
       " node1                                      Q4855428\n",
       " label                                          P279\n",
       " node2                                    Q100251275\n",
       " bert2SentSim                               0.545835\n",
       " classSim                                   0.931676\n",
       " Resp_code                          <Response [200]>\n",
       " Name: 97, dtype: object,\n",
       " Unnamed: 0                                      98\n",
       " id              Q862086-P279-Q100251275-faf57342-0\n",
       " node1                                      Q862086\n",
       " label                                         P279\n",
       " node2                                   Q100251275\n",
       " bert2SentSim                              0.630551\n",
       " classSim                                  0.948207\n",
       " Resp_code                         <Response [200]>\n",
       " Name: 98, dtype: object,\n",
       " Unnamed: 0                                        99\n",
       " id              Q15209696-P279-Q100257358-c4b60f40-0\n",
       " node1                                      Q15209696\n",
       " label                                           P279\n",
       " node2                                     Q100257358\n",
       " bert2SentSim                                0.484455\n",
       " classSim                                    0.610338\n",
       " Resp_code                           <Response [200]>\n",
       " Name: 99, dtype: object]"
      ]
     },
     "execution_count": 75,
     "metadata": {},
     "output_type": "execute_result"
    }
   ],
   "source": [
    "hierDF_transP279_filtered2_class_arr"
   ]
  },
  {
   "cell_type": "code",
   "execution_count": 66,
   "id": "helpful-medline",
   "metadata": {},
   "outputs": [],
   "source": [
    "hierDF_transP279_filtered2_class = pd.DataFrame(hierDF_transP279_filtered2_class_arr)"
   ]
  },
  {
   "cell_type": "code",
   "execution_count": 67,
   "id": "activated-excuse",
   "metadata": {},
   "outputs": [
    {
     "data": {
      "text/html": [
       "<div>\n",
       "<style scoped>\n",
       "    .dataframe tbody tr th:only-of-type {\n",
       "        vertical-align: middle;\n",
       "    }\n",
       "\n",
       "    .dataframe tbody tr th {\n",
       "        vertical-align: top;\n",
       "    }\n",
       "\n",
       "    .dataframe thead th {\n",
       "        text-align: right;\n",
       "    }\n",
       "</style>\n",
       "<table border=\"1\" class=\"dataframe\">\n",
       "  <thead>\n",
       "    <tr style=\"text-align: right;\">\n",
       "      <th></th>\n",
       "    </tr>\n",
       "  </thead>\n",
       "  <tbody>\n",
       "  </tbody>\n",
       "</table>\n",
       "</div>"
      ],
      "text/plain": [
       "Empty DataFrame\n",
       "Columns: []\n",
       "Index: []"
      ]
     },
     "execution_count": 67,
     "metadata": {},
     "output_type": "execute_result"
    }
   ],
   "source": [
    "hierDF_transP279_filtered2_class.head()"
   ]
  },
  {
   "cell_type": "code",
   "execution_count": 52,
   "id": "baking-input",
   "metadata": {},
   "outputs": [
    {
     "data": {
      "text/plain": [
       "302108"
      ]
     },
     "execution_count": 52,
     "metadata": {},
     "output_type": "execute_result"
    }
   ],
   "source": [
    "hierDF_transP279_filtered2_class.classSim.isna().sum()"
   ]
  },
  {
   "cell_type": "markdown",
   "id": "cognitive-decade",
   "metadata": {},
   "source": [
    "## Siblings"
   ]
  },
  {
   "cell_type": "code",
   "execution_count": 33,
   "id": "pacific-warehouse",
   "metadata": {},
   "outputs": [],
   "source": [
    "P279_3M_data = pd.read_csv('../data/Master_P279_dataset/P279Siblings_transP279_filtered_min_cols_with_desc_dups_removed.csv')\n",
    "P279_10M_data = pd.read_csv('../data/Master_P279_dataset/P279Siblings_transP279_filtered_min_cols.csv')"
   ]
  },
  {
   "cell_type": "code",
   "execution_count": null,
   "id": "outdoor-sense",
   "metadata": {},
   "outputs": [],
   "source": [
    "import requests\n",
    "from tqdm.notebook import tqdm\n",
    "import json\n",
    "from joblib import Parallel, delayed\n",
    "\n",
    "P279_3M_data_class_arr = []\n",
    "\n",
    "def fetchClassSim(row):\n",
    "    try:\n",
    "        resp = requests.get(\"https://kgtk.isi.edu/similarity_api?q1=\"+row['node1']+\"&q2=\"+row['node2']+\"&embedding_type=class\").json()['similarity']\n",
    "        row['classSim'] = float(resp) if resp else -1\n",
    "    except:\n",
    "        print(f\"Resp not found for {row['node1']}, {row['node2']}\")\n",
    "        row['classSim'] = None\n",
    "    return row\n",
    "\n",
    "P279_3M_data_class_arr = Parallel(n_jobs=20)(delayed(fetchClassSim)(row) for _, row in tqdm(P279_3M_data.iterrows(), total=len(P279_3M_data)))"
   ]
  },
  {
   "cell_type": "code",
   "execution_count": null,
   "id": "handy-coral",
   "metadata": {},
   "outputs": [],
   "source": [
    "import requests\n",
    "from tqdm.notebook import tqdm\n",
    "import json\n",
    "from joblib import Parallel, delayed\n",
    "\n",
    "P279_10M_data_class_arr = []\n",
    "\n",
    "def fetchClassSim(row):\n",
    "    try:\n",
    "        resp = requests.get(\"https://kgtk.isi.edu/similarity_api?q1=\"+row['node1']+\"&q2=\"+row['node2']+\"&embedding_type=class\").json()['similarity']\n",
    "        row['classSim'] = float(resp) if resp else -1\n",
    "    except:\n",
    "        print(f\"Resp not found for {row['node1']}, {row['node2']}\")\n",
    "        row['classSim'] = None\n",
    "    return row\n",
    "\n",
    "P279_10M_data_class_arr = Parallel(n_jobs=20)(delayed(fetchClassSim)(row) for _, row in tqdm(P279_10M_data.iterrows(), total=len(P279_10M_data)))"
   ]
  },
  {
   "cell_type": "code",
   "execution_count": null,
   "id": "prostate-preservation",
   "metadata": {},
   "outputs": [],
   "source": []
  },
  {
   "cell_type": "code",
   "execution_count": null,
   "id": "removable-watershed",
   "metadata": {},
   "outputs": [],
   "source": []
  },
  {
   "cell_type": "code",
   "execution_count": null,
   "id": "weighted-abraham",
   "metadata": {},
   "outputs": [],
   "source": []
  },
  {
   "cell_type": "code",
   "execution_count": null,
   "id": "immune-jesus",
   "metadata": {},
   "outputs": [],
   "source": []
  }
 ],
 "metadata": {
  "kernelspec": {
   "display_name": "kgtkEnv",
   "language": "python",
   "name": "kgtkenv"
  },
  "language_info": {
   "codemirror_mode": {
    "name": "ipython",
    "version": 3
   },
   "file_extension": ".py",
   "mimetype": "text/x-python",
   "name": "python",
   "nbconvert_exporter": "python",
   "pygments_lexer": "ipython3",
   "version": "3.8.5"
  },
  "toc": {
   "base_numbering": 1,
   "nav_menu": {},
   "number_sections": true,
   "sideBar": true,
   "skip_h1_title": false,
   "title_cell": "Table of Contents",
   "title_sidebar": "Contents",
   "toc_cell": false,
   "toc_position": {
    "height": "calc(100% - 180px)",
    "left": "10px",
    "top": "150px",
    "width": "278px"
   },
   "toc_section_display": true,
   "toc_window_display": true
  },
  "varInspector": {
   "cols": {
    "lenName": 16,
    "lenType": 16,
    "lenVar": 40
   },
   "kernels_config": {
    "python": {
     "delete_cmd_postfix": "",
     "delete_cmd_prefix": "del ",
     "library": "var_list.py",
     "varRefreshCmd": "print(var_dic_list())"
    },
    "r": {
     "delete_cmd_postfix": ") ",
     "delete_cmd_prefix": "rm(",
     "library": "var_list.r",
     "varRefreshCmd": "cat(var_dic_list()) "
    }
   },
   "types_to_exclude": [
    "module",
    "function",
    "builtin_function_or_method",
    "instance",
    "_Feature"
   ],
   "window_display": false
  }
 },
 "nbformat": 4,
 "nbformat_minor": 5
}
