{
 "cells": [
  {
   "cell_type": "code",
   "execution_count": 1,
   "id": "dynamic-generator",
   "metadata": {},
   "outputs": [],
   "source": [
    "import pandas as pd\n",
    "import numpy as np\n",
    "from sklearn.metrics.pairwise import euclidean_distances\n",
    "from sklearn.metrics.pairwise import cosine_similarity"
   ]
  },
  {
   "cell_type": "code",
   "execution_count": 2,
   "id": "objective-saturday",
   "metadata": {},
   "outputs": [],
   "source": [
    "p279WordSimSeededDF_wabs_text = pd.read_csv(\"../data/P279_dataset/P279_ChildPar_19k_WEmbAndCosSim.csv\")\n",
    "p279Seeded_SiblingsDF3_wabs_text = pd.read_csv(\"../data/P279_dataset/P279_Siblings_19k_WEmbAndCosSim.csv\")"
   ]
  },
  {
   "cell_type": "code",
   "execution_count": 3,
   "id": "joint-magnet",
   "metadata": {},
   "outputs": [
    {
     "data": {
      "text/html": [
       "<div>\n",
       "<style scoped>\n",
       "    .dataframe tbody tr th:only-of-type {\n",
       "        vertical-align: middle;\n",
       "    }\n",
       "\n",
       "    .dataframe tbody tr th {\n",
       "        vertical-align: top;\n",
       "    }\n",
       "\n",
       "    .dataframe thead th {\n",
       "        text-align: right;\n",
       "    }\n",
       "</style>\n",
       "<table border=\"1\" class=\"dataframe\">\n",
       "  <thead>\n",
       "    <tr style=\"text-align: right;\">\n",
       "      <th></th>\n",
       "      <th>node2</th>\n",
       "      <th>node1</th>\n",
       "      <th>id</th>\n",
       "      <th>node1_label</th>\n",
       "      <th>label</th>\n",
       "      <th>node2_label</th>\n",
       "      <th>sent</th>\n",
       "      <th>node1_emb</th>\n",
       "      <th>node2_emb</th>\n",
       "      <th>bert2SentSim</th>\n",
       "      <th>...</th>\n",
       "      <th>BERT_abstract_emb_right</th>\n",
       "      <th>BERT_abstract_firstSent_emb_right</th>\n",
       "      <th>textEmb_7props_left</th>\n",
       "      <th>textEmb_7props_right</th>\n",
       "      <th>textEmb_2props_left</th>\n",
       "      <th>textEmb_2props_right</th>\n",
       "      <th>textEmb_7props_cosSim</th>\n",
       "      <th>textEmb_2props_cosSim</th>\n",
       "      <th>BERT_abstract_cosSim</th>\n",
       "      <th>BERT_abstract_firstSent_cosSim</th>\n",
       "    </tr>\n",
       "  </thead>\n",
       "  <tbody>\n",
       "    <tr>\n",
       "      <th>0</th>\n",
       "      <td>Q100171002</td>\n",
       "      <td>Q1503443</td>\n",
       "      <td>Q1503443-P279-Q100171002-8282ae74-0</td>\n",
       "      <td>secrecy</td>\n",
       "      <td>P279</td>\n",
       "      <td>concealment</td>\n",
       "      <td>secrecy is concealment</td>\n",
       "      <td>[ 4.83600467e-01  1.25958338e-01  1.84784138e+...</td>\n",
       "      <td>[ 3.61319035e-01  1.03393383e-01  1.50166345e+...</td>\n",
       "      <td>0.901134</td>\n",
       "      <td>...</td>\n",
       "      <td>NaN</td>\n",
       "      <td>NaN</td>\n",
       "      <td>[0.87660795, 0.4991357, -0.39552155, 0.7046891...</td>\n",
       "      <td>[0.36156428, -0.015657336, -0.14483449, -0.253...</td>\n",
       "      <td>[0.79082793, 0.53679967, -0.3825465, 0.6778466...</td>\n",
       "      <td>[0.36156428, -0.015657336, -0.14483449, -0.253...</td>\n",
       "      <td>0.832602</td>\n",
       "      <td>0.823419</td>\n",
       "      <td>-1.000000</td>\n",
       "      <td>-1.000000</td>\n",
       "    </tr>\n",
       "    <tr>\n",
       "      <th>1</th>\n",
       "      <td>Q1002697</td>\n",
       "      <td>Q49850</td>\n",
       "      <td>Q49850-P279-Q1002697-0c52cf68-0</td>\n",
       "      <td>journal</td>\n",
       "      <td>P279</td>\n",
       "      <td>periodical</td>\n",
       "      <td>journal is periodical</td>\n",
       "      <td>[-5.87019742e-01 -3.76376987e-01  2.21003819e+...</td>\n",
       "      <td>[-2.23196611e-01 -4.97725368e-01  2.20271492e+...</td>\n",
       "      <td>0.863449</td>\n",
       "      <td>...</td>\n",
       "      <td>[-0.28667202591896057, -0.4099476933479309, 0....</td>\n",
       "      <td>[-0.25435054302215576, -0.92085862159729, 1.68...</td>\n",
       "      <td>[1.256428, 0.3254261, -0.26960722, 0.101883665...</td>\n",
       "      <td>[0.92698413, 0.32396156, -0.7647308, 0.6973268...</td>\n",
       "      <td>[1.256428, 0.3254261, -0.26960722, 0.101883665...</td>\n",
       "      <td>[1.0344226, 0.39984593, -0.76180136, 0.8256311...</td>\n",
       "      <td>0.742638</td>\n",
       "      <td>0.734428</td>\n",
       "      <td>-1.000000</td>\n",
       "      <td>-1.000000</td>\n",
       "    </tr>\n",
       "    <tr>\n",
       "      <th>2</th>\n",
       "      <td>Q101998</td>\n",
       "      <td>Q4421</td>\n",
       "      <td>Q4421-P279-Q101998-d0983886-0</td>\n",
       "      <td>forest</td>\n",
       "      <td>P279</td>\n",
       "      <td>biome</td>\n",
       "      <td>forest is biome</td>\n",
       "      <td>[-4.80742343e-02 -4.51617390e-01  1.48896754e+...</td>\n",
       "      <td>[ 5.09670794e-01 -4.42380428e-01  1.53245163e+...</td>\n",
       "      <td>0.507148</td>\n",
       "      <td>...</td>\n",
       "      <td>[0.12320789694786072, 0.2723684310913086, 0.05...</td>\n",
       "      <td>[0.5991100072860718, 0.15195603668689728, 0.59...</td>\n",
       "      <td>[0.8141036, 0.14491142, -0.59703183, 0.335001,...</td>\n",
       "      <td>[-0.16750671, -0.17960861, -0.58211946, -0.687...</td>\n",
       "      <td>[0.91628444, 0.104261845, -0.49683735, 0.21296...</td>\n",
       "      <td>[-0.13534825, -0.23398273, -0.5165668, -0.7297...</td>\n",
       "      <td>0.647031</td>\n",
       "      <td>0.707611</td>\n",
       "      <td>0.508060</td>\n",
       "      <td>0.455747</td>\n",
       "    </tr>\n",
       "    <tr>\n",
       "      <th>3</th>\n",
       "      <td>Q102165</td>\n",
       "      <td>Q2294</td>\n",
       "      <td>Q2294-P279-Q102165-0893a180-0</td>\n",
       "      <td>proton</td>\n",
       "      <td>P279</td>\n",
       "      <td>nucleon</td>\n",
       "      <td>proton is nucleon</td>\n",
       "      <td>[-3.39149237e-01  2.01575115e-01  1.08608294e+...</td>\n",
       "      <td>[-6.87960759e-02 -1.65659860e-01  9.53789592e-...</td>\n",
       "      <td>0.798707</td>\n",
       "      <td>...</td>\n",
       "      <td>[0.17410606145858765, 0.6839145421981812, -0.8...</td>\n",
       "      <td>[-0.04499293863773346, 0.6921464204788208, -0....</td>\n",
       "      <td>[0.469377, 0.7162001, -0.36740896, 0.76742333,...</td>\n",
       "      <td>[-0.11307852, 0.65730673, -0.13959256, 1.46633...</td>\n",
       "      <td>[0.4080446, 0.7498908, -0.2665757, 0.74437106,...</td>\n",
       "      <td>[-0.11307852, 0.65730673, -0.13959256, 1.46633...</td>\n",
       "      <td>0.836531</td>\n",
       "      <td>0.847591</td>\n",
       "      <td>0.855959</td>\n",
       "      <td>0.770030</td>\n",
       "    </tr>\n",
       "    <tr>\n",
       "      <th>4</th>\n",
       "      <td>Q102205</td>\n",
       "      <td>Q11435</td>\n",
       "      <td>Q11435-P279-Q102205-7b448d05-0</td>\n",
       "      <td>liquid</td>\n",
       "      <td>P279</td>\n",
       "      <td>fluid</td>\n",
       "      <td>liquid is fluid</td>\n",
       "      <td>[-5.40423356e-02 -1.01775277e+00  2.21057415e+...</td>\n",
       "      <td>[ 1.30038410e-01 -8.53226840e-01  2.37821031e+...</td>\n",
       "      <td>0.934246</td>\n",
       "      <td>...</td>\n",
       "      <td>[0.4393930733203888, 0.7159943580627441, 0.647...</td>\n",
       "      <td>[0.5091343522071838, -0.05845202878117561, 1.0...</td>\n",
       "      <td>[-0.19995248, 0.65605164, -0.14234662, 0.43931...</td>\n",
       "      <td>[0.4293771, 1.1976917, 0.04422909, 0.5975481, ...</td>\n",
       "      <td>[-0.45549682, 0.73478854, -0.1980287, 0.436793...</td>\n",
       "      <td>[0.33631665, 1.1661042, 0.13744242, 0.6776439,...</td>\n",
       "      <td>0.765589</td>\n",
       "      <td>0.780342</td>\n",
       "      <td>0.752693</td>\n",
       "      <td>0.515319</td>\n",
       "    </tr>\n",
       "  </tbody>\n",
       "</table>\n",
       "<p>5 rows × 26 columns</p>\n",
       "</div>"
      ],
      "text/plain": [
       "        node2     node1                                   id node1_label  \\\n",
       "0  Q100171002  Q1503443  Q1503443-P279-Q100171002-8282ae74-0     secrecy   \n",
       "1    Q1002697    Q49850      Q49850-P279-Q1002697-0c52cf68-0     journal   \n",
       "2     Q101998     Q4421        Q4421-P279-Q101998-d0983886-0      forest   \n",
       "3     Q102165     Q2294        Q2294-P279-Q102165-0893a180-0      proton   \n",
       "4     Q102205    Q11435       Q11435-P279-Q102205-7b448d05-0      liquid   \n",
       "\n",
       "  label  node2_label                    sent  \\\n",
       "0  P279  concealment  secrecy is concealment   \n",
       "1  P279   periodical   journal is periodical   \n",
       "2  P279        biome         forest is biome   \n",
       "3  P279      nucleon       proton is nucleon   \n",
       "4  P279        fluid         liquid is fluid   \n",
       "\n",
       "                                           node1_emb  \\\n",
       "0  [ 4.83600467e-01  1.25958338e-01  1.84784138e+...   \n",
       "1  [-5.87019742e-01 -3.76376987e-01  2.21003819e+...   \n",
       "2  [-4.80742343e-02 -4.51617390e-01  1.48896754e+...   \n",
       "3  [-3.39149237e-01  2.01575115e-01  1.08608294e+...   \n",
       "4  [-5.40423356e-02 -1.01775277e+00  2.21057415e+...   \n",
       "\n",
       "                                           node2_emb  bert2SentSim  ...  \\\n",
       "0  [ 3.61319035e-01  1.03393383e-01  1.50166345e+...      0.901134  ...   \n",
       "1  [-2.23196611e-01 -4.97725368e-01  2.20271492e+...      0.863449  ...   \n",
       "2  [ 5.09670794e-01 -4.42380428e-01  1.53245163e+...      0.507148  ...   \n",
       "3  [-6.87960759e-02 -1.65659860e-01  9.53789592e-...      0.798707  ...   \n",
       "4  [ 1.30038410e-01 -8.53226840e-01  2.37821031e+...      0.934246  ...   \n",
       "\n",
       "                             BERT_abstract_emb_right  \\\n",
       "0                                                NaN   \n",
       "1  [-0.28667202591896057, -0.4099476933479309, 0....   \n",
       "2  [0.12320789694786072, 0.2723684310913086, 0.05...   \n",
       "3  [0.17410606145858765, 0.6839145421981812, -0.8...   \n",
       "4  [0.4393930733203888, 0.7159943580627441, 0.647...   \n",
       "\n",
       "                   BERT_abstract_firstSent_emb_right  \\\n",
       "0                                                NaN   \n",
       "1  [-0.25435054302215576, -0.92085862159729, 1.68...   \n",
       "2  [0.5991100072860718, 0.15195603668689728, 0.59...   \n",
       "3  [-0.04499293863773346, 0.6921464204788208, -0....   \n",
       "4  [0.5091343522071838, -0.05845202878117561, 1.0...   \n",
       "\n",
       "                                 textEmb_7props_left  \\\n",
       "0  [0.87660795, 0.4991357, -0.39552155, 0.7046891...   \n",
       "1  [1.256428, 0.3254261, -0.26960722, 0.101883665...   \n",
       "2  [0.8141036, 0.14491142, -0.59703183, 0.335001,...   \n",
       "3  [0.469377, 0.7162001, -0.36740896, 0.76742333,...   \n",
       "4  [-0.19995248, 0.65605164, -0.14234662, 0.43931...   \n",
       "\n",
       "                                textEmb_7props_right  \\\n",
       "0  [0.36156428, -0.015657336, -0.14483449, -0.253...   \n",
       "1  [0.92698413, 0.32396156, -0.7647308, 0.6973268...   \n",
       "2  [-0.16750671, -0.17960861, -0.58211946, -0.687...   \n",
       "3  [-0.11307852, 0.65730673, -0.13959256, 1.46633...   \n",
       "4  [0.4293771, 1.1976917, 0.04422909, 0.5975481, ...   \n",
       "\n",
       "                                 textEmb_2props_left  \\\n",
       "0  [0.79082793, 0.53679967, -0.3825465, 0.6778466...   \n",
       "1  [1.256428, 0.3254261, -0.26960722, 0.101883665...   \n",
       "2  [0.91628444, 0.104261845, -0.49683735, 0.21296...   \n",
       "3  [0.4080446, 0.7498908, -0.2665757, 0.74437106,...   \n",
       "4  [-0.45549682, 0.73478854, -0.1980287, 0.436793...   \n",
       "\n",
       "                                textEmb_2props_right textEmb_7props_cosSim  \\\n",
       "0  [0.36156428, -0.015657336, -0.14483449, -0.253...              0.832602   \n",
       "1  [1.0344226, 0.39984593, -0.76180136, 0.8256311...              0.742638   \n",
       "2  [-0.13534825, -0.23398273, -0.5165668, -0.7297...              0.647031   \n",
       "3  [-0.11307852, 0.65730673, -0.13959256, 1.46633...              0.836531   \n",
       "4  [0.33631665, 1.1661042, 0.13744242, 0.6776439,...              0.765589   \n",
       "\n",
       "  textEmb_2props_cosSim BERT_abstract_cosSim BERT_abstract_firstSent_cosSim  \n",
       "0              0.823419            -1.000000                      -1.000000  \n",
       "1              0.734428            -1.000000                      -1.000000  \n",
       "2              0.707611             0.508060                       0.455747  \n",
       "3              0.847591             0.855959                       0.770030  \n",
       "4              0.780342             0.752693                       0.515319  \n",
       "\n",
       "[5 rows x 26 columns]"
      ]
     },
     "execution_count": 3,
     "metadata": {},
     "output_type": "execute_result"
    }
   ],
   "source": [
    "p279WordSimSeededDF_wabs_text.head()"
   ]
  },
  {
   "cell_type": "code",
   "execution_count": 5,
   "id": "original-grass",
   "metadata": {},
   "outputs": [
    {
     "data": {
      "text/plain": [
       "count    19454.000000\n",
       "mean         0.602876\n",
       "std          0.146181\n",
       "min          0.064503\n",
       "25%          0.493110\n",
       "50%          0.597949\n",
       "75%          0.711631\n",
       "max          1.000000\n",
       "Name: bert2SentSim, dtype: float64"
      ]
     },
     "execution_count": 5,
     "metadata": {},
     "output_type": "execute_result"
    }
   ],
   "source": [
    "p279WordSimSeededDF_wabs_text.bert2SentSim.describe()"
   ]
  },
  {
   "cell_type": "markdown",
   "id": "removed-occupation",
   "metadata": {},
   "source": [
    "# Retrofitting Setup"
   ]
  },
  {
   "cell_type": "code",
   "execution_count": 6,
   "id": "consolidated-investigation",
   "metadata": {},
   "outputs": [],
   "source": [
    "def normalize(embedDict):\n",
    "    for key, val in embedDict.items():\n",
    "        temp = np.array([float(val1) for val1 in val])\n",
    "        temp2 = temp**2\n",
    "        embedDict[key] = temp / np.sqrt((temp2.sum() + 1e-6))\n",
    "    return embedDict"
   ]
  },
  {
   "cell_type": "code",
   "execution_count": 7,
   "id": "irish-disposal",
   "metadata": {},
   "outputs": [],
   "source": [
    "def fetchEmbeddings(df):\n",
    "    embedDict = {}\n",
    "    for _, row in df.iterrows():\n",
    "        embedDict[row.node] = row.value\n",
    "    return normalize(embedDict)"
   ]
  },
  {
   "cell_type": "code",
   "execution_count": 8,
   "id": "orange-person",
   "metadata": {},
   "outputs": [],
   "source": [
    "def fetchNeighbours(df):\n",
    "    neighboursDict = {}\n",
    "    for _, row in df.iterrows():\n",
    "        if row.node1_label not in neighboursDict:\n",
    "            neighboursDict[row.node1] = []\n",
    "        neighboursDict[row.node1].append((row.node2, row.bert2SentSim))\n",
    "        \n",
    "        if row.node2_label not in neighboursDict:\n",
    "            neighboursDict[row.node2] = []\n",
    "        neighboursDict[row.node2].append((row.node1, row.bert2SentSim))\n",
    "    return neighboursDict"
   ]
  },
  {
   "cell_type": "code",
   "execution_count": 9,
   "id": "joined-kazakhstan",
   "metadata": {},
   "outputs": [],
   "source": [
    "def retrofit(embedDict, neighDict):\n",
    "    newEmbedDict = {}\n",
    "    for word in embedDict.keys():\n",
    "        if word in neighDict:\n",
    "            neighbs = neighDict[word]\n",
    "            neighbs = list(filter(lambda p: p[0] in embedDict, neighbs))\n",
    "            if len(neighbs) == 0:\n",
    "                newEmbedDict[word] = embedDict[word]\n",
    "                continue\n",
    "            sumOfSims = sum([neighb[1] for neighb in neighbs])\n",
    "            sumOfEmbs = sum([embedDict[neighb[0]] * float(neighb[1]) for neighb in neighbs])\n",
    "    #         newEmbedDict[word] = (embedDict[word] * (len(neighbs)) + sum([embedDict[neighb[0]] * float(neighb[1]) for neighb in neighbs])) / ((len(neighbs)) + sum([neighb[1] for neighb in neighbs]))\n",
    "            newEmbedDict[word] = (embedDict[word] * (len(neighbs))**2 + sumOfEmbs) / ((len(neighbs))**2 + sumOfSims)\n",
    "    #         newEmbedDict[word] = (embedDict[word] * (len(neighbs))**0.5 + sum([embedDict[neighb[0]] * float(neighb[1]) for neighb in neighbs])) / ((len(neighbs))**0.5 + sum([neighb[1] for neighb in neighbs]))\n",
    "        else:\n",
    "            newEmbedDict[word] = embedDict[word]\n",
    "    return newEmbedDict"
   ]
  },
  {
   "cell_type": "code",
   "execution_count": 10,
   "id": "collected-performance",
   "metadata": {},
   "outputs": [],
   "source": [
    "def determineDistances(embedDict, newEmbedDict):\n",
    "    dist = []\n",
    "    for word in embedDict.keys():\n",
    "        dist.append(euclidean_distances([embedDict[word]], [newEmbedDict[word]])[0][0])\n",
    "    return dist"
   ]
  },
  {
   "cell_type": "markdown",
   "id": "later-dimension",
   "metadata": {},
   "source": [
    "# Attempts"
   ]
  },
  {
   "cell_type": "markdown",
   "id": "divine-chair",
   "metadata": {},
   "source": [
    "## Concatenated ChildPar + Siblings Dataset"
   ]
  },
  {
   "cell_type": "markdown",
   "id": "scientific-heading",
   "metadata": {},
   "source": [
    "### Text Embeddings | 19k + 19k dataset"
   ]
  },
  {
   "cell_type": "code",
   "execution_count": 171,
   "id": "stretch-elizabeth",
   "metadata": {},
   "outputs": [],
   "source": [
    "textEmb_7props_DF = pd.read_csv('../data/P279_dataset/output/P279-text-embedding-7-props-all.tsv', sep='\\t')"
   ]
  },
  {
   "cell_type": "code",
   "execution_count": 173,
   "id": "young-prototype",
   "metadata": {},
   "outputs": [],
   "source": [
    "textEmb_7props_DF['value'] = textEmb_7props_DF['value'].apply(lambda p: [float(p1) for p1 in p.split(',')])"
   ]
  },
  {
   "cell_type": "code",
   "execution_count": 174,
   "id": "sapphire-bulgarian",
   "metadata": {},
   "outputs": [
    {
     "data": {
      "text/html": [
       "<div>\n",
       "<style scoped>\n",
       "    .dataframe tbody tr th:only-of-type {\n",
       "        vertical-align: middle;\n",
       "    }\n",
       "\n",
       "    .dataframe tbody tr th {\n",
       "        vertical-align: top;\n",
       "    }\n",
       "\n",
       "    .dataframe thead th {\n",
       "        text-align: right;\n",
       "    }\n",
       "</style>\n",
       "<table border=\"1\" class=\"dataframe\">\n",
       "  <thead>\n",
       "    <tr style=\"text-align: right;\">\n",
       "      <th></th>\n",
       "      <th>node</th>\n",
       "      <th>property</th>\n",
       "      <th>value</th>\n",
       "    </tr>\n",
       "  </thead>\n",
       "  <tbody>\n",
       "    <tr>\n",
       "      <th>0</th>\n",
       "      <td>Q99907279</td>\n",
       "      <td>text_embedding</td>\n",
       "      <td>[-0.13148594, 0.20147827, 0.015393771, 1.12779...</td>\n",
       "    </tr>\n",
       "    <tr>\n",
       "      <th>1</th>\n",
       "      <td>Q99898510</td>\n",
       "      <td>text_embedding</td>\n",
       "      <td>[0.19386396, 0.41306746, -0.32783666, 0.450188...</td>\n",
       "    </tr>\n",
       "    <tr>\n",
       "      <th>2</th>\n",
       "      <td>Q99526025</td>\n",
       "      <td>text_embedding</td>\n",
       "      <td>[0.89479333, 0.27038768, 0.15989815, -0.092144...</td>\n",
       "    </tr>\n",
       "    <tr>\n",
       "      <th>3</th>\n",
       "      <td>Q99365546</td>\n",
       "      <td>text_embedding</td>\n",
       "      <td>[0.10686234, 0.95048314, 0.32389534, 0.1960084...</td>\n",
       "    </tr>\n",
       "    <tr>\n",
       "      <th>4</th>\n",
       "      <td>Q993308</td>\n",
       "      <td>text_embedding</td>\n",
       "      <td>[0.23211154, 0.060303785, -1.0003253, 0.637829...</td>\n",
       "    </tr>\n",
       "  </tbody>\n",
       "</table>\n",
       "</div>"
      ],
      "text/plain": [
       "        node        property  \\\n",
       "0  Q99907279  text_embedding   \n",
       "1  Q99898510  text_embedding   \n",
       "2  Q99526025  text_embedding   \n",
       "3  Q99365546  text_embedding   \n",
       "4    Q993308  text_embedding   \n",
       "\n",
       "                                               value  \n",
       "0  [-0.13148594, 0.20147827, 0.015393771, 1.12779...  \n",
       "1  [0.19386396, 0.41306746, -0.32783666, 0.450188...  \n",
       "2  [0.89479333, 0.27038768, 0.15989815, -0.092144...  \n",
       "3  [0.10686234, 0.95048314, 0.32389534, 0.1960084...  \n",
       "4  [0.23211154, 0.060303785, -1.0003253, 0.637829...  "
      ]
     },
     "execution_count": 174,
     "metadata": {},
     "output_type": "execute_result"
    }
   ],
   "source": [
    "textEmb_7props_DF.head()"
   ]
  },
  {
   "cell_type": "code",
   "execution_count": 176,
   "id": "closed-charles",
   "metadata": {},
   "outputs": [],
   "source": [
    "embedDict = fetchEmbeddings(textEmb_7props_DF)"
   ]
  },
  {
   "cell_type": "code",
   "execution_count": 177,
   "id": "hungry-cream",
   "metadata": {},
   "outputs": [],
   "source": [
    "neighDict = fetchNeighbours(pd.concat([p279WordSimSeededDF_wabs_text, p279Seeded_SiblingsDF3_wabs_text]))"
   ]
  },
  {
   "cell_type": "code",
   "execution_count": 178,
   "id": "leading-invasion",
   "metadata": {},
   "outputs": [],
   "source": [
    "newEmbedDict = retrofit(embedDict, neighDict)"
   ]
  },
  {
   "cell_type": "code",
   "execution_count": 179,
   "id": "protecting-devon",
   "metadata": {},
   "outputs": [
    {
     "data": {
      "text/plain": [
       "19155"
      ]
     },
     "execution_count": 179,
     "metadata": {},
     "output_type": "execute_result"
    }
   ],
   "source": [
    "len(embedDict.keys())"
   ]
  },
  {
   "cell_type": "code",
   "execution_count": 180,
   "id": "prescribed-right",
   "metadata": {},
   "outputs": [],
   "source": [
    "dists = determineDistances(embedDict, newEmbedDict)"
   ]
  },
  {
   "cell_type": "code",
   "execution_count": 181,
   "id": "boring-williams",
   "metadata": {},
   "outputs": [
    {
     "data": {
      "text/plain": [
       "count    19155.000000\n",
       "mean         0.310037\n",
       "std          0.062412\n",
       "min          0.000000\n",
       "25%          0.269865\n",
       "50%          0.310933\n",
       "75%          0.351558\n",
       "max          0.564922\n",
       "dtype: float64"
      ]
     },
     "execution_count": 181,
     "metadata": {},
     "output_type": "execute_result"
    }
   ],
   "source": [
    "pd.Series(dists).describe()"
   ]
  }
 ],
 "metadata": {
  "kernelspec": {
   "display_name": "kgtkEnv",
   "language": "python",
   "name": "kgtkenv"
  },
  "language_info": {
   "codemirror_mode": {
    "name": "ipython",
    "version": 3
   },
   "file_extension": ".py",
   "mimetype": "text/x-python",
   "name": "python",
   "nbconvert_exporter": "python",
   "pygments_lexer": "ipython3",
   "version": "3.8.5"
  },
  "toc": {
   "base_numbering": 1,
   "nav_menu": {},
   "number_sections": true,
   "sideBar": true,
   "skip_h1_title": false,
   "title_cell": "Table of Contents",
   "title_sidebar": "Contents",
   "toc_cell": false,
   "toc_position": {
    "height": "calc(100% - 180px)",
    "left": "10px",
    "top": "150px",
    "width": "384px"
   },
   "toc_section_display": true,
   "toc_window_display": true
  },
  "varInspector": {
   "cols": {
    "lenName": 16,
    "lenType": 16,
    "lenVar": 40
   },
   "kernels_config": {
    "python": {
     "delete_cmd_postfix": "",
     "delete_cmd_prefix": "del ",
     "library": "var_list.py",
     "varRefreshCmd": "print(var_dic_list())"
    },
    "r": {
     "delete_cmd_postfix": ") ",
     "delete_cmd_prefix": "rm(",
     "library": "var_list.r",
     "varRefreshCmd": "cat(var_dic_list()) "
    }
   },
   "types_to_exclude": [
    "module",
    "function",
    "builtin_function_or_method",
    "instance",
    "_Feature"
   ],
   "window_display": false
  }
 },
 "nbformat": 4,
 "nbformat_minor": 5
}
