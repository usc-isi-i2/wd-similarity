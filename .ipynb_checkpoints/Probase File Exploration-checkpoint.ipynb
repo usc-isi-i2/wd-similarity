{
 "cells": [
  {
   "cell_type": "markdown",
   "id": "seventh-subscription",
   "metadata": {},
   "source": [
    "In this notebook, we explore the probase file as downloaded from [Link](https://concept.research.microsoft.com/Home/Download) and then perform few transformations so that we can plug this dataset as an evaluation benchmark dataset in our framework."
   ]
  },
  {
   "cell_type": "code",
   "execution_count": 71,
   "id": "charitable-eight",
   "metadata": {},
   "outputs": [],
   "source": [
    "import pandas as pd\n",
    "import numpy as np\n",
    "from matplotlib import pyplot"
   ]
  },
  {
   "cell_type": "code",
   "execution_count": 4,
   "id": "eligible-nirvana",
   "metadata": {},
   "outputs": [],
   "source": [
    "# !ls ../data/probase/data-concept/"
   ]
  },
  {
   "cell_type": "code",
   "execution_count": 5,
   "id": "korean-alert",
   "metadata": {},
   "outputs": [],
   "source": [
    "# !head ../data/probase/data-concept/data-concept-instance-relations.txt"
   ]
  },
  {
   "cell_type": "code",
   "execution_count": 6,
   "id": "prime-breed",
   "metadata": {},
   "outputs": [],
   "source": [
    "# !tail ../data/probase/data-concept/data-concept-instance-relations.txt"
   ]
  },
  {
   "cell_type": "code",
   "execution_count": 3,
   "id": "blind-locking",
   "metadata": {},
   "outputs": [],
   "source": [
    "probDF = pd.read_csv('../data/probase/data-concept/data-concept-instance-relations.txt',header=None, sep='\\t')"
   ]
  },
  {
   "cell_type": "code",
   "execution_count": 4,
   "id": "unusual-cherry",
   "metadata": {},
   "outputs": [],
   "source": [
    "probDF.columns=['node1_label', 'node2_label', 'no_of_relations']"
   ]
  },
  {
   "cell_type": "code",
   "execution_count": 9,
   "id": "caring-pavilion",
   "metadata": {},
   "outputs": [
    {
     "data": {
      "text/html": [
       "<div>\n",
       "<style scoped>\n",
       "    .dataframe tbody tr th:only-of-type {\n",
       "        vertical-align: middle;\n",
       "    }\n",
       "\n",
       "    .dataframe tbody tr th {\n",
       "        vertical-align: top;\n",
       "    }\n",
       "\n",
       "    .dataframe thead th {\n",
       "        text-align: right;\n",
       "    }\n",
       "</style>\n",
       "<table border=\"1\" class=\"dataframe\">\n",
       "  <thead>\n",
       "    <tr style=\"text-align: right;\">\n",
       "      <th></th>\n",
       "      <th>node1_label</th>\n",
       "      <th>node2_label</th>\n",
       "      <th>no_of_relations</th>\n",
       "    </tr>\n",
       "  </thead>\n",
       "  <tbody>\n",
       "    <tr>\n",
       "      <th>0</th>\n",
       "      <td>factor</td>\n",
       "      <td>age</td>\n",
       "      <td>35167</td>\n",
       "    </tr>\n",
       "    <tr>\n",
       "      <th>1</th>\n",
       "      <td>free rich company datum</td>\n",
       "      <td>size</td>\n",
       "      <td>33222</td>\n",
       "    </tr>\n",
       "    <tr>\n",
       "      <th>2</th>\n",
       "      <td>free rich company datum</td>\n",
       "      <td>revenue</td>\n",
       "      <td>33185</td>\n",
       "    </tr>\n",
       "    <tr>\n",
       "      <th>3</th>\n",
       "      <td>state</td>\n",
       "      <td>california</td>\n",
       "      <td>18062</td>\n",
       "    </tr>\n",
       "    <tr>\n",
       "      <th>4</th>\n",
       "      <td>supplement</td>\n",
       "      <td>msm glucosamine sulfate</td>\n",
       "      <td>15942</td>\n",
       "    </tr>\n",
       "    <tr>\n",
       "      <th>5</th>\n",
       "      <td>factor</td>\n",
       "      <td>gender</td>\n",
       "      <td>14230</td>\n",
       "    </tr>\n",
       "    <tr>\n",
       "      <th>6</th>\n",
       "      <td>factor</td>\n",
       "      <td>temperature</td>\n",
       "      <td>13660</td>\n",
       "    </tr>\n",
       "    <tr>\n",
       "      <th>7</th>\n",
       "      <td>metal</td>\n",
       "      <td>copper</td>\n",
       "      <td>11142</td>\n",
       "    </tr>\n",
       "    <tr>\n",
       "      <th>8</th>\n",
       "      <td>issue</td>\n",
       "      <td>stress pain depression sickness</td>\n",
       "      <td>11110</td>\n",
       "    </tr>\n",
       "    <tr>\n",
       "      <th>9</th>\n",
       "      <td>variable</td>\n",
       "      <td>age</td>\n",
       "      <td>9375</td>\n",
       "    </tr>\n",
       "    <tr>\n",
       "      <th>10</th>\n",
       "      <td>information</td>\n",
       "      <td>name</td>\n",
       "      <td>9274</td>\n",
       "    </tr>\n",
       "    <tr>\n",
       "      <th>11</th>\n",
       "      <td>state</td>\n",
       "      <td>new york</td>\n",
       "      <td>8925</td>\n",
       "    </tr>\n",
       "    <tr>\n",
       "      <th>12</th>\n",
       "      <td>social medium</td>\n",
       "      <td>facebook</td>\n",
       "      <td>8919</td>\n",
       "    </tr>\n",
       "    <tr>\n",
       "      <th>13</th>\n",
       "      <td>material</td>\n",
       "      <td>plastic</td>\n",
       "      <td>8628</td>\n",
       "    </tr>\n",
       "    <tr>\n",
       "      <th>14</th>\n",
       "      <td>supplemental material</td>\n",
       "      <td>cds</td>\n",
       "      <td>8175</td>\n",
       "    </tr>\n",
       "    <tr>\n",
       "      <th>15</th>\n",
       "      <td>supplemental material</td>\n",
       "      <td>access code</td>\n",
       "      <td>8133</td>\n",
       "    </tr>\n",
       "    <tr>\n",
       "      <th>16</th>\n",
       "      <td>state</td>\n",
       "      <td>texas</td>\n",
       "      <td>8056</td>\n",
       "    </tr>\n",
       "    <tr>\n",
       "      <th>17</th>\n",
       "      <td>supplemental material</td>\n",
       "      <td>info trac</td>\n",
       "      <td>8006</td>\n",
       "    </tr>\n",
       "    <tr>\n",
       "      <th>18</th>\n",
       "      <td>detailed business information</td>\n",
       "      <td>key executive</td>\n",
       "      <td>7979</td>\n",
       "    </tr>\n",
       "    <tr>\n",
       "      <th>19</th>\n",
       "      <td>detailed business information</td>\n",
       "      <td>financials</td>\n",
       "      <td>7942</td>\n",
       "    </tr>\n",
       "  </tbody>\n",
       "</table>\n",
       "</div>"
      ],
      "text/plain": [
       "                      node1_label                      node2_label  \\\n",
       "0                          factor                              age   \n",
       "1         free rich company datum                             size   \n",
       "2         free rich company datum                          revenue   \n",
       "3                           state                       california   \n",
       "4                      supplement          msm glucosamine sulfate   \n",
       "5                          factor                           gender   \n",
       "6                          factor                      temperature   \n",
       "7                           metal                           copper   \n",
       "8                           issue  stress pain depression sickness   \n",
       "9                        variable                              age   \n",
       "10                    information                             name   \n",
       "11                          state                         new york   \n",
       "12                  social medium                         facebook   \n",
       "13                       material                          plastic   \n",
       "14          supplemental material                              cds   \n",
       "15          supplemental material                      access code   \n",
       "16                          state                            texas   \n",
       "17          supplemental material                        info trac   \n",
       "18  detailed business information                    key executive   \n",
       "19  detailed business information                       financials   \n",
       "\n",
       "    no_of_relations  \n",
       "0             35167  \n",
       "1             33222  \n",
       "2             33185  \n",
       "3             18062  \n",
       "4             15942  \n",
       "5             14230  \n",
       "6             13660  \n",
       "7             11142  \n",
       "8             11110  \n",
       "9              9375  \n",
       "10             9274  \n",
       "11             8925  \n",
       "12             8919  \n",
       "13             8628  \n",
       "14             8175  \n",
       "15             8133  \n",
       "16             8056  \n",
       "17             8006  \n",
       "18             7979  \n",
       "19             7942  "
      ]
     },
     "execution_count": 9,
     "metadata": {},
     "output_type": "execute_result"
    }
   ],
   "source": [
    "probDF.head(20)"
   ]
  },
  {
   "cell_type": "code",
   "execution_count": 10,
   "id": "hispanic-century",
   "metadata": {},
   "outputs": [
    {
     "data": {
      "text/html": [
       "<div>\n",
       "<style scoped>\n",
       "    .dataframe tbody tr th:only-of-type {\n",
       "        vertical-align: middle;\n",
       "    }\n",
       "\n",
       "    .dataframe tbody tr th {\n",
       "        vertical-align: top;\n",
       "    }\n",
       "\n",
       "    .dataframe thead th {\n",
       "        text-align: right;\n",
       "    }\n",
       "</style>\n",
       "<table border=\"1\" class=\"dataframe\">\n",
       "  <thead>\n",
       "    <tr style=\"text-align: right;\">\n",
       "      <th></th>\n",
       "      <th>node1_label</th>\n",
       "      <th>node2_label</th>\n",
       "      <th>no_of_relations</th>\n",
       "    </tr>\n",
       "  </thead>\n",
       "  <tbody>\n",
       "    <tr>\n",
       "      <th>33377300</th>\n",
       "      <td>single event service</td>\n",
       "      <td>iso 3rd party auditing</td>\n",
       "      <td>1</td>\n",
       "    </tr>\n",
       "    <tr>\n",
       "      <th>33377301</th>\n",
       "      <td>single event service</td>\n",
       "      <td>professional speaker</td>\n",
       "      <td>1</td>\n",
       "    </tr>\n",
       "    <tr>\n",
       "      <th>33377302</th>\n",
       "      <td>lip pad</td>\n",
       "      <td>crayon</td>\n",
       "      <td>1</td>\n",
       "    </tr>\n",
       "    <tr>\n",
       "      <th>33377303</th>\n",
       "      <td>ationals</td>\n",
       "      <td>dupont</td>\n",
       "      <td>1</td>\n",
       "    </tr>\n",
       "    <tr>\n",
       "      <th>33377304</th>\n",
       "      <td>well established accident scenario</td>\n",
       "      <td>station blackout condition</td>\n",
       "      <td>1</td>\n",
       "    </tr>\n",
       "    <tr>\n",
       "      <th>33377305</th>\n",
       "      <td>outreach support</td>\n",
       "      <td>homecare</td>\n",
       "      <td>1</td>\n",
       "    </tr>\n",
       "    <tr>\n",
       "      <th>33377306</th>\n",
       "      <td>outreach support</td>\n",
       "      <td>warden</td>\n",
       "      <td>1</td>\n",
       "    </tr>\n",
       "    <tr>\n",
       "      <th>33377307</th>\n",
       "      <td>sugar laden snack</td>\n",
       "      <td>candy bar</td>\n",
       "      <td>1</td>\n",
       "    </tr>\n",
       "    <tr>\n",
       "      <th>33377308</th>\n",
       "      <td>sugar laden snack</td>\n",
       "      <td>breads with sugar</td>\n",
       "      <td>1</td>\n",
       "    </tr>\n",
       "    <tr>\n",
       "      <th>33377309</th>\n",
       "      <td>sugar laden snack</td>\n",
       "      <td>items with frosting</td>\n",
       "      <td>1</td>\n",
       "    </tr>\n",
       "    <tr>\n",
       "      <th>33377310</th>\n",
       "      <td>biproportional system</td>\n",
       "      <td>pal representation</td>\n",
       "      <td>1</td>\n",
       "    </tr>\n",
       "    <tr>\n",
       "      <th>33377311</th>\n",
       "      <td>supportive or protective item</td>\n",
       "      <td>recovery sock</td>\n",
       "      <td>1</td>\n",
       "    </tr>\n",
       "    <tr>\n",
       "      <th>33377312</th>\n",
       "      <td>interesting foreground subject</td>\n",
       "      <td>plant</td>\n",
       "      <td>1</td>\n",
       "    </tr>\n",
       "    <tr>\n",
       "      <th>33377313</th>\n",
       "      <td>interesting foreground subject</td>\n",
       "      <td>rock</td>\n",
       "      <td>1</td>\n",
       "    </tr>\n",
       "    <tr>\n",
       "      <th>33377314</th>\n",
       "      <td>popular legacy datum structure</td>\n",
       "      <td>linked list</td>\n",
       "      <td>1</td>\n",
       "    </tr>\n",
       "    <tr>\n",
       "      <th>33377315</th>\n",
       "      <td>popular legacy datum structure</td>\n",
       "      <td>binary search tree</td>\n",
       "      <td>1</td>\n",
       "    </tr>\n",
       "    <tr>\n",
       "      <th>33377316</th>\n",
       "      <td>norwegian food</td>\n",
       "      <td>lefse</td>\n",
       "      <td>1</td>\n",
       "    </tr>\n",
       "    <tr>\n",
       "      <th>33377317</th>\n",
       "      <td>freeze skill</td>\n",
       "      <td>new fot</td>\n",
       "      <td>1</td>\n",
       "    </tr>\n",
       "    <tr>\n",
       "      <th>33377318</th>\n",
       "      <td>enhanced enforcement initiative</td>\n",
       "      <td>monthly impact inspections of problem mine</td>\n",
       "      <td>1</td>\n",
       "    </tr>\n",
       "    <tr>\n",
       "      <th>33377319</th>\n",
       "      <td>enhanced enforcement initiative</td>\n",
       "      <td>pattern of violation notification</td>\n",
       "      <td>1</td>\n",
       "    </tr>\n",
       "  </tbody>\n",
       "</table>\n",
       "</div>"
      ],
      "text/plain": [
       "                                 node1_label  \\\n",
       "33377300                single event service   \n",
       "33377301                single event service   \n",
       "33377302                             lip pad   \n",
       "33377303                            ationals   \n",
       "33377304  well established accident scenario   \n",
       "33377305                    outreach support   \n",
       "33377306                    outreach support   \n",
       "33377307                   sugar laden snack   \n",
       "33377308                   sugar laden snack   \n",
       "33377309                   sugar laden snack   \n",
       "33377310               biproportional system   \n",
       "33377311       supportive or protective item   \n",
       "33377312      interesting foreground subject   \n",
       "33377313      interesting foreground subject   \n",
       "33377314      popular legacy datum structure   \n",
       "33377315      popular legacy datum structure   \n",
       "33377316                      norwegian food   \n",
       "33377317                        freeze skill   \n",
       "33377318     enhanced enforcement initiative   \n",
       "33377319     enhanced enforcement initiative   \n",
       "\n",
       "                                         node2_label  no_of_relations  \n",
       "33377300                      iso 3rd party auditing                1  \n",
       "33377301                        professional speaker                1  \n",
       "33377302                                      crayon                1  \n",
       "33377303                                      dupont                1  \n",
       "33377304                  station blackout condition                1  \n",
       "33377305                                    homecare                1  \n",
       "33377306                                      warden                1  \n",
       "33377307                                   candy bar                1  \n",
       "33377308                           breads with sugar                1  \n",
       "33377309                         items with frosting                1  \n",
       "33377310                          pal representation                1  \n",
       "33377311                               recovery sock                1  \n",
       "33377312                                       plant                1  \n",
       "33377313                                        rock                1  \n",
       "33377314                                 linked list                1  \n",
       "33377315                          binary search tree                1  \n",
       "33377316                                       lefse                1  \n",
       "33377317                                     new fot                1  \n",
       "33377318  monthly impact inspections of problem mine                1  \n",
       "33377319           pattern of violation notification                1  "
      ]
     },
     "execution_count": 10,
     "metadata": {},
     "output_type": "execute_result"
    }
   ],
   "source": [
    "probDF.tail(20)"
   ]
  },
  {
   "cell_type": "code",
   "execution_count": 11,
   "id": "mental-corpus",
   "metadata": {},
   "outputs": [
    {
     "data": {
      "text/plain": [
       "33377320"
      ]
     },
     "execution_count": 11,
     "metadata": {},
     "output_type": "execute_result"
    }
   ],
   "source": [
    "len(probDF)"
   ]
  },
  {
   "cell_type": "code",
   "execution_count": 12,
   "id": "important-problem",
   "metadata": {
    "scrolled": true
   },
   "outputs": [
    {
     "data": {
      "text/plain": [
       "<AxesSubplot:>"
      ]
     },
     "execution_count": 12,
     "metadata": {},
     "output_type": "execute_result"
    },
    {
     "data": {
      "image/png": "[encoded data removed]",
      "text/plain": [
       "<Figure size 432x288 with 1 Axes>"
      ]
     },
     "metadata": {
      "needs_background": "light"
     },
     "output_type": "display_data"
    }
   ],
   "source": [
    "probDF.no_of_relations.hist()"
   ]
  },
  {
   "cell_type": "code",
   "execution_count": 26,
   "id": "spare-professor",
   "metadata": {
    "scrolled": true
   },
   "outputs": [
    {
     "data": {
      "text/plain": [
       "<AxesSubplot:>"
      ]
     },
     "execution_count": 26,
     "metadata": {},
     "output_type": "execute_result"
    },
    {
     "data": {
      "image/png": "[encoded data removed]",
      "text/plain": [
       "<Figure size 432x288 with 1 Axes>"
      ]
     },
     "metadata": {
      "needs_background": "light"
     },
     "output_type": "display_data"
    }
   ],
   "source": [
    "probDF.no_of_relations.hist(bins=100)"
   ]
  },
  {
   "cell_type": "code",
   "execution_count": 9,
   "id": "exterior-trash",
   "metadata": {},
   "outputs": [
    {
     "data": {
      "text/plain": [
       "0           35167\n",
       "1           33222\n",
       "2           33185\n",
       "3           18062\n",
       "4           15942\n",
       "            ...  \n",
       "33377315        1\n",
       "33377316        1\n",
       "33377317        1\n",
       "33377318        1\n",
       "33377319        1\n",
       "Name: no_of_relations, Length: 33377320, dtype: int64"
      ]
     },
     "execution_count": 9,
     "metadata": {},
     "output_type": "execute_result"
    }
   ],
   "source": [
    "probDF.no_of_relations"
   ]
  },
  {
   "cell_type": "code",
   "execution_count": 7,
   "id": "ongoing-diving",
   "metadata": {},
   "outputs": [],
   "source": [
    "import seaborn as sns\n",
    "d1 = probDF.no_of_relations.value_counts()"
   ]
  },
  {
   "cell_type": "code",
   "execution_count": 20,
   "id": "previous-microphone",
   "metadata": {},
   "outputs": [
    {
     "data": {
      "text/plain": [
       "<AxesSubplot:xlabel='no_of_relations', ylabel='frequency'>"
      ]
     },
     "execution_count": 20,
     "metadata": {},
     "output_type": "execute_result"
    },
    {
     "data": {
      "image/png": "[encoded data removed]",
      "text/plain": [
       "<Figure size 432x288 with 1 Axes>"
      ]
     },
     "metadata": {
      "needs_background": "light"
     },
     "output_type": "display_data"
    }
   ],
   "source": [
    "sns.lineplot(data=d1.reset_index().sort_values(by=['index']).rename(columns={'no_of_relations': 'frequency', 'index': 'no_of_relations'}),\n",
    "            x=\"no_of_relations\", y=\"frequency\")"
   ]
  },
  {
   "cell_type": "code",
   "execution_count": 21,
   "id": "accurate-setting",
   "metadata": {},
   "outputs": [
    {
     "data": {
      "text/plain": [
       "<AxesSubplot:xlabel='no_of_relations', ylabel='frequency'>"
      ]
     },
     "execution_count": 21,
     "metadata": {},
     "output_type": "execute_result"
    },
    {
     "data": {
      "image/png": "[encoded data removed]",
      "text/plain": [
       "<Figure size 432x288 with 1 Axes>"
      ]
     },
     "metadata": {
      "needs_background": "light"
     },
     "output_type": "display_data"
    }
   ],
   "source": [
    "sns.scatterplot(data=d1.reset_index().sort_values(by=['index']).rename(columns={'no_of_relations': 'frequency', 'index': 'no_of_relations'}),\n",
    "            x=\"no_of_relations\", y=\"frequency\")"
   ]
  },
  {
   "cell_type": "code",
   "execution_count": 13,
   "id": "deluxe-visit",
   "metadata": {},
   "outputs": [
    {
     "data": {
      "text/plain": [
       "<AxesSubplot:>"
      ]
     },
     "execution_count": 13,
     "metadata": {},
     "output_type": "execute_result"
    },
    {
     "data": {
      "image/png": "[encoded data removed]",
      "text/plain": [
       "<Figure size 432x288 with 1 Axes>"
      ]
     },
     "metadata": {
      "needs_background": "light"
     },
     "output_type": "display_data"
    }
   ],
   "source": [
    "probDF.no_of_relations.transform(np.log).hist()"
   ]
  },
  {
   "cell_type": "code",
   "execution_count": 14,
   "id": "prospective-bidding",
   "metadata": {},
   "outputs": [
    {
     "data": {
      "text/plain": [
       "count    3.337732e+07\n",
       "mean     2.549671e+00\n",
       "std      2.153597e+01\n",
       "min      1.000000e+00\n",
       "25%      1.000000e+00\n",
       "50%      1.000000e+00\n",
       "75%      2.000000e+00\n",
       "max      3.516700e+04\n",
       "Name: no_of_relations, dtype: float64"
      ]
     },
     "execution_count": 14,
     "metadata": {},
     "output_type": "execute_result"
    }
   ],
   "source": [
    "probDF.no_of_relations.describe()"
   ]
  },
  {
   "cell_type": "code",
   "execution_count": 15,
   "id": "consolidated-cheat",
   "metadata": {},
   "outputs": [],
   "source": [
    "# import nltk"
   ]
  },
  {
   "cell_type": "code",
   "execution_count": 16,
   "id": "specialized-arrest",
   "metadata": {},
   "outputs": [],
   "source": [
    "# temp = probDF[probDF.node1_label.apply(lambda p: \"eating\" in str(p))]"
   ]
  },
  {
   "cell_type": "code",
   "execution_count": 17,
   "id": "residential-turkish",
   "metadata": {},
   "outputs": [],
   "source": [
    "# temp[temp.node1_label.apply(lambda p: \"eating\" in nltk.word_tokenize(str(p)))]"
   ]
  },
  {
   "cell_type": "code",
   "execution_count": 18,
   "id": "posted-tampa",
   "metadata": {},
   "outputs": [],
   "source": [
    "# probDF[probDF.node1_label.apply(lambda p: p == \"eating\")]"
   ]
  },
  {
   "cell_type": "code",
   "execution_count": 19,
   "id": "olive-former",
   "metadata": {},
   "outputs": [],
   "source": [
    "# probDF[probDF.node1_label.apply(lambda p: p == \"eat\")]"
   ]
  },
  {
   "cell_type": "markdown",
   "id": "vocational-theme",
   "metadata": {},
   "source": [
    "# Compare with wordsim dataset"
   ]
  },
  {
   "cell_type": "code",
   "execution_count": 27,
   "id": "precise-paragraph",
   "metadata": {},
   "outputs": [],
   "source": [
    "wordSimDF = pd.read_csv(\"../data/wordsim.csv\")"
   ]
  },
  {
   "cell_type": "code",
   "execution_count": 28,
   "id": "differential-clearing",
   "metadata": {},
   "outputs": [
    {
     "data": {
      "text/plain": [
       "349"
      ]
     },
     "execution_count": 28,
     "metadata": {},
     "output_type": "execute_result"
    }
   ],
   "source": [
    "len(wordSimDF)"
   ]
  },
  {
   "cell_type": "code",
   "execution_count": 29,
   "id": "emerging-athletics",
   "metadata": {},
   "outputs": [
    {
     "data": {
      "text/html": [
       "<div>\n",
       "<style scoped>\n",
       "    .dataframe tbody tr th:only-of-type {\n",
       "        vertical-align: middle;\n",
       "    }\n",
       "\n",
       "    .dataframe tbody tr th {\n",
       "        vertical-align: top;\n",
       "    }\n",
       "\n",
       "    .dataframe thead th {\n",
       "        text-align: right;\n",
       "    }\n",
       "</style>\n",
       "<table border=\"1\" class=\"dataframe\">\n",
       "  <thead>\n",
       "    <tr style=\"text-align: right;\">\n",
       "      <th></th>\n",
       "      <th>Word 1</th>\n",
       "      <th>word1_kg_id</th>\n",
       "      <th>word1_kg_label</th>\n",
       "      <th>word1_kg_description</th>\n",
       "      <th>Word 2</th>\n",
       "      <th>word2_kg_id</th>\n",
       "      <th>word2_kg_label</th>\n",
       "      <th>word2_kg_description</th>\n",
       "      <th>Human (Mean)</th>\n",
       "      <th>complex</th>\n",
       "      <th>transe</th>\n",
       "      <th>text</th>\n",
       "      <th>class</th>\n",
       "    </tr>\n",
       "  </thead>\n",
       "  <tbody>\n",
       "    <tr>\n",
       "      <th>0</th>\n",
       "      <td>admission</td>\n",
       "      <td>Q847337</td>\n",
       "      <td>confession</td>\n",
       "      <td>statement made by a person or a group of perso...</td>\n",
       "      <td>ticket</td>\n",
       "      <td>Q551800</td>\n",
       "      <td>ticket</td>\n",
       "      <td>paper or cardboard document showing payment fo...</td>\n",
       "      <td>5.5360</td>\n",
       "      <td>0.361115</td>\n",
       "      <td>0.446632</td>\n",
       "      <td>0.485653</td>\n",
       "      <td>NaN</td>\n",
       "    </tr>\n",
       "    <tr>\n",
       "      <th>1</th>\n",
       "      <td>alcohol</td>\n",
       "      <td>Q154</td>\n",
       "      <td>alcoholic beverage</td>\n",
       "      <td>drink containing alcohols, typically ethanol</td>\n",
       "      <td>chemistry</td>\n",
       "      <td>Q2329</td>\n",
       "      <td>chemistry</td>\n",
       "      <td>branch of physical science concerned with the ...</td>\n",
       "      <td>4.1250</td>\n",
       "      <td>0.302163</td>\n",
       "      <td>0.274388</td>\n",
       "      <td>0.479313</td>\n",
       "      <td>0.005851</td>\n",
       "    </tr>\n",
       "    <tr>\n",
       "      <th>2</th>\n",
       "      <td>aluminum</td>\n",
       "      <td>Q663</td>\n",
       "      <td>aluminium</td>\n",
       "      <td>metallic chemical element of silvery appearanc...</td>\n",
       "      <td>metal</td>\n",
       "      <td>Q11426</td>\n",
       "      <td>metal</td>\n",
       "      <td>element, compound or alloy that is a good cond...</td>\n",
       "      <td>6.6250</td>\n",
       "      <td>0.694462</td>\n",
       "      <td>0.429289</td>\n",
       "      <td>0.626784</td>\n",
       "      <td>0.393657</td>\n",
       "    </tr>\n",
       "    <tr>\n",
       "      <th>3</th>\n",
       "      <td>announcement</td>\n",
       "      <td>Q567303</td>\n",
       "      <td>announcement</td>\n",
       "      <td>printed, spoken, or published statement or not...</td>\n",
       "      <td>effort</td>\n",
       "      <td>Q14536140</td>\n",
       "      <td>exertion</td>\n",
       "      <td>use of physical or perceived energy by a person</td>\n",
       "      <td>2.0625</td>\n",
       "      <td>0.324825</td>\n",
       "      <td>0.379077</td>\n",
       "      <td>0.618644</td>\n",
       "      <td>0.208812</td>\n",
       "    </tr>\n",
       "    <tr>\n",
       "      <th>4</th>\n",
       "      <td>announcement</td>\n",
       "      <td>Q567303</td>\n",
       "      <td>announcement</td>\n",
       "      <td>printed, spoken, or published statement or not...</td>\n",
       "      <td>news</td>\n",
       "      <td>Q38926</td>\n",
       "      <td>news</td>\n",
       "      <td>communication of selected information on curre...</td>\n",
       "      <td>7.1875</td>\n",
       "      <td>0.361214</td>\n",
       "      <td>0.360383</td>\n",
       "      <td>0.863846</td>\n",
       "      <td>0.888621</td>\n",
       "    </tr>\n",
       "  </tbody>\n",
       "</table>\n",
       "</div>"
      ],
      "text/plain": [
       "         Word 1 word1_kg_id      word1_kg_label  \\\n",
       "0     admission     Q847337          confession   \n",
       "1       alcohol        Q154  alcoholic beverage   \n",
       "2      aluminum        Q663           aluminium   \n",
       "3  announcement     Q567303        announcement   \n",
       "4  announcement     Q567303        announcement   \n",
       "\n",
       "                                word1_kg_description     Word 2 word2_kg_id  \\\n",
       "0  statement made by a person or a group of perso...     ticket     Q551800   \n",
       "1       drink containing alcohols, typically ethanol  chemistry       Q2329   \n",
       "2  metallic chemical element of silvery appearanc...      metal      Q11426   \n",
       "3  printed, spoken, or published statement or not...     effort   Q14536140   \n",
       "4  printed, spoken, or published statement or not...       news      Q38926   \n",
       "\n",
       "  word2_kg_label                               word2_kg_description  \\\n",
       "0         ticket  paper or cardboard document showing payment fo...   \n",
       "1      chemistry  branch of physical science concerned with the ...   \n",
       "2          metal  element, compound or alloy that is a good cond...   \n",
       "3       exertion    use of physical or perceived energy by a person   \n",
       "4           news  communication of selected information on curre...   \n",
       "\n",
       "   Human (Mean)   complex    transe      text     class  \n",
       "0        5.5360  0.361115  0.446632  0.485653       NaN  \n",
       "1        4.1250  0.302163  0.274388  0.479313  0.005851  \n",
       "2        6.6250  0.694462  0.429289  0.626784  0.393657  \n",
       "3        2.0625  0.324825  0.379077  0.618644  0.208812  \n",
       "4        7.1875  0.361214  0.360383  0.863846  0.888621  "
      ]
     },
     "execution_count": 29,
     "metadata": {},
     "output_type": "execute_result"
    }
   ],
   "source": [
    "wordSimDF.head()"
   ]
  },
  {
   "cell_type": "code",
   "execution_count": 30,
   "id": "proud-record",
   "metadata": {},
   "outputs": [],
   "source": [
    "wordSimDFSet = set(wordSimDF.word1_kg_label.to_list() + wordSimDF.word2_kg_label.to_list())\n",
    "wordSimDF_Map = {**{word: qnode for (word, qnode) in zip(wordSimDF['Word 1'].to_list(), wordSimDF['word1_kg_id'].to_list())}, **{word: qnode for (word, qnode) in zip(wordSimDF['Word 2'].to_list(), wordSimDF['word2_kg_id'].to_list())}}\n"
   ]
  },
  {
   "cell_type": "code",
   "execution_count": 31,
   "id": "accessible-being",
   "metadata": {},
   "outputs": [],
   "source": [
    "# wordSimDF_Map"
   ]
  },
  {
   "cell_type": "code",
   "execution_count": 32,
   "id": "under-rugby",
   "metadata": {},
   "outputs": [
    {
     "ename": "KeyboardInterrupt",
     "evalue": "",
     "output_type": "error",
     "traceback": [
      "\u001b[0;31m---------------------------------------------------------------------------\u001b[0m",
      "\u001b[0;31mKeyboardInterrupt\u001b[0m                         Traceback (most recent call last)",
      "\u001b[0;32m<ipython-input-32-9c27ec2762e9>\u001b[0m in \u001b[0;36m<module>\u001b[0;34m\u001b[0m\n\u001b[0;32m----> 1\u001b[0;31m \u001b[0mprobDF1\u001b[0m \u001b[0;34m=\u001b[0m \u001b[0mprobDF\u001b[0m\u001b[0;34m.\u001b[0m\u001b[0mapply\u001b[0m\u001b[0;34m(\u001b[0m\u001b[0;32mlambda\u001b[0m \u001b[0mp\u001b[0m\u001b[0;34m:\u001b[0m \u001b[0mp\u001b[0m\u001b[0;34m.\u001b[0m\u001b[0mnode1_label\u001b[0m \u001b[0;32min\u001b[0m \u001b[0mwordSimDFSet\u001b[0m \u001b[0;32mor\u001b[0m \u001b[0mp\u001b[0m\u001b[0;34m.\u001b[0m\u001b[0mnode2_label\u001b[0m \u001b[0;32min\u001b[0m \u001b[0mwordSimDFSet\u001b[0m\u001b[0;34m,\u001b[0m \u001b[0maxis\u001b[0m\u001b[0;34m=\u001b[0m\u001b[0;36m1\u001b[0m\u001b[0;34m)\u001b[0m\u001b[0;34m\u001b[0m\u001b[0;34m\u001b[0m\u001b[0m\n\u001b[0m",
      "\u001b[0;32m~/miniconda3/envs/kgtkEnv/lib/python3.8/site-packages/pandas/core/frame.py\u001b[0m in \u001b[0;36mapply\u001b[0;34m(self, func, axis, raw, result_type, args, **kwds)\u001b[0m\n\u001b[1;32m   7763\u001b[0m             \u001b[0mkwds\u001b[0m\u001b[0;34m=\u001b[0m\u001b[0mkwds\u001b[0m\u001b[0;34m,\u001b[0m\u001b[0;34m\u001b[0m\u001b[0;34m\u001b[0m\u001b[0m\n\u001b[1;32m   7764\u001b[0m         )\n\u001b[0;32m-> 7765\u001b[0;31m         \u001b[0;32mreturn\u001b[0m \u001b[0mop\u001b[0m\u001b[0;34m.\u001b[0m\u001b[0mget_result\u001b[0m\u001b[0;34m(\u001b[0m\u001b[0;34m)\u001b[0m\u001b[0;34m\u001b[0m\u001b[0;34m\u001b[0m\u001b[0m\n\u001b[0m\u001b[1;32m   7766\u001b[0m \u001b[0;34m\u001b[0m\u001b[0m\n\u001b[1;32m   7767\u001b[0m     \u001b[0;32mdef\u001b[0m \u001b[0mapplymap\u001b[0m\u001b[0;34m(\u001b[0m\u001b[0mself\u001b[0m\u001b[0;34m,\u001b[0m \u001b[0mfunc\u001b[0m\u001b[0;34m,\u001b[0m \u001b[0mna_action\u001b[0m\u001b[0;34m:\u001b[0m \u001b[0mOptional\u001b[0m\u001b[0;34m[\u001b[0m\u001b[0mstr\u001b[0m\u001b[0;34m]\u001b[0m \u001b[0;34m=\u001b[0m \u001b[0;32mNone\u001b[0m\u001b[0;34m)\u001b[0m \u001b[0;34m->\u001b[0m \u001b[0mDataFrame\u001b[0m\u001b[0;34m:\u001b[0m\u001b[0;34m\u001b[0m\u001b[0;34m\u001b[0m\u001b[0m\n",
      "\u001b[0;32m~/miniconda3/envs/kgtkEnv/lib/python3.8/site-packages/pandas/core/apply.py\u001b[0m in \u001b[0;36mget_result\u001b[0;34m(self)\u001b[0m\n\u001b[1;32m    183\u001b[0m             \u001b[0;32mreturn\u001b[0m \u001b[0mself\u001b[0m\u001b[0;34m.\u001b[0m\u001b[0mapply_raw\u001b[0m\u001b[0;34m(\u001b[0m\u001b[0;34m)\u001b[0m\u001b[0;34m\u001b[0m\u001b[0;34m\u001b[0m\u001b[0m\n\u001b[1;32m    184\u001b[0m \u001b[0;34m\u001b[0m\u001b[0m\n\u001b[0;32m--> 185\u001b[0;31m         \u001b[0;32mreturn\u001b[0m \u001b[0mself\u001b[0m\u001b[0;34m.\u001b[0m\u001b[0mapply_standard\u001b[0m\u001b[0;34m(\u001b[0m\u001b[0;34m)\u001b[0m\u001b[0;34m\u001b[0m\u001b[0;34m\u001b[0m\u001b[0m\n\u001b[0m\u001b[1;32m    186\u001b[0m \u001b[0;34m\u001b[0m\u001b[0m\n\u001b[1;32m    187\u001b[0m     \u001b[0;32mdef\u001b[0m \u001b[0mapply_empty_result\u001b[0m\u001b[0;34m(\u001b[0m\u001b[0mself\u001b[0m\u001b[0;34m)\u001b[0m\u001b[0;34m:\u001b[0m\u001b[0;34m\u001b[0m\u001b[0;34m\u001b[0m\u001b[0m\n",
      "\u001b[0;32m~/miniconda3/envs/kgtkEnv/lib/python3.8/site-packages/pandas/core/apply.py\u001b[0m in \u001b[0;36mapply_standard\u001b[0;34m(self)\u001b[0m\n\u001b[1;32m    274\u001b[0m \u001b[0;34m\u001b[0m\u001b[0m\n\u001b[1;32m    275\u001b[0m     \u001b[0;32mdef\u001b[0m \u001b[0mapply_standard\u001b[0m\u001b[0;34m(\u001b[0m\u001b[0mself\u001b[0m\u001b[0;34m)\u001b[0m\u001b[0;34m:\u001b[0m\u001b[0;34m\u001b[0m\u001b[0;34m\u001b[0m\u001b[0m\n\u001b[0;32m--> 276\u001b[0;31m         \u001b[0mresults\u001b[0m\u001b[0;34m,\u001b[0m \u001b[0mres_index\u001b[0m \u001b[0;34m=\u001b[0m \u001b[0mself\u001b[0m\u001b[0;34m.\u001b[0m\u001b[0mapply_series_generator\u001b[0m\u001b[0;34m(\u001b[0m\u001b[0;34m)\u001b[0m\u001b[0;34m\u001b[0m\u001b[0;34m\u001b[0m\u001b[0m\n\u001b[0m\u001b[1;32m    277\u001b[0m \u001b[0;34m\u001b[0m\u001b[0m\n\u001b[1;32m    278\u001b[0m         \u001b[0;31m# wrap results\u001b[0m\u001b[0;34m\u001b[0m\u001b[0;34m\u001b[0m\u001b[0;34m\u001b[0m\u001b[0m\n",
      "\u001b[0;32m~/miniconda3/envs/kgtkEnv/lib/python3.8/site-packages/pandas/core/apply.py\u001b[0m in \u001b[0;36mapply_series_generator\u001b[0;34m(self)\u001b[0m\n\u001b[1;32m    286\u001b[0m \u001b[0;34m\u001b[0m\u001b[0m\n\u001b[1;32m    287\u001b[0m         \u001b[0;32mwith\u001b[0m \u001b[0moption_context\u001b[0m\u001b[0;34m(\u001b[0m\u001b[0;34m\"mode.chained_assignment\"\u001b[0m\u001b[0;34m,\u001b[0m \u001b[0;32mNone\u001b[0m\u001b[0;34m)\u001b[0m\u001b[0;34m:\u001b[0m\u001b[0;34m\u001b[0m\u001b[0;34m\u001b[0m\u001b[0m\n\u001b[0;32m--> 288\u001b[0;31m             \u001b[0;32mfor\u001b[0m \u001b[0mi\u001b[0m\u001b[0;34m,\u001b[0m \u001b[0mv\u001b[0m \u001b[0;32min\u001b[0m \u001b[0menumerate\u001b[0m\u001b[0;34m(\u001b[0m\u001b[0mseries_gen\u001b[0m\u001b[0;34m)\u001b[0m\u001b[0;34m:\u001b[0m\u001b[0;34m\u001b[0m\u001b[0;34m\u001b[0m\u001b[0m\n\u001b[0m\u001b[1;32m    289\u001b[0m                 \u001b[0;31m# ignore SettingWithCopy here in case the user mutates\u001b[0m\u001b[0;34m\u001b[0m\u001b[0;34m\u001b[0m\u001b[0;34m\u001b[0m\u001b[0m\n\u001b[1;32m    290\u001b[0m                 \u001b[0mresults\u001b[0m\u001b[0;34m[\u001b[0m\u001b[0mi\u001b[0m\u001b[0;34m]\u001b[0m \u001b[0;34m=\u001b[0m \u001b[0mself\u001b[0m\u001b[0;34m.\u001b[0m\u001b[0mf\u001b[0m\u001b[0;34m(\u001b[0m\u001b[0mv\u001b[0m\u001b[0;34m)\u001b[0m\u001b[0;34m\u001b[0m\u001b[0;34m\u001b[0m\u001b[0m\n",
      "\u001b[0;32m~/miniconda3/envs/kgtkEnv/lib/python3.8/site-packages/pandas/core/apply.py\u001b[0m in \u001b[0;36mseries_generator\u001b[0;34m(self)\u001b[0m\n\u001b[1;32m    406\u001b[0m \u001b[0;34m\u001b[0m\u001b[0m\n\u001b[1;32m    407\u001b[0m         \u001b[0;32melse\u001b[0m\u001b[0;34m:\u001b[0m\u001b[0;34m\u001b[0m\u001b[0;34m\u001b[0m\u001b[0m\n\u001b[0;32m--> 408\u001b[0;31m             \u001b[0;32mfor\u001b[0m \u001b[0;34m(\u001b[0m\u001b[0marr\u001b[0m\u001b[0;34m,\u001b[0m \u001b[0mname\u001b[0m\u001b[0;34m)\u001b[0m \u001b[0;32min\u001b[0m \u001b[0mzip\u001b[0m\u001b[0;34m(\u001b[0m\u001b[0mvalues\u001b[0m\u001b[0;34m,\u001b[0m \u001b[0mself\u001b[0m\u001b[0;34m.\u001b[0m\u001b[0mindex\u001b[0m\u001b[0;34m)\u001b[0m\u001b[0;34m:\u001b[0m\u001b[0;34m\u001b[0m\u001b[0;34m\u001b[0m\u001b[0m\n\u001b[0m\u001b[1;32m    409\u001b[0m                 \u001b[0;31m# GH#35462 re-pin mgr in case setitem changed it\u001b[0m\u001b[0;34m\u001b[0m\u001b[0;34m\u001b[0m\u001b[0;34m\u001b[0m\u001b[0m\n\u001b[1;32m    410\u001b[0m                 \u001b[0mser\u001b[0m\u001b[0;34m.\u001b[0m\u001b[0m_mgr\u001b[0m \u001b[0;34m=\u001b[0m \u001b[0mmgr\u001b[0m\u001b[0;34m\u001b[0m\u001b[0;34m\u001b[0m\u001b[0m\n",
      "\u001b[0;31mKeyboardInterrupt\u001b[0m: "
     ]
    }
   ],
   "source": [
    "probDF1 = probDF.apply(lambda p: p.node1_label in wordSimDFSet or p.node2_label in wordSimDFSet, axis=1)"
   ]
  },
  {
   "cell_type": "code",
   "execution_count": null,
   "id": "loving-fantasy",
   "metadata": {},
   "outputs": [],
   "source": [
    "probDF2 = probDF[probDF1]"
   ]
  },
  {
   "cell_type": "code",
   "execution_count": null,
   "id": "lined-specialist",
   "metadata": {},
   "outputs": [],
   "source": [
    "print(f\"From having {len(probDF)} statements in the probase file, we have {len(probDF2)} statements such that either node1 or node2 is a label in our wordsim dataset\")\n"
   ]
  },
  {
   "cell_type": "code",
   "execution_count": null,
   "id": "clinical-vaccine",
   "metadata": {},
   "outputs": [],
   "source": [
    "len(wordSimDFSet)"
   ]
  },
  {
   "cell_type": "code",
   "execution_count": null,
   "id": "female-canada",
   "metadata": {
    "scrolled": true
   },
   "outputs": [],
   "source": [
    "probDF2.head()"
   ]
  },
  {
   "cell_type": "code",
   "execution_count": null,
   "id": "executive-checkout",
   "metadata": {
    "scrolled": true
   },
   "outputs": [],
   "source": [
    "probDF2.no_of_relations.hist()"
   ]
  },
  {
   "cell_type": "code",
   "execution_count": null,
   "id": "warming-analysis",
   "metadata": {},
   "outputs": [],
   "source": []
  },
  {
   "cell_type": "code",
   "execution_count": null,
   "id": "adapted-costume",
   "metadata": {},
   "outputs": [],
   "source": []
  },
  {
   "cell_type": "code",
   "execution_count": 49,
   "id": "geographic-family",
   "metadata": {},
   "outputs": [],
   "source": [
    "wordSimDFPairSet = set([(row['Word 1'], row['Word 2']) for _, row in wordSimDF.iterrows()])"
   ]
  },
  {
   "cell_type": "code",
   "execution_count": 55,
   "id": "explicit-pharmacology",
   "metadata": {},
   "outputs": [],
   "source": [
    "probDF1 = probDF.apply(lambda p: p.node1_label in wordSimDFSet and p.node2_label in wordSimDFSet, axis=1)"
   ]
  },
  {
   "cell_type": "code",
   "execution_count": 56,
   "id": "first-malpractice",
   "metadata": {},
   "outputs": [],
   "source": [
    "# probDF1 = probDF.apply(lambda p: (p.node1_label, p.node2_label) in wordSimDFPairSet, axis=1)"
   ]
  },
  {
   "cell_type": "code",
   "execution_count": 57,
   "id": "middle-banking",
   "metadata": {},
   "outputs": [],
   "source": [
    "probDF2 = probDF[probDF1]"
   ]
  },
  {
   "cell_type": "code",
   "execution_count": 58,
   "id": "confidential-genome",
   "metadata": {},
   "outputs": [
    {
     "name": "stdout",
     "output_type": "stream",
     "text": [
      "From having 33377320 statements in the probase file, we have 8853 statements such that either node1 or node2 is a label in our wordsim dataset\n"
     ]
    }
   ],
   "source": [
    "print(f\"From having {len(probDF)} statements in the probase file, we have {len(probDF2)} statements such that either node1 or node2 is a label in our wordsim dataset\")\n"
   ]
  },
  {
   "cell_type": "code",
   "execution_count": 59,
   "id": "danish-neighborhood",
   "metadata": {},
   "outputs": [
    {
     "data": {
      "text/plain": [
       "419"
      ]
     },
     "execution_count": 59,
     "metadata": {},
     "output_type": "execute_result"
    }
   ],
   "source": [
    "len(wordSimDFSet)"
   ]
  },
  {
   "cell_type": "code",
   "execution_count": 60,
   "id": "center-while",
   "metadata": {
    "scrolled": true
   },
   "outputs": [
    {
     "data": {
      "text/html": [
       "<div>\n",
       "<style scoped>\n",
       "    .dataframe tbody tr th:only-of-type {\n",
       "        vertical-align: middle;\n",
       "    }\n",
       "\n",
       "    .dataframe tbody tr th {\n",
       "        vertical-align: top;\n",
       "    }\n",
       "\n",
       "    .dataframe thead th {\n",
       "        text-align: right;\n",
       "    }\n",
       "</style>\n",
       "<table border=\"1\" class=\"dataframe\">\n",
       "  <thead>\n",
       "    <tr style=\"text-align: right;\">\n",
       "      <th></th>\n",
       "      <th>node1_label</th>\n",
       "      <th>node2_label</th>\n",
       "      <th>no_of_relations</th>\n",
       "    </tr>\n",
       "  </thead>\n",
       "  <tbody>\n",
       "    <tr>\n",
       "      <th>54</th>\n",
       "      <td>food</td>\n",
       "      <td>fruit</td>\n",
       "      <td>5421</td>\n",
       "    </tr>\n",
       "    <tr>\n",
       "      <th>139</th>\n",
       "      <td>food</td>\n",
       "      <td>egg</td>\n",
       "      <td>3667</td>\n",
       "    </tr>\n",
       "    <tr>\n",
       "      <th>144</th>\n",
       "      <td>food</td>\n",
       "      <td>potato</td>\n",
       "      <td>3576</td>\n",
       "    </tr>\n",
       "    <tr>\n",
       "      <th>221</th>\n",
       "      <td>food</td>\n",
       "      <td>bread</td>\n",
       "      <td>2890</td>\n",
       "    </tr>\n",
       "    <tr>\n",
       "      <th>233</th>\n",
       "      <td>animal</td>\n",
       "      <td>bird</td>\n",
       "      <td>2779</td>\n",
       "    </tr>\n",
       "  </tbody>\n",
       "</table>\n",
       "</div>"
      ],
      "text/plain": [
       "    node1_label node2_label  no_of_relations\n",
       "54         food       fruit             5421\n",
       "139        food         egg             3667\n",
       "144        food      potato             3576\n",
       "221        food       bread             2890\n",
       "233      animal        bird             2779"
      ]
     },
     "execution_count": 60,
     "metadata": {},
     "output_type": "execute_result"
    }
   ],
   "source": [
    "probDF2.head()"
   ]
  },
  {
   "cell_type": "code",
   "execution_count": 61,
   "id": "greater-customs",
   "metadata": {
    "scrolled": true
   },
   "outputs": [
    {
     "data": {
      "text/plain": [
       "<AxesSubplot:>"
      ]
     },
     "execution_count": 61,
     "metadata": {},
     "output_type": "execute_result"
    },
    {
     "data": {
      "image/png": "[encoded data removed]",
      "text/plain": [
       "<Figure size 432x288 with 1 Axes>"
      ]
     },
     "metadata": {
      "needs_background": "light"
     },
     "output_type": "display_data"
    }
   ],
   "source": [
    "probDF2.no_of_relations.transform(np.log).hist(bins=100)"
   ]
  },
  {
   "cell_type": "code",
   "execution_count": 76,
   "id": "utility-bacon",
   "metadata": {},
   "outputs": [
    {
     "data": {
      "text/plain": [
       "Text(0, 0.5, 'frequency (natural log scale)')"
      ]
     },
     "execution_count": 76,
     "metadata": {},
     "output_type": "execute_result"
    },
    {
     "data": {
      "image/png": "[encoded data removed]",
      "text/plain": [
       "<Figure size 1080x720 with 1 Axes>"
      ]
     },
     "metadata": {
      "needs_background": "light"
     },
     "output_type": "display_data"
    }
   ],
   "source": [
    "pyplot.subplots(figsize=(15,10))\n",
    "ax = sns.lineplot(data=probDF2.no_of_relations.transform(np.log).value_counts().transform(np.log).reset_index().sort_values(by=['index']).rename(columns={'no_of_relations': 'frequency', 'index': 'no_of_relations'}),\n",
    "            x=\"no_of_relations\", y=\"frequency\")\n",
    "ax.set_xlabel(\"no of relations (natural log scale)\")\n",
    "ax.set_ylabel(\"frequency (natural log scale)\")"
   ]
  },
  {
   "cell_type": "code",
   "execution_count": 68,
   "id": "enhanced-manual",
   "metadata": {},
   "outputs": [
    {
     "data": {
      "text/plain": [
       "<AxesSubplot:xlabel='no_of_relations', ylabel='frequency'>"
      ]
     },
     "execution_count": 68,
     "metadata": {},
     "output_type": "execute_result"
    },
    {
     "data": {
      "image/png": "[encoded data removed]",
      "text/plain": [
       "<Figure size 432x288 with 1 Axes>"
      ]
     },
     "metadata": {
      "needs_background": "light"
     },
     "output_type": "display_data"
    }
   ],
   "source": [
    "sns.scatterplot(data=probDF2.no_of_relations.transform(np.log).value_counts().transform(np.log).reset_index().sort_values(by=['index']).rename(columns={'no_of_relations': 'frequency', 'index': 'no_of_relations'}),\n",
    "            x=\"no_of_relations\", y=\"frequency\")"
   ]
  },
  {
   "cell_type": "code",
   "execution_count": null,
   "id": "unlimited-anthony",
   "metadata": {},
   "outputs": [],
   "source": []
  },
  {
   "cell_type": "code",
   "execution_count": null,
   "id": "colored-favor",
   "metadata": {},
   "outputs": [],
   "source": []
  },
  {
   "cell_type": "code",
   "execution_count": null,
   "id": "awful-bible",
   "metadata": {},
   "outputs": [],
   "source": []
  },
  {
   "cell_type": "code",
   "execution_count": null,
   "id": "entire-composite",
   "metadata": {},
   "outputs": [],
   "source": []
  },
  {
   "cell_type": "code",
   "execution_count": 31,
   "id": "broad-canvas",
   "metadata": {},
   "outputs": [
    {
     "data": {
      "text/plain": [
       "<AxesSubplot:>"
      ]
     },
     "execution_count": 31,
     "metadata": {},
     "output_type": "execute_result"
    },
    {
     "data": {
      "image/png": "[encoded data removed]",
      "text/plain": [
       "<Figure size 432x288 with 1 Axes>"
      ]
     },
     "metadata": {
      "needs_background": "light"
     },
     "output_type": "display_data"
    }
   ],
   "source": [
    "probDF2.no_of_relations.transform(np.log).hist()"
   ]
  },
  {
   "cell_type": "code",
   "execution_count": 32,
   "id": "smaller-providence",
   "metadata": {},
   "outputs": [
    {
     "data": {
      "text/plain": [
       "count    2.185019e+06\n",
       "mean     3.606209e+00\n",
       "std      4.296483e+01\n",
       "min      1.000000e+00\n",
       "25%      1.000000e+00\n",
       "50%      1.000000e+00\n",
       "75%      2.000000e+00\n",
       "max      3.322200e+04\n",
       "Name: no_of_relations, dtype: float64"
      ]
     },
     "execution_count": 32,
     "metadata": {},
     "output_type": "execute_result"
    }
   ],
   "source": [
    "probDF2.no_of_relations.describe()"
   ]
  },
  {
   "cell_type": "code",
   "execution_count": 33,
   "id": "certified-detection",
   "metadata": {},
   "outputs": [
    {
     "data": {
      "text/plain": [
       "count    2.185019e+06\n",
       "mean     4.872647e-01\n",
       "std      8.086201e-01\n",
       "min      0.000000e+00\n",
       "25%      0.000000e+00\n",
       "50%      0.000000e+00\n",
       "75%      6.931472e-01\n",
       "max      1.041097e+01\n",
       "Name: no_of_relations, dtype: float64"
      ]
     },
     "execution_count": 33,
     "metadata": {},
     "output_type": "execute_result"
    }
   ],
   "source": [
    "probDF2.no_of_relations.transform(np.log).describe()"
   ]
  },
  {
   "cell_type": "code",
   "execution_count": 34,
   "id": "outer-liberal",
   "metadata": {},
   "outputs": [],
   "source": [
    "probDF_Qnodes_DF = probDF.copy()\n",
    "probDF_Qnodes_DF['node1_qnode'] = probDF_Qnodes_DF.node1_label.apply(lambda p: wordSimDF_Map[p] if p in wordSimDF_Map else None)\n",
    "probDF_Qnodes_DF['node2_qnode'] = probDF_Qnodes_DF.node2_label.apply(lambda p: wordSimDF_Map[p] if p in wordSimDF_Map else None)\n"
   ]
  },
  {
   "cell_type": "code",
   "execution_count": 35,
   "id": "double-gambling",
   "metadata": {},
   "outputs": [
    {
     "data": {
      "text/plain": [
       "(2182983, 616497)"
      ]
     },
     "execution_count": 35,
     "metadata": {},
     "output_type": "execute_result"
    }
   ],
   "source": [
    "(~probDF_Qnodes_DF['node1_qnode'].isna()).sum(), (~probDF_Qnodes_DF['node2_qnode'].isna()).sum()"
   ]
  },
  {
   "cell_type": "markdown",
   "id": "prospective-ethernet",
   "metadata": {},
   "source": [
    "# Labels File Read"
   ]
  },
  {
   "cell_type": "code",
   "execution_count": 36,
   "id": "boxed-leone",
   "metadata": {},
   "outputs": [],
   "source": [
    "labelsDF = pd.read_csv('../data/labels.en.tsv', sep='\\t')"
   ]
  },
  {
   "cell_type": "code",
   "execution_count": 37,
   "id": "sophisticated-passing",
   "metadata": {},
   "outputs": [
    {
     "data": {
      "text/plain": [
       "76799433"
      ]
     },
     "execution_count": 37,
     "metadata": {},
     "output_type": "execute_result"
    }
   ],
   "source": [
    "len(labelsDF)"
   ]
  },
  {
   "cell_type": "code",
   "execution_count": 38,
   "id": "pharmaceutical-legislation",
   "metadata": {},
   "outputs": [],
   "source": [
    "labelsDF['node2'] = labelsDF.node2.apply(lambda p: p[1:-4])"
   ]
  },
  {
   "cell_type": "code",
   "execution_count": 39,
   "id": "fatty-moore",
   "metadata": {},
   "outputs": [
    {
     "data": {
      "text/html": [
       "<div>\n",
       "<style scoped>\n",
       "    .dataframe tbody tr th:only-of-type {\n",
       "        vertical-align: middle;\n",
       "    }\n",
       "\n",
       "    .dataframe tbody tr th {\n",
       "        vertical-align: top;\n",
       "    }\n",
       "\n",
       "    .dataframe thead th {\n",
       "        text-align: right;\n",
       "    }\n",
       "</style>\n",
       "<table border=\"1\" class=\"dataframe\">\n",
       "  <thead>\n",
       "    <tr style=\"text-align: right;\">\n",
       "      <th></th>\n",
       "      <th>id</th>\n",
       "      <th>node1</th>\n",
       "      <th>label</th>\n",
       "      <th>node2</th>\n",
       "    </tr>\n",
       "  </thead>\n",
       "  <tbody>\n",
       "    <tr>\n",
       "      <th>0</th>\n",
       "      <td>P10-label-en</td>\n",
       "      <td>P10</td>\n",
       "      <td>label</td>\n",
       "      <td>video</td>\n",
       "    </tr>\n",
       "    <tr>\n",
       "      <th>1</th>\n",
       "      <td>P1000-label-en</td>\n",
       "      <td>P1000</td>\n",
       "      <td>label</td>\n",
       "      <td>record held</td>\n",
       "    </tr>\n",
       "    <tr>\n",
       "      <th>2</th>\n",
       "      <td>P1001-label-en</td>\n",
       "      <td>P1001</td>\n",
       "      <td>label</td>\n",
       "      <td>applies to jurisdiction</td>\n",
       "    </tr>\n",
       "    <tr>\n",
       "      <th>3</th>\n",
       "      <td>P1002-label-en</td>\n",
       "      <td>P1002</td>\n",
       "      <td>label</td>\n",
       "      <td>engine configuration</td>\n",
       "    </tr>\n",
       "    <tr>\n",
       "      <th>4</th>\n",
       "      <td>P1003-label-en</td>\n",
       "      <td>P1003</td>\n",
       "      <td>label</td>\n",
       "      <td>National Library of Romania ID</td>\n",
       "    </tr>\n",
       "  </tbody>\n",
       "</table>\n",
       "</div>"
      ],
      "text/plain": [
       "               id  node1  label                           node2\n",
       "0    P10-label-en    P10  label                           video\n",
       "1  P1000-label-en  P1000  label                     record held\n",
       "2  P1001-label-en  P1001  label         applies to jurisdiction\n",
       "3  P1002-label-en  P1002  label            engine configuration\n",
       "4  P1003-label-en  P1003  label  National Library of Romania ID"
      ]
     },
     "execution_count": 39,
     "metadata": {},
     "output_type": "execute_result"
    }
   ],
   "source": [
    "labelsDF.head()"
   ]
  },
  {
   "cell_type": "code",
   "execution_count": 40,
   "id": "tropical-custom",
   "metadata": {},
   "outputs": [],
   "source": [
    "labelsDF_indexed = labelsDF.set_index('node2')"
   ]
  },
  {
   "cell_type": "code",
   "execution_count": 41,
   "id": "binary-checklist",
   "metadata": {},
   "outputs": [
    {
     "data": {
      "text/html": [
       "<div>\n",
       "<style scoped>\n",
       "    .dataframe tbody tr th:only-of-type {\n",
       "        vertical-align: middle;\n",
       "    }\n",
       "\n",
       "    .dataframe tbody tr th {\n",
       "        vertical-align: top;\n",
       "    }\n",
       "\n",
       "    .dataframe thead th {\n",
       "        text-align: right;\n",
       "    }\n",
       "</style>\n",
       "<table border=\"1\" class=\"dataframe\">\n",
       "  <thead>\n",
       "    <tr style=\"text-align: right;\">\n",
       "      <th></th>\n",
       "      <th>id</th>\n",
       "      <th>node1</th>\n",
       "      <th>label</th>\n",
       "    </tr>\n",
       "    <tr>\n",
       "      <th>node2</th>\n",
       "      <th></th>\n",
       "      <th></th>\n",
       "      <th></th>\n",
       "    </tr>\n",
       "  </thead>\n",
       "  <tbody>\n",
       "    <tr>\n",
       "      <th>video</th>\n",
       "      <td>P10-label-en</td>\n",
       "      <td>P10</td>\n",
       "      <td>label</td>\n",
       "    </tr>\n",
       "    <tr>\n",
       "      <th>record held</th>\n",
       "      <td>P1000-label-en</td>\n",
       "      <td>P1000</td>\n",
       "      <td>label</td>\n",
       "    </tr>\n",
       "    <tr>\n",
       "      <th>applies to jurisdiction</th>\n",
       "      <td>P1001-label-en</td>\n",
       "      <td>P1001</td>\n",
       "      <td>label</td>\n",
       "    </tr>\n",
       "    <tr>\n",
       "      <th>engine configuration</th>\n",
       "      <td>P1002-label-en</td>\n",
       "      <td>P1002</td>\n",
       "      <td>label</td>\n",
       "    </tr>\n",
       "    <tr>\n",
       "      <th>National Library of Romania ID</th>\n",
       "      <td>P1003-label-en</td>\n",
       "      <td>P1003</td>\n",
       "      <td>label</td>\n",
       "    </tr>\n",
       "  </tbody>\n",
       "</table>\n",
       "</div>"
      ],
      "text/plain": [
       "                                            id  node1  label\n",
       "node2                                                       \n",
       "video                             P10-label-en    P10  label\n",
       "record held                     P1000-label-en  P1000  label\n",
       "applies to jurisdiction         P1001-label-en  P1001  label\n",
       "engine configuration            P1002-label-en  P1002  label\n",
       "National Library of Romania ID  P1003-label-en  P1003  label"
      ]
     },
     "execution_count": 41,
     "metadata": {},
     "output_type": "execute_result"
    }
   ],
   "source": [
    "labelsDF_indexed.head()"
   ]
  },
  {
   "cell_type": "code",
   "execution_count": 42,
   "id": "twelve-settlement",
   "metadata": {},
   "outputs": [],
   "source": [
    "probDF_Qnodes_DF1 = probDF_Qnodes_DF.set_index('node1_label').join(labelsDF_indexed)"
   ]
  },
  {
   "cell_type": "code",
   "execution_count": 43,
   "id": "polished-disclosure",
   "metadata": {},
   "outputs": [],
   "source": [
    "probDF_Qnodes_DF1 = probDF_Qnodes_DF1.reset_index().rename(columns={'index': 'node1_label'})"
   ]
  },
  {
   "cell_type": "code",
   "execution_count": 45,
   "id": "greek-premium",
   "metadata": {},
   "outputs": [
    {
     "data": {
      "text/html": [
       "<div>\n",
       "<style scoped>\n",
       "    .dataframe tbody tr th:only-of-type {\n",
       "        vertical-align: middle;\n",
       "    }\n",
       "\n",
       "    .dataframe tbody tr th {\n",
       "        vertical-align: top;\n",
       "    }\n",
       "\n",
       "    .dataframe thead th {\n",
       "        text-align: right;\n",
       "    }\n",
       "</style>\n",
       "<table border=\"1\" class=\"dataframe\">\n",
       "  <thead>\n",
       "    <tr style=\"text-align: right;\">\n",
       "      <th></th>\n",
       "      <th>node1_label</th>\n",
       "      <th>node2_label</th>\n",
       "      <th>no_of_relations</th>\n",
       "      <th>node1_qnode</th>\n",
       "      <th>node2_qnode</th>\n",
       "      <th>id</th>\n",
       "      <th>node1</th>\n",
       "      <th>label</th>\n",
       "    </tr>\n",
       "  </thead>\n",
       "  <tbody>\n",
       "    <tr>\n",
       "      <th>0</th>\n",
       "      <td>--neat feature</td>\n",
       "      <td>riddled --neat feature</td>\n",
       "      <td>1</td>\n",
       "      <td>None</td>\n",
       "      <td>None</td>\n",
       "      <td>NaN</td>\n",
       "      <td>NaN</td>\n",
       "      <td>NaN</td>\n",
       "    </tr>\n",
       "    <tr>\n",
       "      <th>1</th>\n",
       "      <td>--neat item</td>\n",
       "      <td>pretty --neat item</td>\n",
       "      <td>1</td>\n",
       "      <td>None</td>\n",
       "      <td>None</td>\n",
       "      <td>NaN</td>\n",
       "      <td>NaN</td>\n",
       "      <td>NaN</td>\n",
       "    </tr>\n",
       "    <tr>\n",
       "      <th>2</th>\n",
       "      <td>--neat thing</td>\n",
       "      <td>display other --neat thing</td>\n",
       "      <td>1</td>\n",
       "      <td>None</td>\n",
       "      <td>None</td>\n",
       "      <td>NaN</td>\n",
       "      <td>NaN</td>\n",
       "      <td>NaN</td>\n",
       "    </tr>\n",
       "    <tr>\n",
       "      <th>3</th>\n",
       "      <td>-acoustic</td>\n",
       "      <td>inaudible range -acoustic</td>\n",
       "      <td>1</td>\n",
       "      <td>None</td>\n",
       "      <td>None</td>\n",
       "      <td>NaN</td>\n",
       "      <td>NaN</td>\n",
       "      <td>NaN</td>\n",
       "    </tr>\n",
       "    <tr>\n",
       "      <th>4</th>\n",
       "      <td>-aesthetic</td>\n",
       "      <td>traditional static -aesthetic</td>\n",
       "      <td>1</td>\n",
       "      <td>None</td>\n",
       "      <td>None</td>\n",
       "      <td>NaN</td>\n",
       "      <td>NaN</td>\n",
       "      <td>NaN</td>\n",
       "    </tr>\n",
       "  </tbody>\n",
       "</table>\n",
       "</div>"
      ],
      "text/plain": [
       "      node1_label                    node2_label  no_of_relations node1_qnode  \\\n",
       "0  --neat feature         riddled --neat feature                1        None   \n",
       "1     --neat item             pretty --neat item                1        None   \n",
       "2    --neat thing     display other --neat thing                1        None   \n",
       "3       -acoustic      inaudible range -acoustic                1        None   \n",
       "4      -aesthetic  traditional static -aesthetic                1        None   \n",
       "\n",
       "  node2_qnode   id node1 label  \n",
       "0        None  NaN   NaN   NaN  \n",
       "1        None  NaN   NaN   NaN  \n",
       "2        None  NaN   NaN   NaN  \n",
       "3        None  NaN   NaN   NaN  \n",
       "4        None  NaN   NaN   NaN  "
      ]
     },
     "execution_count": 45,
     "metadata": {},
     "output_type": "execute_result"
    }
   ],
   "source": [
    "probDF_Qnodes_DF1.head()"
   ]
  },
  {
   "cell_type": "code",
   "execution_count": 46,
   "id": "aerial-orange",
   "metadata": {},
   "outputs": [],
   "source": [
    "probDF_Qnodes_DF2 = probDF_Qnodes_DF1.set_index('node2_label').join(labelsDF_indexed, rsuffix='_right')"
   ]
  },
  {
   "cell_type": "code",
   "execution_count": 47,
   "id": "consecutive-anthony",
   "metadata": {},
   "outputs": [],
   "source": [
    "probDF_Qnodes_DF2 = probDF_Qnodes_DF2.reset_index().rename(columns={'index': 'node2_label'})"
   ]
  },
  {
   "cell_type": "code",
   "execution_count": 48,
   "id": "sophisticated-chosen",
   "metadata": {},
   "outputs": [
    {
     "data": {
      "text/plain": [
       "72760156"
      ]
     },
     "execution_count": 48,
     "metadata": {},
     "output_type": "execute_result"
    }
   ],
   "source": [
    "len(probDF_Qnodes_DF2)"
   ]
  },
  {
   "cell_type": "code",
   "execution_count": 52,
   "id": "selective-asian",
   "metadata": {},
   "outputs": [],
   "source": [
    "probDF_Qnodes_DF2 = probDF_Qnodes_DF2.rename(columns={'node1':'node1_lab_qnode', 'node1_right': 'node2_lab_qnode'}).drop(columns=['label', 'id_right', 'label_right'])"
   ]
  },
  {
   "cell_type": "code",
   "execution_count": 53,
   "id": "registered-preview",
   "metadata": {},
   "outputs": [
    {
     "data": {
      "text/html": [
       "<div>\n",
       "<style scoped>\n",
       "    .dataframe tbody tr th:only-of-type {\n",
       "        vertical-align: middle;\n",
       "    }\n",
       "\n",
       "    .dataframe tbody tr th {\n",
       "        vertical-align: top;\n",
       "    }\n",
       "\n",
       "    .dataframe thead th {\n",
       "        text-align: right;\n",
       "    }\n",
       "</style>\n",
       "<table border=\"1\" class=\"dataframe\">\n",
       "  <thead>\n",
       "    <tr style=\"text-align: right;\">\n",
       "      <th></th>\n",
       "      <th>node2_label</th>\n",
       "      <th>node1_label</th>\n",
       "      <th>no_of_relations</th>\n",
       "      <th>node1_qnode</th>\n",
       "      <th>node2_qnode</th>\n",
       "      <th>id</th>\n",
       "      <th>node1_lab_qnode</th>\n",
       "      <th>node2_lab_qnode</th>\n",
       "    </tr>\n",
       "  </thead>\n",
       "  <tbody>\n",
       "    <tr>\n",
       "      <th>0</th>\n",
       "      <td>''-large , complex program</td>\n",
       "      <td>program</td>\n",
       "      <td>1</td>\n",
       "      <td>None</td>\n",
       "      <td>None</td>\n",
       "      <td>Q4303335-label-en</td>\n",
       "      <td>Q4303335</td>\n",
       "      <td>NaN</td>\n",
       "    </tr>\n",
       "    <tr>\n",
       "      <th>1</th>\n",
       "      <td>''-large , complex program</td>\n",
       "      <td>program</td>\n",
       "      <td>1</td>\n",
       "      <td>None</td>\n",
       "      <td>None</td>\n",
       "      <td>Q66545460-label-en</td>\n",
       "      <td>Q66545460</td>\n",
       "      <td>NaN</td>\n",
       "    </tr>\n",
       "    <tr>\n",
       "      <th>2</th>\n",
       "      <td>'-end formation signal</td>\n",
       "      <td>signal</td>\n",
       "      <td>1</td>\n",
       "      <td>None</td>\n",
       "      <td>None</td>\n",
       "      <td>Q174984-label-en</td>\n",
       "      <td>Q174984</td>\n",
       "      <td>NaN</td>\n",
       "    </tr>\n",
       "    <tr>\n",
       "      <th>3</th>\n",
       "      <td>'-end formation signal</td>\n",
       "      <td>signal</td>\n",
       "      <td>1</td>\n",
       "      <td>None</td>\n",
       "      <td>None</td>\n",
       "      <td>Q2150504-label-en</td>\n",
       "      <td>Q2150504</td>\n",
       "      <td>NaN</td>\n",
       "    </tr>\n",
       "    <tr>\n",
       "      <th>4</th>\n",
       "      <td>'-end formation signal</td>\n",
       "      <td>signal</td>\n",
       "      <td>1</td>\n",
       "      <td>None</td>\n",
       "      <td>None</td>\n",
       "      <td>Q2918103-label-en</td>\n",
       "      <td>Q2918103</td>\n",
       "      <td>NaN</td>\n",
       "    </tr>\n",
       "  </tbody>\n",
       "</table>\n",
       "</div>"
      ],
      "text/plain": [
       "                  node2_label node1_label  no_of_relations node1_qnode  \\\n",
       "0  ''-large , complex program     program                1        None   \n",
       "1  ''-large , complex program     program                1        None   \n",
       "2      '-end formation signal      signal                1        None   \n",
       "3      '-end formation signal      signal                1        None   \n",
       "4      '-end formation signal      signal                1        None   \n",
       "\n",
       "  node2_qnode                  id node1_lab_qnode node2_lab_qnode  \n",
       "0        None   Q4303335-label-en        Q4303335             NaN  \n",
       "1        None  Q66545460-label-en       Q66545460             NaN  \n",
       "2        None    Q174984-label-en         Q174984             NaN  \n",
       "3        None   Q2150504-label-en        Q2150504             NaN  \n",
       "4        None   Q2918103-label-en        Q2918103             NaN  "
      ]
     },
     "execution_count": 53,
     "metadata": {},
     "output_type": "execute_result"
    }
   ],
   "source": [
    "probDF_Qnodes_DF2.head()"
   ]
  },
  {
   "cell_type": "code",
   "execution_count": 54,
   "id": "several-element",
   "metadata": {},
   "outputs": [
    {
     "data": {
      "text/plain": [
       "(9909668, 2258909)"
      ]
     },
     "execution_count": 54,
     "metadata": {},
     "output_type": "execute_result"
    }
   ],
   "source": [
    "(~probDF_Qnodes_DF2.node1_qnode.isna()).sum(), (~probDF_Qnodes_DF2.node2_qnode.isna()).sum()"
   ]
  },
  {
   "cell_type": "code",
   "execution_count": 57,
   "id": "compliant-width",
   "metadata": {},
   "outputs": [],
   "source": [
    "probDF_Qnodes_DF2['n1_final_qnode'] = probDF_Qnodes_DF2.apply(lambda p: p['node1_qnode'] if p['node1_qnode'] else p['node1_lab_qnode'], axis=1)\n",
    "probDF_Qnodes_DF2['n2_final_qnode'] = probDF_Qnodes_DF2.apply(lambda p: p['node2_qnode'] if p['node2_qnode'] else p['node2_lab_qnode'], axis=1)"
   ]
  },
  {
   "cell_type": "code",
   "execution_count": 68,
   "id": "abandoned-graph",
   "metadata": {},
   "outputs": [],
   "source": [
    "temp2 = probDF_Qnodes_DF2[(probDF_Qnodes_DF2.node1_label == 'target') & (probDF_Qnodes_DF2.node2_label == 'hypothetical protein')]"
   ]
  },
  {
   "cell_type": "code",
   "execution_count": 71,
   "id": "balanced-allocation",
   "metadata": {},
   "outputs": [
    {
     "data": {
      "text/plain": [
       "Q62971119    4\n",
       "Q62917363    4\n",
       "Q62930721    4\n",
       "Q62853585    4\n",
       "Q62963549    4\n",
       "            ..\n",
       "Q62962414    4\n",
       "Q62402669    4\n",
       "Q62628687    4\n",
       "Q62644256    4\n",
       "Q62834883    4\n",
       "Name: node2_lab_qnode, Length: 35526, dtype: int64"
      ]
     },
     "execution_count": 71,
     "metadata": {},
     "output_type": "execute_result"
    }
   ],
   "source": [
    "temp2.node2_lab_qnode.value_counts()"
   ]
  },
  {
   "cell_type": "code",
   "execution_count": null,
   "id": "seven-olive",
   "metadata": {},
   "outputs": [],
   "source": []
  },
  {
   "cell_type": "code",
   "execution_count": 63,
   "id": "happy-jason",
   "metadata": {},
   "outputs": [],
   "source": [
    "temp = probDF_Qnodes_DF2[['node1_label', 'node2_label']].value_counts()"
   ]
  },
  {
   "cell_type": "code",
   "execution_count": 100,
   "id": "religious-forge",
   "metadata": {},
   "outputs": [
    {
     "data": {
      "text/plain": [
       "node1_label      node2_label         \n",
       "target           hypothetical protein    142104\n",
       "unknown gene     hypothetical protein     35526\n",
       "annotation term  hypothetical protein     35526\n",
       "antigen          hypothetical protein     35526\n",
       "protein          hypothetical protein     35526\n",
       "dtype: int64"
      ]
     },
     "execution_count": 100,
     "metadata": {},
     "output_type": "execute_result"
    }
   ],
   "source": [
    "temp.head()"
   ]
  },
  {
   "cell_type": "code",
   "execution_count": 106,
   "id": "sacred-product",
   "metadata": {},
   "outputs": [
    {
     "data": {
      "text/plain": [
       "<AxesSubplot:>"
      ]
     },
     "execution_count": 106,
     "metadata": {},
     "output_type": "execute_result"
    },
    {
     "data": {
      "image/png": "[encoded data removed]",
      "text/plain": [
       "<Figure size 432x288 with 1 Axes>"
      ]
     },
     "metadata": {
      "needs_background": "light"
     },
     "output_type": "display_data"
    }
   ],
   "source": [
    "temp[temp<20].hist()"
   ]
  },
  {
   "cell_type": "code",
   "execution_count": 76,
   "id": "imperial-things",
   "metadata": {},
   "outputs": [
    {
     "data": {
      "text/html": [
       "<div>\n",
       "<style scoped>\n",
       "    .dataframe tbody tr th:only-of-type {\n",
       "        vertical-align: middle;\n",
       "    }\n",
       "\n",
       "    .dataframe tbody tr th {\n",
       "        vertical-align: top;\n",
       "    }\n",
       "\n",
       "    .dataframe thead th {\n",
       "        text-align: right;\n",
       "    }\n",
       "</style>\n",
       "<table border=\"1\" class=\"dataframe\">\n",
       "  <thead>\n",
       "    <tr style=\"text-align: right;\">\n",
       "      <th></th>\n",
       "      <th>node2_label</th>\n",
       "      <th>node1_label</th>\n",
       "      <th>no_of_relations</th>\n",
       "      <th>node1_qnode</th>\n",
       "      <th>node2_qnode</th>\n",
       "      <th>id</th>\n",
       "      <th>node1_lab_qnode</th>\n",
       "      <th>node2_lab_qnode</th>\n",
       "      <th>n1_final_qnode</th>\n",
       "      <th>n2_final_qnode</th>\n",
       "    </tr>\n",
       "  </thead>\n",
       "  <tbody>\n",
       "    <tr>\n",
       "      <th>0</th>\n",
       "      <td>''-large , complex program</td>\n",
       "      <td>program</td>\n",
       "      <td>1</td>\n",
       "      <td>None</td>\n",
       "      <td>None</td>\n",
       "      <td>Q4303335-label-en</td>\n",
       "      <td>Q4303335</td>\n",
       "      <td>NaN</td>\n",
       "      <td>Q4303335</td>\n",
       "      <td>NaN</td>\n",
       "    </tr>\n",
       "    <tr>\n",
       "      <th>1</th>\n",
       "      <td>''-large , complex program</td>\n",
       "      <td>program</td>\n",
       "      <td>1</td>\n",
       "      <td>None</td>\n",
       "      <td>None</td>\n",
       "      <td>Q66545460-label-en</td>\n",
       "      <td>Q66545460</td>\n",
       "      <td>NaN</td>\n",
       "      <td>Q66545460</td>\n",
       "      <td>NaN</td>\n",
       "    </tr>\n",
       "    <tr>\n",
       "      <th>2</th>\n",
       "      <td>'-end formation signal</td>\n",
       "      <td>signal</td>\n",
       "      <td>1</td>\n",
       "      <td>None</td>\n",
       "      <td>None</td>\n",
       "      <td>Q174984-label-en</td>\n",
       "      <td>Q174984</td>\n",
       "      <td>NaN</td>\n",
       "      <td>Q174984</td>\n",
       "      <td>NaN</td>\n",
       "    </tr>\n",
       "    <tr>\n",
       "      <th>3</th>\n",
       "      <td>'-end formation signal</td>\n",
       "      <td>signal</td>\n",
       "      <td>1</td>\n",
       "      <td>None</td>\n",
       "      <td>None</td>\n",
       "      <td>Q2150504-label-en</td>\n",
       "      <td>Q2150504</td>\n",
       "      <td>NaN</td>\n",
       "      <td>Q2150504</td>\n",
       "      <td>NaN</td>\n",
       "    </tr>\n",
       "    <tr>\n",
       "      <th>4</th>\n",
       "      <td>'-end formation signal</td>\n",
       "      <td>signal</td>\n",
       "      <td>1</td>\n",
       "      <td>None</td>\n",
       "      <td>None</td>\n",
       "      <td>Q2918103-label-en</td>\n",
       "      <td>Q2918103</td>\n",
       "      <td>NaN</td>\n",
       "      <td>Q2918103</td>\n",
       "      <td>NaN</td>\n",
       "    </tr>\n",
       "  </tbody>\n",
       "</table>\n",
       "</div>"
      ],
      "text/plain": [
       "                  node2_label node1_label  no_of_relations node1_qnode  \\\n",
       "0  ''-large , complex program     program                1        None   \n",
       "1  ''-large , complex program     program                1        None   \n",
       "2      '-end formation signal      signal                1        None   \n",
       "3      '-end formation signal      signal                1        None   \n",
       "4      '-end formation signal      signal                1        None   \n",
       "\n",
       "  node2_qnode                  id node1_lab_qnode node2_lab_qnode  \\\n",
       "0        None   Q4303335-label-en        Q4303335             NaN   \n",
       "1        None  Q66545460-label-en       Q66545460             NaN   \n",
       "2        None    Q174984-label-en         Q174984             NaN   \n",
       "3        None   Q2150504-label-en        Q2150504             NaN   \n",
       "4        None   Q2918103-label-en        Q2918103             NaN   \n",
       "\n",
       "  n1_final_qnode n2_final_qnode  \n",
       "0       Q4303335            NaN  \n",
       "1      Q66545460            NaN  \n",
       "2        Q174984            NaN  \n",
       "3       Q2150504            NaN  \n",
       "4       Q2918103            NaN  "
      ]
     },
     "execution_count": 76,
     "metadata": {},
     "output_type": "execute_result"
    }
   ],
   "source": [
    "probDF_Qnodes_DF2.head()"
   ]
  },
  {
   "cell_type": "code",
   "execution_count": 86,
   "id": "whole-princess",
   "metadata": {},
   "outputs": [],
   "source": [
    "probDF_Qnodes_DF2_N1_Min = probDF_Qnodes_DF2[['node1_label', 'node2_label', 'no_of_relations', 'n1_final_qnode']].groupby(['node1_label', 'node2_label', 'no_of_relations']).min()"
   ]
  },
  {
   "cell_type": "code",
   "execution_count": 87,
   "id": "comfortable-graph",
   "metadata": {},
   "outputs": [],
   "source": [
    "probDF_Qnodes_DF2_N2_Min = probDF_Qnodes_DF2[['node1_label', 'node2_label', 'no_of_relations', 'n2_final_qnode']].groupby(['node1_label', 'node2_label', 'no_of_relations']).min()"
   ]
  },
  {
   "cell_type": "code",
   "execution_count": 88,
   "id": "royal-province",
   "metadata": {},
   "outputs": [
    {
     "data": {
      "text/html": [
       "<div>\n",
       "<style scoped>\n",
       "    .dataframe tbody tr th:only-of-type {\n",
       "        vertical-align: middle;\n",
       "    }\n",
       "\n",
       "    .dataframe tbody tr th {\n",
       "        vertical-align: top;\n",
       "    }\n",
       "\n",
       "    .dataframe thead th {\n",
       "        text-align: right;\n",
       "    }\n",
       "</style>\n",
       "<table border=\"1\" class=\"dataframe\">\n",
       "  <thead>\n",
       "    <tr style=\"text-align: right;\">\n",
       "      <th></th>\n",
       "      <th></th>\n",
       "      <th></th>\n",
       "      <th>n2_final_qnode</th>\n",
       "    </tr>\n",
       "    <tr>\n",
       "      <th>node1_label</th>\n",
       "      <th>node2_label</th>\n",
       "      <th>no_of_relations</th>\n",
       "      <th></th>\n",
       "    </tr>\n",
       "  </thead>\n",
       "  <tbody>\n",
       "    <tr>\n",
       "      <th>--neat feature</th>\n",
       "      <th>riddled --neat feature</th>\n",
       "      <th>1</th>\n",
       "      <td>NaN</td>\n",
       "    </tr>\n",
       "    <tr>\n",
       "      <th>--neat item</th>\n",
       "      <th>pretty --neat item</th>\n",
       "      <th>1</th>\n",
       "      <td>NaN</td>\n",
       "    </tr>\n",
       "    <tr>\n",
       "      <th>--neat thing</th>\n",
       "      <th>display other --neat thing</th>\n",
       "      <th>1</th>\n",
       "      <td>NaN</td>\n",
       "    </tr>\n",
       "    <tr>\n",
       "      <th>-acoustic</th>\n",
       "      <th>inaudible range -acoustic</th>\n",
       "      <th>1</th>\n",
       "      <td>NaN</td>\n",
       "    </tr>\n",
       "    <tr>\n",
       "      <th>-aesthetic</th>\n",
       "      <th>modernist design -aesthetic</th>\n",
       "      <th>1</th>\n",
       "      <td>NaN</td>\n",
       "    </tr>\n",
       "    <tr>\n",
       "      <th>...</th>\n",
       "      <th>...</th>\n",
       "      <th>...</th>\n",
       "      <td>...</td>\n",
       "    </tr>\n",
       "    <tr>\n",
       "      <th>zzangs</th>\n",
       "      <th>zzang of the face</th>\n",
       "      <th>1</th>\n",
       "      <td>NaN</td>\n",
       "    </tr>\n",
       "    <tr>\n",
       "      <th>zzo formation method</th>\n",
       "      <th>sputtering</th>\n",
       "      <th>1</th>\n",
       "      <td>Q898444</td>\n",
       "    </tr>\n",
       "    <tr>\n",
       "      <th rowspan=\"2\" valign=\"top\">zzt game</th>\n",
       "      <th>deceiving guidance</th>\n",
       "      <th>1</th>\n",
       "      <td>NaN</td>\n",
       "    </tr>\n",
       "    <tr>\n",
       "      <th>mario</th>\n",
       "      <th>1</th>\n",
       "      <td>NaN</td>\n",
       "    </tr>\n",
       "    <tr>\n",
       "      <th>zzz sound</th>\n",
       "      <th>xylophone</th>\n",
       "      <th>1</th>\n",
       "      <td>Q165666</td>\n",
       "    </tr>\n",
       "  </tbody>\n",
       "</table>\n",
       "<p>33377218 rows × 1 columns</p>\n",
       "</div>"
      ],
      "text/plain": [
       "                                                                 n2_final_qnode\n",
       "node1_label          node2_label                 no_of_relations               \n",
       "--neat feature       riddled --neat feature      1                          NaN\n",
       "--neat item          pretty --neat item          1                          NaN\n",
       "--neat thing         display other --neat thing  1                          NaN\n",
       "-acoustic            inaudible range -acoustic   1                          NaN\n",
       "-aesthetic           modernist design -aesthetic 1                          NaN\n",
       "...                                                                         ...\n",
       "zzangs               zzang of the face           1                          NaN\n",
       "zzo formation method sputtering                  1                      Q898444\n",
       "zzt game             deceiving guidance          1                          NaN\n",
       "                     mario                       1                          NaN\n",
       "zzz sound            xylophone                   1                      Q165666\n",
       "\n",
       "[33377218 rows x 1 columns]"
      ]
     },
     "execution_count": 88,
     "metadata": {},
     "output_type": "execute_result"
    }
   ],
   "source": [
    "probDF_Qnodes_DF2_N2_Min"
   ]
  },
  {
   "cell_type": "code",
   "execution_count": null,
   "id": "grateful-raising",
   "metadata": {},
   "outputs": [],
   "source": [
    "probDF_Qnodes_DF2_N2_Min.to"
   ]
  },
  {
   "cell_type": "code",
   "execution_count": 90,
   "id": "technological-cathedral",
   "metadata": {},
   "outputs": [],
   "source": [
    "probDF_Qnodes_DF_WQnodes = probDF_Qnodes_DF.set_index(['node1_label', 'node2_label', 'no_of_relations']).join(probDF_Qnodes_DF2_N1_Min).join(probDF_Qnodes_DF2_N2_Min)"
   ]
  },
  {
   "cell_type": "code",
   "execution_count": 93,
   "id": "finite-garage",
   "metadata": {},
   "outputs": [],
   "source": [
    "probDF_Qnodes_DF_WQnodes1 = probDF_Qnodes_DF_WQnodes.reset_index()"
   ]
  },
  {
   "cell_type": "code",
   "execution_count": 94,
   "id": "breathing-jackson",
   "metadata": {},
   "outputs": [
    {
     "data": {
      "text/html": [
       "<div>\n",
       "<style scoped>\n",
       "    .dataframe tbody tr th:only-of-type {\n",
       "        vertical-align: middle;\n",
       "    }\n",
       "\n",
       "    .dataframe tbody tr th {\n",
       "        vertical-align: top;\n",
       "    }\n",
       "\n",
       "    .dataframe thead th {\n",
       "        text-align: right;\n",
       "    }\n",
       "</style>\n",
       "<table border=\"1\" class=\"dataframe\">\n",
       "  <thead>\n",
       "    <tr style=\"text-align: right;\">\n",
       "      <th></th>\n",
       "      <th>node1_label</th>\n",
       "      <th>node2_label</th>\n",
       "      <th>no_of_relations</th>\n",
       "      <th>node1_qnode</th>\n",
       "      <th>node2_qnode</th>\n",
       "      <th>n1_final_qnode</th>\n",
       "      <th>n2_final_qnode</th>\n",
       "    </tr>\n",
       "  </thead>\n",
       "  <tbody>\n",
       "    <tr>\n",
       "      <th>0</th>\n",
       "      <td>factor</td>\n",
       "      <td>age</td>\n",
       "      <td>35167</td>\n",
       "      <td>None</td>\n",
       "      <td>None</td>\n",
       "      <td>Q15061738</td>\n",
       "      <td>Q100343219</td>\n",
       "    </tr>\n",
       "    <tr>\n",
       "      <th>1</th>\n",
       "      <td>free rich company datum</td>\n",
       "      <td>size</td>\n",
       "      <td>33222</td>\n",
       "      <td>None</td>\n",
       "      <td>Q322481</td>\n",
       "      <td>NaN</td>\n",
       "      <td>Q322481</td>\n",
       "    </tr>\n",
       "    <tr>\n",
       "      <th>2</th>\n",
       "      <td>free rich company datum</td>\n",
       "      <td>revenue</td>\n",
       "      <td>33185</td>\n",
       "      <td>None</td>\n",
       "      <td>None</td>\n",
       "      <td>NaN</td>\n",
       "      <td>Q850210</td>\n",
       "    </tr>\n",
       "    <tr>\n",
       "      <th>3</th>\n",
       "      <td>state</td>\n",
       "      <td>california</td>\n",
       "      <td>18062</td>\n",
       "      <td>None</td>\n",
       "      <td>None</td>\n",
       "      <td>Q17124184</td>\n",
       "      <td>NaN</td>\n",
       "    </tr>\n",
       "    <tr>\n",
       "      <th>4</th>\n",
       "      <td>supplement</td>\n",
       "      <td>msm glucosamine sulfate</td>\n",
       "      <td>15942</td>\n",
       "      <td>None</td>\n",
       "      <td>None</td>\n",
       "      <td>Q2915731</td>\n",
       "      <td>NaN</td>\n",
       "    </tr>\n",
       "  </tbody>\n",
       "</table>\n",
       "</div>"
      ],
      "text/plain": [
       "               node1_label              node2_label  no_of_relations  \\\n",
       "0                   factor                      age            35167   \n",
       "1  free rich company datum                     size            33222   \n",
       "2  free rich company datum                  revenue            33185   \n",
       "3                    state               california            18062   \n",
       "4               supplement  msm glucosamine sulfate            15942   \n",
       "\n",
       "  node1_qnode node2_qnode n1_final_qnode n2_final_qnode  \n",
       "0        None        None      Q15061738     Q100343219  \n",
       "1        None     Q322481            NaN        Q322481  \n",
       "2        None        None            NaN        Q850210  \n",
       "3        None        None      Q17124184            NaN  \n",
       "4        None        None       Q2915731            NaN  "
      ]
     },
     "execution_count": 94,
     "metadata": {},
     "output_type": "execute_result"
    }
   ],
   "source": [
    "probDF_Qnodes_DF_WQnodes1.head()"
   ]
  },
  {
   "cell_type": "code",
   "execution_count": 95,
   "id": "integrated-atmosphere",
   "metadata": {},
   "outputs": [
    {
     "data": {
      "text/plain": [
       "33377320"
      ]
     },
     "execution_count": 95,
     "metadata": {},
     "output_type": "execute_result"
    }
   ],
   "source": [
    "len(probDF_Qnodes_DF_WQnodes1)"
   ]
  },
  {
   "cell_type": "code",
   "execution_count": 97,
   "id": "included-string",
   "metadata": {},
   "outputs": [
    {
     "data": {
      "text/plain": [
       "11062"
      ]
     },
     "execution_count": 97,
     "metadata": {},
     "output_type": "execute_result"
    }
   ],
   "source": [
    "((~probDF_Qnodes_DF_WQnodes1.node1_qnode.isna()) & (~probDF_Qnodes_DF_WQnodes1.node2_qnode.isna())).sum()"
   ]
  },
  {
   "cell_type": "code",
   "execution_count": 96,
   "id": "biological-translation",
   "metadata": {},
   "outputs": [
    {
     "data": {
      "text/plain": [
       "1600841"
      ]
     },
     "execution_count": 96,
     "metadata": {},
     "output_type": "execute_result"
    }
   ],
   "source": [
    "((~probDF_Qnodes_DF_WQnodes1.n1_final_qnode.isna()) & (~probDF_Qnodes_DF_WQnodes1.n2_final_qnode.isna())).sum()"
   ]
  },
  {
   "cell_type": "code",
   "execution_count": 107,
   "id": "external-precipitation",
   "metadata": {},
   "outputs": [
    {
     "data": {
      "text/plain": [
       "factor                            364111\n",
       "feature                           203549\n",
       "issue                             201986\n",
       "product                           172106\n",
       "item                              158829\n",
       "                                   ...  \n",
       "skilled non eu worker                  1\n",
       "theyare disease                        1\n",
       "sound-generating object                1\n",
       "credit event related product           1\n",
       "standard method of instruction         1\n",
       "Name: node1_label, Length: 5376524, dtype: int64"
      ]
     },
     "execution_count": 107,
     "metadata": {},
     "output_type": "execute_result"
    }
   ],
   "source": [
    "probDF_Qnodes_DF_WQnodes1.node1_label.value_counts()"
   ]
  },
  {
   "cell_type": "code",
   "execution_count": 109,
   "id": "backed-feedback",
   "metadata": {},
   "outputs": [
    {
     "data": {
      "text/plain": [
       "<AxesSubplot:>"
      ]
     },
     "execution_count": 109,
     "metadata": {},
     "output_type": "execute_result"
    },
    {
     "data": {
      "image/png": "[encoded data removed]",
      "text/plain": [
       "<Figure size 432x288 with 1 Axes>"
      ]
     },
     "metadata": {
      "needs_background": "light"
     },
     "output_type": "display_data"
    }
   ],
   "source": [
    "probDF_Qnodes_DF_WQnodes1.node1_label.value_counts().hist()"
   ]
  },
  {
   "cell_type": "code",
   "execution_count": 108,
   "id": "dressed-identifier",
   "metadata": {},
   "outputs": [
    {
     "data": {
      "text/plain": [
       "water                                 15286\n",
       "education                             12257\n",
       "age                                   11843\n",
       "food                                  11184\n",
       "default                               10713\n",
       "                                      ...  \n",
       "zhongshan ren hing paper                  1\n",
       "teaching recall                           1\n",
       "spearman rank correlation coecient        1\n",
       "deiland centre in playa honda             1\n",
       "vallis limestone formation                1\n",
       "Name: node2_label, Length: 12501525, dtype: int64"
      ]
     },
     "execution_count": 108,
     "metadata": {},
     "output_type": "execute_result"
    }
   ],
   "source": [
    "probDF_Qnodes_DF_WQnodes1.node2_label.value_counts()"
   ]
  },
  {
   "cell_type": "code",
   "execution_count": 110,
   "id": "reflected-stanford",
   "metadata": {},
   "outputs": [
    {
     "data": {
      "text/plain": [
       "<AxesSubplot:>"
      ]
     },
     "execution_count": 110,
     "metadata": {},
     "output_type": "execute_result"
    },
    {
     "data": {
      "image/png": "[encoded data removed]",
      "text/plain": [
       "<Figure size 432x288 with 1 Axes>"
      ]
     },
     "metadata": {
      "needs_background": "light"
     },
     "output_type": "display_data"
    }
   ],
   "source": [
    "probDF_Qnodes_DF_WQnodes1.node2_label.value_counts().hist()"
   ]
  },
  {
   "cell_type": "code",
   "execution_count": 111,
   "id": "coupled-sunglasses",
   "metadata": {},
   "outputs": [],
   "source": [
    "probDF_Qnodes_DF_WQnodes1.to_csv('../data/probase/probase_WQnodes.csv',index=False)"
   ]
  },
  {
   "cell_type": "code",
   "execution_count": null,
   "id": "tribal-mediterranean",
   "metadata": {},
   "outputs": [],
   "source": []
  },
  {
   "cell_type": "markdown",
   "id": "timely-architect",
   "metadata": {},
   "source": [
    "# Similarity Score Computation"
   ]
  },
  {
   "cell_type": "code",
   "execution_count": 3,
   "id": "fallen-literature",
   "metadata": {},
   "outputs": [
    {
     "name": "stderr",
     "output_type": "stream",
     "text": [
      "/nas/home/kshenoy/miniconda3/envs/kgtkEnv/lib/python3.8/site-packages/IPython/core/interactiveshell.py:3165: DtypeWarning: Columns (3) have mixed types.Specify dtype option on import or set low_memory=False.\n",
      "  has_raised = await self.run_ast_nodes(code_ast.body, cell_name,\n"
     ]
    }
   ],
   "source": [
    "probDF_Qnodes_DF_WQnodes = pd.read_csv('../data/probase/probase_WQnodes.csv')"
   ]
  },
  {
   "cell_type": "code",
   "execution_count": 4,
   "id": "studied-intelligence",
   "metadata": {},
   "outputs": [
    {
     "data": {
      "text/plain": [
       "33377320"
      ]
     },
     "execution_count": 4,
     "metadata": {},
     "output_type": "execute_result"
    }
   ],
   "source": [
    "len(probDF_Qnodes_DF_WQnodes)"
   ]
  },
  {
   "cell_type": "code",
   "execution_count": 5,
   "id": "determined-lindsay",
   "metadata": {},
   "outputs": [
    {
     "data": {
      "text/html": [
       "<div>\n",
       "<style scoped>\n",
       "    .dataframe tbody tr th:only-of-type {\n",
       "        vertical-align: middle;\n",
       "    }\n",
       "\n",
       "    .dataframe tbody tr th {\n",
       "        vertical-align: top;\n",
       "    }\n",
       "\n",
       "    .dataframe thead th {\n",
       "        text-align: right;\n",
       "    }\n",
       "</style>\n",
       "<table border=\"1\" class=\"dataframe\">\n",
       "  <thead>\n",
       "    <tr style=\"text-align: right;\">\n",
       "      <th></th>\n",
       "      <th>node1_label</th>\n",
       "      <th>node2_label</th>\n",
       "      <th>no_of_relations</th>\n",
       "      <th>node1_qnode</th>\n",
       "      <th>node2_qnode</th>\n",
       "      <th>n1_final_qnode</th>\n",
       "      <th>n2_final_qnode</th>\n",
       "    </tr>\n",
       "  </thead>\n",
       "  <tbody>\n",
       "    <tr>\n",
       "      <th>0</th>\n",
       "      <td>factor</td>\n",
       "      <td>age</td>\n",
       "      <td>35167</td>\n",
       "      <td>NaN</td>\n",
       "      <td>NaN</td>\n",
       "      <td>Q15061738</td>\n",
       "      <td>Q100343219</td>\n",
       "    </tr>\n",
       "    <tr>\n",
       "      <th>1</th>\n",
       "      <td>free rich company datum</td>\n",
       "      <td>size</td>\n",
       "      <td>33222</td>\n",
       "      <td>NaN</td>\n",
       "      <td>Q322481</td>\n",
       "      <td>NaN</td>\n",
       "      <td>Q322481</td>\n",
       "    </tr>\n",
       "    <tr>\n",
       "      <th>2</th>\n",
       "      <td>free rich company datum</td>\n",
       "      <td>revenue</td>\n",
       "      <td>33185</td>\n",
       "      <td>NaN</td>\n",
       "      <td>NaN</td>\n",
       "      <td>NaN</td>\n",
       "      <td>Q850210</td>\n",
       "    </tr>\n",
       "    <tr>\n",
       "      <th>3</th>\n",
       "      <td>state</td>\n",
       "      <td>california</td>\n",
       "      <td>18062</td>\n",
       "      <td>NaN</td>\n",
       "      <td>NaN</td>\n",
       "      <td>Q17124184</td>\n",
       "      <td>NaN</td>\n",
       "    </tr>\n",
       "    <tr>\n",
       "      <th>4</th>\n",
       "      <td>supplement</td>\n",
       "      <td>msm glucosamine sulfate</td>\n",
       "      <td>15942</td>\n",
       "      <td>NaN</td>\n",
       "      <td>NaN</td>\n",
       "      <td>Q2915731</td>\n",
       "      <td>NaN</td>\n",
       "    </tr>\n",
       "  </tbody>\n",
       "</table>\n",
       "</div>"
      ],
      "text/plain": [
       "               node1_label              node2_label  no_of_relations  \\\n",
       "0                   factor                      age            35167   \n",
       "1  free rich company datum                     size            33222   \n",
       "2  free rich company datum                  revenue            33185   \n",
       "3                    state               california            18062   \n",
       "4               supplement  msm glucosamine sulfate            15942   \n",
       "\n",
       "  node1_qnode node2_qnode n1_final_qnode n2_final_qnode  \n",
       "0         NaN         NaN      Q15061738     Q100343219  \n",
       "1         NaN     Q322481            NaN        Q322481  \n",
       "2         NaN         NaN            NaN        Q850210  \n",
       "3         NaN         NaN      Q17124184            NaN  \n",
       "4         NaN         NaN       Q2915731            NaN  "
      ]
     },
     "execution_count": 5,
     "metadata": {},
     "output_type": "execute_result"
    }
   ],
   "source": [
    "probDF_Qnodes_DF_WQnodes.head()"
   ]
  },
  {
   "cell_type": "code",
   "execution_count": 6,
   "id": "altered-staff",
   "metadata": {},
   "outputs": [],
   "source": [
    "probDF_Qnodes_DF_WQnodes1_subset = probDF_Qnodes_DF_WQnodes[(~probDF_Qnodes_DF_WQnodes.n1_final_qnode.isna()) & (~probDF_Qnodes_DF_WQnodes.n2_final_qnode.isna())]"
   ]
  },
  {
   "cell_type": "code",
   "execution_count": 7,
   "id": "plain-skating",
   "metadata": {},
   "outputs": [
    {
     "data": {
      "text/html": [
       "<div>\n",
       "<style scoped>\n",
       "    .dataframe tbody tr th:only-of-type {\n",
       "        vertical-align: middle;\n",
       "    }\n",
       "\n",
       "    .dataframe tbody tr th {\n",
       "        vertical-align: top;\n",
       "    }\n",
       "\n",
       "    .dataframe thead th {\n",
       "        text-align: right;\n",
       "    }\n",
       "</style>\n",
       "<table border=\"1\" class=\"dataframe\">\n",
       "  <thead>\n",
       "    <tr style=\"text-align: right;\">\n",
       "      <th></th>\n",
       "      <th>node1_label</th>\n",
       "      <th>node2_label</th>\n",
       "      <th>no_of_relations</th>\n",
       "      <th>node1_qnode</th>\n",
       "      <th>node2_qnode</th>\n",
       "      <th>n1_final_qnode</th>\n",
       "      <th>n2_final_qnode</th>\n",
       "    </tr>\n",
       "  </thead>\n",
       "  <tbody>\n",
       "    <tr>\n",
       "      <th>0</th>\n",
       "      <td>factor</td>\n",
       "      <td>age</td>\n",
       "      <td>35167</td>\n",
       "      <td>NaN</td>\n",
       "      <td>NaN</td>\n",
       "      <td>Q15061738</td>\n",
       "      <td>Q100343219</td>\n",
       "    </tr>\n",
       "    <tr>\n",
       "      <th>5</th>\n",
       "      <td>factor</td>\n",
       "      <td>gender</td>\n",
       "      <td>14230</td>\n",
       "      <td>NaN</td>\n",
       "      <td>Q48277</td>\n",
       "      <td>Q15061738</td>\n",
       "      <td>Q48277</td>\n",
       "    </tr>\n",
       "    <tr>\n",
       "      <th>6</th>\n",
       "      <td>factor</td>\n",
       "      <td>temperature</td>\n",
       "      <td>13660</td>\n",
       "      <td>NaN</td>\n",
       "      <td>NaN</td>\n",
       "      <td>Q15061738</td>\n",
       "      <td>P2076</td>\n",
       "    </tr>\n",
       "    <tr>\n",
       "      <th>7</th>\n",
       "      <td>metal</td>\n",
       "      <td>copper</td>\n",
       "      <td>11142</td>\n",
       "      <td>Q11426</td>\n",
       "      <td>NaN</td>\n",
       "      <td>Q11426</td>\n",
       "      <td>Q15830500</td>\n",
       "    </tr>\n",
       "    <tr>\n",
       "      <th>9</th>\n",
       "      <td>variable</td>\n",
       "      <td>age</td>\n",
       "      <td>9375</td>\n",
       "      <td>NaN</td>\n",
       "      <td>NaN</td>\n",
       "      <td>Q10954303</td>\n",
       "      <td>Q100343219</td>\n",
       "    </tr>\n",
       "  </tbody>\n",
       "</table>\n",
       "</div>"
      ],
      "text/plain": [
       "  node1_label  node2_label  no_of_relations node1_qnode node2_qnode  \\\n",
       "0      factor          age            35167         NaN         NaN   \n",
       "5      factor       gender            14230         NaN      Q48277   \n",
       "6      factor  temperature            13660         NaN         NaN   \n",
       "7       metal       copper            11142      Q11426         NaN   \n",
       "9    variable          age             9375         NaN         NaN   \n",
       "\n",
       "  n1_final_qnode n2_final_qnode  \n",
       "0      Q15061738     Q100343219  \n",
       "5      Q15061738         Q48277  \n",
       "6      Q15061738          P2076  \n",
       "7         Q11426      Q15830500  \n",
       "9      Q10954303     Q100343219  "
      ]
     },
     "execution_count": 7,
     "metadata": {},
     "output_type": "execute_result"
    }
   ],
   "source": [
    "probDF_Qnodes_DF_WQnodes1_subset.head()"
   ]
  },
  {
   "cell_type": "code",
   "execution_count": 8,
   "id": "tender-printing",
   "metadata": {},
   "outputs": [],
   "source": [
    "probDF_Qnodes_DF_WQnodes1_subset12 = probDF_Qnodes_DF_WQnodes1_subset[(~probDF_Qnodes_DF_WQnodes1_subset.node1_qnode.isna()) & (~probDF_Qnodes_DF_WQnodes1_subset.node2_qnode.isna())]"
   ]
  },
  {
   "cell_type": "code",
   "execution_count": 10,
   "id": "domestic-wrapping",
   "metadata": {},
   "outputs": [
    {
     "data": {
      "text/plain": [
       "count    11062.000000\n",
       "mean        26.674652\n",
       "std        158.720981\n",
       "min          1.000000\n",
       "25%          1.000000\n",
       "50%          3.000000\n",
       "75%         10.000000\n",
       "max       6433.000000\n",
       "Name: no_of_relations, dtype: float64"
      ]
     },
     "execution_count": 10,
     "metadata": {},
     "output_type": "execute_result"
    }
   ],
   "source": [
    "probDF_Qnodes_DF_WQnodes1_subset12['no_of_relations'].describe()"
   ]
  },
  {
   "cell_type": "code",
   "execution_count": 17,
   "id": "fallen-collapse",
   "metadata": {},
   "outputs": [
    {
     "name": "stderr",
     "output_type": "stream",
     "text": [
      "<ipython-input-17-1027b77e731a>:2: SettingWithCopyWarning: \n",
      "A value is trying to be set on a copy of a slice from a DataFrame.\n",
      "Try using .loc[row_indexer,col_indexer] = value instead\n",
      "\n",
      "See the caveats in the documentation: https://pandas.pydata.org/pandas-docs/stable/user_guide/indexing.html#returning-a-view-versus-a-copy\n",
      "  probDF_Qnodes_DF_WQnodes1_subset['sim'] = probDF_Qnodes_DF_WQnodes1_subset['no_of_relations'].apply(np.log10) / np.log10(maxNR)\n"
     ]
    }
   ],
   "source": [
    "maxNR = probDF_Qnodes_DF_WQnodes1_subset['no_of_relations'].max()\n",
    "probDF_Qnodes_DF_WQnodes1_subset['sim'] = probDF_Qnodes_DF_WQnodes1_subset['no_of_relations'].apply(np.log10) / np.log10(maxNR)"
   ]
  },
  {
   "cell_type": "code",
   "execution_count": 18,
   "id": "capable-reunion",
   "metadata": {},
   "outputs": [
    {
     "data": {
      "text/plain": [
       "0           1.000000\n",
       "5           0.913568\n",
       "6           0.909663\n",
       "7           0.890199\n",
       "9           0.873703\n",
       "              ...   \n",
       "33375112    0.000000\n",
       "33375113    0.000000\n",
       "33376416    0.000000\n",
       "33376502    0.000000\n",
       "33376773    0.000000\n",
       "Name: sim, Length: 1600841, dtype: float64"
      ]
     },
     "execution_count": 18,
     "metadata": {},
     "output_type": "execute_result"
    }
   ],
   "source": [
    "probDF_Qnodes_DF_WQnodes1_subset['sim']"
   ]
  },
  {
   "cell_type": "code",
   "execution_count": 19,
   "id": "spatial-adventure",
   "metadata": {},
   "outputs": [],
   "source": [
    "probDF_Qnodes_DF_WQnodes1_subset.to_csv('../data/probase/probase_WQnodes_subset_and_sim.csv')"
   ]
  },
  {
   "cell_type": "code",
   "execution_count": 3,
   "id": "special-negative",
   "metadata": {},
   "outputs": [],
   "source": [
    "probDF_Qnodes_DF_WQnodes1_subset = pd.read_csv('../data/probase/probase_WQnodes_subset_and_sim.csv')"
   ]
  },
  {
   "cell_type": "code",
   "execution_count": 4,
   "id": "massive-compound",
   "metadata": {},
   "outputs": [
    {
     "data": {
      "text/plain": [
       "count    1.600841e+06\n",
       "mean     8.590976e-02\n",
       "std      1.072670e-01\n",
       "min      0.000000e+00\n",
       "25%      0.000000e+00\n",
       "50%      6.621668e-02\n",
       "75%      1.324334e-01\n",
       "max      1.000000e+00\n",
       "Name: sim, dtype: float64"
      ]
     },
     "execution_count": 4,
     "metadata": {},
     "output_type": "execute_result"
    }
   ],
   "source": [
    "probDF_Qnodes_DF_WQnodes1_subset.sim.describe()"
   ]
  },
  {
   "cell_type": "code",
   "execution_count": null,
   "id": "played-electricity",
   "metadata": {},
   "outputs": [],
   "source": []
  },
  {
   "cell_type": "code",
   "execution_count": null,
   "id": "helpful-liquid",
   "metadata": {},
   "outputs": [],
   "source": []
  }
 ],
 "metadata": {
  "kernelspec": {
   "display_name": "kgtkEnv",
   "language": "python",
   "name": "kgtkenv"
  },
  "language_info": {
   "codemirror_mode": {
    "name": "ipython",
    "version": 3
   },
   "file_extension": ".py",
   "mimetype": "text/x-python",
   "name": "python",
   "nbconvert_exporter": "python",
   "pygments_lexer": "ipython3",
   "version": "3.8.5"
  },
  "toc": {
   "base_numbering": 1,
   "nav_menu": {},
   "number_sections": true,
   "sideBar": true,
   "skip_h1_title": false,
   "title_cell": "Table of Contents",
   "title_sidebar": "Contents",
   "toc_cell": false,
   "toc_position": {},
   "toc_section_display": true,
   "toc_window_display": false
  },
  "varInspector": {
   "cols": {
    "lenName": 16,
    "lenType": 16,
    "lenVar": 40
   },
   "kernels_config": {
    "python": {
     "delete_cmd_postfix": "",
     "delete_cmd_prefix": "del ",
     "library": "var_list.py",
     "varRefreshCmd": "print(var_dic_list())"
    },
    "r": {
     "delete_cmd_postfix": ") ",
     "delete_cmd_prefix": "rm(",
     "library": "var_list.r",
     "varRefreshCmd": "cat(var_dic_list()) "
    }
   },
   "types_to_exclude": [
    "module",
    "function",
    "builtin_function_or_method",
    "instance",
    "_Feature"
   ],
   "window_display": false
  }
 },
 "nbformat": 4,
 "nbformat_minor": 5
}
