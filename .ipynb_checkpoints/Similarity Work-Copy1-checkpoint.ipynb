{
 "cells": [
  {
   "cell_type": "markdown",
   "id": "protecting-craft",
   "metadata": {},
   "source": [
    "Downloaded dataset from [DBPedia Short Abstracts - 2020.07.01](https://downloads.dbpedia.org/repo/dbpedia/text/short-abstracts/2020.07.01/short-abstracts_lang=en.ttl.bz2)"
   ]
  },
  {
   "cell_type": "code",
   "execution_count": 1,
   "id": "indirect-kingdom",
   "metadata": {},
   "outputs": [],
   "source": [
    "from tqdm.notebook import tqdm\n",
    "import pandas as pd\n",
    "from time import time"
   ]
  },
  {
   "cell_type": "markdown",
   "id": "elder-russian",
   "metadata": {},
   "source": [
    "# Process and format DBPedia dataset"
   ]
  },
  {
   "cell_type": "code",
   "execution_count": 2,
   "id": "characteristic-orientation",
   "metadata": {},
   "outputs": [
    {
     "data": {
      "application/vnd.jupyter.widget-view+json": {
       "model_id": "c3db8345a6c34dbe8f54427985216b25",
       "version_major": 2,
       "version_minor": 0
      },
      "text/plain": [
       "0it [00:00, ?it/s]"
      ]
     },
     "metadata": {},
     "output_type": "display_data"
    }
   ],
   "source": [
    "cnt = 0\n",
    "\n",
    "p1s = []\n",
    "p11s = []\n",
    "p2s = []\n",
    "lines = []\n",
    "with open(\"../data/short-abstracts_lang=en.ttl\", 'r', encoding='utf-8') as f:\n",
    "    for line in tqdm(f):\n",
    "        p1 = line[:line.find(\" \")]\n",
    "#         p11 = p1.split(\"/\")[-1][:-1]\n",
    "        p11 = p1[len(\"<http://dbpedia.org/resource/\"):][:-1]\n",
    "        line = line[line.find(\" \")+1:]\n",
    "        p2 = line[:line.find(\" \")]\n",
    "        line = line[line.find(\" \")+1:line.rfind(\" \")][1:-4]\n",
    "#         print(p1, p2, line)\n",
    "        p1s.append(p1)\n",
    "        p11s.append(p11)\n",
    "        p2s.append(p2)\n",
    "        lines.append(line)\n",
    "#         except UnicodeDecodeError:\n",
    "#             cnt += 1\n",
    "# print(\"Encoding error:\", cnt)"
   ]
  },
  {
   "cell_type": "code",
   "execution_count": 3,
   "id": "prostate-master",
   "metadata": {},
   "outputs": [],
   "source": [
    "df1 = pd.DataFrame({'urlComp': p11s, 'url':p1s, 'p2': p2s, 'abstract': lines})\n",
    "df1.to_csv('../data/short-abstracts_lang=en.csv')"
   ]
  },
  {
   "cell_type": "code",
   "execution_count": 15,
   "id": "occupational-sheriff",
   "metadata": {},
   "outputs": [],
   "source": [
    "df1 = pd.read_csv(\"../data/short-abstracts_lang=en.csv\", skiprows=1, skipfooter=1, header=None, engine='python')"
   ]
  },
  {
   "cell_type": "code",
   "execution_count": 16,
   "id": "environmental-question",
   "metadata": {},
   "outputs": [],
   "source": [
    "df1.columns = ['ignore', 'node1', 'url', 'ignore2', 'abstract']"
   ]
  },
  {
   "cell_type": "code",
   "execution_count": 17,
   "id": "dirty-sample",
   "metadata": {},
   "outputs": [],
   "source": [
    "df1 = df1.set_index('node1')"
   ]
  },
  {
   "cell_type": "code",
   "execution_count": 18,
   "id": "defensive-switch",
   "metadata": {},
   "outputs": [
    {
     "data": {
      "text/html": [
       "<div>\n",
       "<style scoped>\n",
       "    .dataframe tbody tr th:only-of-type {\n",
       "        vertical-align: middle;\n",
       "    }\n",
       "\n",
       "    .dataframe tbody tr th {\n",
       "        vertical-align: top;\n",
       "    }\n",
       "\n",
       "    .dataframe thead th {\n",
       "        text-align: right;\n",
       "    }\n",
       "</style>\n",
       "<table border=\"1\" class=\"dataframe\">\n",
       "  <thead>\n",
       "    <tr style=\"text-align: right;\">\n",
       "      <th></th>\n",
       "      <th>ignore</th>\n",
       "      <th>url</th>\n",
       "      <th>ignore2</th>\n",
       "      <th>abstract</th>\n",
       "    </tr>\n",
       "    <tr>\n",
       "      <th>node1</th>\n",
       "      <th></th>\n",
       "      <th></th>\n",
       "      <th></th>\n",
       "      <th></th>\n",
       "    </tr>\n",
       "  </thead>\n",
       "  <tbody>\n",
       "    <tr>\n",
       "      <th>NaN</th>\n",
       "      <td>0</td>\n",
       "      <td>#</td>\n",
       "      <td>started</td>\n",
       "      <td>NaN</td>\n",
       "    </tr>\n",
       "    <tr>\n",
       "      <th>Animalia_(book)</th>\n",
       "      <td>1</td>\n",
       "      <td>&lt;http://dbpedia.org/resource/Animalia_(book)&gt;</td>\n",
       "      <td>&lt;http://www.w3.org/2000/01/rdf-schema#comment&gt;</td>\n",
       "      <td>Animalia is an illustrated children's book by ...</td>\n",
       "    </tr>\n",
       "    <tr>\n",
       "      <th>Agricultural_science</th>\n",
       "      <td>2</td>\n",
       "      <td>&lt;http://dbpedia.org/resource/Agricultural_scie...</td>\n",
       "      <td>&lt;http://www.w3.org/2000/01/rdf-schema#comment&gt;</td>\n",
       "      <td>Agricultural science is a broad multidisciplin...</td>\n",
       "    </tr>\n",
       "    <tr>\n",
       "      <th>Albedo</th>\n",
       "      <td>3</td>\n",
       "      <td>&lt;http://dbpedia.org/resource/Albedo&gt;</td>\n",
       "      <td>&lt;http://www.w3.org/2000/01/rdf-schema#comment&gt;</td>\n",
       "      <td>Albedo () (Latin: albedo, meaning 'whiteness')...</td>\n",
       "    </tr>\n",
       "    <tr>\n",
       "      <th>Alain_Connes</th>\n",
       "      <td>4</td>\n",
       "      <td>&lt;http://dbpedia.org/resource/Alain_Connes&gt;</td>\n",
       "      <td>&lt;http://www.w3.org/2000/01/rdf-schema#comment&gt;</td>\n",
       "      <td>Alain Connes (French: [alɛ̃ kɔn]; born 1 April...</td>\n",
       "    </tr>\n",
       "  </tbody>\n",
       "</table>\n",
       "</div>"
      ],
      "text/plain": [
       "                      ignore  \\\n",
       "node1                          \n",
       "NaN                        0   \n",
       "Animalia_(book)            1   \n",
       "Agricultural_science       2   \n",
       "Albedo                     3   \n",
       "Alain_Connes               4   \n",
       "\n",
       "                                                                    url  \\\n",
       "node1                                                                     \n",
       "NaN                                                                   #   \n",
       "Animalia_(book)           <http://dbpedia.org/resource/Animalia_(book)>   \n",
       "Agricultural_science  <http://dbpedia.org/resource/Agricultural_scie...   \n",
       "Albedo                             <http://dbpedia.org/resource/Albedo>   \n",
       "Alain_Connes                 <http://dbpedia.org/resource/Alain_Connes>   \n",
       "\n",
       "                                                             ignore2  \\\n",
       "node1                                                                  \n",
       "NaN                                                          started   \n",
       "Animalia_(book)       <http://www.w3.org/2000/01/rdf-schema#comment>   \n",
       "Agricultural_science  <http://www.w3.org/2000/01/rdf-schema#comment>   \n",
       "Albedo                <http://www.w3.org/2000/01/rdf-schema#comment>   \n",
       "Alain_Connes          <http://www.w3.org/2000/01/rdf-schema#comment>   \n",
       "\n",
       "                                                               abstract  \n",
       "node1                                                                    \n",
       "NaN                                                                 NaN  \n",
       "Animalia_(book)       Animalia is an illustrated children's book by ...  \n",
       "Agricultural_science  Agricultural science is a broad multidisciplin...  \n",
       "Albedo                Albedo () (Latin: albedo, meaning 'whiteness')...  \n",
       "Alain_Connes          Alain Connes (French: [alɛ̃ kɔn]; born 1 April...  "
      ]
     },
     "execution_count": 18,
     "metadata": {},
     "output_type": "execute_result"
    }
   ],
   "source": [
    "df1.head()"
   ]
  },
  {
   "cell_type": "code",
   "execution_count": 19,
   "id": "specified-emission",
   "metadata": {},
   "outputs": [
    {
     "data": {
      "text/html": [
       "<div>\n",
       "<style scoped>\n",
       "    .dataframe tbody tr th:only-of-type {\n",
       "        vertical-align: middle;\n",
       "    }\n",
       "\n",
       "    .dataframe tbody tr th {\n",
       "        vertical-align: top;\n",
       "    }\n",
       "\n",
       "    .dataframe thead th {\n",
       "        text-align: right;\n",
       "    }\n",
       "</style>\n",
       "<table border=\"1\" class=\"dataframe\">\n",
       "  <thead>\n",
       "    <tr style=\"text-align: right;\">\n",
       "      <th></th>\n",
       "      <th>ignore</th>\n",
       "      <th>url</th>\n",
       "      <th>ignore2</th>\n",
       "      <th>abstract</th>\n",
       "    </tr>\n",
       "    <tr>\n",
       "      <th>node1</th>\n",
       "      <th></th>\n",
       "      <th></th>\n",
       "      <th></th>\n",
       "      <th></th>\n",
       "    </tr>\n",
       "  </thead>\n",
       "  <tbody>\n",
       "    <tr>\n",
       "      <th>NaN</th>\n",
       "      <td>0</td>\n",
       "      <td>#</td>\n",
       "      <td>started</td>\n",
       "      <td>NaN</td>\n",
       "    </tr>\n",
       "  </tbody>\n",
       "</table>\n",
       "</div>"
      ],
      "text/plain": [
       "       ignore url  ignore2 abstract\n",
       "node1                              \n",
       "NaN         0   #  started      NaN"
      ]
     },
     "execution_count": 19,
     "metadata": {},
     "output_type": "execute_result"
    }
   ],
   "source": [
    "df1[df1.url.apply(lambda p: 'http://dbpedia.org/resource' not in p)]\n"
   ]
  },
  {
   "cell_type": "code",
   "execution_count": 20,
   "id": "streaming-watch",
   "metadata": {},
   "outputs": [
    {
     "name": "stdout",
     "output_type": "stream",
     "text": [
      "DBPedia dataset has 5732949 records with unique 5732947 index values\n"
     ]
    }
   ],
   "source": [
    "print(f\"DBPedia dataset has {len(df1)} records with unique {df1.index.nunique()} index values\")\n"
   ]
  },
  {
   "cell_type": "code",
   "execution_count": 21,
   "id": "clean-brook",
   "metadata": {},
   "outputs": [
    {
     "data": {
      "text/html": [
       "<div>\n",
       "<style scoped>\n",
       "    .dataframe tbody tr th:only-of-type {\n",
       "        vertical-align: middle;\n",
       "    }\n",
       "\n",
       "    .dataframe tbody tr th {\n",
       "        vertical-align: top;\n",
       "    }\n",
       "\n",
       "    .dataframe thead th {\n",
       "        text-align: right;\n",
       "    }\n",
       "</style>\n",
       "<table border=\"1\" class=\"dataframe\">\n",
       "  <thead>\n",
       "    <tr style=\"text-align: right;\">\n",
       "      <th></th>\n",
       "      <th>ignore</th>\n",
       "      <th>url</th>\n",
       "      <th>ignore2</th>\n",
       "      <th>abstract</th>\n",
       "    </tr>\n",
       "    <tr>\n",
       "      <th>node1</th>\n",
       "      <th></th>\n",
       "      <th></th>\n",
       "      <th></th>\n",
       "      <th></th>\n",
       "    </tr>\n",
       "  </thead>\n",
       "  <tbody>\n",
       "    <tr>\n",
       "      <th>NaN</th>\n",
       "      <td>0</td>\n",
       "      <td>#</td>\n",
       "      <td>started</td>\n",
       "      <td>NaN</td>\n",
       "    </tr>\n",
       "    <tr>\n",
       "      <th>NaN</th>\n",
       "      <td>23399</td>\n",
       "      <td>&lt;http://dbpedia.org/resource/NaN&gt;</td>\n",
       "      <td>&lt;http://www.w3.org/2000/01/rdf-schema#comment&gt;</td>\n",
       "      <td>In computing, NaN, standing for Not a Number, ...</td>\n",
       "    </tr>\n",
       "  </tbody>\n",
       "</table>\n",
       "</div>"
      ],
      "text/plain": [
       "       ignore                                url  \\\n",
       "node1                                              \n",
       "NaN         0                                  #   \n",
       "NaN     23399  <http://dbpedia.org/resource/NaN>   \n",
       "\n",
       "                                              ignore2  \\\n",
       "node1                                                   \n",
       "NaN                                           started   \n",
       "NaN    <http://www.w3.org/2000/01/rdf-schema#comment>   \n",
       "\n",
       "                                                abstract  \n",
       "node1                                                     \n",
       "NaN                                                  NaN  \n",
       "NaN    In computing, NaN, standing for Not a Number, ...  "
      ]
     },
     "execution_count": 21,
     "metadata": {},
     "output_type": "execute_result"
    }
   ],
   "source": [
    "df1.loc[df1[df1.index.duplicated()].index]"
   ]
  },
  {
   "cell_type": "markdown",
   "id": "residential-bunch",
   "metadata": {},
   "source": [
    "There are many duplicate element names with different abstracts. For example, 390 corresponds to year 390, ibm 390 systemss."
   ]
  },
  {
   "cell_type": "markdown",
   "id": "whole-retirement",
   "metadata": {
    "heading_collapsed": true
   },
   "source": [
    "# Wikidata Sitelinks"
   ]
  },
  {
   "cell_type": "code",
   "execution_count": 22,
   "id": "usual-albuquerque",
   "metadata": {
    "hidden": true
   },
   "outputs": [],
   "source": [
    "sitelinksDF = pd.read_csv(\"../data/sitelinks.en.tsv.gz\", sep='\\t')"
   ]
  },
  {
   "cell_type": "code",
   "execution_count": 23,
   "id": "classical-tamil",
   "metadata": {
    "hidden": true
   },
   "outputs": [],
   "source": [
    "sitelinksDF['trimmedNode2'] = sitelinksDF.node2.apply(lambda p: p.split(\"/\")[-1] if p.split(\"/\")[-1] != '' else p.split(\"/\")[-2])"
   ]
  },
  {
   "cell_type": "code",
   "execution_count": 24,
   "id": "undefined-gospel",
   "metadata": {
    "hidden": true
   },
   "outputs": [],
   "source": [
    "sitelinksDF1 = sitelinksDF[sitelinksDF.label == 'wikipedia_sitelink']"
   ]
  },
  {
   "cell_type": "code",
   "execution_count": 25,
   "id": "backed-criminal",
   "metadata": {
    "hidden": true
   },
   "outputs": [],
   "source": [
    "sitelinksDF2 = sitelinksDF1.set_index('trimmedNode2')"
   ]
  },
  {
   "cell_type": "code",
   "execution_count": 26,
   "id": "armed-gardening",
   "metadata": {
    "hidden": true,
    "scrolled": false
   },
   "outputs": [
    {
     "data": {
      "text/html": [
       "<div>\n",
       "<style scoped>\n",
       "    .dataframe tbody tr th:only-of-type {\n",
       "        vertical-align: middle;\n",
       "    }\n",
       "\n",
       "    .dataframe tbody tr th {\n",
       "        vertical-align: top;\n",
       "    }\n",
       "\n",
       "    .dataframe thead th {\n",
       "        text-align: right;\n",
       "    }\n",
       "</style>\n",
       "<table border=\"1\" class=\"dataframe\">\n",
       "  <thead>\n",
       "    <tr style=\"text-align: right;\">\n",
       "      <th></th>\n",
       "      <th>id</th>\n",
       "      <th>node1</th>\n",
       "      <th>label</th>\n",
       "      <th>node2</th>\n",
       "    </tr>\n",
       "    <tr>\n",
       "      <th>trimmedNode2</th>\n",
       "      <th></th>\n",
       "      <th></th>\n",
       "      <th></th>\n",
       "      <th></th>\n",
       "    </tr>\n",
       "  </thead>\n",
       "  <tbody>\n",
       "    <tr>\n",
       "      <th>Universe</th>\n",
       "      <td>Q1-wikipedia_sitelink-5e459a-0</td>\n",
       "      <td>Q1</td>\n",
       "      <td>wikipedia_sitelink</td>\n",
       "      <td>http://en.wikipedia.org/wiki/Universe</td>\n",
       "    </tr>\n",
       "    <tr>\n",
       "      <th>Boston</th>\n",
       "      <td>Q100-wikipedia_sitelink-c612f2-0</td>\n",
       "      <td>Q100</td>\n",
       "      <td>wikipedia_sitelink</td>\n",
       "      <td>http://en.wikipedia.org/wiki/Boston</td>\n",
       "    </tr>\n",
       "    <tr>\n",
       "      <th>Gabon</th>\n",
       "      <td>Q1000-wikipedia_sitelink-b7f1ee-0</td>\n",
       "      <td>Q1000</td>\n",
       "      <td>wikipedia_sitelink</td>\n",
       "      <td>http://en.wikipedia.org/wiki/Gabon</td>\n",
       "    </tr>\n",
       "    <tr>\n",
       "      <th>Dutch_Wikipedia</th>\n",
       "      <td>Q10000-wikipedia_sitelink-16adbd-0</td>\n",
       "      <td>Q10000</td>\n",
       "      <td>wikipedia_sitelink</td>\n",
       "      <td>http://en.wikipedia.org/wiki/Dutch_Wikipedia</td>\n",
       "    </tr>\n",
       "    <tr>\n",
       "      <th>Cadier_en_Keer</th>\n",
       "      <td>Q100000-wikipedia_sitelink-d81a0a-0</td>\n",
       "      <td>Q100000</td>\n",
       "      <td>wikipedia_sitelink</td>\n",
       "      <td>http://en.wikipedia.org/wiki/Cadier_en_Keer</td>\n",
       "    </tr>\n",
       "  </tbody>\n",
       "</table>\n",
       "</div>"
      ],
      "text/plain": [
       "                                                  id    node1  \\\n",
       "trimmedNode2                                                    \n",
       "Universe              Q1-wikipedia_sitelink-5e459a-0       Q1   \n",
       "Boston              Q100-wikipedia_sitelink-c612f2-0     Q100   \n",
       "Gabon              Q1000-wikipedia_sitelink-b7f1ee-0    Q1000   \n",
       "Dutch_Wikipedia   Q10000-wikipedia_sitelink-16adbd-0   Q10000   \n",
       "Cadier_en_Keer   Q100000-wikipedia_sitelink-d81a0a-0  Q100000   \n",
       "\n",
       "                              label  \\\n",
       "trimmedNode2                          \n",
       "Universe         wikipedia_sitelink   \n",
       "Boston           wikipedia_sitelink   \n",
       "Gabon            wikipedia_sitelink   \n",
       "Dutch_Wikipedia  wikipedia_sitelink   \n",
       "Cadier_en_Keer   wikipedia_sitelink   \n",
       "\n",
       "                                                        node2  \n",
       "trimmedNode2                                                   \n",
       "Universe                http://en.wikipedia.org/wiki/Universe  \n",
       "Boston                    http://en.wikipedia.org/wiki/Boston  \n",
       "Gabon                      http://en.wikipedia.org/wiki/Gabon  \n",
       "Dutch_Wikipedia  http://en.wikipedia.org/wiki/Dutch_Wikipedia  \n",
       "Cadier_en_Keer    http://en.wikipedia.org/wiki/Cadier_en_Keer  "
      ]
     },
     "execution_count": 26,
     "metadata": {},
     "output_type": "execute_result"
    }
   ],
   "source": [
    "sitelinksDF2.head()"
   ]
  },
  {
   "cell_type": "code",
   "execution_count": 27,
   "id": "thousand-marriage",
   "metadata": {
    "hidden": true
   },
   "outputs": [
    {
     "name": "stdout",
     "output_type": "stream",
     "text": [
      "There are 8472828 sitelinks present in the dataset corresponding to 8472828 unique node1s (Qxxx), 8401883 unique labels (text)\n"
     ]
    }
   ],
   "source": [
    "print(f\"There are {len(sitelinksDF2)} sitelinks present in the dataset corresponding to {sitelinksDF2.node1.nunique()} unique node1s (Qxxx), {sitelinksDF2.index.nunique()} unique labels (text)\")\n"
   ]
  },
  {
   "cell_type": "code",
   "execution_count": 28,
   "id": "alpha-sport",
   "metadata": {
    "hidden": true
   },
   "outputs": [
    {
     "name": "stderr",
     "output_type": "stream",
     "text": [
      "\n",
      "KeyboardInterrupt\n",
      "\n"
     ]
    }
   ],
   "source": [
    "sitelinksDF2.loc[sitelinksDF2[sitelinksDF2.index.duplicated()].index]"
   ]
  },
  {
   "cell_type": "code",
   "execution_count": null,
   "id": "editorial-cache",
   "metadata": {
    "hidden": true
   },
   "outputs": [],
   "source": []
  },
  {
   "cell_type": "markdown",
   "id": "naval-morrison",
   "metadata": {
    "heading_collapsed": true
   },
   "source": [
    "# Join DBPedia file with sitelinks - File X"
   ]
  },
  {
   "cell_type": "code",
   "execution_count": null,
   "id": "incorrect-beach",
   "metadata": {
    "hidden": true
   },
   "outputs": [],
   "source": [
    "abstractsDF = df1.join(sitelinksDF2).reset_index()"
   ]
  },
  {
   "cell_type": "code",
   "execution_count": null,
   "id": "answering-rhythm",
   "metadata": {
    "hidden": true
   },
   "outputs": [],
   "source": [
    "abstractsDF.head()"
   ]
  },
  {
   "cell_type": "code",
   "execution_count": null,
   "id": "peripheral-edinburgh",
   "metadata": {
    "hidden": true
   },
   "outputs": [],
   "source": [
    "len(abstractsDF), abstractsDF.index.nunique(), abstractsDF.node1.nunique()"
   ]
  },
  {
   "cell_type": "code",
   "execution_count": null,
   "id": "first-encoding",
   "metadata": {
    "hidden": true
   },
   "outputs": [],
   "source": [
    "print(f\"From {len(abstractsDF)} Qnodes, there are {abstractsDF.node2.isna().sum()} dbpedia statements which do not have a sitelink i.e {len(abstractsDF) - abstractsDF.node2.isna().sum()} have a sitelink\")\n"
   ]
  },
  {
   "cell_type": "markdown",
   "id": "modular-spirituality",
   "metadata": {},
   "source": [
    "# Similarity file"
   ]
  },
  {
   "cell_type": "code",
   "execution_count": 33,
   "id": "wired-hayes",
   "metadata": {},
   "outputs": [],
   "source": [
    "wordsimDF = pd.read_csv(\"../data/SimIP_new.csv\")"
   ]
  },
  {
   "cell_type": "code",
   "execution_count": 34,
   "id": "referenced-newport",
   "metadata": {},
   "outputs": [
    {
     "data": {
      "text/html": [
       "<div>\n",
       "<style scoped>\n",
       "    .dataframe tbody tr th:only-of-type {\n",
       "        vertical-align: middle;\n",
       "    }\n",
       "\n",
       "    .dataframe tbody tr th {\n",
       "        vertical-align: top;\n",
       "    }\n",
       "\n",
       "    .dataframe thead th {\n",
       "        text-align: right;\n",
       "    }\n",
       "</style>\n",
       "<table border=\"1\" class=\"dataframe\">\n",
       "  <thead>\n",
       "    <tr style=\"text-align: right;\">\n",
       "      <th></th>\n",
       "      <th>Index</th>\n",
       "      <th>g_qnode</th>\n",
       "      <th>p_qnode</th>\n",
       "      <th>q1_label</th>\n",
       "      <th>q2_label</th>\n",
       "      <th>complex</th>\n",
       "      <th>transe</th>\n",
       "      <th>text</th>\n",
       "      <th>class</th>\n",
       "      <th>node2vec-v0</th>\n",
       "      <th>H_3x6</th>\n",
       "      <th>H_5x8</th>\n",
       "    </tr>\n",
       "  </thead>\n",
       "  <tbody>\n",
       "    <tr>\n",
       "      <th>0</th>\n",
       "      <td>11</td>\n",
       "      <td>Q17221</td>\n",
       "      <td>Q189290</td>\n",
       "      <td>spokesperson</td>\n",
       "      <td>military officer</td>\n",
       "      <td>0.25</td>\n",
       "      <td>0.11</td>\n",
       "      <td>0.62</td>\n",
       "      <td>0.65</td>\n",
       "      <td>0.27</td>\n",
       "      <td>0.68</td>\n",
       "      <td>0.45</td>\n",
       "    </tr>\n",
       "    <tr>\n",
       "      <th>1</th>\n",
       "      <td>3</td>\n",
       "      <td>Q702269</td>\n",
       "      <td>Q2285706</td>\n",
       "      <td>professional</td>\n",
       "      <td>head of government</td>\n",
       "      <td>0.29</td>\n",
       "      <td>0.39</td>\n",
       "      <td>0.59</td>\n",
       "      <td>0.57</td>\n",
       "      <td>0.13</td>\n",
       "      <td>0.47</td>\n",
       "      <td>0.29</td>\n",
       "    </tr>\n",
       "    <tr>\n",
       "      <th>2</th>\n",
       "      <td>5</td>\n",
       "      <td>Q2285706</td>\n",
       "      <td>Q82955</td>\n",
       "      <td>head of government</td>\n",
       "      <td>politician</td>\n",
       "      <td>0.36</td>\n",
       "      <td>0.26</td>\n",
       "      <td>0.84</td>\n",
       "      <td>0.55</td>\n",
       "      <td>0.05</td>\n",
       "      <td>0.61</td>\n",
       "      <td>0.64</td>\n",
       "    </tr>\n",
       "    <tr>\n",
       "      <th>3</th>\n",
       "      <td>11</td>\n",
       "      <td>Q107711</td>\n",
       "      <td>Q189290</td>\n",
       "      <td>firefighter</td>\n",
       "      <td>military officer</td>\n",
       "      <td>0.29</td>\n",
       "      <td>0.22</td>\n",
       "      <td>0.58</td>\n",
       "      <td>0.52</td>\n",
       "      <td>0.34</td>\n",
       "      <td>0.78</td>\n",
       "      <td>0.49</td>\n",
       "    </tr>\n",
       "    <tr>\n",
       "      <th>4</th>\n",
       "      <td>3</td>\n",
       "      <td>Q702269</td>\n",
       "      <td>Q48352</td>\n",
       "      <td>professional</td>\n",
       "      <td>head of state</td>\n",
       "      <td>0.30</td>\n",
       "      <td>0.27</td>\n",
       "      <td>0.61</td>\n",
       "      <td>0.52</td>\n",
       "      <td>0.04</td>\n",
       "      <td>0.49</td>\n",
       "      <td>0.33</td>\n",
       "    </tr>\n",
       "  </tbody>\n",
       "</table>\n",
       "</div>"
      ],
      "text/plain": [
       "   Index   g_qnode   p_qnode            q1_label            q2_label  complex  \\\n",
       "0     11    Q17221   Q189290        spokesperson    military officer     0.25   \n",
       "1      3   Q702269  Q2285706        professional  head of government     0.29   \n",
       "2      5  Q2285706    Q82955  head of government          politician     0.36   \n",
       "3     11   Q107711   Q189290         firefighter    military officer     0.29   \n",
       "4      3   Q702269    Q48352        professional       head of state     0.30   \n",
       "\n",
       "   transe  text  class  node2vec-v0  H_3x6  H_5x8  \n",
       "0    0.11  0.62   0.65         0.27   0.68   0.45  \n",
       "1    0.39  0.59   0.57         0.13   0.47   0.29  \n",
       "2    0.26  0.84   0.55         0.05   0.61   0.64  \n",
       "3    0.22  0.58   0.52         0.34   0.78   0.49  \n",
       "4    0.27  0.61   0.52         0.04   0.49   0.33  "
      ]
     },
     "execution_count": 34,
     "metadata": {},
     "output_type": "execute_result"
    }
   ],
   "source": [
    "wordsimDF.head()"
   ]
  },
  {
   "cell_type": "code",
   "execution_count": 35,
   "id": "persistent-electronics",
   "metadata": {},
   "outputs": [],
   "source": [
    "wordsimQNodesList = set(wordsimDF.g_qnode.to_list() + wordsimDF.p_qnode.to_list())"
   ]
  },
  {
   "cell_type": "code",
   "execution_count": 36,
   "id": "billion-syndrome",
   "metadata": {
    "scrolled": true
   },
   "outputs": [
    {
     "name": "stdout",
     "output_type": "stream",
     "text": [
      "From the similarity file having 118 records, we have list1 with 19 unique Qnodes and list2 with 21 unique Qnodes. Taking their union, we get 31 unique Qnodes and by taking their intersection, we get 9 unique Qnodes\n"
     ]
    }
   ],
   "source": [
    "print(f\"From the similarity file having {len(wordsimDF)} records, we have list1 with {len(set(wordsimDF.g_qnode.to_list()))} unique Qnodes and list2 with {len(set(wordsimDF.p_qnode.to_list()))} unique Qnodes. Taking their union, we get {len(set(wordsimDF.g_qnode.to_list() + wordsimDF.p_qnode.to_list()))} unique Qnodes and by taking their intersection, we get {len(set(wordsimDF.g_qnode.to_list()).intersection(set(wordsimDF.p_qnode.to_list())))} unique Qnodes\")\n"
   ]
  },
  {
   "cell_type": "code",
   "execution_count": 37,
   "id": "affecting-people",
   "metadata": {},
   "outputs": [],
   "source": [
    "wordsimQNodesListDF1 = pd.DataFrame({'node1': list(wordsimQNodesList)}).set_index('node1')\n"
   ]
  },
  {
   "cell_type": "markdown",
   "id": "hourly-document",
   "metadata": {
    "heading_collapsed": true
   },
   "source": [
    "# Filtering File X Qnodes using similarity file Qnodes list"
   ]
  },
  {
   "cell_type": "code",
   "execution_count": 25,
   "id": "universal-romance",
   "metadata": {
    "hidden": true
   },
   "outputs": [],
   "source": [
    "abstractsDF1 = abstractsDF[abstractsDF.node1.apply(lambda p:p in wordsimQNodesList)]\n"
   ]
  },
  {
   "cell_type": "code",
   "execution_count": 26,
   "id": "secure-default",
   "metadata": {
    "hidden": true
   },
   "outputs": [
    {
     "data": {
      "text/html": [
       "<div>\n",
       "<style scoped>\n",
       "    .dataframe tbody tr th:only-of-type {\n",
       "        vertical-align: middle;\n",
       "    }\n",
       "\n",
       "    .dataframe tbody tr th {\n",
       "        vertical-align: top;\n",
       "    }\n",
       "\n",
       "    .dataframe thead th {\n",
       "        text-align: right;\n",
       "    }\n",
       "</style>\n",
       "<table border=\"1\" class=\"dataframe\">\n",
       "  <thead>\n",
       "    <tr style=\"text-align: right;\">\n",
       "      <th></th>\n",
       "      <th>index</th>\n",
       "      <th>ignore</th>\n",
       "      <th>url</th>\n",
       "      <th>ignore2</th>\n",
       "      <th>abstract</th>\n",
       "      <th>id</th>\n",
       "      <th>node1</th>\n",
       "      <th>label</th>\n",
       "      <th>node2</th>\n",
       "    </tr>\n",
       "  </thead>\n",
       "  <tbody>\n",
       "    <tr>\n",
       "      <th>4002</th>\n",
       "      <td>100</td>\n",
       "      <td>159716</td>\n",
       "      <td>&lt;http://dbpedia.org/resource/100&gt;</td>\n",
       "      <td>&lt;http://www.w3.org/2000/01/rdf-schema#comment&gt;</td>\n",
       "      <td>100 or one hundred (Roman numeral: C) is the n...</td>\n",
       "      <td>Q37413-wikipedia_sitelink-c0dbd3-0</td>\n",
       "      <td>Q37413</td>\n",
       "      <td>wikipedia_sitelink</td>\n",
       "      <td>http://en.wikipedia.org/wiki/100</td>\n",
       "    </tr>\n",
       "    <tr>\n",
       "      <th>306492</th>\n",
       "      <td>5</td>\n",
       "      <td>1074621</td>\n",
       "      <td>&lt;http://dbpedia.org/resource/5&gt;</td>\n",
       "      <td>&lt;http://www.w3.org/2000/01/rdf-schema#comment&gt;</td>\n",
       "      <td>5 (five) is a number, numeral, and glyph. It i...</td>\n",
       "      <td>Q203-wikipedia_sitelink-c8e811-0</td>\n",
       "      <td>Q203</td>\n",
       "      <td>wikipedia_sitelink</td>\n",
       "      <td>http://en.wikipedia.org/wiki/5</td>\n",
       "    </tr>\n",
       "    <tr>\n",
       "      <th>312986</th>\n",
       "      <td>7</td>\n",
       "      <td>103187</td>\n",
       "      <td>&lt;http://dbpedia.org/resource/7&gt;</td>\n",
       "      <td>&lt;http://www.w3.org/2000/01/rdf-schema#comment&gt;</td>\n",
       "      <td>7 (seven) is the natural number following 6 an...</td>\n",
       "      <td>Q23350-wikipedia_sitelink-6dd502-0</td>\n",
       "      <td>Q23350</td>\n",
       "      <td>wikipedia_sitelink</td>\n",
       "      <td>http://en.wikipedia.org/wiki/7</td>\n",
       "    </tr>\n",
       "    <tr>\n",
       "      <th>363000</th>\n",
       "      <td>Abuse</td>\n",
       "      <td>165447</td>\n",
       "      <td>&lt;http://dbpedia.org/resource/Abuse&gt;</td>\n",
       "      <td>&lt;http://www.w3.org/2000/01/rdf-schema#comment&gt;</td>\n",
       "      <td>Abuse is the improper usage or treatment of a ...</td>\n",
       "      <td>Q600571-wikipedia_sitelink-5719bc-0</td>\n",
       "      <td>Q600571</td>\n",
       "      <td>wikipedia_sitelink</td>\n",
       "      <td>http://en.wikipedia.org/wiki/Abuse</td>\n",
       "    </tr>\n",
       "    <tr>\n",
       "      <th>364696</th>\n",
       "      <td>Academic_discipline</td>\n",
       "      <td>1830099</td>\n",
       "      <td>&lt;http://dbpedia.org/resource/Academic_discipline&gt;</td>\n",
       "      <td>&lt;http://www.w3.org/2000/01/rdf-schema#comment&gt;</td>\n",
       "      <td>An academic discipline or academic field is a ...</td>\n",
       "      <td>Q11862829-wikipedia_sitelink-cdefe0-0</td>\n",
       "      <td>Q11862829</td>\n",
       "      <td>wikipedia_sitelink</td>\n",
       "      <td>http://en.wikipedia.org/wiki/Academic_discipline</td>\n",
       "    </tr>\n",
       "  </tbody>\n",
       "</table>\n",
       "</div>"
      ],
      "text/plain": [
       "                      index   ignore  \\\n",
       "4002                    100   159716   \n",
       "306492                    5  1074621   \n",
       "312986                    7   103187   \n",
       "363000                Abuse   165447   \n",
       "364696  Academic_discipline  1830099   \n",
       "\n",
       "                                                      url  \\\n",
       "4002                    <http://dbpedia.org/resource/100>   \n",
       "306492                    <http://dbpedia.org/resource/5>   \n",
       "312986                    <http://dbpedia.org/resource/7>   \n",
       "363000                <http://dbpedia.org/resource/Abuse>   \n",
       "364696  <http://dbpedia.org/resource/Academic_discipline>   \n",
       "\n",
       "                                               ignore2  \\\n",
       "4002    <http://www.w3.org/2000/01/rdf-schema#comment>   \n",
       "306492  <http://www.w3.org/2000/01/rdf-schema#comment>   \n",
       "312986  <http://www.w3.org/2000/01/rdf-schema#comment>   \n",
       "363000  <http://www.w3.org/2000/01/rdf-schema#comment>   \n",
       "364696  <http://www.w3.org/2000/01/rdf-schema#comment>   \n",
       "\n",
       "                                                 abstract  \\\n",
       "4002    100 or one hundred (Roman numeral: C) is the n...   \n",
       "306492  5 (five) is a number, numeral, and glyph. It i...   \n",
       "312986  7 (seven) is the natural number following 6 an...   \n",
       "363000  Abuse is the improper usage or treatment of a ...   \n",
       "364696  An academic discipline or academic field is a ...   \n",
       "\n",
       "                                           id      node1               label  \\\n",
       "4002       Q37413-wikipedia_sitelink-c0dbd3-0     Q37413  wikipedia_sitelink   \n",
       "306492       Q203-wikipedia_sitelink-c8e811-0       Q203  wikipedia_sitelink   \n",
       "312986     Q23350-wikipedia_sitelink-6dd502-0     Q23350  wikipedia_sitelink   \n",
       "363000    Q600571-wikipedia_sitelink-5719bc-0    Q600571  wikipedia_sitelink   \n",
       "364696  Q11862829-wikipedia_sitelink-cdefe0-0  Q11862829  wikipedia_sitelink   \n",
       "\n",
       "                                                   node2  \n",
       "4002                    http://en.wikipedia.org/wiki/100  \n",
       "306492                    http://en.wikipedia.org/wiki/5  \n",
       "312986                    http://en.wikipedia.org/wiki/7  \n",
       "363000                http://en.wikipedia.org/wiki/Abuse  \n",
       "364696  http://en.wikipedia.org/wiki/Academic_discipline  "
      ]
     },
     "execution_count": 26,
     "metadata": {},
     "output_type": "execute_result"
    }
   ],
   "source": [
    "abstractsDF1.head()"
   ]
  },
  {
   "cell_type": "code",
   "execution_count": 27,
   "id": "abroad-donna",
   "metadata": {
    "hidden": true
   },
   "outputs": [
    {
     "name": "stdout",
     "output_type": "stream",
     "text": [
      "Initially, there were 5732949 short abstracts. From 5785371 Qnodes with short abstracts, there are 324 Qnodes which have some similarity measure\n"
     ]
    }
   ],
   "source": [
    "print(f\"Initially, there were {len(df1)} short abstracts. From {len(abstractsDF)} Qnodes with short abstracts, there are {len(abstractsDF1)} Qnodes which have some similarity measure\")\n"
   ]
  },
  {
   "cell_type": "code",
   "execution_count": 28,
   "id": "extensive-giving",
   "metadata": {
    "hidden": true
   },
   "outputs": [],
   "source": [
    "absDFLabelList = abstractsDF1['index'].to_list()"
   ]
  },
  {
   "cell_type": "code",
   "execution_count": 29,
   "id": "charged-valuable",
   "metadata": {
    "hidden": true
   },
   "outputs": [
    {
     "data": {
      "text/plain": [
       "324"
      ]
     },
     "execution_count": 29,
     "metadata": {},
     "output_type": "execute_result"
    }
   ],
   "source": [
    "abstractsDF1['index'].nunique()"
   ]
  },
  {
   "cell_type": "code",
   "execution_count": null,
   "id": "recent-kansas",
   "metadata": {
    "hidden": true
   },
   "outputs": [],
   "source": []
  },
  {
   "cell_type": "markdown",
   "id": "terminal-offer",
   "metadata": {
    "heading_collapsed": true
   },
   "source": [
    "# Join sitelinks with DBPedia file - File Y"
   ]
  },
  {
   "cell_type": "code",
   "execution_count": 30,
   "id": "particular-nerve",
   "metadata": {
    "hidden": true
   },
   "outputs": [],
   "source": [
    "abstractsDF2 = sitelinksDF2.join(df1).reset_index()"
   ]
  },
  {
   "cell_type": "code",
   "execution_count": 31,
   "id": "dimensional-preserve",
   "metadata": {
    "hidden": true
   },
   "outputs": [
    {
     "data": {
      "text/html": [
       "<div>\n",
       "<style scoped>\n",
       "    .dataframe tbody tr th:only-of-type {\n",
       "        vertical-align: middle;\n",
       "    }\n",
       "\n",
       "    .dataframe tbody tr th {\n",
       "        vertical-align: top;\n",
       "    }\n",
       "\n",
       "    .dataframe thead th {\n",
       "        text-align: right;\n",
       "    }\n",
       "</style>\n",
       "<table border=\"1\" class=\"dataframe\">\n",
       "  <thead>\n",
       "    <tr style=\"text-align: right;\">\n",
       "      <th></th>\n",
       "      <th>index</th>\n",
       "      <th>id</th>\n",
       "      <th>node1</th>\n",
       "      <th>label</th>\n",
       "      <th>node2</th>\n",
       "      <th>ignore</th>\n",
       "      <th>url</th>\n",
       "      <th>ignore2</th>\n",
       "      <th>abstract</th>\n",
       "    </tr>\n",
       "  </thead>\n",
       "  <tbody>\n",
       "    <tr>\n",
       "      <th>0</th>\n",
       "      <td></td>\n",
       "      <td>Q956244-wikipedia_sitelink-539183-0</td>\n",
       "      <td>Q956244</td>\n",
       "      <td>wikipedia_sitelink</td>\n",
       "      <td>http://en.wikipedia.org/wiki///</td>\n",
       "      <td>NaN</td>\n",
       "      <td>NaN</td>\n",
       "      <td>NaN</td>\n",
       "      <td>NaN</td>\n",
       "    </tr>\n",
       "    <tr>\n",
       "      <th>1</th>\n",
       "      <td>!!</td>\n",
       "      <td>Q353153-wikipedia_sitelink-d716fb-0</td>\n",
       "      <td>Q353153</td>\n",
       "      <td>wikipedia_sitelink</td>\n",
       "      <td>http://en.wikipedia.org/wiki/!!</td>\n",
       "      <td>NaN</td>\n",
       "      <td>NaN</td>\n",
       "      <td>NaN</td>\n",
       "      <td>NaN</td>\n",
       "    </tr>\n",
       "    <tr>\n",
       "      <th>2</th>\n",
       "      <td>!!!</td>\n",
       "      <td>Q371-wikipedia_sitelink-628937-0</td>\n",
       "      <td>Q371</td>\n",
       "      <td>wikipedia_sitelink</td>\n",
       "      <td>http://en.wikipedia.org/wiki/!!!</td>\n",
       "      <td>211415.0</td>\n",
       "      <td>&lt;http://dbpedia.org/resource/!!!&gt;</td>\n",
       "      <td>&lt;http://www.w3.org/2000/01/rdf-schema#comment&gt;</td>\n",
       "      <td>!!! ( chk-chk-chk) is an American dance-punk b...</td>\n",
       "    </tr>\n",
       "    <tr>\n",
       "      <th>3</th>\n",
       "      <td>!!!!!!!</td>\n",
       "      <td>Q91868926-wikipedia_sitelink-d58178-0</td>\n",
       "      <td>Q91868926</td>\n",
       "      <td>wikipedia_sitelink</td>\n",
       "      <td>http://en.wikipedia.org/wiki/!!!!!!!</td>\n",
       "      <td>NaN</td>\n",
       "      <td>NaN</td>\n",
       "      <td>NaN</td>\n",
       "      <td>NaN</td>\n",
       "    </tr>\n",
       "    <tr>\n",
       "      <th>4</th>\n",
       "      <td>!!!_(album)</td>\n",
       "      <td>Q2705922-wikipedia_sitelink-e96003-0</td>\n",
       "      <td>Q2705922</td>\n",
       "      <td>wikipedia_sitelink</td>\n",
       "      <td>http://en.wikipedia.org/wiki/!!!_(album)</td>\n",
       "      <td>584428.0</td>\n",
       "      <td>&lt;http://dbpedia.org/resource/!!!_(album)&gt;</td>\n",
       "      <td>&lt;http://www.w3.org/2000/01/rdf-schema#comment&gt;</td>\n",
       "      <td>!!! is the eponymous debut studio album by dan...</td>\n",
       "    </tr>\n",
       "  </tbody>\n",
       "</table>\n",
       "</div>"
      ],
      "text/plain": [
       "         index                                     id      node1  \\\n",
       "0                 Q956244-wikipedia_sitelink-539183-0    Q956244   \n",
       "1           !!    Q353153-wikipedia_sitelink-d716fb-0    Q353153   \n",
       "2          !!!       Q371-wikipedia_sitelink-628937-0       Q371   \n",
       "3      !!!!!!!  Q91868926-wikipedia_sitelink-d58178-0  Q91868926   \n",
       "4  !!!_(album)   Q2705922-wikipedia_sitelink-e96003-0   Q2705922   \n",
       "\n",
       "                label                                     node2    ignore  \\\n",
       "0  wikipedia_sitelink           http://en.wikipedia.org/wiki///       NaN   \n",
       "1  wikipedia_sitelink           http://en.wikipedia.org/wiki/!!       NaN   \n",
       "2  wikipedia_sitelink          http://en.wikipedia.org/wiki/!!!  211415.0   \n",
       "3  wikipedia_sitelink      http://en.wikipedia.org/wiki/!!!!!!!       NaN   \n",
       "4  wikipedia_sitelink  http://en.wikipedia.org/wiki/!!!_(album)  584428.0   \n",
       "\n",
       "                                         url  \\\n",
       "0                                        NaN   \n",
       "1                                        NaN   \n",
       "2          <http://dbpedia.org/resource/!!!>   \n",
       "3                                        NaN   \n",
       "4  <http://dbpedia.org/resource/!!!_(album)>   \n",
       "\n",
       "                                          ignore2  \\\n",
       "0                                             NaN   \n",
       "1                                             NaN   \n",
       "2  <http://www.w3.org/2000/01/rdf-schema#comment>   \n",
       "3                                             NaN   \n",
       "4  <http://www.w3.org/2000/01/rdf-schema#comment>   \n",
       "\n",
       "                                            abstract  \n",
       "0                                                NaN  \n",
       "1                                                NaN  \n",
       "2  !!! ( chk-chk-chk) is an American dance-punk b...  \n",
       "3                                                NaN  \n",
       "4  !!! is the eponymous debut studio album by dan...  "
      ]
     },
     "execution_count": 31,
     "metadata": {},
     "output_type": "execute_result"
    }
   ],
   "source": [
    "abstractsDF2.head()"
   ]
  },
  {
   "cell_type": "code",
   "execution_count": 32,
   "id": "existing-disabled",
   "metadata": {
    "hidden": true
   },
   "outputs": [
    {
     "name": "stdout",
     "output_type": "stream",
     "text": [
      "From 8472828 Qnodes, there are 2741574 sitelink Qnodes which do not have a short abstract i.e 5731254 have a short abstract\n"
     ]
    }
   ],
   "source": [
    "print(f\"From {len(abstractsDF2)} Qnodes, there are {abstractsDF2.ignore2.isna().sum()} sitelink Qnodes which do not have a short abstract i.e {len(abstractsDF2) - abstractsDF2.ignore2.isna().sum()} have a short abstract\")\n"
   ]
  },
  {
   "cell_type": "code",
   "execution_count": null,
   "id": "normal-rachel",
   "metadata": {
    "hidden": true
   },
   "outputs": [],
   "source": []
  },
  {
   "cell_type": "markdown",
   "id": "attempted-scotland",
   "metadata": {},
   "source": [
    "# Join list of similarity file Qnodes with File Y"
   ]
  },
  {
   "cell_type": "code",
   "execution_count": 29,
   "id": "premier-attack",
   "metadata": {},
   "outputs": [],
   "source": [
    "temp1 = sitelinksDF2.join(df1)"
   ]
  },
  {
   "cell_type": "code",
   "execution_count": 30,
   "id": "disturbed-windsor",
   "metadata": {},
   "outputs": [],
   "source": [
    "temp2 = temp1.reset_index().set_index('node1')"
   ]
  },
  {
   "cell_type": "code",
   "execution_count": 31,
   "id": "southern-cookbook",
   "metadata": {},
   "outputs": [
    {
     "data": {
      "text/html": [
       "<div>\n",
       "<style scoped>\n",
       "    .dataframe tbody tr th:only-of-type {\n",
       "        vertical-align: middle;\n",
       "    }\n",
       "\n",
       "    .dataframe tbody tr th {\n",
       "        vertical-align: top;\n",
       "    }\n",
       "\n",
       "    .dataframe thead th {\n",
       "        text-align: right;\n",
       "    }\n",
       "</style>\n",
       "<table border=\"1\" class=\"dataframe\">\n",
       "  <thead>\n",
       "    <tr style=\"text-align: right;\">\n",
       "      <th></th>\n",
       "      <th>index</th>\n",
       "      <th>id</th>\n",
       "      <th>label</th>\n",
       "      <th>node2</th>\n",
       "      <th>ignore</th>\n",
       "      <th>url</th>\n",
       "      <th>ignore2</th>\n",
       "      <th>abstract</th>\n",
       "    </tr>\n",
       "    <tr>\n",
       "      <th>node1</th>\n",
       "      <th></th>\n",
       "      <th></th>\n",
       "      <th></th>\n",
       "      <th></th>\n",
       "      <th></th>\n",
       "      <th></th>\n",
       "      <th></th>\n",
       "      <th></th>\n",
       "    </tr>\n",
       "  </thead>\n",
       "  <tbody>\n",
       "    <tr>\n",
       "      <th>Q956244</th>\n",
       "      <td></td>\n",
       "      <td>Q956244-wikipedia_sitelink-539183-0</td>\n",
       "      <td>wikipedia_sitelink</td>\n",
       "      <td>http://en.wikipedia.org/wiki///</td>\n",
       "      <td>NaN</td>\n",
       "      <td>NaN</td>\n",
       "      <td>NaN</td>\n",
       "      <td>NaN</td>\n",
       "    </tr>\n",
       "    <tr>\n",
       "      <th>Q353153</th>\n",
       "      <td>!!</td>\n",
       "      <td>Q353153-wikipedia_sitelink-d716fb-0</td>\n",
       "      <td>wikipedia_sitelink</td>\n",
       "      <td>http://en.wikipedia.org/wiki/!!</td>\n",
       "      <td>NaN</td>\n",
       "      <td>NaN</td>\n",
       "      <td>NaN</td>\n",
       "      <td>NaN</td>\n",
       "    </tr>\n",
       "    <tr>\n",
       "      <th>Q371</th>\n",
       "      <td>!!!</td>\n",
       "      <td>Q371-wikipedia_sitelink-628937-0</td>\n",
       "      <td>wikipedia_sitelink</td>\n",
       "      <td>http://en.wikipedia.org/wiki/!!!</td>\n",
       "      <td>211415.0</td>\n",
       "      <td>&lt;http://dbpedia.org/resource/!!!&gt;</td>\n",
       "      <td>&lt;http://www.w3.org/2000/01/rdf-schema#comment&gt;</td>\n",
       "      <td>!!! ( chk-chk-chk) is an American dance-punk b...</td>\n",
       "    </tr>\n",
       "    <tr>\n",
       "      <th>Q91868926</th>\n",
       "      <td>!!!!!!!</td>\n",
       "      <td>Q91868926-wikipedia_sitelink-d58178-0</td>\n",
       "      <td>wikipedia_sitelink</td>\n",
       "      <td>http://en.wikipedia.org/wiki/!!!!!!!</td>\n",
       "      <td>NaN</td>\n",
       "      <td>NaN</td>\n",
       "      <td>NaN</td>\n",
       "      <td>NaN</td>\n",
       "    </tr>\n",
       "    <tr>\n",
       "      <th>Q2705922</th>\n",
       "      <td>!!!_(album)</td>\n",
       "      <td>Q2705922-wikipedia_sitelink-e96003-0</td>\n",
       "      <td>wikipedia_sitelink</td>\n",
       "      <td>http://en.wikipedia.org/wiki/!!!_(album)</td>\n",
       "      <td>584428.0</td>\n",
       "      <td>&lt;http://dbpedia.org/resource/!!!_(album)&gt;</td>\n",
       "      <td>&lt;http://www.w3.org/2000/01/rdf-schema#comment&gt;</td>\n",
       "      <td>!!! is the eponymous debut studio album by dan...</td>\n",
       "    </tr>\n",
       "  </tbody>\n",
       "</table>\n",
       "</div>"
      ],
      "text/plain": [
       "                 index                                     id  \\\n",
       "node1                                                           \n",
       "Q956244                   Q956244-wikipedia_sitelink-539183-0   \n",
       "Q353153             !!    Q353153-wikipedia_sitelink-d716fb-0   \n",
       "Q371               !!!       Q371-wikipedia_sitelink-628937-0   \n",
       "Q91868926      !!!!!!!  Q91868926-wikipedia_sitelink-d58178-0   \n",
       "Q2705922   !!!_(album)   Q2705922-wikipedia_sitelink-e96003-0   \n",
       "\n",
       "                        label                                     node2  \\\n",
       "node1                                                                     \n",
       "Q956244    wikipedia_sitelink           http://en.wikipedia.org/wiki///   \n",
       "Q353153    wikipedia_sitelink           http://en.wikipedia.org/wiki/!!   \n",
       "Q371       wikipedia_sitelink          http://en.wikipedia.org/wiki/!!!   \n",
       "Q91868926  wikipedia_sitelink      http://en.wikipedia.org/wiki/!!!!!!!   \n",
       "Q2705922   wikipedia_sitelink  http://en.wikipedia.org/wiki/!!!_(album)   \n",
       "\n",
       "             ignore                                        url  \\\n",
       "node1                                                            \n",
       "Q956244         NaN                                        NaN   \n",
       "Q353153         NaN                                        NaN   \n",
       "Q371       211415.0          <http://dbpedia.org/resource/!!!>   \n",
       "Q91868926       NaN                                        NaN   \n",
       "Q2705922   584428.0  <http://dbpedia.org/resource/!!!_(album)>   \n",
       "\n",
       "                                                  ignore2  \\\n",
       "node1                                                       \n",
       "Q956244                                               NaN   \n",
       "Q353153                                               NaN   \n",
       "Q371       <http://www.w3.org/2000/01/rdf-schema#comment>   \n",
       "Q91868926                                             NaN   \n",
       "Q2705922   <http://www.w3.org/2000/01/rdf-schema#comment>   \n",
       "\n",
       "                                                    abstract  \n",
       "node1                                                         \n",
       "Q956244                                                  NaN  \n",
       "Q353153                                                  NaN  \n",
       "Q371       !!! ( chk-chk-chk) is an American dance-punk b...  \n",
       "Q91868926                                                NaN  \n",
       "Q2705922   !!! is the eponymous debut studio album by dan...  "
      ]
     },
     "execution_count": 31,
     "metadata": {},
     "output_type": "execute_result"
    }
   ],
   "source": [
    "temp2.head()"
   ]
  },
  {
   "cell_type": "code",
   "execution_count": 38,
   "id": "ordinary-connectivity",
   "metadata": {},
   "outputs": [],
   "source": [
    "wordsimQNodesListWAbstractsDF = wordsimQNodesListDF1.join(temp2)"
   ]
  },
  {
   "cell_type": "code",
   "execution_count": 39,
   "id": "married-prior",
   "metadata": {},
   "outputs": [
    {
     "data": {
      "text/html": [
       "<div>\n",
       "<style scoped>\n",
       "    .dataframe tbody tr th:only-of-type {\n",
       "        vertical-align: middle;\n",
       "    }\n",
       "\n",
       "    .dataframe tbody tr th {\n",
       "        vertical-align: top;\n",
       "    }\n",
       "\n",
       "    .dataframe thead th {\n",
       "        text-align: right;\n",
       "    }\n",
       "</style>\n",
       "<table border=\"1\" class=\"dataframe\">\n",
       "  <thead>\n",
       "    <tr style=\"text-align: right;\">\n",
       "      <th></th>\n",
       "      <th>index</th>\n",
       "      <th>id</th>\n",
       "      <th>label</th>\n",
       "      <th>node2</th>\n",
       "      <th>ignore</th>\n",
       "      <th>url</th>\n",
       "      <th>ignore2</th>\n",
       "      <th>abstract</th>\n",
       "    </tr>\n",
       "    <tr>\n",
       "      <th>node1</th>\n",
       "      <th></th>\n",
       "      <th></th>\n",
       "      <th></th>\n",
       "      <th></th>\n",
       "      <th></th>\n",
       "      <th></th>\n",
       "      <th></th>\n",
       "      <th></th>\n",
       "    </tr>\n",
       "  </thead>\n",
       "  <tbody>\n",
       "    <tr>\n",
       "      <th>Q11499147</th>\n",
       "      <td>NaN</td>\n",
       "      <td>NaN</td>\n",
       "      <td>NaN</td>\n",
       "      <td>NaN</td>\n",
       "      <td>NaN</td>\n",
       "      <td>NaN</td>\n",
       "      <td>NaN</td>\n",
       "      <td>NaN</td>\n",
       "    </tr>\n",
       "    <tr>\n",
       "      <th>Q1048835</th>\n",
       "      <td>Political_division</td>\n",
       "      <td>Q1048835-wikipedia_sitelink-a3aa16-0</td>\n",
       "      <td>wikipedia_sitelink</td>\n",
       "      <td>http://en.wikipedia.org/wiki/Political_division</td>\n",
       "      <td>NaN</td>\n",
       "      <td>NaN</td>\n",
       "      <td>NaN</td>\n",
       "      <td>NaN</td>\n",
       "    </tr>\n",
       "    <tr>\n",
       "      <th>Q27096235</th>\n",
       "      <td>NaN</td>\n",
       "      <td>NaN</td>\n",
       "      <td>NaN</td>\n",
       "      <td>NaN</td>\n",
       "      <td>NaN</td>\n",
       "      <td>NaN</td>\n",
       "      <td>NaN</td>\n",
       "      <td>NaN</td>\n",
       "    </tr>\n",
       "    <tr>\n",
       "      <th>Q48352</th>\n",
       "      <td>Head_of_state</td>\n",
       "      <td>Q48352-wikipedia_sitelink-0ba458-0</td>\n",
       "      <td>wikipedia_sitelink</td>\n",
       "      <td>http://en.wikipedia.org/wiki/Head_of_state</td>\n",
       "      <td>5945.0</td>\n",
       "      <td>&lt;http://dbpedia.org/resource/Head_of_state&gt;</td>\n",
       "      <td>&lt;http://www.w3.org/2000/01/rdf-schema#comment&gt;</td>\n",
       "      <td>A head of state (or chief of state) is the pub...</td>\n",
       "    </tr>\n",
       "    <tr>\n",
       "      <th>Q83307</th>\n",
       "      <td>Minister_(government)</td>\n",
       "      <td>Q83307-wikipedia_sitelink-519dcf-0</td>\n",
       "      <td>wikipedia_sitelink</td>\n",
       "      <td>http://en.wikipedia.org/wiki/Minister_(governm...</td>\n",
       "      <td>243508.0</td>\n",
       "      <td>&lt;http://dbpedia.org/resource/Minister_(governm...</td>\n",
       "      <td>&lt;http://www.w3.org/2000/01/rdf-schema#comment&gt;</td>\n",
       "      <td>A minister is a politician who heads a ministr...</td>\n",
       "    </tr>\n",
       "  </tbody>\n",
       "</table>\n",
       "</div>"
      ],
      "text/plain": [
       "                           index                                    id  \\\n",
       "node1                                                                    \n",
       "Q11499147                    NaN                                   NaN   \n",
       "Q1048835      Political_division  Q1048835-wikipedia_sitelink-a3aa16-0   \n",
       "Q27096235                    NaN                                   NaN   \n",
       "Q48352             Head_of_state    Q48352-wikipedia_sitelink-0ba458-0   \n",
       "Q83307     Minister_(government)    Q83307-wikipedia_sitelink-519dcf-0   \n",
       "\n",
       "                        label  \\\n",
       "node1                           \n",
       "Q11499147                 NaN   \n",
       "Q1048835   wikipedia_sitelink   \n",
       "Q27096235                 NaN   \n",
       "Q48352     wikipedia_sitelink   \n",
       "Q83307     wikipedia_sitelink   \n",
       "\n",
       "                                                       node2    ignore  \\\n",
       "node1                                                                    \n",
       "Q11499147                                                NaN       NaN   \n",
       "Q1048835     http://en.wikipedia.org/wiki/Political_division       NaN   \n",
       "Q27096235                                                NaN       NaN   \n",
       "Q48352            http://en.wikipedia.org/wiki/Head_of_state    5945.0   \n",
       "Q83307     http://en.wikipedia.org/wiki/Minister_(governm...  243508.0   \n",
       "\n",
       "                                                         url  \\\n",
       "node1                                                          \n",
       "Q11499147                                                NaN   \n",
       "Q1048835                                                 NaN   \n",
       "Q27096235                                                NaN   \n",
       "Q48352           <http://dbpedia.org/resource/Head_of_state>   \n",
       "Q83307     <http://dbpedia.org/resource/Minister_(governm...   \n",
       "\n",
       "                                                  ignore2  \\\n",
       "node1                                                       \n",
       "Q11499147                                             NaN   \n",
       "Q1048835                                              NaN   \n",
       "Q27096235                                             NaN   \n",
       "Q48352     <http://www.w3.org/2000/01/rdf-schema#comment>   \n",
       "Q83307     <http://www.w3.org/2000/01/rdf-schema#comment>   \n",
       "\n",
       "                                                    abstract  \n",
       "node1                                                         \n",
       "Q11499147                                                NaN  \n",
       "Q1048835                                                 NaN  \n",
       "Q27096235                                                NaN  \n",
       "Q48352     A head of state (or chief of state) is the pub...  \n",
       "Q83307     A minister is a politician who heads a ministr...  "
      ]
     },
     "execution_count": 39,
     "metadata": {},
     "output_type": "execute_result"
    }
   ],
   "source": [
    "wordsimQNodesListWAbstractsDF.head()"
   ]
  },
  {
   "cell_type": "code",
   "execution_count": 40,
   "id": "durable-keeping",
   "metadata": {},
   "outputs": [
    {
     "data": {
      "text/plain": [
       "9"
      ]
     },
     "execution_count": 40,
     "metadata": {},
     "output_type": "execute_result"
    }
   ],
   "source": [
    "wordsimQNodesListWAbstractsDF.abstract.isna().sum()"
   ]
  },
  {
   "cell_type": "code",
   "execution_count": 41,
   "id": "oriental-devices",
   "metadata": {},
   "outputs": [
    {
     "data": {
      "text/plain": [
       "22"
      ]
     },
     "execution_count": 41,
     "metadata": {},
     "output_type": "execute_result"
    }
   ],
   "source": [
    "len(set(wordsimQNodesListWAbstractsDF[~wordsimQNodesListWAbstractsDF.abstract.isna()].index.to_list()))\n"
   ]
  },
  {
   "cell_type": "code",
   "execution_count": null,
   "id": "dominican-illinois",
   "metadata": {},
   "outputs": [],
   "source": []
  },
  {
   "cell_type": "code",
   "execution_count": 42,
   "id": "afraid-asian",
   "metadata": {},
   "outputs": [
    {
     "data": {
      "text/plain": [
       "31"
      ]
     },
     "execution_count": 42,
     "metadata": {},
     "output_type": "execute_result"
    }
   ],
   "source": [
    "len(set(wordsimQNodesListWAbstractsDF.index.to_list()))"
   ]
  },
  {
   "cell_type": "markdown",
   "id": "beneficial-dynamics",
   "metadata": {},
   "source": [
    "# Adding labels from labels.en"
   ]
  },
  {
   "cell_type": "code",
   "execution_count": 43,
   "id": "satisfactory-nickname",
   "metadata": {},
   "outputs": [],
   "source": [
    "labelsDF = pd.read_csv('../data/labels.en.tsv', sep='\\t')"
   ]
  },
  {
   "cell_type": "code",
   "execution_count": 44,
   "id": "potential-vegetable",
   "metadata": {},
   "outputs": [
    {
     "data": {
      "text/html": [
       "<div>\n",
       "<style scoped>\n",
       "    .dataframe tbody tr th:only-of-type {\n",
       "        vertical-align: middle;\n",
       "    }\n",
       "\n",
       "    .dataframe tbody tr th {\n",
       "        vertical-align: top;\n",
       "    }\n",
       "\n",
       "    .dataframe thead th {\n",
       "        text-align: right;\n",
       "    }\n",
       "</style>\n",
       "<table border=\"1\" class=\"dataframe\">\n",
       "  <thead>\n",
       "    <tr style=\"text-align: right;\">\n",
       "      <th></th>\n",
       "      <th>id</th>\n",
       "      <th>node1</th>\n",
       "      <th>label</th>\n",
       "      <th>node2</th>\n",
       "    </tr>\n",
       "  </thead>\n",
       "  <tbody>\n",
       "    <tr>\n",
       "      <th>0</th>\n",
       "      <td>P10-label-en</td>\n",
       "      <td>P10</td>\n",
       "      <td>label</td>\n",
       "      <td>'video'@en</td>\n",
       "    </tr>\n",
       "    <tr>\n",
       "      <th>1</th>\n",
       "      <td>P1000-label-en</td>\n",
       "      <td>P1000</td>\n",
       "      <td>label</td>\n",
       "      <td>'record held'@en</td>\n",
       "    </tr>\n",
       "    <tr>\n",
       "      <th>2</th>\n",
       "      <td>P1001-label-en</td>\n",
       "      <td>P1001</td>\n",
       "      <td>label</td>\n",
       "      <td>'applies to jurisdiction'@en</td>\n",
       "    </tr>\n",
       "    <tr>\n",
       "      <th>3</th>\n",
       "      <td>P1002-label-en</td>\n",
       "      <td>P1002</td>\n",
       "      <td>label</td>\n",
       "      <td>'engine configuration'@en</td>\n",
       "    </tr>\n",
       "    <tr>\n",
       "      <th>4</th>\n",
       "      <td>P1003-label-en</td>\n",
       "      <td>P1003</td>\n",
       "      <td>label</td>\n",
       "      <td>'National Library of Romania ID'@en</td>\n",
       "    </tr>\n",
       "  </tbody>\n",
       "</table>\n",
       "</div>"
      ],
      "text/plain": [
       "               id  node1  label                                node2\n",
       "0    P10-label-en    P10  label                           'video'@en\n",
       "1  P1000-label-en  P1000  label                     'record held'@en\n",
       "2  P1001-label-en  P1001  label         'applies to jurisdiction'@en\n",
       "3  P1002-label-en  P1002  label            'engine configuration'@en\n",
       "4  P1003-label-en  P1003  label  'National Library of Romania ID'@en"
      ]
     },
     "execution_count": 44,
     "metadata": {},
     "output_type": "execute_result"
    }
   ],
   "source": [
    "labelsDF.head()"
   ]
  },
  {
   "cell_type": "code",
   "execution_count": 45,
   "id": "significant-cross",
   "metadata": {},
   "outputs": [],
   "source": [
    "wordsimQNodesListWAbstractsLabelsDF = wordsimQNodesListWAbstractsDF.join(labelsDF.set_index('node1'), rsuffix='_labelsDF')"
   ]
  },
  {
   "cell_type": "code",
   "execution_count": 46,
   "id": "bigger-separation",
   "metadata": {},
   "outputs": [
    {
     "data": {
      "text/html": [
       "<div>\n",
       "<style scoped>\n",
       "    .dataframe tbody tr th:only-of-type {\n",
       "        vertical-align: middle;\n",
       "    }\n",
       "\n",
       "    .dataframe tbody tr th {\n",
       "        vertical-align: top;\n",
       "    }\n",
       "\n",
       "    .dataframe thead th {\n",
       "        text-align: right;\n",
       "    }\n",
       "</style>\n",
       "<table border=\"1\" class=\"dataframe\">\n",
       "  <thead>\n",
       "    <tr style=\"text-align: right;\">\n",
       "      <th></th>\n",
       "      <th>index</th>\n",
       "      <th>id</th>\n",
       "      <th>label</th>\n",
       "      <th>node2</th>\n",
       "      <th>ignore</th>\n",
       "      <th>url</th>\n",
       "      <th>ignore2</th>\n",
       "      <th>abstract</th>\n",
       "      <th>id_labelsDF</th>\n",
       "      <th>label_labelsDF</th>\n",
       "      <th>node2_labelsDF</th>\n",
       "    </tr>\n",
       "    <tr>\n",
       "      <th>node1</th>\n",
       "      <th></th>\n",
       "      <th></th>\n",
       "      <th></th>\n",
       "      <th></th>\n",
       "      <th></th>\n",
       "      <th></th>\n",
       "      <th></th>\n",
       "      <th></th>\n",
       "      <th></th>\n",
       "      <th></th>\n",
       "      <th></th>\n",
       "    </tr>\n",
       "  </thead>\n",
       "  <tbody>\n",
       "    <tr>\n",
       "      <th>Q11499147</th>\n",
       "      <td>NaN</td>\n",
       "      <td>NaN</td>\n",
       "      <td>NaN</td>\n",
       "      <td>NaN</td>\n",
       "      <td>NaN</td>\n",
       "      <td>NaN</td>\n",
       "      <td>NaN</td>\n",
       "      <td>NaN</td>\n",
       "      <td>Q11499147-label-en</td>\n",
       "      <td>label</td>\n",
       "      <td>'political activist'@en</td>\n",
       "    </tr>\n",
       "    <tr>\n",
       "      <th>Q1048835</th>\n",
       "      <td>Political_division</td>\n",
       "      <td>Q1048835-wikipedia_sitelink-a3aa16-0</td>\n",
       "      <td>wikipedia_sitelink</td>\n",
       "      <td>http://en.wikipedia.org/wiki/Political_division</td>\n",
       "      <td>NaN</td>\n",
       "      <td>NaN</td>\n",
       "      <td>NaN</td>\n",
       "      <td>NaN</td>\n",
       "      <td>Q1048835-label-en</td>\n",
       "      <td>label</td>\n",
       "      <td>'political territorial entity'@en</td>\n",
       "    </tr>\n",
       "    <tr>\n",
       "      <th>Q27096235</th>\n",
       "      <td>NaN</td>\n",
       "      <td>NaN</td>\n",
       "      <td>NaN</td>\n",
       "      <td>NaN</td>\n",
       "      <td>NaN</td>\n",
       "      <td>NaN</td>\n",
       "      <td>NaN</td>\n",
       "      <td>NaN</td>\n",
       "      <td>Q27096235-label-en</td>\n",
       "      <td>label</td>\n",
       "      <td>'artificial geographic entity'@en</td>\n",
       "    </tr>\n",
       "    <tr>\n",
       "      <th>Q48352</th>\n",
       "      <td>Head_of_state</td>\n",
       "      <td>Q48352-wikipedia_sitelink-0ba458-0</td>\n",
       "      <td>wikipedia_sitelink</td>\n",
       "      <td>http://en.wikipedia.org/wiki/Head_of_state</td>\n",
       "      <td>5945.0</td>\n",
       "      <td>&lt;http://dbpedia.org/resource/Head_of_state&gt;</td>\n",
       "      <td>&lt;http://www.w3.org/2000/01/rdf-schema#comment&gt;</td>\n",
       "      <td>A head of state (or chief of state) is the pub...</td>\n",
       "      <td>Q48352-label-en</td>\n",
       "      <td>label</td>\n",
       "      <td>'head of state'@en</td>\n",
       "    </tr>\n",
       "    <tr>\n",
       "      <th>Q83307</th>\n",
       "      <td>Minister_(government)</td>\n",
       "      <td>Q83307-wikipedia_sitelink-519dcf-0</td>\n",
       "      <td>wikipedia_sitelink</td>\n",
       "      <td>http://en.wikipedia.org/wiki/Minister_(governm...</td>\n",
       "      <td>243508.0</td>\n",
       "      <td>&lt;http://dbpedia.org/resource/Minister_(governm...</td>\n",
       "      <td>&lt;http://www.w3.org/2000/01/rdf-schema#comment&gt;</td>\n",
       "      <td>A minister is a politician who heads a ministr...</td>\n",
       "      <td>Q83307-label-en</td>\n",
       "      <td>label</td>\n",
       "      <td>'minister'@en</td>\n",
       "    </tr>\n",
       "  </tbody>\n",
       "</table>\n",
       "</div>"
      ],
      "text/plain": [
       "                           index                                    id  \\\n",
       "node1                                                                    \n",
       "Q11499147                    NaN                                   NaN   \n",
       "Q1048835      Political_division  Q1048835-wikipedia_sitelink-a3aa16-0   \n",
       "Q27096235                    NaN                                   NaN   \n",
       "Q48352             Head_of_state    Q48352-wikipedia_sitelink-0ba458-0   \n",
       "Q83307     Minister_(government)    Q83307-wikipedia_sitelink-519dcf-0   \n",
       "\n",
       "                        label  \\\n",
       "node1                           \n",
       "Q11499147                 NaN   \n",
       "Q1048835   wikipedia_sitelink   \n",
       "Q27096235                 NaN   \n",
       "Q48352     wikipedia_sitelink   \n",
       "Q83307     wikipedia_sitelink   \n",
       "\n",
       "                                                       node2    ignore  \\\n",
       "node1                                                                    \n",
       "Q11499147                                                NaN       NaN   \n",
       "Q1048835     http://en.wikipedia.org/wiki/Political_division       NaN   \n",
       "Q27096235                                                NaN       NaN   \n",
       "Q48352            http://en.wikipedia.org/wiki/Head_of_state    5945.0   \n",
       "Q83307     http://en.wikipedia.org/wiki/Minister_(governm...  243508.0   \n",
       "\n",
       "                                                         url  \\\n",
       "node1                                                          \n",
       "Q11499147                                                NaN   \n",
       "Q1048835                                                 NaN   \n",
       "Q27096235                                                NaN   \n",
       "Q48352           <http://dbpedia.org/resource/Head_of_state>   \n",
       "Q83307     <http://dbpedia.org/resource/Minister_(governm...   \n",
       "\n",
       "                                                  ignore2  \\\n",
       "node1                                                       \n",
       "Q11499147                                             NaN   \n",
       "Q1048835                                              NaN   \n",
       "Q27096235                                             NaN   \n",
       "Q48352     <http://www.w3.org/2000/01/rdf-schema#comment>   \n",
       "Q83307     <http://www.w3.org/2000/01/rdf-schema#comment>   \n",
       "\n",
       "                                                    abstract  \\\n",
       "node1                                                          \n",
       "Q11499147                                                NaN   \n",
       "Q1048835                                                 NaN   \n",
       "Q27096235                                                NaN   \n",
       "Q48352     A head of state (or chief of state) is the pub...   \n",
       "Q83307     A minister is a politician who heads a ministr...   \n",
       "\n",
       "                  id_labelsDF label_labelsDF  \\\n",
       "node1                                          \n",
       "Q11499147  Q11499147-label-en          label   \n",
       "Q1048835    Q1048835-label-en          label   \n",
       "Q27096235  Q27096235-label-en          label   \n",
       "Q48352        Q48352-label-en          label   \n",
       "Q83307        Q83307-label-en          label   \n",
       "\n",
       "                              node2_labelsDF  \n",
       "node1                                         \n",
       "Q11499147            'political activist'@en  \n",
       "Q1048835   'political territorial entity'@en  \n",
       "Q27096235  'artificial geographic entity'@en  \n",
       "Q48352                    'head of state'@en  \n",
       "Q83307                         'minister'@en  "
      ]
     },
     "execution_count": 46,
     "metadata": {},
     "output_type": "execute_result"
    }
   ],
   "source": [
    "wordsimQNodesListWAbstractsLabelsDF.head()"
   ]
  },
  {
   "cell_type": "code",
   "execution_count": 47,
   "id": "native-british",
   "metadata": {},
   "outputs": [],
   "source": [
    "wordsimQNodesListWAbstractsLabelsDF = wordsimQNodesListWAbstractsLabelsDF.drop(columns=['id_labelsDF', 'label_labelsDF'])"
   ]
  },
  {
   "cell_type": "code",
   "execution_count": 48,
   "id": "popular-harmony",
   "metadata": {},
   "outputs": [],
   "source": [
    "temp123 = wordsimQNodesListWAbstractsLabelsDF.node2_labelsDF.apply(lambda p: type(p))"
   ]
  },
  {
   "cell_type": "code",
   "execution_count": 49,
   "id": "adolescent-panama",
   "metadata": {},
   "outputs": [
    {
     "data": {
      "text/html": [
       "<div>\n",
       "<style scoped>\n",
       "    .dataframe tbody tr th:only-of-type {\n",
       "        vertical-align: middle;\n",
       "    }\n",
       "\n",
       "    .dataframe tbody tr th {\n",
       "        vertical-align: top;\n",
       "    }\n",
       "\n",
       "    .dataframe thead th {\n",
       "        text-align: right;\n",
       "    }\n",
       "</style>\n",
       "<table border=\"1\" class=\"dataframe\">\n",
       "  <thead>\n",
       "    <tr style=\"text-align: right;\">\n",
       "      <th></th>\n",
       "      <th>index</th>\n",
       "      <th>id</th>\n",
       "      <th>label</th>\n",
       "      <th>node2</th>\n",
       "      <th>ignore</th>\n",
       "      <th>url</th>\n",
       "      <th>ignore2</th>\n",
       "      <th>abstract</th>\n",
       "      <th>node2_labelsDF</th>\n",
       "    </tr>\n",
       "    <tr>\n",
       "      <th>node1</th>\n",
       "      <th></th>\n",
       "      <th></th>\n",
       "      <th></th>\n",
       "      <th></th>\n",
       "      <th></th>\n",
       "      <th></th>\n",
       "      <th></th>\n",
       "      <th></th>\n",
       "      <th></th>\n",
       "    </tr>\n",
       "  </thead>\n",
       "  <tbody>\n",
       "  </tbody>\n",
       "</table>\n",
       "</div>"
      ],
      "text/plain": [
       "Empty DataFrame\n",
       "Columns: [index, id, label, node2, ignore, url, ignore2, abstract, node2_labelsDF]\n",
       "Index: []"
      ]
     },
     "execution_count": 49,
     "metadata": {},
     "output_type": "execute_result"
    }
   ],
   "source": [
    "wordsimQNodesListWAbstractsLabelsDF[temp123 != str]"
   ]
  },
  {
   "cell_type": "code",
   "execution_count": 50,
   "id": "twenty-purpose",
   "metadata": {},
   "outputs": [],
   "source": [
    "wordsimQNodesListWAbstractsLabelsDF.node2_labelsDF = wordsimQNodesListWAbstractsLabelsDF.node2_labelsDF.apply(lambda p: p[1:-4] if type(p) == str else p)"
   ]
  },
  {
   "cell_type": "code",
   "execution_count": 51,
   "id": "beginning-department",
   "metadata": {},
   "outputs": [
    {
     "data": {
      "text/html": [
       "<div>\n",
       "<style scoped>\n",
       "    .dataframe tbody tr th:only-of-type {\n",
       "        vertical-align: middle;\n",
       "    }\n",
       "\n",
       "    .dataframe tbody tr th {\n",
       "        vertical-align: top;\n",
       "    }\n",
       "\n",
       "    .dataframe thead th {\n",
       "        text-align: right;\n",
       "    }\n",
       "</style>\n",
       "<table border=\"1\" class=\"dataframe\">\n",
       "  <thead>\n",
       "    <tr style=\"text-align: right;\">\n",
       "      <th></th>\n",
       "      <th>index</th>\n",
       "      <th>id</th>\n",
       "      <th>label</th>\n",
       "      <th>node2</th>\n",
       "      <th>ignore</th>\n",
       "      <th>url</th>\n",
       "      <th>ignore2</th>\n",
       "      <th>abstract</th>\n",
       "      <th>node2_labelsDF</th>\n",
       "    </tr>\n",
       "    <tr>\n",
       "      <th>node1</th>\n",
       "      <th></th>\n",
       "      <th></th>\n",
       "      <th></th>\n",
       "      <th></th>\n",
       "      <th></th>\n",
       "      <th></th>\n",
       "      <th></th>\n",
       "      <th></th>\n",
       "      <th></th>\n",
       "    </tr>\n",
       "  </thead>\n",
       "  <tbody>\n",
       "    <tr>\n",
       "      <th>Q11499147</th>\n",
       "      <td>NaN</td>\n",
       "      <td>NaN</td>\n",
       "      <td>NaN</td>\n",
       "      <td>NaN</td>\n",
       "      <td>NaN</td>\n",
       "      <td>NaN</td>\n",
       "      <td>NaN</td>\n",
       "      <td>NaN</td>\n",
       "      <td>political activist</td>\n",
       "    </tr>\n",
       "    <tr>\n",
       "      <th>Q1048835</th>\n",
       "      <td>Political_division</td>\n",
       "      <td>Q1048835-wikipedia_sitelink-a3aa16-0</td>\n",
       "      <td>wikipedia_sitelink</td>\n",
       "      <td>http://en.wikipedia.org/wiki/Political_division</td>\n",
       "      <td>NaN</td>\n",
       "      <td>NaN</td>\n",
       "      <td>NaN</td>\n",
       "      <td>NaN</td>\n",
       "      <td>political territorial entity</td>\n",
       "    </tr>\n",
       "    <tr>\n",
       "      <th>Q27096235</th>\n",
       "      <td>NaN</td>\n",
       "      <td>NaN</td>\n",
       "      <td>NaN</td>\n",
       "      <td>NaN</td>\n",
       "      <td>NaN</td>\n",
       "      <td>NaN</td>\n",
       "      <td>NaN</td>\n",
       "      <td>NaN</td>\n",
       "      <td>artificial geographic entity</td>\n",
       "    </tr>\n",
       "    <tr>\n",
       "      <th>Q48352</th>\n",
       "      <td>Head_of_state</td>\n",
       "      <td>Q48352-wikipedia_sitelink-0ba458-0</td>\n",
       "      <td>wikipedia_sitelink</td>\n",
       "      <td>http://en.wikipedia.org/wiki/Head_of_state</td>\n",
       "      <td>5945.0</td>\n",
       "      <td>&lt;http://dbpedia.org/resource/Head_of_state&gt;</td>\n",
       "      <td>&lt;http://www.w3.org/2000/01/rdf-schema#comment&gt;</td>\n",
       "      <td>A head of state (or chief of state) is the pub...</td>\n",
       "      <td>head of state</td>\n",
       "    </tr>\n",
       "    <tr>\n",
       "      <th>Q83307</th>\n",
       "      <td>Minister_(government)</td>\n",
       "      <td>Q83307-wikipedia_sitelink-519dcf-0</td>\n",
       "      <td>wikipedia_sitelink</td>\n",
       "      <td>http://en.wikipedia.org/wiki/Minister_(governm...</td>\n",
       "      <td>243508.0</td>\n",
       "      <td>&lt;http://dbpedia.org/resource/Minister_(governm...</td>\n",
       "      <td>&lt;http://www.w3.org/2000/01/rdf-schema#comment&gt;</td>\n",
       "      <td>A minister is a politician who heads a ministr...</td>\n",
       "      <td>minister</td>\n",
       "    </tr>\n",
       "  </tbody>\n",
       "</table>\n",
       "</div>"
      ],
      "text/plain": [
       "                           index                                    id  \\\n",
       "node1                                                                    \n",
       "Q11499147                    NaN                                   NaN   \n",
       "Q1048835      Political_division  Q1048835-wikipedia_sitelink-a3aa16-0   \n",
       "Q27096235                    NaN                                   NaN   \n",
       "Q48352             Head_of_state    Q48352-wikipedia_sitelink-0ba458-0   \n",
       "Q83307     Minister_(government)    Q83307-wikipedia_sitelink-519dcf-0   \n",
       "\n",
       "                        label  \\\n",
       "node1                           \n",
       "Q11499147                 NaN   \n",
       "Q1048835   wikipedia_sitelink   \n",
       "Q27096235                 NaN   \n",
       "Q48352     wikipedia_sitelink   \n",
       "Q83307     wikipedia_sitelink   \n",
       "\n",
       "                                                       node2    ignore  \\\n",
       "node1                                                                    \n",
       "Q11499147                                                NaN       NaN   \n",
       "Q1048835     http://en.wikipedia.org/wiki/Political_division       NaN   \n",
       "Q27096235                                                NaN       NaN   \n",
       "Q48352            http://en.wikipedia.org/wiki/Head_of_state    5945.0   \n",
       "Q83307     http://en.wikipedia.org/wiki/Minister_(governm...  243508.0   \n",
       "\n",
       "                                                         url  \\\n",
       "node1                                                          \n",
       "Q11499147                                                NaN   \n",
       "Q1048835                                                 NaN   \n",
       "Q27096235                                                NaN   \n",
       "Q48352           <http://dbpedia.org/resource/Head_of_state>   \n",
       "Q83307     <http://dbpedia.org/resource/Minister_(governm...   \n",
       "\n",
       "                                                  ignore2  \\\n",
       "node1                                                       \n",
       "Q11499147                                             NaN   \n",
       "Q1048835                                              NaN   \n",
       "Q27096235                                             NaN   \n",
       "Q48352     <http://www.w3.org/2000/01/rdf-schema#comment>   \n",
       "Q83307     <http://www.w3.org/2000/01/rdf-schema#comment>   \n",
       "\n",
       "                                                    abstract  \\\n",
       "node1                                                          \n",
       "Q11499147                                                NaN   \n",
       "Q1048835                                                 NaN   \n",
       "Q27096235                                                NaN   \n",
       "Q48352     A head of state (or chief of state) is the pub...   \n",
       "Q83307     A minister is a politician who heads a ministr...   \n",
       "\n",
       "                         node2_labelsDF  \n",
       "node1                                    \n",
       "Q11499147            political activist  \n",
       "Q1048835   political territorial entity  \n",
       "Q27096235  artificial geographic entity  \n",
       "Q48352                    head of state  \n",
       "Q83307                         minister  "
      ]
     },
     "execution_count": 51,
     "metadata": {},
     "output_type": "execute_result"
    }
   ],
   "source": [
    "wordsimQNodesListWAbstractsLabelsDF.head()"
   ]
  },
  {
   "cell_type": "code",
   "execution_count": 52,
   "id": "fifteen-patent",
   "metadata": {},
   "outputs": [],
   "source": [
    "wordsimQNodesListWAbstractsLabelsDF1 = wordsimQNodesListWAbstractsLabelsDF[~wordsimQNodesListWAbstractsLabelsDF.abstract.isna()]"
   ]
  },
  {
   "cell_type": "code",
   "execution_count": 53,
   "id": "structured-archive",
   "metadata": {},
   "outputs": [
    {
     "data": {
      "text/plain": [
       "22"
      ]
     },
     "execution_count": 53,
     "metadata": {},
     "output_type": "execute_result"
    }
   ],
   "source": [
    "len(wordsimQNodesListWAbstractsLabelsDF1)"
   ]
  },
  {
   "cell_type": "code",
   "execution_count": 54,
   "id": "shared-secretariat",
   "metadata": {},
   "outputs": [
    {
     "data": {
      "text/plain": [
       "0"
      ]
     },
     "execution_count": 54,
     "metadata": {},
     "output_type": "execute_result"
    }
   ],
   "source": [
    "wordsimQNodesListWAbstractsLabelsDF1.abstract.isna().sum()"
   ]
  },
  {
   "cell_type": "code",
   "execution_count": 55,
   "id": "fossil-courtesy",
   "metadata": {},
   "outputs": [
    {
     "data": {
      "text/html": [
       "<div>\n",
       "<style scoped>\n",
       "    .dataframe tbody tr th:only-of-type {\n",
       "        vertical-align: middle;\n",
       "    }\n",
       "\n",
       "    .dataframe tbody tr th {\n",
       "        vertical-align: top;\n",
       "    }\n",
       "\n",
       "    .dataframe thead th {\n",
       "        text-align: right;\n",
       "    }\n",
       "</style>\n",
       "<table border=\"1\" class=\"dataframe\">\n",
       "  <thead>\n",
       "    <tr style=\"text-align: right;\">\n",
       "      <th></th>\n",
       "      <th>index</th>\n",
       "      <th>id</th>\n",
       "      <th>label</th>\n",
       "      <th>node2</th>\n",
       "      <th>ignore</th>\n",
       "      <th>url</th>\n",
       "      <th>ignore2</th>\n",
       "      <th>abstract</th>\n",
       "      <th>node2_labelsDF</th>\n",
       "    </tr>\n",
       "    <tr>\n",
       "      <th>node1</th>\n",
       "      <th></th>\n",
       "      <th></th>\n",
       "      <th></th>\n",
       "      <th></th>\n",
       "      <th></th>\n",
       "      <th></th>\n",
       "      <th></th>\n",
       "      <th></th>\n",
       "      <th></th>\n",
       "    </tr>\n",
       "  </thead>\n",
       "  <tbody>\n",
       "    <tr>\n",
       "      <th>Q48352</th>\n",
       "      <td>Head_of_state</td>\n",
       "      <td>Q48352-wikipedia_sitelink-0ba458-0</td>\n",
       "      <td>wikipedia_sitelink</td>\n",
       "      <td>http://en.wikipedia.org/wiki/Head_of_state</td>\n",
       "      <td>5945.0</td>\n",
       "      <td>&lt;http://dbpedia.org/resource/Head_of_state&gt;</td>\n",
       "      <td>&lt;http://www.w3.org/2000/01/rdf-schema#comment&gt;</td>\n",
       "      <td>A head of state (or chief of state) is the pub...</td>\n",
       "      <td>head of state</td>\n",
       "    </tr>\n",
       "    <tr>\n",
       "      <th>Q83307</th>\n",
       "      <td>Minister_(government)</td>\n",
       "      <td>Q83307-wikipedia_sitelink-519dcf-0</td>\n",
       "      <td>wikipedia_sitelink</td>\n",
       "      <td>http://en.wikipedia.org/wiki/Minister_(governm...</td>\n",
       "      <td>243508.0</td>\n",
       "      <td>&lt;http://dbpedia.org/resource/Minister_(governm...</td>\n",
       "      <td>&lt;http://www.w3.org/2000/01/rdf-schema#comment&gt;</td>\n",
       "      <td>A minister is a politician who heads a ministr...</td>\n",
       "      <td>minister</td>\n",
       "    </tr>\n",
       "    <tr>\n",
       "      <th>Q702269</th>\n",
       "      <td>Professional</td>\n",
       "      <td>Q702269-wikipedia_sitelink-e8b4b7-0</td>\n",
       "      <td>wikipedia_sitelink</td>\n",
       "      <td>http://en.wikipedia.org/wiki/Professional</td>\n",
       "      <td>126325.0</td>\n",
       "      <td>&lt;http://dbpedia.org/resource/Professional&gt;</td>\n",
       "      <td>&lt;http://www.w3.org/2000/01/rdf-schema#comment&gt;</td>\n",
       "      <td>A professional is a member of a profession or ...</td>\n",
       "      <td>professional</td>\n",
       "    </tr>\n",
       "    <tr>\n",
       "      <th>Q1414937</th>\n",
       "      <td>Combatant</td>\n",
       "      <td>Q1414937-wikipedia_sitelink-e5fcb2-0</td>\n",
       "      <td>wikipedia_sitelink</td>\n",
       "      <td>http://en.wikipedia.org/wiki/Combatant</td>\n",
       "      <td>80578.0</td>\n",
       "      <td>&lt;http://dbpedia.org/resource/Combatant&gt;</td>\n",
       "      <td>&lt;http://www.w3.org/2000/01/rdf-schema#comment&gt;</td>\n",
       "      <td>Combatant is the legal status of an individual...</td>\n",
       "      <td>combatant</td>\n",
       "    </tr>\n",
       "    <tr>\n",
       "      <th>Q189290</th>\n",
       "      <td>Officer_(armed_forces)</td>\n",
       "      <td>Q189290-wikipedia_sitelink-baaa26-0</td>\n",
       "      <td>wikipedia_sitelink</td>\n",
       "      <td>http://en.wikipedia.org/wiki/Officer_(armed_fo...</td>\n",
       "      <td>3619863.0</td>\n",
       "      <td>&lt;http://dbpedia.org/resource/Officer_(armed_fo...</td>\n",
       "      <td>&lt;http://www.w3.org/2000/01/rdf-schema#comment&gt;</td>\n",
       "      <td>An officer is a member of an armed forces or u...</td>\n",
       "      <td>military officer</td>\n",
       "    </tr>\n",
       "  </tbody>\n",
       "</table>\n",
       "</div>"
      ],
      "text/plain": [
       "                           index                                    id  \\\n",
       "node1                                                                    \n",
       "Q48352             Head_of_state    Q48352-wikipedia_sitelink-0ba458-0   \n",
       "Q83307     Minister_(government)    Q83307-wikipedia_sitelink-519dcf-0   \n",
       "Q702269             Professional   Q702269-wikipedia_sitelink-e8b4b7-0   \n",
       "Q1414937               Combatant  Q1414937-wikipedia_sitelink-e5fcb2-0   \n",
       "Q189290   Officer_(armed_forces)   Q189290-wikipedia_sitelink-baaa26-0   \n",
       "\n",
       "                       label  \\\n",
       "node1                          \n",
       "Q48352    wikipedia_sitelink   \n",
       "Q83307    wikipedia_sitelink   \n",
       "Q702269   wikipedia_sitelink   \n",
       "Q1414937  wikipedia_sitelink   \n",
       "Q189290   wikipedia_sitelink   \n",
       "\n",
       "                                                      node2     ignore  \\\n",
       "node1                                                                    \n",
       "Q48352           http://en.wikipedia.org/wiki/Head_of_state     5945.0   \n",
       "Q83307    http://en.wikipedia.org/wiki/Minister_(governm...   243508.0   \n",
       "Q702269           http://en.wikipedia.org/wiki/Professional   126325.0   \n",
       "Q1414937             http://en.wikipedia.org/wiki/Combatant    80578.0   \n",
       "Q189290   http://en.wikipedia.org/wiki/Officer_(armed_fo...  3619863.0   \n",
       "\n",
       "                                                        url  \\\n",
       "node1                                                         \n",
       "Q48352          <http://dbpedia.org/resource/Head_of_state>   \n",
       "Q83307    <http://dbpedia.org/resource/Minister_(governm...   \n",
       "Q702269          <http://dbpedia.org/resource/Professional>   \n",
       "Q1414937            <http://dbpedia.org/resource/Combatant>   \n",
       "Q189290   <http://dbpedia.org/resource/Officer_(armed_fo...   \n",
       "\n",
       "                                                 ignore2  \\\n",
       "node1                                                      \n",
       "Q48352    <http://www.w3.org/2000/01/rdf-schema#comment>   \n",
       "Q83307    <http://www.w3.org/2000/01/rdf-schema#comment>   \n",
       "Q702269   <http://www.w3.org/2000/01/rdf-schema#comment>   \n",
       "Q1414937  <http://www.w3.org/2000/01/rdf-schema#comment>   \n",
       "Q189290   <http://www.w3.org/2000/01/rdf-schema#comment>   \n",
       "\n",
       "                                                   abstract    node2_labelsDF  \n",
       "node1                                                                          \n",
       "Q48352    A head of state (or chief of state) is the pub...     head of state  \n",
       "Q83307    A minister is a politician who heads a ministr...          minister  \n",
       "Q702269   A professional is a member of a profession or ...      professional  \n",
       "Q1414937  Combatant is the legal status of an individual...         combatant  \n",
       "Q189290   An officer is a member of an armed forces or u...  military officer  "
      ]
     },
     "execution_count": 55,
     "metadata": {},
     "output_type": "execute_result"
    }
   ],
   "source": [
    "wordsimQNodesListWAbstractsLabelsDF1.head()"
   ]
  },
  {
   "cell_type": "code",
   "execution_count": 56,
   "id": "compatible-september",
   "metadata": {},
   "outputs": [],
   "source": [
    "# wordsimQNodesListWAbstractsLabelsDF1.to_csv('../data/wordsimQNodesListWAbstractsLabelsDF1.csv')"
   ]
  },
  {
   "cell_type": "code",
   "execution_count": null,
   "id": "subject-access",
   "metadata": {},
   "outputs": [],
   "source": [
    "# wordsimQNodesListWAbstractsLabelsDF1 = pd.read_csv('../data/wordsimQNodesListWAbstractsLabelsDF1.csv').set_index('node1')"
   ]
  },
  {
   "cell_type": "code",
   "execution_count": 57,
   "id": "silver-structure",
   "metadata": {},
   "outputs": [],
   "source": [
    "wordsimQNodesListWAbstractsLabelsDF2 = wordsimQNodesListWAbstractsLabelsDF.copy()"
   ]
  },
  {
   "cell_type": "code",
   "execution_count": 58,
   "id": "dramatic-projection",
   "metadata": {},
   "outputs": [],
   "source": [
    "wordsimQNodesListWAbstractsLabelsDF2['abstract'] = wordsimQNodesListWAbstractsLabelsDF2.apply(lambda row: row.node2_labelsDF if pd.isna(row.abstract) else row.abstract, axis=1)"
   ]
  },
  {
   "cell_type": "code",
   "execution_count": 59,
   "id": "accessible-trunk",
   "metadata": {},
   "outputs": [
    {
     "data": {
      "text/html": [
       "<div>\n",
       "<style scoped>\n",
       "    .dataframe tbody tr th:only-of-type {\n",
       "        vertical-align: middle;\n",
       "    }\n",
       "\n",
       "    .dataframe tbody tr th {\n",
       "        vertical-align: top;\n",
       "    }\n",
       "\n",
       "    .dataframe thead th {\n",
       "        text-align: right;\n",
       "    }\n",
       "</style>\n",
       "<table border=\"1\" class=\"dataframe\">\n",
       "  <thead>\n",
       "    <tr style=\"text-align: right;\">\n",
       "      <th></th>\n",
       "      <th>index</th>\n",
       "      <th>id</th>\n",
       "      <th>label</th>\n",
       "      <th>node2</th>\n",
       "      <th>ignore</th>\n",
       "      <th>url</th>\n",
       "      <th>ignore2</th>\n",
       "      <th>abstract</th>\n",
       "      <th>node2_labelsDF</th>\n",
       "    </tr>\n",
       "    <tr>\n",
       "      <th>node1</th>\n",
       "      <th></th>\n",
       "      <th></th>\n",
       "      <th></th>\n",
       "      <th></th>\n",
       "      <th></th>\n",
       "      <th></th>\n",
       "      <th></th>\n",
       "      <th></th>\n",
       "      <th></th>\n",
       "    </tr>\n",
       "  </thead>\n",
       "  <tbody>\n",
       "    <tr>\n",
       "      <th>Q11499147</th>\n",
       "      <td>NaN</td>\n",
       "      <td>NaN</td>\n",
       "      <td>NaN</td>\n",
       "      <td>NaN</td>\n",
       "      <td>NaN</td>\n",
       "      <td>NaN</td>\n",
       "      <td>NaN</td>\n",
       "      <td>political activist</td>\n",
       "      <td>political activist</td>\n",
       "    </tr>\n",
       "    <tr>\n",
       "      <th>Q1048835</th>\n",
       "      <td>Political_division</td>\n",
       "      <td>Q1048835-wikipedia_sitelink-a3aa16-0</td>\n",
       "      <td>wikipedia_sitelink</td>\n",
       "      <td>http://en.wikipedia.org/wiki/Political_division</td>\n",
       "      <td>NaN</td>\n",
       "      <td>NaN</td>\n",
       "      <td>NaN</td>\n",
       "      <td>political territorial entity</td>\n",
       "      <td>political territorial entity</td>\n",
       "    </tr>\n",
       "    <tr>\n",
       "      <th>Q27096235</th>\n",
       "      <td>NaN</td>\n",
       "      <td>NaN</td>\n",
       "      <td>NaN</td>\n",
       "      <td>NaN</td>\n",
       "      <td>NaN</td>\n",
       "      <td>NaN</td>\n",
       "      <td>NaN</td>\n",
       "      <td>artificial geographic entity</td>\n",
       "      <td>artificial geographic entity</td>\n",
       "    </tr>\n",
       "    <tr>\n",
       "      <th>Q48352</th>\n",
       "      <td>Head_of_state</td>\n",
       "      <td>Q48352-wikipedia_sitelink-0ba458-0</td>\n",
       "      <td>wikipedia_sitelink</td>\n",
       "      <td>http://en.wikipedia.org/wiki/Head_of_state</td>\n",
       "      <td>5945.0</td>\n",
       "      <td>&lt;http://dbpedia.org/resource/Head_of_state&gt;</td>\n",
       "      <td>&lt;http://www.w3.org/2000/01/rdf-schema#comment&gt;</td>\n",
       "      <td>A head of state (or chief of state) is the pub...</td>\n",
       "      <td>head of state</td>\n",
       "    </tr>\n",
       "    <tr>\n",
       "      <th>Q83307</th>\n",
       "      <td>Minister_(government)</td>\n",
       "      <td>Q83307-wikipedia_sitelink-519dcf-0</td>\n",
       "      <td>wikipedia_sitelink</td>\n",
       "      <td>http://en.wikipedia.org/wiki/Minister_(governm...</td>\n",
       "      <td>243508.0</td>\n",
       "      <td>&lt;http://dbpedia.org/resource/Minister_(governm...</td>\n",
       "      <td>&lt;http://www.w3.org/2000/01/rdf-schema#comment&gt;</td>\n",
       "      <td>A minister is a politician who heads a ministr...</td>\n",
       "      <td>minister</td>\n",
       "    </tr>\n",
       "  </tbody>\n",
       "</table>\n",
       "</div>"
      ],
      "text/plain": [
       "                           index                                    id  \\\n",
       "node1                                                                    \n",
       "Q11499147                    NaN                                   NaN   \n",
       "Q1048835      Political_division  Q1048835-wikipedia_sitelink-a3aa16-0   \n",
       "Q27096235                    NaN                                   NaN   \n",
       "Q48352             Head_of_state    Q48352-wikipedia_sitelink-0ba458-0   \n",
       "Q83307     Minister_(government)    Q83307-wikipedia_sitelink-519dcf-0   \n",
       "\n",
       "                        label  \\\n",
       "node1                           \n",
       "Q11499147                 NaN   \n",
       "Q1048835   wikipedia_sitelink   \n",
       "Q27096235                 NaN   \n",
       "Q48352     wikipedia_sitelink   \n",
       "Q83307     wikipedia_sitelink   \n",
       "\n",
       "                                                       node2    ignore  \\\n",
       "node1                                                                    \n",
       "Q11499147                                                NaN       NaN   \n",
       "Q1048835     http://en.wikipedia.org/wiki/Political_division       NaN   \n",
       "Q27096235                                                NaN       NaN   \n",
       "Q48352            http://en.wikipedia.org/wiki/Head_of_state    5945.0   \n",
       "Q83307     http://en.wikipedia.org/wiki/Minister_(governm...  243508.0   \n",
       "\n",
       "                                                         url  \\\n",
       "node1                                                          \n",
       "Q11499147                                                NaN   \n",
       "Q1048835                                                 NaN   \n",
       "Q27096235                                                NaN   \n",
       "Q48352           <http://dbpedia.org/resource/Head_of_state>   \n",
       "Q83307     <http://dbpedia.org/resource/Minister_(governm...   \n",
       "\n",
       "                                                  ignore2  \\\n",
       "node1                                                       \n",
       "Q11499147                                             NaN   \n",
       "Q1048835                                              NaN   \n",
       "Q27096235                                             NaN   \n",
       "Q48352     <http://www.w3.org/2000/01/rdf-schema#comment>   \n",
       "Q83307     <http://www.w3.org/2000/01/rdf-schema#comment>   \n",
       "\n",
       "                                                    abstract  \\\n",
       "node1                                                          \n",
       "Q11499147                                 political activist   \n",
       "Q1048835                        political territorial entity   \n",
       "Q27096235                       artificial geographic entity   \n",
       "Q48352     A head of state (or chief of state) is the pub...   \n",
       "Q83307     A minister is a politician who heads a ministr...   \n",
       "\n",
       "                         node2_labelsDF  \n",
       "node1                                    \n",
       "Q11499147            political activist  \n",
       "Q1048835   political territorial entity  \n",
       "Q27096235  artificial geographic entity  \n",
       "Q48352                    head of state  \n",
       "Q83307                         minister  "
      ]
     },
     "execution_count": 59,
     "metadata": {},
     "output_type": "execute_result"
    }
   ],
   "source": [
    "wordsimQNodesListWAbstractsLabelsDF2.head()"
   ]
  },
  {
   "cell_type": "code",
   "execution_count": 60,
   "id": "colored-imagination",
   "metadata": {},
   "outputs": [
    {
     "data": {
      "text/plain": [
       "31"
      ]
     },
     "execution_count": 60,
     "metadata": {},
     "output_type": "execute_result"
    }
   ],
   "source": [
    "len(wordsimQNodesListWAbstractsLabelsDF2)"
   ]
  },
  {
   "cell_type": "code",
   "execution_count": 61,
   "id": "labeled-eagle",
   "metadata": {},
   "outputs": [],
   "source": [
    "wordsimQNodesListWAbstractsLabelsDF2 = wordsimQNodesListWAbstractsLabelsDF2[~wordsimQNodesListWAbstractsLabelsDF2.abstract.isna()]"
   ]
  },
  {
   "cell_type": "code",
   "execution_count": 62,
   "id": "welcome-orleans",
   "metadata": {},
   "outputs": [],
   "source": [
    "# wordsimQNodesListWAbstractsLabelsDF2.to_csv('../data/wordsimQNodesListWAbstractsLabelsDF2.csv')"
   ]
  },
  {
   "cell_type": "code",
   "execution_count": 63,
   "id": "quick-chicken",
   "metadata": {},
   "outputs": [],
   "source": [
    "# wordsimQNodesListWAbstractsLabelsDF2 = pd.read_csv('../data/wordsimQNodesListWAbstractsLabelsDF2.csv')"
   ]
  },
  {
   "cell_type": "markdown",
   "id": "potential-format",
   "metadata": {},
   "source": [
    "# Fetch saved files"
   ]
  },
  {
   "cell_type": "code",
   "execution_count": 7,
   "id": "defined-harris",
   "metadata": {},
   "outputs": [],
   "source": [
    "wordsimQNodesListWAbstractsLabelsDF1 = pd.read_csv('../data/wordsimQNodesListWAbstractsLabelsDF1.csv').set_index('node1')"
   ]
  },
  {
   "cell_type": "code",
   "execution_count": 8,
   "id": "documented-replication",
   "metadata": {},
   "outputs": [],
   "source": [
    "wordsimQNodesListWAbstractsLabelsDF2 = pd.read_csv('../data/wordsimQNodesListWAbstractsLabelsDF2.csv').set_index('node1')"
   ]
  },
  {
   "cell_type": "markdown",
   "id": "apart-divide",
   "metadata": {
    "heading_collapsed": true
   },
   "source": [
    "# Sentence Transformers"
   ]
  },
  {
   "cell_type": "code",
   "execution_count": 62,
   "id": "parental-craps",
   "metadata": {
    "hidden": true
   },
   "outputs": [],
   "source": [
    "from sentence_transformers import SentenceTransformer"
   ]
  },
  {
   "cell_type": "code",
   "execution_count": 149,
   "id": "initial-coating",
   "metadata": {
    "hidden": true
   },
   "outputs": [],
   "source": [
    "def getEmbeddings(modelName):\n",
    "    model = SentenceTransformer(modelName)\n",
    "    start = time()\n",
    "    encodings = model.encode(wordsimQNodesListWAbstractsLabelsDF2.abstract.to_list())\n",
    "    print(time()-start,'s')\n",
    "    return encodings"
   ]
  },
  {
   "cell_type": "code",
   "execution_count": 64,
   "id": "documented-alignment",
   "metadata": {
    "hidden": true
   },
   "outputs": [
    {
     "name": "stdout",
     "output_type": "stream",
     "text": [
      "8.550719976425171 s\n"
     ]
    }
   ],
   "source": [
    "bertEnc = getEmbeddings('bert-base-nli-mean-tokens')"
   ]
  },
  {
   "cell_type": "code",
   "execution_count": 119,
   "id": "continuing-impression",
   "metadata": {
    "hidden": true
   },
   "outputs": [
    {
     "name": "stderr",
     "output_type": "stream",
     "text": [
      "100%|██████████| 1.24G/1.24G [02:08<00:00, 9.68MB/s] \n"
     ]
    },
    {
     "name": "stdout",
     "output_type": "stream",
     "text": [
      "5.648171424865723 s\n"
     ]
    }
   ],
   "source": [
    "bertLargeEnc = getEmbeddings('bert-large-nli-mean-tokens')"
   ]
  },
  {
   "cell_type": "code",
   "execution_count": 65,
   "id": "responsible-national",
   "metadata": {
    "hidden": true
   },
   "outputs": [
    {
     "name": "stdout",
     "output_type": "stream",
     "text": [
      "1.0568156242370605 s\n"
     ]
    }
   ],
   "source": [
    "distilBertEnc = getEmbeddings('distilbert-base-nli-mean-tokens')"
   ]
  },
  {
   "cell_type": "code",
   "execution_count": null,
   "id": "interracial-mitchell",
   "metadata": {
    "hidden": true,
    "scrolled": true
   },
   "outputs": [],
   "source": [
    "robertaBaseEnc = getEmbeddings('roberta-base-nli-mean-tokens')"
   ]
  },
  {
   "cell_type": "code",
   "execution_count": 66,
   "id": "amended-powell",
   "metadata": {
    "hidden": true
   },
   "outputs": [
    {
     "name": "stdout",
     "output_type": "stream",
     "text": [
      "5.765424489974976 s\n"
     ]
    }
   ],
   "source": [
    "robertaEnc = getEmbeddings('roberta-large-nli-mean-tokens')"
   ]
  },
  {
   "cell_type": "code",
   "execution_count": 67,
   "id": "divided-donna",
   "metadata": {
    "hidden": true
   },
   "outputs": [],
   "source": [
    "from sklearn.metrics.pairwise import cosine_similarity"
   ]
  },
  {
   "cell_type": "code",
   "execution_count": 68,
   "id": "characteristic-religious",
   "metadata": {
    "hidden": true
   },
   "outputs": [],
   "source": [
    "def getMap(encodings):\n",
    "    return {qnode: enc for qnode, enc in zip(wordsimQNodesListWAbstractsLabelsDF2.index.to_list(), encodings)}"
   ]
  },
  {
   "cell_type": "code",
   "execution_count": 69,
   "id": "quality-sponsorship",
   "metadata": {
    "hidden": true
   },
   "outputs": [],
   "source": [
    "bertEncMap = getMap(bertEnc)"
   ]
  },
  {
   "cell_type": "code",
   "execution_count": 120,
   "id": "electronic-parcel",
   "metadata": {
    "hidden": true
   },
   "outputs": [],
   "source": [
    "bertLargeEncMap = getMap(bertLargeEnc)"
   ]
  },
  {
   "cell_type": "code",
   "execution_count": 70,
   "id": "confused-snake",
   "metadata": {
    "hidden": true
   },
   "outputs": [],
   "source": [
    "distilBertMap = getMap(distilBertEnc)"
   ]
  },
  {
   "cell_type": "code",
   "execution_count": 132,
   "id": "vanilla-subject",
   "metadata": {
    "hidden": true
   },
   "outputs": [],
   "source": [
    "robertaBaseEncMap = getMap(robertaBaseEnc)"
   ]
  },
  {
   "cell_type": "code",
   "execution_count": null,
   "id": "familiar-soundtrack",
   "metadata": {
    "hidden": true
   },
   "outputs": [],
   "source": [
    "robertaEncMap = getMap(robertaEnc)"
   ]
  },
  {
   "cell_type": "code",
   "execution_count": 72,
   "id": "subjective-leeds",
   "metadata": {
    "hidden": true
   },
   "outputs": [
    {
     "data": {
      "text/plain": [
       "418"
      ]
     },
     "execution_count": 72,
     "metadata": {},
     "output_type": "execute_result"
    }
   ],
   "source": [
    "len(wordsimQNodesListWAbstractsLabelsDF2)"
   ]
  },
  {
   "cell_type": "code",
   "execution_count": 73,
   "id": "bronze-sally",
   "metadata": {
    "hidden": true
   },
   "outputs": [
    {
     "data": {
      "text/html": [
       "<div>\n",
       "<style scoped>\n",
       "    .dataframe tbody tr th:only-of-type {\n",
       "        vertical-align: middle;\n",
       "    }\n",
       "\n",
       "    .dataframe tbody tr th {\n",
       "        vertical-align: top;\n",
       "    }\n",
       "\n",
       "    .dataframe thead th {\n",
       "        text-align: right;\n",
       "    }\n",
       "</style>\n",
       "<table border=\"1\" class=\"dataframe\">\n",
       "  <thead>\n",
       "    <tr style=\"text-align: right;\">\n",
       "      <th></th>\n",
       "      <th>Word 1</th>\n",
       "      <th>word1_kg_id</th>\n",
       "      <th>word1_kg_label</th>\n",
       "      <th>word1_kg_description</th>\n",
       "      <th>Word 2</th>\n",
       "      <th>word2_kg_id</th>\n",
       "      <th>word2_kg_label</th>\n",
       "      <th>word2_kg_description</th>\n",
       "      <th>Human (Mean)</th>\n",
       "      <th>complex</th>\n",
       "      <th>transe</th>\n",
       "      <th>text</th>\n",
       "      <th>class</th>\n",
       "    </tr>\n",
       "  </thead>\n",
       "  <tbody>\n",
       "    <tr>\n",
       "      <th>0</th>\n",
       "      <td>admission</td>\n",
       "      <td>Q847337</td>\n",
       "      <td>confession</td>\n",
       "      <td>statement made by a person or a group of perso...</td>\n",
       "      <td>ticket</td>\n",
       "      <td>Q551800</td>\n",
       "      <td>ticket</td>\n",
       "      <td>paper or cardboard document showing payment fo...</td>\n",
       "      <td>5.5360</td>\n",
       "      <td>0.361115</td>\n",
       "      <td>0.446632</td>\n",
       "      <td>0.485653</td>\n",
       "      <td>NaN</td>\n",
       "    </tr>\n",
       "    <tr>\n",
       "      <th>1</th>\n",
       "      <td>alcohol</td>\n",
       "      <td>Q154</td>\n",
       "      <td>alcoholic beverage</td>\n",
       "      <td>drink containing alcohols, typically ethanol</td>\n",
       "      <td>chemistry</td>\n",
       "      <td>Q2329</td>\n",
       "      <td>chemistry</td>\n",
       "      <td>branch of physical science concerned with the ...</td>\n",
       "      <td>4.1250</td>\n",
       "      <td>0.302163</td>\n",
       "      <td>0.274388</td>\n",
       "      <td>0.479313</td>\n",
       "      <td>0.005851</td>\n",
       "    </tr>\n",
       "    <tr>\n",
       "      <th>2</th>\n",
       "      <td>aluminum</td>\n",
       "      <td>Q663</td>\n",
       "      <td>aluminium</td>\n",
       "      <td>metallic chemical element of silvery appearanc...</td>\n",
       "      <td>metal</td>\n",
       "      <td>Q11426</td>\n",
       "      <td>metal</td>\n",
       "      <td>element, compound or alloy that is a good cond...</td>\n",
       "      <td>6.6250</td>\n",
       "      <td>0.694462</td>\n",
       "      <td>0.429289</td>\n",
       "      <td>0.626784</td>\n",
       "      <td>0.393657</td>\n",
       "    </tr>\n",
       "    <tr>\n",
       "      <th>3</th>\n",
       "      <td>announcement</td>\n",
       "      <td>Q567303</td>\n",
       "      <td>announcement</td>\n",
       "      <td>printed, spoken, or published statement or not...</td>\n",
       "      <td>effort</td>\n",
       "      <td>Q14536140</td>\n",
       "      <td>exertion</td>\n",
       "      <td>use of physical or perceived energy by a person</td>\n",
       "      <td>2.0625</td>\n",
       "      <td>0.324825</td>\n",
       "      <td>0.379077</td>\n",
       "      <td>0.618644</td>\n",
       "      <td>0.208812</td>\n",
       "    </tr>\n",
       "    <tr>\n",
       "      <th>4</th>\n",
       "      <td>announcement</td>\n",
       "      <td>Q567303</td>\n",
       "      <td>announcement</td>\n",
       "      <td>printed, spoken, or published statement or not...</td>\n",
       "      <td>news</td>\n",
       "      <td>Q38926</td>\n",
       "      <td>news</td>\n",
       "      <td>communication of selected information on curre...</td>\n",
       "      <td>7.1875</td>\n",
       "      <td>0.361214</td>\n",
       "      <td>0.360383</td>\n",
       "      <td>0.863846</td>\n",
       "      <td>0.888621</td>\n",
       "    </tr>\n",
       "  </tbody>\n",
       "</table>\n",
       "</div>"
      ],
      "text/plain": [
       "         Word 1 word1_kg_id      word1_kg_label  \\\n",
       "0     admission     Q847337          confession   \n",
       "1       alcohol        Q154  alcoholic beverage   \n",
       "2      aluminum        Q663           aluminium   \n",
       "3  announcement     Q567303        announcement   \n",
       "4  announcement     Q567303        announcement   \n",
       "\n",
       "                                word1_kg_description     Word 2 word2_kg_id  \\\n",
       "0  statement made by a person or a group of perso...     ticket     Q551800   \n",
       "1       drink containing alcohols, typically ethanol  chemistry       Q2329   \n",
       "2  metallic chemical element of silvery appearanc...      metal      Q11426   \n",
       "3  printed, spoken, or published statement or not...     effort   Q14536140   \n",
       "4  printed, spoken, or published statement or not...       news      Q38926   \n",
       "\n",
       "  word2_kg_label                               word2_kg_description  \\\n",
       "0         ticket  paper or cardboard document showing payment fo...   \n",
       "1      chemistry  branch of physical science concerned with the ...   \n",
       "2          metal  element, compound or alloy that is a good cond...   \n",
       "3       exertion    use of physical or perceived energy by a person   \n",
       "4           news  communication of selected information on curre...   \n",
       "\n",
       "   Human (Mean)   complex    transe      text     class  \n",
       "0        5.5360  0.361115  0.446632  0.485653       NaN  \n",
       "1        4.1250  0.302163  0.274388  0.479313  0.005851  \n",
       "2        6.6250  0.694462  0.429289  0.626784  0.393657  \n",
       "3        2.0625  0.324825  0.379077  0.618644  0.208812  \n",
       "4        7.1875  0.361214  0.360383  0.863846  0.888621  "
      ]
     },
     "execution_count": 73,
     "metadata": {},
     "output_type": "execute_result"
    }
   ],
   "source": [
    "wordsimDF.head()"
   ]
  },
  {
   "cell_type": "code",
   "execution_count": 74,
   "id": "detailed-imperial",
   "metadata": {
    "hidden": true
   },
   "outputs": [],
   "source": [
    "def checkSimilarity(row, encodingsMap):\n",
    "#     print(row)\n",
    "    if row['g_qnode'] in encodingsMap and row['p_qnode'] in encodingsMap:\n",
    "        return cosine_similarity([encodingsMap[row['g_qnode']]], [encodingsMap[row['p_qnode']]])\n",
    "    else:\n",
    "        return 0"
   ]
  },
  {
   "cell_type": "code",
   "execution_count": 75,
   "id": "funded-prototype",
   "metadata": {
    "hidden": true
   },
   "outputs": [],
   "source": [
    "bertEncSim = wordsimDF.apply(checkSimilarity, axis=1, args=(bertEncMap, ))"
   ]
  },
  {
   "cell_type": "code",
   "execution_count": 121,
   "id": "improving-nevada",
   "metadata": {
    "hidden": true
   },
   "outputs": [],
   "source": [
    "bertLargeEncSim = wordsimDF.apply(checkSimilarity, axis=1, args=(bertLargeEncMap, ))"
   ]
  },
  {
   "cell_type": "code",
   "execution_count": 76,
   "id": "conventional-white",
   "metadata": {
    "hidden": true
   },
   "outputs": [],
   "source": [
    "distilBertSim = wordsimDF.apply(checkSimilarity, axis=1, args=(distilBertMap, ))"
   ]
  },
  {
   "cell_type": "code",
   "execution_count": 133,
   "id": "related-garage",
   "metadata": {
    "hidden": true
   },
   "outputs": [],
   "source": [
    "robertaBaseBertSim = wordsimDF.apply(checkSimilarity, axis=1, args=(robertaBaseEncMap, ))"
   ]
  },
  {
   "cell_type": "code",
   "execution_count": 77,
   "id": "portable-joint",
   "metadata": {
    "hidden": true
   },
   "outputs": [],
   "source": [
    "robertaBertSim = wordsimDF.apply(checkSimilarity, axis=1, args=(robertaEncMap, ))"
   ]
  },
  {
   "cell_type": "code",
   "execution_count": 78,
   "id": "mental-forestry",
   "metadata": {
    "hidden": true
   },
   "outputs": [],
   "source": [
    "wordsimDF1 = wordsimDF[['Human (Mean)']]"
   ]
  },
  {
   "cell_type": "code",
   "execution_count": 79,
   "id": "round-cornell",
   "metadata": {
    "hidden": true
   },
   "outputs": [
    {
     "name": "stderr",
     "output_type": "stream",
     "text": [
      "<ipython-input-79-5105af3a2513>:1: SettingWithCopyWarning: \n",
      "A value is trying to be set on a copy of a slice from a DataFrame.\n",
      "Try using .loc[row_indexer,col_indexer] = value instead\n",
      "\n",
      "See the caveats in the documentation: https://pandas.pydata.org/pandas-docs/stable/user_guide/indexing.html#returning-a-view-versus-a-copy\n",
      "  wordsimDF1['bertSim'] = bertEncSim\n"
     ]
    }
   ],
   "source": [
    "wordsimDF1['bertSim'] = bertEncSim"
   ]
  },
  {
   "cell_type": "code",
   "execution_count": 122,
   "id": "exotic-fundamental",
   "metadata": {
    "hidden": true
   },
   "outputs": [
    {
     "name": "stderr",
     "output_type": "stream",
     "text": [
      "<ipython-input-122-3b87f5bd1dcd>:1: SettingWithCopyWarning: \n",
      "A value is trying to be set on a copy of a slice from a DataFrame.\n",
      "Try using .loc[row_indexer,col_indexer] = value instead\n",
      "\n",
      "See the caveats in the documentation: https://pandas.pydata.org/pandas-docs/stable/user_guide/indexing.html#returning-a-view-versus-a-copy\n",
      "  wordsimDF1['bertLargeSim'] = bertLargeEncSim\n"
     ]
    }
   ],
   "source": [
    "wordsimDF1['bertLargeSim'] = bertLargeEncSim"
   ]
  },
  {
   "cell_type": "code",
   "execution_count": 80,
   "id": "latter-cleanup",
   "metadata": {
    "hidden": true
   },
   "outputs": [
    {
     "name": "stderr",
     "output_type": "stream",
     "text": [
      "<ipython-input-80-c904909da8f6>:1: SettingWithCopyWarning: \n",
      "A value is trying to be set on a copy of a slice from a DataFrame.\n",
      "Try using .loc[row_indexer,col_indexer] = value instead\n",
      "\n",
      "See the caveats in the documentation: https://pandas.pydata.org/pandas-docs/stable/user_guide/indexing.html#returning-a-view-versus-a-copy\n",
      "  wordsimDF1['distilBertSim'] = distilBertSim\n"
     ]
    }
   ],
   "source": [
    "wordsimDF1['distilBertSim'] = distilBertSim"
   ]
  },
  {
   "cell_type": "code",
   "execution_count": 134,
   "id": "excellent-meeting",
   "metadata": {
    "hidden": true
   },
   "outputs": [
    {
     "name": "stderr",
     "output_type": "stream",
     "text": [
      "<ipython-input-134-f159fb4d0068>:1: SettingWithCopyWarning: \n",
      "A value is trying to be set on a copy of a slice from a DataFrame.\n",
      "Try using .loc[row_indexer,col_indexer] = value instead\n",
      "\n",
      "See the caveats in the documentation: https://pandas.pydata.org/pandas-docs/stable/user_guide/indexing.html#returning-a-view-versus-a-copy\n",
      "  wordsimDF1['robertaBaseBertSim'] = robertaBaseBertSim\n"
     ]
    }
   ],
   "source": [
    "wordsimDF1['robertaBaseBertSim'] = robertaBaseBertSim"
   ]
  },
  {
   "cell_type": "code",
   "execution_count": 81,
   "id": "south-rwanda",
   "metadata": {
    "hidden": true
   },
   "outputs": [
    {
     "name": "stderr",
     "output_type": "stream",
     "text": [
      "<ipython-input-81-92c04e1dd63d>:1: SettingWithCopyWarning: \n",
      "A value is trying to be set on a copy of a slice from a DataFrame.\n",
      "Try using .loc[row_indexer,col_indexer] = value instead\n",
      "\n",
      "See the caveats in the documentation: https://pandas.pydata.org/pandas-docs/stable/user_guide/indexing.html#returning-a-view-versus-a-copy\n",
      "  wordsimDF1['robertaBertSim'] = robertaBertSim\n"
     ]
    }
   ],
   "source": [
    "wordsimDF1['robertaBertSim'] = robertaBertSim"
   ]
  },
  {
   "cell_type": "code",
   "execution_count": 82,
   "id": "proper-stations",
   "metadata": {
    "hidden": true
   },
   "outputs": [
    {
     "name": "stderr",
     "output_type": "stream",
     "text": [
      "<ipython-input-82-96b13f46512b>:1: SettingWithCopyWarning: \n",
      "A value is trying to be set on a copy of a slice from a DataFrame.\n",
      "Try using .loc[row_indexer,col_indexer] = value instead\n",
      "\n",
      "See the caveats in the documentation: https://pandas.pydata.org/pandas-docs/stable/user_guide/indexing.html#returning-a-view-versus-a-copy\n",
      "  wordsimDF1['bertSim'] = wordsimDF1.bertSim.apply(lambda p: p[0][0] if p != 0 else p)\n"
     ]
    }
   ],
   "source": [
    "wordsimDF1['bertSim'] = wordsimDF1.bertSim.apply(lambda p: p[0][0] if p != 0 else p)"
   ]
  },
  {
   "cell_type": "code",
   "execution_count": 123,
   "id": "legendary-campus",
   "metadata": {
    "hidden": true
   },
   "outputs": [
    {
     "name": "stderr",
     "output_type": "stream",
     "text": [
      "<ipython-input-123-cdaec8bd10a3>:1: SettingWithCopyWarning: \n",
      "A value is trying to be set on a copy of a slice from a DataFrame.\n",
      "Try using .loc[row_indexer,col_indexer] = value instead\n",
      "\n",
      "See the caveats in the documentation: https://pandas.pydata.org/pandas-docs/stable/user_guide/indexing.html#returning-a-view-versus-a-copy\n",
      "  wordsimDF1['bertLargeSim'] = wordsimDF1.bertLargeSim.apply(lambda p: p[0][0] if p != 0 else p)\n"
     ]
    }
   ],
   "source": [
    "wordsimDF1['bertLargeSim'] = wordsimDF1.bertLargeSim.apply(lambda p: p[0][0] if p != 0 else p)"
   ]
  },
  {
   "cell_type": "code",
   "execution_count": 83,
   "id": "ambient-victor",
   "metadata": {
    "hidden": true
   },
   "outputs": [
    {
     "name": "stderr",
     "output_type": "stream",
     "text": [
      "<ipython-input-83-383da2239499>:1: SettingWithCopyWarning: \n",
      "A value is trying to be set on a copy of a slice from a DataFrame.\n",
      "Try using .loc[row_indexer,col_indexer] = value instead\n",
      "\n",
      "See the caveats in the documentation: https://pandas.pydata.org/pandas-docs/stable/user_guide/indexing.html#returning-a-view-versus-a-copy\n",
      "  wordsimDF1['distilBertSim'] = wordsimDF1.distilBertSim.apply(lambda p: p[0][0] if p != 0 else p)\n"
     ]
    }
   ],
   "source": [
    "wordsimDF1['distilBertSim'] = wordsimDF1.distilBertSim.apply(lambda p: p[0][0] if p != 0 else p)"
   ]
  },
  {
   "cell_type": "code",
   "execution_count": 135,
   "id": "velvet-ethics",
   "metadata": {
    "hidden": true
   },
   "outputs": [
    {
     "name": "stderr",
     "output_type": "stream",
     "text": [
      "<ipython-input-135-c2b58af44ba8>:1: SettingWithCopyWarning: \n",
      "A value is trying to be set on a copy of a slice from a DataFrame.\n",
      "Try using .loc[row_indexer,col_indexer] = value instead\n",
      "\n",
      "See the caveats in the documentation: https://pandas.pydata.org/pandas-docs/stable/user_guide/indexing.html#returning-a-view-versus-a-copy\n",
      "  wordsimDF1['robertaBaseBertSim'] = wordsimDF1.robertaBaseBertSim.apply(lambda p: p[0][0] if p != 0 else p)\n"
     ]
    }
   ],
   "source": [
    "wordsimDF1['robertaBaseBertSim'] = wordsimDF1.robertaBaseBertSim.apply(lambda p: p[0][0] if p != 0 else p)"
   ]
  },
  {
   "cell_type": "code",
   "execution_count": 84,
   "id": "colonial-coordination",
   "metadata": {
    "hidden": true
   },
   "outputs": [
    {
     "name": "stderr",
     "output_type": "stream",
     "text": [
      "<ipython-input-84-ce07de4ac656>:1: SettingWithCopyWarning: \n",
      "A value is trying to be set on a copy of a slice from a DataFrame.\n",
      "Try using .loc[row_indexer,col_indexer] = value instead\n",
      "\n",
      "See the caveats in the documentation: https://pandas.pydata.org/pandas-docs/stable/user_guide/indexing.html#returning-a-view-versus-a-copy\n",
      "  wordsimDF1['robertaBertSim'] = wordsimDF1.robertaBertSim.apply(lambda p: p[0][0] if p != 0 else p)\n"
     ]
    }
   ],
   "source": [
    "wordsimDF1['robertaBertSim'] = wordsimDF1.robertaBertSim.apply(lambda p: p[0][0] if p != 0 else p)"
   ]
  },
  {
   "cell_type": "code",
   "execution_count": 85,
   "id": "informational-fountain",
   "metadata": {
    "hidden": true
   },
   "outputs": [
    {
     "data": {
      "text/plain": [
       "numpy.float64"
      ]
     },
     "execution_count": 85,
     "metadata": {},
     "output_type": "execute_result"
    }
   ],
   "source": [
    "type(wordsimDF1.iloc[0][1])"
   ]
  },
  {
   "cell_type": "code",
   "execution_count": 86,
   "id": "japanese-order",
   "metadata": {
    "hidden": true
   },
   "outputs": [
    {
     "data": {
      "text/html": [
       "<div>\n",
       "<style scoped>\n",
       "    .dataframe tbody tr th:only-of-type {\n",
       "        vertical-align: middle;\n",
       "    }\n",
       "\n",
       "    .dataframe tbody tr th {\n",
       "        vertical-align: top;\n",
       "    }\n",
       "\n",
       "    .dataframe thead th {\n",
       "        text-align: right;\n",
       "    }\n",
       "</style>\n",
       "<table border=\"1\" class=\"dataframe\">\n",
       "  <thead>\n",
       "    <tr style=\"text-align: right;\">\n",
       "      <th></th>\n",
       "      <th>Human (Mean)</th>\n",
       "      <th>bertSim</th>\n",
       "      <th>distilBertSim</th>\n",
       "      <th>robertaBertSim</th>\n",
       "    </tr>\n",
       "  </thead>\n",
       "  <tbody>\n",
       "    <tr>\n",
       "      <th>0</th>\n",
       "      <td>5.5360</td>\n",
       "      <td>0.426863</td>\n",
       "      <td>0.360219</td>\n",
       "      <td>0.436207</td>\n",
       "    </tr>\n",
       "    <tr>\n",
       "      <th>1</th>\n",
       "      <td>4.1250</td>\n",
       "      <td>0.339922</td>\n",
       "      <td>0.433100</td>\n",
       "      <td>0.427664</td>\n",
       "    </tr>\n",
       "    <tr>\n",
       "      <th>2</th>\n",
       "      <td>6.6250</td>\n",
       "      <td>0.686578</td>\n",
       "      <td>0.706978</td>\n",
       "      <td>0.645407</td>\n",
       "    </tr>\n",
       "    <tr>\n",
       "      <th>3</th>\n",
       "      <td>2.0625</td>\n",
       "      <td>0.296175</td>\n",
       "      <td>0.373679</td>\n",
       "      <td>0.371295</td>\n",
       "    </tr>\n",
       "    <tr>\n",
       "      <th>4</th>\n",
       "      <td>7.1875</td>\n",
       "      <td>0.340811</td>\n",
       "      <td>0.390540</td>\n",
       "      <td>0.488393</td>\n",
       "    </tr>\n",
       "  </tbody>\n",
       "</table>\n",
       "</div>"
      ],
      "text/plain": [
       "   Human (Mean)   bertSim  distilBertSim  robertaBertSim\n",
       "0        5.5360  0.426863       0.360219        0.436207\n",
       "1        4.1250  0.339922       0.433100        0.427664\n",
       "2        6.6250  0.686578       0.706978        0.645407\n",
       "3        2.0625  0.296175       0.373679        0.371295\n",
       "4        7.1875  0.340811       0.390540        0.488393"
      ]
     },
     "execution_count": 86,
     "metadata": {},
     "output_type": "execute_result"
    }
   ],
   "source": [
    "wordsimDF1.head()"
   ]
  },
  {
   "cell_type": "code",
   "execution_count": 124,
   "id": "marine-general",
   "metadata": {
    "hidden": true
   },
   "outputs": [
    {
     "name": "stderr",
     "output_type": "stream",
     "text": [
      "/nas/home/kshenoy/miniconda3/envs/kgtkEnv/lib/python3.8/site-packages/pandas/core/generic.py:5491: SettingWithCopyWarning: \n",
      "A value is trying to be set on a copy of a slice from a DataFrame.\n",
      "Try using .loc[row_indexer,col_indexer] = value instead\n",
      "\n",
      "See the caveats in the documentation: https://pandas.pydata.org/pandas-docs/stable/user_guide/indexing.html#returning-a-view-versus-a-copy\n",
      "  self[name] = value\n"
     ]
    }
   ],
   "source": [
    "wordsimDF1.bertLargeSim *= 10"
   ]
  },
  {
   "cell_type": "code",
   "execution_count": 136,
   "id": "living-condition",
   "metadata": {
    "hidden": true
   },
   "outputs": [
    {
     "name": "stderr",
     "output_type": "stream",
     "text": [
      "/nas/home/kshenoy/miniconda3/envs/kgtkEnv/lib/python3.8/site-packages/pandas/core/generic.py:5491: SettingWithCopyWarning: \n",
      "A value is trying to be set on a copy of a slice from a DataFrame.\n",
      "Try using .loc[row_indexer,col_indexer] = value instead\n",
      "\n",
      "See the caveats in the documentation: https://pandas.pydata.org/pandas-docs/stable/user_guide/indexing.html#returning-a-view-versus-a-copy\n",
      "  self[name] = value\n"
     ]
    }
   ],
   "source": [
    "wordsimDF1.robertaBaseBertSim *= 10"
   ]
  },
  {
   "cell_type": "code",
   "execution_count": 87,
   "id": "hearing-adjustment",
   "metadata": {
    "hidden": true
   },
   "outputs": [
    {
     "name": "stderr",
     "output_type": "stream",
     "text": [
      "/nas/home/kshenoy/miniconda3/envs/kgtkEnv/lib/python3.8/site-packages/pandas/core/generic.py:5491: SettingWithCopyWarning: \n",
      "A value is trying to be set on a copy of a slice from a DataFrame.\n",
      "Try using .loc[row_indexer,col_indexer] = value instead\n",
      "\n",
      "See the caveats in the documentation: https://pandas.pydata.org/pandas-docs/stable/user_guide/indexing.html#returning-a-view-versus-a-copy\n",
      "  self[name] = value\n"
     ]
    }
   ],
   "source": [
    "wordsimDF1.bertSim *= 10\n",
    "wordsimDF1.distilBertSim *= 10\n",
    "wordsimDF1.robertaBertSim *= 10"
   ]
  },
  {
   "cell_type": "code",
   "execution_count": 137,
   "id": "suspected-plumbing",
   "metadata": {
    "hidden": true
   },
   "outputs": [
    {
     "data": {
      "text/html": [
       "<div>\n",
       "<style scoped>\n",
       "    .dataframe tbody tr th:only-of-type {\n",
       "        vertical-align: middle;\n",
       "    }\n",
       "\n",
       "    .dataframe tbody tr th {\n",
       "        vertical-align: top;\n",
       "    }\n",
       "\n",
       "    .dataframe thead th {\n",
       "        text-align: right;\n",
       "    }\n",
       "</style>\n",
       "<table border=\"1\" class=\"dataframe\">\n",
       "  <thead>\n",
       "    <tr style=\"text-align: right;\">\n",
       "      <th></th>\n",
       "      <th>Human (Mean)</th>\n",
       "      <th>bertSim</th>\n",
       "      <th>distilBertSim</th>\n",
       "      <th>robertaBertSim</th>\n",
       "      <th>amanSim</th>\n",
       "      <th>bertLargeSim</th>\n",
       "      <th>robertaBaseBertSim</th>\n",
       "    </tr>\n",
       "  </thead>\n",
       "  <tbody>\n",
       "    <tr>\n",
       "      <th>0</th>\n",
       "      <td>5.5360</td>\n",
       "      <td>4.268633</td>\n",
       "      <td>3.602192</td>\n",
       "      <td>4.362067</td>\n",
       "      <td>[[0.4949737852167514]]</td>\n",
       "      <td>4.196118</td>\n",
       "      <td>5.313815</td>\n",
       "    </tr>\n",
       "    <tr>\n",
       "      <th>1</th>\n",
       "      <td>4.1250</td>\n",
       "      <td>3.399217</td>\n",
       "      <td>4.331005</td>\n",
       "      <td>4.276645</td>\n",
       "      <td>[[0.4818230866992358]]</td>\n",
       "      <td>4.045933</td>\n",
       "      <td>5.239753</td>\n",
       "    </tr>\n",
       "    <tr>\n",
       "      <th>2</th>\n",
       "      <td>6.6250</td>\n",
       "      <td>6.865782</td>\n",
       "      <td>7.069776</td>\n",
       "      <td>6.454071</td>\n",
       "      <td>[[0.6407051485261465]]</td>\n",
       "      <td>6.215223</td>\n",
       "      <td>6.513252</td>\n",
       "    </tr>\n",
       "    <tr>\n",
       "      <th>3</th>\n",
       "      <td>2.0625</td>\n",
       "      <td>2.961755</td>\n",
       "      <td>3.736790</td>\n",
       "      <td>3.712948</td>\n",
       "      <td>[[0.6186497481059658]]</td>\n",
       "      <td>3.581833</td>\n",
       "      <td>4.266170</td>\n",
       "    </tr>\n",
       "    <tr>\n",
       "      <th>4</th>\n",
       "      <td>7.1875</td>\n",
       "      <td>3.408112</td>\n",
       "      <td>3.905397</td>\n",
       "      <td>4.883926</td>\n",
       "      <td>[[0.8556663921383962]]</td>\n",
       "      <td>4.322380</td>\n",
       "      <td>5.111274</td>\n",
       "    </tr>\n",
       "  </tbody>\n",
       "</table>\n",
       "</div>"
      ],
      "text/plain": [
       "   Human (Mean)   bertSim  distilBertSim  robertaBertSim  \\\n",
       "0        5.5360  4.268633       3.602192        4.362067   \n",
       "1        4.1250  3.399217       4.331005        4.276645   \n",
       "2        6.6250  6.865782       7.069776        6.454071   \n",
       "3        2.0625  2.961755       3.736790        3.712948   \n",
       "4        7.1875  3.408112       3.905397        4.883926   \n",
       "\n",
       "                  amanSim  bertLargeSim  robertaBaseBertSim  \n",
       "0  [[0.4949737852167514]]      4.196118            5.313815  \n",
       "1  [[0.4818230866992358]]      4.045933            5.239753  \n",
       "2  [[0.6407051485261465]]      6.215223            6.513252  \n",
       "3  [[0.6186497481059658]]      3.581833            4.266170  \n",
       "4  [[0.8556663921383962]]      4.322380            5.111274  "
      ]
     },
     "execution_count": 137,
     "metadata": {},
     "output_type": "execute_result"
    }
   ],
   "source": [
    "wordsimDF1.head()"
   ]
  },
  {
   "cell_type": "code",
   "execution_count": 89,
   "id": "incorporate-punishment",
   "metadata": {
    "hidden": true
   },
   "outputs": [
    {
     "data": {
      "text/plain": [
       "<AxesSubplot:>"
      ]
     },
     "execution_count": 89,
     "metadata": {},
     "output_type": "execute_result"
    },
    {
     "data": {
      "image/png": "[encoded data removed]",
      "text/plain": [
       "<Figure size 432x288 with 1 Axes>"
      ]
     },
     "metadata": {
      "needs_background": "light"
     },
     "output_type": "display_data"
    }
   ],
   "source": [
    "wordsimDF1.sort_values(by=['Human (Mean)']).plot.line()"
   ]
  },
  {
   "cell_type": "code",
   "execution_count": 90,
   "id": "prospective-international",
   "metadata": {
    "hidden": true
   },
   "outputs": [
    {
     "data": {
      "text/plain": [
       "<AxesSubplot:>"
      ]
     },
     "execution_count": 90,
     "metadata": {},
     "output_type": "execute_result"
    },
    {
     "data": {
      "image/png": "[encoded data removed]",
      "text/plain": [
       "<Figure size 432x288 with 1 Axes>"
      ]
     },
     "metadata": {
      "needs_background": "light"
     },
     "output_type": "display_data"
    }
   ],
   "source": [
    "wordsimDF1.plot.line()"
   ]
  },
  {
   "cell_type": "code",
   "execution_count": 138,
   "id": "appointed-tablet",
   "metadata": {
    "hidden": true
   },
   "outputs": [],
   "source": [
    "# cosine_similarity([encodingsMap['Q847337']], [encodingsMap['Q551800']])"
   ]
  },
  {
   "cell_type": "code",
   "execution_count": 92,
   "id": "adaptive-bride",
   "metadata": {
    "hidden": true
   },
   "outputs": [],
   "source": [
    "import scipy.stats as stats"
   ]
  },
  {
   "cell_type": "code",
   "execution_count": 93,
   "id": "beautiful-wages",
   "metadata": {
    "hidden": true
   },
   "outputs": [
    {
     "data": {
      "text/plain": [
       "KendalltauResult(correlation=0.37975882843235137, pvalue=5.235465664921023e-26)"
      ]
     },
     "execution_count": 93,
     "metadata": {},
     "output_type": "execute_result"
    }
   ],
   "source": [
    "stats.kendalltau(wordsimDF1['Human (Mean)'].to_list(), wordsimDF1['bertSim'])"
   ]
  },
  {
   "cell_type": "code",
   "execution_count": 126,
   "id": "equivalent-wireless",
   "metadata": {
    "hidden": true
   },
   "outputs": [
    {
     "data": {
      "text/plain": [
       "KendalltauResult(correlation=0.37556037504702056, pvalue=1.7903693658447951e-25)"
      ]
     },
     "execution_count": 126,
     "metadata": {},
     "output_type": "execute_result"
    }
   ],
   "source": [
    "stats.kendalltau(wordsimDF1['Human (Mean)'].to_list(), wordsimDF1['bertLargeSim'])"
   ]
  },
  {
   "cell_type": "code",
   "execution_count": 94,
   "id": "informal-error",
   "metadata": {
    "hidden": true
   },
   "outputs": [
    {
     "data": {
      "text/plain": [
       "KendalltauResult(correlation=0.3529686820781901, pvalue=1.0899920454225404e-22)"
      ]
     },
     "execution_count": 94,
     "metadata": {},
     "output_type": "execute_result"
    }
   ],
   "source": [
    "stats.kendalltau(wordsimDF1['Human (Mean)'].to_list(), wordsimDF1['distilBertSim'])"
   ]
  },
  {
   "cell_type": "code",
   "execution_count": 139,
   "id": "allied-vulnerability",
   "metadata": {
    "hidden": true
   },
   "outputs": [
    {
     "data": {
      "text/plain": [
       "KendalltauResult(correlation=0.3156122362936971, pvalue=1.8520533516011967e-18)"
      ]
     },
     "execution_count": 139,
     "metadata": {},
     "output_type": "execute_result"
    }
   ],
   "source": [
    "stats.kendalltau(wordsimDF1['Human (Mean)'].to_list(), wordsimDF1['robertaBaseBertSim'])"
   ]
  },
  {
   "cell_type": "code",
   "execution_count": 95,
   "id": "victorian-seeking",
   "metadata": {
    "hidden": true,
    "scrolled": true
   },
   "outputs": [
    {
     "data": {
      "text/plain": [
       "KendalltauResult(correlation=0.3583059753020537, pvalue=2.481962318957373e-23)"
      ]
     },
     "execution_count": 95,
     "metadata": {},
     "output_type": "execute_result"
    }
   ],
   "source": [
    "stats.kendalltau(wordsimDF1['Human (Mean)'].to_list(), wordsimDF1['robertaBertSim'])"
   ]
  },
  {
   "cell_type": "code",
   "execution_count": null,
   "id": "fallen-action",
   "metadata": {
    "hidden": true
   },
   "outputs": [],
   "source": []
  },
  {
   "cell_type": "code",
   "execution_count": 96,
   "id": "smart-musician",
   "metadata": {
    "hidden": true,
    "scrolled": true
   },
   "outputs": [
    {
     "data": {
      "text/plain": [
       "SpearmanrResult(correlation=0.5388523544692222, pvalue=1.1269721214604893e-27)"
      ]
     },
     "execution_count": 96,
     "metadata": {},
     "output_type": "execute_result"
    }
   ],
   "source": [
    "stats.spearmanr(wordsimDF1['Human (Mean)'].to_list(), wordsimDF1['bertSim'])"
   ]
  },
  {
   "cell_type": "code",
   "execution_count": 127,
   "id": "stock-agent",
   "metadata": {
    "hidden": true
   },
   "outputs": [
    {
     "data": {
      "text/plain": [
       "SpearmanrResult(correlation=0.5316995237579449, pvalue=7.350680368606645e-27)"
      ]
     },
     "execution_count": 127,
     "metadata": {},
     "output_type": "execute_result"
    }
   ],
   "source": [
    "stats.spearmanr(wordsimDF1['Human (Mean)'].to_list(), wordsimDF1['bertLargeSim'])"
   ]
  },
  {
   "cell_type": "code",
   "execution_count": 97,
   "id": "wrapped-batman",
   "metadata": {
    "hidden": true
   },
   "outputs": [
    {
     "data": {
      "text/plain": [
       "SpearmanrResult(correlation=0.5043971026064306, pvalue=6.35665360448366e-24)"
      ]
     },
     "execution_count": 97,
     "metadata": {},
     "output_type": "execute_result"
    }
   ],
   "source": [
    "stats.spearmanr(wordsimDF1['Human (Mean)'].to_list(), wordsimDF1['distilBertSim'])"
   ]
  },
  {
   "cell_type": "code",
   "execution_count": 140,
   "id": "fallen-professor",
   "metadata": {
    "hidden": true
   },
   "outputs": [
    {
     "data": {
      "text/plain": [
       "SpearmanrResult(correlation=0.4564962071637959, pvalue=2.286865863469491e-19)"
      ]
     },
     "execution_count": 140,
     "metadata": {},
     "output_type": "execute_result"
    }
   ],
   "source": [
    "stats.spearmanr(wordsimDF1['Human (Mean)'].to_list(), wordsimDF1['robertaBaseBertSim'])"
   ]
  },
  {
   "cell_type": "code",
   "execution_count": 98,
   "id": "fewer-stock",
   "metadata": {
    "hidden": true,
    "scrolled": true
   },
   "outputs": [
    {
     "data": {
      "text/plain": [
       "SpearmanrResult(correlation=0.5120576203985243, pvalue=1.0133475563672188e-24)"
      ]
     },
     "execution_count": 98,
     "metadata": {},
     "output_type": "execute_result"
    }
   ],
   "source": [
    "stats.spearmanr(wordsimDF1['Human (Mean)'].to_list(), wordsimDF1['robertaBertSim'])"
   ]
  },
  {
   "cell_type": "markdown",
   "id": "attractive-dressing",
   "metadata": {},
   "source": [
    "# Version 1 - Embeddings of Labels"
   ]
  },
  {
   "cell_type": "code",
   "execution_count": 64,
   "id": "royal-bahrain",
   "metadata": {},
   "outputs": [],
   "source": [
    "from sentence_transformers import SentenceTransformer\n",
    "from sklearn.metrics.pairwise import cosine_similarity\n",
    "import scipy.stats as stats"
   ]
  },
  {
   "cell_type": "code",
   "execution_count": 65,
   "id": "threatened-roman",
   "metadata": {},
   "outputs": [
    {
     "data": {
      "text/plain": [
       "31"
      ]
     },
     "execution_count": 65,
     "metadata": {},
     "output_type": "execute_result"
    }
   ],
   "source": [
    "len(wordsimQNodesListWAbstractsLabelsDF2)"
   ]
  },
  {
   "cell_type": "code",
   "execution_count": 66,
   "id": "flexible-metropolitan",
   "metadata": {},
   "outputs": [],
   "source": [
    "wordsimDF1 = wordsimDF.copy()"
   ]
  },
  {
   "cell_type": "code",
   "execution_count": 67,
   "id": "superb-machinery",
   "metadata": {},
   "outputs": [],
   "source": [
    "def getV1Embeddings(modelName):\n",
    "    model = SentenceTransformer(modelName)\n",
    "    start = time()\n",
    "    encodings = model.encode(wordsimQNodesListWAbstractsLabelsDF2.node2_labelsDF.to_list())\n",
    "    print(time()-start,'s')\n",
    "    return encodings\n",
    "\n",
    "def getMap(encodings):\n",
    "    return {qnode: enc for qnode, enc in zip(wordsimQNodesListWAbstractsLabelsDF2.index.to_list(), encodings)}\n",
    "\n",
    "def checkSimilarity(row, encodingsMap):\n",
    "    if row['g_qnode'] in encodingsMap and row['p_qnode'] in encodingsMap:\n",
    "        return cosine_similarity([encodingsMap[row['g_qnode']]], [encodingsMap[row['p_qnode']]])\n",
    "    else:\n",
    "        return 0\n",
    "\n",
    "def getCoverage(row, encodingsMap):\n",
    "    if row['g_qnode'] in encodingsMap and row['p_qnode'] in encodingsMap:\n",
    "        return 1\n",
    "    else:\n",
    "        return 0"
   ]
  },
  {
   "cell_type": "code",
   "execution_count": 68,
   "id": "excess-sight",
   "metadata": {},
   "outputs": [
    {
     "name": "stdout",
     "output_type": "stream",
     "text": [
      "5.568063735961914 s\n"
     ]
    }
   ],
   "source": [
    "bertLabelsEnc = getV1Embeddings('bert-base-nli-mean-tokens')\n",
    "bertLabelsEncMap = getMap(bertLabelsEnc)\n",
    "wordsimDF1['bertLabelsSim'] = wordsimDF.apply(checkSimilarity, axis=1, args=(bertLabelsEncMap, ))\n",
    "wordsimDF1['bertLabelsSim'] = wordsimDF1.bertLabelsSim.apply(lambda p: p[0][0] if p != 0 else p)\n",
    "wordsimDF1.bertLabelsSim *= 10"
   ]
  },
  {
   "cell_type": "code",
   "execution_count": 69,
   "id": "metropolitan-sunglasses",
   "metadata": {},
   "outputs": [
    {
     "data": {
      "text/plain": [
       "(118, 118, 1.0)"
      ]
     },
     "execution_count": 69,
     "metadata": {},
     "output_type": "execute_result"
    }
   ],
   "source": [
    "cnt = wordsimDF.apply(getCoverage, axis=1, args=(bertLabelsEncMap, )).sum()\n",
    "cnt, len(wordsimDF), cnt / len(wordsimDF)"
   ]
  },
  {
   "cell_type": "code",
   "execution_count": 70,
   "id": "entire-branch",
   "metadata": {},
   "outputs": [
    {
     "ename": "KeyError",
     "evalue": "'Human (Mean)'",
     "output_type": "error",
     "traceback": [
      "\u001b[0;31m---------------------------------------------------------------------------\u001b[0m",
      "\u001b[0;31mKeyError\u001b[0m                                  Traceback (most recent call last)",
      "\u001b[0;32m~/miniconda3/envs/kgtkEnv/lib/python3.8/site-packages/pandas/core/indexes/base.py\u001b[0m in \u001b[0;36mget_loc\u001b[0;34m(self, key, method, tolerance)\u001b[0m\n\u001b[1;32m   3079\u001b[0m             \u001b[0;32mtry\u001b[0m\u001b[0;34m:\u001b[0m\u001b[0;34m\u001b[0m\u001b[0;34m\u001b[0m\u001b[0m\n\u001b[0;32m-> 3080\u001b[0;31m                 \u001b[0;32mreturn\u001b[0m \u001b[0mself\u001b[0m\u001b[0;34m.\u001b[0m\u001b[0m_engine\u001b[0m\u001b[0;34m.\u001b[0m\u001b[0mget_loc\u001b[0m\u001b[0;34m(\u001b[0m\u001b[0mcasted_key\u001b[0m\u001b[0;34m)\u001b[0m\u001b[0;34m\u001b[0m\u001b[0;34m\u001b[0m\u001b[0m\n\u001b[0m\u001b[1;32m   3081\u001b[0m             \u001b[0;32mexcept\u001b[0m \u001b[0mKeyError\u001b[0m \u001b[0;32mas\u001b[0m \u001b[0merr\u001b[0m\u001b[0;34m:\u001b[0m\u001b[0;34m\u001b[0m\u001b[0;34m\u001b[0m\u001b[0m\n",
      "\u001b[0;32mpandas/_libs/index.pyx\u001b[0m in \u001b[0;36mpandas._libs.index.IndexEngine.get_loc\u001b[0;34m()\u001b[0m\n",
      "\u001b[0;32mpandas/_libs/index.pyx\u001b[0m in \u001b[0;36mpandas._libs.index.IndexEngine.get_loc\u001b[0;34m()\u001b[0m\n",
      "\u001b[0;32mpandas/_libs/hashtable_class_helper.pxi\u001b[0m in \u001b[0;36mpandas._libs.hashtable.PyObjectHashTable.get_item\u001b[0;34m()\u001b[0m\n",
      "\u001b[0;32mpandas/_libs/hashtable_class_helper.pxi\u001b[0m in \u001b[0;36mpandas._libs.hashtable.PyObjectHashTable.get_item\u001b[0;34m()\u001b[0m\n",
      "\u001b[0;31mKeyError\u001b[0m: 'Human (Mean)'",
      "\nThe above exception was the direct cause of the following exception:\n",
      "\u001b[0;31mKeyError\u001b[0m                                  Traceback (most recent call last)",
      "\u001b[0;32m<ipython-input-70-2ab25beb21dd>\u001b[0m in \u001b[0;36m<module>\u001b[0;34m\u001b[0m\n\u001b[0;32m----> 1\u001b[0;31m \u001b[0mstats\u001b[0m\u001b[0;34m.\u001b[0m\u001b[0mkendalltau\u001b[0m\u001b[0;34m(\u001b[0m\u001b[0mwordsimDF1\u001b[0m\u001b[0;34m[\u001b[0m\u001b[0;34m'Human (Mean)'\u001b[0m\u001b[0;34m]\u001b[0m\u001b[0;34m.\u001b[0m\u001b[0mto_list\u001b[0m\u001b[0;34m(\u001b[0m\u001b[0;34m)\u001b[0m\u001b[0;34m,\u001b[0m \u001b[0mwordsimDF1\u001b[0m\u001b[0;34m[\u001b[0m\u001b[0;34m'bertLabelsSim'\u001b[0m\u001b[0;34m]\u001b[0m\u001b[0;34m)\u001b[0m\u001b[0;34m\u001b[0m\u001b[0;34m\u001b[0m\u001b[0m\n\u001b[0m",
      "\u001b[0;32m~/miniconda3/envs/kgtkEnv/lib/python3.8/site-packages/pandas/core/frame.py\u001b[0m in \u001b[0;36m__getitem__\u001b[0;34m(self, key)\u001b[0m\n\u001b[1;32m   3022\u001b[0m             \u001b[0;32mif\u001b[0m \u001b[0mself\u001b[0m\u001b[0;34m.\u001b[0m\u001b[0mcolumns\u001b[0m\u001b[0;34m.\u001b[0m\u001b[0mnlevels\u001b[0m \u001b[0;34m>\u001b[0m \u001b[0;36m1\u001b[0m\u001b[0;34m:\u001b[0m\u001b[0;34m\u001b[0m\u001b[0;34m\u001b[0m\u001b[0m\n\u001b[1;32m   3023\u001b[0m                 \u001b[0;32mreturn\u001b[0m \u001b[0mself\u001b[0m\u001b[0;34m.\u001b[0m\u001b[0m_getitem_multilevel\u001b[0m\u001b[0;34m(\u001b[0m\u001b[0mkey\u001b[0m\u001b[0;34m)\u001b[0m\u001b[0;34m\u001b[0m\u001b[0;34m\u001b[0m\u001b[0m\n\u001b[0;32m-> 3024\u001b[0;31m             \u001b[0mindexer\u001b[0m \u001b[0;34m=\u001b[0m \u001b[0mself\u001b[0m\u001b[0;34m.\u001b[0m\u001b[0mcolumns\u001b[0m\u001b[0;34m.\u001b[0m\u001b[0mget_loc\u001b[0m\u001b[0;34m(\u001b[0m\u001b[0mkey\u001b[0m\u001b[0;34m)\u001b[0m\u001b[0;34m\u001b[0m\u001b[0;34m\u001b[0m\u001b[0m\n\u001b[0m\u001b[1;32m   3025\u001b[0m             \u001b[0;32mif\u001b[0m \u001b[0mis_integer\u001b[0m\u001b[0;34m(\u001b[0m\u001b[0mindexer\u001b[0m\u001b[0;34m)\u001b[0m\u001b[0;34m:\u001b[0m\u001b[0;34m\u001b[0m\u001b[0;34m\u001b[0m\u001b[0m\n\u001b[1;32m   3026\u001b[0m                 \u001b[0mindexer\u001b[0m \u001b[0;34m=\u001b[0m \u001b[0;34m[\u001b[0m\u001b[0mindexer\u001b[0m\u001b[0;34m]\u001b[0m\u001b[0;34m\u001b[0m\u001b[0;34m\u001b[0m\u001b[0m\n",
      "\u001b[0;32m~/miniconda3/envs/kgtkEnv/lib/python3.8/site-packages/pandas/core/indexes/base.py\u001b[0m in \u001b[0;36mget_loc\u001b[0;34m(self, key, method, tolerance)\u001b[0m\n\u001b[1;32m   3080\u001b[0m                 \u001b[0;32mreturn\u001b[0m \u001b[0mself\u001b[0m\u001b[0;34m.\u001b[0m\u001b[0m_engine\u001b[0m\u001b[0;34m.\u001b[0m\u001b[0mget_loc\u001b[0m\u001b[0;34m(\u001b[0m\u001b[0mcasted_key\u001b[0m\u001b[0;34m)\u001b[0m\u001b[0;34m\u001b[0m\u001b[0;34m\u001b[0m\u001b[0m\n\u001b[1;32m   3081\u001b[0m             \u001b[0;32mexcept\u001b[0m \u001b[0mKeyError\u001b[0m \u001b[0;32mas\u001b[0m \u001b[0merr\u001b[0m\u001b[0;34m:\u001b[0m\u001b[0;34m\u001b[0m\u001b[0;34m\u001b[0m\u001b[0m\n\u001b[0;32m-> 3082\u001b[0;31m                 \u001b[0;32mraise\u001b[0m \u001b[0mKeyError\u001b[0m\u001b[0;34m(\u001b[0m\u001b[0mkey\u001b[0m\u001b[0;34m)\u001b[0m \u001b[0;32mfrom\u001b[0m \u001b[0merr\u001b[0m\u001b[0;34m\u001b[0m\u001b[0;34m\u001b[0m\u001b[0m\n\u001b[0m\u001b[1;32m   3083\u001b[0m \u001b[0;34m\u001b[0m\u001b[0m\n\u001b[1;32m   3084\u001b[0m         \u001b[0;32mif\u001b[0m \u001b[0mtolerance\u001b[0m \u001b[0;32mis\u001b[0m \u001b[0;32mnot\u001b[0m \u001b[0;32mNone\u001b[0m\u001b[0;34m:\u001b[0m\u001b[0;34m\u001b[0m\u001b[0;34m\u001b[0m\u001b[0m\n",
      "\u001b[0;31mKeyError\u001b[0m: 'Human (Mean)'"
     ]
    }
   ],
   "source": [
    "stats.kendalltau(wordsimDF1['Human (Mean)'].to_list(), wordsimDF1['bertLabelsSim'])"
   ]
  },
  {
   "cell_type": "code",
   "execution_count": null,
   "id": "positive-clone",
   "metadata": {},
   "outputs": [],
   "source": [
    "stats.spearmanr(wordsimDF1['Human (Mean)'].to_list(), wordsimDF1['bertLabelsSim'])"
   ]
  },
  {
   "cell_type": "markdown",
   "id": "choice-alfred",
   "metadata": {},
   "source": [
    "# Amandeep's file generation"
   ]
  },
  {
   "cell_type": "code",
   "execution_count": 17,
   "id": "attached-persian",
   "metadata": {},
   "outputs": [],
   "source": [
    "# q1 = \"kgtk query -i ../data/wikidataos.for.text-embedding.tsv.gz --match '(node1)-[]->(node2)' --where 'node1 in [\" + \",\".join(['\"'+word1+'\"' for word1 in wordsimQNodesListWAbstractsLabelsDF2.index.to_list()]) + \"]' -o ../data/wikidataos.for.text-embedding.subset2.tsv\"\n"
   ]
  },
  {
   "cell_type": "code",
   "execution_count": 18,
   "id": "fleet-finder",
   "metadata": {},
   "outputs": [],
   "source": [
    "# import os\n",
    "# os.system(\"screen -dm \"+q1)"
   ]
  },
  {
   "cell_type": "code",
   "execution_count": 19,
   "id": "fancy-personality",
   "metadata": {},
   "outputs": [],
   "source": [
    "wikidataOSDF = pd.read_csv('../data/wikidataos.for.text-embedding.subset2.tsv', sep='\\t')"
   ]
  },
  {
   "cell_type": "code",
   "execution_count": 20,
   "id": "broke-grave",
   "metadata": {},
   "outputs": [
    {
     "data": {
      "text/html": [
       "<div>\n",
       "<style scoped>\n",
       "    .dataframe tbody tr th:only-of-type {\n",
       "        vertical-align: middle;\n",
       "    }\n",
       "\n",
       "    .dataframe tbody tr th {\n",
       "        vertical-align: top;\n",
       "    }\n",
       "\n",
       "    .dataframe thead th {\n",
       "        text-align: right;\n",
       "    }\n",
       "</style>\n",
       "<table border=\"1\" class=\"dataframe\">\n",
       "  <thead>\n",
       "    <tr style=\"text-align: right;\">\n",
       "      <th></th>\n",
       "      <th>id</th>\n",
       "      <th>node1</th>\n",
       "      <th>label</th>\n",
       "      <th>node2</th>\n",
       "      <th>rank</th>\n",
       "      <th>node2;wikidatatype</th>\n",
       "    </tr>\n",
       "  </thead>\n",
       "  <tbody>\n",
       "    <tr>\n",
       "      <th>0</th>\n",
       "      <td>Q104021-P1245-868aab-b3f18d7b-0</td>\n",
       "      <td>Q104021</td>\n",
       "      <td>P1245</td>\n",
       "      <td>1412</td>\n",
       "      <td>normal</td>\n",
       "      <td>external-id</td>\n",
       "    </tr>\n",
       "    <tr>\n",
       "      <th>1</th>\n",
       "      <td>Q104021-P1296-7a59c3-5f49b5a7-0</td>\n",
       "      <td>Q104021</td>\n",
       "      <td>P1296</td>\n",
       "      <td>0108342</td>\n",
       "      <td>normal</td>\n",
       "      <td>external-id</td>\n",
       "    </tr>\n",
       "    <tr>\n",
       "      <th>2</th>\n",
       "      <td>Q104021-P1343-Q19180675-e305e6f3-0</td>\n",
       "      <td>Q104021</td>\n",
       "      <td>P1343</td>\n",
       "      <td>Q19180675</td>\n",
       "      <td>normal</td>\n",
       "      <td>wikibase-item</td>\n",
       "    </tr>\n",
       "    <tr>\n",
       "      <th>3</th>\n",
       "      <td>Q104021-P1343-Q2657718-2d01d189-0</td>\n",
       "      <td>Q104021</td>\n",
       "      <td>P1343</td>\n",
       "      <td>Q2657718</td>\n",
       "      <td>normal</td>\n",
       "      <td>wikibase-item</td>\n",
       "    </tr>\n",
       "    <tr>\n",
       "      <th>4</th>\n",
       "      <td>Q104021-P1343-Q4091875-50bd890f-0</td>\n",
       "      <td>Q104021</td>\n",
       "      <td>P1343</td>\n",
       "      <td>Q4091875</td>\n",
       "      <td>normal</td>\n",
       "      <td>wikibase-item</td>\n",
       "    </tr>\n",
       "  </tbody>\n",
       "</table>\n",
       "</div>"
      ],
      "text/plain": [
       "                                   id    node1  label      node2    rank  \\\n",
       "0     Q104021-P1245-868aab-b3f18d7b-0  Q104021  P1245       1412  normal   \n",
       "1     Q104021-P1296-7a59c3-5f49b5a7-0  Q104021  P1296    0108342  normal   \n",
       "2  Q104021-P1343-Q19180675-e305e6f3-0  Q104021  P1343  Q19180675  normal   \n",
       "3   Q104021-P1343-Q2657718-2d01d189-0  Q104021  P1343   Q2657718  normal   \n",
       "4   Q104021-P1343-Q4091875-50bd890f-0  Q104021  P1343   Q4091875  normal   \n",
       "\n",
       "  node2;wikidatatype  \n",
       "0        external-id  \n",
       "1        external-id  \n",
       "2      wikibase-item  \n",
       "3      wikibase-item  \n",
       "4      wikibase-item  "
      ]
     },
     "execution_count": 20,
     "metadata": {},
     "output_type": "execute_result"
    }
   ],
   "source": [
    "wikidataOSDF.head()"
   ]
  },
  {
   "cell_type": "code",
   "execution_count": 21,
   "id": "behavioral-layout",
   "metadata": {},
   "outputs": [],
   "source": [
    "# !kgtk query -i ../data/wikidataos.for.text-embedding.subset2.tsv \\\n",
    "#     --match '(node1)-[]->()' \\\n",
    "#     --return 'count(distinct node1)'"
   ]
  },
  {
   "cell_type": "code",
   "execution_count": 22,
   "id": "resistant-jungle",
   "metadata": {},
   "outputs": [],
   "source": [
    "# !kgtk text-embedding -i ../data/wikidataos.for.text-embedding.subset2.tsv   \\\n",
    "#     --model roberta-large-nli-mean-tokens   \\\n",
    "#     --property-labels-file ../data/labels.en.tsv  --debug   \\\n",
    "#     --isa-properties P31 P279 P106 P39 P1382 P373 P452   \\\n",
    "#     --save-embedding-sentence > ../data/wikidataos-text-embeddings-subset2.tsv"
   ]
  },
  {
   "cell_type": "code",
   "execution_count": 23,
   "id": "humanitarian-divide",
   "metadata": {
    "scrolled": true
   },
   "outputs": [
    {
     "data": {
      "text/plain": [
       "418"
      ]
     },
     "execution_count": 23,
     "metadata": {},
     "output_type": "execute_result"
    }
   ],
   "source": [
    "len(set(wordsimQNodesListWAbstractsLabelsDF2.index.to_list()))"
   ]
  },
  {
   "cell_type": "code",
   "execution_count": 24,
   "id": "unique-accuracy",
   "metadata": {},
   "outputs": [],
   "source": [
    "wikidataOSEmbDF = pd.read_csv('../data/wikidataos-text-embeddings-subset2.tsv', sep='\\t')"
   ]
  },
  {
   "cell_type": "code",
   "execution_count": 25,
   "id": "smooth-librarian",
   "metadata": {},
   "outputs": [],
   "source": [
    "wikidataOSEmbDF1 = wikidataOSEmbDF[wikidataOSEmbDF.property == 'text_embedding'].loc[:,['node','value']]"
   ]
  },
  {
   "cell_type": "code",
   "execution_count": 26,
   "id": "wired-surveillance",
   "metadata": {
    "scrolled": false
   },
   "outputs": [
    {
     "data": {
      "text/html": [
       "<div>\n",
       "<style scoped>\n",
       "    .dataframe tbody tr th:only-of-type {\n",
       "        vertical-align: middle;\n",
       "    }\n",
       "\n",
       "    .dataframe tbody tr th {\n",
       "        vertical-align: top;\n",
       "    }\n",
       "\n",
       "    .dataframe thead th {\n",
       "        text-align: right;\n",
       "    }\n",
       "</style>\n",
       "<table border=\"1\" class=\"dataframe\">\n",
       "  <thead>\n",
       "    <tr style=\"text-align: right;\">\n",
       "      <th></th>\n",
       "      <th>node</th>\n",
       "      <th>value</th>\n",
       "    </tr>\n",
       "  </thead>\n",
       "  <tbody>\n",
       "    <tr>\n",
       "      <th>0</th>\n",
       "      <td>Q998</td>\n",
       "      <td>0.50568223,-0.10802102,-0.3486761,0.78598565,-...</td>\n",
       "    </tr>\n",
       "    <tr>\n",
       "      <th>2</th>\n",
       "      <td>Q99496317</td>\n",
       "      <td>-0.663889,1.3066527,0.7410443,0.7310645,-0.086...</td>\n",
       "    </tr>\n",
       "    <tr>\n",
       "      <th>4</th>\n",
       "      <td>Q98069877</td>\n",
       "      <td>0.79087067,0.6158045,0.18239851,-0.44384396,-0...</td>\n",
       "    </tr>\n",
       "    <tr>\n",
       "      <th>6</th>\n",
       "      <td>Q964401</td>\n",
       "      <td>-0.4146536,0.36972183,-0.9731038,0.72235125,0....</td>\n",
       "    </tr>\n",
       "    <tr>\n",
       "      <th>8</th>\n",
       "      <td>Q9635</td>\n",
       "      <td>0.085437864,0.50590533,-0.7758463,0.575578,1.1...</td>\n",
       "    </tr>\n",
       "  </tbody>\n",
       "</table>\n",
       "</div>"
      ],
      "text/plain": [
       "        node                                              value\n",
       "0       Q998  0.50568223,-0.10802102,-0.3486761,0.78598565,-...\n",
       "2  Q99496317  -0.663889,1.3066527,0.7410443,0.7310645,-0.086...\n",
       "4  Q98069877  0.79087067,0.6158045,0.18239851,-0.44384396,-0...\n",
       "6    Q964401  -0.4146536,0.36972183,-0.9731038,0.72235125,0....\n",
       "8      Q9635  0.085437864,0.50590533,-0.7758463,0.575578,1.1..."
      ]
     },
     "execution_count": 26,
     "metadata": {},
     "output_type": "execute_result"
    }
   ],
   "source": [
    "wikidataOSEmbDF1.head()"
   ]
  },
  {
   "cell_type": "markdown",
   "id": "loved-serial",
   "metadata": {},
   "source": [
    "# Version 2 - Comparison of cosine similarity measures with Amandeep's original file new pairs"
   ]
  },
  {
   "cell_type": "code",
   "execution_count": 27,
   "id": "novel-milwaukee",
   "metadata": {},
   "outputs": [],
   "source": [
    "import json"
   ]
  },
  {
   "cell_type": "code",
   "execution_count": 28,
   "id": "computational-vinyl",
   "metadata": {},
   "outputs": [
    {
     "name": "stderr",
     "output_type": "stream",
     "text": [
      "<ipython-input-28-6aed93388a22>:3: SettingWithCopyWarning: \n",
      "A value is trying to be set on a copy of a slice from a DataFrame.\n",
      "Try using .loc[row_indexer,col_indexer] = value instead\n",
      "\n",
      "See the caveats in the documentation: https://pandas.pydata.org/pandas-docs/stable/user_guide/indexing.html#returning-a-view-versus-a-copy\n",
      "  wordsimDF1['amanSim'] = amanEncSim * 10\n",
      "<ipython-input-28-6aed93388a22>:4: SettingWithCopyWarning: \n",
      "A value is trying to be set on a copy of a slice from a DataFrame.\n",
      "Try using .loc[row_indexer,col_indexer] = value instead\n",
      "\n",
      "See the caveats in the documentation: https://pandas.pydata.org/pandas-docs/stable/user_guide/indexing.html#returning-a-view-versus-a-copy\n",
      "  wordsimDF1['amanSim'] = wordsimDF1.amanSim.apply(lambda p: p[0][0] if p != 0 else p)\n"
     ]
    }
   ],
   "source": [
    "amanEncMap = {row['node']: json.loads('['+row['value']+']') for _, row in wikidataOSEmbDF1.iterrows()}\n",
    "amanEncSim = wordsimDF.apply(checkSimilarity, axis=1, args=(amanEncMap, ))\n",
    "wordsimDF1['amanSim'] = amanEncSim * 10\n",
    "wordsimDF1['amanSim'] = wordsimDF1.amanSim.apply(lambda p: p[0][0] if p != 0 else p)"
   ]
  },
  {
   "cell_type": "code",
   "execution_count": 29,
   "id": "virtual-sodium",
   "metadata": {},
   "outputs": [
    {
     "data": {
      "text/plain": [
       "(330, 349, 0.9455587392550143)"
      ]
     },
     "execution_count": 29,
     "metadata": {},
     "output_type": "execute_result"
    }
   ],
   "source": [
    "cnt = wordsimDF.apply(getCoverage, axis=1, args=(amanEncMap, )).sum()\n",
    "cnt, len(wordsimDF), cnt / len(wordsimDF)"
   ]
  },
  {
   "cell_type": "code",
   "execution_count": 30,
   "id": "dated-delta",
   "metadata": {},
   "outputs": [
    {
     "data": {
      "text/plain": [
       "KendalltauResult(correlation=0.3654839025870469, pvalue=3.731075991381434e-24)"
      ]
     },
     "execution_count": 30,
     "metadata": {},
     "output_type": "execute_result"
    }
   ],
   "source": [
    "stats.kendalltau(wordsimDF1['Human (Mean)'].to_list(), wordsimDF1['amanSim'])"
   ]
  },
  {
   "cell_type": "code",
   "execution_count": 31,
   "id": "realistic-belize",
   "metadata": {
    "scrolled": true
   },
   "outputs": [
    {
     "data": {
      "text/plain": [
       "SpearmanrResult(correlation=0.5075204852629356, pvalue=3.0234963712614295e-24)"
      ]
     },
     "execution_count": 31,
     "metadata": {},
     "output_type": "execute_result"
    }
   ],
   "source": [
    "stats.spearmanr(wordsimDF1['Human (Mean)'].to_list(), wordsimDF1['amanSim'])"
   ]
  },
  {
   "cell_type": "markdown",
   "id": "hourly-armor",
   "metadata": {},
   "source": [
    "# Version 3 - P31, P279 edges from lexicalized version"
   ]
  },
  {
   "cell_type": "code",
   "execution_count": 32,
   "id": "empty-laugh",
   "metadata": {
    "scrolled": true
   },
   "outputs": [],
   "source": [
    "# !kgtk text-embedding -i ../data/wikidataos.for.text-embedding.subset2.tsv   \\\n",
    "#     --model roberta-large-nli-mean-tokens   \\\n",
    "#     --property-labels-file ../data/labels.en.tsv  --debug   \\\n",
    "#     --isa-properties P31 P279  \\\n",
    "#     --save-embedding-sentence > ../data/wikidataos-text-embeddings-subset3.tsv"
   ]
  },
  {
   "cell_type": "code",
   "execution_count": 33,
   "id": "biological-enhancement",
   "metadata": {},
   "outputs": [],
   "source": [
    "wikidataV3DF = pd.read_csv('../data/wikidataos-text-embeddings-subset3.tsv', sep='\\t')"
   ]
  },
  {
   "cell_type": "code",
   "execution_count": 34,
   "id": "silent-logging",
   "metadata": {},
   "outputs": [],
   "source": [
    "wikidataV3DF = wikidataV3DF[wikidataV3DF.property == 'text_embedding'].loc[:,['node','value']]"
   ]
  },
  {
   "cell_type": "code",
   "execution_count": 35,
   "id": "color-sword",
   "metadata": {
    "scrolled": false
   },
   "outputs": [
    {
     "data": {
      "text/html": [
       "<div>\n",
       "<style scoped>\n",
       "    .dataframe tbody tr th:only-of-type {\n",
       "        vertical-align: middle;\n",
       "    }\n",
       "\n",
       "    .dataframe tbody tr th {\n",
       "        vertical-align: top;\n",
       "    }\n",
       "\n",
       "    .dataframe thead th {\n",
       "        text-align: right;\n",
       "    }\n",
       "</style>\n",
       "<table border=\"1\" class=\"dataframe\">\n",
       "  <thead>\n",
       "    <tr style=\"text-align: right;\">\n",
       "      <th></th>\n",
       "      <th>node</th>\n",
       "      <th>value</th>\n",
       "    </tr>\n",
       "  </thead>\n",
       "  <tbody>\n",
       "    <tr>\n",
       "      <th>0</th>\n",
       "      <td>Q998</td>\n",
       "      <td>0.60533667,-0.32207027,-0.19160181,0.70176995,...</td>\n",
       "    </tr>\n",
       "    <tr>\n",
       "      <th>2</th>\n",
       "      <td>Q99496317</td>\n",
       "      <td>-0.663889,1.3066527,0.7410443,0.7310645,-0.086...</td>\n",
       "    </tr>\n",
       "    <tr>\n",
       "      <th>4</th>\n",
       "      <td>Q98069877</td>\n",
       "      <td>0.79087067,0.6158045,0.18239851,-0.44384396,-0...</td>\n",
       "    </tr>\n",
       "    <tr>\n",
       "      <th>6</th>\n",
       "      <td>Q964401</td>\n",
       "      <td>-0.3510175,0.29355207,-1.0211854,0.35043457,1....</td>\n",
       "    </tr>\n",
       "    <tr>\n",
       "      <th>8</th>\n",
       "      <td>Q9635</td>\n",
       "      <td>-0.010522888,0.4303582,-0.76446587,0.26379517,...</td>\n",
       "    </tr>\n",
       "  </tbody>\n",
       "</table>\n",
       "</div>"
      ],
      "text/plain": [
       "        node                                              value\n",
       "0       Q998  0.60533667,-0.32207027,-0.19160181,0.70176995,...\n",
       "2  Q99496317  -0.663889,1.3066527,0.7410443,0.7310645,-0.086...\n",
       "4  Q98069877  0.79087067,0.6158045,0.18239851,-0.44384396,-0...\n",
       "6    Q964401  -0.3510175,0.29355207,-1.0211854,0.35043457,1....\n",
       "8      Q9635  -0.010522888,0.4303582,-0.76446587,0.26379517,..."
      ]
     },
     "execution_count": 35,
     "metadata": {},
     "output_type": "execute_result"
    }
   ],
   "source": [
    "wikidataV3DF.head()"
   ]
  },
  {
   "cell_type": "code",
   "execution_count": 36,
   "id": "essential-virtue",
   "metadata": {},
   "outputs": [
    {
     "name": "stderr",
     "output_type": "stream",
     "text": [
      "<ipython-input-36-7dbb17313628>:4: SettingWithCopyWarning: \n",
      "A value is trying to be set on a copy of a slice from a DataFrame.\n",
      "Try using .loc[row_indexer,col_indexer] = value instead\n",
      "\n",
      "See the caveats in the documentation: https://pandas.pydata.org/pandas-docs/stable/user_guide/indexing.html#returning-a-view-versus-a-copy\n",
      "  wordsimDF1['wikiV3EncSim'] = wikiV3EncSim * 10\n",
      "<ipython-input-36-7dbb17313628>:5: SettingWithCopyWarning: \n",
      "A value is trying to be set on a copy of a slice from a DataFrame.\n",
      "Try using .loc[row_indexer,col_indexer] = value instead\n",
      "\n",
      "See the caveats in the documentation: https://pandas.pydata.org/pandas-docs/stable/user_guide/indexing.html#returning-a-view-versus-a-copy\n",
      "  wordsimDF1['wikiV3EncSim'] = wordsimDF1.wikiV3EncSim.apply(lambda p: p[0][0] if p != 0 else p)\n"
     ]
    }
   ],
   "source": [
    "import json\n",
    "wikiV3EncMap = {row['node']: json.loads('['+row['value']+']') for _, row in wikidataV3DF.iterrows()}\n",
    "wikiV3EncSim = wordsimDF.apply(checkSimilarity, axis=1, args=(wikiV3EncMap, ))\n",
    "wordsimDF1['wikiV3EncSim'] = wikiV3EncSim * 10\n",
    "wordsimDF1['wikiV3EncSim'] = wordsimDF1.wikiV3EncSim.apply(lambda p: p[0][0] if p != 0 else p)"
   ]
  },
  {
   "cell_type": "code",
   "execution_count": 37,
   "id": "charming-indicator",
   "metadata": {},
   "outputs": [
    {
     "data": {
      "text/plain": [
       "(330, 349, 0.9455587392550143)"
      ]
     },
     "execution_count": 37,
     "metadata": {},
     "output_type": "execute_result"
    }
   ],
   "source": [
    "cnt = wordsimDF.apply(getCoverage, axis=1, args=(wikiV3EncMap, )).sum()\n",
    "cnt, len(wordsimDF), cnt / len(wordsimDF)"
   ]
  },
  {
   "cell_type": "code",
   "execution_count": 38,
   "id": "dependent-sensitivity",
   "metadata": {},
   "outputs": [
    {
     "data": {
      "text/plain": [
       "KendalltauResult(correlation=0.33429987563573715, pvalue=1.805960166533804e-20)"
      ]
     },
     "execution_count": 38,
     "metadata": {},
     "output_type": "execute_result"
    }
   ],
   "source": [
    "stats.kendalltau(wordsimDF1['Human (Mean)'].to_list(), wordsimDF1['wikiV3EncSim'])"
   ]
  },
  {
   "cell_type": "code",
   "execution_count": 39,
   "id": "fresh-correspondence",
   "metadata": {},
   "outputs": [
    {
     "data": {
      "text/plain": [
       "SpearmanrResult(correlation=0.4737260118146468, pvalue=6.343179394616253e-21)"
      ]
     },
     "execution_count": 39,
     "metadata": {},
     "output_type": "execute_result"
    }
   ],
   "source": [
    "stats.spearmanr(wordsimDF1['Human (Mean)'].to_list(), wordsimDF1['wikiV3EncSim'])"
   ]
  },
  {
   "cell_type": "markdown",
   "id": "specified-tomorrow",
   "metadata": {},
   "source": [
    "# Version 4 - First sentence of abstract vs human"
   ]
  },
  {
   "cell_type": "code",
   "execution_count": 40,
   "id": "opposite-discipline",
   "metadata": {},
   "outputs": [],
   "source": [
    "from nltk.tokenize import sent_tokenize"
   ]
  },
  {
   "cell_type": "code",
   "execution_count": 41,
   "id": "single-antigua",
   "metadata": {},
   "outputs": [
    {
     "data": {
      "text/plain": [
       "324"
      ]
     },
     "execution_count": 41,
     "metadata": {},
     "output_type": "execute_result"
    }
   ],
   "source": [
    "len(wordsimQNodesListWAbstractsLabelsDF1)"
   ]
  },
  {
   "cell_type": "code",
   "execution_count": 42,
   "id": "structured-specialist",
   "metadata": {
    "scrolled": true
   },
   "outputs": [
    {
     "data": {
      "text/plain": [
       "0"
      ]
     },
     "execution_count": 42,
     "metadata": {},
     "output_type": "execute_result"
    }
   ],
   "source": [
    "wordsimQNodesListWAbstractsLabelsDF1.abstract.isna().sum()"
   ]
  },
  {
   "cell_type": "code",
   "execution_count": 43,
   "id": "unnecessary-outdoors",
   "metadata": {},
   "outputs": [],
   "source": [
    "wordsimQNodesListWAbstractsLabelsDF1['abstractFirstSent'] = wordsimQNodesListWAbstractsLabelsDF1.abstract.apply(lambda p: sent_tokenize(p)[0])"
   ]
  },
  {
   "cell_type": "code",
   "execution_count": 44,
   "id": "breathing-purchase",
   "metadata": {},
   "outputs": [
    {
     "data": {
      "text/html": [
       "<div>\n",
       "<style scoped>\n",
       "    .dataframe tbody tr th:only-of-type {\n",
       "        vertical-align: middle;\n",
       "    }\n",
       "\n",
       "    .dataframe tbody tr th {\n",
       "        vertical-align: top;\n",
       "    }\n",
       "\n",
       "    .dataframe thead th {\n",
       "        text-align: right;\n",
       "    }\n",
       "</style>\n",
       "<table border=\"1\" class=\"dataframe\">\n",
       "  <thead>\n",
       "    <tr style=\"text-align: right;\">\n",
       "      <th></th>\n",
       "      <th>index</th>\n",
       "      <th>id</th>\n",
       "      <th>label</th>\n",
       "      <th>node2</th>\n",
       "      <th>ignore</th>\n",
       "      <th>url</th>\n",
       "      <th>ignore2</th>\n",
       "      <th>abstract</th>\n",
       "      <th>node2_labelsDF</th>\n",
       "      <th>abstractFirstSent</th>\n",
       "    </tr>\n",
       "    <tr>\n",
       "      <th>node1</th>\n",
       "      <th></th>\n",
       "      <th></th>\n",
       "      <th></th>\n",
       "      <th></th>\n",
       "      <th></th>\n",
       "      <th></th>\n",
       "      <th></th>\n",
       "      <th></th>\n",
       "      <th></th>\n",
       "      <th></th>\n",
       "    </tr>\n",
       "  </thead>\n",
       "  <tbody>\n",
       "    <tr>\n",
       "      <th>Q8068</th>\n",
       "      <td>Flood</td>\n",
       "      <td>Q8068-wikipedia_sitelink-410669-0</td>\n",
       "      <td>wikipedia_sitelink</td>\n",
       "      <td>http://en.wikipedia.org/wiki/Flood</td>\n",
       "      <td>23841.0</td>\n",
       "      <td>&lt;http://dbpedia.org/resource/Flood&gt;</td>\n",
       "      <td>&lt;http://www.w3.org/2000/01/rdf-schema#comment&gt;</td>\n",
       "      <td>A flood is an overflow of water that submerges...</td>\n",
       "      <td>flood</td>\n",
       "      <td>A flood is an overflow of water that submerges...</td>\n",
       "    </tr>\n",
       "    <tr>\n",
       "      <th>Q1368</th>\n",
       "      <td>Money</td>\n",
       "      <td>Q1368-wikipedia_sitelink-59ade8-0</td>\n",
       "      <td>wikipedia_sitelink</td>\n",
       "      <td>http://en.wikipedia.org/wiki/Money</td>\n",
       "      <td>1312979.0</td>\n",
       "      <td>&lt;http://dbpedia.org/resource/Money&gt;</td>\n",
       "      <td>&lt;http://www.w3.org/2000/01/rdf-schema#comment&gt;</td>\n",
       "      <td>Money is any item or verifiable record that is...</td>\n",
       "      <td>money</td>\n",
       "      <td>Money is any item or verifiable record that is...</td>\n",
       "    </tr>\n",
       "    <tr>\n",
       "      <th>Q872</th>\n",
       "      <td>Radio</td>\n",
       "      <td>Q872-wikipedia_sitelink-1e49e4-0</td>\n",
       "      <td>wikipedia_sitelink</td>\n",
       "      <td>http://en.wikipedia.org/wiki/Radio</td>\n",
       "      <td>1866867.0</td>\n",
       "      <td>&lt;http://dbpedia.org/resource/Radio&gt;</td>\n",
       "      <td>&lt;http://www.w3.org/2000/01/rdf-schema#comment&gt;</td>\n",
       "      <td>Radio is the technology of signaling and commu...</td>\n",
       "      <td>radio</td>\n",
       "      <td>Radio is the technology of signaling and commu...</td>\n",
       "    </tr>\n",
       "    <tr>\n",
       "      <th>Q5070802</th>\n",
       "      <td>Emergency</td>\n",
       "      <td>Q5070802-wikipedia_sitelink-41cebc-0</td>\n",
       "      <td>wikipedia_sitelink</td>\n",
       "      <td>http://en.wikipedia.org/wiki/Emergency</td>\n",
       "      <td>80429.0</td>\n",
       "      <td>&lt;http://dbpedia.org/resource/Emergency&gt;</td>\n",
       "      <td>&lt;http://www.w3.org/2000/01/rdf-schema#comment&gt;</td>\n",
       "      <td>An emergency is a situation that poses an imme...</td>\n",
       "      <td>emergency</td>\n",
       "      <td>An emergency is a situation that poses an imme...</td>\n",
       "    </tr>\n",
       "    <tr>\n",
       "      <th>Q213449</th>\n",
       "      <td>Eating</td>\n",
       "      <td>Q213449-wikipedia_sitelink-1e88be-0</td>\n",
       "      <td>wikipedia_sitelink</td>\n",
       "      <td>http://en.wikipedia.org/wiki/Eating</td>\n",
       "      <td>104645.0</td>\n",
       "      <td>&lt;http://dbpedia.org/resource/Eating&gt;</td>\n",
       "      <td>&lt;http://www.w3.org/2000/01/rdf-schema#comment&gt;</td>\n",
       "      <td>Eating (also known as consuming) is the ingest...</td>\n",
       "      <td>eating</td>\n",
       "      <td>Eating (also known as consuming) is the ingest...</td>\n",
       "    </tr>\n",
       "  </tbody>\n",
       "</table>\n",
       "</div>"
      ],
      "text/plain": [
       "              index                                    id               label  \\\n",
       "node1                                                                           \n",
       "Q8068         Flood     Q8068-wikipedia_sitelink-410669-0  wikipedia_sitelink   \n",
       "Q1368         Money     Q1368-wikipedia_sitelink-59ade8-0  wikipedia_sitelink   \n",
       "Q872          Radio      Q872-wikipedia_sitelink-1e49e4-0  wikipedia_sitelink   \n",
       "Q5070802  Emergency  Q5070802-wikipedia_sitelink-41cebc-0  wikipedia_sitelink   \n",
       "Q213449      Eating   Q213449-wikipedia_sitelink-1e88be-0  wikipedia_sitelink   \n",
       "\n",
       "                                           node2     ignore  \\\n",
       "node1                                                         \n",
       "Q8068         http://en.wikipedia.org/wiki/Flood    23841.0   \n",
       "Q1368         http://en.wikipedia.org/wiki/Money  1312979.0   \n",
       "Q872          http://en.wikipedia.org/wiki/Radio  1866867.0   \n",
       "Q5070802  http://en.wikipedia.org/wiki/Emergency    80429.0   \n",
       "Q213449      http://en.wikipedia.org/wiki/Eating   104645.0   \n",
       "\n",
       "                                              url  \\\n",
       "node1                                               \n",
       "Q8068         <http://dbpedia.org/resource/Flood>   \n",
       "Q1368         <http://dbpedia.org/resource/Money>   \n",
       "Q872          <http://dbpedia.org/resource/Radio>   \n",
       "Q5070802  <http://dbpedia.org/resource/Emergency>   \n",
       "Q213449      <http://dbpedia.org/resource/Eating>   \n",
       "\n",
       "                                                 ignore2  \\\n",
       "node1                                                      \n",
       "Q8068     <http://www.w3.org/2000/01/rdf-schema#comment>   \n",
       "Q1368     <http://www.w3.org/2000/01/rdf-schema#comment>   \n",
       "Q872      <http://www.w3.org/2000/01/rdf-schema#comment>   \n",
       "Q5070802  <http://www.w3.org/2000/01/rdf-schema#comment>   \n",
       "Q213449   <http://www.w3.org/2000/01/rdf-schema#comment>   \n",
       "\n",
       "                                                   abstract node2_labelsDF  \\\n",
       "node1                                                                        \n",
       "Q8068     A flood is an overflow of water that submerges...          flood   \n",
       "Q1368     Money is any item or verifiable record that is...          money   \n",
       "Q872      Radio is the technology of signaling and commu...          radio   \n",
       "Q5070802  An emergency is a situation that poses an imme...      emergency   \n",
       "Q213449   Eating (also known as consuming) is the ingest...         eating   \n",
       "\n",
       "                                          abstractFirstSent  \n",
       "node1                                                        \n",
       "Q8068     A flood is an overflow of water that submerges...  \n",
       "Q1368     Money is any item or verifiable record that is...  \n",
       "Q872      Radio is the technology of signaling and commu...  \n",
       "Q5070802  An emergency is a situation that poses an imme...  \n",
       "Q213449   Eating (also known as consuming) is the ingest...  "
      ]
     },
     "execution_count": 44,
     "metadata": {},
     "output_type": "execute_result"
    }
   ],
   "source": [
    "wordsimQNodesListWAbstractsLabelsDF1.head()"
   ]
  },
  {
   "cell_type": "code",
   "execution_count": 45,
   "id": "surgical-title",
   "metadata": {},
   "outputs": [],
   "source": [
    "from sentence_transformers import SentenceTransformer\n",
    "from sklearn.metrics.pairwise import cosine_similarity"
   ]
  },
  {
   "cell_type": "code",
   "execution_count": 46,
   "id": "grateful-harassment",
   "metadata": {},
   "outputs": [],
   "source": [
    "def getFirstSentEmbeddings(modelName):\n",
    "    model = SentenceTransformer(modelName)\n",
    "    start = time()\n",
    "    encodings = model.encode(wordsimQNodesListWAbstractsLabelsDF1.abstractFirstSent.to_list())\n",
    "    print(time()-start,'s')\n",
    "    return encodings\n",
    "\n",
    "def getFirstSentMap(encodings):\n",
    "    return {qnode: enc for qnode, enc in zip(wordsimQNodesListWAbstractsLabelsDF1.index.to_list(), encodings)}\n",
    "\n",
    "def checkSimilarity(row, encodingsMap):\n",
    "    if row['g_qnode'] in encodingsMap and row['p_qnode'] in encodingsMap:\n",
    "        return cosine_similarity([encodingsMap[row['g_qnode']]], [encodingsMap[row['p_qnode']]])\n",
    "    else:\n",
    "        return 0"
   ]
  },
  {
   "cell_type": "code",
   "execution_count": 47,
   "id": "owned-helen",
   "metadata": {},
   "outputs": [
    {
     "name": "stdout",
     "output_type": "stream",
     "text": [
      "0.5808649063110352 s\n"
     ]
    },
    {
     "name": "stderr",
     "output_type": "stream",
     "text": [
      "<ipython-input-47-9075dca18092>:4: SettingWithCopyWarning: \n",
      "A value is trying to be set on a copy of a slice from a DataFrame.\n",
      "Try using .loc[row_indexer,col_indexer] = value instead\n",
      "\n",
      "See the caveats in the documentation: https://pandas.pydata.org/pandas-docs/stable/user_guide/indexing.html#returning-a-view-versus-a-copy\n",
      "  wordsimDF1['bertV4EncSim'] = bertV4EncSim\n",
      "<ipython-input-47-9075dca18092>:5: SettingWithCopyWarning: \n",
      "A value is trying to be set on a copy of a slice from a DataFrame.\n",
      "Try using .loc[row_indexer,col_indexer] = value instead\n",
      "\n",
      "See the caveats in the documentation: https://pandas.pydata.org/pandas-docs/stable/user_guide/indexing.html#returning-a-view-versus-a-copy\n",
      "  wordsimDF1['bertV4EncSim'] = wordsimDF1.bertV4EncSim.apply(lambda p: p[0][0] if p != 0 else p)\n",
      "/nas/home/kshenoy/miniconda3/envs/kgtkEnv/lib/python3.8/site-packages/pandas/core/generic.py:5491: SettingWithCopyWarning: \n",
      "A value is trying to be set on a copy of a slice from a DataFrame.\n",
      "Try using .loc[row_indexer,col_indexer] = value instead\n",
      "\n",
      "See the caveats in the documentation: https://pandas.pydata.org/pandas-docs/stable/user_guide/indexing.html#returning-a-view-versus-a-copy\n",
      "  self[name] = value\n"
     ]
    }
   ],
   "source": [
    "bertV4Enc = getFirstSentEmbeddings('bert-base-nli-mean-tokens')\n",
    "bertV4EncMap = getFirstSentMap(bertV4Enc)\n",
    "bertV4EncSim = wordsimDF.apply(checkSimilarity, axis=1, args=(bertV4EncMap, ))\n",
    "wordsimDF1['bertV4EncSim'] = bertV4EncSim\n",
    "wordsimDF1['bertV4EncSim'] = wordsimDF1.bertV4EncSim.apply(lambda p: p[0][0] if p != 0 else p)\n",
    "wordsimDF1.bertV4EncSim *= 10"
   ]
  },
  {
   "cell_type": "code",
   "execution_count": 48,
   "id": "christian-median",
   "metadata": {},
   "outputs": [
    {
     "data": {
      "text/plain": [
       "(239, 349, 0.6848137535816619)"
      ]
     },
     "execution_count": 48,
     "metadata": {},
     "output_type": "execute_result"
    }
   ],
   "source": [
    "cnt = wordsimDF.apply(getCoverage, axis=1, args=(bertV4EncMap, )).sum()\n",
    "cnt, len(wordsimDF), cnt / len(wordsimDF)"
   ]
  },
  {
   "cell_type": "code",
   "execution_count": 49,
   "id": "nervous-cycling",
   "metadata": {},
   "outputs": [
    {
     "data": {
      "text/html": [
       "<div>\n",
       "<style scoped>\n",
       "    .dataframe tbody tr th:only-of-type {\n",
       "        vertical-align: middle;\n",
       "    }\n",
       "\n",
       "    .dataframe tbody tr th {\n",
       "        vertical-align: top;\n",
       "    }\n",
       "\n",
       "    .dataframe thead th {\n",
       "        text-align: right;\n",
       "    }\n",
       "</style>\n",
       "<table border=\"1\" class=\"dataframe\">\n",
       "  <thead>\n",
       "    <tr style=\"text-align: right;\">\n",
       "      <th></th>\n",
       "      <th>Human (Mean)</th>\n",
       "      <th>bertLabelsSim</th>\n",
       "      <th>amanSim</th>\n",
       "      <th>wikiV3EncSim</th>\n",
       "      <th>bertV4EncSim</th>\n",
       "    </tr>\n",
       "  </thead>\n",
       "  <tbody>\n",
       "    <tr>\n",
       "      <th>0</th>\n",
       "      <td>5.5360</td>\n",
       "      <td>6.809672</td>\n",
       "      <td>4.949738</td>\n",
       "      <td>5.145601</td>\n",
       "      <td>3.770548</td>\n",
       "    </tr>\n",
       "    <tr>\n",
       "      <th>1</th>\n",
       "      <td>4.1250</td>\n",
       "      <td>4.554877</td>\n",
       "      <td>4.818231</td>\n",
       "      <td>3.987047</td>\n",
       "      <td>4.168040</td>\n",
       "    </tr>\n",
       "    <tr>\n",
       "      <th>2</th>\n",
       "      <td>6.6250</td>\n",
       "      <td>7.643815</td>\n",
       "      <td>6.407051</td>\n",
       "      <td>5.669631</td>\n",
       "      <td>4.997217</td>\n",
       "    </tr>\n",
       "    <tr>\n",
       "      <th>3</th>\n",
       "      <td>2.0625</td>\n",
       "      <td>7.194899</td>\n",
       "      <td>6.186497</td>\n",
       "      <td>6.186497</td>\n",
       "      <td>0.000000</td>\n",
       "    </tr>\n",
       "    <tr>\n",
       "      <th>4</th>\n",
       "      <td>7.1875</td>\n",
       "      <td>8.137879</td>\n",
       "      <td>8.556664</td>\n",
       "      <td>9.098408</td>\n",
       "      <td>0.000000</td>\n",
       "    </tr>\n",
       "  </tbody>\n",
       "</table>\n",
       "</div>"
      ],
      "text/plain": [
       "   Human (Mean)  bertLabelsSim   amanSim  wikiV3EncSim  bertV4EncSim\n",
       "0        5.5360       6.809672  4.949738      5.145601      3.770548\n",
       "1        4.1250       4.554877  4.818231      3.987047      4.168040\n",
       "2        6.6250       7.643815  6.407051      5.669631      4.997217\n",
       "3        2.0625       7.194899  6.186497      6.186497      0.000000\n",
       "4        7.1875       8.137879  8.556664      9.098408      0.000000"
      ]
     },
     "execution_count": 49,
     "metadata": {},
     "output_type": "execute_result"
    }
   ],
   "source": [
    "wordsimDF1.head()"
   ]
  },
  {
   "cell_type": "code",
   "execution_count": 50,
   "id": "retired-cookie",
   "metadata": {},
   "outputs": [],
   "source": [
    "import scipy.stats as stats"
   ]
  },
  {
   "cell_type": "code",
   "execution_count": 51,
   "id": "future-boring",
   "metadata": {},
   "outputs": [
    {
     "data": {
      "text/plain": [
       "KendalltauResult(correlation=0.3633652092919623, pvalue=2.1070516667335453e-22)"
      ]
     },
     "execution_count": 51,
     "metadata": {},
     "output_type": "execute_result"
    }
   ],
   "source": [
    "stats.kendalltau(wordsimDF1['Human (Mean)'].to_list(), wordsimDF1['bertV4EncSim'])"
   ]
  },
  {
   "cell_type": "code",
   "execution_count": 52,
   "id": "composite-lebanon",
   "metadata": {
    "scrolled": true
   },
   "outputs": [
    {
     "data": {
      "text/plain": [
       "SpearmanrResult(correlation=0.49261494527923566, pvalue=9.798975953928462e-23)"
      ]
     },
     "execution_count": 52,
     "metadata": {},
     "output_type": "execute_result"
    }
   ],
   "source": [
    "stats.spearmanr(wordsimDF1['Human (Mean)'].to_list(), wordsimDF1['bertV4EncSim'])"
   ]
  },
  {
   "cell_type": "markdown",
   "id": "occupational-rough",
   "metadata": {},
   "source": [
    "# Version 5 - DBPedia's short abstracts vs Human"
   ]
  },
  {
   "cell_type": "code",
   "execution_count": 71,
   "id": "effective-elements",
   "metadata": {},
   "outputs": [
    {
     "data": {
      "text/plain": [
       "22"
      ]
     },
     "execution_count": 71,
     "metadata": {},
     "output_type": "execute_result"
    }
   ],
   "source": [
    "len(wordsimQNodesListWAbstractsLabelsDF1)"
   ]
  },
  {
   "cell_type": "code",
   "execution_count": 72,
   "id": "graduate-congress",
   "metadata": {},
   "outputs": [],
   "source": [
    "from sentence_transformers import SentenceTransformer\n",
    "from sklearn.metrics.pairwise import cosine_similarity"
   ]
  },
  {
   "cell_type": "code",
   "execution_count": 73,
   "id": "little-yukon",
   "metadata": {},
   "outputs": [],
   "source": [
    "def getAbsEmbeddings(modelName):\n",
    "    model = SentenceTransformer(modelName)\n",
    "    start = time()\n",
    "    encodings = model.encode(wordsimQNodesListWAbstractsLabelsDF1.abstract.to_list())\n",
    "    print(time()-start,'s')\n",
    "    return encodings\n",
    "\n",
    "def getAbsMap(encodings):\n",
    "    return {qnode: enc for qnode, enc in zip(wordsimQNodesListWAbstractsLabelsDF1.index.to_list(), encodings)}\n",
    "\n",
    "def checkSimilarity(row, encodingsMap):\n",
    "    if row['g_qnode'] in encodingsMap and row['p_qnode'] in encodingsMap:\n",
    "        return cosine_similarity([encodingsMap[row['g_qnode']]], [encodingsMap[row['p_qnode']]])\n",
    "    else:\n",
    "        return 0"
   ]
  },
  {
   "cell_type": "code",
   "execution_count": 74,
   "id": "choice-seating",
   "metadata": {
    "scrolled": true
   },
   "outputs": [
    {
     "name": "stdout",
     "output_type": "stream",
     "text": [
      "0.15574932098388672 s\n"
     ]
    }
   ],
   "source": [
    "bertV5Enc = getAbsEmbeddings('bert-base-nli-mean-tokens')\n",
    "bertV5EncMap = getAbsMap(bertV5Enc)\n",
    "bertV5EncSim = wordsimDF.apply(checkSimilarity, axis=1, args=(bertV5EncMap, ))\n",
    "wordsimDF1['bertV5EncSim'] = bertV5EncSim\n",
    "wordsimDF1['bertV5EncSim'] = wordsimDF1.bertV5EncSim.apply(lambda p: p[0][0] if p != 0 else p)\n",
    "wordsimDF1.bertV5EncSim *= 10"
   ]
  },
  {
   "cell_type": "code",
   "execution_count": 75,
   "id": "computational-crime",
   "metadata": {},
   "outputs": [
    {
     "data": {
      "text/plain": [
       "(58, 118, 0.4915254237288136)"
      ]
     },
     "execution_count": 75,
     "metadata": {},
     "output_type": "execute_result"
    }
   ],
   "source": [
    "cnt = wordsimDF.apply(getCoverage, axis=1, args=(bertV5EncMap, )).sum()\n",
    "cnt, len(wordsimDF), cnt / len(wordsimDF)"
   ]
  },
  {
   "cell_type": "code",
   "execution_count": 76,
   "id": "durable-import",
   "metadata": {
    "scrolled": true
   },
   "outputs": [
    {
     "data": {
      "text/html": [
       "<div>\n",
       "<style scoped>\n",
       "    .dataframe tbody tr th:only-of-type {\n",
       "        vertical-align: middle;\n",
       "    }\n",
       "\n",
       "    .dataframe tbody tr th {\n",
       "        vertical-align: top;\n",
       "    }\n",
       "\n",
       "    .dataframe thead th {\n",
       "        text-align: right;\n",
       "    }\n",
       "</style>\n",
       "<table border=\"1\" class=\"dataframe\">\n",
       "  <thead>\n",
       "    <tr style=\"text-align: right;\">\n",
       "      <th></th>\n",
       "      <th>Index</th>\n",
       "      <th>g_qnode</th>\n",
       "      <th>p_qnode</th>\n",
       "      <th>q1_label</th>\n",
       "      <th>q2_label</th>\n",
       "      <th>complex</th>\n",
       "      <th>transe</th>\n",
       "      <th>text</th>\n",
       "      <th>class</th>\n",
       "      <th>node2vec-v0</th>\n",
       "      <th>H_3x6</th>\n",
       "      <th>H_5x8</th>\n",
       "      <th>bertLabelsSim</th>\n",
       "      <th>bertV5EncSim</th>\n",
       "    </tr>\n",
       "  </thead>\n",
       "  <tbody>\n",
       "    <tr>\n",
       "      <th>0</th>\n",
       "      <td>11</td>\n",
       "      <td>Q17221</td>\n",
       "      <td>Q189290</td>\n",
       "      <td>spokesperson</td>\n",
       "      <td>military officer</td>\n",
       "      <td>0.25</td>\n",
       "      <td>0.11</td>\n",
       "      <td>0.62</td>\n",
       "      <td>0.65</td>\n",
       "      <td>0.27</td>\n",
       "      <td>0.68</td>\n",
       "      <td>0.45</td>\n",
       "      <td>5.670399</td>\n",
       "      <td>4.803427</td>\n",
       "    </tr>\n",
       "    <tr>\n",
       "      <th>1</th>\n",
       "      <td>3</td>\n",
       "      <td>Q702269</td>\n",
       "      <td>Q2285706</td>\n",
       "      <td>professional</td>\n",
       "      <td>head of government</td>\n",
       "      <td>0.29</td>\n",
       "      <td>0.39</td>\n",
       "      <td>0.59</td>\n",
       "      <td>0.57</td>\n",
       "      <td>0.13</td>\n",
       "      <td>0.47</td>\n",
       "      <td>0.29</td>\n",
       "      <td>4.471632</td>\n",
       "      <td>5.585540</td>\n",
       "    </tr>\n",
       "    <tr>\n",
       "      <th>2</th>\n",
       "      <td>5</td>\n",
       "      <td>Q2285706</td>\n",
       "      <td>Q82955</td>\n",
       "      <td>head of government</td>\n",
       "      <td>politician</td>\n",
       "      <td>0.36</td>\n",
       "      <td>0.26</td>\n",
       "      <td>0.84</td>\n",
       "      <td>0.55</td>\n",
       "      <td>0.05</td>\n",
       "      <td>0.61</td>\n",
       "      <td>0.64</td>\n",
       "      <td>7.259848</td>\n",
       "      <td>6.529090</td>\n",
       "    </tr>\n",
       "    <tr>\n",
       "      <th>3</th>\n",
       "      <td>11</td>\n",
       "      <td>Q107711</td>\n",
       "      <td>Q189290</td>\n",
       "      <td>firefighter</td>\n",
       "      <td>military officer</td>\n",
       "      <td>0.29</td>\n",
       "      <td>0.22</td>\n",
       "      <td>0.58</td>\n",
       "      <td>0.52</td>\n",
       "      <td>0.34</td>\n",
       "      <td>0.78</td>\n",
       "      <td>0.49</td>\n",
       "      <td>4.595971</td>\n",
       "      <td>4.234194</td>\n",
       "    </tr>\n",
       "    <tr>\n",
       "      <th>4</th>\n",
       "      <td>3</td>\n",
       "      <td>Q702269</td>\n",
       "      <td>Q48352</td>\n",
       "      <td>professional</td>\n",
       "      <td>head of state</td>\n",
       "      <td>0.30</td>\n",
       "      <td>0.27</td>\n",
       "      <td>0.61</td>\n",
       "      <td>0.52</td>\n",
       "      <td>0.04</td>\n",
       "      <td>0.49</td>\n",
       "      <td>0.33</td>\n",
       "      <td>5.130080</td>\n",
       "      <td>4.503454</td>\n",
       "    </tr>\n",
       "  </tbody>\n",
       "</table>\n",
       "</div>"
      ],
      "text/plain": [
       "   Index   g_qnode   p_qnode            q1_label            q2_label  complex  \\\n",
       "0     11    Q17221   Q189290        spokesperson    military officer     0.25   \n",
       "1      3   Q702269  Q2285706        professional  head of government     0.29   \n",
       "2      5  Q2285706    Q82955  head of government          politician     0.36   \n",
       "3     11   Q107711   Q189290         firefighter    military officer     0.29   \n",
       "4      3   Q702269    Q48352        professional       head of state     0.30   \n",
       "\n",
       "   transe  text  class  node2vec-v0  H_3x6  H_5x8  bertLabelsSim  bertV5EncSim  \n",
       "0    0.11  0.62   0.65         0.27   0.68   0.45       5.670399      4.803427  \n",
       "1    0.39  0.59   0.57         0.13   0.47   0.29       4.471632      5.585540  \n",
       "2    0.26  0.84   0.55         0.05   0.61   0.64       7.259848      6.529090  \n",
       "3    0.22  0.58   0.52         0.34   0.78   0.49       4.595971      4.234194  \n",
       "4    0.27  0.61   0.52         0.04   0.49   0.33       5.130080      4.503454  "
      ]
     },
     "execution_count": 76,
     "metadata": {},
     "output_type": "execute_result"
    }
   ],
   "source": [
    "wordsimDF1.head()"
   ]
  },
  {
   "cell_type": "code",
   "execution_count": 77,
   "id": "champion-waste",
   "metadata": {},
   "outputs": [],
   "source": [
    "import scipy.stats as stats"
   ]
  },
  {
   "cell_type": "code",
   "execution_count": 79,
   "id": "pretty-observation",
   "metadata": {},
   "outputs": [],
   "source": [
    "# stats.kendalltau(wordsimDF1['Human (Mean)'].to_list(), wordsimDF1['bertV5EncSim'])"
   ]
  },
  {
   "cell_type": "code",
   "execution_count": 80,
   "id": "adverse-calculator",
   "metadata": {
    "scrolled": true
   },
   "outputs": [],
   "source": [
    "# stats.spearmanr(wordsimDF1['Human (Mean)'].to_list(), wordsimDF1['bertV5EncSim'])"
   ]
  },
  {
   "cell_type": "markdown",
   "id": "sexual-leone",
   "metadata": {},
   "source": [
    "# Version 6 - DBPedia's short abstracts + labels vs Human"
   ]
  },
  {
   "cell_type": "code",
   "execution_count": 81,
   "id": "elder-refund",
   "metadata": {},
   "outputs": [
    {
     "data": {
      "text/html": [
       "<div>\n",
       "<style scoped>\n",
       "    .dataframe tbody tr th:only-of-type {\n",
       "        vertical-align: middle;\n",
       "    }\n",
       "\n",
       "    .dataframe tbody tr th {\n",
       "        vertical-align: top;\n",
       "    }\n",
       "\n",
       "    .dataframe thead th {\n",
       "        text-align: right;\n",
       "    }\n",
       "</style>\n",
       "<table border=\"1\" class=\"dataframe\">\n",
       "  <thead>\n",
       "    <tr style=\"text-align: right;\">\n",
       "      <th></th>\n",
       "      <th>index</th>\n",
       "      <th>id</th>\n",
       "      <th>label</th>\n",
       "      <th>node2</th>\n",
       "      <th>ignore</th>\n",
       "      <th>url</th>\n",
       "      <th>ignore2</th>\n",
       "      <th>abstract</th>\n",
       "      <th>node2_labelsDF</th>\n",
       "    </tr>\n",
       "    <tr>\n",
       "      <th>node1</th>\n",
       "      <th></th>\n",
       "      <th></th>\n",
       "      <th></th>\n",
       "      <th></th>\n",
       "      <th></th>\n",
       "      <th></th>\n",
       "      <th></th>\n",
       "      <th></th>\n",
       "      <th></th>\n",
       "    </tr>\n",
       "  </thead>\n",
       "  <tbody>\n",
       "    <tr>\n",
       "      <th>Q11499147</th>\n",
       "      <td>NaN</td>\n",
       "      <td>NaN</td>\n",
       "      <td>NaN</td>\n",
       "      <td>NaN</td>\n",
       "      <td>NaN</td>\n",
       "      <td>NaN</td>\n",
       "      <td>NaN</td>\n",
       "      <td>political activist</td>\n",
       "      <td>political activist</td>\n",
       "    </tr>\n",
       "    <tr>\n",
       "      <th>Q1048835</th>\n",
       "      <td>Political_division</td>\n",
       "      <td>Q1048835-wikipedia_sitelink-a3aa16-0</td>\n",
       "      <td>wikipedia_sitelink</td>\n",
       "      <td>http://en.wikipedia.org/wiki/Political_division</td>\n",
       "      <td>NaN</td>\n",
       "      <td>NaN</td>\n",
       "      <td>NaN</td>\n",
       "      <td>political territorial entity</td>\n",
       "      <td>political territorial entity</td>\n",
       "    </tr>\n",
       "    <tr>\n",
       "      <th>Q27096235</th>\n",
       "      <td>NaN</td>\n",
       "      <td>NaN</td>\n",
       "      <td>NaN</td>\n",
       "      <td>NaN</td>\n",
       "      <td>NaN</td>\n",
       "      <td>NaN</td>\n",
       "      <td>NaN</td>\n",
       "      <td>artificial geographic entity</td>\n",
       "      <td>artificial geographic entity</td>\n",
       "    </tr>\n",
       "    <tr>\n",
       "      <th>Q48352</th>\n",
       "      <td>Head_of_state</td>\n",
       "      <td>Q48352-wikipedia_sitelink-0ba458-0</td>\n",
       "      <td>wikipedia_sitelink</td>\n",
       "      <td>http://en.wikipedia.org/wiki/Head_of_state</td>\n",
       "      <td>5945.0</td>\n",
       "      <td>&lt;http://dbpedia.org/resource/Head_of_state&gt;</td>\n",
       "      <td>&lt;http://www.w3.org/2000/01/rdf-schema#comment&gt;</td>\n",
       "      <td>A head of state (or chief of state) is the pub...</td>\n",
       "      <td>head of state</td>\n",
       "    </tr>\n",
       "    <tr>\n",
       "      <th>Q83307</th>\n",
       "      <td>Minister_(government)</td>\n",
       "      <td>Q83307-wikipedia_sitelink-519dcf-0</td>\n",
       "      <td>wikipedia_sitelink</td>\n",
       "      <td>http://en.wikipedia.org/wiki/Minister_(governm...</td>\n",
       "      <td>243508.0</td>\n",
       "      <td>&lt;http://dbpedia.org/resource/Minister_(governm...</td>\n",
       "      <td>&lt;http://www.w3.org/2000/01/rdf-schema#comment&gt;</td>\n",
       "      <td>A minister is a politician who heads a ministr...</td>\n",
       "      <td>minister</td>\n",
       "    </tr>\n",
       "  </tbody>\n",
       "</table>\n",
       "</div>"
      ],
      "text/plain": [
       "                           index                                    id  \\\n",
       "node1                                                                    \n",
       "Q11499147                    NaN                                   NaN   \n",
       "Q1048835      Political_division  Q1048835-wikipedia_sitelink-a3aa16-0   \n",
       "Q27096235                    NaN                                   NaN   \n",
       "Q48352             Head_of_state    Q48352-wikipedia_sitelink-0ba458-0   \n",
       "Q83307     Minister_(government)    Q83307-wikipedia_sitelink-519dcf-0   \n",
       "\n",
       "                        label  \\\n",
       "node1                           \n",
       "Q11499147                 NaN   \n",
       "Q1048835   wikipedia_sitelink   \n",
       "Q27096235                 NaN   \n",
       "Q48352     wikipedia_sitelink   \n",
       "Q83307     wikipedia_sitelink   \n",
       "\n",
       "                                                       node2    ignore  \\\n",
       "node1                                                                    \n",
       "Q11499147                                                NaN       NaN   \n",
       "Q1048835     http://en.wikipedia.org/wiki/Political_division       NaN   \n",
       "Q27096235                                                NaN       NaN   \n",
       "Q48352            http://en.wikipedia.org/wiki/Head_of_state    5945.0   \n",
       "Q83307     http://en.wikipedia.org/wiki/Minister_(governm...  243508.0   \n",
       "\n",
       "                                                         url  \\\n",
       "node1                                                          \n",
       "Q11499147                                                NaN   \n",
       "Q1048835                                                 NaN   \n",
       "Q27096235                                                NaN   \n",
       "Q48352           <http://dbpedia.org/resource/Head_of_state>   \n",
       "Q83307     <http://dbpedia.org/resource/Minister_(governm...   \n",
       "\n",
       "                                                  ignore2  \\\n",
       "node1                                                       \n",
       "Q11499147                                             NaN   \n",
       "Q1048835                                              NaN   \n",
       "Q27096235                                             NaN   \n",
       "Q48352     <http://www.w3.org/2000/01/rdf-schema#comment>   \n",
       "Q83307     <http://www.w3.org/2000/01/rdf-schema#comment>   \n",
       "\n",
       "                                                    abstract  \\\n",
       "node1                                                          \n",
       "Q11499147                                 political activist   \n",
       "Q1048835                        political territorial entity   \n",
       "Q27096235                       artificial geographic entity   \n",
       "Q48352     A head of state (or chief of state) is the pub...   \n",
       "Q83307     A minister is a politician who heads a ministr...   \n",
       "\n",
       "                         node2_labelsDF  \n",
       "node1                                    \n",
       "Q11499147            political activist  \n",
       "Q1048835   political territorial entity  \n",
       "Q27096235  artificial geographic entity  \n",
       "Q48352                    head of state  \n",
       "Q83307                         minister  "
      ]
     },
     "execution_count": 81,
     "metadata": {},
     "output_type": "execute_result"
    }
   ],
   "source": [
    "wordsimQNodesListWAbstractsLabelsDF2.head()"
   ]
  },
  {
   "cell_type": "code",
   "execution_count": 82,
   "id": "inclusive-gender",
   "metadata": {
    "scrolled": true
   },
   "outputs": [
    {
     "data": {
      "text/plain": [
       "31"
      ]
     },
     "execution_count": 82,
     "metadata": {},
     "output_type": "execute_result"
    }
   ],
   "source": [
    "len(wordsimQNodesListWAbstractsLabelsDF2)"
   ]
  },
  {
   "cell_type": "code",
   "execution_count": 83,
   "id": "dental-choice",
   "metadata": {},
   "outputs": [],
   "source": [
    "from sentence_transformers import SentenceTransformer\n",
    "from sklearn.metrics.pairwise import cosine_similarity"
   ]
  },
  {
   "cell_type": "code",
   "execution_count": 84,
   "id": "understanding-insured",
   "metadata": {},
   "outputs": [],
   "source": [
    "def getAbsLabsEmbeddings(modelName):\n",
    "    model = SentenceTransformer(modelName)\n",
    "    start = time()\n",
    "    encodings = model.encode(wordsimQNodesListWAbstractsLabelsDF2.abstract.to_list())\n",
    "    print(time()-start,'s')\n",
    "    return encodings\n",
    "\n",
    "def getAbsLabsMap(encodings):\n",
    "    return {qnode: enc for qnode, enc in zip(wordsimQNodesListWAbstractsLabelsDF2.index.to_list(), encodings)}\n",
    "\n",
    "def checkSimilarity(row, encodingsMap):\n",
    "    if row['g_qnode'] in encodingsMap and row['p_qnode'] in encodingsMap:\n",
    "        return cosine_similarity([encodingsMap[row['g_qnode']]], [encodingsMap[row['p_qnode']]])\n",
    "    else:\n",
    "        return 0"
   ]
  },
  {
   "cell_type": "code",
   "execution_count": 85,
   "id": "political-manufacturer",
   "metadata": {},
   "outputs": [
    {
     "name": "stdout",
     "output_type": "stream",
     "text": [
      "0.17983198165893555 s\n"
     ]
    }
   ],
   "source": [
    "bertV6Enc = getAbsLabsEmbeddings('bert-base-nli-mean-tokens')\n",
    "bertV6EncMap = getAbsLabsMap(bertV6Enc)\n",
    "bertV6EncSim = wordsimDF.apply(checkSimilarity, axis=1, args=(bertV6EncMap, ))\n",
    "wordsimDF1['bertV6EncSim'] = bertV6EncSim\n",
    "wordsimDF1['bertV6EncSim'] = wordsimDF1.bertV6EncSim.apply(lambda p: p[0][0] if p != 0 else p)\n",
    "wordsimDF1.bertV6EncSim *= 10"
   ]
  },
  {
   "cell_type": "code",
   "execution_count": 86,
   "id": "oriental-olympus",
   "metadata": {},
   "outputs": [
    {
     "data": {
      "text/plain": [
       "(118, 118, 1.0)"
      ]
     },
     "execution_count": 86,
     "metadata": {},
     "output_type": "execute_result"
    }
   ],
   "source": [
    "cnt = wordsimDF.apply(getCoverage, axis=1, args=(bertV6EncMap, )).sum()\n",
    "cnt, len(wordsimDF), cnt / len(wordsimDF)"
   ]
  },
  {
   "cell_type": "code",
   "execution_count": 87,
   "id": "simplified-recipient",
   "metadata": {},
   "outputs": [
    {
     "data": {
      "text/html": [
       "<div>\n",
       "<style scoped>\n",
       "    .dataframe tbody tr th:only-of-type {\n",
       "        vertical-align: middle;\n",
       "    }\n",
       "\n",
       "    .dataframe tbody tr th {\n",
       "        vertical-align: top;\n",
       "    }\n",
       "\n",
       "    .dataframe thead th {\n",
       "        text-align: right;\n",
       "    }\n",
       "</style>\n",
       "<table border=\"1\" class=\"dataframe\">\n",
       "  <thead>\n",
       "    <tr style=\"text-align: right;\">\n",
       "      <th></th>\n",
       "      <th>Index</th>\n",
       "      <th>g_qnode</th>\n",
       "      <th>p_qnode</th>\n",
       "      <th>q1_label</th>\n",
       "      <th>q2_label</th>\n",
       "      <th>complex</th>\n",
       "      <th>transe</th>\n",
       "      <th>text</th>\n",
       "      <th>class</th>\n",
       "      <th>node2vec-v0</th>\n",
       "      <th>H_3x6</th>\n",
       "      <th>H_5x8</th>\n",
       "      <th>bertLabelsSim</th>\n",
       "      <th>bertV5EncSim</th>\n",
       "      <th>bertV6EncSim</th>\n",
       "    </tr>\n",
       "  </thead>\n",
       "  <tbody>\n",
       "    <tr>\n",
       "      <th>0</th>\n",
       "      <td>11</td>\n",
       "      <td>Q17221</td>\n",
       "      <td>Q189290</td>\n",
       "      <td>spokesperson</td>\n",
       "      <td>military officer</td>\n",
       "      <td>0.25</td>\n",
       "      <td>0.11</td>\n",
       "      <td>0.62</td>\n",
       "      <td>0.65</td>\n",
       "      <td>0.27</td>\n",
       "      <td>0.68</td>\n",
       "      <td>0.45</td>\n",
       "      <td>5.670399</td>\n",
       "      <td>4.803427</td>\n",
       "      <td>4.803428</td>\n",
       "    </tr>\n",
       "    <tr>\n",
       "      <th>1</th>\n",
       "      <td>3</td>\n",
       "      <td>Q702269</td>\n",
       "      <td>Q2285706</td>\n",
       "      <td>professional</td>\n",
       "      <td>head of government</td>\n",
       "      <td>0.29</td>\n",
       "      <td>0.39</td>\n",
       "      <td>0.59</td>\n",
       "      <td>0.57</td>\n",
       "      <td>0.13</td>\n",
       "      <td>0.47</td>\n",
       "      <td>0.29</td>\n",
       "      <td>4.471632</td>\n",
       "      <td>5.585540</td>\n",
       "      <td>5.585539</td>\n",
       "    </tr>\n",
       "    <tr>\n",
       "      <th>2</th>\n",
       "      <td>5</td>\n",
       "      <td>Q2285706</td>\n",
       "      <td>Q82955</td>\n",
       "      <td>head of government</td>\n",
       "      <td>politician</td>\n",
       "      <td>0.36</td>\n",
       "      <td>0.26</td>\n",
       "      <td>0.84</td>\n",
       "      <td>0.55</td>\n",
       "      <td>0.05</td>\n",
       "      <td>0.61</td>\n",
       "      <td>0.64</td>\n",
       "      <td>7.259848</td>\n",
       "      <td>6.529090</td>\n",
       "      <td>6.529088</td>\n",
       "    </tr>\n",
       "    <tr>\n",
       "      <th>3</th>\n",
       "      <td>11</td>\n",
       "      <td>Q107711</td>\n",
       "      <td>Q189290</td>\n",
       "      <td>firefighter</td>\n",
       "      <td>military officer</td>\n",
       "      <td>0.29</td>\n",
       "      <td>0.22</td>\n",
       "      <td>0.58</td>\n",
       "      <td>0.52</td>\n",
       "      <td>0.34</td>\n",
       "      <td>0.78</td>\n",
       "      <td>0.49</td>\n",
       "      <td>4.595971</td>\n",
       "      <td>4.234194</td>\n",
       "      <td>4.234195</td>\n",
       "    </tr>\n",
       "    <tr>\n",
       "      <th>4</th>\n",
       "      <td>3</td>\n",
       "      <td>Q702269</td>\n",
       "      <td>Q48352</td>\n",
       "      <td>professional</td>\n",
       "      <td>head of state</td>\n",
       "      <td>0.30</td>\n",
       "      <td>0.27</td>\n",
       "      <td>0.61</td>\n",
       "      <td>0.52</td>\n",
       "      <td>0.04</td>\n",
       "      <td>0.49</td>\n",
       "      <td>0.33</td>\n",
       "      <td>5.130080</td>\n",
       "      <td>4.503454</td>\n",
       "      <td>4.503455</td>\n",
       "    </tr>\n",
       "  </tbody>\n",
       "</table>\n",
       "</div>"
      ],
      "text/plain": [
       "   Index   g_qnode   p_qnode            q1_label            q2_label  complex  \\\n",
       "0     11    Q17221   Q189290        spokesperson    military officer     0.25   \n",
       "1      3   Q702269  Q2285706        professional  head of government     0.29   \n",
       "2      5  Q2285706    Q82955  head of government          politician     0.36   \n",
       "3     11   Q107711   Q189290         firefighter    military officer     0.29   \n",
       "4      3   Q702269    Q48352        professional       head of state     0.30   \n",
       "\n",
       "   transe  text  class  node2vec-v0  H_3x6  H_5x8  bertLabelsSim  \\\n",
       "0    0.11  0.62   0.65         0.27   0.68   0.45       5.670399   \n",
       "1    0.39  0.59   0.57         0.13   0.47   0.29       4.471632   \n",
       "2    0.26  0.84   0.55         0.05   0.61   0.64       7.259848   \n",
       "3    0.22  0.58   0.52         0.34   0.78   0.49       4.595971   \n",
       "4    0.27  0.61   0.52         0.04   0.49   0.33       5.130080   \n",
       "\n",
       "   bertV5EncSim  bertV6EncSim  \n",
       "0      4.803427      4.803428  \n",
       "1      5.585540      5.585539  \n",
       "2      6.529090      6.529088  \n",
       "3      4.234194      4.234195  \n",
       "4      4.503454      4.503455  "
      ]
     },
     "execution_count": 87,
     "metadata": {},
     "output_type": "execute_result"
    }
   ],
   "source": [
    "wordsimDF1.head()"
   ]
  },
  {
   "cell_type": "code",
   "execution_count": 69,
   "id": "convenient-glory",
   "metadata": {},
   "outputs": [],
   "source": [
    "import scipy.stats as stats"
   ]
  },
  {
   "cell_type": "code",
   "execution_count": 88,
   "id": "split-doctor",
   "metadata": {},
   "outputs": [],
   "source": [
    "# stats.kendalltau(wordsimDF1['Human (Mean)'].to_list(), wordsimDF1['bertV6EncSim'])"
   ]
  },
  {
   "cell_type": "code",
   "execution_count": 89,
   "id": "criminal-tragedy",
   "metadata": {
    "scrolled": true
   },
   "outputs": [],
   "source": [
    "# stats.spearmanr(wordsimDF1['Human (Mean)'].to_list(), wordsimDF1['bertV6EncSim'])"
   ]
  },
  {
   "cell_type": "markdown",
   "id": "certified-compact",
   "metadata": {},
   "source": [
    "# Version 7 - 1st sentence + label vs Human"
   ]
  },
  {
   "cell_type": "code",
   "execution_count": 90,
   "id": "billion-southwest",
   "metadata": {},
   "outputs": [],
   "source": [
    "from sentence_transformers import SentenceTransformer\n",
    "from sklearn.metrics.pairwise import cosine_similarity\n",
    "from nltk.tokenize import sent_tokenize"
   ]
  },
  {
   "cell_type": "code",
   "execution_count": 91,
   "id": "relevant-looking",
   "metadata": {},
   "outputs": [],
   "source": [
    "wordsimQNodesListWAbstractsLabelsDF2['abstractFirstSent'] = wordsimQNodesListWAbstractsLabelsDF2.abstract.apply(lambda p: sent_tokenize(p)[0])"
   ]
  },
  {
   "cell_type": "code",
   "execution_count": 92,
   "id": "based-duplicate",
   "metadata": {},
   "outputs": [
    {
     "data": {
      "text/html": [
       "<div>\n",
       "<style scoped>\n",
       "    .dataframe tbody tr th:only-of-type {\n",
       "        vertical-align: middle;\n",
       "    }\n",
       "\n",
       "    .dataframe tbody tr th {\n",
       "        vertical-align: top;\n",
       "    }\n",
       "\n",
       "    .dataframe thead th {\n",
       "        text-align: right;\n",
       "    }\n",
       "</style>\n",
       "<table border=\"1\" class=\"dataframe\">\n",
       "  <thead>\n",
       "    <tr style=\"text-align: right;\">\n",
       "      <th></th>\n",
       "      <th>index</th>\n",
       "      <th>id</th>\n",
       "      <th>label</th>\n",
       "      <th>node2</th>\n",
       "      <th>ignore</th>\n",
       "      <th>url</th>\n",
       "      <th>ignore2</th>\n",
       "      <th>abstract</th>\n",
       "      <th>node2_labelsDF</th>\n",
       "      <th>abstractFirstSent</th>\n",
       "    </tr>\n",
       "    <tr>\n",
       "      <th>node1</th>\n",
       "      <th></th>\n",
       "      <th></th>\n",
       "      <th></th>\n",
       "      <th></th>\n",
       "      <th></th>\n",
       "      <th></th>\n",
       "      <th></th>\n",
       "      <th></th>\n",
       "      <th></th>\n",
       "      <th></th>\n",
       "    </tr>\n",
       "  </thead>\n",
       "  <tbody>\n",
       "    <tr>\n",
       "      <th>Q11499147</th>\n",
       "      <td>NaN</td>\n",
       "      <td>NaN</td>\n",
       "      <td>NaN</td>\n",
       "      <td>NaN</td>\n",
       "      <td>NaN</td>\n",
       "      <td>NaN</td>\n",
       "      <td>NaN</td>\n",
       "      <td>political activist</td>\n",
       "      <td>political activist</td>\n",
       "      <td>political activist</td>\n",
       "    </tr>\n",
       "    <tr>\n",
       "      <th>Q1048835</th>\n",
       "      <td>Political_division</td>\n",
       "      <td>Q1048835-wikipedia_sitelink-a3aa16-0</td>\n",
       "      <td>wikipedia_sitelink</td>\n",
       "      <td>http://en.wikipedia.org/wiki/Political_division</td>\n",
       "      <td>NaN</td>\n",
       "      <td>NaN</td>\n",
       "      <td>NaN</td>\n",
       "      <td>political territorial entity</td>\n",
       "      <td>political territorial entity</td>\n",
       "      <td>political territorial entity</td>\n",
       "    </tr>\n",
       "    <tr>\n",
       "      <th>Q27096235</th>\n",
       "      <td>NaN</td>\n",
       "      <td>NaN</td>\n",
       "      <td>NaN</td>\n",
       "      <td>NaN</td>\n",
       "      <td>NaN</td>\n",
       "      <td>NaN</td>\n",
       "      <td>NaN</td>\n",
       "      <td>artificial geographic entity</td>\n",
       "      <td>artificial geographic entity</td>\n",
       "      <td>artificial geographic entity</td>\n",
       "    </tr>\n",
       "    <tr>\n",
       "      <th>Q48352</th>\n",
       "      <td>Head_of_state</td>\n",
       "      <td>Q48352-wikipedia_sitelink-0ba458-0</td>\n",
       "      <td>wikipedia_sitelink</td>\n",
       "      <td>http://en.wikipedia.org/wiki/Head_of_state</td>\n",
       "      <td>5945.0</td>\n",
       "      <td>&lt;http://dbpedia.org/resource/Head_of_state&gt;</td>\n",
       "      <td>&lt;http://www.w3.org/2000/01/rdf-schema#comment&gt;</td>\n",
       "      <td>A head of state (or chief of state) is the pub...</td>\n",
       "      <td>head of state</td>\n",
       "      <td>A head of state (or chief of state) is the pub...</td>\n",
       "    </tr>\n",
       "    <tr>\n",
       "      <th>Q83307</th>\n",
       "      <td>Minister_(government)</td>\n",
       "      <td>Q83307-wikipedia_sitelink-519dcf-0</td>\n",
       "      <td>wikipedia_sitelink</td>\n",
       "      <td>http://en.wikipedia.org/wiki/Minister_(governm...</td>\n",
       "      <td>243508.0</td>\n",
       "      <td>&lt;http://dbpedia.org/resource/Minister_(governm...</td>\n",
       "      <td>&lt;http://www.w3.org/2000/01/rdf-schema#comment&gt;</td>\n",
       "      <td>A minister is a politician who heads a ministr...</td>\n",
       "      <td>minister</td>\n",
       "      <td>A minister is a politician who heads a ministr...</td>\n",
       "    </tr>\n",
       "  </tbody>\n",
       "</table>\n",
       "</div>"
      ],
      "text/plain": [
       "                           index                                    id  \\\n",
       "node1                                                                    \n",
       "Q11499147                    NaN                                   NaN   \n",
       "Q1048835      Political_division  Q1048835-wikipedia_sitelink-a3aa16-0   \n",
       "Q27096235                    NaN                                   NaN   \n",
       "Q48352             Head_of_state    Q48352-wikipedia_sitelink-0ba458-0   \n",
       "Q83307     Minister_(government)    Q83307-wikipedia_sitelink-519dcf-0   \n",
       "\n",
       "                        label  \\\n",
       "node1                           \n",
       "Q11499147                 NaN   \n",
       "Q1048835   wikipedia_sitelink   \n",
       "Q27096235                 NaN   \n",
       "Q48352     wikipedia_sitelink   \n",
       "Q83307     wikipedia_sitelink   \n",
       "\n",
       "                                                       node2    ignore  \\\n",
       "node1                                                                    \n",
       "Q11499147                                                NaN       NaN   \n",
       "Q1048835     http://en.wikipedia.org/wiki/Political_division       NaN   \n",
       "Q27096235                                                NaN       NaN   \n",
       "Q48352            http://en.wikipedia.org/wiki/Head_of_state    5945.0   \n",
       "Q83307     http://en.wikipedia.org/wiki/Minister_(governm...  243508.0   \n",
       "\n",
       "                                                         url  \\\n",
       "node1                                                          \n",
       "Q11499147                                                NaN   \n",
       "Q1048835                                                 NaN   \n",
       "Q27096235                                                NaN   \n",
       "Q48352           <http://dbpedia.org/resource/Head_of_state>   \n",
       "Q83307     <http://dbpedia.org/resource/Minister_(governm...   \n",
       "\n",
       "                                                  ignore2  \\\n",
       "node1                                                       \n",
       "Q11499147                                             NaN   \n",
       "Q1048835                                              NaN   \n",
       "Q27096235                                             NaN   \n",
       "Q48352     <http://www.w3.org/2000/01/rdf-schema#comment>   \n",
       "Q83307     <http://www.w3.org/2000/01/rdf-schema#comment>   \n",
       "\n",
       "                                                    abstract  \\\n",
       "node1                                                          \n",
       "Q11499147                                 political activist   \n",
       "Q1048835                        political territorial entity   \n",
       "Q27096235                       artificial geographic entity   \n",
       "Q48352     A head of state (or chief of state) is the pub...   \n",
       "Q83307     A minister is a politician who heads a ministr...   \n",
       "\n",
       "                         node2_labelsDF  \\\n",
       "node1                                     \n",
       "Q11499147            political activist   \n",
       "Q1048835   political territorial entity   \n",
       "Q27096235  artificial geographic entity   \n",
       "Q48352                    head of state   \n",
       "Q83307                         minister   \n",
       "\n",
       "                                           abstractFirstSent  \n",
       "node1                                                         \n",
       "Q11499147                                 political activist  \n",
       "Q1048835                        political territorial entity  \n",
       "Q27096235                       artificial geographic entity  \n",
       "Q48352     A head of state (or chief of state) is the pub...  \n",
       "Q83307     A minister is a politician who heads a ministr...  "
      ]
     },
     "execution_count": 92,
     "metadata": {},
     "output_type": "execute_result"
    }
   ],
   "source": [
    "wordsimQNodesListWAbstractsLabelsDF2.head()"
   ]
  },
  {
   "cell_type": "code",
   "execution_count": 93,
   "id": "starting-parcel",
   "metadata": {},
   "outputs": [],
   "source": [
    "def get1stSentLabsEmbeddings(modelName):\n",
    "    model = SentenceTransformer(modelName)\n",
    "    start = time()\n",
    "    encodings = model.encode(wordsimQNodesListWAbstractsLabelsDF2.abstractFirstSent.to_list())\n",
    "    print(time()-start,'s')\n",
    "    return encodings\n",
    "\n",
    "def get1stSentLabsMap(encodings):\n",
    "    return {qnode: enc for qnode, enc in zip(wordsimQNodesListWAbstractsLabelsDF2.index.to_list(), encodings)}\n",
    "\n",
    "def checkSimilarity(row, encodingsMap):\n",
    "    if row['g_qnode'] in encodingsMap and row['p_qnode'] in encodingsMap:\n",
    "        return cosine_similarity([encodingsMap[row['g_qnode']]], [encodingsMap[row['p_qnode']]])\n",
    "    else:\n",
    "        return 0"
   ]
  },
  {
   "cell_type": "code",
   "execution_count": 94,
   "id": "independent-consultancy",
   "metadata": {},
   "outputs": [
    {
     "name": "stdout",
     "output_type": "stream",
     "text": [
      "0.14003443717956543 s\n"
     ]
    }
   ],
   "source": [
    "bertV7Enc = get1stSentLabsEmbeddings('bert-base-nli-mean-tokens')\n",
    "bertV7EncMap = get1stSentLabsMap(bertV7Enc)\n",
    "bertV7EncSim = wordsimDF.apply(checkSimilarity, axis=1, args=(bertV7EncMap, ))\n",
    "wordsimDF1['bertV7EncSim'] = bertV7EncSim\n",
    "wordsimDF1['bertV7EncSim'] = wordsimDF1.bertV7EncSim.apply(lambda p: p[0][0] if p != 0 else p)\n",
    "wordsimDF1.bertV7EncSim *= 10"
   ]
  },
  {
   "cell_type": "code",
   "execution_count": 95,
   "id": "incomplete-dispute",
   "metadata": {},
   "outputs": [
    {
     "data": {
      "text/plain": [
       "(118, 118, 1.0)"
      ]
     },
     "execution_count": 95,
     "metadata": {},
     "output_type": "execute_result"
    }
   ],
   "source": [
    "cnt = wordsimDF.apply(getCoverage, axis=1, args=(bertV7EncMap, )).sum()\n",
    "cnt, len(wordsimDF), cnt / len(wordsimDF)"
   ]
  },
  {
   "cell_type": "code",
   "execution_count": 96,
   "id": "pregnant-message",
   "metadata": {},
   "outputs": [
    {
     "data": {
      "text/html": [
       "<div>\n",
       "<style scoped>\n",
       "    .dataframe tbody tr th:only-of-type {\n",
       "        vertical-align: middle;\n",
       "    }\n",
       "\n",
       "    .dataframe tbody tr th {\n",
       "        vertical-align: top;\n",
       "    }\n",
       "\n",
       "    .dataframe thead th {\n",
       "        text-align: right;\n",
       "    }\n",
       "</style>\n",
       "<table border=\"1\" class=\"dataframe\">\n",
       "  <thead>\n",
       "    <tr style=\"text-align: right;\">\n",
       "      <th></th>\n",
       "      <th>Index</th>\n",
       "      <th>g_qnode</th>\n",
       "      <th>p_qnode</th>\n",
       "      <th>q1_label</th>\n",
       "      <th>q2_label</th>\n",
       "      <th>complex</th>\n",
       "      <th>transe</th>\n",
       "      <th>text</th>\n",
       "      <th>class</th>\n",
       "      <th>node2vec-v0</th>\n",
       "      <th>H_3x6</th>\n",
       "      <th>H_5x8</th>\n",
       "      <th>bertLabelsSim</th>\n",
       "      <th>bertV5EncSim</th>\n",
       "      <th>bertV6EncSim</th>\n",
       "      <th>bertV7EncSim</th>\n",
       "    </tr>\n",
       "  </thead>\n",
       "  <tbody>\n",
       "    <tr>\n",
       "      <th>0</th>\n",
       "      <td>11</td>\n",
       "      <td>Q17221</td>\n",
       "      <td>Q189290</td>\n",
       "      <td>spokesperson</td>\n",
       "      <td>military officer</td>\n",
       "      <td>0.25</td>\n",
       "      <td>0.11</td>\n",
       "      <td>0.62</td>\n",
       "      <td>0.65</td>\n",
       "      <td>0.27</td>\n",
       "      <td>0.68</td>\n",
       "      <td>0.45</td>\n",
       "      <td>5.670399</td>\n",
       "      <td>4.803427</td>\n",
       "      <td>4.803428</td>\n",
       "      <td>6.238037</td>\n",
       "    </tr>\n",
       "    <tr>\n",
       "      <th>1</th>\n",
       "      <td>3</td>\n",
       "      <td>Q702269</td>\n",
       "      <td>Q2285706</td>\n",
       "      <td>professional</td>\n",
       "      <td>head of government</td>\n",
       "      <td>0.29</td>\n",
       "      <td>0.39</td>\n",
       "      <td>0.59</td>\n",
       "      <td>0.57</td>\n",
       "      <td>0.13</td>\n",
       "      <td>0.47</td>\n",
       "      <td>0.29</td>\n",
       "      <td>4.471632</td>\n",
       "      <td>5.585540</td>\n",
       "      <td>5.585539</td>\n",
       "      <td>4.817909</td>\n",
       "    </tr>\n",
       "    <tr>\n",
       "      <th>2</th>\n",
       "      <td>5</td>\n",
       "      <td>Q2285706</td>\n",
       "      <td>Q82955</td>\n",
       "      <td>head of government</td>\n",
       "      <td>politician</td>\n",
       "      <td>0.36</td>\n",
       "      <td>0.26</td>\n",
       "      <td>0.84</td>\n",
       "      <td>0.55</td>\n",
       "      <td>0.05</td>\n",
       "      <td>0.61</td>\n",
       "      <td>0.64</td>\n",
       "      <td>7.259848</td>\n",
       "      <td>6.529090</td>\n",
       "      <td>6.529088</td>\n",
       "      <td>5.945703</td>\n",
       "    </tr>\n",
       "    <tr>\n",
       "      <th>3</th>\n",
       "      <td>11</td>\n",
       "      <td>Q107711</td>\n",
       "      <td>Q189290</td>\n",
       "      <td>firefighter</td>\n",
       "      <td>military officer</td>\n",
       "      <td>0.29</td>\n",
       "      <td>0.22</td>\n",
       "      <td>0.58</td>\n",
       "      <td>0.52</td>\n",
       "      <td>0.34</td>\n",
       "      <td>0.78</td>\n",
       "      <td>0.49</td>\n",
       "      <td>4.595971</td>\n",
       "      <td>4.234194</td>\n",
       "      <td>4.234195</td>\n",
       "      <td>3.154826</td>\n",
       "    </tr>\n",
       "    <tr>\n",
       "      <th>4</th>\n",
       "      <td>3</td>\n",
       "      <td>Q702269</td>\n",
       "      <td>Q48352</td>\n",
       "      <td>professional</td>\n",
       "      <td>head of state</td>\n",
       "      <td>0.30</td>\n",
       "      <td>0.27</td>\n",
       "      <td>0.61</td>\n",
       "      <td>0.52</td>\n",
       "      <td>0.04</td>\n",
       "      <td>0.49</td>\n",
       "      <td>0.33</td>\n",
       "      <td>5.130080</td>\n",
       "      <td>4.503454</td>\n",
       "      <td>4.503455</td>\n",
       "      <td>4.739718</td>\n",
       "    </tr>\n",
       "  </tbody>\n",
       "</table>\n",
       "</div>"
      ],
      "text/plain": [
       "   Index   g_qnode   p_qnode            q1_label            q2_label  complex  \\\n",
       "0     11    Q17221   Q189290        spokesperson    military officer     0.25   \n",
       "1      3   Q702269  Q2285706        professional  head of government     0.29   \n",
       "2      5  Q2285706    Q82955  head of government          politician     0.36   \n",
       "3     11   Q107711   Q189290         firefighter    military officer     0.29   \n",
       "4      3   Q702269    Q48352        professional       head of state     0.30   \n",
       "\n",
       "   transe  text  class  node2vec-v0  H_3x6  H_5x8  bertLabelsSim  \\\n",
       "0    0.11  0.62   0.65         0.27   0.68   0.45       5.670399   \n",
       "1    0.39  0.59   0.57         0.13   0.47   0.29       4.471632   \n",
       "2    0.26  0.84   0.55         0.05   0.61   0.64       7.259848   \n",
       "3    0.22  0.58   0.52         0.34   0.78   0.49       4.595971   \n",
       "4    0.27  0.61   0.52         0.04   0.49   0.33       5.130080   \n",
       "\n",
       "   bertV5EncSim  bertV6EncSim  bertV7EncSim  \n",
       "0      4.803427      4.803428      6.238037  \n",
       "1      5.585540      5.585539      4.817909  \n",
       "2      6.529090      6.529088      5.945703  \n",
       "3      4.234194      4.234195      3.154826  \n",
       "4      4.503454      4.503455      4.739718  "
      ]
     },
     "execution_count": 96,
     "metadata": {},
     "output_type": "execute_result"
    }
   ],
   "source": [
    "wordsimDF1.head()"
   ]
  },
  {
   "cell_type": "code",
   "execution_count": 97,
   "id": "broke-oregon",
   "metadata": {},
   "outputs": [],
   "source": [
    "import scipy.stats as stats"
   ]
  },
  {
   "cell_type": "code",
   "execution_count": 98,
   "id": "recent-moment",
   "metadata": {},
   "outputs": [],
   "source": [
    "# stats.kendalltau(wordsimDF1['Human (Mean)'].to_list(), wordsimDF1['bertV7EncSim'])"
   ]
  },
  {
   "cell_type": "code",
   "execution_count": 99,
   "id": "varying-prescription",
   "metadata": {
    "scrolled": true
   },
   "outputs": [],
   "source": [
    "# stats.spearmanr(wordsimDF1['Human (Mean)'].to_list(), wordsimDF1['bertV7EncSim'])"
   ]
  },
  {
   "cell_type": "markdown",
   "id": "accessible-serum",
   "metadata": {},
   "source": [
    "# Version 8, 9, 10 - complex, transe, text, class"
   ]
  },
  {
   "cell_type": "code",
   "execution_count": 82,
   "id": "japanese-cattle",
   "metadata": {},
   "outputs": [
    {
     "name": "stderr",
     "output_type": "stream",
     "text": [
      "<ipython-input-82-99910acabed9>:1: SettingWithCopyWarning: \n",
      "A value is trying to be set on a copy of a slice from a DataFrame.\n",
      "Try using .loc[row_indexer,col_indexer] = value instead\n",
      "\n",
      "See the caveats in the documentation: https://pandas.pydata.org/pandas-docs/stable/user_guide/indexing.html#returning-a-view-versus-a-copy\n",
      "  wordsimDF1['complex'] = wordsimDF.complex * 10\n",
      "<ipython-input-82-99910acabed9>:2: SettingWithCopyWarning: \n",
      "A value is trying to be set on a copy of a slice from a DataFrame.\n",
      "Try using .loc[row_indexer,col_indexer] = value instead\n",
      "\n",
      "See the caveats in the documentation: https://pandas.pydata.org/pandas-docs/stable/user_guide/indexing.html#returning-a-view-versus-a-copy\n",
      "  wordsimDF1['transe'] = wordsimDF.transe * 10\n",
      "<ipython-input-82-99910acabed9>:3: SettingWithCopyWarning: \n",
      "A value is trying to be set on a copy of a slice from a DataFrame.\n",
      "Try using .loc[row_indexer,col_indexer] = value instead\n",
      "\n",
      "See the caveats in the documentation: https://pandas.pydata.org/pandas-docs/stable/user_guide/indexing.html#returning-a-view-versus-a-copy\n",
      "  wordsimDF1['text'] = wordsimDF.text * 10\n",
      "<ipython-input-82-99910acabed9>:4: SettingWithCopyWarning: \n",
      "A value is trying to be set on a copy of a slice from a DataFrame.\n",
      "Try using .loc[row_indexer,col_indexer] = value instead\n",
      "\n",
      "See the caveats in the documentation: https://pandas.pydata.org/pandas-docs/stable/user_guide/indexing.html#returning-a-view-versus-a-copy\n",
      "  wordsimDF1['class'] = wordsimDF['class'] * 10\n"
     ]
    }
   ],
   "source": [
    "wordsimDF1['complex'] = wordsimDF.complex * 10\n",
    "wordsimDF1['transe'] = wordsimDF.transe * 10\n",
    "wordsimDF1['text'] = wordsimDF.text * 10\n",
    "wordsimDF1['class'] = wordsimDF['class'] * 10"
   ]
  },
  {
   "cell_type": "code",
   "execution_count": 83,
   "id": "fitting-jamaica",
   "metadata": {},
   "outputs": [
    {
     "data": {
      "text/html": [
       "<div>\n",
       "<style scoped>\n",
       "    .dataframe tbody tr th:only-of-type {\n",
       "        vertical-align: middle;\n",
       "    }\n",
       "\n",
       "    .dataframe tbody tr th {\n",
       "        vertical-align: top;\n",
       "    }\n",
       "\n",
       "    .dataframe thead th {\n",
       "        text-align: right;\n",
       "    }\n",
       "</style>\n",
       "<table border=\"1\" class=\"dataframe\">\n",
       "  <thead>\n",
       "    <tr style=\"text-align: right;\">\n",
       "      <th></th>\n",
       "      <th>Word 1</th>\n",
       "      <th>word1_kg_id</th>\n",
       "      <th>word1_kg_label</th>\n",
       "      <th>word1_kg_description</th>\n",
       "      <th>Word 2</th>\n",
       "      <th>word2_kg_id</th>\n",
       "      <th>word2_kg_label</th>\n",
       "      <th>word2_kg_description</th>\n",
       "      <th>Human (Mean)</th>\n",
       "      <th>complex</th>\n",
       "      <th>transe</th>\n",
       "      <th>text</th>\n",
       "      <th>class</th>\n",
       "    </tr>\n",
       "  </thead>\n",
       "  <tbody>\n",
       "    <tr>\n",
       "      <th>0</th>\n",
       "      <td>admission</td>\n",
       "      <td>Q847337</td>\n",
       "      <td>confession</td>\n",
       "      <td>statement made by a person or a group of perso...</td>\n",
       "      <td>ticket</td>\n",
       "      <td>Q551800</td>\n",
       "      <td>ticket</td>\n",
       "      <td>paper or cardboard document showing payment fo...</td>\n",
       "      <td>5.5360</td>\n",
       "      <td>0.361115</td>\n",
       "      <td>0.446632</td>\n",
       "      <td>0.485653</td>\n",
       "      <td>NaN</td>\n",
       "    </tr>\n",
       "    <tr>\n",
       "      <th>1</th>\n",
       "      <td>alcohol</td>\n",
       "      <td>Q154</td>\n",
       "      <td>alcoholic beverage</td>\n",
       "      <td>drink containing alcohols, typically ethanol</td>\n",
       "      <td>chemistry</td>\n",
       "      <td>Q2329</td>\n",
       "      <td>chemistry</td>\n",
       "      <td>branch of physical science concerned with the ...</td>\n",
       "      <td>4.1250</td>\n",
       "      <td>0.302163</td>\n",
       "      <td>0.274388</td>\n",
       "      <td>0.479313</td>\n",
       "      <td>0.005851</td>\n",
       "    </tr>\n",
       "    <tr>\n",
       "      <th>2</th>\n",
       "      <td>aluminum</td>\n",
       "      <td>Q663</td>\n",
       "      <td>aluminium</td>\n",
       "      <td>metallic chemical element of silvery appearanc...</td>\n",
       "      <td>metal</td>\n",
       "      <td>Q11426</td>\n",
       "      <td>metal</td>\n",
       "      <td>element, compound or alloy that is a good cond...</td>\n",
       "      <td>6.6250</td>\n",
       "      <td>0.694462</td>\n",
       "      <td>0.429289</td>\n",
       "      <td>0.626784</td>\n",
       "      <td>0.393657</td>\n",
       "    </tr>\n",
       "    <tr>\n",
       "      <th>3</th>\n",
       "      <td>announcement</td>\n",
       "      <td>Q567303</td>\n",
       "      <td>announcement</td>\n",
       "      <td>printed, spoken, or published statement or not...</td>\n",
       "      <td>effort</td>\n",
       "      <td>Q14536140</td>\n",
       "      <td>exertion</td>\n",
       "      <td>use of physical or perceived energy by a person</td>\n",
       "      <td>2.0625</td>\n",
       "      <td>0.324825</td>\n",
       "      <td>0.379077</td>\n",
       "      <td>0.618644</td>\n",
       "      <td>0.208812</td>\n",
       "    </tr>\n",
       "    <tr>\n",
       "      <th>4</th>\n",
       "      <td>announcement</td>\n",
       "      <td>Q567303</td>\n",
       "      <td>announcement</td>\n",
       "      <td>printed, spoken, or published statement or not...</td>\n",
       "      <td>news</td>\n",
       "      <td>Q38926</td>\n",
       "      <td>news</td>\n",
       "      <td>communication of selected information on curre...</td>\n",
       "      <td>7.1875</td>\n",
       "      <td>0.361214</td>\n",
       "      <td>0.360383</td>\n",
       "      <td>0.863846</td>\n",
       "      <td>0.888621</td>\n",
       "    </tr>\n",
       "  </tbody>\n",
       "</table>\n",
       "</div>"
      ],
      "text/plain": [
       "         Word 1 word1_kg_id      word1_kg_label  \\\n",
       "0     admission     Q847337          confession   \n",
       "1       alcohol        Q154  alcoholic beverage   \n",
       "2      aluminum        Q663           aluminium   \n",
       "3  announcement     Q567303        announcement   \n",
       "4  announcement     Q567303        announcement   \n",
       "\n",
       "                                word1_kg_description     Word 2 word2_kg_id  \\\n",
       "0  statement made by a person or a group of perso...     ticket     Q551800   \n",
       "1       drink containing alcohols, typically ethanol  chemistry       Q2329   \n",
       "2  metallic chemical element of silvery appearanc...      metal      Q11426   \n",
       "3  printed, spoken, or published statement or not...     effort   Q14536140   \n",
       "4  printed, spoken, or published statement or not...       news      Q38926   \n",
       "\n",
       "  word2_kg_label                               word2_kg_description  \\\n",
       "0         ticket  paper or cardboard document showing payment fo...   \n",
       "1      chemistry  branch of physical science concerned with the ...   \n",
       "2          metal  element, compound or alloy that is a good cond...   \n",
       "3       exertion    use of physical or perceived energy by a person   \n",
       "4           news  communication of selected information on curre...   \n",
       "\n",
       "   Human (Mean)   complex    transe      text     class  \n",
       "0        5.5360  0.361115  0.446632  0.485653       NaN  \n",
       "1        4.1250  0.302163  0.274388  0.479313  0.005851  \n",
       "2        6.6250  0.694462  0.429289  0.626784  0.393657  \n",
       "3        2.0625  0.324825  0.379077  0.618644  0.208812  \n",
       "4        7.1875  0.361214  0.360383  0.863846  0.888621  "
      ]
     },
     "execution_count": 83,
     "metadata": {},
     "output_type": "execute_result"
    }
   ],
   "source": [
    "wordsimDF.head()"
   ]
  },
  {
   "cell_type": "code",
   "execution_count": 84,
   "id": "educational-phoenix",
   "metadata": {},
   "outputs": [],
   "source": [
    "wordsimDF1 = wordsimDF1.fillna(0)"
   ]
  },
  {
   "cell_type": "code",
   "execution_count": 101,
   "id": "backed-scroll",
   "metadata": {},
   "outputs": [],
   "source": [
    "wordsimDF1['bertLabelsSim'] /= 10\n",
    "wordsimDF1['bertV5EncSim'] /= 10\n",
    "wordsimDF1['bertV6EncSim'] /= 10\n",
    "wordsimDF1['bertV7EncSim'] /= 10"
   ]
  },
  {
   "cell_type": "code",
   "execution_count": 102,
   "id": "classical-bandwidth",
   "metadata": {},
   "outputs": [
    {
     "data": {
      "text/html": [
       "<div>\n",
       "<style scoped>\n",
       "    .dataframe tbody tr th:only-of-type {\n",
       "        vertical-align: middle;\n",
       "    }\n",
       "\n",
       "    .dataframe tbody tr th {\n",
       "        vertical-align: top;\n",
       "    }\n",
       "\n",
       "    .dataframe thead th {\n",
       "        text-align: right;\n",
       "    }\n",
       "</style>\n",
       "<table border=\"1\" class=\"dataframe\">\n",
       "  <thead>\n",
       "    <tr style=\"text-align: right;\">\n",
       "      <th></th>\n",
       "      <th>Index</th>\n",
       "      <th>g_qnode</th>\n",
       "      <th>p_qnode</th>\n",
       "      <th>q1_label</th>\n",
       "      <th>q2_label</th>\n",
       "      <th>complex</th>\n",
       "      <th>transe</th>\n",
       "      <th>text</th>\n",
       "      <th>class</th>\n",
       "      <th>node2vec-v0</th>\n",
       "      <th>H_3x6</th>\n",
       "      <th>H_5x8</th>\n",
       "      <th>bertLabelsSim</th>\n",
       "      <th>bertV5EncSim</th>\n",
       "      <th>bertV6EncSim</th>\n",
       "      <th>bertV7EncSim</th>\n",
       "    </tr>\n",
       "  </thead>\n",
       "  <tbody>\n",
       "    <tr>\n",
       "      <th>0</th>\n",
       "      <td>11</td>\n",
       "      <td>Q17221</td>\n",
       "      <td>Q189290</td>\n",
       "      <td>spokesperson</td>\n",
       "      <td>military officer</td>\n",
       "      <td>0.25</td>\n",
       "      <td>0.11</td>\n",
       "      <td>0.62</td>\n",
       "      <td>0.65</td>\n",
       "      <td>0.27</td>\n",
       "      <td>0.68</td>\n",
       "      <td>0.45</td>\n",
       "      <td>0.567040</td>\n",
       "      <td>0.480343</td>\n",
       "      <td>0.480343</td>\n",
       "      <td>0.623804</td>\n",
       "    </tr>\n",
       "    <tr>\n",
       "      <th>1</th>\n",
       "      <td>3</td>\n",
       "      <td>Q702269</td>\n",
       "      <td>Q2285706</td>\n",
       "      <td>professional</td>\n",
       "      <td>head of government</td>\n",
       "      <td>0.29</td>\n",
       "      <td>0.39</td>\n",
       "      <td>0.59</td>\n",
       "      <td>0.57</td>\n",
       "      <td>0.13</td>\n",
       "      <td>0.47</td>\n",
       "      <td>0.29</td>\n",
       "      <td>0.447163</td>\n",
       "      <td>0.558554</td>\n",
       "      <td>0.558554</td>\n",
       "      <td>0.481791</td>\n",
       "    </tr>\n",
       "    <tr>\n",
       "      <th>2</th>\n",
       "      <td>5</td>\n",
       "      <td>Q2285706</td>\n",
       "      <td>Q82955</td>\n",
       "      <td>head of government</td>\n",
       "      <td>politician</td>\n",
       "      <td>0.36</td>\n",
       "      <td>0.26</td>\n",
       "      <td>0.84</td>\n",
       "      <td>0.55</td>\n",
       "      <td>0.05</td>\n",
       "      <td>0.61</td>\n",
       "      <td>0.64</td>\n",
       "      <td>0.725985</td>\n",
       "      <td>0.652909</td>\n",
       "      <td>0.652909</td>\n",
       "      <td>0.594570</td>\n",
       "    </tr>\n",
       "    <tr>\n",
       "      <th>3</th>\n",
       "      <td>11</td>\n",
       "      <td>Q107711</td>\n",
       "      <td>Q189290</td>\n",
       "      <td>firefighter</td>\n",
       "      <td>military officer</td>\n",
       "      <td>0.29</td>\n",
       "      <td>0.22</td>\n",
       "      <td>0.58</td>\n",
       "      <td>0.52</td>\n",
       "      <td>0.34</td>\n",
       "      <td>0.78</td>\n",
       "      <td>0.49</td>\n",
       "      <td>0.459597</td>\n",
       "      <td>0.423419</td>\n",
       "      <td>0.423420</td>\n",
       "      <td>0.315483</td>\n",
       "    </tr>\n",
       "    <tr>\n",
       "      <th>4</th>\n",
       "      <td>3</td>\n",
       "      <td>Q702269</td>\n",
       "      <td>Q48352</td>\n",
       "      <td>professional</td>\n",
       "      <td>head of state</td>\n",
       "      <td>0.30</td>\n",
       "      <td>0.27</td>\n",
       "      <td>0.61</td>\n",
       "      <td>0.52</td>\n",
       "      <td>0.04</td>\n",
       "      <td>0.49</td>\n",
       "      <td>0.33</td>\n",
       "      <td>0.513008</td>\n",
       "      <td>0.450345</td>\n",
       "      <td>0.450346</td>\n",
       "      <td>0.473972</td>\n",
       "    </tr>\n",
       "  </tbody>\n",
       "</table>\n",
       "</div>"
      ],
      "text/plain": [
       "   Index   g_qnode   p_qnode            q1_label            q2_label  complex  \\\n",
       "0     11    Q17221   Q189290        spokesperson    military officer     0.25   \n",
       "1      3   Q702269  Q2285706        professional  head of government     0.29   \n",
       "2      5  Q2285706    Q82955  head of government          politician     0.36   \n",
       "3     11   Q107711   Q189290         firefighter    military officer     0.29   \n",
       "4      3   Q702269    Q48352        professional       head of state     0.30   \n",
       "\n",
       "   transe  text  class  node2vec-v0  H_3x6  H_5x8  bertLabelsSim  \\\n",
       "0    0.11  0.62   0.65         0.27   0.68   0.45       0.567040   \n",
       "1    0.39  0.59   0.57         0.13   0.47   0.29       0.447163   \n",
       "2    0.26  0.84   0.55         0.05   0.61   0.64       0.725985   \n",
       "3    0.22  0.58   0.52         0.34   0.78   0.49       0.459597   \n",
       "4    0.27  0.61   0.52         0.04   0.49   0.33       0.513008   \n",
       "\n",
       "   bertV5EncSim  bertV6EncSim  bertV7EncSim  \n",
       "0      0.480343      0.480343      0.623804  \n",
       "1      0.558554      0.558554      0.481791  \n",
       "2      0.652909      0.652909      0.594570  \n",
       "3      0.423419      0.423420      0.315483  \n",
       "4      0.450345      0.450346      0.473972  "
      ]
     },
     "execution_count": 102,
     "metadata": {},
     "output_type": "execute_result"
    }
   ],
   "source": [
    "wordsimDF1.head()"
   ]
  },
  {
   "cell_type": "code",
   "execution_count": 103,
   "id": "contained-heavy",
   "metadata": {},
   "outputs": [],
   "source": [
    "wordsimDF1.to_csv('../data/SimIP_new_OP.csv')"
   ]
  },
  {
   "cell_type": "code",
   "execution_count": 86,
   "id": "amazing-expense",
   "metadata": {},
   "outputs": [
    {
     "data": {
      "text/html": [
       "<div>\n",
       "<style scoped>\n",
       "    .dataframe tbody tr th:only-of-type {\n",
       "        vertical-align: middle;\n",
       "    }\n",
       "\n",
       "    .dataframe tbody tr th {\n",
       "        vertical-align: top;\n",
       "    }\n",
       "\n",
       "    .dataframe thead th {\n",
       "        text-align: right;\n",
       "    }\n",
       "</style>\n",
       "<table border=\"1\" class=\"dataframe\">\n",
       "  <thead>\n",
       "    <tr style=\"text-align: right;\">\n",
       "      <th></th>\n",
       "      <th>Human (Mean)</th>\n",
       "      <th>bertLabelsSim</th>\n",
       "      <th>amanSim</th>\n",
       "      <th>wikiV3EncSim</th>\n",
       "      <th>bertV4EncSim</th>\n",
       "      <th>bertV5EncSim</th>\n",
       "      <th>bertV6EncSim</th>\n",
       "      <th>bertV7EncSim</th>\n",
       "      <th>complex</th>\n",
       "      <th>transe</th>\n",
       "      <th>text</th>\n",
       "      <th>class</th>\n",
       "    </tr>\n",
       "  </thead>\n",
       "  <tbody>\n",
       "    <tr>\n",
       "      <th>count</th>\n",
       "      <td>349.000000</td>\n",
       "      <td>349.000000</td>\n",
       "      <td>349.000000</td>\n",
       "      <td>349.000000</td>\n",
       "      <td>349.000000</td>\n",
       "      <td>349.000000</td>\n",
       "      <td>349.000000</td>\n",
       "      <td>349.000000</td>\n",
       "      <td>349.000000</td>\n",
       "      <td>349.000000</td>\n",
       "      <td>349.000000</td>\n",
       "      <td>349.000000</td>\n",
       "    </tr>\n",
       "    <tr>\n",
       "      <th>mean</th>\n",
       "      <td>4.052735</td>\n",
       "      <td>6.361162</td>\n",
       "      <td>5.509827</td>\n",
       "      <td>5.600105</td>\n",
       "      <td>3.272164</td>\n",
       "      <td>3.733567</td>\n",
       "      <td>4.655997</td>\n",
       "      <td>4.464247</td>\n",
       "      <td>4.286958</td>\n",
       "      <td>3.438595</td>\n",
       "      <td>5.578697</td>\n",
       "      <td>1.937397</td>\n",
       "    </tr>\n",
       "    <tr>\n",
       "      <th>std</th>\n",
       "      <td>2.044971</td>\n",
       "      <td>1.601204</td>\n",
       "      <td>2.015174</td>\n",
       "      <td>1.995942</td>\n",
       "      <td>2.736918</td>\n",
       "      <td>2.912649</td>\n",
       "      <td>2.279742</td>\n",
       "      <td>2.077533</td>\n",
       "      <td>1.645163</td>\n",
       "      <td>2.033467</td>\n",
       "      <td>2.021548</td>\n",
       "      <td>2.753170</td>\n",
       "    </tr>\n",
       "    <tr>\n",
       "      <th>min</th>\n",
       "      <td>0.312500</td>\n",
       "      <td>0.000000</td>\n",
       "      <td>0.000000</td>\n",
       "      <td>0.000000</td>\n",
       "      <td>0.000000</td>\n",
       "      <td>0.000000</td>\n",
       "      <td>-0.483480</td>\n",
       "      <td>-0.526745</td>\n",
       "      <td>0.000000</td>\n",
       "      <td>-1.436633</td>\n",
       "      <td>0.000000</td>\n",
       "      <td>0.000000</td>\n",
       "    </tr>\n",
       "    <tr>\n",
       "      <th>25%</th>\n",
       "      <td>2.375000</td>\n",
       "      <td>5.304373</td>\n",
       "      <td>4.548204</td>\n",
       "      <td>4.739625</td>\n",
       "      <td>0.000000</td>\n",
       "      <td>0.000000</td>\n",
       "      <td>3.015642</td>\n",
       "      <td>3.120310</td>\n",
       "      <td>3.317798</td>\n",
       "      <td>2.151662</td>\n",
       "      <td>4.626498</td>\n",
       "      <td>0.145023</td>\n",
       "    </tr>\n",
       "    <tr>\n",
       "      <th>50%</th>\n",
       "      <td>3.937500</td>\n",
       "      <td>6.461515</td>\n",
       "      <td>5.597513</td>\n",
       "      <td>5.787425</td>\n",
       "      <td>3.463857</td>\n",
       "      <td>4.437084</td>\n",
       "      <td>4.774273</td>\n",
       "      <td>4.206756</td>\n",
       "      <td>4.171686</td>\n",
       "      <td>3.240109</td>\n",
       "      <td>5.767745</td>\n",
       "      <td>0.639914</td>\n",
       "    </tr>\n",
       "    <tr>\n",
       "      <th>75%</th>\n",
       "      <td>5.375000</td>\n",
       "      <td>7.399760</td>\n",
       "      <td>6.735863</td>\n",
       "      <td>6.744476</td>\n",
       "      <td>5.183337</td>\n",
       "      <td>5.999169</td>\n",
       "      <td>6.218609</td>\n",
       "      <td>5.675579</td>\n",
       "      <td>4.996030</td>\n",
       "      <td>4.731990</td>\n",
       "      <td>6.812977</td>\n",
       "      <td>2.350565</td>\n",
       "    </tr>\n",
       "    <tr>\n",
       "      <th>max</th>\n",
       "      <td>10.000000</td>\n",
       "      <td>10.000002</td>\n",
       "      <td>10.000000</td>\n",
       "      <td>10.000000</td>\n",
       "      <td>10.000002</td>\n",
       "      <td>10.000001</td>\n",
       "      <td>10.000001</td>\n",
       "      <td>10.000002</td>\n",
       "      <td>10.000000</td>\n",
       "      <td>10.000000</td>\n",
       "      <td>10.000000</td>\n",
       "      <td>10.000000</td>\n",
       "    </tr>\n",
       "  </tbody>\n",
       "</table>\n",
       "</div>"
      ],
      "text/plain": [
       "       Human (Mean)  bertLabelsSim     amanSim  wikiV3EncSim  bertV4EncSim  \\\n",
       "count    349.000000     349.000000  349.000000    349.000000    349.000000   \n",
       "mean       4.052735       6.361162    5.509827      5.600105      3.272164   \n",
       "std        2.044971       1.601204    2.015174      1.995942      2.736918   \n",
       "min        0.312500       0.000000    0.000000      0.000000      0.000000   \n",
       "25%        2.375000       5.304373    4.548204      4.739625      0.000000   \n",
       "50%        3.937500       6.461515    5.597513      5.787425      3.463857   \n",
       "75%        5.375000       7.399760    6.735863      6.744476      5.183337   \n",
       "max       10.000000      10.000002   10.000000     10.000000     10.000002   \n",
       "\n",
       "       bertV5EncSim  bertV6EncSim  bertV7EncSim     complex      transe  \\\n",
       "count    349.000000    349.000000    349.000000  349.000000  349.000000   \n",
       "mean       3.733567      4.655997      4.464247    4.286958    3.438595   \n",
       "std        2.912649      2.279742      2.077533    1.645163    2.033467   \n",
       "min        0.000000     -0.483480     -0.526745    0.000000   -1.436633   \n",
       "25%        0.000000      3.015642      3.120310    3.317798    2.151662   \n",
       "50%        4.437084      4.774273      4.206756    4.171686    3.240109   \n",
       "75%        5.999169      6.218609      5.675579    4.996030    4.731990   \n",
       "max       10.000001     10.000001     10.000002   10.000000   10.000000   \n",
       "\n",
       "             text       class  \n",
       "count  349.000000  349.000000  \n",
       "mean     5.578697    1.937397  \n",
       "std      2.021548    2.753170  \n",
       "min      0.000000    0.000000  \n",
       "25%      4.626498    0.145023  \n",
       "50%      5.767745    0.639914  \n",
       "75%      6.812977    2.350565  \n",
       "max     10.000000   10.000000  "
      ]
     },
     "execution_count": 86,
     "metadata": {},
     "output_type": "execute_result"
    }
   ],
   "source": [
    "wordsimDF1.describe()"
   ]
  },
  {
   "cell_type": "markdown",
   "id": "headed-reality",
   "metadata": {},
   "source": [
    "# Agreement Matrix"
   ]
  },
  {
   "cell_type": "code",
   "execution_count": 87,
   "id": "typical-highland",
   "metadata": {},
   "outputs": [],
   "source": [
    "versionNames = ['bertLabelsSim', 'amanSim', 'wikiV3EncSim', 'bertV4EncSim', 'bertV5EncSim', 'bertV6EncSim', 'bertV7EncSim', 'complex', 'transe', 'text', 'class']"
   ]
  },
  {
   "cell_type": "code",
   "execution_count": 88,
   "id": "irish-yesterday",
   "metadata": {},
   "outputs": [],
   "source": [
    "kendallAM = []\n",
    "spearmanAM = []\n",
    "for ver in versionNames:\n",
    "    kAMTemp = []\n",
    "    sAMTemp = []\n",
    "    for ver2 in versionNames:\n",
    "        kAMTemp.append(stats.kendalltau(wordsimDF1[ver], wordsimDF1[ver2]).correlation)\n",
    "        sAMTemp.append(stats.spearmanr(wordsimDF1[ver], wordsimDF1[ver2]).correlation)\n",
    "    kendallAM.append(kAMTemp)\n",
    "    spearmanAM.append(sAMTemp)"
   ]
  },
  {
   "cell_type": "code",
   "execution_count": 89,
   "id": "massive-optimum",
   "metadata": {},
   "outputs": [],
   "source": [
    "kendallAMDF = pd.DataFrame(kendallAM, columns=['Version '+str(i+1) for i in range(len(versionNames))], index=['Version '+str(i+1) for i in range(len(versionNames))])"
   ]
  },
  {
   "cell_type": "code",
   "execution_count": 90,
   "id": "higher-shirt",
   "metadata": {},
   "outputs": [
    {
     "data": {
      "text/html": [
       "<div>\n",
       "<style scoped>\n",
       "    .dataframe tbody tr th:only-of-type {\n",
       "        vertical-align: middle;\n",
       "    }\n",
       "\n",
       "    .dataframe tbody tr th {\n",
       "        vertical-align: top;\n",
       "    }\n",
       "\n",
       "    .dataframe thead th {\n",
       "        text-align: right;\n",
       "    }\n",
       "</style>\n",
       "<table border=\"1\" class=\"dataframe\">\n",
       "  <thead>\n",
       "    <tr style=\"text-align: right;\">\n",
       "      <th></th>\n",
       "      <th>Version 1</th>\n",
       "      <th>Version 2</th>\n",
       "      <th>Version 3</th>\n",
       "      <th>Version 4</th>\n",
       "      <th>Version 5</th>\n",
       "      <th>Version 6</th>\n",
       "      <th>Version 7</th>\n",
       "      <th>Version 8</th>\n",
       "      <th>Version 9</th>\n",
       "      <th>Version 10</th>\n",
       "      <th>Version 11</th>\n",
       "    </tr>\n",
       "  </thead>\n",
       "  <tbody>\n",
       "    <tr>\n",
       "      <th>Version 1</th>\n",
       "      <td>1.000000</td>\n",
       "      <td>0.412089</td>\n",
       "      <td>0.383523</td>\n",
       "      <td>0.160567</td>\n",
       "      <td>0.146498</td>\n",
       "      <td>0.287018</td>\n",
       "      <td>0.383673</td>\n",
       "      <td>0.208911</td>\n",
       "      <td>0.209933</td>\n",
       "      <td>0.400400</td>\n",
       "      <td>0.174948</td>\n",
       "    </tr>\n",
       "    <tr>\n",
       "      <th>Version 2</th>\n",
       "      <td>0.412089</td>\n",
       "      <td>1.000000</td>\n",
       "      <td>0.838947</td>\n",
       "      <td>0.296893</td>\n",
       "      <td>0.266232</td>\n",
       "      <td>0.369277</td>\n",
       "      <td>0.458566</td>\n",
       "      <td>0.309217</td>\n",
       "      <td>0.247839</td>\n",
       "      <td>0.912377</td>\n",
       "      <td>0.238586</td>\n",
       "    </tr>\n",
       "    <tr>\n",
       "      <th>Version 3</th>\n",
       "      <td>0.383523</td>\n",
       "      <td>0.838947</td>\n",
       "      <td>1.000000</td>\n",
       "      <td>0.275386</td>\n",
       "      <td>0.250581</td>\n",
       "      <td>0.351252</td>\n",
       "      <td>0.429853</td>\n",
       "      <td>0.304272</td>\n",
       "      <td>0.249097</td>\n",
       "      <td>0.839894</td>\n",
       "      <td>0.235619</td>\n",
       "    </tr>\n",
       "    <tr>\n",
       "      <th>Version 4</th>\n",
       "      <td>0.160567</td>\n",
       "      <td>0.296893</td>\n",
       "      <td>0.275386</td>\n",
       "      <td>1.000000</td>\n",
       "      <td>0.820504</td>\n",
       "      <td>0.611740</td>\n",
       "      <td>0.619886</td>\n",
       "      <td>0.229670</td>\n",
       "      <td>0.135532</td>\n",
       "      <td>0.299409</td>\n",
       "      <td>0.259318</td>\n",
       "    </tr>\n",
       "    <tr>\n",
       "      <th>Version 5</th>\n",
       "      <td>0.146498</td>\n",
       "      <td>0.266232</td>\n",
       "      <td>0.250581</td>\n",
       "      <td>0.820504</td>\n",
       "      <td>1.000000</td>\n",
       "      <td>0.782150</td>\n",
       "      <td>0.449513</td>\n",
       "      <td>0.246373</td>\n",
       "      <td>0.143346</td>\n",
       "      <td>0.269472</td>\n",
       "      <td>0.248043</td>\n",
       "    </tr>\n",
       "    <tr>\n",
       "      <th>Version 6</th>\n",
       "      <td>0.287018</td>\n",
       "      <td>0.369277</td>\n",
       "      <td>0.351252</td>\n",
       "      <td>0.611740</td>\n",
       "      <td>0.782150</td>\n",
       "      <td>1.000000</td>\n",
       "      <td>0.650565</td>\n",
       "      <td>0.265199</td>\n",
       "      <td>0.201692</td>\n",
       "      <td>0.368089</td>\n",
       "      <td>0.220891</td>\n",
       "    </tr>\n",
       "    <tr>\n",
       "      <th>Version 7</th>\n",
       "      <td>0.383673</td>\n",
       "      <td>0.458566</td>\n",
       "      <td>0.429853</td>\n",
       "      <td>0.619886</td>\n",
       "      <td>0.449513</td>\n",
       "      <td>0.650565</td>\n",
       "      <td>1.000000</td>\n",
       "      <td>0.260021</td>\n",
       "      <td>0.239819</td>\n",
       "      <td>0.453371</td>\n",
       "      <td>0.241190</td>\n",
       "    </tr>\n",
       "    <tr>\n",
       "      <th>Version 8</th>\n",
       "      <td>0.208911</td>\n",
       "      <td>0.309217</td>\n",
       "      <td>0.304272</td>\n",
       "      <td>0.229670</td>\n",
       "      <td>0.246373</td>\n",
       "      <td>0.265199</td>\n",
       "      <td>0.260021</td>\n",
       "      <td>1.000000</td>\n",
       "      <td>0.447656</td>\n",
       "      <td>0.309583</td>\n",
       "      <td>0.334855</td>\n",
       "    </tr>\n",
       "    <tr>\n",
       "      <th>Version 9</th>\n",
       "      <td>0.209933</td>\n",
       "      <td>0.247839</td>\n",
       "      <td>0.249097</td>\n",
       "      <td>0.135532</td>\n",
       "      <td>0.143346</td>\n",
       "      <td>0.201692</td>\n",
       "      <td>0.239819</td>\n",
       "      <td>0.447656</td>\n",
       "      <td>1.000000</td>\n",
       "      <td>0.244593</td>\n",
       "      <td>0.255377</td>\n",
       "    </tr>\n",
       "    <tr>\n",
       "      <th>Version 10</th>\n",
       "      <td>0.400400</td>\n",
       "      <td>0.912377</td>\n",
       "      <td>0.839894</td>\n",
       "      <td>0.299409</td>\n",
       "      <td>0.269472</td>\n",
       "      <td>0.368089</td>\n",
       "      <td>0.453371</td>\n",
       "      <td>0.309583</td>\n",
       "      <td>0.244593</td>\n",
       "      <td>1.000000</td>\n",
       "      <td>0.232037</td>\n",
       "    </tr>\n",
       "    <tr>\n",
       "      <th>Version 11</th>\n",
       "      <td>0.174948</td>\n",
       "      <td>0.238586</td>\n",
       "      <td>0.235619</td>\n",
       "      <td>0.259318</td>\n",
       "      <td>0.248043</td>\n",
       "      <td>0.220891</td>\n",
       "      <td>0.241190</td>\n",
       "      <td>0.334855</td>\n",
       "      <td>0.255377</td>\n",
       "      <td>0.232037</td>\n",
       "      <td>1.000000</td>\n",
       "    </tr>\n",
       "  </tbody>\n",
       "</table>\n",
       "</div>"
      ],
      "text/plain": [
       "            Version 1  Version 2  Version 3  Version 4  Version 5  Version 6  \\\n",
       "Version 1    1.000000   0.412089   0.383523   0.160567   0.146498   0.287018   \n",
       "Version 2    0.412089   1.000000   0.838947   0.296893   0.266232   0.369277   \n",
       "Version 3    0.383523   0.838947   1.000000   0.275386   0.250581   0.351252   \n",
       "Version 4    0.160567   0.296893   0.275386   1.000000   0.820504   0.611740   \n",
       "Version 5    0.146498   0.266232   0.250581   0.820504   1.000000   0.782150   \n",
       "Version 6    0.287018   0.369277   0.351252   0.611740   0.782150   1.000000   \n",
       "Version 7    0.383673   0.458566   0.429853   0.619886   0.449513   0.650565   \n",
       "Version 8    0.208911   0.309217   0.304272   0.229670   0.246373   0.265199   \n",
       "Version 9    0.209933   0.247839   0.249097   0.135532   0.143346   0.201692   \n",
       "Version 10   0.400400   0.912377   0.839894   0.299409   0.269472   0.368089   \n",
       "Version 11   0.174948   0.238586   0.235619   0.259318   0.248043   0.220891   \n",
       "\n",
       "            Version 7  Version 8  Version 9  Version 10  Version 11  \n",
       "Version 1    0.383673   0.208911   0.209933    0.400400    0.174948  \n",
       "Version 2    0.458566   0.309217   0.247839    0.912377    0.238586  \n",
       "Version 3    0.429853   0.304272   0.249097    0.839894    0.235619  \n",
       "Version 4    0.619886   0.229670   0.135532    0.299409    0.259318  \n",
       "Version 5    0.449513   0.246373   0.143346    0.269472    0.248043  \n",
       "Version 6    0.650565   0.265199   0.201692    0.368089    0.220891  \n",
       "Version 7    1.000000   0.260021   0.239819    0.453371    0.241190  \n",
       "Version 8    0.260021   1.000000   0.447656    0.309583    0.334855  \n",
       "Version 9    0.239819   0.447656   1.000000    0.244593    0.255377  \n",
       "Version 10   0.453371   0.309583   0.244593    1.000000    0.232037  \n",
       "Version 11   0.241190   0.334855   0.255377    0.232037    1.000000  "
      ]
     },
     "execution_count": 90,
     "metadata": {},
     "output_type": "execute_result"
    }
   ],
   "source": [
    "kendallAMDF"
   ]
  },
  {
   "cell_type": "code",
   "execution_count": 91,
   "id": "distant-level",
   "metadata": {},
   "outputs": [],
   "source": [
    "spearmanAMDF = pd.DataFrame(spearmanAM, columns=['Version '+str(i+1) for i in range(len(versionNames))], index=['Version '+str(i+1) for i in range(len(versionNames))])"
   ]
  },
  {
   "cell_type": "code",
   "execution_count": 92,
   "id": "skilled-battery",
   "metadata": {},
   "outputs": [
    {
     "data": {
      "text/html": [
       "<div>\n",
       "<style scoped>\n",
       "    .dataframe tbody tr th:only-of-type {\n",
       "        vertical-align: middle;\n",
       "    }\n",
       "\n",
       "    .dataframe tbody tr th {\n",
       "        vertical-align: top;\n",
       "    }\n",
       "\n",
       "    .dataframe thead th {\n",
       "        text-align: right;\n",
       "    }\n",
       "</style>\n",
       "<table border=\"1\" class=\"dataframe\">\n",
       "  <thead>\n",
       "    <tr style=\"text-align: right;\">\n",
       "      <th></th>\n",
       "      <th>Version 1</th>\n",
       "      <th>Version 2</th>\n",
       "      <th>Version 3</th>\n",
       "      <th>Version 4</th>\n",
       "      <th>Version 5</th>\n",
       "      <th>Version 6</th>\n",
       "      <th>Version 7</th>\n",
       "      <th>Version 8</th>\n",
       "      <th>Version 9</th>\n",
       "      <th>Version 10</th>\n",
       "      <th>Version 11</th>\n",
       "    </tr>\n",
       "  </thead>\n",
       "  <tbody>\n",
       "    <tr>\n",
       "      <th>Version 1</th>\n",
       "      <td>1.000000</td>\n",
       "      <td>0.576425</td>\n",
       "      <td>0.539416</td>\n",
       "      <td>0.213744</td>\n",
       "      <td>0.192074</td>\n",
       "      <td>0.400162</td>\n",
       "      <td>0.532950</td>\n",
       "      <td>0.301924</td>\n",
       "      <td>0.305490</td>\n",
       "      <td>0.563628</td>\n",
       "      <td>0.253590</td>\n",
       "    </tr>\n",
       "    <tr>\n",
       "      <th>Version 2</th>\n",
       "      <td>0.576425</td>\n",
       "      <td>1.000000</td>\n",
       "      <td>0.959002</td>\n",
       "      <td>0.392378</td>\n",
       "      <td>0.350908</td>\n",
       "      <td>0.515853</td>\n",
       "      <td>0.628626</td>\n",
       "      <td>0.440326</td>\n",
       "      <td>0.352366</td>\n",
       "      <td>0.985972</td>\n",
       "      <td>0.339260</td>\n",
       "    </tr>\n",
       "    <tr>\n",
       "      <th>Version 3</th>\n",
       "      <td>0.539416</td>\n",
       "      <td>0.959002</td>\n",
       "      <td>1.000000</td>\n",
       "      <td>0.371106</td>\n",
       "      <td>0.337087</td>\n",
       "      <td>0.493746</td>\n",
       "      <td>0.596281</td>\n",
       "      <td>0.430792</td>\n",
       "      <td>0.352982</td>\n",
       "      <td>0.959131</td>\n",
       "      <td>0.336037</td>\n",
       "    </tr>\n",
       "    <tr>\n",
       "      <th>Version 4</th>\n",
       "      <td>0.213744</td>\n",
       "      <td>0.392378</td>\n",
       "      <td>0.371106</td>\n",
       "      <td>1.000000</td>\n",
       "      <td>0.946527</td>\n",
       "      <td>0.733577</td>\n",
       "      <td>0.628222</td>\n",
       "      <td>0.325008</td>\n",
       "      <td>0.189124</td>\n",
       "      <td>0.399380</td>\n",
       "      <td>0.355801</td>\n",
       "    </tr>\n",
       "    <tr>\n",
       "      <th>Version 5</th>\n",
       "      <td>0.192074</td>\n",
       "      <td>0.350908</td>\n",
       "      <td>0.337087</td>\n",
       "      <td>0.946527</td>\n",
       "      <td>1.000000</td>\n",
       "      <td>0.793177</td>\n",
       "      <td>0.556256</td>\n",
       "      <td>0.343765</td>\n",
       "      <td>0.203396</td>\n",
       "      <td>0.356645</td>\n",
       "      <td>0.343931</td>\n",
       "    </tr>\n",
       "    <tr>\n",
       "      <th>Version 6</th>\n",
       "      <td>0.400162</td>\n",
       "      <td>0.515853</td>\n",
       "      <td>0.493746</td>\n",
       "      <td>0.733577</td>\n",
       "      <td>0.793177</td>\n",
       "      <td>1.000000</td>\n",
       "      <td>0.829959</td>\n",
       "      <td>0.381097</td>\n",
       "      <td>0.298756</td>\n",
       "      <td>0.513084</td>\n",
       "      <td>0.321041</td>\n",
       "    </tr>\n",
       "    <tr>\n",
       "      <th>Version 7</th>\n",
       "      <td>0.532950</td>\n",
       "      <td>0.628626</td>\n",
       "      <td>0.596281</td>\n",
       "      <td>0.628222</td>\n",
       "      <td>0.556256</td>\n",
       "      <td>0.829959</td>\n",
       "      <td>1.000000</td>\n",
       "      <td>0.373446</td>\n",
       "      <td>0.347957</td>\n",
       "      <td>0.624048</td>\n",
       "      <td>0.345162</td>\n",
       "    </tr>\n",
       "    <tr>\n",
       "      <th>Version 8</th>\n",
       "      <td>0.301924</td>\n",
       "      <td>0.440326</td>\n",
       "      <td>0.430792</td>\n",
       "      <td>0.325008</td>\n",
       "      <td>0.343765</td>\n",
       "      <td>0.381097</td>\n",
       "      <td>0.373446</td>\n",
       "      <td>1.000000</td>\n",
       "      <td>0.619056</td>\n",
       "      <td>0.439102</td>\n",
       "      <td>0.477997</td>\n",
       "    </tr>\n",
       "    <tr>\n",
       "      <th>Version 9</th>\n",
       "      <td>0.305490</td>\n",
       "      <td>0.352366</td>\n",
       "      <td>0.352982</td>\n",
       "      <td>0.189124</td>\n",
       "      <td>0.203396</td>\n",
       "      <td>0.298756</td>\n",
       "      <td>0.347957</td>\n",
       "      <td>0.619056</td>\n",
       "      <td>1.000000</td>\n",
       "      <td>0.346778</td>\n",
       "      <td>0.364509</td>\n",
       "    </tr>\n",
       "    <tr>\n",
       "      <th>Version 10</th>\n",
       "      <td>0.563628</td>\n",
       "      <td>0.985972</td>\n",
       "      <td>0.959131</td>\n",
       "      <td>0.399380</td>\n",
       "      <td>0.356645</td>\n",
       "      <td>0.513084</td>\n",
       "      <td>0.624048</td>\n",
       "      <td>0.439102</td>\n",
       "      <td>0.346778</td>\n",
       "      <td>1.000000</td>\n",
       "      <td>0.333301</td>\n",
       "    </tr>\n",
       "    <tr>\n",
       "      <th>Version 11</th>\n",
       "      <td>0.253590</td>\n",
       "      <td>0.339260</td>\n",
       "      <td>0.336037</td>\n",
       "      <td>0.355801</td>\n",
       "      <td>0.343931</td>\n",
       "      <td>0.321041</td>\n",
       "      <td>0.345162</td>\n",
       "      <td>0.477997</td>\n",
       "      <td>0.364509</td>\n",
       "      <td>0.333301</td>\n",
       "      <td>1.000000</td>\n",
       "    </tr>\n",
       "  </tbody>\n",
       "</table>\n",
       "</div>"
      ],
      "text/plain": [
       "            Version 1  Version 2  Version 3  Version 4  Version 5  Version 6  \\\n",
       "Version 1    1.000000   0.576425   0.539416   0.213744   0.192074   0.400162   \n",
       "Version 2    0.576425   1.000000   0.959002   0.392378   0.350908   0.515853   \n",
       "Version 3    0.539416   0.959002   1.000000   0.371106   0.337087   0.493746   \n",
       "Version 4    0.213744   0.392378   0.371106   1.000000   0.946527   0.733577   \n",
       "Version 5    0.192074   0.350908   0.337087   0.946527   1.000000   0.793177   \n",
       "Version 6    0.400162   0.515853   0.493746   0.733577   0.793177   1.000000   \n",
       "Version 7    0.532950   0.628626   0.596281   0.628222   0.556256   0.829959   \n",
       "Version 8    0.301924   0.440326   0.430792   0.325008   0.343765   0.381097   \n",
       "Version 9    0.305490   0.352366   0.352982   0.189124   0.203396   0.298756   \n",
       "Version 10   0.563628   0.985972   0.959131   0.399380   0.356645   0.513084   \n",
       "Version 11   0.253590   0.339260   0.336037   0.355801   0.343931   0.321041   \n",
       "\n",
       "            Version 7  Version 8  Version 9  Version 10  Version 11  \n",
       "Version 1    0.532950   0.301924   0.305490    0.563628    0.253590  \n",
       "Version 2    0.628626   0.440326   0.352366    0.985972    0.339260  \n",
       "Version 3    0.596281   0.430792   0.352982    0.959131    0.336037  \n",
       "Version 4    0.628222   0.325008   0.189124    0.399380    0.355801  \n",
       "Version 5    0.556256   0.343765   0.203396    0.356645    0.343931  \n",
       "Version 6    0.829959   0.381097   0.298756    0.513084    0.321041  \n",
       "Version 7    1.000000   0.373446   0.347957    0.624048    0.345162  \n",
       "Version 8    0.373446   1.000000   0.619056    0.439102    0.477997  \n",
       "Version 9    0.347957   0.619056   1.000000    0.346778    0.364509  \n",
       "Version 10   0.624048   0.439102   0.346778    1.000000    0.333301  \n",
       "Version 11   0.345162   0.477997   0.364509    0.333301    1.000000  "
      ]
     },
     "execution_count": 92,
     "metadata": {},
     "output_type": "execute_result"
    }
   ],
   "source": [
    "spearmanAMDF"
   ]
  },
  {
   "cell_type": "code",
   "execution_count": 93,
   "id": "indoor-coordinator",
   "metadata": {},
   "outputs": [],
   "source": [
    "kendallAMDF.to_csv('../data/kendallAMDF.csv')\n",
    "spearmanAMDF.to_csv('../data/spearmanAMDF.csv')"
   ]
  },
  {
   "cell_type": "code",
   "execution_count": null,
   "id": "innocent-prerequisite",
   "metadata": {},
   "outputs": [],
   "source": []
  },
  {
   "cell_type": "code",
   "execution_count": null,
   "id": "active-leisure",
   "metadata": {},
   "outputs": [],
   "source": []
  },
  {
   "cell_type": "code",
   "execution_count": null,
   "id": "boolean-impossible",
   "metadata": {},
   "outputs": [],
   "source": []
  },
  {
   "cell_type": "code",
   "execution_count": null,
   "id": "suitable-brazil",
   "metadata": {},
   "outputs": [],
   "source": []
  },
  {
   "cell_type": "code",
   "execution_count": 94,
   "id": "desirable-collect",
   "metadata": {},
   "outputs": [],
   "source": [
    "for ver in versionNames:\n",
    "    wordsimDF[ver] = wordsimDF1[ver]"
   ]
  },
  {
   "cell_type": "code",
   "execution_count": 95,
   "id": "flexible-fifth",
   "metadata": {},
   "outputs": [
    {
     "data": {
      "text/html": [
       "<div>\n",
       "<style scoped>\n",
       "    .dataframe tbody tr th:only-of-type {\n",
       "        vertical-align: middle;\n",
       "    }\n",
       "\n",
       "    .dataframe tbody tr th {\n",
       "        vertical-align: top;\n",
       "    }\n",
       "\n",
       "    .dataframe thead th {\n",
       "        text-align: right;\n",
       "    }\n",
       "</style>\n",
       "<table border=\"1\" class=\"dataframe\">\n",
       "  <thead>\n",
       "    <tr style=\"text-align: right;\">\n",
       "      <th></th>\n",
       "      <th>Word 1</th>\n",
       "      <th>word1_kg_id</th>\n",
       "      <th>word1_kg_label</th>\n",
       "      <th>word1_kg_description</th>\n",
       "      <th>Word 2</th>\n",
       "      <th>word2_kg_id</th>\n",
       "      <th>word2_kg_label</th>\n",
       "      <th>word2_kg_description</th>\n",
       "      <th>Human (Mean)</th>\n",
       "      <th>complex</th>\n",
       "      <th>transe</th>\n",
       "      <th>text</th>\n",
       "      <th>class</th>\n",
       "      <th>bertLabelsSim</th>\n",
       "      <th>amanSim</th>\n",
       "      <th>wikiV3EncSim</th>\n",
       "      <th>bertV4EncSim</th>\n",
       "      <th>bertV5EncSim</th>\n",
       "      <th>bertV6EncSim</th>\n",
       "      <th>bertV7EncSim</th>\n",
       "    </tr>\n",
       "  </thead>\n",
       "  <tbody>\n",
       "    <tr>\n",
       "      <th>0</th>\n",
       "      <td>admission</td>\n",
       "      <td>Q847337</td>\n",
       "      <td>confession</td>\n",
       "      <td>statement made by a person or a group of perso...</td>\n",
       "      <td>ticket</td>\n",
       "      <td>Q551800</td>\n",
       "      <td>ticket</td>\n",
       "      <td>paper or cardboard document showing payment fo...</td>\n",
       "      <td>5.5360</td>\n",
       "      <td>3.611154</td>\n",
       "      <td>4.466324</td>\n",
       "      <td>4.856529</td>\n",
       "      <td>0.000000</td>\n",
       "      <td>6.809672</td>\n",
       "      <td>4.949738</td>\n",
       "      <td>5.145601</td>\n",
       "      <td>3.770548</td>\n",
       "      <td>4.268633</td>\n",
       "      <td>4.268633</td>\n",
       "      <td>3.770548</td>\n",
       "    </tr>\n",
       "    <tr>\n",
       "      <th>1</th>\n",
       "      <td>alcohol</td>\n",
       "      <td>Q154</td>\n",
       "      <td>alcoholic beverage</td>\n",
       "      <td>drink containing alcohols, typically ethanol</td>\n",
       "      <td>chemistry</td>\n",
       "      <td>Q2329</td>\n",
       "      <td>chemistry</td>\n",
       "      <td>branch of physical science concerned with the ...</td>\n",
       "      <td>4.1250</td>\n",
       "      <td>3.021635</td>\n",
       "      <td>2.743883</td>\n",
       "      <td>4.793135</td>\n",
       "      <td>0.058511</td>\n",
       "      <td>4.554877</td>\n",
       "      <td>4.818231</td>\n",
       "      <td>3.987047</td>\n",
       "      <td>4.168040</td>\n",
       "      <td>3.399217</td>\n",
       "      <td>3.399217</td>\n",
       "      <td>4.168040</td>\n",
       "    </tr>\n",
       "    <tr>\n",
       "      <th>2</th>\n",
       "      <td>aluminum</td>\n",
       "      <td>Q663</td>\n",
       "      <td>aluminium</td>\n",
       "      <td>metallic chemical element of silvery appearanc...</td>\n",
       "      <td>metal</td>\n",
       "      <td>Q11426</td>\n",
       "      <td>metal</td>\n",
       "      <td>element, compound or alloy that is a good cond...</td>\n",
       "      <td>6.6250</td>\n",
       "      <td>6.944618</td>\n",
       "      <td>4.292894</td>\n",
       "      <td>6.267841</td>\n",
       "      <td>3.936571</td>\n",
       "      <td>7.643815</td>\n",
       "      <td>6.407051</td>\n",
       "      <td>5.669631</td>\n",
       "      <td>4.997217</td>\n",
       "      <td>6.865782</td>\n",
       "      <td>6.865782</td>\n",
       "      <td>4.997217</td>\n",
       "    </tr>\n",
       "    <tr>\n",
       "      <th>3</th>\n",
       "      <td>announcement</td>\n",
       "      <td>Q567303</td>\n",
       "      <td>announcement</td>\n",
       "      <td>printed, spoken, or published statement or not...</td>\n",
       "      <td>effort</td>\n",
       "      <td>Q14536140</td>\n",
       "      <td>exertion</td>\n",
       "      <td>use of physical or perceived energy by a person</td>\n",
       "      <td>2.0625</td>\n",
       "      <td>3.248249</td>\n",
       "      <td>3.790767</td>\n",
       "      <td>6.186442</td>\n",
       "      <td>2.088125</td>\n",
       "      <td>7.194899</td>\n",
       "      <td>6.186497</td>\n",
       "      <td>6.186497</td>\n",
       "      <td>0.000000</td>\n",
       "      <td>0.000000</td>\n",
       "      <td>2.961755</td>\n",
       "      <td>5.296330</td>\n",
       "    </tr>\n",
       "    <tr>\n",
       "      <th>4</th>\n",
       "      <td>announcement</td>\n",
       "      <td>Q567303</td>\n",
       "      <td>announcement</td>\n",
       "      <td>printed, spoken, or published statement or not...</td>\n",
       "      <td>news</td>\n",
       "      <td>Q38926</td>\n",
       "      <td>news</td>\n",
       "      <td>communication of selected information on curre...</td>\n",
       "      <td>7.1875</td>\n",
       "      <td>3.612144</td>\n",
       "      <td>3.603834</td>\n",
       "      <td>8.638458</td>\n",
       "      <td>8.886211</td>\n",
       "      <td>8.137879</td>\n",
       "      <td>8.556664</td>\n",
       "      <td>9.098408</td>\n",
       "      <td>0.000000</td>\n",
       "      <td>0.000000</td>\n",
       "      <td>3.408112</td>\n",
       "      <td>5.621890</td>\n",
       "    </tr>\n",
       "  </tbody>\n",
       "</table>\n",
       "</div>"
      ],
      "text/plain": [
       "         Word 1 word1_kg_id      word1_kg_label  \\\n",
       "0     admission     Q847337          confession   \n",
       "1       alcohol        Q154  alcoholic beverage   \n",
       "2      aluminum        Q663           aluminium   \n",
       "3  announcement     Q567303        announcement   \n",
       "4  announcement     Q567303        announcement   \n",
       "\n",
       "                                word1_kg_description     Word 2 word2_kg_id  \\\n",
       "0  statement made by a person or a group of perso...     ticket     Q551800   \n",
       "1       drink containing alcohols, typically ethanol  chemistry       Q2329   \n",
       "2  metallic chemical element of silvery appearanc...      metal      Q11426   \n",
       "3  printed, spoken, or published statement or not...     effort   Q14536140   \n",
       "4  printed, spoken, or published statement or not...       news      Q38926   \n",
       "\n",
       "  word2_kg_label                               word2_kg_description  \\\n",
       "0         ticket  paper or cardboard document showing payment fo...   \n",
       "1      chemistry  branch of physical science concerned with the ...   \n",
       "2          metal  element, compound or alloy that is a good cond...   \n",
       "3       exertion    use of physical or perceived energy by a person   \n",
       "4           news  communication of selected information on curre...   \n",
       "\n",
       "   Human (Mean)   complex    transe      text     class  bertLabelsSim  \\\n",
       "0        5.5360  3.611154  4.466324  4.856529  0.000000       6.809672   \n",
       "1        4.1250  3.021635  2.743883  4.793135  0.058511       4.554877   \n",
       "2        6.6250  6.944618  4.292894  6.267841  3.936571       7.643815   \n",
       "3        2.0625  3.248249  3.790767  6.186442  2.088125       7.194899   \n",
       "4        7.1875  3.612144  3.603834  8.638458  8.886211       8.137879   \n",
       "\n",
       "    amanSim  wikiV3EncSim  bertV4EncSim  bertV5EncSim  bertV6EncSim  \\\n",
       "0  4.949738      5.145601      3.770548      4.268633      4.268633   \n",
       "1  4.818231      3.987047      4.168040      3.399217      3.399217   \n",
       "2  6.407051      5.669631      4.997217      6.865782      6.865782   \n",
       "3  6.186497      6.186497      0.000000      0.000000      2.961755   \n",
       "4  8.556664      9.098408      0.000000      0.000000      3.408112   \n",
       "\n",
       "   bertV7EncSim  \n",
       "0      3.770548  \n",
       "1      4.168040  \n",
       "2      4.997217  \n",
       "3      5.296330  \n",
       "4      5.621890  "
      ]
     },
     "execution_count": 95,
     "metadata": {},
     "output_type": "execute_result"
    }
   ],
   "source": [
    "wordsimDF.head()"
   ]
  },
  {
   "cell_type": "code",
   "execution_count": 96,
   "id": "ambient-netherlands",
   "metadata": {},
   "outputs": [],
   "source": [
    "wordsimDF.to_csv('../data/wordsim_updated.csv')"
   ]
  },
  {
   "cell_type": "code",
   "execution_count": null,
   "id": "tested-screening",
   "metadata": {},
   "outputs": [],
   "source": []
  },
  {
   "cell_type": "markdown",
   "id": "assigned-identifier",
   "metadata": {},
   "source": [
    "# Part 2 - Pedro's updated file"
   ]
  },
  {
   "cell_type": "code",
   "execution_count": 98,
   "id": "casual-research",
   "metadata": {},
   "outputs": [],
   "source": [
    "wordsimDFNew = pd.read_csv('../data/SimIP_new.csv')"
   ]
  },
  {
   "cell_type": "code",
   "execution_count": null,
   "id": "capable-brisbane",
   "metadata": {},
   "outputs": [],
   "source": [
    "list(set(wordsimDFNew['g_qnode'].to_list() + wordsimDFNew['p_qnode'].to_list()))"
   ]
  },
  {
   "cell_type": "markdown",
   "id": "valid-agriculture",
   "metadata": {},
   "source": [
    "# Version 1 - Embeddings of Labels"
   ]
  },
  {
   "cell_type": "code",
   "execution_count": 9,
   "id": "worst-posting",
   "metadata": {},
   "outputs": [],
   "source": [
    "from sentence_transformers import SentenceTransformer\n",
    "from sklearn.metrics.pairwise import cosine_similarity\n",
    "import scipy.stats as stats"
   ]
  },
  {
   "cell_type": "code",
   "execution_count": 12,
   "id": "quick-asbestos",
   "metadata": {},
   "outputs": [],
   "source": [
    "def getV1Embeddings(modelName):\n",
    "    model = SentenceTransformer(modelName)\n",
    "    start = time()\n",
    "    encodings = model.encode(wordsimQNodesListWAbstractsLabelsDF2.node2_labelsDF.to_list())\n",
    "    print(time()-start,'s')\n",
    "    return encodings\n",
    "\n",
    "def getMap(encodings):\n",
    "    return {qnode: enc for qnode, enc in zip(wordsimQNodesListWAbstractsLabelsDF2.index.to_list(), encodings)}\n",
    "\n",
    "def checkSimilarity(row, encodingsMap):\n",
    "    if row['g_qnode'] in encodingsMap and row['p_qnode'] in encodingsMap:\n",
    "        return cosine_similarity([encodingsMap[row['g_qnode']]], [encodingsMap[row['p_qnode']]])\n",
    "    else:\n",
    "        return 0\n",
    "\n",
    "def getCoverage(row, encodingsMap):\n",
    "    if row['g_qnode'] in encodingsMap and row['p_qnode'] in encodingsMap:\n",
    "        return 1\n",
    "    else:\n",
    "        return 0"
   ]
  },
  {
   "cell_type": "code",
   "execution_count": 13,
   "id": "democratic-assignment",
   "metadata": {},
   "outputs": [
    {
     "name": "stdout",
     "output_type": "stream",
     "text": [
      "4.580217361450195 s\n"
     ]
    },
    {
     "name": "stderr",
     "output_type": "stream",
     "text": [
      "<ipython-input-13-d93d87c23bc8>:3: SettingWithCopyWarning: \n",
      "A value is trying to be set on a copy of a slice from a DataFrame.\n",
      "Try using .loc[row_indexer,col_indexer] = value instead\n",
      "\n",
      "See the caveats in the documentation: https://pandas.pydata.org/pandas-docs/stable/user_guide/indexing.html#returning-a-view-versus-a-copy\n",
      "  wordsimDF1['bertLabelsSim'] = wordsimDF.apply(checkSimilarity, axis=1, args=(bertLabelsEncMap, ))\n",
      "<ipython-input-13-d93d87c23bc8>:4: SettingWithCopyWarning: \n",
      "A value is trying to be set on a copy of a slice from a DataFrame.\n",
      "Try using .loc[row_indexer,col_indexer] = value instead\n",
      "\n",
      "See the caveats in the documentation: https://pandas.pydata.org/pandas-docs/stable/user_guide/indexing.html#returning-a-view-versus-a-copy\n",
      "  wordsimDF1['bertLabelsSim'] = wordsimDF1.bertLabelsSim.apply(lambda p: p[0][0] if p != 0 else p)\n",
      "/nas/home/kshenoy/miniconda3/envs/kgtkEnv/lib/python3.8/site-packages/pandas/core/generic.py:5491: SettingWithCopyWarning: \n",
      "A value is trying to be set on a copy of a slice from a DataFrame.\n",
      "Try using .loc[row_indexer,col_indexer] = value instead\n",
      "\n",
      "See the caveats in the documentation: https://pandas.pydata.org/pandas-docs/stable/user_guide/indexing.html#returning-a-view-versus-a-copy\n",
      "  self[name] = value\n"
     ]
    }
   ],
   "source": [
    "bertLabelsEnc = getV1Embeddings('bert-base-nli-mean-tokens')\n",
    "bertLabelsEncMap = getMap(bertLabelsEnc)\n",
    "wordsimDF1['bertLabelsSim'] = wordsimDF.apply(checkSimilarity, axis=1, args=(bertLabelsEncMap, ))\n",
    "wordsimDF1['bertLabelsSim'] = wordsimDF1.bertLabelsSim.apply(lambda p: p[0][0] if p != 0 else p)\n",
    "wordsimDF1.bertLabelsSim *= 10"
   ]
  },
  {
   "cell_type": "code",
   "execution_count": 14,
   "id": "extraordinary-motivation",
   "metadata": {},
   "outputs": [
    {
     "data": {
      "text/plain": [
       "(345, 349, 0.9885386819484241)"
      ]
     },
     "execution_count": 14,
     "metadata": {},
     "output_type": "execute_result"
    }
   ],
   "source": [
    "cnt = wordsimDF.apply(getCoverage, axis=1, args=(bertLabelsEncMap, )).sum()\n",
    "cnt, len(wordsimDF), cnt / len(wordsimDF)"
   ]
  },
  {
   "cell_type": "code",
   "execution_count": 15,
   "id": "recovered-assignment",
   "metadata": {},
   "outputs": [
    {
     "data": {
      "text/plain": [
       "KendalltauResult(correlation=0.25719783185089823, pvalue=9.11953585838357e-13)"
      ]
     },
     "execution_count": 15,
     "metadata": {},
     "output_type": "execute_result"
    }
   ],
   "source": [
    "stats.kendalltau(wordsimDF1['Human (Mean)'].to_list(), wordsimDF1['bertLabelsSim'])"
   ]
  },
  {
   "cell_type": "code",
   "execution_count": 16,
   "id": "southern-berry",
   "metadata": {},
   "outputs": [
    {
     "data": {
      "text/plain": [
       "SpearmanrResult(correlation=0.37036443456409784, pvalue=8.677074016866423e-13)"
      ]
     },
     "execution_count": 16,
     "metadata": {},
     "output_type": "execute_result"
    }
   ],
   "source": [
    "stats.spearmanr(wordsimDF1['Human (Mean)'].to_list(), wordsimDF1['bertLabelsSim'])"
   ]
  },
  {
   "cell_type": "markdown",
   "id": "public-arizona",
   "metadata": {},
   "source": [
    "# Version 6 - DBPedia's short abstracts + labels vs Human"
   ]
  },
  {
   "cell_type": "code",
   "execution_count": 62,
   "id": "breathing-bennett",
   "metadata": {},
   "outputs": [
    {
     "data": {
      "text/html": [
       "<div>\n",
       "<style scoped>\n",
       "    .dataframe tbody tr th:only-of-type {\n",
       "        vertical-align: middle;\n",
       "    }\n",
       "\n",
       "    .dataframe tbody tr th {\n",
       "        vertical-align: top;\n",
       "    }\n",
       "\n",
       "    .dataframe thead th {\n",
       "        text-align: right;\n",
       "    }\n",
       "</style>\n",
       "<table border=\"1\" class=\"dataframe\">\n",
       "  <thead>\n",
       "    <tr style=\"text-align: right;\">\n",
       "      <th></th>\n",
       "      <th>index</th>\n",
       "      <th>id</th>\n",
       "      <th>label</th>\n",
       "      <th>node2</th>\n",
       "      <th>ignore</th>\n",
       "      <th>url</th>\n",
       "      <th>ignore2</th>\n",
       "      <th>abstract</th>\n",
       "      <th>node2_labelsDF</th>\n",
       "    </tr>\n",
       "    <tr>\n",
       "      <th>node1</th>\n",
       "      <th></th>\n",
       "      <th></th>\n",
       "      <th></th>\n",
       "      <th></th>\n",
       "      <th></th>\n",
       "      <th></th>\n",
       "      <th></th>\n",
       "      <th></th>\n",
       "      <th></th>\n",
       "    </tr>\n",
       "  </thead>\n",
       "  <tbody>\n",
       "    <tr>\n",
       "      <th>Q1514190</th>\n",
       "      <td>School_holiday</td>\n",
       "      <td>Q1514190-wikipedia_sitelink-a7b9f1-0</td>\n",
       "      <td>wikipedia_sitelink</td>\n",
       "      <td>http://en.wikipedia.org/wiki/School_holiday</td>\n",
       "      <td>NaN</td>\n",
       "      <td>NaN</td>\n",
       "      <td>NaN</td>\n",
       "      <td>school holiday</td>\n",
       "      <td>school holiday</td>\n",
       "    </tr>\n",
       "    <tr>\n",
       "      <th>Q8068</th>\n",
       "      <td>Flood</td>\n",
       "      <td>Q8068-wikipedia_sitelink-410669-0</td>\n",
       "      <td>wikipedia_sitelink</td>\n",
       "      <td>http://en.wikipedia.org/wiki/Flood</td>\n",
       "      <td>23841.0</td>\n",
       "      <td>&lt;http://dbpedia.org/resource/Flood&gt;</td>\n",
       "      <td>&lt;http://www.w3.org/2000/01/rdf-schema#comment&gt;</td>\n",
       "      <td>A flood is an overflow of water that submerges...</td>\n",
       "      <td>flood</td>\n",
       "    </tr>\n",
       "    <tr>\n",
       "      <th>Q1368</th>\n",
       "      <td>Money</td>\n",
       "      <td>Q1368-wikipedia_sitelink-59ade8-0</td>\n",
       "      <td>wikipedia_sitelink</td>\n",
       "      <td>http://en.wikipedia.org/wiki/Money</td>\n",
       "      <td>1312979.0</td>\n",
       "      <td>&lt;http://dbpedia.org/resource/Money&gt;</td>\n",
       "      <td>&lt;http://www.w3.org/2000/01/rdf-schema#comment&gt;</td>\n",
       "      <td>Money is any item or verifiable record that is...</td>\n",
       "      <td>money</td>\n",
       "    </tr>\n",
       "    <tr>\n",
       "      <th>Q872</th>\n",
       "      <td>Radio</td>\n",
       "      <td>Q872-wikipedia_sitelink-1e49e4-0</td>\n",
       "      <td>wikipedia_sitelink</td>\n",
       "      <td>http://en.wikipedia.org/wiki/Radio</td>\n",
       "      <td>1866867.0</td>\n",
       "      <td>&lt;http://dbpedia.org/resource/Radio&gt;</td>\n",
       "      <td>&lt;http://www.w3.org/2000/01/rdf-schema#comment&gt;</td>\n",
       "      <td>Radio is the technology of signaling and commu...</td>\n",
       "      <td>radio</td>\n",
       "    </tr>\n",
       "    <tr>\n",
       "      <th>Q5070802</th>\n",
       "      <td>Emergency</td>\n",
       "      <td>Q5070802-wikipedia_sitelink-41cebc-0</td>\n",
       "      <td>wikipedia_sitelink</td>\n",
       "      <td>http://en.wikipedia.org/wiki/Emergency</td>\n",
       "      <td>80429.0</td>\n",
       "      <td>&lt;http://dbpedia.org/resource/Emergency&gt;</td>\n",
       "      <td>&lt;http://www.w3.org/2000/01/rdf-schema#comment&gt;</td>\n",
       "      <td>An emergency is a situation that poses an imme...</td>\n",
       "      <td>emergency</td>\n",
       "    </tr>\n",
       "  </tbody>\n",
       "</table>\n",
       "</div>"
      ],
      "text/plain": [
       "                   index                                    id  \\\n",
       "node1                                                            \n",
       "Q1514190  School_holiday  Q1514190-wikipedia_sitelink-a7b9f1-0   \n",
       "Q8068              Flood     Q8068-wikipedia_sitelink-410669-0   \n",
       "Q1368              Money     Q1368-wikipedia_sitelink-59ade8-0   \n",
       "Q872               Radio      Q872-wikipedia_sitelink-1e49e4-0   \n",
       "Q5070802       Emergency  Q5070802-wikipedia_sitelink-41cebc-0   \n",
       "\n",
       "                       label                                        node2  \\\n",
       "node1                                                                       \n",
       "Q1514190  wikipedia_sitelink  http://en.wikipedia.org/wiki/School_holiday   \n",
       "Q8068     wikipedia_sitelink           http://en.wikipedia.org/wiki/Flood   \n",
       "Q1368     wikipedia_sitelink           http://en.wikipedia.org/wiki/Money   \n",
       "Q872      wikipedia_sitelink           http://en.wikipedia.org/wiki/Radio   \n",
       "Q5070802  wikipedia_sitelink       http://en.wikipedia.org/wiki/Emergency   \n",
       "\n",
       "             ignore                                      url  \\\n",
       "node1                                                          \n",
       "Q1514190        NaN                                      NaN   \n",
       "Q8068       23841.0      <http://dbpedia.org/resource/Flood>   \n",
       "Q1368     1312979.0      <http://dbpedia.org/resource/Money>   \n",
       "Q872      1866867.0      <http://dbpedia.org/resource/Radio>   \n",
       "Q5070802    80429.0  <http://dbpedia.org/resource/Emergency>   \n",
       "\n",
       "                                                 ignore2  \\\n",
       "node1                                                      \n",
       "Q1514190                                             NaN   \n",
       "Q8068     <http://www.w3.org/2000/01/rdf-schema#comment>   \n",
       "Q1368     <http://www.w3.org/2000/01/rdf-schema#comment>   \n",
       "Q872      <http://www.w3.org/2000/01/rdf-schema#comment>   \n",
       "Q5070802  <http://www.w3.org/2000/01/rdf-schema#comment>   \n",
       "\n",
       "                                                   abstract  node2_labelsDF  \n",
       "node1                                                                        \n",
       "Q1514190                                     school holiday  school holiday  \n",
       "Q8068     A flood is an overflow of water that submerges...           flood  \n",
       "Q1368     Money is any item or verifiable record that is...           money  \n",
       "Q872      Radio is the technology of signaling and commu...           radio  \n",
       "Q5070802  An emergency is a situation that poses an imme...       emergency  "
      ]
     },
     "execution_count": 62,
     "metadata": {},
     "output_type": "execute_result"
    }
   ],
   "source": [
    "wordsimQNodesListWAbstractsLabelsDF2.head()"
   ]
  },
  {
   "cell_type": "code",
   "execution_count": 63,
   "id": "communist-destination",
   "metadata": {
    "scrolled": true
   },
   "outputs": [
    {
     "data": {
      "text/plain": [
       "418"
      ]
     },
     "execution_count": 63,
     "metadata": {},
     "output_type": "execute_result"
    }
   ],
   "source": [
    "len(wordsimQNodesListWAbstractsLabelsDF2)"
   ]
  },
  {
   "cell_type": "code",
   "execution_count": 64,
   "id": "cardiac-coral",
   "metadata": {},
   "outputs": [],
   "source": [
    "from sentence_transformers import SentenceTransformer\n",
    "from sklearn.metrics.pairwise import cosine_similarity"
   ]
  },
  {
   "cell_type": "code",
   "execution_count": 65,
   "id": "original-combat",
   "metadata": {},
   "outputs": [],
   "source": [
    "def getAbsLabsEmbeddings(modelName):\n",
    "    model = SentenceTransformer(modelName)\n",
    "    start = time()\n",
    "    encodings = model.encode(wordsimQNodesListWAbstractsLabelsDF2.abstract.to_list())\n",
    "    print(time()-start,'s')\n",
    "    return encodings\n",
    "\n",
    "def getAbsLabsMap(encodings):\n",
    "    return {qnode: enc for qnode, enc in zip(wordsimQNodesListWAbstractsLabelsDF2.index.to_list(), encodings)}\n",
    "\n",
    "def checkSimilarity(row, encodingsMap):\n",
    "    if row['g_qnode'] in encodingsMap and row['p_qnode'] in encodingsMap:\n",
    "        return cosine_similarity([encodingsMap[row['g_qnode']]], [encodingsMap[row['p_qnode']]])\n",
    "    else:\n",
    "        return 0"
   ]
  },
  {
   "cell_type": "code",
   "execution_count": 66,
   "id": "fossil-blame",
   "metadata": {},
   "outputs": [
    {
     "name": "stdout",
     "output_type": "stream",
     "text": [
      "0.902165412902832 s\n"
     ]
    },
    {
     "name": "stderr",
     "output_type": "stream",
     "text": [
      "<ipython-input-66-ef38b58ef6d6>:4: SettingWithCopyWarning: \n",
      "A value is trying to be set on a copy of a slice from a DataFrame.\n",
      "Try using .loc[row_indexer,col_indexer] = value instead\n",
      "\n",
      "See the caveats in the documentation: https://pandas.pydata.org/pandas-docs/stable/user_guide/indexing.html#returning-a-view-versus-a-copy\n",
      "  wordsimDF1['bertV6EncSim'] = bertV6EncSim\n",
      "<ipython-input-66-ef38b58ef6d6>:5: SettingWithCopyWarning: \n",
      "A value is trying to be set on a copy of a slice from a DataFrame.\n",
      "Try using .loc[row_indexer,col_indexer] = value instead\n",
      "\n",
      "See the caveats in the documentation: https://pandas.pydata.org/pandas-docs/stable/user_guide/indexing.html#returning-a-view-versus-a-copy\n",
      "  wordsimDF1['bertV6EncSim'] = wordsimDF1.bertV6EncSim.apply(lambda p: p[0][0] if p != 0 else p)\n",
      "/nas/home/kshenoy/miniconda3/envs/kgtkEnv/lib/python3.8/site-packages/pandas/core/generic.py:5491: SettingWithCopyWarning: \n",
      "A value is trying to be set on a copy of a slice from a DataFrame.\n",
      "Try using .loc[row_indexer,col_indexer] = value instead\n",
      "\n",
      "See the caveats in the documentation: https://pandas.pydata.org/pandas-docs/stable/user_guide/indexing.html#returning-a-view-versus-a-copy\n",
      "  self[name] = value\n"
     ]
    }
   ],
   "source": [
    "bertV6Enc = getAbsLabsEmbeddings('bert-base-nli-mean-tokens')\n",
    "bertV6EncMap = getAbsLabsMap(bertV6Enc)\n",
    "bertV6EncSim = wordsimDF.apply(checkSimilarity, axis=1, args=(bertV6EncMap, ))\n",
    "wordsimDF1['bertV6EncSim'] = bertV6EncSim\n",
    "wordsimDF1['bertV6EncSim'] = wordsimDF1.bertV6EncSim.apply(lambda p: p[0][0] if p != 0 else p)\n",
    "wordsimDF1.bertV6EncSim *= 10"
   ]
  },
  {
   "cell_type": "code",
   "execution_count": 67,
   "id": "touched-response",
   "metadata": {},
   "outputs": [
    {
     "data": {
      "text/plain": [
       "(345, 349, 0.9885386819484241)"
      ]
     },
     "execution_count": 67,
     "metadata": {},
     "output_type": "execute_result"
    }
   ],
   "source": [
    "cnt = wordsimDF.apply(getCoverage, axis=1, args=(bertV6EncMap, )).sum()\n",
    "cnt, len(wordsimDF), cnt / len(wordsimDF)"
   ]
  },
  {
   "cell_type": "code",
   "execution_count": 68,
   "id": "senior-chase",
   "metadata": {},
   "outputs": [
    {
     "data": {
      "text/html": [
       "<div>\n",
       "<style scoped>\n",
       "    .dataframe tbody tr th:only-of-type {\n",
       "        vertical-align: middle;\n",
       "    }\n",
       "\n",
       "    .dataframe tbody tr th {\n",
       "        vertical-align: top;\n",
       "    }\n",
       "\n",
       "    .dataframe thead th {\n",
       "        text-align: right;\n",
       "    }\n",
       "</style>\n",
       "<table border=\"1\" class=\"dataframe\">\n",
       "  <thead>\n",
       "    <tr style=\"text-align: right;\">\n",
       "      <th></th>\n",
       "      <th>Human (Mean)</th>\n",
       "      <th>bertLabelsSim</th>\n",
       "      <th>amanSim</th>\n",
       "      <th>wikiV3EncSim</th>\n",
       "      <th>bertV4EncSim</th>\n",
       "      <th>bertV5EncSim</th>\n",
       "      <th>bertV6EncSim</th>\n",
       "    </tr>\n",
       "  </thead>\n",
       "  <tbody>\n",
       "    <tr>\n",
       "      <th>0</th>\n",
       "      <td>5.5360</td>\n",
       "      <td>6.809672</td>\n",
       "      <td>4.949738</td>\n",
       "      <td>5.145601</td>\n",
       "      <td>3.770548</td>\n",
       "      <td>4.268633</td>\n",
       "      <td>4.268633</td>\n",
       "    </tr>\n",
       "    <tr>\n",
       "      <th>1</th>\n",
       "      <td>4.1250</td>\n",
       "      <td>4.554877</td>\n",
       "      <td>4.818231</td>\n",
       "      <td>3.987047</td>\n",
       "      <td>4.168040</td>\n",
       "      <td>3.399217</td>\n",
       "      <td>3.399217</td>\n",
       "    </tr>\n",
       "    <tr>\n",
       "      <th>2</th>\n",
       "      <td>6.6250</td>\n",
       "      <td>7.643815</td>\n",
       "      <td>6.407051</td>\n",
       "      <td>5.669631</td>\n",
       "      <td>4.997217</td>\n",
       "      <td>6.865782</td>\n",
       "      <td>6.865782</td>\n",
       "    </tr>\n",
       "    <tr>\n",
       "      <th>3</th>\n",
       "      <td>2.0625</td>\n",
       "      <td>7.194899</td>\n",
       "      <td>6.186497</td>\n",
       "      <td>6.186497</td>\n",
       "      <td>0.000000</td>\n",
       "      <td>0.000000</td>\n",
       "      <td>2.961755</td>\n",
       "    </tr>\n",
       "    <tr>\n",
       "      <th>4</th>\n",
       "      <td>7.1875</td>\n",
       "      <td>8.137879</td>\n",
       "      <td>8.556664</td>\n",
       "      <td>9.098408</td>\n",
       "      <td>0.000000</td>\n",
       "      <td>0.000000</td>\n",
       "      <td>3.408112</td>\n",
       "    </tr>\n",
       "  </tbody>\n",
       "</table>\n",
       "</div>"
      ],
      "text/plain": [
       "   Human (Mean)  bertLabelsSim   amanSim  wikiV3EncSim  bertV4EncSim  \\\n",
       "0        5.5360       6.809672  4.949738      5.145601      3.770548   \n",
       "1        4.1250       4.554877  4.818231      3.987047      4.168040   \n",
       "2        6.6250       7.643815  6.407051      5.669631      4.997217   \n",
       "3        2.0625       7.194899  6.186497      6.186497      0.000000   \n",
       "4        7.1875       8.137879  8.556664      9.098408      0.000000   \n",
       "\n",
       "   bertV5EncSim  bertV6EncSim  \n",
       "0      4.268633      4.268633  \n",
       "1      3.399217      3.399217  \n",
       "2      6.865782      6.865782  \n",
       "3      0.000000      2.961755  \n",
       "4      0.000000      3.408112  "
      ]
     },
     "execution_count": 68,
     "metadata": {},
     "output_type": "execute_result"
    }
   ],
   "source": [
    "wordsimDF1.head()"
   ]
  },
  {
   "cell_type": "code",
   "execution_count": 69,
   "id": "considerable-assignment",
   "metadata": {},
   "outputs": [],
   "source": [
    "import scipy.stats as stats"
   ]
  },
  {
   "cell_type": "code",
   "execution_count": 70,
   "id": "cutting-floor",
   "metadata": {},
   "outputs": [
    {
     "data": {
      "text/plain": [
       "KendalltauResult(correlation=0.37975882843235137, pvalue=5.235465664921023e-26)"
      ]
     },
     "execution_count": 70,
     "metadata": {},
     "output_type": "execute_result"
    }
   ],
   "source": [
    "stats.kendalltau(wordsimDF1['Human (Mean)'].to_list(), wordsimDF1['bertV6EncSim'])"
   ]
  },
  {
   "cell_type": "code",
   "execution_count": 71,
   "id": "centered-chosen",
   "metadata": {
    "scrolled": true
   },
   "outputs": [
    {
     "data": {
      "text/plain": [
       "SpearmanrResult(correlation=0.5388523544692222, pvalue=1.1269721214604893e-27)"
      ]
     },
     "execution_count": 71,
     "metadata": {},
     "output_type": "execute_result"
    }
   ],
   "source": [
    "stats.spearmanr(wordsimDF1['Human (Mean)'].to_list(), wordsimDF1['bertV6EncSim'])"
   ]
  },
  {
   "cell_type": "markdown",
   "id": "unable-humor",
   "metadata": {},
   "source": [
    "# Version 7 - 1st sentence + label vs Human"
   ]
  },
  {
   "cell_type": "code",
   "execution_count": 72,
   "id": "quarterly-amendment",
   "metadata": {},
   "outputs": [],
   "source": [
    "from sentence_transformers import SentenceTransformer\n",
    "from sklearn.metrics.pairwise import cosine_similarity\n",
    "from nltk.tokenize import sent_tokenize"
   ]
  },
  {
   "cell_type": "code",
   "execution_count": 73,
   "id": "latest-fountain",
   "metadata": {},
   "outputs": [],
   "source": [
    "wordsimQNodesListWAbstractsLabelsDF2['abstractFirstSent'] = wordsimQNodesListWAbstractsLabelsDF2.abstract.apply(lambda p: sent_tokenize(p)[0])"
   ]
  },
  {
   "cell_type": "code",
   "execution_count": 74,
   "id": "experienced-uganda",
   "metadata": {},
   "outputs": [
    {
     "data": {
      "text/html": [
       "<div>\n",
       "<style scoped>\n",
       "    .dataframe tbody tr th:only-of-type {\n",
       "        vertical-align: middle;\n",
       "    }\n",
       "\n",
       "    .dataframe tbody tr th {\n",
       "        vertical-align: top;\n",
       "    }\n",
       "\n",
       "    .dataframe thead th {\n",
       "        text-align: right;\n",
       "    }\n",
       "</style>\n",
       "<table border=\"1\" class=\"dataframe\">\n",
       "  <thead>\n",
       "    <tr style=\"text-align: right;\">\n",
       "      <th></th>\n",
       "      <th>index</th>\n",
       "      <th>id</th>\n",
       "      <th>label</th>\n",
       "      <th>node2</th>\n",
       "      <th>ignore</th>\n",
       "      <th>url</th>\n",
       "      <th>ignore2</th>\n",
       "      <th>abstract</th>\n",
       "      <th>node2_labelsDF</th>\n",
       "      <th>abstractFirstSent</th>\n",
       "    </tr>\n",
       "    <tr>\n",
       "      <th>node1</th>\n",
       "      <th></th>\n",
       "      <th></th>\n",
       "      <th></th>\n",
       "      <th></th>\n",
       "      <th></th>\n",
       "      <th></th>\n",
       "      <th></th>\n",
       "      <th></th>\n",
       "      <th></th>\n",
       "      <th></th>\n",
       "    </tr>\n",
       "  </thead>\n",
       "  <tbody>\n",
       "    <tr>\n",
       "      <th>Q1514190</th>\n",
       "      <td>School_holiday</td>\n",
       "      <td>Q1514190-wikipedia_sitelink-a7b9f1-0</td>\n",
       "      <td>wikipedia_sitelink</td>\n",
       "      <td>http://en.wikipedia.org/wiki/School_holiday</td>\n",
       "      <td>NaN</td>\n",
       "      <td>NaN</td>\n",
       "      <td>NaN</td>\n",
       "      <td>school holiday</td>\n",
       "      <td>school holiday</td>\n",
       "      <td>school holiday</td>\n",
       "    </tr>\n",
       "    <tr>\n",
       "      <th>Q8068</th>\n",
       "      <td>Flood</td>\n",
       "      <td>Q8068-wikipedia_sitelink-410669-0</td>\n",
       "      <td>wikipedia_sitelink</td>\n",
       "      <td>http://en.wikipedia.org/wiki/Flood</td>\n",
       "      <td>23841.0</td>\n",
       "      <td>&lt;http://dbpedia.org/resource/Flood&gt;</td>\n",
       "      <td>&lt;http://www.w3.org/2000/01/rdf-schema#comment&gt;</td>\n",
       "      <td>A flood is an overflow of water that submerges...</td>\n",
       "      <td>flood</td>\n",
       "      <td>A flood is an overflow of water that submerges...</td>\n",
       "    </tr>\n",
       "    <tr>\n",
       "      <th>Q1368</th>\n",
       "      <td>Money</td>\n",
       "      <td>Q1368-wikipedia_sitelink-59ade8-0</td>\n",
       "      <td>wikipedia_sitelink</td>\n",
       "      <td>http://en.wikipedia.org/wiki/Money</td>\n",
       "      <td>1312979.0</td>\n",
       "      <td>&lt;http://dbpedia.org/resource/Money&gt;</td>\n",
       "      <td>&lt;http://www.w3.org/2000/01/rdf-schema#comment&gt;</td>\n",
       "      <td>Money is any item or verifiable record that is...</td>\n",
       "      <td>money</td>\n",
       "      <td>Money is any item or verifiable record that is...</td>\n",
       "    </tr>\n",
       "    <tr>\n",
       "      <th>Q872</th>\n",
       "      <td>Radio</td>\n",
       "      <td>Q872-wikipedia_sitelink-1e49e4-0</td>\n",
       "      <td>wikipedia_sitelink</td>\n",
       "      <td>http://en.wikipedia.org/wiki/Radio</td>\n",
       "      <td>1866867.0</td>\n",
       "      <td>&lt;http://dbpedia.org/resource/Radio&gt;</td>\n",
       "      <td>&lt;http://www.w3.org/2000/01/rdf-schema#comment&gt;</td>\n",
       "      <td>Radio is the technology of signaling and commu...</td>\n",
       "      <td>radio</td>\n",
       "      <td>Radio is the technology of signaling and commu...</td>\n",
       "    </tr>\n",
       "    <tr>\n",
       "      <th>Q5070802</th>\n",
       "      <td>Emergency</td>\n",
       "      <td>Q5070802-wikipedia_sitelink-41cebc-0</td>\n",
       "      <td>wikipedia_sitelink</td>\n",
       "      <td>http://en.wikipedia.org/wiki/Emergency</td>\n",
       "      <td>80429.0</td>\n",
       "      <td>&lt;http://dbpedia.org/resource/Emergency&gt;</td>\n",
       "      <td>&lt;http://www.w3.org/2000/01/rdf-schema#comment&gt;</td>\n",
       "      <td>An emergency is a situation that poses an imme...</td>\n",
       "      <td>emergency</td>\n",
       "      <td>An emergency is a situation that poses an imme...</td>\n",
       "    </tr>\n",
       "  </tbody>\n",
       "</table>\n",
       "</div>"
      ],
      "text/plain": [
       "                   index                                    id  \\\n",
       "node1                                                            \n",
       "Q1514190  School_holiday  Q1514190-wikipedia_sitelink-a7b9f1-0   \n",
       "Q8068              Flood     Q8068-wikipedia_sitelink-410669-0   \n",
       "Q1368              Money     Q1368-wikipedia_sitelink-59ade8-0   \n",
       "Q872               Radio      Q872-wikipedia_sitelink-1e49e4-0   \n",
       "Q5070802       Emergency  Q5070802-wikipedia_sitelink-41cebc-0   \n",
       "\n",
       "                       label                                        node2  \\\n",
       "node1                                                                       \n",
       "Q1514190  wikipedia_sitelink  http://en.wikipedia.org/wiki/School_holiday   \n",
       "Q8068     wikipedia_sitelink           http://en.wikipedia.org/wiki/Flood   \n",
       "Q1368     wikipedia_sitelink           http://en.wikipedia.org/wiki/Money   \n",
       "Q872      wikipedia_sitelink           http://en.wikipedia.org/wiki/Radio   \n",
       "Q5070802  wikipedia_sitelink       http://en.wikipedia.org/wiki/Emergency   \n",
       "\n",
       "             ignore                                      url  \\\n",
       "node1                                                          \n",
       "Q1514190        NaN                                      NaN   \n",
       "Q8068       23841.0      <http://dbpedia.org/resource/Flood>   \n",
       "Q1368     1312979.0      <http://dbpedia.org/resource/Money>   \n",
       "Q872      1866867.0      <http://dbpedia.org/resource/Radio>   \n",
       "Q5070802    80429.0  <http://dbpedia.org/resource/Emergency>   \n",
       "\n",
       "                                                 ignore2  \\\n",
       "node1                                                      \n",
       "Q1514190                                             NaN   \n",
       "Q8068     <http://www.w3.org/2000/01/rdf-schema#comment>   \n",
       "Q1368     <http://www.w3.org/2000/01/rdf-schema#comment>   \n",
       "Q872      <http://www.w3.org/2000/01/rdf-schema#comment>   \n",
       "Q5070802  <http://www.w3.org/2000/01/rdf-schema#comment>   \n",
       "\n",
       "                                                   abstract  node2_labelsDF  \\\n",
       "node1                                                                         \n",
       "Q1514190                                     school holiday  school holiday   \n",
       "Q8068     A flood is an overflow of water that submerges...           flood   \n",
       "Q1368     Money is any item or verifiable record that is...           money   \n",
       "Q872      Radio is the technology of signaling and commu...           radio   \n",
       "Q5070802  An emergency is a situation that poses an imme...       emergency   \n",
       "\n",
       "                                          abstractFirstSent  \n",
       "node1                                                        \n",
       "Q1514190                                     school holiday  \n",
       "Q8068     A flood is an overflow of water that submerges...  \n",
       "Q1368     Money is any item or verifiable record that is...  \n",
       "Q872      Radio is the technology of signaling and commu...  \n",
       "Q5070802  An emergency is a situation that poses an imme...  "
      ]
     },
     "execution_count": 74,
     "metadata": {},
     "output_type": "execute_result"
    }
   ],
   "source": [
    "wordsimQNodesListWAbstractsLabelsDF2.head()"
   ]
  },
  {
   "cell_type": "code",
   "execution_count": 75,
   "id": "adequate-stocks",
   "metadata": {},
   "outputs": [],
   "source": [
    "def get1stSentLabsEmbeddings(modelName):\n",
    "    model = SentenceTransformer(modelName)\n",
    "    start = time()\n",
    "    encodings = model.encode(wordsimQNodesListWAbstractsLabelsDF2.abstractFirstSent.to_list())\n",
    "    print(time()-start,'s')\n",
    "    return encodings\n",
    "\n",
    "def get1stSentLabsMap(encodings):\n",
    "    return {qnode: enc for qnode, enc in zip(wordsimQNodesListWAbstractsLabelsDF2.index.to_list(), encodings)}\n",
    "\n",
    "def checkSimilarity(row, encodingsMap):\n",
    "    if row['g_qnode'] in encodingsMap and row['p_qnode'] in encodingsMap:\n",
    "        return cosine_similarity([encodingsMap[row['g_qnode']]], [encodingsMap[row['p_qnode']]])\n",
    "    else:\n",
    "        return 0"
   ]
  },
  {
   "cell_type": "code",
   "execution_count": 76,
   "id": "static-partition",
   "metadata": {},
   "outputs": [
    {
     "name": "stdout",
     "output_type": "stream",
     "text": [
      "0.48781871795654297 s\n"
     ]
    },
    {
     "name": "stderr",
     "output_type": "stream",
     "text": [
      "<ipython-input-76-ef0e3d1b2360>:4: SettingWithCopyWarning: \n",
      "A value is trying to be set on a copy of a slice from a DataFrame.\n",
      "Try using .loc[row_indexer,col_indexer] = value instead\n",
      "\n",
      "See the caveats in the documentation: https://pandas.pydata.org/pandas-docs/stable/user_guide/indexing.html#returning-a-view-versus-a-copy\n",
      "  wordsimDF1['bertV7EncSim'] = bertV7EncSim\n",
      "<ipython-input-76-ef0e3d1b2360>:5: SettingWithCopyWarning: \n",
      "A value is trying to be set on a copy of a slice from a DataFrame.\n",
      "Try using .loc[row_indexer,col_indexer] = value instead\n",
      "\n",
      "See the caveats in the documentation: https://pandas.pydata.org/pandas-docs/stable/user_guide/indexing.html#returning-a-view-versus-a-copy\n",
      "  wordsimDF1['bertV7EncSim'] = wordsimDF1.bertV7EncSim.apply(lambda p: p[0][0] if p != 0 else p)\n",
      "/nas/home/kshenoy/miniconda3/envs/kgtkEnv/lib/python3.8/site-packages/pandas/core/generic.py:5491: SettingWithCopyWarning: \n",
      "A value is trying to be set on a copy of a slice from a DataFrame.\n",
      "Try using .loc[row_indexer,col_indexer] = value instead\n",
      "\n",
      "See the caveats in the documentation: https://pandas.pydata.org/pandas-docs/stable/user_guide/indexing.html#returning-a-view-versus-a-copy\n",
      "  self[name] = value\n"
     ]
    }
   ],
   "source": [
    "bertV7Enc = get1stSentLabsEmbeddings('bert-base-nli-mean-tokens')\n",
    "bertV7EncMap = get1stSentLabsMap(bertV7Enc)\n",
    "bertV7EncSim = wordsimDF.apply(checkSimilarity, axis=1, args=(bertV7EncMap, ))\n",
    "wordsimDF1['bertV7EncSim'] = bertV7EncSim\n",
    "wordsimDF1['bertV7EncSim'] = wordsimDF1.bertV7EncSim.apply(lambda p: p[0][0] if p != 0 else p)\n",
    "wordsimDF1.bertV7EncSim *= 10"
   ]
  },
  {
   "cell_type": "code",
   "execution_count": 77,
   "id": "approved-sharp",
   "metadata": {},
   "outputs": [
    {
     "data": {
      "text/plain": [
       "(345, 349, 0.9885386819484241)"
      ]
     },
     "execution_count": 77,
     "metadata": {},
     "output_type": "execute_result"
    }
   ],
   "source": [
    "cnt = wordsimDF.apply(getCoverage, axis=1, args=(bertV7EncMap, )).sum()\n",
    "cnt, len(wordsimDF), cnt / len(wordsimDF)"
   ]
  },
  {
   "cell_type": "code",
   "execution_count": 78,
   "id": "banner-techno",
   "metadata": {},
   "outputs": [
    {
     "data": {
      "text/html": [
       "<div>\n",
       "<style scoped>\n",
       "    .dataframe tbody tr th:only-of-type {\n",
       "        vertical-align: middle;\n",
       "    }\n",
       "\n",
       "    .dataframe tbody tr th {\n",
       "        vertical-align: top;\n",
       "    }\n",
       "\n",
       "    .dataframe thead th {\n",
       "        text-align: right;\n",
       "    }\n",
       "</style>\n",
       "<table border=\"1\" class=\"dataframe\">\n",
       "  <thead>\n",
       "    <tr style=\"text-align: right;\">\n",
       "      <th></th>\n",
       "      <th>Human (Mean)</th>\n",
       "      <th>bertLabelsSim</th>\n",
       "      <th>amanSim</th>\n",
       "      <th>wikiV3EncSim</th>\n",
       "      <th>bertV4EncSim</th>\n",
       "      <th>bertV5EncSim</th>\n",
       "      <th>bertV6EncSim</th>\n",
       "      <th>bertV7EncSim</th>\n",
       "    </tr>\n",
       "  </thead>\n",
       "  <tbody>\n",
       "    <tr>\n",
       "      <th>0</th>\n",
       "      <td>5.5360</td>\n",
       "      <td>6.809672</td>\n",
       "      <td>4.949738</td>\n",
       "      <td>5.145601</td>\n",
       "      <td>3.770548</td>\n",
       "      <td>4.268633</td>\n",
       "      <td>4.268633</td>\n",
       "      <td>3.770548</td>\n",
       "    </tr>\n",
       "    <tr>\n",
       "      <th>1</th>\n",
       "      <td>4.1250</td>\n",
       "      <td>4.554877</td>\n",
       "      <td>4.818231</td>\n",
       "      <td>3.987047</td>\n",
       "      <td>4.168040</td>\n",
       "      <td>3.399217</td>\n",
       "      <td>3.399217</td>\n",
       "      <td>4.168040</td>\n",
       "    </tr>\n",
       "    <tr>\n",
       "      <th>2</th>\n",
       "      <td>6.6250</td>\n",
       "      <td>7.643815</td>\n",
       "      <td>6.407051</td>\n",
       "      <td>5.669631</td>\n",
       "      <td>4.997217</td>\n",
       "      <td>6.865782</td>\n",
       "      <td>6.865782</td>\n",
       "      <td>4.997217</td>\n",
       "    </tr>\n",
       "    <tr>\n",
       "      <th>3</th>\n",
       "      <td>2.0625</td>\n",
       "      <td>7.194899</td>\n",
       "      <td>6.186497</td>\n",
       "      <td>6.186497</td>\n",
       "      <td>0.000000</td>\n",
       "      <td>0.000000</td>\n",
       "      <td>2.961755</td>\n",
       "      <td>5.296330</td>\n",
       "    </tr>\n",
       "    <tr>\n",
       "      <th>4</th>\n",
       "      <td>7.1875</td>\n",
       "      <td>8.137879</td>\n",
       "      <td>8.556664</td>\n",
       "      <td>9.098408</td>\n",
       "      <td>0.000000</td>\n",
       "      <td>0.000000</td>\n",
       "      <td>3.408112</td>\n",
       "      <td>5.621890</td>\n",
       "    </tr>\n",
       "  </tbody>\n",
       "</table>\n",
       "</div>"
      ],
      "text/plain": [
       "   Human (Mean)  bertLabelsSim   amanSim  wikiV3EncSim  bertV4EncSim  \\\n",
       "0        5.5360       6.809672  4.949738      5.145601      3.770548   \n",
       "1        4.1250       4.554877  4.818231      3.987047      4.168040   \n",
       "2        6.6250       7.643815  6.407051      5.669631      4.997217   \n",
       "3        2.0625       7.194899  6.186497      6.186497      0.000000   \n",
       "4        7.1875       8.137879  8.556664      9.098408      0.000000   \n",
       "\n",
       "   bertV5EncSim  bertV6EncSim  bertV7EncSim  \n",
       "0      4.268633      4.268633      3.770548  \n",
       "1      3.399217      3.399217      4.168040  \n",
       "2      6.865782      6.865782      4.997217  \n",
       "3      0.000000      2.961755      5.296330  \n",
       "4      0.000000      3.408112      5.621890  "
      ]
     },
     "execution_count": 78,
     "metadata": {},
     "output_type": "execute_result"
    }
   ],
   "source": [
    "wordsimDF1.head()"
   ]
  },
  {
   "cell_type": "code",
   "execution_count": 79,
   "id": "aggregate-lighter",
   "metadata": {},
   "outputs": [],
   "source": [
    "import scipy.stats as stats"
   ]
  },
  {
   "cell_type": "code",
   "execution_count": 80,
   "id": "functioning-donor",
   "metadata": {},
   "outputs": [
    {
     "data": {
      "text/plain": [
       "KendalltauResult(correlation=0.3793557735858387, pvalue=5.886665529373508e-26)"
      ]
     },
     "execution_count": 80,
     "metadata": {},
     "output_type": "execute_result"
    }
   ],
   "source": [
    "stats.kendalltau(wordsimDF1['Human (Mean)'].to_list(), wordsimDF1['bertV7EncSim'])"
   ]
  },
  {
   "cell_type": "code",
   "execution_count": 81,
   "id": "adjusted-commission",
   "metadata": {
    "scrolled": true
   },
   "outputs": [
    {
     "data": {
      "text/plain": [
       "SpearmanrResult(correlation=0.5330950015966213, pvalue=5.11634460488722e-27)"
      ]
     },
     "execution_count": 81,
     "metadata": {},
     "output_type": "execute_result"
    }
   ],
   "source": [
    "stats.spearmanr(wordsimDF1['Human (Mean)'].to_list(), wordsimDF1['bertV7EncSim'])"
   ]
  },
  {
   "cell_type": "code",
   "execution_count": null,
   "id": "presidential-penetration",
   "metadata": {},
   "outputs": [],
   "source": []
  },
  {
   "cell_type": "code",
   "execution_count": null,
   "id": "after-reward",
   "metadata": {},
   "outputs": [],
   "source": []
  },
  {
   "cell_type": "code",
   "execution_count": null,
   "id": "outer-symposium",
   "metadata": {},
   "outputs": [],
   "source": []
  }
 ],
 "metadata": {
  "kernelspec": {
   "display_name": "kgtkEnv",
   "language": "python",
   "name": "kgtkenv"
  },
  "language_info": {
   "codemirror_mode": {
    "name": "ipython",
    "version": 3
   },
   "file_extension": ".py",
   "mimetype": "text/x-python",
   "name": "python",
   "nbconvert_exporter": "python",
   "pygments_lexer": "ipython3",
   "version": "3.8.5"
  },
  "toc": {
   "base_numbering": 1,
   "nav_menu": {},
   "number_sections": true,
   "sideBar": true,
   "skip_h1_title": false,
   "title_cell": "Table of Contents",
   "title_sidebar": "Contents",
   "toc_cell": false,
   "toc_position": {
    "height": "calc(100% - 180px)",
    "left": "10px",
    "top": "150px",
    "width": "399px"
   },
   "toc_section_display": true,
   "toc_window_display": false
  },
  "varInspector": {
   "cols": {
    "lenName": 16,
    "lenType": 16,
    "lenVar": 40
   },
   "kernels_config": {
    "python": {
     "delete_cmd_postfix": "",
     "delete_cmd_prefix": "del ",
     "library": "var_list.py",
     "varRefreshCmd": "print(var_dic_list())"
    },
    "r": {
     "delete_cmd_postfix": ") ",
     "delete_cmd_prefix": "rm(",
     "library": "var_list.r",
     "varRefreshCmd": "cat(var_dic_list()) "
    }
   },
   "types_to_exclude": [
    "module",
    "function",
    "builtin_function_or_method",
    "instance",
    "_Feature"
   ],
   "window_display": false
  }
 },
 "nbformat": 4,
 "nbformat_minor": 5
}
