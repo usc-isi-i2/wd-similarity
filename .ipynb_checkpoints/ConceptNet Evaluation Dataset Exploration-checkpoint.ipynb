{
 "cells": [
  {
   "cell_type": "markdown",
   "id": "derived-behalf",
   "metadata": {},
   "source": [
    "In this notebook, we explore the properties of conceptnet as an evaluation benchmark"
   ]
  },
  {
   "cell_type": "code",
   "execution_count": 1,
   "id": "hidden-bathroom",
   "metadata": {},
   "outputs": [],
   "source": [
    "import pandas as pd"
   ]
  },
  {
   "cell_type": "code",
   "execution_count": 2,
   "id": "changing-methodology",
   "metadata": {},
   "outputs": [
    {
     "data": {
      "application/vnd.jupyter.widget-view+json": {
       "model_id": "57f3d3af58c24d4ea3510585bb5fc596",
       "version_major": 2,
       "version_minor": 0
      },
      "text/plain": [
       "0it [00:00, ?it/s]"
      ]
     },
     "metadata": {},
     "output_type": "display_data"
    }
   ],
   "source": [
    "from tqdm.notebook import tqdm\n",
    "labelsMap = {}\n",
    "with open('../data/kgtk_conceptnet.tsv') as conceptFile:\n",
    "    firstLine = True\n",
    "    for line in tqdm(conceptFile):\n",
    "        if firstLine:\n",
    "            firstLine = False\n",
    "            continue\n",
    "        line = line.split('\\t')\n",
    "        labelsMap[line[3][1:-1]] = None\n",
    "        labelsMap[line[4][1:-1]] = None"
   ]
  },
  {
   "cell_type": "code",
   "execution_count": 5,
   "id": "incoming-things",
   "metadata": {},
   "outputs": [
    {
     "name": "stdout",
     "output_type": "stream",
     "text": [
      "1165190\n"
     ]
    }
   ],
   "source": [
    "print(len(labelsMap))"
   ]
  },
  {
   "cell_type": "code",
   "execution_count": 6,
   "id": "solar-brain",
   "metadata": {},
   "outputs": [
    {
     "data": {
      "application/vnd.jupyter.widget-view+json": {
       "model_id": "cbf6c12ce82342fd9d19e6bec4dd5f8a",
       "version_major": 2,
       "version_minor": 0
      },
      "text/plain": [
       "0it [00:00, ?it/s]"
      ]
     },
     "metadata": {},
     "output_type": "display_data"
    }
   ],
   "source": [
    "with open('../data/labels.en.tsv') as labelsFile:\n",
    "    firstLine = True\n",
    "    for line in tqdm(labelsFile):\n",
    "        if firstLine:\n",
    "            firstLine = False\n",
    "            continue\n",
    "        line = line.split('\\t')\n",
    "        line[3] = line[3][1:-5]\n",
    "        qnode, label = line[1], line[3]\n",
    "#         print(qnode, label)\n",
    "        if label in labelsMap:\n",
    "            if labelsMap[label] == None:\n",
    "                labelsMap[label] = []\n",
    "            labelsMap[label].append(qnode)"
   ]
  },
  {
   "cell_type": "code",
   "execution_count": 7,
   "id": "adjusted-artist",
   "metadata": {},
   "outputs": [
    {
     "name": "stderr",
     "output_type": "stream",
     "text": [
      "/nas/home/kshenoy/miniconda3/envs/kgtkEnv/lib/python3.8/site-packages/IPython/core/interactiveshell.py:3165: DtypeWarning: Columns (8) have mixed types.Specify dtype option on import or set low_memory=False.\n",
      "  has_raised = await self.run_ast_nodes(code_ast.body, cell_name,\n"
     ]
    }
   ],
   "source": [
    "conceptDF = pd.read_csv('../data/kgtk_conceptnet.tsv', sep='\\t')"
   ]
  },
  {
   "cell_type": "code",
   "execution_count": 8,
   "id": "phantom-communication",
   "metadata": {},
   "outputs": [],
   "source": [
    "def fetchQnode(label):\n",
    "    if pd.isna(label):\n",
    "        return None\n",
    "    label = label[1:-1]\n",
    "    if label not in labelsMap:\n",
    "        return None\n",
    "    else:\n",
    "        return labelsMap[label]"
   ]
  },
  {
   "cell_type": "code",
   "execution_count": 9,
   "id": "headed-choice",
   "metadata": {},
   "outputs": [],
   "source": [
    "conceptDF['node1;qnode'] = conceptDF['node1;label'].apply(fetchQnode)\n",
    "conceptDF['node2;qnode'] = conceptDF['node2;label'].apply(fetchQnode)"
   ]
  },
  {
   "cell_type": "code",
   "execution_count": 10,
   "id": "cognitive-potential",
   "metadata": {},
   "outputs": [],
   "source": [
    "conceptDF1 = conceptDF[(~conceptDF['node1;qnode'].isna()) & (~conceptDF['node2;qnode'].isna())]"
   ]
  },
  {
   "cell_type": "code",
   "execution_count": 11,
   "id": "charming-momentum",
   "metadata": {},
   "outputs": [
    {
     "name": "stdout",
     "output_type": "stream",
     "text": [
      "Concept Net dataset size reduced from 3423004 pairs to 61985 pairs\n"
     ]
    }
   ],
   "source": [
    "print(f\"Concept Net dataset size reduced from {len(conceptDF)} pairs to {len(conceptDF1)} pairs\")"
   ]
  },
  {
   "cell_type": "code",
   "execution_count": 12,
   "id": "european-porter",
   "metadata": {},
   "outputs": [
    {
     "name": "stderr",
     "output_type": "stream",
     "text": [
      "<ipython-input-12-09be5c74cb96>:1: SettingWithCopyWarning: \n",
      "A value is trying to be set on a copy of a slice from a DataFrame.\n",
      "Try using .loc[row_indexer,col_indexer] = value instead\n",
      "\n",
      "See the caveats in the documentation: https://pandas.pydata.org/pandas-docs/stable/user_guide/indexing.html#returning-a-view-versus-a-copy\n",
      "  conceptDF1['node1;qnode;len'] = conceptDF1['node1;qnode'].apply(len)\n",
      "<ipython-input-12-09be5c74cb96>:2: SettingWithCopyWarning: \n",
      "A value is trying to be set on a copy of a slice from a DataFrame.\n",
      "Try using .loc[row_indexer,col_indexer] = value instead\n",
      "\n",
      "See the caveats in the documentation: https://pandas.pydata.org/pandas-docs/stable/user_guide/indexing.html#returning-a-view-versus-a-copy\n",
      "  conceptDF1['node2;qnode;len'] = conceptDF1['node2;qnode'].apply(len)\n"
     ]
    }
   ],
   "source": [
    "conceptDF1['node1;qnode;len'] = conceptDF1['node1;qnode'].apply(len)\n",
    "conceptDF1['node2;qnode;len'] = conceptDF1['node2;qnode'].apply(len)"
   ]
  },
  {
   "cell_type": "code",
   "execution_count": 13,
   "id": "several-convention",
   "metadata": {},
   "outputs": [],
   "source": [
    "conceptDF2 = conceptDF1[(conceptDF1['node1;qnode;len'] == 1) & (conceptDF1['node2;qnode;len'] == 1)]"
   ]
  },
  {
   "cell_type": "code",
   "execution_count": 14,
   "id": "separate-fortune",
   "metadata": {},
   "outputs": [
    {
     "name": "stdout",
     "output_type": "stream",
     "text": [
      "Concept Net dataset size reduced from 61985 pairs to 12395 pairs by keeping only pairs which have one-one mapping with qnodes\n"
     ]
    }
   ],
   "source": [
    "print(f\"Concept Net dataset size reduced from {len(conceptDF1)} pairs to {len(conceptDF2)} pairs by keeping only pairs which have one-one mapping with qnodes\")"
   ]
  },
  {
   "cell_type": "code",
   "execution_count": 15,
   "id": "straight-health",
   "metadata": {},
   "outputs": [
    {
     "data": {
      "text/plain": [
       "related to                   6742\n",
       "synonym                      2071\n",
       "form of                      1240\n",
       "is a                          489\n",
       "etymologically related to     443\n",
       "derived from                  353\n",
       "manner of                     210\n",
       "antonym                       185\n",
       "at location                   123\n",
       "similar to                    104\n",
       "part of                        86\n",
       "distinct from                  76\n",
       "has context                    74\n",
       "used for                       39\n",
       "has property                   28\n",
       "causes                         24\n",
       "capable of                     20\n",
       "entails                        13\n",
       "has subevent                   11\n",
       "motivated by goal               9\n",
       "instance of                     8\n",
       "has a                           8\n",
       "made of                         8\n",
       "receives action                 7\n",
       "has prerequisite                5\n",
       "not has property                3\n",
       "causes desire                   3\n",
       "has last subevent               2\n",
       "genre                           2\n",
       "capital                         2\n",
       "located near                    2\n",
       "influenced by                   1\n",
       "occupation                      1\n",
       "product                         1\n",
       "has first subevent              1\n",
       "created by                      1\n",
       "Name: relation;label, dtype: int64"
      ]
     },
     "execution_count": 15,
     "metadata": {},
     "output_type": "execute_result"
    }
   ],
   "source": [
    "conceptDF2['relation;label'].value_counts()"
   ]
  },
  {
   "cell_type": "code",
   "execution_count": 20,
   "id": "apparent-pointer",
   "metadata": {},
   "outputs": [
    {
     "name": "stderr",
     "output_type": "stream",
     "text": [
      "<ipython-input-20-b3ad3cc600f9>:1: SettingWithCopyWarning: \n",
      "A value is trying to be set on a copy of a slice from a DataFrame.\n",
      "Try using .loc[row_indexer,col_indexer] = value instead\n",
      "\n",
      "See the caveats in the documentation: https://pandas.pydata.org/pandas-docs/stable/user_guide/indexing.html#returning-a-view-versus-a-copy\n",
      "  conceptDF2['category'] = conceptDF2['relation;label'].apply(lambda p: 'I' if p == 'synonym' or p == 'similar to' else 'M')\n"
     ]
    }
   ],
   "source": [
    "conceptDF2['category'] = conceptDF2['relation;label'].apply(lambda p: 'I' if p == 'synonym' or p == 'similar to' else 'M')"
   ]
  },
  {
   "cell_type": "code",
   "execution_count": 22,
   "id": "sapphire-control",
   "metadata": {},
   "outputs": [
    {
     "data": {
      "text/plain": [
       "M    10220\n",
       "I     2175\n",
       "Name: relation;label, dtype: int64"
      ]
     },
     "execution_count": 22,
     "metadata": {},
     "output_type": "execute_result"
    }
   ],
   "source": [
    "conceptDF2['relation;label'].apply(lambda p: 'I' if p == 'synonym' or p == 'similar to' else 'M').value_counts()"
   ]
  },
  {
   "cell_type": "code",
   "execution_count": 18,
   "id": "daily-strain",
   "metadata": {},
   "outputs": [
    {
     "name": "stderr",
     "output_type": "stream",
     "text": [
      "<ipython-input-18-b837815493a6>:1: SettingWithCopyWarning: \n",
      "A value is trying to be set on a copy of a slice from a DataFrame.\n",
      "Try using .loc[row_indexer,col_indexer] = value instead\n",
      "\n",
      "See the caveats in the documentation: https://pandas.pydata.org/pandas-docs/stable/user_guide/indexing.html#returning-a-view-versus-a-copy\n",
      "  conceptDF2['word1_kg_id'] = conceptDF2['node1;qnode'].apply(lambda p: p[0])\n",
      "<ipython-input-18-b837815493a6>:2: SettingWithCopyWarning: \n",
      "A value is trying to be set on a copy of a slice from a DataFrame.\n",
      "Try using .loc[row_indexer,col_indexer] = value instead\n",
      "\n",
      "See the caveats in the documentation: https://pandas.pydata.org/pandas-docs/stable/user_guide/indexing.html#returning-a-view-versus-a-copy\n",
      "  conceptDF2['word2_kg_id'] = conceptDF2['node2;qnode'].apply(lambda p: p[0])\n"
     ]
    }
   ],
   "source": [
    "conceptDF2['word1_kg_id'] = conceptDF2['node1;qnode'].apply(lambda p: p[0])\n",
    "conceptDF2['word2_kg_id'] = conceptDF2['node2;qnode'].apply(lambda p: p[0])"
   ]
  },
  {
   "cell_type": "code",
   "execution_count": 21,
   "id": "meaningful-aquatic",
   "metadata": {},
   "outputs": [],
   "source": [
    "conceptDF2.to_csv('../data/kgtk_conceptnet_evaluation.csv', index=None)"
   ]
  }
 ],
 "metadata": {
  "kernelspec": {
   "display_name": "kgtkEnv",
   "language": "python",
   "name": "kgtkenv"
  },
  "language_info": {
   "codemirror_mode": {
    "name": "ipython",
    "version": 3
   },
   "file_extension": ".py",
   "mimetype": "text/x-python",
   "name": "python",
   "nbconvert_exporter": "python",
   "pygments_lexer": "ipython3",
   "version": "3.8.5"
  },
  "toc": {
   "base_numbering": 1,
   "nav_menu": {},
   "number_sections": true,
   "sideBar": true,
   "skip_h1_title": false,
   "title_cell": "Table of Contents",
   "title_sidebar": "Contents",
   "toc_cell": false,
   "toc_position": {},
   "toc_section_display": true,
   "toc_window_display": true
  },
  "varInspector": {
   "cols": {
    "lenName": 16,
    "lenType": 16,
    "lenVar": 40
   },
   "kernels_config": {
    "python": {
     "delete_cmd_postfix": "",
     "delete_cmd_prefix": "del ",
     "library": "var_list.py",
     "varRefreshCmd": "print(var_dic_list())"
    },
    "r": {
     "delete_cmd_postfix": ") ",
     "delete_cmd_prefix": "rm(",
     "library": "var_list.r",
     "varRefreshCmd": "cat(var_dic_list()) "
    }
   },
   "types_to_exclude": [
    "module",
    "function",
    "builtin_function_or_method",
    "instance",
    "_Feature"
   ],
   "window_display": false
  }
 },
 "nbformat": 4,
 "nbformat_minor": 5
}
