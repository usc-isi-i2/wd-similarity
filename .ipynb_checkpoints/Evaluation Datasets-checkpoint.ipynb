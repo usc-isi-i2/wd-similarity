{
 "cells": [
  {
   "cell_type": "code",
   "execution_count": 20,
   "id": "vocal-watson",
   "metadata": {},
   "outputs": [],
   "source": [
    "import pandas as pd\n",
    "from tqdm.notebook import tqdm\n",
    "import gzip\n",
    "import os\n",
    "from sklearn.metrics.pairwise import cosine_similarity\n",
    "from matplotlib import pyplot\n",
    "from itertools import combinations\n",
    "import random"
   ]
  },
  {
   "cell_type": "code",
   "execution_count": 3,
   "id": "balanced-relay",
   "metadata": {},
   "outputs": [],
   "source": [
    "LABELS_FILE = \"../source_dataset_files/wikidata-20210215-dwd-v2/labels.en.tsv.gz\"\n",
    "ALL_EDGES_FILE = \"../source_dataset_files/wikidata-20210215-dwd-v2/claims.tsv.gz\""
   ]
  },
  {
   "cell_type": "code",
   "execution_count": 26,
   "id": "spectacular-jaguar",
   "metadata": {},
   "outputs": [],
   "source": [
    "CONCEPTNET_SOURCE_FILE = \"../data/evaluation/source_files/kgtk_conceptnet.tsv\"\n",
    "CONCEPTNET_INTERM_FILE = \"../data/evaluation/intermediate_files/kgtk_conceptnet.csv\"\n",
    "CONCEPTNET_FINAL_FILE = \"../data/evaluation/kgtk_conceptnet_final.csv\""
   ]
  },
  {
   "cell_type": "code",
   "execution_count": 27,
   "id": "affiliated-orbit",
   "metadata": {},
   "outputs": [],
   "source": [
    "WIKI_CS_SOURCE_FILE = '../data/evaluation/source_files/wikidata-cs-20200504.tsv'\n",
    "WIKI_CS_INTERM_FILE = '../data/evaluation/intermediate_files/wikidata-cs_categorized.csv'\n",
    "WIKI_CS_FINAL_FILE = '../data/evaluation/intermediate_files/wikidata-cs_final.csv'"
   ]
  },
  {
   "cell_type": "code",
   "execution_count": 21,
   "id": "weekly-telescope",
   "metadata": {},
   "outputs": [],
   "source": [
    "def uniformize_dataset(wikiDF):\n",
    "    needed_size = len(wikiDF[wikiDF.category == 'I'])\n",
    "    M_sampled_set = wikiDF[wikiDF.category == 'M'].sample(needed_size, random_state=13)\n",
    "    subset = wikiDF[wikiDF.category == 'M']\n",
    "    mainset = wikiDF\n",
    "    \n",
    "    mainset_pairs = set([(row['word1_kg_id'], row['word2_kg_id']) for _,row in mainset.iterrows()])\n",
    "    nodes = set([row['word1_kg_id'] for _,row in subset.iterrows()] \n",
    "            + [row['word2_kg_id'] for _,row in subset.iterrows()])\n",
    "    node_label_mappings = {row['word1_kg_id']: row['node1;label'] for _, row in subset.iterrows()}\n",
    "    node_label_mappings.update({row['word2_kg_id']: row['node2;label'] for _, row in subset.iterrows()})\n",
    "    \n",
    "    all_pairs = set([pair for pair in random.sample(list(combinations(list(nodes), 2)), 10*needed_size)])\n",
    "    removed_pairs = set()\n",
    "\n",
    "    first_line = True\n",
    "    \n",
    "    with gzip.open(ALL_EDGES_FILE, 'r') as claims_file:\n",
    "        for line in tqdm(claims_file, total=491297976): #, total=1034927835):\n",
    "            if first_line:\n",
    "                first_line = False\n",
    "                continue\n",
    "            line = line.decode(\"utf-8\").strip().split('\\t')\n",
    "            curr_pair = (line[1], line[3])\n",
    "            if curr_pair in all_pairs:\n",
    "                removed_pairs.add(curr_pair)\n",
    "    newDF = []\n",
    "    count = 0\n",
    "    \n",
    "    for pair in all_pairs - removed_pairs - mainset_pairs:\n",
    "        if pair is None or pair[0] is None or pair[1] is None:\n",
    "            continue\n",
    "        try:\n",
    "            newDF.append((pair[0], pair[1], 'U', node_label_mappings.get(pair[0],\"\"), node_label_mappings.get(pair[1],\"\")))\n",
    "            count += 1\n",
    "            if count == needed_size:\n",
    "                break\n",
    "        except:\n",
    "            print(f\"Error while processing pair: {pair}\")\n",
    "            \n",
    "    return pd.concat([\n",
    "            wikiDF[wikiDF.category == 'I'],\n",
    "            M_sampled_set,\n",
    "            pd.DataFrame(newDF, columns=subset.columns)\n",
    "        ])"
   ]
  },
  {
   "cell_type": "markdown",
   "id": "secure-organizer",
   "metadata": {},
   "source": [
    "# ConceptNet"
   ]
  },
  {
   "cell_type": "code",
   "execution_count": 10,
   "id": "bronze-glenn",
   "metadata": {},
   "outputs": [
    {
     "data": {
      "application/vnd.jupyter.widget-view+json": {
       "model_id": "36a424bf70af402e87b787ff5b91312f",
       "version_major": 2,
       "version_minor": 0
      },
      "text/plain": [
       "0it [00:00, ?it/s]"
      ]
     },
     "metadata": {},
     "output_type": "display_data"
    },
    {
     "name": "stdout",
     "output_type": "stream",
     "text": [
      "No. of conceptNet nodes fetched:  1165190\n"
     ]
    },
    {
     "data": {
      "application/vnd.jupyter.widget-view+json": {
       "model_id": "08d23b4e2fbf401db270207eeb15cfa4",
       "version_major": 2,
       "version_minor": 0
      },
      "text/plain": [
       "0it [00:00, ?it/s]"
      ]
     },
     "metadata": {},
     "output_type": "display_data"
    }
   ],
   "source": [
    "labelsMap = {}\n",
    "with open(CONCEPTNET_SOURCE_FILE) as conceptFile:\n",
    "    firstLine = True\n",
    "    for line in tqdm(conceptFile):\n",
    "        if firstLine:\n",
    "            firstLine = False\n",
    "            continue\n",
    "        line = line.split('\\t')\n",
    "        labelsMap[line[3][1:-1]] = None\n",
    "        labelsMap[line[4][1:-1]] = None\n",
    "print(\"No. of conceptNet nodes fetched: \",len(labelsMap))\n",
    "with gzip.open(LABELS_FILE, 'r') as labelsFile:\n",
    "    firstLine = True\n",
    "    for line in tqdm(labelsFile):\n",
    "        if firstLine:\n",
    "            firstLine = False\n",
    "            continue\n",
    "        line = line.decode('utf-8').strip().split('\\t')\n",
    "        line[3] = line[3][1:-5]\n",
    "        qnode, label = line[1], line[3]\n",
    "#         print(qnode, label)\n",
    "        if label in labelsMap:\n",
    "            if labelsMap[label] == None:\n",
    "                labelsMap[label] = []\n",
    "            labelsMap[label].append(qnode)"
   ]
  },
  {
   "cell_type": "code",
   "execution_count": 11,
   "id": "graduate-bruce",
   "metadata": {},
   "outputs": [],
   "source": [
    "def fetchQnode(label):\n",
    "    if pd.isna(label):\n",
    "        return None\n",
    "    label = label[1:-1]\n",
    "    if label not in labelsMap:\n",
    "        return None\n",
    "    else:\n",
    "        return labelsMap[label]"
   ]
  },
  {
   "cell_type": "code",
   "execution_count": 12,
   "id": "attractive-solid",
   "metadata": {},
   "outputs": [
    {
     "name": "stderr",
     "output_type": "stream",
     "text": [
      "/nas/home/kshenoy/miniconda3/envs/kgtkEnv/lib/python3.8/site-packages/IPython/core/interactiveshell.py:3165: DtypeWarning: Columns (8) have mixed types.Specify dtype option on import or set low_memory=False.\n",
      "  has_raised = await self.run_ast_nodes(code_ast.body, cell_name,\n"
     ]
    },
    {
     "name": "stdout",
     "output_type": "stream",
     "text": [
      "Concept Net dataset size reduced from 3423004 pairs to 99052 pairs\n"
     ]
    },
    {
     "name": "stderr",
     "output_type": "stream",
     "text": [
      "<ipython-input-12-009d05c37ef7>:6: SettingWithCopyWarning: \n",
      "A value is trying to be set on a copy of a slice from a DataFrame.\n",
      "Try using .loc[row_indexer,col_indexer] = value instead\n",
      "\n",
      "See the caveats in the documentation: https://pandas.pydata.org/pandas-docs/stable/user_guide/indexing.html#returning-a-view-versus-a-copy\n",
      "  conceptDF1['node1;qnode;len'] = conceptDF1['node1;qnode'].apply(len)\n",
      "<ipython-input-12-009d05c37ef7>:7: SettingWithCopyWarning: \n",
      "A value is trying to be set on a copy of a slice from a DataFrame.\n",
      "Try using .loc[row_indexer,col_indexer] = value instead\n",
      "\n",
      "See the caveats in the documentation: https://pandas.pydata.org/pandas-docs/stable/user_guide/indexing.html#returning-a-view-versus-a-copy\n",
      "  conceptDF1['node2;qnode;len'] = conceptDF1['node2;qnode'].apply(len)\n"
     ]
    },
    {
     "name": "stdout",
     "output_type": "stream",
     "text": [
      "Concept Net dataset size reduced from 99052 pairs to 2084 pairs by keeping only pairs which have one-one mapping with qnodes\n"
     ]
    },
    {
     "data": {
      "text/plain": [
       "related to                   758\n",
       "synonym                      708\n",
       "form of                      219\n",
       "etymologically related to     82\n",
       "derived from                  77\n",
       "is a                          63\n",
       "has context                   45\n",
       "at location                   29\n",
       "antonym                       15\n",
       "manner of                     15\n",
       "similar to                    15\n",
       "part of                       12\n",
       "causes                         9\n",
       "distinct from                  6\n",
       "used for                       5\n",
       "receives action                4\n",
       "has prerequisite               4\n",
       "genus                          2\n",
       "motivated by goal              2\n",
       "capital                        2\n",
       "has a                          2\n",
       "instance of                    2\n",
       "has subevent                   2\n",
       "language                       1\n",
       "has last subevent              1\n",
       "causes desire                  1\n",
       "has first subevent             1\n",
       "genre                          1\n",
       "has property                   1\n",
       "Name: relation;label, dtype: int64"
      ]
     },
     "execution_count": 12,
     "metadata": {},
     "output_type": "execute_result"
    }
   ],
   "source": [
    "conceptDF = pd.read_csv(CONCEPTNET_SOURCE_FILE, sep='\\t')\n",
    "conceptDF['node1;qnode'] = conceptDF['node1;label'].apply(fetchQnode)\n",
    "conceptDF['node2;qnode'] = conceptDF['node2;label'].apply(fetchQnode)\n",
    "conceptDF1 = conceptDF[(~conceptDF['node1;qnode'].isna()) & (~conceptDF['node2;qnode'].isna())]\n",
    "print(f\"Concept Net dataset size reduced from {len(conceptDF)} pairs to {len(conceptDF1)} pairs\")\n",
    "conceptDF1['node1;qnode;len'] = conceptDF1['node1;qnode'].apply(len)\n",
    "conceptDF1['node2;qnode;len'] = conceptDF1['node2;qnode'].apply(len)\n",
    "conceptDF2 = conceptDF1[(conceptDF1['node1;qnode;len'] == 1) & (conceptDF1['node2;qnode;len'] == 1)]\n",
    "print(f\"Concept Net dataset size reduced from {len(conceptDF1)} pairs to {len(conceptDF2)} pairs by keeping only pairs which have one-one mapping with qnodes\")\n",
    "conceptDF2['relation;label'].value_counts()"
   ]
  },
  {
   "cell_type": "code",
   "execution_count": 52,
   "id": "monetary-consequence",
   "metadata": {},
   "outputs": [
    {
     "name": "stderr",
     "output_type": "stream",
     "text": [
      "<ipython-input-52-9f214f346c7d>:1: SettingWithCopyWarning: \n",
      "A value is trying to be set on a copy of a slice from a DataFrame.\n",
      "Try using .loc[row_indexer,col_indexer] = value instead\n",
      "\n",
      "See the caveats in the documentation: https://pandas.pydata.org/pandas-docs/stable/user_guide/indexing.html#returning-a-view-versus-a-copy\n",
      "  conceptDF2['category'] = conceptDF2['relation;label'].apply(lambda p: 'I' if p == 'synonym' or p == 'similar to' else 'M')\n",
      "<ipython-input-52-9f214f346c7d>:3: SettingWithCopyWarning: \n",
      "A value is trying to be set on a copy of a slice from a DataFrame.\n",
      "Try using .loc[row_indexer,col_indexer] = value instead\n",
      "\n",
      "See the caveats in the documentation: https://pandas.pydata.org/pandas-docs/stable/user_guide/indexing.html#returning-a-view-versus-a-copy\n",
      "  conceptDF2['word1_kg_id'] = conceptDF2['node1;qnode'].apply(lambda p: p[0])\n",
      "<ipython-input-52-9f214f346c7d>:4: SettingWithCopyWarning: \n",
      "A value is trying to be set on a copy of a slice from a DataFrame.\n",
      "Try using .loc[row_indexer,col_indexer] = value instead\n",
      "\n",
      "See the caveats in the documentation: https://pandas.pydata.org/pandas-docs/stable/user_guide/indexing.html#returning-a-view-versus-a-copy\n",
      "  conceptDF2['word2_kg_id'] = conceptDF2['node2;qnode'].apply(lambda p: p[0])\n"
     ]
    }
   ],
   "source": [
    "conceptDF2['category'] = conceptDF2['relation;label'].apply(lambda p: 'I' if p == 'synonym' or p == 'similar to' else 'M')\n",
    "conceptDF2['relation;label'].apply(lambda p: 'I' if p == 'synonym' or p == 'similar to' else 'M').value_counts()\n",
    "conceptDF2['word1_kg_id'] = conceptDF2['node1;qnode'].apply(lambda p: p[0])\n",
    "conceptDF2['word2_kg_id'] = conceptDF2['node2;qnode'].apply(lambda p: p[0])\n",
    "conceptDF2.to_csv(CONCEPTNET_INTERM_FILE, index=None)"
   ]
  },
  {
   "cell_type": "code",
   "execution_count": 22,
   "id": "complicated-hardwood",
   "metadata": {},
   "outputs": [
    {
     "data": {
      "application/vnd.jupyter.widget-view+json": {
       "model_id": "b5b6f509dacd4e49a3a12778faf30e5a",
       "version_major": 2,
       "version_minor": 0
      },
      "text/plain": [
       "  0%|          | 0/491297976 [00:00<?, ?it/s]"
      ]
     },
     "metadata": {},
     "output_type": "display_data"
    }
   ],
   "source": [
    "conceptnet_uniform_df = uniformize_dataset(pd.read_csv(CONCEPTNET_INTERM_FILE)[['word1_kg_id', 'word2_kg_id', 'category', 'node1;label', 'node2;label']])"
   ]
  },
  {
   "cell_type": "code",
   "execution_count": 28,
   "id": "paperback-weight",
   "metadata": {},
   "outputs": [],
   "source": [
    "conceptnet_uniform_df.to_csv(CONCEPTNET_FINAL_FILE, index=None)"
   ]
  },
  {
   "cell_type": "code",
   "execution_count": 31,
   "id": "occupied-reason",
   "metadata": {},
   "outputs": [
    {
     "data": {
      "text/plain": [
       "I    723\n",
       "U    723\n",
       "M    723\n",
       "Name: category, dtype: int64"
      ]
     },
     "execution_count": 31,
     "metadata": {},
     "output_type": "execute_result"
    }
   ],
   "source": [
    "conceptnet_uniform_df.category.value_counts()"
   ]
  },
  {
   "cell_type": "markdown",
   "id": "flying-communications",
   "metadata": {},
   "source": [
    "# Wiki-CS"
   ]
  },
  {
   "cell_type": "code",
   "execution_count": 18,
   "id": "dirty-typing",
   "metadata": {},
   "outputs": [
    {
     "data": {
      "text/plain": [
       "inheritance     72707\n",
       "meronymy         6886\n",
       "context          5541\n",
       "distinctness     4934\n",
       "utility          2243\n",
       "antonymy         2184\n",
       "ordering         2107\n",
       "material         1426\n",
       "synonymy         1070\n",
       "properties       1049\n",
       "derivation        540\n",
       "causation         510\n",
       "similarity        345\n",
       "attribution       187\n",
       "other              42\n",
       "Name: dim, dtype: int64"
      ]
     },
     "execution_count": 18,
     "metadata": {},
     "output_type": "execute_result"
    }
   ],
   "source": [
    "wikiDF = pd.read_csv(WIKI_CS_SOURCE_FILE,sep='\\t')\n",
    "mapper1 = {'/r/DistinctFrom': 'distinctness',\n",
    "          '/r/Antonym': 'antonymy',\n",
    "          '/r/Synonym': 'synonymy',\n",
    "          '/r/SimilarTo': 'similarity',\n",
    "          '/r/DerivedFrom': 'derivation',\n",
    "          '/r/IsA': 'inheritance',\n",
    "          '/r/PartOf': 'meronymy',\n",
    "          '/r/MadeOf': 'material',\n",
    "          '/r/CreatedBy': 'attribution',\n",
    "          '/r/UsedFor': 'utility',\n",
    "          '/r/HasProperty': 'properties',\n",
    "          '/r/Causes': 'causation',\n",
    "          '/r/HasPrerequisite': 'ordering',\n",
    "          '/r/HasContext': 'context',\n",
    "          '/r/RelatedTo': 'other'}\n",
    "\n",
    "wikiDF['dim'] = wikiDF['relation'].apply(lambda p: mapper1[p])\n",
    "wikiDF['category'] = wikiDF['dim'].apply(lambda p: 'I' if p == 'synonymy' or p == 'similarity' else 'M')\n",
    "wikiDF['dim'].value_counts()"
   ]
  },
  {
   "cell_type": "code",
   "execution_count": 19,
   "id": "domestic-membership",
   "metadata": {},
   "outputs": [
    {
     "data": {
      "text/plain": [
       "M    100701\n",
       "I      1070\n",
       "Name: dim, dtype: int64"
      ]
     },
     "execution_count": 19,
     "metadata": {},
     "output_type": "execute_result"
    }
   ],
   "source": [
    "wikiDF['dim'].apply(lambda p: 'I' if p == 'synonymy' else 'M').value_counts()"
   ]
  },
  {
   "cell_type": "code",
   "execution_count": 20,
   "id": "israeli-construction",
   "metadata": {},
   "outputs": [
    {
     "data": {
      "text/plain": [
       "M    100110\n",
       "I      1415\n",
       "Name: category, dtype: int64"
      ]
     },
     "execution_count": 20,
     "metadata": {},
     "output_type": "execute_result"
    }
   ],
   "source": [
    "wikiDF1 = wikiDF[wikiDF.apply(lambda p: p['node1'].startswith('Q') and p['node2'].startswith('Q'), axis=1)]\n",
    "wikiDF1.category.value_counts()"
   ]
  },
  {
   "cell_type": "code",
   "execution_count": 25,
   "id": "dramatic-think",
   "metadata": {},
   "outputs": [],
   "source": [
    "wikiDF1 = wikiDF1.rename(columns={'node1':'word1_kg_id', 'node2':'word2_kg_id'})\n",
    "wikiDF1[['word1_kg_id', 'word2_kg_id', 'category', 'node1;label', 'node2;label']].to_csv(WIKI_CS_INTERM_FILE,index=None)"
   ]
  },
  {
   "cell_type": "code",
   "execution_count": 23,
   "id": "cathedral-yield",
   "metadata": {},
   "outputs": [
    {
     "data": {
      "application/vnd.jupyter.widget-view+json": {
       "model_id": "c451bcf43305400d8c8e74086b323c71",
       "version_major": 2,
       "version_minor": 0
      },
      "text/plain": [
       "  0%|          | 0/491297976 [00:00<?, ?it/s]"
      ]
     },
     "metadata": {},
     "output_type": "display_data"
    }
   ],
   "source": [
    "wikiCS_uniform_df = uniformize_dataset(pd.read_csv(WIKI_CS_INTERM_FILE))"
   ]
  },
  {
   "cell_type": "code",
   "execution_count": 29,
   "id": "prostate-nigeria",
   "metadata": {},
   "outputs": [],
   "source": [
    "wikiCS_uniform_df.to_csv(WIKI_CS_FINAL_FILE, index=None)"
   ]
  },
  {
   "cell_type": "code",
   "execution_count": 32,
   "id": "official-aside",
   "metadata": {},
   "outputs": [
    {
     "data": {
      "text/plain": [
       "M    1415\n",
       "I    1415\n",
       "U    1415\n",
       "Name: category, dtype: int64"
      ]
     },
     "execution_count": 32,
     "metadata": {},
     "output_type": "execute_result"
    }
   ],
   "source": [
    "wikiCS_uniform_df.category.value_counts()"
   ]
  },
  {
   "cell_type": "code",
   "execution_count": null,
   "id": "olive-hammer",
   "metadata": {},
   "outputs": [],
   "source": []
  },
  {
   "cell_type": "code",
   "execution_count": null,
   "id": "conceptual-subsection",
   "metadata": {},
   "outputs": [],
   "source": []
  }
 ],
 "metadata": {
  "kernelspec": {
   "display_name": "kgtkEnv",
   "language": "python",
   "name": "kgtkenv"
  },
  "language_info": {
   "codemirror_mode": {
    "name": "ipython",
    "version": 3
   },
   "file_extension": ".py",
   "mimetype": "text/x-python",
   "name": "python",
   "nbconvert_exporter": "python",
   "pygments_lexer": "ipython3",
   "version": "3.8.5"
  },
  "toc": {
   "base_numbering": 1,
   "nav_menu": {},
   "number_sections": true,
   "sideBar": true,
   "skip_h1_title": false,
   "title_cell": "Table of Contents",
   "title_sidebar": "Contents",
   "toc_cell": false,
   "toc_position": {},
   "toc_section_display": true,
   "toc_window_display": true
  },
  "varInspector": {
   "cols": {
    "lenName": 16,
    "lenType": 16,
    "lenVar": 40
   },
   "kernels_config": {
    "python": {
     "delete_cmd_postfix": "",
     "delete_cmd_prefix": "del ",
     "library": "var_list.py",
     "varRefreshCmd": "print(var_dic_list())"
    },
    "r": {
     "delete_cmd_postfix": ") ",
     "delete_cmd_prefix": "rm(",
     "library": "var_list.r",
     "varRefreshCmd": "cat(var_dic_list()) "
    }
   },
   "types_to_exclude": [
    "module",
    "function",
    "builtin_function_or_method",
    "instance",
    "_Feature"
   ],
   "window_display": false
  }
 },
 "nbformat": 4,
 "nbformat_minor": 5
}
