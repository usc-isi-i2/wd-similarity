{
 "cells": [
  {
   "cell_type": "markdown",
   "id": "defensive-helmet",
   "metadata": {},
   "source": [
    "Used for initial analysis. The file used is old and the analysis is also invalid but the code might be useful."
   ]
  },
  {
   "cell_type": "code",
   "execution_count": 2,
   "id": "spectacular-separate",
   "metadata": {},
   "outputs": [],
   "source": [
    "import pandas as pd"
   ]
  },
  {
   "cell_type": "code",
   "execution_count": 3,
   "id": "medical-explanation",
   "metadata": {},
   "outputs": [],
   "source": [
    "cols = ['class', 'transe', 'text', 'complex', 'labEmb', 'textEmb', 'textSubsetEmb', 'absEmb', 'absFirstSentEmb']\n",
    "indNames = ['class (Amandeep)', 'transe (Amandeep)', 'text (Amandeep)', 'complex (Amandeep)', 'Labels Embedding', 'Text Embedding - 7 props', 'Text Embedding - P279 + P31', 'DBPedia short abstracts', 'DBPedia short abstracts first sentence']"
   ]
  },
  {
   "cell_type": "code",
   "execution_count": 4,
   "id": "timely-history",
   "metadata": {},
   "outputs": [],
   "source": [
    "wordSim353AnnotDF_Old = pd.read_csv('../data/wordsim353annotated_old.csv')"
   ]
  },
  {
   "cell_type": "code",
   "execution_count": 5,
   "id": "scenic-advisory",
   "metadata": {},
   "outputs": [],
   "source": [
    "wordSim353AnnotDF_New = pd.read_csv('../data/wordsim353LatestAnnot.csv')"
   ]
  },
  {
   "cell_type": "code",
   "execution_count": 6,
   "id": "assumed-lawyer",
   "metadata": {},
   "outputs": [
    {
     "data": {
      "text/html": [
       "<div>\n",
       "<style scoped>\n",
       "    .dataframe tbody tr th:only-of-type {\n",
       "        vertical-align: middle;\n",
       "    }\n",
       "\n",
       "    .dataframe tbody tr th {\n",
       "        vertical-align: top;\n",
       "    }\n",
       "\n",
       "    .dataframe thead th {\n",
       "        text-align: right;\n",
       "    }\n",
       "</style>\n",
       "<table border=\"1\" class=\"dataframe\">\n",
       "  <thead>\n",
       "    <tr style=\"text-align: right;\">\n",
       "      <th></th>\n",
       "      <th>Ind</th>\n",
       "      <th>Word 1</th>\n",
       "      <th>Word 2</th>\n",
       "      <th>DS</th>\n",
       "      <th>HC</th>\n",
       "      <th>NK</th>\n",
       "      <th>FI</th>\n",
       "      <th>Average</th>\n",
       "      <th>complex</th>\n",
       "      <th>transe</th>\n",
       "      <th>text</th>\n",
       "      <th>class</th>\n",
       "      <th>labEmb</th>\n",
       "      <th>textEmb</th>\n",
       "      <th>textSubsetEmb</th>\n",
       "      <th>absEmb</th>\n",
       "      <th>absFirstSentEmb</th>\n",
       "    </tr>\n",
       "  </thead>\n",
       "  <tbody>\n",
       "    <tr>\n",
       "      <th>0</th>\n",
       "      <td>1</td>\n",
       "      <td>admission</td>\n",
       "      <td>ticket</td>\n",
       "      <td>3</td>\n",
       "      <td>3</td>\n",
       "      <td>3</td>\n",
       "      <td>4</td>\n",
       "      <td>3.25</td>\n",
       "      <td>3.611154</td>\n",
       "      <td>4.466324</td>\n",
       "      <td>4.856529</td>\n",
       "      <td>0.000000</td>\n",
       "      <td>6.809672</td>\n",
       "      <td>4.949738</td>\n",
       "      <td>5.145601</td>\n",
       "      <td>4.268633</td>\n",
       "      <td>3.770548</td>\n",
       "    </tr>\n",
       "    <tr>\n",
       "      <th>1</th>\n",
       "      <td>2</td>\n",
       "      <td>alcohol</td>\n",
       "      <td>chemistry</td>\n",
       "      <td>4</td>\n",
       "      <td>3</td>\n",
       "      <td>3</td>\n",
       "      <td>4</td>\n",
       "      <td>3.50</td>\n",
       "      <td>3.021635</td>\n",
       "      <td>2.743883</td>\n",
       "      <td>4.793135</td>\n",
       "      <td>0.058511</td>\n",
       "      <td>4.554877</td>\n",
       "      <td>4.818231</td>\n",
       "      <td>3.987047</td>\n",
       "      <td>3.399217</td>\n",
       "      <td>4.168040</td>\n",
       "    </tr>\n",
       "    <tr>\n",
       "      <th>2</th>\n",
       "      <td>3</td>\n",
       "      <td>aluminum</td>\n",
       "      <td>metal</td>\n",
       "      <td>2</td>\n",
       "      <td>2</td>\n",
       "      <td>2</td>\n",
       "      <td>3</td>\n",
       "      <td>2.25</td>\n",
       "      <td>6.944618</td>\n",
       "      <td>4.292894</td>\n",
       "      <td>6.267841</td>\n",
       "      <td>3.936571</td>\n",
       "      <td>7.643815</td>\n",
       "      <td>6.407051</td>\n",
       "      <td>5.669631</td>\n",
       "      <td>6.865782</td>\n",
       "      <td>4.997217</td>\n",
       "    </tr>\n",
       "    <tr>\n",
       "      <th>3</th>\n",
       "      <td>4</td>\n",
       "      <td>announcement</td>\n",
       "      <td>news</td>\n",
       "      <td>2</td>\n",
       "      <td>2</td>\n",
       "      <td>2</td>\n",
       "      <td>3</td>\n",
       "      <td>2.25</td>\n",
       "      <td>3.248249</td>\n",
       "      <td>3.790767</td>\n",
       "      <td>6.186442</td>\n",
       "      <td>2.088125</td>\n",
       "      <td>7.194899</td>\n",
       "      <td>6.186497</td>\n",
       "      <td>6.186497</td>\n",
       "      <td>2.961755</td>\n",
       "      <td>5.296330</td>\n",
       "    </tr>\n",
       "    <tr>\n",
       "      <th>4</th>\n",
       "      <td>5</td>\n",
       "      <td>announcement</td>\n",
       "      <td>warning</td>\n",
       "      <td>3</td>\n",
       "      <td>2</td>\n",
       "      <td>3</td>\n",
       "      <td>3</td>\n",
       "      <td>2.75</td>\n",
       "      <td>3.612144</td>\n",
       "      <td>3.603834</td>\n",
       "      <td>8.638458</td>\n",
       "      <td>8.886211</td>\n",
       "      <td>8.137879</td>\n",
       "      <td>8.556664</td>\n",
       "      <td>9.098408</td>\n",
       "      <td>3.408112</td>\n",
       "      <td>5.621890</td>\n",
       "    </tr>\n",
       "  </tbody>\n",
       "</table>\n",
       "</div>"
      ],
      "text/plain": [
       "   Ind        Word 1     Word 2  DS  HC  NK  FI  Average   complex    transe  \\\n",
       "0    1     admission     ticket   3   3   3   4     3.25  3.611154  4.466324   \n",
       "1    2       alcohol  chemistry   4   3   3   4     3.50  3.021635  2.743883   \n",
       "2    3      aluminum      metal   2   2   2   3     2.25  6.944618  4.292894   \n",
       "3    4  announcement       news   2   2   2   3     2.25  3.248249  3.790767   \n",
       "4    5  announcement    warning   3   2   3   3     2.75  3.612144  3.603834   \n",
       "\n",
       "       text     class    labEmb   textEmb  textSubsetEmb    absEmb  \\\n",
       "0  4.856529  0.000000  6.809672  4.949738       5.145601  4.268633   \n",
       "1  4.793135  0.058511  4.554877  4.818231       3.987047  3.399217   \n",
       "2  6.267841  3.936571  7.643815  6.407051       5.669631  6.865782   \n",
       "3  6.186442  2.088125  7.194899  6.186497       6.186497  2.961755   \n",
       "4  8.638458  8.886211  8.137879  8.556664       9.098408  3.408112   \n",
       "\n",
       "   absFirstSentEmb  \n",
       "0         3.770548  \n",
       "1         4.168040  \n",
       "2         4.997217  \n",
       "3         5.296330  \n",
       "4         5.621890  "
      ]
     },
     "execution_count": 6,
     "metadata": {},
     "output_type": "execute_result"
    }
   ],
   "source": [
    "wordSim353AnnotDF_Old.head()"
   ]
  },
  {
   "cell_type": "code",
   "execution_count": 7,
   "id": "artificial-identity",
   "metadata": {},
   "outputs": [
    {
     "data": {
      "text/html": [
       "<div>\n",
       "<style scoped>\n",
       "    .dataframe tbody tr th:only-of-type {\n",
       "        vertical-align: middle;\n",
       "    }\n",
       "\n",
       "    .dataframe tbody tr th {\n",
       "        vertical-align: top;\n",
       "    }\n",
       "\n",
       "    .dataframe thead th {\n",
       "        text-align: right;\n",
       "    }\n",
       "</style>\n",
       "<table border=\"1\" class=\"dataframe\">\n",
       "  <thead>\n",
       "    <tr style=\"text-align: right;\">\n",
       "      <th></th>\n",
       "      <th>ID</th>\n",
       "      <th>Word 1</th>\n",
       "      <th>Word 2</th>\n",
       "      <th>H_Sim</th>\n",
       "      <th>H_Dim</th>\n",
       "      <th>F_Sim</th>\n",
       "      <th>F_Dim</th>\n",
       "      <th>N_Sim</th>\n",
       "      <th>N_Dim</th>\n",
       "      <th>D_Sim</th>\n",
       "      <th>D_Dim</th>\n",
       "      <th>P_Sim</th>\n",
       "      <th>P_Dim</th>\n",
       "      <th>Avg</th>\n",
       "      <th>Stdev</th>\n",
       "      <th>H_orig</th>\n",
       "      <th>H_reversed</th>\n",
       "    </tr>\n",
       "  </thead>\n",
       "  <tbody>\n",
       "    <tr>\n",
       "      <th>0</th>\n",
       "      <td>1</td>\n",
       "      <td>admission</td>\n",
       "      <td>ticket</td>\n",
       "      <td>3</td>\n",
       "      <td>U</td>\n",
       "      <td>3</td>\n",
       "      <td>U</td>\n",
       "      <td>3</td>\n",
       "      <td>U</td>\n",
       "      <td>3</td>\n",
       "      <td>u</td>\n",
       "      <td>3.0</td>\n",
       "      <td>U</td>\n",
       "      <td>3.0</td>\n",
       "      <td>0.000000</td>\n",
       "      <td>5.5360</td>\n",
       "      <td>4.4640</td>\n",
       "    </tr>\n",
       "    <tr>\n",
       "      <th>1</th>\n",
       "      <td>2</td>\n",
       "      <td>alcohol</td>\n",
       "      <td>chemistry</td>\n",
       "      <td>3</td>\n",
       "      <td>D</td>\n",
       "      <td>3</td>\n",
       "      <td>D</td>\n",
       "      <td>3</td>\n",
       "      <td>D</td>\n",
       "      <td>4</td>\n",
       "      <td>NaN</td>\n",
       "      <td>3.0</td>\n",
       "      <td>H</td>\n",
       "      <td>3.2</td>\n",
       "      <td>0.447214</td>\n",
       "      <td>4.1250</td>\n",
       "      <td>5.8750</td>\n",
       "    </tr>\n",
       "    <tr>\n",
       "      <th>2</th>\n",
       "      <td>3</td>\n",
       "      <td>aluminum</td>\n",
       "      <td>metal</td>\n",
       "      <td>2</td>\n",
       "      <td>I</td>\n",
       "      <td>3</td>\n",
       "      <td>S</td>\n",
       "      <td>2</td>\n",
       "      <td>I</td>\n",
       "      <td>3</td>\n",
       "      <td>i</td>\n",
       "      <td>2.0</td>\n",
       "      <td>I</td>\n",
       "      <td>2.4</td>\n",
       "      <td>0.547723</td>\n",
       "      <td>6.6250</td>\n",
       "      <td>3.3750</td>\n",
       "    </tr>\n",
       "    <tr>\n",
       "      <th>3</th>\n",
       "      <td>4</td>\n",
       "      <td>announcement</td>\n",
       "      <td>effort</td>\n",
       "      <td>4</td>\n",
       "      <td>NaN</td>\n",
       "      <td>4</td>\n",
       "      <td>NaN</td>\n",
       "      <td>4</td>\n",
       "      <td>NaN</td>\n",
       "      <td>4</td>\n",
       "      <td>NaN</td>\n",
       "      <td>4.0</td>\n",
       "      <td>NaN</td>\n",
       "      <td>4.0</td>\n",
       "      <td>0.000000</td>\n",
       "      <td>2.0625</td>\n",
       "      <td>7.9375</td>\n",
       "    </tr>\n",
       "    <tr>\n",
       "      <th>4</th>\n",
       "      <td>5</td>\n",
       "      <td>announcement</td>\n",
       "      <td>news</td>\n",
       "      <td>2</td>\n",
       "      <td>I</td>\n",
       "      <td>2</td>\n",
       "      <td>I</td>\n",
       "      <td>3</td>\n",
       "      <td>I</td>\n",
       "      <td>2</td>\n",
       "      <td>i</td>\n",
       "      <td>2.0</td>\n",
       "      <td>I</td>\n",
       "      <td>2.2</td>\n",
       "      <td>0.447214</td>\n",
       "      <td>7.1875</td>\n",
       "      <td>2.8125</td>\n",
       "    </tr>\n",
       "  </tbody>\n",
       "</table>\n",
       "</div>"
      ],
      "text/plain": [
       "   ID        Word 1     Word 2  H_Sim H_Dim  F_Sim F_Dim  N_Sim N_Dim  D_Sim  \\\n",
       "0   1     admission     ticket      3     U      3     U      3     U      3   \n",
       "1   2       alcohol  chemistry      3     D      3     D      3     D      4   \n",
       "2   3      aluminum      metal      2     I      3     S      2     I      3   \n",
       "3   4  announcement     effort      4   NaN      4   NaN      4   NaN      4   \n",
       "4   5  announcement       news      2     I      2     I      3     I      2   \n",
       "\n",
       "  D_Dim  P_Sim P_Dim  Avg     Stdev  H_orig  H_reversed  \n",
       "0     u    3.0     U  3.0  0.000000  5.5360      4.4640  \n",
       "1   NaN    3.0     H  3.2  0.447214  4.1250      5.8750  \n",
       "2     i    2.0     I  2.4  0.547723  6.6250      3.3750  \n",
       "3   NaN    4.0   NaN  4.0  0.000000  2.0625      7.9375  \n",
       "4     i    2.0     I  2.2  0.447214  7.1875      2.8125  "
      ]
     },
     "execution_count": 7,
     "metadata": {},
     "output_type": "execute_result"
    }
   ],
   "source": [
    "wordSim353AnnotDF_New.head()"
   ]
  },
  {
   "cell_type": "markdown",
   "id": "polished-establishment",
   "metadata": {},
   "source": [
    "# Determine Stats"
   ]
  },
  {
   "cell_type": "code",
   "execution_count": 8,
   "id": "previous-davis",
   "metadata": {},
   "outputs": [],
   "source": [
    "stat1 = wordSim353AnnotDF_Old.copy()"
   ]
  },
  {
   "cell_type": "code",
   "execution_count": 9,
   "id": "alternate-watershed",
   "metadata": {},
   "outputs": [],
   "source": [
    "def analyseMetrics(stat1):\n",
    "    global cols, indNames\n",
    "\n",
    "    statsDF = []\n",
    "\n",
    "    for col in cols:\n",
    "        # Identical part\n",
    "        identTemp = stat1[stat1['Average'] <= 1.75][col]\n",
    "        iM = identTemp.mean()\n",
    "        iS = identTemp.std()\n",
    "\n",
    "        unrelatedTemp = stat1[stat1['Average'] >= 3.5][col]\n",
    "        uM = unrelatedTemp.mean()\n",
    "        uS = unrelatedTemp.std()\n",
    "        \n",
    "        midTemp = stat1[(1.75 < stat1['Average']) & (stat1['Average'] < 3.5)][col]\n",
    "        mM = unrelatedTemp.mean()\n",
    "        mS = unrelatedTemp.std()\n",
    "\n",
    "        statsDF.append([iM, mM, uM, iM - uM, iM + uM, iS, mS, uS])\n",
    "    statsDF = pd.DataFrame(statsDF, index = indNames, columns = ['Average - I', 'Average - M', 'Average - U', 'Average - I-U', 'Average - I+U', 'StdDev - I', 'StdDev - M', 'StdDev - U'])\n",
    "    return statsDF.sort_values(by=['Average - I-U'], ascending=False)"
   ]
  },
  {
   "cell_type": "code",
   "execution_count": 10,
   "id": "chemical-toronto",
   "metadata": {},
   "outputs": [
    {
     "data": {
      "text/html": [
       "<div>\n",
       "<style scoped>\n",
       "    .dataframe tbody tr th:only-of-type {\n",
       "        vertical-align: middle;\n",
       "    }\n",
       "\n",
       "    .dataframe tbody tr th {\n",
       "        vertical-align: top;\n",
       "    }\n",
       "\n",
       "    .dataframe thead th {\n",
       "        text-align: right;\n",
       "    }\n",
       "</style>\n",
       "<table border=\"1\" class=\"dataframe\">\n",
       "  <thead>\n",
       "    <tr style=\"text-align: right;\">\n",
       "      <th></th>\n",
       "      <th>Average - I</th>\n",
       "      <th>Average - M</th>\n",
       "      <th>Average - U</th>\n",
       "      <th>Average - I-U</th>\n",
       "      <th>Average - I+U</th>\n",
       "      <th>StdDev - I</th>\n",
       "      <th>StdDev - M</th>\n",
       "      <th>StdDev - U</th>\n",
       "    </tr>\n",
       "  </thead>\n",
       "  <tbody>\n",
       "    <tr>\n",
       "      <th>class (Amandeep)</th>\n",
       "      <td>6.545289</td>\n",
       "      <td>1.160639</td>\n",
       "      <td>1.160639</td>\n",
       "      <td>5.384650</td>\n",
       "      <td>7.705928</td>\n",
       "      <td>4.070360</td>\n",
       "      <td>1.831149</td>\n",
       "      <td>1.831149</td>\n",
       "    </tr>\n",
       "    <tr>\n",
       "      <th>DBPedia short abstracts</th>\n",
       "      <td>7.324299</td>\n",
       "      <td>4.128195</td>\n",
       "      <td>4.128195</td>\n",
       "      <td>3.196105</td>\n",
       "      <td>11.452494</td>\n",
       "      <td>2.302197</td>\n",
       "      <td>2.133653</td>\n",
       "      <td>2.133653</td>\n",
       "    </tr>\n",
       "    <tr>\n",
       "      <th>DBPedia short abstracts first sentence</th>\n",
       "      <td>7.135948</td>\n",
       "      <td>3.951633</td>\n",
       "      <td>3.951633</td>\n",
       "      <td>3.184315</td>\n",
       "      <td>11.087581</td>\n",
       "      <td>2.404671</td>\n",
       "      <td>1.878835</td>\n",
       "      <td>1.878835</td>\n",
       "    </tr>\n",
       "    <tr>\n",
       "      <th>transe (Amandeep)</th>\n",
       "      <td>6.187317</td>\n",
       "      <td>3.185329</td>\n",
       "      <td>3.185329</td>\n",
       "      <td>3.001988</td>\n",
       "      <td>9.372647</td>\n",
       "      <td>2.932166</td>\n",
       "      <td>1.708353</td>\n",
       "      <td>1.708353</td>\n",
       "    </tr>\n",
       "    <tr>\n",
       "      <th>complex (Amandeep)</th>\n",
       "      <td>6.678897</td>\n",
       "      <td>3.921987</td>\n",
       "      <td>3.921987</td>\n",
       "      <td>2.756910</td>\n",
       "      <td>10.600885</td>\n",
       "      <td>2.693491</td>\n",
       "      <td>1.329798</td>\n",
       "      <td>1.329798</td>\n",
       "    </tr>\n",
       "    <tr>\n",
       "      <th>Text Embedding - 7 props</th>\n",
       "      <td>7.789926</td>\n",
       "      <td>5.254242</td>\n",
       "      <td>5.254242</td>\n",
       "      <td>2.535684</td>\n",
       "      <td>13.044168</td>\n",
       "      <td>2.461561</td>\n",
       "      <td>1.662520</td>\n",
       "      <td>1.662520</td>\n",
       "    </tr>\n",
       "    <tr>\n",
       "      <th>Text Embedding - P279 + P31</th>\n",
       "      <td>7.750934</td>\n",
       "      <td>5.390839</td>\n",
       "      <td>5.390839</td>\n",
       "      <td>2.360095</td>\n",
       "      <td>13.141773</td>\n",
       "      <td>2.386037</td>\n",
       "      <td>1.664989</td>\n",
       "      <td>1.664989</td>\n",
       "    </tr>\n",
       "    <tr>\n",
       "      <th>text (Amandeep)</th>\n",
       "      <td>7.535097</td>\n",
       "      <td>5.360430</td>\n",
       "      <td>5.360430</td>\n",
       "      <td>2.174667</td>\n",
       "      <td>12.895527</td>\n",
       "      <td>2.933139</td>\n",
       "      <td>1.639719</td>\n",
       "      <td>1.639719</td>\n",
       "    </tr>\n",
       "    <tr>\n",
       "      <th>Labels Embedding</th>\n",
       "      <td>7.946882</td>\n",
       "      <td>6.169929</td>\n",
       "      <td>6.169929</td>\n",
       "      <td>1.776954</td>\n",
       "      <td>14.116811</td>\n",
       "      <td>2.035346</td>\n",
       "      <td>1.582738</td>\n",
       "      <td>1.582738</td>\n",
       "    </tr>\n",
       "  </tbody>\n",
       "</table>\n",
       "</div>"
      ],
      "text/plain": [
       "                                        Average - I  Average - M  Average - U  \\\n",
       "class (Amandeep)                           6.545289     1.160639     1.160639   \n",
       "DBPedia short abstracts                    7.324299     4.128195     4.128195   \n",
       "DBPedia short abstracts first sentence     7.135948     3.951633     3.951633   \n",
       "transe (Amandeep)                          6.187317     3.185329     3.185329   \n",
       "complex (Amandeep)                         6.678897     3.921987     3.921987   \n",
       "Text Embedding - 7 props                   7.789926     5.254242     5.254242   \n",
       "Text Embedding - P279 + P31                7.750934     5.390839     5.390839   \n",
       "text (Amandeep)                            7.535097     5.360430     5.360430   \n",
       "Labels Embedding                           7.946882     6.169929     6.169929   \n",
       "\n",
       "                                        Average - I-U  Average - I+U  \\\n",
       "class (Amandeep)                             5.384650       7.705928   \n",
       "DBPedia short abstracts                      3.196105      11.452494   \n",
       "DBPedia short abstracts first sentence       3.184315      11.087581   \n",
       "transe (Amandeep)                            3.001988       9.372647   \n",
       "complex (Amandeep)                           2.756910      10.600885   \n",
       "Text Embedding - 7 props                     2.535684      13.044168   \n",
       "Text Embedding - P279 + P31                  2.360095      13.141773   \n",
       "text (Amandeep)                              2.174667      12.895527   \n",
       "Labels Embedding                             1.776954      14.116811   \n",
       "\n",
       "                                        StdDev - I  StdDev - M  StdDev - U  \n",
       "class (Amandeep)                          4.070360    1.831149    1.831149  \n",
       "DBPedia short abstracts                   2.302197    2.133653    2.133653  \n",
       "DBPedia short abstracts first sentence    2.404671    1.878835    1.878835  \n",
       "transe (Amandeep)                         2.932166    1.708353    1.708353  \n",
       "complex (Amandeep)                        2.693491    1.329798    1.329798  \n",
       "Text Embedding - 7 props                  2.461561    1.662520    1.662520  \n",
       "Text Embedding - P279 + P31               2.386037    1.664989    1.664989  \n",
       "text (Amandeep)                           2.933139    1.639719    1.639719  \n",
       "Labels Embedding                          2.035346    1.582738    1.582738  "
      ]
     },
     "execution_count": 10,
     "metadata": {},
     "output_type": "execute_result"
    }
   ],
   "source": [
    "analyseMetrics(stat1)"
   ]
  },
  {
   "cell_type": "code",
   "execution_count": null,
   "id": "extensive-royalty",
   "metadata": {},
   "outputs": [],
   "source": []
  },
  {
   "cell_type": "markdown",
   "id": "informative-period",
   "metadata": {},
   "source": [
    "# Merge new annotations and old metrics"
   ]
  },
  {
   "cell_type": "code",
   "execution_count": 11,
   "id": "protected-growth",
   "metadata": {},
   "outputs": [],
   "source": [
    "wordSimMergedDF = wordSim353AnnotDF_New.set_index(['Word 1', 'Word 2']).join(wordSim353AnnotDF_Old.set_index(['Word 1', 'Word 2']))"
   ]
  },
  {
   "cell_type": "code",
   "execution_count": 12,
   "id": "favorite-plate",
   "metadata": {},
   "outputs": [],
   "source": [
    "wordSimMergedDF = wordSimMergedDF.reset_index()"
   ]
  },
  {
   "cell_type": "code",
   "execution_count": 13,
   "id": "challenging-comment",
   "metadata": {},
   "outputs": [
    {
     "data": {
      "text/plain": [
       "0"
      ]
     },
     "execution_count": 13,
     "metadata": {},
     "output_type": "execute_result"
    }
   ],
   "source": [
    "wordSimMergedDF.labEmb.isna().sum()"
   ]
  },
  {
   "cell_type": "code",
   "execution_count": 14,
   "id": "multiple-oxford",
   "metadata": {},
   "outputs": [],
   "source": [
    "def labelSamples(score):\n",
    "    return 'I' if score <= 1.75 else 'U' if score >= 3.5 else 'M'"
   ]
  },
  {
   "cell_type": "code",
   "execution_count": 15,
   "id": "dirty-behalf",
   "metadata": {},
   "outputs": [],
   "source": [
    "wordSimMergedDF['category'] = wordSimMergedDF.Avg.apply(labelSamples)"
   ]
  },
  {
   "cell_type": "code",
   "execution_count": 16,
   "id": "damaged-skating",
   "metadata": {},
   "outputs": [],
   "source": [
    "wordSimMergedDFBkp = wordSimMergedDF.copy()"
   ]
  },
  {
   "cell_type": "markdown",
   "id": "addressed-therapy",
   "metadata": {},
   "source": [
    "## Change scale of scores"
   ]
  },
  {
   "cell_type": "code",
   "execution_count": 17,
   "id": "treated-murray",
   "metadata": {},
   "outputs": [],
   "source": [
    "def update_scale(score):\n",
    "    return 4 - (score) * 3 / 10"
   ]
  },
  {
   "cell_type": "code",
   "execution_count": 18,
   "id": "numerical-mistake",
   "metadata": {},
   "outputs": [],
   "source": [
    "for col in cols:\n",
    "    wordSimMergedDF[col] = wordSimMergedDF[col].apply(update_scale)"
   ]
  },
  {
   "cell_type": "code",
   "execution_count": 19,
   "id": "packed-lindsay",
   "metadata": {},
   "outputs": [
    {
     "data": {
      "text/html": [
       "<div>\n",
       "<style scoped>\n",
       "    .dataframe tbody tr th:only-of-type {\n",
       "        vertical-align: middle;\n",
       "    }\n",
       "\n",
       "    .dataframe tbody tr th {\n",
       "        vertical-align: top;\n",
       "    }\n",
       "\n",
       "    .dataframe thead th {\n",
       "        text-align: right;\n",
       "    }\n",
       "</style>\n",
       "<table border=\"1\" class=\"dataframe\">\n",
       "  <thead>\n",
       "    <tr style=\"text-align: right;\">\n",
       "      <th></th>\n",
       "      <th>Word 1</th>\n",
       "      <th>Word 2</th>\n",
       "      <th>ID</th>\n",
       "      <th>H_Sim</th>\n",
       "      <th>H_Dim</th>\n",
       "      <th>F_Sim</th>\n",
       "      <th>F_Dim</th>\n",
       "      <th>N_Sim</th>\n",
       "      <th>N_Dim</th>\n",
       "      <th>D_Sim</th>\n",
       "      <th>...</th>\n",
       "      <th>complex</th>\n",
       "      <th>transe</th>\n",
       "      <th>text</th>\n",
       "      <th>class</th>\n",
       "      <th>labEmb</th>\n",
       "      <th>textEmb</th>\n",
       "      <th>textSubsetEmb</th>\n",
       "      <th>absEmb</th>\n",
       "      <th>absFirstSentEmb</th>\n",
       "      <th>category</th>\n",
       "    </tr>\n",
       "  </thead>\n",
       "  <tbody>\n",
       "    <tr>\n",
       "      <th>0</th>\n",
       "      <td>Arafat</td>\n",
       "      <td>peace</td>\n",
       "      <td>8</td>\n",
       "      <td>3</td>\n",
       "      <td>D</td>\n",
       "      <td>4</td>\n",
       "      <td>NaN</td>\n",
       "      <td>3</td>\n",
       "      <td>U</td>\n",
       "      <td>4</td>\n",
       "      <td>...</td>\n",
       "      <td>3.103668</td>\n",
       "      <td>2.955021</td>\n",
       "      <td>2.534530</td>\n",
       "      <td>3.978657</td>\n",
       "      <td>2.709135</td>\n",
       "      <td>2.588876</td>\n",
       "      <td>2.668504</td>\n",
       "      <td>2.932919</td>\n",
       "      <td>3.009117</td>\n",
       "      <td>U</td>\n",
       "    </tr>\n",
       "    <tr>\n",
       "      <th>1</th>\n",
       "      <td>Arafat</td>\n",
       "      <td>terror</td>\n",
       "      <td>9</td>\n",
       "      <td>3</td>\n",
       "      <td>D</td>\n",
       "      <td>4</td>\n",
       "      <td>NaN</td>\n",
       "      <td>3</td>\n",
       "      <td>U</td>\n",
       "      <td>4</td>\n",
       "      <td>...</td>\n",
       "      <td>3.076303</td>\n",
       "      <td>3.747795</td>\n",
       "      <td>2.934640</td>\n",
       "      <td>3.987265</td>\n",
       "      <td>2.745663</td>\n",
       "      <td>3.046814</td>\n",
       "      <td>2.937807</td>\n",
       "      <td>3.247398</td>\n",
       "      <td>3.584387</td>\n",
       "      <td>U</td>\n",
       "    </tr>\n",
       "    <tr>\n",
       "      <th>2</th>\n",
       "      <td>FBI</td>\n",
       "      <td>fingerprint</td>\n",
       "      <td>109</td>\n",
       "      <td>3</td>\n",
       "      <td>D</td>\n",
       "      <td>4</td>\n",
       "      <td>NaN</td>\n",
       "      <td>4</td>\n",
       "      <td>NaN</td>\n",
       "      <td>3</td>\n",
       "      <td>...</td>\n",
       "      <td>2.881763</td>\n",
       "      <td>3.104421</td>\n",
       "      <td>2.722262</td>\n",
       "      <td>3.965681</td>\n",
       "      <td>2.179657</td>\n",
       "      <td>2.816739</td>\n",
       "      <td>2.832863</td>\n",
       "      <td>3.178391</td>\n",
       "      <td>3.252778</td>\n",
       "      <td>U</td>\n",
       "    </tr>\n",
       "    <tr>\n",
       "      <th>3</th>\n",
       "      <td>FBI</td>\n",
       "      <td>investigation</td>\n",
       "      <td>110</td>\n",
       "      <td>3</td>\n",
       "      <td>U</td>\n",
       "      <td>3</td>\n",
       "      <td>U</td>\n",
       "      <td>3</td>\n",
       "      <td>U</td>\n",
       "      <td>3</td>\n",
       "      <td>...</td>\n",
       "      <td>2.911334</td>\n",
       "      <td>3.149125</td>\n",
       "      <td>2.346065</td>\n",
       "      <td>3.999655</td>\n",
       "      <td>2.512379</td>\n",
       "      <td>2.407004</td>\n",
       "      <td>2.476275</td>\n",
       "      <td>2.402353</td>\n",
       "      <td>3.177374</td>\n",
       "      <td>M</td>\n",
       "    </tr>\n",
       "    <tr>\n",
       "      <th>4</th>\n",
       "      <td>Harvard</td>\n",
       "      <td>Yale</td>\n",
       "      <td>137</td>\n",
       "      <td>2</td>\n",
       "      <td>S</td>\n",
       "      <td>3</td>\n",
       "      <td>S</td>\n",
       "      <td>2</td>\n",
       "      <td>S</td>\n",
       "      <td>2</td>\n",
       "      <td>...</td>\n",
       "      <td>2.135042</td>\n",
       "      <td>2.080022</td>\n",
       "      <td>1.226374</td>\n",
       "      <td>1.271662</td>\n",
       "      <td>1.870028</td>\n",
       "      <td>1.301520</td>\n",
       "      <td>1.268170</td>\n",
       "      <td>1.487959</td>\n",
       "      <td>1.405575</td>\n",
       "      <td>M</td>\n",
       "    </tr>\n",
       "  </tbody>\n",
       "</table>\n",
       "<p>5 rows × 33 columns</p>\n",
       "</div>"
      ],
      "text/plain": [
       "    Word 1         Word 2   ID  H_Sim H_Dim  F_Sim F_Dim  N_Sim N_Dim  D_Sim  \\\n",
       "0   Arafat          peace    8      3     D      4   NaN      3     U      4   \n",
       "1   Arafat         terror    9      3     D      4   NaN      3     U      4   \n",
       "2      FBI    fingerprint  109      3     D      4   NaN      4   NaN      3   \n",
       "3      FBI  investigation  110      3     U      3     U      3     U      3   \n",
       "4  Harvard           Yale  137      2     S      3     S      2     S      2   \n",
       "\n",
       "   ...   complex    transe      text     class    labEmb   textEmb  \\\n",
       "0  ...  3.103668  2.955021  2.534530  3.978657  2.709135  2.588876   \n",
       "1  ...  3.076303  3.747795  2.934640  3.987265  2.745663  3.046814   \n",
       "2  ...  2.881763  3.104421  2.722262  3.965681  2.179657  2.816739   \n",
       "3  ...  2.911334  3.149125  2.346065  3.999655  2.512379  2.407004   \n",
       "4  ...  2.135042  2.080022  1.226374  1.271662  1.870028  1.301520   \n",
       "\n",
       "   textSubsetEmb    absEmb  absFirstSentEmb  category  \n",
       "0       2.668504  2.932919         3.009117         U  \n",
       "1       2.937807  3.247398         3.584387         U  \n",
       "2       2.832863  3.178391         3.252778         U  \n",
       "3       2.476275  2.402353         3.177374         M  \n",
       "4       1.268170  1.487959         1.405575         M  \n",
       "\n",
       "[5 rows x 33 columns]"
      ]
     },
     "execution_count": 19,
     "metadata": {},
     "output_type": "execute_result"
    }
   ],
   "source": [
    "wordSimMergedDF.head()"
   ]
  },
  {
   "cell_type": "code",
   "execution_count": 20,
   "id": "soviet-exploration",
   "metadata": {},
   "outputs": [
    {
     "data": {
      "text/plain": [
       "M    224\n",
       "U    104\n",
       "I     21\n",
       "Name: category, dtype: int64"
      ]
     },
     "execution_count": 20,
     "metadata": {},
     "output_type": "execute_result"
    }
   ],
   "source": [
    "wordSimMergedDF.category.value_counts()"
   ]
  },
  {
   "cell_type": "code",
   "execution_count": 21,
   "id": "included-absolute",
   "metadata": {
    "scrolled": false
   },
   "outputs": [
    {
     "data": {
      "text/html": [
       "<div>\n",
       "<style scoped>\n",
       "    .dataframe tbody tr th:only-of-type {\n",
       "        vertical-align: middle;\n",
       "    }\n",
       "\n",
       "    .dataframe tbody tr th {\n",
       "        vertical-align: top;\n",
       "    }\n",
       "\n",
       "    .dataframe thead th {\n",
       "        text-align: right;\n",
       "    }\n",
       "</style>\n",
       "<table border=\"1\" class=\"dataframe\">\n",
       "  <thead>\n",
       "    <tr style=\"text-align: right;\">\n",
       "      <th></th>\n",
       "      <th>Average - I</th>\n",
       "      <th>Average - M</th>\n",
       "      <th>Average - U</th>\n",
       "      <th>Average - I-U</th>\n",
       "      <th>Average - I+U</th>\n",
       "      <th>StdDev - I</th>\n",
       "      <th>StdDev - M</th>\n",
       "      <th>StdDev - U</th>\n",
       "    </tr>\n",
       "  </thead>\n",
       "  <tbody>\n",
       "    <tr>\n",
       "      <th>Labels Embedding</th>\n",
       "      <td>1.615935</td>\n",
       "      <td>2.149021</td>\n",
       "      <td>2.149021</td>\n",
       "      <td>-0.533086</td>\n",
       "      <td>3.764957</td>\n",
       "      <td>0.610604</td>\n",
       "      <td>0.474821</td>\n",
       "      <td>0.474821</td>\n",
       "    </tr>\n",
       "    <tr>\n",
       "      <th>text (Amandeep)</th>\n",
       "      <td>1.739471</td>\n",
       "      <td>2.391871</td>\n",
       "      <td>2.391871</td>\n",
       "      <td>-0.652400</td>\n",
       "      <td>4.131342</td>\n",
       "      <td>0.879942</td>\n",
       "      <td>0.491916</td>\n",
       "      <td>0.491916</td>\n",
       "    </tr>\n",
       "    <tr>\n",
       "      <th>Text Embedding - P279 + P31</th>\n",
       "      <td>1.674720</td>\n",
       "      <td>2.382748</td>\n",
       "      <td>2.382748</td>\n",
       "      <td>-0.708028</td>\n",
       "      <td>4.057468</td>\n",
       "      <td>0.715811</td>\n",
       "      <td>0.499497</td>\n",
       "      <td>0.499497</td>\n",
       "    </tr>\n",
       "    <tr>\n",
       "      <th>Text Embedding - 7 props</th>\n",
       "      <td>1.663022</td>\n",
       "      <td>2.423727</td>\n",
       "      <td>2.423727</td>\n",
       "      <td>-0.760705</td>\n",
       "      <td>4.086750</td>\n",
       "      <td>0.738468</td>\n",
       "      <td>0.498756</td>\n",
       "      <td>0.498756</td>\n",
       "    </tr>\n",
       "    <tr>\n",
       "      <th>complex (Amandeep)</th>\n",
       "      <td>1.996331</td>\n",
       "      <td>2.823404</td>\n",
       "      <td>2.823404</td>\n",
       "      <td>-0.827073</td>\n",
       "      <td>4.819735</td>\n",
       "      <td>0.808047</td>\n",
       "      <td>0.398939</td>\n",
       "      <td>0.398939</td>\n",
       "    </tr>\n",
       "    <tr>\n",
       "      <th>transe (Amandeep)</th>\n",
       "      <td>2.143805</td>\n",
       "      <td>3.044401</td>\n",
       "      <td>3.044401</td>\n",
       "      <td>-0.900596</td>\n",
       "      <td>5.188206</td>\n",
       "      <td>0.879650</td>\n",
       "      <td>0.512506</td>\n",
       "      <td>0.512506</td>\n",
       "    </tr>\n",
       "    <tr>\n",
       "      <th>DBPedia short abstracts first sentence</th>\n",
       "      <td>1.859216</td>\n",
       "      <td>2.814510</td>\n",
       "      <td>2.814510</td>\n",
       "      <td>-0.955294</td>\n",
       "      <td>4.673726</td>\n",
       "      <td>0.721401</td>\n",
       "      <td>0.563650</td>\n",
       "      <td>0.563650</td>\n",
       "    </tr>\n",
       "    <tr>\n",
       "      <th>DBPedia short abstracts</th>\n",
       "      <td>1.802710</td>\n",
       "      <td>2.761542</td>\n",
       "      <td>2.761542</td>\n",
       "      <td>-0.958831</td>\n",
       "      <td>4.564252</td>\n",
       "      <td>0.690659</td>\n",
       "      <td>0.640096</td>\n",
       "      <td>0.640096</td>\n",
       "    </tr>\n",
       "    <tr>\n",
       "      <th>class (Amandeep)</th>\n",
       "      <td>2.036413</td>\n",
       "      <td>3.651808</td>\n",
       "      <td>3.651808</td>\n",
       "      <td>-1.615395</td>\n",
       "      <td>5.688222</td>\n",
       "      <td>1.221108</td>\n",
       "      <td>0.549345</td>\n",
       "      <td>0.549345</td>\n",
       "    </tr>\n",
       "  </tbody>\n",
       "</table>\n",
       "</div>"
      ],
      "text/plain": [
       "                                        Average - I  Average - M  Average - U  \\\n",
       "Labels Embedding                           1.615935     2.149021     2.149021   \n",
       "text (Amandeep)                            1.739471     2.391871     2.391871   \n",
       "Text Embedding - P279 + P31                1.674720     2.382748     2.382748   \n",
       "Text Embedding - 7 props                   1.663022     2.423727     2.423727   \n",
       "complex (Amandeep)                         1.996331     2.823404     2.823404   \n",
       "transe (Amandeep)                          2.143805     3.044401     3.044401   \n",
       "DBPedia short abstracts first sentence     1.859216     2.814510     2.814510   \n",
       "DBPedia short abstracts                    1.802710     2.761542     2.761542   \n",
       "class (Amandeep)                           2.036413     3.651808     3.651808   \n",
       "\n",
       "                                        Average - I-U  Average - I+U  \\\n",
       "Labels Embedding                            -0.533086       3.764957   \n",
       "text (Amandeep)                             -0.652400       4.131342   \n",
       "Text Embedding - P279 + P31                 -0.708028       4.057468   \n",
       "Text Embedding - 7 props                    -0.760705       4.086750   \n",
       "complex (Amandeep)                          -0.827073       4.819735   \n",
       "transe (Amandeep)                           -0.900596       5.188206   \n",
       "DBPedia short abstracts first sentence      -0.955294       4.673726   \n",
       "DBPedia short abstracts                     -0.958831       4.564252   \n",
       "class (Amandeep)                            -1.615395       5.688222   \n",
       "\n",
       "                                        StdDev - I  StdDev - M  StdDev - U  \n",
       "Labels Embedding                          0.610604    0.474821    0.474821  \n",
       "text (Amandeep)                           0.879942    0.491916    0.491916  \n",
       "Text Embedding - P279 + P31               0.715811    0.499497    0.499497  \n",
       "Text Embedding - 7 props                  0.738468    0.498756    0.498756  \n",
       "complex (Amandeep)                        0.808047    0.398939    0.398939  \n",
       "transe (Amandeep)                         0.879650    0.512506    0.512506  \n",
       "DBPedia short abstracts first sentence    0.721401    0.563650    0.563650  \n",
       "DBPedia short abstracts                   0.690659    0.640096    0.640096  \n",
       "class (Amandeep)                          1.221108    0.549345    0.549345  "
      ]
     },
     "execution_count": 21,
     "metadata": {},
     "output_type": "execute_result"
    }
   ],
   "source": [
    "analyseMetrics(wordSimMergedDF)"
   ]
  },
  {
   "cell_type": "code",
   "execution_count": 22,
   "id": "iraqi-horizon",
   "metadata": {},
   "outputs": [
    {
     "data": {
      "text/plain": [
       "349"
      ]
     },
     "execution_count": 22,
     "metadata": {},
     "output_type": "execute_result"
    }
   ],
   "source": [
    "len(wordSimMergedDF)"
   ]
  },
  {
   "cell_type": "markdown",
   "id": "wanted-booking",
   "metadata": {},
   "source": [
    "# Stratified Split"
   ]
  },
  {
   "cell_type": "markdown",
   "id": "sharp-sailing",
   "metadata": {},
   "source": [
    "## Data Split"
   ]
  },
  {
   "cell_type": "code",
   "execution_count": 23,
   "id": "dying-rebel",
   "metadata": {},
   "outputs": [],
   "source": [
    "from sklearn.model_selection import train_test_split\n",
    "X = wordSimMergedDF[cols]\n",
    "Y = wordSimMergedDF['category']"
   ]
  },
  {
   "cell_type": "code",
   "execution_count": 24,
   "id": "raised-local",
   "metadata": {},
   "outputs": [],
   "source": [
    "X_train, X_test, Y_train, Y_test = train_test_split(X, Y,\n",
    "                                                    stratify=Y, \n",
    "                                                    test_size=0.1, \n",
    "                                                    random_state=19)"
   ]
  },
  {
   "cell_type": "code",
   "execution_count": 25,
   "id": "perfect-lexington",
   "metadata": {},
   "outputs": [
    {
     "data": {
      "text/html": [
       "<div>\n",
       "<style scoped>\n",
       "    .dataframe tbody tr th:only-of-type {\n",
       "        vertical-align: middle;\n",
       "    }\n",
       "\n",
       "    .dataframe tbody tr th {\n",
       "        vertical-align: top;\n",
       "    }\n",
       "\n",
       "    .dataframe thead th {\n",
       "        text-align: right;\n",
       "    }\n",
       "</style>\n",
       "<table border=\"1\" class=\"dataframe\">\n",
       "  <thead>\n",
       "    <tr style=\"text-align: right;\">\n",
       "      <th></th>\n",
       "      <th>class</th>\n",
       "      <th>transe</th>\n",
       "      <th>text</th>\n",
       "      <th>complex</th>\n",
       "      <th>labEmb</th>\n",
       "      <th>textEmb</th>\n",
       "      <th>textSubsetEmb</th>\n",
       "      <th>absEmb</th>\n",
       "      <th>absFirstSentEmb</th>\n",
       "    </tr>\n",
       "  </thead>\n",
       "  <tbody>\n",
       "    <tr>\n",
       "      <th>20</th>\n",
       "      <td>1.334137</td>\n",
       "      <td>2.918850</td>\n",
       "      <td>1.408463</td>\n",
       "      <td>2.916357</td>\n",
       "      <td>1.558636</td>\n",
       "      <td>1.433001</td>\n",
       "      <td>1.270478</td>\n",
       "      <td>2.977566</td>\n",
       "      <td>2.313433</td>\n",
       "    </tr>\n",
       "    <tr>\n",
       "      <th>149</th>\n",
       "      <td>3.959855</td>\n",
       "      <td>3.137178</td>\n",
       "      <td>2.662989</td>\n",
       "      <td>3.256807</td>\n",
       "      <td>1.405574</td>\n",
       "      <td>2.641012</td>\n",
       "      <td>2.641012</td>\n",
       "      <td>2.994895</td>\n",
       "      <td>2.523780</td>\n",
       "    </tr>\n",
       "    <tr>\n",
       "      <th>223</th>\n",
       "      <td>3.789260</td>\n",
       "      <td>2.577913</td>\n",
       "      <td>2.584808</td>\n",
       "      <td>2.625197</td>\n",
       "      <td>2.132757</td>\n",
       "      <td>2.667512</td>\n",
       "      <td>2.727592</td>\n",
       "      <td>2.587481</td>\n",
       "      <td>2.908610</td>\n",
       "    </tr>\n",
       "    <tr>\n",
       "      <th>181</th>\n",
       "      <td>3.997609</td>\n",
       "      <td>3.379192</td>\n",
       "      <td>4.000000</td>\n",
       "      <td>2.957218</td>\n",
       "      <td>4.000000</td>\n",
       "      <td>4.000000</td>\n",
       "      <td>4.000000</td>\n",
       "      <td>4.000000</td>\n",
       "      <td>4.000000</td>\n",
       "    </tr>\n",
       "    <tr>\n",
       "      <th>250</th>\n",
       "      <td>3.901682</td>\n",
       "      <td>2.414060</td>\n",
       "      <td>2.662876</td>\n",
       "      <td>2.683717</td>\n",
       "      <td>2.491675</td>\n",
       "      <td>2.525770</td>\n",
       "      <td>2.595170</td>\n",
       "      <td>1.872327</td>\n",
       "      <td>2.476093</td>\n",
       "    </tr>\n",
       "  </tbody>\n",
       "</table>\n",
       "</div>"
      ],
      "text/plain": [
       "        class    transe      text   complex    labEmb   textEmb  \\\n",
       "20   1.334137  2.918850  1.408463  2.916357  1.558636  1.433001   \n",
       "149  3.959855  3.137178  2.662989  3.256807  1.405574  2.641012   \n",
       "223  3.789260  2.577913  2.584808  2.625197  2.132757  2.667512   \n",
       "181  3.997609  3.379192  4.000000  2.957218  4.000000  4.000000   \n",
       "250  3.901682  2.414060  2.662876  2.683717  2.491675  2.525770   \n",
       "\n",
       "     textSubsetEmb    absEmb  absFirstSentEmb  \n",
       "20        1.270478  2.977566         2.313433  \n",
       "149       2.641012  2.994895         2.523780  \n",
       "223       2.727592  2.587481         2.908610  \n",
       "181       4.000000  4.000000         4.000000  \n",
       "250       2.595170  1.872327         2.476093  "
      ]
     },
     "execution_count": 25,
     "metadata": {},
     "output_type": "execute_result"
    }
   ],
   "source": [
    "X_train.head()"
   ]
  },
  {
   "cell_type": "code",
   "execution_count": 26,
   "id": "willing-russell",
   "metadata": {},
   "outputs": [
    {
     "data": {
      "text/plain": [
       "M    201\n",
       "U     94\n",
       "I     19\n",
       "Name: category, dtype: int64"
      ]
     },
     "execution_count": 26,
     "metadata": {},
     "output_type": "execute_result"
    }
   ],
   "source": [
    "Y_train.value_counts()"
   ]
  },
  {
   "cell_type": "code",
   "execution_count": 27,
   "id": "handmade-invitation",
   "metadata": {},
   "outputs": [
    {
     "data": {
      "text/plain": [
       "M    23\n",
       "U    10\n",
       "I     2\n",
       "Name: category, dtype: int64"
      ]
     },
     "execution_count": 27,
     "metadata": {},
     "output_type": "execute_result"
    }
   ],
   "source": [
    "Y_test.value_counts()"
   ]
  },
  {
   "cell_type": "markdown",
   "id": "centered-library",
   "metadata": {},
   "source": [
    "## SVM Training and Testing"
   ]
  },
  {
   "cell_type": "code",
   "execution_count": 28,
   "id": "stylish-beach",
   "metadata": {},
   "outputs": [],
   "source": [
    "import numpy as np\n",
    "from sklearn.pipeline import make_pipeline\n",
    "from sklearn.preprocessing import StandardScaler\n",
    "from sklearn.svm import SVC\n",
    "clf = make_pipeline(StandardScaler(), SVC(gamma='auto', random_state=100))"
   ]
  },
  {
   "cell_type": "code",
   "execution_count": 29,
   "id": "comparative-heater",
   "metadata": {},
   "outputs": [
    {
     "data": {
      "text/plain": [
       "Pipeline(steps=[('standardscaler', StandardScaler()),\n",
       "                ('svc', SVC(gamma='auto', random_state=100))])"
      ]
     },
     "execution_count": 29,
     "metadata": {},
     "output_type": "execute_result"
    }
   ],
   "source": [
    "clf.fit(X_train, Y_train)"
   ]
  },
  {
   "cell_type": "code",
   "execution_count": 30,
   "id": "million-representative",
   "metadata": {},
   "outputs": [
    {
     "data": {
      "text/plain": [
       "array(['M', 'M', 'M', 'I', 'M', 'M', 'M', 'M', 'M', 'M', 'M', 'M', 'M',\n",
       "       'M', 'M', 'M', 'M', 'M', 'M', 'M', 'M', 'M', 'M', 'M', 'U', 'M',\n",
       "       'M', 'M', 'M', 'M', 'M', 'M', 'M', 'U', 'M'], dtype=object)"
      ]
     },
     "execution_count": 30,
     "metadata": {},
     "output_type": "execute_result"
    }
   ],
   "source": [
    "preds = clf.predict(X_test)\n",
    "preds"
   ]
  },
  {
   "cell_type": "markdown",
   "id": "adolescent-information",
   "metadata": {},
   "source": [
    "## Results"
   ]
  },
  {
   "cell_type": "code",
   "execution_count": 31,
   "id": "intense-league",
   "metadata": {},
   "outputs": [],
   "source": [
    "from sklearn.metrics import accuracy_score\n",
    "import seaborn as sns\n",
    "from sklearn.metrics import plot_confusion_matrix\n",
    "import matplotlib.pyplot as plt "
   ]
  },
  {
   "cell_type": "code",
   "execution_count": 32,
   "id": "undefined-dream",
   "metadata": {},
   "outputs": [
    {
     "data": {
      "text/plain": [
       "0.6857142857142857"
      ]
     },
     "execution_count": 32,
     "metadata": {},
     "output_type": "execute_result"
    }
   ],
   "source": [
    "accuracy_score(preds, Y_test)"
   ]
  },
  {
   "cell_type": "code",
   "execution_count": 33,
   "id": "diverse-welding",
   "metadata": {},
   "outputs": [
    {
     "data": {
      "text/plain": [
       "M    23\n",
       "U    10\n",
       "I     2\n",
       "Name: category, dtype: int64"
      ]
     },
     "execution_count": 33,
     "metadata": {},
     "output_type": "execute_result"
    }
   ],
   "source": [
    "Y_test.value_counts()"
   ]
  },
  {
   "cell_type": "code",
   "execution_count": 34,
   "id": "viral-beast",
   "metadata": {
    "scrolled": true
   },
   "outputs": [
    {
     "data": {
      "text/plain": [
       "<sklearn.metrics._plot.confusion_matrix.ConfusionMatrixDisplay at 0x7f8fa919f850>"
      ]
     },
     "execution_count": 34,
     "metadata": {},
     "output_type": "execute_result"
    },
    {
     "data": {
      "image/png": "[encoded data removed]",
      "text/plain": [
       "<Figure size 432x288 with 2 Axes>"
      ]
     },
     "metadata": {
      "needs_background": "light"
     },
     "output_type": "display_data"
    }
   ],
   "source": [
    "plot_confusion_matrix(clf, X_test, Y_test,\n",
    "                                 display_labels=clf.classes_,\n",
    "                                 cmap=plt.cm.Blues)"
   ]
  },
  {
   "cell_type": "code",
   "execution_count": 35,
   "id": "junior-chicago",
   "metadata": {},
   "outputs": [
    {
     "data": {
      "text/html": [
       "<div>\n",
       "<style scoped>\n",
       "    .dataframe tbody tr th:only-of-type {\n",
       "        vertical-align: middle;\n",
       "    }\n",
       "\n",
       "    .dataframe tbody tr th {\n",
       "        vertical-align: top;\n",
       "    }\n",
       "\n",
       "    .dataframe thead th {\n",
       "        text-align: right;\n",
       "    }\n",
       "</style>\n",
       "<table border=\"1\" class=\"dataframe\">\n",
       "  <thead>\n",
       "    <tr style=\"text-align: right;\">\n",
       "      <th></th>\n",
       "      <th>class</th>\n",
       "      <th>transe</th>\n",
       "      <th>text</th>\n",
       "      <th>complex</th>\n",
       "      <th>labEmb</th>\n",
       "      <th>textEmb</th>\n",
       "      <th>textSubsetEmb</th>\n",
       "      <th>absEmb</th>\n",
       "      <th>absFirstSentEmb</th>\n",
       "    </tr>\n",
       "  </thead>\n",
       "  <tbody>\n",
       "    <tr>\n",
       "      <th>161</th>\n",
       "      <td>2.550722</td>\n",
       "      <td>3.110214</td>\n",
       "      <td>3.049062</td>\n",
       "      <td>3.092837</td>\n",
       "      <td>2.061545</td>\n",
       "      <td>2.943750</td>\n",
       "      <td>3.050729</td>\n",
       "      <td>2.721214</td>\n",
       "      <td>2.462581</td>\n",
       "    </tr>\n",
       "    <tr>\n",
       "      <th>299</th>\n",
       "      <td>3.883358</td>\n",
       "      <td>2.796661</td>\n",
       "      <td>2.143449</td>\n",
       "      <td>2.835941</td>\n",
       "      <td>1.841262</td>\n",
       "      <td>2.143459</td>\n",
       "      <td>2.143459</td>\n",
       "      <td>1.841262</td>\n",
       "      <td>1.841262</td>\n",
       "    </tr>\n",
       "    <tr>\n",
       "      <th>57</th>\n",
       "      <td>3.335357</td>\n",
       "      <td>3.782758</td>\n",
       "      <td>2.397896</td>\n",
       "      <td>3.467046</td>\n",
       "      <td>1.874207</td>\n",
       "      <td>2.414705</td>\n",
       "      <td>2.329012</td>\n",
       "      <td>3.391344</td>\n",
       "      <td>3.015135</td>\n",
       "    </tr>\n",
       "    <tr>\n",
       "      <th>127</th>\n",
       "      <td>1.000000</td>\n",
       "      <td>1.000000</td>\n",
       "      <td>1.000000</td>\n",
       "      <td>1.000000</td>\n",
       "      <td>1.000000</td>\n",
       "      <td>1.000000</td>\n",
       "      <td>1.000000</td>\n",
       "      <td>1.000000</td>\n",
       "      <td>1.000000</td>\n",
       "    </tr>\n",
       "    <tr>\n",
       "      <th>175</th>\n",
       "      <td>3.491651</td>\n",
       "      <td>3.102310</td>\n",
       "      <td>2.709157</td>\n",
       "      <td>3.088045</td>\n",
       "      <td>2.322339</td>\n",
       "      <td>2.764514</td>\n",
       "      <td>2.662755</td>\n",
       "      <td>3.305087</td>\n",
       "      <td>3.157234</td>\n",
       "    </tr>\n",
       "  </tbody>\n",
       "</table>\n",
       "</div>"
      ],
      "text/plain": [
       "        class    transe      text   complex    labEmb   textEmb  \\\n",
       "161  2.550722  3.110214  3.049062  3.092837  2.061545  2.943750   \n",
       "299  3.883358  2.796661  2.143449  2.835941  1.841262  2.143459   \n",
       "57   3.335357  3.782758  2.397896  3.467046  1.874207  2.414705   \n",
       "127  1.000000  1.000000  1.000000  1.000000  1.000000  1.000000   \n",
       "175  3.491651  3.102310  2.709157  3.088045  2.322339  2.764514   \n",
       "\n",
       "     textSubsetEmb    absEmb  absFirstSentEmb  \n",
       "161       3.050729  2.721214         2.462581  \n",
       "299       2.143459  1.841262         1.841262  \n",
       "57        2.329012  3.391344         3.015135  \n",
       "127       1.000000  1.000000         1.000000  \n",
       "175       2.662755  3.305087         3.157234  "
      ]
     },
     "execution_count": 35,
     "metadata": {},
     "output_type": "execute_result"
    }
   ],
   "source": [
    "X_test.head()"
   ]
  },
  {
   "cell_type": "code",
   "execution_count": 36,
   "id": "known-bunch",
   "metadata": {},
   "outputs": [
    {
     "data": {
      "text/html": [
       "<div>\n",
       "<style scoped>\n",
       "    .dataframe tbody tr th:only-of-type {\n",
       "        vertical-align: middle;\n",
       "    }\n",
       "\n",
       "    .dataframe tbody tr th {\n",
       "        vertical-align: top;\n",
       "    }\n",
       "\n",
       "    .dataframe thead th {\n",
       "        text-align: right;\n",
       "    }\n",
       "</style>\n",
       "<table border=\"1\" class=\"dataframe\">\n",
       "  <thead>\n",
       "    <tr style=\"text-align: right;\">\n",
       "      <th></th>\n",
       "      <th>Accuracy (in %) compared to annotated category</th>\n",
       "    </tr>\n",
       "  </thead>\n",
       "  <tbody>\n",
       "    <tr>\n",
       "      <th>DBPedia short abstracts</th>\n",
       "      <td>62.857143</td>\n",
       "    </tr>\n",
       "    <tr>\n",
       "      <th>DBPedia short abstracts first sentence</th>\n",
       "      <td>62.857143</td>\n",
       "    </tr>\n",
       "    <tr>\n",
       "      <th>Labels Embedding</th>\n",
       "      <td>60.000000</td>\n",
       "    </tr>\n",
       "    <tr>\n",
       "      <th>complex (Amandeep)</th>\n",
       "      <td>57.142857</td>\n",
       "    </tr>\n",
       "    <tr>\n",
       "      <th>text (Amandeep)</th>\n",
       "      <td>54.285714</td>\n",
       "    </tr>\n",
       "    <tr>\n",
       "      <th>Text Embedding - 7 props</th>\n",
       "      <td>54.285714</td>\n",
       "    </tr>\n",
       "    <tr>\n",
       "      <th>Text Embedding - P279 + P31</th>\n",
       "      <td>54.285714</td>\n",
       "    </tr>\n",
       "    <tr>\n",
       "      <th>class (Amandeep)</th>\n",
       "      <td>51.428571</td>\n",
       "    </tr>\n",
       "    <tr>\n",
       "      <th>transe (Amandeep)</th>\n",
       "      <td>45.714286</td>\n",
       "    </tr>\n",
       "  </tbody>\n",
       "</table>\n",
       "</div>"
      ],
      "text/plain": [
       "                                        Accuracy (in %) compared to annotated category\n",
       "DBPedia short abstracts                                                      62.857143\n",
       "DBPedia short abstracts first sentence                                       62.857143\n",
       "Labels Embedding                                                             60.000000\n",
       "complex (Amandeep)                                                           57.142857\n",
       "text (Amandeep)                                                              54.285714\n",
       "Text Embedding - 7 props                                                     54.285714\n",
       "Text Embedding - P279 + P31                                                  54.285714\n",
       "class (Amandeep)                                                             51.428571\n",
       "transe (Amandeep)                                                            45.714286"
      ]
     },
     "execution_count": 36,
     "metadata": {},
     "output_type": "execute_result"
    }
   ],
   "source": [
    "tempVals = []\n",
    "for col in cols:\n",
    "    tempVals.append(accuracy_score(Y_test, X_test[col].apply(labelSamples)))\n",
    "(pd.DataFrame(tempVals, index = indNames, columns = ['Accuracy (in %) compared to annotated category']) * 100).sort_values(by=['Accuracy (in %) compared to annotated category'], ascending=False)"
   ]
  },
  {
   "cell_type": "code",
   "execution_count": 37,
   "id": "international-forwarding",
   "metadata": {
    "scrolled": true
   },
   "outputs": [
    {
     "data": {
      "text/html": [
       "<div>\n",
       "<style scoped>\n",
       "    .dataframe tbody tr th:only-of-type {\n",
       "        vertical-align: middle;\n",
       "    }\n",
       "\n",
       "    .dataframe tbody tr th {\n",
       "        vertical-align: top;\n",
       "    }\n",
       "\n",
       "    .dataframe thead th {\n",
       "        text-align: right;\n",
       "    }\n",
       "</style>\n",
       "<table border=\"1\" class=\"dataframe\">\n",
       "  <thead>\n",
       "    <tr style=\"text-align: right;\">\n",
       "      <th></th>\n",
       "      <th>Accuracy (in %) compared to annotated category</th>\n",
       "    </tr>\n",
       "  </thead>\n",
       "  <tbody>\n",
       "    <tr>\n",
       "      <th>Text Embedding - 7 props</th>\n",
       "      <td>68.571429</td>\n",
       "    </tr>\n",
       "    <tr>\n",
       "      <th>class (Amandeep)</th>\n",
       "      <td>65.714286</td>\n",
       "    </tr>\n",
       "    <tr>\n",
       "      <th>text (Amandeep)</th>\n",
       "      <td>65.714286</td>\n",
       "    </tr>\n",
       "    <tr>\n",
       "      <th>DBPedia short abstracts first sentence</th>\n",
       "      <td>65.714286</td>\n",
       "    </tr>\n",
       "    <tr>\n",
       "      <th>transe (Amandeep)</th>\n",
       "      <td>62.857143</td>\n",
       "    </tr>\n",
       "    <tr>\n",
       "      <th>complex (Amandeep)</th>\n",
       "      <td>62.857143</td>\n",
       "    </tr>\n",
       "    <tr>\n",
       "      <th>Labels Embedding</th>\n",
       "      <td>62.857143</td>\n",
       "    </tr>\n",
       "    <tr>\n",
       "      <th>Text Embedding - P279 + P31</th>\n",
       "      <td>62.857143</td>\n",
       "    </tr>\n",
       "    <tr>\n",
       "      <th>DBPedia short abstracts</th>\n",
       "      <td>62.857143</td>\n",
       "    </tr>\n",
       "  </tbody>\n",
       "</table>\n",
       "</div>"
      ],
      "text/plain": [
       "                                        Accuracy (in %) compared to annotated category\n",
       "Text Embedding - 7 props                                                     68.571429\n",
       "class (Amandeep)                                                             65.714286\n",
       "text (Amandeep)                                                              65.714286\n",
       "DBPedia short abstracts first sentence                                       65.714286\n",
       "transe (Amandeep)                                                            62.857143\n",
       "complex (Amandeep)                                                           62.857143\n",
       "Labels Embedding                                                             62.857143\n",
       "Text Embedding - P279 + P31                                                  62.857143\n",
       "DBPedia short abstracts                                                      62.857143"
      ]
     },
     "execution_count": 37,
     "metadata": {},
     "output_type": "execute_result"
    }
   ],
   "source": [
    "tempVals = []\n",
    "for col in cols:\n",
    "    clf1 = make_pipeline(StandardScaler(), SVC(gamma='auto', random_state=100))\n",
    "    clf1.fit(X_train[[col]], Y_train)\n",
    "    tempVals.append(accuracy_score(Y_test, clf1.predict(X_test[[col]])))\n",
    "(pd.DataFrame(tempVals, index = indNames, columns = ['Accuracy (in %) compared to annotated category']) * 100).sort_values(by=['Accuracy (in %) compared to annotated category'], ascending=False)"
   ]
  },
  {
   "cell_type": "markdown",
   "id": "champion-escape",
   "metadata": {},
   "source": [
    "# Stratified K-fold split\n"
   ]
  },
  {
   "cell_type": "markdown",
   "id": "precious-grave",
   "metadata": {},
   "source": [
    "## Data Split"
   ]
  },
  {
   "cell_type": "code",
   "execution_count": 38,
   "id": "running-illustration",
   "metadata": {},
   "outputs": [],
   "source": [
    "from sklearn.model_selection import StratifiedKFold\n",
    "X = wordSimMergedDF[cols]\n",
    "Y = wordSimMergedDF['category']"
   ]
  },
  {
   "cell_type": "code",
   "execution_count": 39,
   "id": "devoted-healing",
   "metadata": {},
   "outputs": [],
   "source": [
    "skf = StratifiedKFold(n_splits=5, random_state=19, shuffle=True)\n",
    "X_train_splits, X_test_splits, Y_train_splits, Y_test_splits = [], [], [], []\n",
    "for train_index, test_index in skf.split(X, Y):\n",
    "    X_train_splits.append(X.iloc[train_index])\n",
    "    X_test_splits.append(X.iloc[test_index])\n",
    "    Y_train_splits.append(Y.iloc[train_index])\n",
    "    Y_test_splits.append(Y.iloc[test_index])"
   ]
  },
  {
   "cell_type": "code",
   "execution_count": 40,
   "id": "controversial-passport",
   "metadata": {},
   "outputs": [
    {
     "data": {
      "text/html": [
       "<div>\n",
       "<style scoped>\n",
       "    .dataframe tbody tr th:only-of-type {\n",
       "        vertical-align: middle;\n",
       "    }\n",
       "\n",
       "    .dataframe tbody tr th {\n",
       "        vertical-align: top;\n",
       "    }\n",
       "\n",
       "    .dataframe thead th {\n",
       "        text-align: right;\n",
       "    }\n",
       "</style>\n",
       "<table border=\"1\" class=\"dataframe\">\n",
       "  <thead>\n",
       "    <tr style=\"text-align: right;\">\n",
       "      <th></th>\n",
       "      <th>class</th>\n",
       "      <th>transe</th>\n",
       "      <th>text</th>\n",
       "      <th>complex</th>\n",
       "      <th>labEmb</th>\n",
       "      <th>textEmb</th>\n",
       "      <th>textSubsetEmb</th>\n",
       "      <th>absEmb</th>\n",
       "      <th>absFirstSentEmb</th>\n",
       "    </tr>\n",
       "  </thead>\n",
       "  <tbody>\n",
       "    <tr>\n",
       "      <th>0</th>\n",
       "      <td>3.978657</td>\n",
       "      <td>2.955021</td>\n",
       "      <td>2.534530</td>\n",
       "      <td>3.103668</td>\n",
       "      <td>2.709135</td>\n",
       "      <td>2.588876</td>\n",
       "      <td>2.668504</td>\n",
       "      <td>2.932919</td>\n",
       "      <td>3.009117</td>\n",
       "    </tr>\n",
       "    <tr>\n",
       "      <th>1</th>\n",
       "      <td>3.987265</td>\n",
       "      <td>3.747795</td>\n",
       "      <td>2.934640</td>\n",
       "      <td>3.076303</td>\n",
       "      <td>2.745663</td>\n",
       "      <td>3.046814</td>\n",
       "      <td>2.937807</td>\n",
       "      <td>3.247398</td>\n",
       "      <td>3.584387</td>\n",
       "    </tr>\n",
       "    <tr>\n",
       "      <th>3</th>\n",
       "      <td>3.999655</td>\n",
       "      <td>3.149125</td>\n",
       "      <td>2.346065</td>\n",
       "      <td>2.911334</td>\n",
       "      <td>2.512379</td>\n",
       "      <td>2.407004</td>\n",
       "      <td>2.476275</td>\n",
       "      <td>2.402353</td>\n",
       "      <td>3.177374</td>\n",
       "    </tr>\n",
       "    <tr>\n",
       "      <th>4</th>\n",
       "      <td>1.271662</td>\n",
       "      <td>2.080022</td>\n",
       "      <td>1.226374</td>\n",
       "      <td>2.135042</td>\n",
       "      <td>1.870028</td>\n",
       "      <td>1.301520</td>\n",
       "      <td>1.268170</td>\n",
       "      <td>1.487959</td>\n",
       "      <td>1.405575</td>\n",
       "    </tr>\n",
       "    <tr>\n",
       "      <th>5</th>\n",
       "      <td>1.282710</td>\n",
       "      <td>2.496058</td>\n",
       "      <td>2.230036</td>\n",
       "      <td>2.408249</td>\n",
       "      <td>2.101260</td>\n",
       "      <td>2.163500</td>\n",
       "      <td>2.210558</td>\n",
       "      <td>3.292768</td>\n",
       "      <td>2.728319</td>\n",
       "    </tr>\n",
       "  </tbody>\n",
       "</table>\n",
       "</div>"
      ],
      "text/plain": [
       "      class    transe      text   complex    labEmb   textEmb  textSubsetEmb  \\\n",
       "0  3.978657  2.955021  2.534530  3.103668  2.709135  2.588876       2.668504   \n",
       "1  3.987265  3.747795  2.934640  3.076303  2.745663  3.046814       2.937807   \n",
       "3  3.999655  3.149125  2.346065  2.911334  2.512379  2.407004       2.476275   \n",
       "4  1.271662  2.080022  1.226374  2.135042  1.870028  1.301520       1.268170   \n",
       "5  1.282710  2.496058  2.230036  2.408249  2.101260  2.163500       2.210558   \n",
       "\n",
       "     absEmb  absFirstSentEmb  \n",
       "0  2.932919         3.009117  \n",
       "1  3.247398         3.584387  \n",
       "3  2.402353         3.177374  \n",
       "4  1.487959         1.405575  \n",
       "5  3.292768         2.728319  "
      ]
     },
     "execution_count": 40,
     "metadata": {},
     "output_type": "execute_result"
    }
   ],
   "source": [
    "X_train_splits[0].head()"
   ]
  },
  {
   "cell_type": "markdown",
   "id": "opponent-drain",
   "metadata": {},
   "source": [
    "## SVM Training and Testing"
   ]
  },
  {
   "cell_type": "code",
   "execution_count": 41,
   "id": "finnish-language",
   "metadata": {},
   "outputs": [],
   "source": [
    "import numpy as np\n",
    "from sklearn.pipeline import make_pipeline\n",
    "from sklearn.preprocessing import StandardScaler\n",
    "from sklearn.svm import SVC\n",
    "\n",
    "from sklearn.metrics import accuracy_score\n",
    "import seaborn as sns\n",
    "from sklearn.metrics import plot_confusion_matrix\n",
    "import matplotlib.pyplot as plt "
   ]
  },
  {
   "cell_type": "code",
   "execution_count": 42,
   "id": "democratic-jesus",
   "metadata": {},
   "outputs": [],
   "source": [
    "preds = []\n",
    "for X_train1, Y_train1, X_test1, Y_test1 in zip(X_train_splits, Y_train_splits, X_test_splits, Y_test_splits):\n",
    "    clf = make_pipeline(StandardScaler(), SVC(gamma='auto', random_state=100))\n",
    "    clf.fit(X_train1, Y_train1)\n",
    "    preds.append(clf.predict(X_test1))"
   ]
  },
  {
   "cell_type": "markdown",
   "id": "southwest-reviewer",
   "metadata": {},
   "source": [
    "## Results"
   ]
  },
  {
   "cell_type": "code",
   "execution_count": 43,
   "id": "secret-plymouth",
   "metadata": {},
   "outputs": [
    {
     "data": {
      "text/plain": [
       "0.6445962732919255"
      ]
     },
     "execution_count": 43,
     "metadata": {},
     "output_type": "execute_result"
    }
   ],
   "source": [
    "acc = 0\n",
    "for pred, Y_test1 in zip(preds, Y_test_splits):\n",
    "    acc += accuracy_score(pred, Y_test1)\n",
    "acc/5"
   ]
  },
  {
   "cell_type": "code",
   "execution_count": 44,
   "id": "opening-ancient",
   "metadata": {},
   "outputs": [
    {
     "data": {
      "text/html": [
       "<div>\n",
       "<style scoped>\n",
       "    .dataframe tbody tr th:only-of-type {\n",
       "        vertical-align: middle;\n",
       "    }\n",
       "\n",
       "    .dataframe tbody tr th {\n",
       "        vertical-align: top;\n",
       "    }\n",
       "\n",
       "    .dataframe thead th {\n",
       "        text-align: right;\n",
       "    }\n",
       "</style>\n",
       "<table border=\"1\" class=\"dataframe\">\n",
       "  <thead>\n",
       "    <tr style=\"text-align: right;\">\n",
       "      <th></th>\n",
       "      <th>Accuracy (in %) compared to annotated category</th>\n",
       "    </tr>\n",
       "  </thead>\n",
       "  <tbody>\n",
       "    <tr>\n",
       "      <th>DBPedia short abstracts</th>\n",
       "      <td>62.857143</td>\n",
       "    </tr>\n",
       "    <tr>\n",
       "      <th>DBPedia short abstracts first sentence</th>\n",
       "      <td>62.857143</td>\n",
       "    </tr>\n",
       "    <tr>\n",
       "      <th>Labels Embedding</th>\n",
       "      <td>60.000000</td>\n",
       "    </tr>\n",
       "    <tr>\n",
       "      <th>complex (Amandeep)</th>\n",
       "      <td>57.142857</td>\n",
       "    </tr>\n",
       "    <tr>\n",
       "      <th>text (Amandeep)</th>\n",
       "      <td>54.285714</td>\n",
       "    </tr>\n",
       "    <tr>\n",
       "      <th>Text Embedding - 7 props</th>\n",
       "      <td>54.285714</td>\n",
       "    </tr>\n",
       "    <tr>\n",
       "      <th>Text Embedding - P279 + P31</th>\n",
       "      <td>54.285714</td>\n",
       "    </tr>\n",
       "    <tr>\n",
       "      <th>class (Amandeep)</th>\n",
       "      <td>51.428571</td>\n",
       "    </tr>\n",
       "    <tr>\n",
       "      <th>transe (Amandeep)</th>\n",
       "      <td>45.714286</td>\n",
       "    </tr>\n",
       "  </tbody>\n",
       "</table>\n",
       "</div>"
      ],
      "text/plain": [
       "                                        Accuracy (in %) compared to annotated category\n",
       "DBPedia short abstracts                                                      62.857143\n",
       "DBPedia short abstracts first sentence                                       62.857143\n",
       "Labels Embedding                                                             60.000000\n",
       "complex (Amandeep)                                                           57.142857\n",
       "text (Amandeep)                                                              54.285714\n",
       "Text Embedding - 7 props                                                     54.285714\n",
       "Text Embedding - P279 + P31                                                  54.285714\n",
       "class (Amandeep)                                                             51.428571\n",
       "transe (Amandeep)                                                            45.714286"
      ]
     },
     "execution_count": 44,
     "metadata": {},
     "output_type": "execute_result"
    }
   ],
   "source": [
    "tempVals = []\n",
    "for col in cols:\n",
    "    tempVals.append(accuracy_score(Y_test, X_test[col].apply(labelSamples)))\n",
    "(pd.DataFrame(tempVals, index = indNames, columns = ['Accuracy (in %) compared to annotated category']) * 100).sort_values(by=['Accuracy (in %) compared to annotated category'], ascending=False)"
   ]
  },
  {
   "cell_type": "code",
   "execution_count": 45,
   "id": "secure-barcelona",
   "metadata": {
    "scrolled": true
   },
   "outputs": [
    {
     "data": {
      "text/html": [
       "<div>\n",
       "<style scoped>\n",
       "    .dataframe tbody tr th:only-of-type {\n",
       "        vertical-align: middle;\n",
       "    }\n",
       "\n",
       "    .dataframe tbody tr th {\n",
       "        vertical-align: top;\n",
       "    }\n",
       "\n",
       "    .dataframe thead th {\n",
       "        text-align: right;\n",
       "    }\n",
       "</style>\n",
       "<table border=\"1\" class=\"dataframe\">\n",
       "  <thead>\n",
       "    <tr style=\"text-align: right;\">\n",
       "      <th></th>\n",
       "      <th>Accuracy (in %) compared to annotated category</th>\n",
       "    </tr>\n",
       "  </thead>\n",
       "  <tbody>\n",
       "    <tr>\n",
       "      <th>Text Embedding - 7 props</th>\n",
       "      <td>67.337474</td>\n",
       "    </tr>\n",
       "    <tr>\n",
       "      <th>text (Amandeep)</th>\n",
       "      <td>66.757764</td>\n",
       "    </tr>\n",
       "    <tr>\n",
       "      <th>complex (Amandeep)</th>\n",
       "      <td>64.467909</td>\n",
       "    </tr>\n",
       "    <tr>\n",
       "      <th>class (Amandeep)</th>\n",
       "      <td>63.896480</td>\n",
       "    </tr>\n",
       "    <tr>\n",
       "      <th>transe (Amandeep)</th>\n",
       "      <td>63.896480</td>\n",
       "    </tr>\n",
       "    <tr>\n",
       "      <th>DBPedia short abstracts</th>\n",
       "      <td>63.896480</td>\n",
       "    </tr>\n",
       "    <tr>\n",
       "      <th>Text Embedding - P279 + P31</th>\n",
       "      <td>63.614907</td>\n",
       "    </tr>\n",
       "    <tr>\n",
       "      <th>Labels Embedding</th>\n",
       "      <td>63.325052</td>\n",
       "    </tr>\n",
       "    <tr>\n",
       "      <th>DBPedia short abstracts first sentence</th>\n",
       "      <td>61.590062</td>\n",
       "    </tr>\n",
       "  </tbody>\n",
       "</table>\n",
       "</div>"
      ],
      "text/plain": [
       "                                        Accuracy (in %) compared to annotated category\n",
       "Text Embedding - 7 props                                                     67.337474\n",
       "text (Amandeep)                                                              66.757764\n",
       "complex (Amandeep)                                                           64.467909\n",
       "class (Amandeep)                                                             63.896480\n",
       "transe (Amandeep)                                                            63.896480\n",
       "DBPedia short abstracts                                                      63.896480\n",
       "Text Embedding - P279 + P31                                                  63.614907\n",
       "Labels Embedding                                                             63.325052\n",
       "DBPedia short abstracts first sentence                                       61.590062"
      ]
     },
     "execution_count": 45,
     "metadata": {},
     "output_type": "execute_result"
    }
   ],
   "source": [
    "tempVals = []\n",
    "for col in cols:\n",
    "    preds = []\n",
    "    for X_train1, Y_train1, X_test1, Y_test1 in zip(X_train_splits, Y_train_splits, X_test_splits, Y_test_splits):\n",
    "        clf1 = make_pipeline(StandardScaler(), SVC(gamma='auto', random_state=100))\n",
    "        clf1.fit(X_train1[[col]], Y_train1)\n",
    "        preds.append(clf1.predict(X_test1[[col]]))\n",
    "    acc = 0\n",
    "    for pred, Y_test1 in zip(preds, Y_test_splits):\n",
    "        acc += accuracy_score(pred, Y_test1)\n",
    "    tempVals.append(acc/5)\n",
    "(pd.DataFrame(tempVals, index = indNames, columns = ['Accuracy (in %) compared to annotated category']) * 100).sort_values(by=['Accuracy (in %) compared to annotated category'], ascending=False)"
   ]
  },
  {
   "cell_type": "markdown",
   "id": "passing-screen",
   "metadata": {},
   "source": [
    "# Stratified 15-fold split\n"
   ]
  },
  {
   "cell_type": "markdown",
   "id": "union-execution",
   "metadata": {},
   "source": [
    "## Data Split"
   ]
  },
  {
   "cell_type": "code",
   "execution_count": 81,
   "id": "everyday-lounge",
   "metadata": {},
   "outputs": [],
   "source": [
    "from sklearn.model_selection import StratifiedKFold\n",
    "X = wordSimMergedDF[cols]\n",
    "Y = wordSimMergedDF['category']"
   ]
  },
  {
   "cell_type": "code",
   "execution_count": 82,
   "id": "terminal-assault",
   "metadata": {},
   "outputs": [],
   "source": [
    "skf = StratifiedKFold(n_splits=15, random_state=19, shuffle=True)\n",
    "X_train_splits, X_test_splits, Y_train_splits, Y_test_splits = [], [], [], []\n",
    "for train_index, test_index in skf.split(X, Y):\n",
    "    X_train_splits.append(X.iloc[train_index])\n",
    "    X_test_splits.append(X.iloc[test_index])\n",
    "    Y_train_splits.append(Y.iloc[train_index])\n",
    "    Y_test_splits.append(Y.iloc[test_index])"
   ]
  },
  {
   "cell_type": "code",
   "execution_count": 83,
   "id": "exotic-mount",
   "metadata": {},
   "outputs": [
    {
     "data": {
      "text/html": [
       "<div>\n",
       "<style scoped>\n",
       "    .dataframe tbody tr th:only-of-type {\n",
       "        vertical-align: middle;\n",
       "    }\n",
       "\n",
       "    .dataframe tbody tr th {\n",
       "        vertical-align: top;\n",
       "    }\n",
       "\n",
       "    .dataframe thead th {\n",
       "        text-align: right;\n",
       "    }\n",
       "</style>\n",
       "<table border=\"1\" class=\"dataframe\">\n",
       "  <thead>\n",
       "    <tr style=\"text-align: right;\">\n",
       "      <th></th>\n",
       "      <th>class</th>\n",
       "      <th>transe</th>\n",
       "      <th>text</th>\n",
       "      <th>complex</th>\n",
       "      <th>labEmb</th>\n",
       "      <th>textEmb</th>\n",
       "      <th>textSubsetEmb</th>\n",
       "      <th>absEmb</th>\n",
       "      <th>absFirstSentEmb</th>\n",
       "    </tr>\n",
       "  </thead>\n",
       "  <tbody>\n",
       "    <tr>\n",
       "      <th>0</th>\n",
       "      <td>3.978657</td>\n",
       "      <td>2.955021</td>\n",
       "      <td>2.534530</td>\n",
       "      <td>3.103668</td>\n",
       "      <td>2.709135</td>\n",
       "      <td>2.588876</td>\n",
       "      <td>2.668504</td>\n",
       "      <td>2.932919</td>\n",
       "      <td>3.009117</td>\n",
       "    </tr>\n",
       "    <tr>\n",
       "      <th>1</th>\n",
       "      <td>3.987265</td>\n",
       "      <td>3.747795</td>\n",
       "      <td>2.934640</td>\n",
       "      <td>3.076303</td>\n",
       "      <td>2.745663</td>\n",
       "      <td>3.046814</td>\n",
       "      <td>2.937807</td>\n",
       "      <td>3.247398</td>\n",
       "      <td>3.584387</td>\n",
       "    </tr>\n",
       "    <tr>\n",
       "      <th>2</th>\n",
       "      <td>3.965681</td>\n",
       "      <td>3.104421</td>\n",
       "      <td>2.722262</td>\n",
       "      <td>2.881763</td>\n",
       "      <td>2.179657</td>\n",
       "      <td>2.816739</td>\n",
       "      <td>2.832863</td>\n",
       "      <td>3.178391</td>\n",
       "      <td>3.252778</td>\n",
       "    </tr>\n",
       "    <tr>\n",
       "      <th>3</th>\n",
       "      <td>3.999655</td>\n",
       "      <td>3.149125</td>\n",
       "      <td>2.346065</td>\n",
       "      <td>2.911334</td>\n",
       "      <td>2.512379</td>\n",
       "      <td>2.407004</td>\n",
       "      <td>2.476275</td>\n",
       "      <td>2.402353</td>\n",
       "      <td>3.177374</td>\n",
       "    </tr>\n",
       "    <tr>\n",
       "      <th>4</th>\n",
       "      <td>1.271662</td>\n",
       "      <td>2.080022</td>\n",
       "      <td>1.226374</td>\n",
       "      <td>2.135042</td>\n",
       "      <td>1.870028</td>\n",
       "      <td>1.301520</td>\n",
       "      <td>1.268170</td>\n",
       "      <td>1.487959</td>\n",
       "      <td>1.405575</td>\n",
       "    </tr>\n",
       "  </tbody>\n",
       "</table>\n",
       "</div>"
      ],
      "text/plain": [
       "      class    transe      text   complex    labEmb   textEmb  textSubsetEmb  \\\n",
       "0  3.978657  2.955021  2.534530  3.103668  2.709135  2.588876       2.668504   \n",
       "1  3.987265  3.747795  2.934640  3.076303  2.745663  3.046814       2.937807   \n",
       "2  3.965681  3.104421  2.722262  2.881763  2.179657  2.816739       2.832863   \n",
       "3  3.999655  3.149125  2.346065  2.911334  2.512379  2.407004       2.476275   \n",
       "4  1.271662  2.080022  1.226374  2.135042  1.870028  1.301520       1.268170   \n",
       "\n",
       "     absEmb  absFirstSentEmb  \n",
       "0  2.932919         3.009117  \n",
       "1  3.247398         3.584387  \n",
       "2  3.178391         3.252778  \n",
       "3  2.402353         3.177374  \n",
       "4  1.487959         1.405575  "
      ]
     },
     "execution_count": 83,
     "metadata": {},
     "output_type": "execute_result"
    }
   ],
   "source": [
    "X_train_splits[0].head()"
   ]
  },
  {
   "cell_type": "markdown",
   "id": "tired-filling",
   "metadata": {},
   "source": [
    "## SVM Training and Testing"
   ]
  },
  {
   "cell_type": "code",
   "execution_count": 84,
   "id": "defensive-instrument",
   "metadata": {},
   "outputs": [],
   "source": [
    "import numpy as np\n",
    "from sklearn.pipeline import make_pipeline\n",
    "from sklearn.preprocessing import StandardScaler\n",
    "from sklearn.svm import SVC\n",
    "\n",
    "from sklearn.metrics import accuracy_score\n",
    "import seaborn as sns\n",
    "from sklearn.metrics import plot_confusion_matrix\n",
    "import matplotlib.pyplot as plt "
   ]
  },
  {
   "cell_type": "code",
   "execution_count": 85,
   "id": "improving-montgomery",
   "metadata": {},
   "outputs": [],
   "source": [
    "preds = []\n",
    "for X_train1, Y_train1, X_test1, Y_test1 in zip(X_train_splits, Y_train_splits, X_test_splits, Y_test_splits):\n",
    "    clf = make_pipeline(StandardScaler(), SVC(gamma='auto', random_state=100))\n",
    "    clf.fit(X_train1, Y_train1)\n",
    "    preds.append(clf.predict(X_test1))"
   ]
  },
  {
   "cell_type": "markdown",
   "id": "complex-native",
   "metadata": {},
   "source": [
    "## Results"
   ]
  },
  {
   "cell_type": "code",
   "execution_count": 86,
   "id": "experimental-camel",
   "metadata": {},
   "outputs": [
    {
     "data": {
      "text/plain": [
       "0.656159420289855"
      ]
     },
     "execution_count": 86,
     "metadata": {},
     "output_type": "execute_result"
    }
   ],
   "source": [
    "acc = 0\n",
    "for pred, Y_test1 in zip(preds, Y_test_splits):\n",
    "    acc += accuracy_score(pred, Y_test1)\n",
    "acc/15"
   ]
  },
  {
   "cell_type": "code",
   "execution_count": 87,
   "id": "exact-vegetable",
   "metadata": {},
   "outputs": [
    {
     "data": {
      "text/html": [
       "<div>\n",
       "<style scoped>\n",
       "    .dataframe tbody tr th:only-of-type {\n",
       "        vertical-align: middle;\n",
       "    }\n",
       "\n",
       "    .dataframe tbody tr th {\n",
       "        vertical-align: top;\n",
       "    }\n",
       "\n",
       "    .dataframe thead th {\n",
       "        text-align: right;\n",
       "    }\n",
       "</style>\n",
       "<table border=\"1\" class=\"dataframe\">\n",
       "  <thead>\n",
       "    <tr style=\"text-align: right;\">\n",
       "      <th></th>\n",
       "      <th>Accuracy (in %) compared to annotated category</th>\n",
       "    </tr>\n",
       "  </thead>\n",
       "  <tbody>\n",
       "    <tr>\n",
       "      <th>DBPedia short abstracts</th>\n",
       "      <td>62.857143</td>\n",
       "    </tr>\n",
       "    <tr>\n",
       "      <th>DBPedia short abstracts first sentence</th>\n",
       "      <td>62.857143</td>\n",
       "    </tr>\n",
       "    <tr>\n",
       "      <th>Labels Embedding</th>\n",
       "      <td>60.000000</td>\n",
       "    </tr>\n",
       "    <tr>\n",
       "      <th>complex (Amandeep)</th>\n",
       "      <td>57.142857</td>\n",
       "    </tr>\n",
       "    <tr>\n",
       "      <th>text (Amandeep)</th>\n",
       "      <td>54.285714</td>\n",
       "    </tr>\n",
       "    <tr>\n",
       "      <th>Text Embedding - 7 props</th>\n",
       "      <td>54.285714</td>\n",
       "    </tr>\n",
       "    <tr>\n",
       "      <th>Text Embedding - P279 + P31</th>\n",
       "      <td>54.285714</td>\n",
       "    </tr>\n",
       "    <tr>\n",
       "      <th>class (Amandeep)</th>\n",
       "      <td>51.428571</td>\n",
       "    </tr>\n",
       "    <tr>\n",
       "      <th>transe (Amandeep)</th>\n",
       "      <td>45.714286</td>\n",
       "    </tr>\n",
       "  </tbody>\n",
       "</table>\n",
       "</div>"
      ],
      "text/plain": [
       "                                        Accuracy (in %) compared to annotated category\n",
       "DBPedia short abstracts                                                      62.857143\n",
       "DBPedia short abstracts first sentence                                       62.857143\n",
       "Labels Embedding                                                             60.000000\n",
       "complex (Amandeep)                                                           57.142857\n",
       "text (Amandeep)                                                              54.285714\n",
       "Text Embedding - 7 props                                                     54.285714\n",
       "Text Embedding - P279 + P31                                                  54.285714\n",
       "class (Amandeep)                                                             51.428571\n",
       "transe (Amandeep)                                                            45.714286"
      ]
     },
     "execution_count": 87,
     "metadata": {},
     "output_type": "execute_result"
    }
   ],
   "source": [
    "tempVals = []\n",
    "for col in cols:\n",
    "    tempVals.append(accuracy_score(Y_test, X_test[col].apply(labelSamples)))\n",
    "(pd.DataFrame(tempVals, index = indNames, columns = ['Accuracy (in %) compared to annotated category']) * 100).sort_values(by=['Accuracy (in %) compared to annotated category'], ascending=False)"
   ]
  },
  {
   "cell_type": "code",
   "execution_count": 88,
   "id": "martial-corpus",
   "metadata": {
    "scrolled": true
   },
   "outputs": [
    {
     "data": {
      "text/html": [
       "<div>\n",
       "<style scoped>\n",
       "    .dataframe tbody tr th:only-of-type {\n",
       "        vertical-align: middle;\n",
       "    }\n",
       "\n",
       "    .dataframe tbody tr th {\n",
       "        vertical-align: top;\n",
       "    }\n",
       "\n",
       "    .dataframe thead th {\n",
       "        text-align: right;\n",
       "    }\n",
       "</style>\n",
       "<table border=\"1\" class=\"dataframe\">\n",
       "  <thead>\n",
       "    <tr style=\"text-align: right;\">\n",
       "      <th></th>\n",
       "      <th>Accuracy (in %) compared to annotated category</th>\n",
       "    </tr>\n",
       "  </thead>\n",
       "  <tbody>\n",
       "    <tr>\n",
       "      <th>Text Embedding - 7 props</th>\n",
       "      <td>66.473430</td>\n",
       "    </tr>\n",
       "    <tr>\n",
       "      <th>text (Amandeep)</th>\n",
       "      <td>66.171498</td>\n",
       "    </tr>\n",
       "    <tr>\n",
       "      <th>transe (Amandeep)</th>\n",
       "      <td>65.048309</td>\n",
       "    </tr>\n",
       "    <tr>\n",
       "      <th>complex (Amandeep)</th>\n",
       "      <td>65.048309</td>\n",
       "    </tr>\n",
       "    <tr>\n",
       "      <th>Labels Embedding</th>\n",
       "      <td>64.480676</td>\n",
       "    </tr>\n",
       "    <tr>\n",
       "      <th>Text Embedding - P279 + P31</th>\n",
       "      <td>63.913043</td>\n",
       "    </tr>\n",
       "    <tr>\n",
       "      <th>class (Amandeep)</th>\n",
       "      <td>63.623188</td>\n",
       "    </tr>\n",
       "    <tr>\n",
       "      <th>DBPedia short abstracts</th>\n",
       "      <td>63.623188</td>\n",
       "    </tr>\n",
       "    <tr>\n",
       "      <th>DBPedia short abstracts first sentence</th>\n",
       "      <td>61.026570</td>\n",
       "    </tr>\n",
       "  </tbody>\n",
       "</table>\n",
       "</div>"
      ],
      "text/plain": [
       "                                        Accuracy (in %) compared to annotated category\n",
       "Text Embedding - 7 props                                                     66.473430\n",
       "text (Amandeep)                                                              66.171498\n",
       "transe (Amandeep)                                                            65.048309\n",
       "complex (Amandeep)                                                           65.048309\n",
       "Labels Embedding                                                             64.480676\n",
       "Text Embedding - P279 + P31                                                  63.913043\n",
       "class (Amandeep)                                                             63.623188\n",
       "DBPedia short abstracts                                                      63.623188\n",
       "DBPedia short abstracts first sentence                                       61.026570"
      ]
     },
     "execution_count": 88,
     "metadata": {},
     "output_type": "execute_result"
    }
   ],
   "source": [
    "tempVals = []\n",
    "for col in cols:\n",
    "    preds = []\n",
    "    for X_train1, Y_train1, X_test1, Y_test1 in zip(X_train_splits, Y_train_splits, X_test_splits, Y_test_splits):\n",
    "        clf1 = make_pipeline(StandardScaler(), SVC(gamma='auto', random_state=100))\n",
    "        clf1.fit(X_train1[[col]], Y_train1)\n",
    "        preds.append(clf1.predict(X_test1[[col]]))\n",
    "    acc = 0\n",
    "    for pred, Y_test1 in zip(preds, Y_test_splits):\n",
    "        acc += accuracy_score(pred, Y_test1)\n",
    "    tempVals.append(acc/15)\n",
    "(pd.DataFrame(tempVals, index = indNames, columns = ['Accuracy (in %) compared to annotated category']) * 100).sort_values(by=['Accuracy (in %) compared to annotated category'], ascending=False)"
   ]
  },
  {
   "cell_type": "code",
   "execution_count": null,
   "id": "native-delivery",
   "metadata": {},
   "outputs": [],
   "source": []
  },
  {
   "cell_type": "markdown",
   "id": "varying-manchester",
   "metadata": {},
   "source": [
    "# Determine Entropy Values"
   ]
  },
  {
   "cell_type": "code",
   "execution_count": 46,
   "id": "rolled-burton",
   "metadata": {},
   "outputs": [],
   "source": [
    "from scipy.stats import entropy"
   ]
  },
  {
   "cell_type": "code",
   "execution_count": 47,
   "id": "finnish-brighton",
   "metadata": {},
   "outputs": [
    {
     "data": {
      "text/html": [
       "<div>\n",
       "<style scoped>\n",
       "    .dataframe tbody tr th:only-of-type {\n",
       "        vertical-align: middle;\n",
       "    }\n",
       "\n",
       "    .dataframe tbody tr th {\n",
       "        vertical-align: top;\n",
       "    }\n",
       "\n",
       "    .dataframe thead th {\n",
       "        text-align: right;\n",
       "    }\n",
       "</style>\n",
       "<table border=\"1\" class=\"dataframe\">\n",
       "  <thead>\n",
       "    <tr style=\"text-align: right;\">\n",
       "      <th></th>\n",
       "      <th>Word 1</th>\n",
       "      <th>Word 2</th>\n",
       "      <th>ID</th>\n",
       "      <th>H_Sim</th>\n",
       "      <th>H_Dim</th>\n",
       "      <th>F_Sim</th>\n",
       "      <th>F_Dim</th>\n",
       "      <th>N_Sim</th>\n",
       "      <th>N_Dim</th>\n",
       "      <th>D_Sim</th>\n",
       "      <th>...</th>\n",
       "      <th>complex</th>\n",
       "      <th>transe</th>\n",
       "      <th>text</th>\n",
       "      <th>class</th>\n",
       "      <th>labEmb</th>\n",
       "      <th>textEmb</th>\n",
       "      <th>textSubsetEmb</th>\n",
       "      <th>absEmb</th>\n",
       "      <th>absFirstSentEmb</th>\n",
       "      <th>category</th>\n",
       "    </tr>\n",
       "  </thead>\n",
       "  <tbody>\n",
       "    <tr>\n",
       "      <th>0</th>\n",
       "      <td>Arafat</td>\n",
       "      <td>peace</td>\n",
       "      <td>8</td>\n",
       "      <td>3</td>\n",
       "      <td>D</td>\n",
       "      <td>4</td>\n",
       "      <td>NaN</td>\n",
       "      <td>3</td>\n",
       "      <td>U</td>\n",
       "      <td>4</td>\n",
       "      <td>...</td>\n",
       "      <td>3.103668</td>\n",
       "      <td>2.955021</td>\n",
       "      <td>2.534530</td>\n",
       "      <td>3.978657</td>\n",
       "      <td>2.709135</td>\n",
       "      <td>2.588876</td>\n",
       "      <td>2.668504</td>\n",
       "      <td>2.932919</td>\n",
       "      <td>3.009117</td>\n",
       "      <td>U</td>\n",
       "    </tr>\n",
       "    <tr>\n",
       "      <th>1</th>\n",
       "      <td>Arafat</td>\n",
       "      <td>terror</td>\n",
       "      <td>9</td>\n",
       "      <td>3</td>\n",
       "      <td>D</td>\n",
       "      <td>4</td>\n",
       "      <td>NaN</td>\n",
       "      <td>3</td>\n",
       "      <td>U</td>\n",
       "      <td>4</td>\n",
       "      <td>...</td>\n",
       "      <td>3.076303</td>\n",
       "      <td>3.747795</td>\n",
       "      <td>2.934640</td>\n",
       "      <td>3.987265</td>\n",
       "      <td>2.745663</td>\n",
       "      <td>3.046814</td>\n",
       "      <td>2.937807</td>\n",
       "      <td>3.247398</td>\n",
       "      <td>3.584387</td>\n",
       "      <td>U</td>\n",
       "    </tr>\n",
       "    <tr>\n",
       "      <th>2</th>\n",
       "      <td>FBI</td>\n",
       "      <td>fingerprint</td>\n",
       "      <td>109</td>\n",
       "      <td>3</td>\n",
       "      <td>D</td>\n",
       "      <td>4</td>\n",
       "      <td>NaN</td>\n",
       "      <td>4</td>\n",
       "      <td>NaN</td>\n",
       "      <td>3</td>\n",
       "      <td>...</td>\n",
       "      <td>2.881763</td>\n",
       "      <td>3.104421</td>\n",
       "      <td>2.722262</td>\n",
       "      <td>3.965681</td>\n",
       "      <td>2.179657</td>\n",
       "      <td>2.816739</td>\n",
       "      <td>2.832863</td>\n",
       "      <td>3.178391</td>\n",
       "      <td>3.252778</td>\n",
       "      <td>U</td>\n",
       "    </tr>\n",
       "    <tr>\n",
       "      <th>3</th>\n",
       "      <td>FBI</td>\n",
       "      <td>investigation</td>\n",
       "      <td>110</td>\n",
       "      <td>3</td>\n",
       "      <td>U</td>\n",
       "      <td>3</td>\n",
       "      <td>U</td>\n",
       "      <td>3</td>\n",
       "      <td>U</td>\n",
       "      <td>3</td>\n",
       "      <td>...</td>\n",
       "      <td>2.911334</td>\n",
       "      <td>3.149125</td>\n",
       "      <td>2.346065</td>\n",
       "      <td>3.999655</td>\n",
       "      <td>2.512379</td>\n",
       "      <td>2.407004</td>\n",
       "      <td>2.476275</td>\n",
       "      <td>2.402353</td>\n",
       "      <td>3.177374</td>\n",
       "      <td>M</td>\n",
       "    </tr>\n",
       "    <tr>\n",
       "      <th>4</th>\n",
       "      <td>Harvard</td>\n",
       "      <td>Yale</td>\n",
       "      <td>137</td>\n",
       "      <td>2</td>\n",
       "      <td>S</td>\n",
       "      <td>3</td>\n",
       "      <td>S</td>\n",
       "      <td>2</td>\n",
       "      <td>S</td>\n",
       "      <td>2</td>\n",
       "      <td>...</td>\n",
       "      <td>2.135042</td>\n",
       "      <td>2.080022</td>\n",
       "      <td>1.226374</td>\n",
       "      <td>1.271662</td>\n",
       "      <td>1.870028</td>\n",
       "      <td>1.301520</td>\n",
       "      <td>1.268170</td>\n",
       "      <td>1.487959</td>\n",
       "      <td>1.405575</td>\n",
       "      <td>M</td>\n",
       "    </tr>\n",
       "  </tbody>\n",
       "</table>\n",
       "<p>5 rows × 33 columns</p>\n",
       "</div>"
      ],
      "text/plain": [
       "    Word 1         Word 2   ID  H_Sim H_Dim  F_Sim F_Dim  N_Sim N_Dim  D_Sim  \\\n",
       "0   Arafat          peace    8      3     D      4   NaN      3     U      4   \n",
       "1   Arafat         terror    9      3     D      4   NaN      3     U      4   \n",
       "2      FBI    fingerprint  109      3     D      4   NaN      4   NaN      3   \n",
       "3      FBI  investigation  110      3     U      3     U      3     U      3   \n",
       "4  Harvard           Yale  137      2     S      3     S      2     S      2   \n",
       "\n",
       "   ...   complex    transe      text     class    labEmb   textEmb  \\\n",
       "0  ...  3.103668  2.955021  2.534530  3.978657  2.709135  2.588876   \n",
       "1  ...  3.076303  3.747795  2.934640  3.987265  2.745663  3.046814   \n",
       "2  ...  2.881763  3.104421  2.722262  3.965681  2.179657  2.816739   \n",
       "3  ...  2.911334  3.149125  2.346065  3.999655  2.512379  2.407004   \n",
       "4  ...  2.135042  2.080022  1.226374  1.271662  1.870028  1.301520   \n",
       "\n",
       "   textSubsetEmb    absEmb  absFirstSentEmb  category  \n",
       "0       2.668504  2.932919         3.009117         U  \n",
       "1       2.937807  3.247398         3.584387         U  \n",
       "2       2.832863  3.178391         3.252778         U  \n",
       "3       2.476275  2.402353         3.177374         M  \n",
       "4       1.268170  1.487959         1.405575         M  \n",
       "\n",
       "[5 rows x 33 columns]"
      ]
     },
     "execution_count": 47,
     "metadata": {},
     "output_type": "execute_result"
    }
   ],
   "source": [
    "wordSimMergedDF.head()"
   ]
  },
  {
   "cell_type": "code",
   "execution_count": 48,
   "id": "incorrect-scheduling",
   "metadata": {},
   "outputs": [],
   "source": [
    "def findEntropy(row, minDims=1):\n",
    "    dims = {'U': 0, 'A': 0, 'H': 0, 'I': 0, 'S': 0, 'D': 0, 'L': 0, 'X': 0}\n",
    "    cols = ['H_Dim', 'F_Dim', 'N_Dim', 'D_Dim', 'P_Dim']\n",
    "    for col in cols:\n",
    "        try:\n",
    "            if row[col] == 'O':\n",
    "                row[col] = 'D'\n",
    "            if type(row[col]) == str and len(row[col]) > 1:\n",
    "                row[col] = row[col][:1]\n",
    "            if not(pd.isna(row[col])):\n",
    "                dims[row[col].upper()] += 1\n",
    "            else:\n",
    "                dims['X'] += 1\n",
    "        except:\n",
    "            print(f\"Failed while processing value {row[col]}\")\n",
    "            dims['X'] += 1\n",
    "    probArr = [dims[val]/5 for val in ['U', 'A', 'H', 'I', 'S', 'D', 'L', 'X']]\n",
    "    \n",
    "    cntDims = sum([dims[val] for val in ['U', 'A', 'H', 'I', 'S', 'D', 'L']])\n",
    "    \n",
    "    assert sum(probArr) == 1\n",
    "    \n",
    "    if cntDims >= minDims:\n",
    "        return probArr + [cntDims, entropy(probArr, base=2)]\n",
    "\n",
    "    else:\n",
    "        return [0]*5 + [cntDims, None]"
   ]
  },
  {
   "cell_type": "code",
   "execution_count": 49,
   "id": "handmade-import",
   "metadata": {},
   "outputs": [
    {
     "name": "stdout",
     "output_type": "stream",
     "text": [
      "No. of anomalies for each annotator: [1, 2, 2, 1, 1]\n"
     ]
    }
   ],
   "source": [
    "dimMapp = {'U': 0, 'A': 0, 'H': 0, 'I': 0, 'S': 0, 'D': 0, 'L': 0}\n",
    "print(f\"No. of anomalies for each annotator: {[wordSimMergedDF[col].apply(lambda p: not(pd.isna(p)) and type(p) == str and p.upper() not in dimMapp).sum() for col in ['H_Dim', 'F_Dim', 'N_Dim', 'D_Dim', 'P_Dim']]}\")"
   ]
  },
  {
   "cell_type": "code",
   "execution_count": 50,
   "id": "maritime-symbol",
   "metadata": {},
   "outputs": [
    {
     "name": "stdout",
     "output_type": "stream",
     "text": [
      "Unique list of dimension values: {'A, D', 'S, H', 'D', 'P', 'S', 'A', 'H', '2', 'L', 'U', 'O', 'I', '1'}\n"
     ]
    }
   ],
   "source": [
    "t = [wordSimMergedDF[col].unique() for col in ['H_Dim', 'F_Dim', 'N_Dim', 'D_Dim', 'P_Dim']]\n",
    "dimValsList = [item for sublist in t for item in sublist]\n",
    "print(f\"Unique list of dimension values: {set([char1.upper() for char1 in dimValsList if type(char1) == str ])}\")"
   ]
  },
  {
   "cell_type": "code",
   "execution_count": 51,
   "id": "structural-cricket",
   "metadata": {
    "scrolled": true
   },
   "outputs": [
    {
     "name": "stdout",
     "output_type": "stream",
     "text": [
      "Failed while processing value P\n",
      "Failed while processing value P\n",
      "Failed while processing value 1\n",
      "Failed while processing value 2\n"
     ]
    }
   ],
   "source": [
    "wordSimMergedDFEntropy = pd.DataFrame(wordSimMergedDF.apply(findEntropy,axis=1).to_list(), columns = ['U', 'A', 'H', 'I', 'S', 'D', 'L', 'X', 'countDims', 'Entropy'])"
   ]
  },
  {
   "cell_type": "code",
   "execution_count": 52,
   "id": "secret-burden",
   "metadata": {},
   "outputs": [
    {
     "data": {
      "text/html": [
       "<div>\n",
       "<style scoped>\n",
       "    .dataframe tbody tr th:only-of-type {\n",
       "        vertical-align: middle;\n",
       "    }\n",
       "\n",
       "    .dataframe tbody tr th {\n",
       "        vertical-align: top;\n",
       "    }\n",
       "\n",
       "    .dataframe thead th {\n",
       "        text-align: right;\n",
       "    }\n",
       "</style>\n",
       "<table border=\"1\" class=\"dataframe\">\n",
       "  <thead>\n",
       "    <tr style=\"text-align: right;\">\n",
       "      <th></th>\n",
       "      <th>U</th>\n",
       "      <th>A</th>\n",
       "      <th>H</th>\n",
       "      <th>I</th>\n",
       "      <th>S</th>\n",
       "      <th>D</th>\n",
       "      <th>L</th>\n",
       "      <th>X</th>\n",
       "      <th>countDims</th>\n",
       "      <th>Entropy</th>\n",
       "    </tr>\n",
       "  </thead>\n",
       "  <tbody>\n",
       "    <tr>\n",
       "      <th>count</th>\n",
       "      <td>349.000000</td>\n",
       "      <td>349.000000</td>\n",
       "      <td>349.000000</td>\n",
       "      <td>349.000000</td>\n",
       "      <td>349.000000</td>\n",
       "      <td>349.000000</td>\n",
       "      <td>286.000000</td>\n",
       "      <td>286.000000</td>\n",
       "      <td>286.000000</td>\n",
       "      <td>286.000000</td>\n",
       "    </tr>\n",
       "    <tr>\n",
       "      <th>mean</th>\n",
       "      <td>0.059599</td>\n",
       "      <td>0.018338</td>\n",
       "      <td>0.108309</td>\n",
       "      <td>0.130659</td>\n",
       "      <td>0.108309</td>\n",
       "      <td>0.151862</td>\n",
       "      <td>0.041259</td>\n",
       "      <td>0.254545</td>\n",
       "      <td>3.727273</td>\n",
       "      <td>0.982808</td>\n",
       "    </tr>\n",
       "    <tr>\n",
       "      <th>std</th>\n",
       "      <td>0.160104</td>\n",
       "      <td>0.107781</td>\n",
       "      <td>0.209720</td>\n",
       "      <td>0.273136</td>\n",
       "      <td>0.255210</td>\n",
       "      <td>0.224321</td>\n",
       "      <td>0.146457</td>\n",
       "      <td>0.285000</td>\n",
       "      <td>1.424999</td>\n",
       "      <td>0.563678</td>\n",
       "    </tr>\n",
       "    <tr>\n",
       "      <th>min</th>\n",
       "      <td>0.000000</td>\n",
       "      <td>0.000000</td>\n",
       "      <td>0.000000</td>\n",
       "      <td>0.000000</td>\n",
       "      <td>0.000000</td>\n",
       "      <td>0.000000</td>\n",
       "      <td>0.000000</td>\n",
       "      <td>0.000000</td>\n",
       "      <td>1.000000</td>\n",
       "      <td>0.000000</td>\n",
       "    </tr>\n",
       "    <tr>\n",
       "      <th>25%</th>\n",
       "      <td>0.000000</td>\n",
       "      <td>0.000000</td>\n",
       "      <td>0.000000</td>\n",
       "      <td>0.000000</td>\n",
       "      <td>0.000000</td>\n",
       "      <td>0.000000</td>\n",
       "      <td>0.000000</td>\n",
       "      <td>0.000000</td>\n",
       "      <td>3.000000</td>\n",
       "      <td>0.721928</td>\n",
       "    </tr>\n",
       "    <tr>\n",
       "      <th>50%</th>\n",
       "      <td>0.000000</td>\n",
       "      <td>0.000000</td>\n",
       "      <td>0.000000</td>\n",
       "      <td>0.000000</td>\n",
       "      <td>0.000000</td>\n",
       "      <td>0.000000</td>\n",
       "      <td>0.000000</td>\n",
       "      <td>0.200000</td>\n",
       "      <td>4.000000</td>\n",
       "      <td>0.970951</td>\n",
       "    </tr>\n",
       "    <tr>\n",
       "      <th>75%</th>\n",
       "      <td>0.000000</td>\n",
       "      <td>0.000000</td>\n",
       "      <td>0.200000</td>\n",
       "      <td>0.200000</td>\n",
       "      <td>0.000000</td>\n",
       "      <td>0.200000</td>\n",
       "      <td>0.000000</td>\n",
       "      <td>0.400000</td>\n",
       "      <td>5.000000</td>\n",
       "      <td>1.370951</td>\n",
       "    </tr>\n",
       "    <tr>\n",
       "      <th>max</th>\n",
       "      <td>1.000000</td>\n",
       "      <td>1.000000</td>\n",
       "      <td>1.000000</td>\n",
       "      <td>1.000000</td>\n",
       "      <td>1.000000</td>\n",
       "      <td>1.000000</td>\n",
       "      <td>1.000000</td>\n",
       "      <td>0.800000</td>\n",
       "      <td>5.000000</td>\n",
       "      <td>2.321928</td>\n",
       "    </tr>\n",
       "  </tbody>\n",
       "</table>\n",
       "</div>"
      ],
      "text/plain": [
       "                U           A           H           I           S           D  \\\n",
       "count  349.000000  349.000000  349.000000  349.000000  349.000000  349.000000   \n",
       "mean     0.059599    0.018338    0.108309    0.130659    0.108309    0.151862   \n",
       "std      0.160104    0.107781    0.209720    0.273136    0.255210    0.224321   \n",
       "min      0.000000    0.000000    0.000000    0.000000    0.000000    0.000000   \n",
       "25%      0.000000    0.000000    0.000000    0.000000    0.000000    0.000000   \n",
       "50%      0.000000    0.000000    0.000000    0.000000    0.000000    0.000000   \n",
       "75%      0.000000    0.000000    0.200000    0.200000    0.000000    0.200000   \n",
       "max      1.000000    1.000000    1.000000    1.000000    1.000000    1.000000   \n",
       "\n",
       "                L           X   countDims     Entropy  \n",
       "count  286.000000  286.000000  286.000000  286.000000  \n",
       "mean     0.041259    0.254545    3.727273    0.982808  \n",
       "std      0.146457    0.285000    1.424999    0.563678  \n",
       "min      0.000000    0.000000    1.000000    0.000000  \n",
       "25%      0.000000    0.000000    3.000000    0.721928  \n",
       "50%      0.000000    0.200000    4.000000    0.970951  \n",
       "75%      0.000000    0.400000    5.000000    1.370951  \n",
       "max      1.000000    0.800000    5.000000    2.321928  "
      ]
     },
     "execution_count": 52,
     "metadata": {},
     "output_type": "execute_result"
    }
   ],
   "source": [
    "wordSimMergedDFEntropy.describe()"
   ]
  },
  {
   "cell_type": "code",
   "execution_count": 53,
   "id": "failing-subscription",
   "metadata": {},
   "outputs": [
    {
     "data": {
      "text/html": [
       "<div>\n",
       "<style scoped>\n",
       "    .dataframe tbody tr th:only-of-type {\n",
       "        vertical-align: middle;\n",
       "    }\n",
       "\n",
       "    .dataframe tbody tr th {\n",
       "        vertical-align: top;\n",
       "    }\n",
       "\n",
       "    .dataframe thead th {\n",
       "        text-align: right;\n",
       "    }\n",
       "</style>\n",
       "<table border=\"1\" class=\"dataframe\">\n",
       "  <thead>\n",
       "    <tr style=\"text-align: right;\">\n",
       "      <th></th>\n",
       "      <th>U</th>\n",
       "      <th>A</th>\n",
       "      <th>H</th>\n",
       "      <th>I</th>\n",
       "      <th>S</th>\n",
       "      <th>D</th>\n",
       "      <th>L</th>\n",
       "      <th>X</th>\n",
       "      <th>countDims</th>\n",
       "      <th>Entropy</th>\n",
       "    </tr>\n",
       "  </thead>\n",
       "  <tbody>\n",
       "    <tr>\n",
       "      <th>0</th>\n",
       "      <td>0.2</td>\n",
       "      <td>0.0</td>\n",
       "      <td>0.0</td>\n",
       "      <td>0.0</td>\n",
       "      <td>0.0</td>\n",
       "      <td>0.2</td>\n",
       "      <td>0.0</td>\n",
       "      <td>0.6</td>\n",
       "      <td>2.0</td>\n",
       "      <td>1.370951</td>\n",
       "    </tr>\n",
       "    <tr>\n",
       "      <th>1</th>\n",
       "      <td>0.2</td>\n",
       "      <td>0.0</td>\n",
       "      <td>0.0</td>\n",
       "      <td>0.0</td>\n",
       "      <td>0.0</td>\n",
       "      <td>0.2</td>\n",
       "      <td>0.0</td>\n",
       "      <td>0.6</td>\n",
       "      <td>2.0</td>\n",
       "      <td>1.370951</td>\n",
       "    </tr>\n",
       "    <tr>\n",
       "      <th>2</th>\n",
       "      <td>0.2</td>\n",
       "      <td>0.0</td>\n",
       "      <td>0.0</td>\n",
       "      <td>0.0</td>\n",
       "      <td>0.0</td>\n",
       "      <td>0.2</td>\n",
       "      <td>0.0</td>\n",
       "      <td>0.6</td>\n",
       "      <td>2.0</td>\n",
       "      <td>1.370951</td>\n",
       "    </tr>\n",
       "    <tr>\n",
       "      <th>3</th>\n",
       "      <td>1.0</td>\n",
       "      <td>0.0</td>\n",
       "      <td>0.0</td>\n",
       "      <td>0.0</td>\n",
       "      <td>0.0</td>\n",
       "      <td>0.0</td>\n",
       "      <td>0.0</td>\n",
       "      <td>0.0</td>\n",
       "      <td>5.0</td>\n",
       "      <td>0.000000</td>\n",
       "    </tr>\n",
       "    <tr>\n",
       "      <th>4</th>\n",
       "      <td>0.0</td>\n",
       "      <td>0.0</td>\n",
       "      <td>0.0</td>\n",
       "      <td>0.0</td>\n",
       "      <td>1.0</td>\n",
       "      <td>0.0</td>\n",
       "      <td>0.0</td>\n",
       "      <td>0.0</td>\n",
       "      <td>5.0</td>\n",
       "      <td>0.000000</td>\n",
       "    </tr>\n",
       "  </tbody>\n",
       "</table>\n",
       "</div>"
      ],
      "text/plain": [
       "     U    A    H    I    S    D    L    X  countDims   Entropy\n",
       "0  0.2  0.0  0.0  0.0  0.0  0.2  0.0  0.6        2.0  1.370951\n",
       "1  0.2  0.0  0.0  0.0  0.0  0.2  0.0  0.6        2.0  1.370951\n",
       "2  0.2  0.0  0.0  0.0  0.0  0.2  0.0  0.6        2.0  1.370951\n",
       "3  1.0  0.0  0.0  0.0  0.0  0.0  0.0  0.0        5.0  0.000000\n",
       "4  0.0  0.0  0.0  0.0  1.0  0.0  0.0  0.0        5.0  0.000000"
      ]
     },
     "execution_count": 53,
     "metadata": {},
     "output_type": "execute_result"
    }
   ],
   "source": [
    "wordSimMergedDFEntropy.head()"
   ]
  },
  {
   "cell_type": "markdown",
   "id": "active-highlight",
   "metadata": {},
   "source": [
    "## Dimension counts analysis"
   ]
  },
  {
   "cell_type": "code",
   "execution_count": 54,
   "id": "northern-shadow",
   "metadata": {},
   "outputs": [],
   "source": [
    "def countDimensions1(row, minDims=1):\n",
    "    dims = {'U': 0, 'A': 0, 'H': 0, 'I': 0, 'S': 0, 'D': 0, 'L': 0, 'X': 0}\n",
    "    cols = ['H_Dim', 'F_Dim', 'N_Dim', 'D_Dim', 'P_Dim']\n",
    "    for col in cols:\n",
    "        try:\n",
    "            if row[col] == 'O':\n",
    "                row[col] = 'D'\n",
    "            if type(row[col]) == str and len(row[col]) > 1:\n",
    "                row[col] = row[col][:1]\n",
    "            if not(pd.isna(row[col])):\n",
    "                dims[row[col].upper()] += 1\n",
    "            else:\n",
    "                dims['X'] += 1\n",
    "        except:\n",
    "            print(f\"Failed while processing value {row[col]}\")\n",
    "            dims['X'] += 1\n",
    "    probArr = [dims[val] for val in ['U', 'A', 'H', 'I', 'S', 'D', 'L', 'X']]\n",
    "    \n",
    "    return probArr"
   ]
  },
  {
   "cell_type": "code",
   "execution_count": 55,
   "id": "parallel-tongue",
   "metadata": {},
   "outputs": [
    {
     "name": "stdout",
     "output_type": "stream",
     "text": [
      "Failed while processing value P\n",
      "Failed while processing value P\n",
      "Failed while processing value 1\n",
      "Failed while processing value 2\n"
     ]
    }
   ],
   "source": [
    "wordSimMergedDF_dimCount = pd.DataFrame(wordSimMergedDF.apply(countDimensions1,axis=1).to_list(), columns = ['U', 'A', 'H', 'I', 'S', 'D', 'L', 'X'])"
   ]
  },
  {
   "cell_type": "code",
   "execution_count": 56,
   "id": "opponent-capital",
   "metadata": {},
   "outputs": [
    {
     "data": {
      "text/html": [
       "<div>\n",
       "<style scoped>\n",
       "    .dataframe tbody tr th:only-of-type {\n",
       "        vertical-align: middle;\n",
       "    }\n",
       "\n",
       "    .dataframe tbody tr th {\n",
       "        vertical-align: top;\n",
       "    }\n",
       "\n",
       "    .dataframe thead th {\n",
       "        text-align: right;\n",
       "    }\n",
       "</style>\n",
       "<table border=\"1\" class=\"dataframe\">\n",
       "  <thead>\n",
       "    <tr style=\"text-align: right;\">\n",
       "      <th></th>\n",
       "      <th>U</th>\n",
       "      <th>A</th>\n",
       "      <th>H</th>\n",
       "      <th>I</th>\n",
       "      <th>S</th>\n",
       "      <th>D</th>\n",
       "      <th>L</th>\n",
       "      <th>X</th>\n",
       "    </tr>\n",
       "  </thead>\n",
       "  <tbody>\n",
       "    <tr>\n",
       "      <th>count</th>\n",
       "      <td>349.000000</td>\n",
       "      <td>349.000000</td>\n",
       "      <td>349.000000</td>\n",
       "      <td>349.000000</td>\n",
       "      <td>349.000000</td>\n",
       "      <td>349.000000</td>\n",
       "      <td>349.000000</td>\n",
       "      <td>349.000000</td>\n",
       "    </tr>\n",
       "    <tr>\n",
       "      <th>mean</th>\n",
       "      <td>0.297994</td>\n",
       "      <td>0.091691</td>\n",
       "      <td>0.541547</td>\n",
       "      <td>0.653295</td>\n",
       "      <td>0.541547</td>\n",
       "      <td>0.759312</td>\n",
       "      <td>0.169054</td>\n",
       "      <td>1.945559</td>\n",
       "    </tr>\n",
       "    <tr>\n",
       "      <th>std</th>\n",
       "      <td>0.800518</td>\n",
       "      <td>0.538906</td>\n",
       "      <td>1.048600</td>\n",
       "      <td>1.365680</td>\n",
       "      <td>1.276048</td>\n",
       "      <td>1.121604</td>\n",
       "      <td>0.667440</td>\n",
       "      <td>1.929777</td>\n",
       "    </tr>\n",
       "    <tr>\n",
       "      <th>min</th>\n",
       "      <td>0.000000</td>\n",
       "      <td>0.000000</td>\n",
       "      <td>0.000000</td>\n",
       "      <td>0.000000</td>\n",
       "      <td>0.000000</td>\n",
       "      <td>0.000000</td>\n",
       "      <td>0.000000</td>\n",
       "      <td>0.000000</td>\n",
       "    </tr>\n",
       "    <tr>\n",
       "      <th>25%</th>\n",
       "      <td>0.000000</td>\n",
       "      <td>0.000000</td>\n",
       "      <td>0.000000</td>\n",
       "      <td>0.000000</td>\n",
       "      <td>0.000000</td>\n",
       "      <td>0.000000</td>\n",
       "      <td>0.000000</td>\n",
       "      <td>0.000000</td>\n",
       "    </tr>\n",
       "    <tr>\n",
       "      <th>50%</th>\n",
       "      <td>0.000000</td>\n",
       "      <td>0.000000</td>\n",
       "      <td>0.000000</td>\n",
       "      <td>0.000000</td>\n",
       "      <td>0.000000</td>\n",
       "      <td>0.000000</td>\n",
       "      <td>0.000000</td>\n",
       "      <td>1.000000</td>\n",
       "    </tr>\n",
       "    <tr>\n",
       "      <th>75%</th>\n",
       "      <td>0.000000</td>\n",
       "      <td>0.000000</td>\n",
       "      <td>1.000000</td>\n",
       "      <td>1.000000</td>\n",
       "      <td>0.000000</td>\n",
       "      <td>1.000000</td>\n",
       "      <td>0.000000</td>\n",
       "      <td>4.000000</td>\n",
       "    </tr>\n",
       "    <tr>\n",
       "      <th>max</th>\n",
       "      <td>5.000000</td>\n",
       "      <td>5.000000</td>\n",
       "      <td>5.000000</td>\n",
       "      <td>5.000000</td>\n",
       "      <td>5.000000</td>\n",
       "      <td>5.000000</td>\n",
       "      <td>5.000000</td>\n",
       "      <td>5.000000</td>\n",
       "    </tr>\n",
       "  </tbody>\n",
       "</table>\n",
       "</div>"
      ],
      "text/plain": [
       "                U           A           H           I           S           D  \\\n",
       "count  349.000000  349.000000  349.000000  349.000000  349.000000  349.000000   \n",
       "mean     0.297994    0.091691    0.541547    0.653295    0.541547    0.759312   \n",
       "std      0.800518    0.538906    1.048600    1.365680    1.276048    1.121604   \n",
       "min      0.000000    0.000000    0.000000    0.000000    0.000000    0.000000   \n",
       "25%      0.000000    0.000000    0.000000    0.000000    0.000000    0.000000   \n",
       "50%      0.000000    0.000000    0.000000    0.000000    0.000000    0.000000   \n",
       "75%      0.000000    0.000000    1.000000    1.000000    0.000000    1.000000   \n",
       "max      5.000000    5.000000    5.000000    5.000000    5.000000    5.000000   \n",
       "\n",
       "                L           X  \n",
       "count  349.000000  349.000000  \n",
       "mean     0.169054    1.945559  \n",
       "std      0.667440    1.929777  \n",
       "min      0.000000    0.000000  \n",
       "25%      0.000000    0.000000  \n",
       "50%      0.000000    1.000000  \n",
       "75%      0.000000    4.000000  \n",
       "max      5.000000    5.000000  "
      ]
     },
     "execution_count": 56,
     "metadata": {},
     "output_type": "execute_result"
    }
   ],
   "source": [
    "wordSimMergedDF_dimCount.describe()"
   ]
  },
  {
   "cell_type": "code",
   "execution_count": 57,
   "id": "portuguese-military",
   "metadata": {},
   "outputs": [
    {
     "data": {
      "text/plain": [
       "U    104\n",
       "A     32\n",
       "H    189\n",
       "I    228\n",
       "S    189\n",
       "D    265\n",
       "L     59\n",
       "X    679\n",
       "dtype: int64"
      ]
     },
     "execution_count": 57,
     "metadata": {},
     "output_type": "execute_result"
    }
   ],
   "source": [
    "wordSimMergedDF_dimCount.sum()"
   ]
  },
  {
   "cell_type": "markdown",
   "id": "dated-persian",
   "metadata": {},
   "source": [
    "# Correlation between Entropy Values and Scores"
   ]
  },
  {
   "cell_type": "code",
   "execution_count": 58,
   "id": "weighted-climate",
   "metadata": {},
   "outputs": [],
   "source": [
    "import scipy.stats as stats"
   ]
  },
  {
   "cell_type": "code",
   "execution_count": 59,
   "id": "regional-lloyd",
   "metadata": {},
   "outputs": [],
   "source": [
    "wordSimMergedDFEntropy1 = wordSimMergedDFEntropy.copy()"
   ]
  },
  {
   "cell_type": "code",
   "execution_count": 60,
   "id": "concerned-width",
   "metadata": {},
   "outputs": [],
   "source": [
    "# wordSimMergedDF_WEntropy.set_index(['Word 1', 'Word 2']).loc[('announcement', 'effort')]"
   ]
  },
  {
   "cell_type": "code",
   "execution_count": 61,
   "id": "living-silicon",
   "metadata": {},
   "outputs": [],
   "source": [
    "wordSimMergedDF_WEntropy = wordSimMergedDF.join(wordSimMergedDFEntropy1)"
   ]
  },
  {
   "cell_type": "code",
   "execution_count": 62,
   "id": "adaptive-champion",
   "metadata": {},
   "outputs": [
    {
     "name": "stdout",
     "output_type": "stream",
     "text": [
      "Dataset is being reduced from 349 to 286\n"
     ]
    }
   ],
   "source": [
    "print(f\"Dataset is being reduced from {len(wordSimMergedDF_WEntropy)} to {len(wordSimMergedDF_WEntropy[~wordSimMergedDF_WEntropy.Entropy.isna()])}\")"
   ]
  },
  {
   "cell_type": "code",
   "execution_count": 63,
   "id": "functioning-fireplace",
   "metadata": {},
   "outputs": [],
   "source": [
    "wordSimMergedDF_WEntropy = wordSimMergedDF_WEntropy[~wordSimMergedDF_WEntropy.Entropy.isna()]"
   ]
  },
  {
   "cell_type": "code",
   "execution_count": 64,
   "id": "twenty-series",
   "metadata": {},
   "outputs": [
    {
     "data": {
      "text/plain": [
       "SpearmanrResult(correlation=0.22386618257947485, pvalue=0.00013458813322992746)"
      ]
     },
     "execution_count": 64,
     "metadata": {},
     "output_type": "execute_result"
    }
   ],
   "source": [
    "stats.spearmanr(wordSimMergedDF_WEntropy.Entropy, wordSimMergedDF_WEntropy.Avg)\n"
   ]
  },
  {
   "cell_type": "code",
   "execution_count": 65,
   "id": "passive-teaching",
   "metadata": {},
   "outputs": [
    {
     "data": {
      "text/plain": [
       "M    224\n",
       "U     51\n",
       "I     11\n",
       "Name: category, dtype: int64"
      ]
     },
     "execution_count": 65,
     "metadata": {},
     "output_type": "execute_result"
    }
   ],
   "source": [
    "wordSimMergedDF_WEntropy.category.value_counts()"
   ]
  },
  {
   "cell_type": "code",
   "execution_count": 66,
   "id": "adequate-trick",
   "metadata": {},
   "outputs": [
    {
     "data": {
      "text/plain": [
       "SpearmanrResult(correlation=0.634273174149212, pvalue=0.03608419202831131)"
      ]
     },
     "execution_count": 66,
     "metadata": {},
     "output_type": "execute_result"
    }
   ],
   "source": [
    "cat1 = 'I'\n",
    "stats.spearmanr(wordSimMergedDF_WEntropy[wordSimMergedDF_WEntropy.category == cat1].Entropy, wordSimMergedDF_WEntropy[wordSimMergedDF_WEntropy.category == cat1].Avg)\n",
    "\n"
   ]
  },
  {
   "cell_type": "code",
   "execution_count": 67,
   "id": "immediate-recruitment",
   "metadata": {},
   "outputs": [
    {
     "data": {
      "text/plain": [
       "SpearmanrResult(correlation=-0.8140674774414028, pvalue=3.766571866164227e-13)"
      ]
     },
     "execution_count": 67,
     "metadata": {},
     "output_type": "execute_result"
    }
   ],
   "source": [
    "cat1 = 'U'\n",
    "stats.spearmanr(wordSimMergedDF_WEntropy[wordSimMergedDF_WEntropy.category == cat1].Entropy, wordSimMergedDF_WEntropy[wordSimMergedDF_WEntropy.category == cat1].Avg)\n",
    "\n"
   ]
  },
  {
   "cell_type": "code",
   "execution_count": 68,
   "id": "romance-recipient",
   "metadata": {
    "scrolled": false
   },
   "outputs": [
    {
     "data": {
      "text/plain": [
       "SpearmanrResult(correlation=0.4724114239021895, pvalue=7.472630212984452e-14)"
      ]
     },
     "execution_count": 68,
     "metadata": {},
     "output_type": "execute_result"
    }
   ],
   "source": [
    "cat1 = 'M'\n",
    "stats.spearmanr(wordSimMergedDF_WEntropy[wordSimMergedDF_WEntropy.category == cat1].Entropy, wordSimMergedDF_WEntropy[wordSimMergedDF_WEntropy.category == cat1].Avg)\n",
    "\n"
   ]
  },
  {
   "cell_type": "markdown",
   "id": "third-suspect",
   "metadata": {},
   "source": [
    "# Correlation between Entropy Values and Scores"
   ]
  },
  {
   "cell_type": "code",
   "execution_count": 69,
   "id": "apart-motel",
   "metadata": {
    "scrolled": true
   },
   "outputs": [
    {
     "name": "stdout",
     "output_type": "stream",
     "text": [
      "Failed while processing value P\n",
      "Failed while processing value P\n",
      "Failed while processing value 1\n",
      "Failed while processing value 2\n"
     ]
    }
   ],
   "source": [
    "wordSimMergedDFEntropy2 = pd.DataFrame(wordSimMergedDF.apply(findEntropy,axis=1, args=(3,)).to_list(), columns = ['U', 'A', 'H', 'I', 'S', 'D', 'L', 'X', 'countDims', 'Entropy'])"
   ]
  },
  {
   "cell_type": "code",
   "execution_count": 70,
   "id": "distinct-repository",
   "metadata": {},
   "outputs": [
    {
     "data": {
      "text/html": [
       "<div>\n",
       "<style scoped>\n",
       "    .dataframe tbody tr th:only-of-type {\n",
       "        vertical-align: middle;\n",
       "    }\n",
       "\n",
       "    .dataframe tbody tr th {\n",
       "        vertical-align: top;\n",
       "    }\n",
       "\n",
       "    .dataframe thead th {\n",
       "        text-align: right;\n",
       "    }\n",
       "</style>\n",
       "<table border=\"1\" class=\"dataframe\">\n",
       "  <thead>\n",
       "    <tr style=\"text-align: right;\">\n",
       "      <th></th>\n",
       "      <th>U</th>\n",
       "      <th>A</th>\n",
       "      <th>H</th>\n",
       "      <th>I</th>\n",
       "      <th>S</th>\n",
       "      <th>D</th>\n",
       "      <th>L</th>\n",
       "      <th>X</th>\n",
       "      <th>countDims</th>\n",
       "      <th>Entropy</th>\n",
       "    </tr>\n",
       "  </thead>\n",
       "  <tbody>\n",
       "    <tr>\n",
       "      <th>count</th>\n",
       "      <td>349.000000</td>\n",
       "      <td>349.000000</td>\n",
       "      <td>349.000000</td>\n",
       "      <td>349.000000</td>\n",
       "      <td>349.000000</td>\n",
       "      <td>349.000000</td>\n",
       "      <td>219.000000</td>\n",
       "      <td>219.000000</td>\n",
       "      <td>219.000000</td>\n",
       "      <td>219.000000</td>\n",
       "    </tr>\n",
       "    <tr>\n",
       "      <th>mean</th>\n",
       "      <td>0.053868</td>\n",
       "      <td>0.016619</td>\n",
       "      <td>0.101433</td>\n",
       "      <td>0.113467</td>\n",
       "      <td>0.102579</td>\n",
       "      <td>0.425215</td>\n",
       "      <td>0.050228</td>\n",
       "      <td>0.119635</td>\n",
       "      <td>4.401826</td>\n",
       "      <td>0.988119</td>\n",
       "    </tr>\n",
       "    <tr>\n",
       "      <th>std</th>\n",
       "      <td>0.158543</td>\n",
       "      <td>0.106453</td>\n",
       "      <td>0.209332</td>\n",
       "      <td>0.271155</td>\n",
       "      <td>0.254430</td>\n",
       "      <td>0.617601</td>\n",
       "      <td>0.164338</td>\n",
       "      <td>0.158340</td>\n",
       "      <td>0.791698</td>\n",
       "      <td>0.626279</td>\n",
       "    </tr>\n",
       "    <tr>\n",
       "      <th>min</th>\n",
       "      <td>0.000000</td>\n",
       "      <td>0.000000</td>\n",
       "      <td>0.000000</td>\n",
       "      <td>0.000000</td>\n",
       "      <td>0.000000</td>\n",
       "      <td>0.000000</td>\n",
       "      <td>0.000000</td>\n",
       "      <td>0.000000</td>\n",
       "      <td>3.000000</td>\n",
       "      <td>0.000000</td>\n",
       "    </tr>\n",
       "    <tr>\n",
       "      <th>25%</th>\n",
       "      <td>0.000000</td>\n",
       "      <td>0.000000</td>\n",
       "      <td>0.000000</td>\n",
       "      <td>0.000000</td>\n",
       "      <td>0.000000</td>\n",
       "      <td>0.000000</td>\n",
       "      <td>0.000000</td>\n",
       "      <td>0.000000</td>\n",
       "      <td>4.000000</td>\n",
       "      <td>0.721928</td>\n",
       "    </tr>\n",
       "    <tr>\n",
       "      <th>50%</th>\n",
       "      <td>0.000000</td>\n",
       "      <td>0.000000</td>\n",
       "      <td>0.000000</td>\n",
       "      <td>0.000000</td>\n",
       "      <td>0.000000</td>\n",
       "      <td>0.200000</td>\n",
       "      <td>0.000000</td>\n",
       "      <td>0.000000</td>\n",
       "      <td>5.000000</td>\n",
       "      <td>0.970951</td>\n",
       "    </tr>\n",
       "    <tr>\n",
       "      <th>75%</th>\n",
       "      <td>0.000000</td>\n",
       "      <td>0.000000</td>\n",
       "      <td>0.200000</td>\n",
       "      <td>0.000000</td>\n",
       "      <td>0.000000</td>\n",
       "      <td>0.600000</td>\n",
       "      <td>0.000000</td>\n",
       "      <td>0.200000</td>\n",
       "      <td>5.000000</td>\n",
       "      <td>1.521928</td>\n",
       "    </tr>\n",
       "    <tr>\n",
       "      <th>max</th>\n",
       "      <td>1.000000</td>\n",
       "      <td>1.000000</td>\n",
       "      <td>1.000000</td>\n",
       "      <td>1.000000</td>\n",
       "      <td>1.000000</td>\n",
       "      <td>2.000000</td>\n",
       "      <td>1.000000</td>\n",
       "      <td>0.400000</td>\n",
       "      <td>5.000000</td>\n",
       "      <td>2.321928</td>\n",
       "    </tr>\n",
       "  </tbody>\n",
       "</table>\n",
       "</div>"
      ],
      "text/plain": [
       "                U           A           H           I           S           D  \\\n",
       "count  349.000000  349.000000  349.000000  349.000000  349.000000  349.000000   \n",
       "mean     0.053868    0.016619    0.101433    0.113467    0.102579    0.425215   \n",
       "std      0.158543    0.106453    0.209332    0.271155    0.254430    0.617601   \n",
       "min      0.000000    0.000000    0.000000    0.000000    0.000000    0.000000   \n",
       "25%      0.000000    0.000000    0.000000    0.000000    0.000000    0.000000   \n",
       "50%      0.000000    0.000000    0.000000    0.000000    0.000000    0.200000   \n",
       "75%      0.000000    0.000000    0.200000    0.000000    0.000000    0.600000   \n",
       "max      1.000000    1.000000    1.000000    1.000000    1.000000    2.000000   \n",
       "\n",
       "                L           X   countDims     Entropy  \n",
       "count  219.000000  219.000000  219.000000  219.000000  \n",
       "mean     0.050228    0.119635    4.401826    0.988119  \n",
       "std      0.164338    0.158340    0.791698    0.626279  \n",
       "min      0.000000    0.000000    3.000000    0.000000  \n",
       "25%      0.000000    0.000000    4.000000    0.721928  \n",
       "50%      0.000000    0.000000    5.000000    0.970951  \n",
       "75%      0.000000    0.200000    5.000000    1.521928  \n",
       "max      1.000000    0.400000    5.000000    2.321928  "
      ]
     },
     "execution_count": 70,
     "metadata": {},
     "output_type": "execute_result"
    }
   ],
   "source": [
    "wordSimMergedDFEntropy2.describe()"
   ]
  },
  {
   "cell_type": "code",
   "execution_count": 71,
   "id": "another-kuwait",
   "metadata": {
    "scrolled": true
   },
   "outputs": [
    {
     "data": {
      "text/html": [
       "<div>\n",
       "<style scoped>\n",
       "    .dataframe tbody tr th:only-of-type {\n",
       "        vertical-align: middle;\n",
       "    }\n",
       "\n",
       "    .dataframe tbody tr th {\n",
       "        vertical-align: top;\n",
       "    }\n",
       "\n",
       "    .dataframe thead th {\n",
       "        text-align: right;\n",
       "    }\n",
       "</style>\n",
       "<table border=\"1\" class=\"dataframe\">\n",
       "  <thead>\n",
       "    <tr style=\"text-align: right;\">\n",
       "      <th></th>\n",
       "      <th>U</th>\n",
       "      <th>A</th>\n",
       "      <th>H</th>\n",
       "      <th>I</th>\n",
       "      <th>S</th>\n",
       "      <th>D</th>\n",
       "      <th>L</th>\n",
       "      <th>X</th>\n",
       "      <th>countDims</th>\n",
       "      <th>Entropy</th>\n",
       "    </tr>\n",
       "  </thead>\n",
       "  <tbody>\n",
       "    <tr>\n",
       "      <th>0</th>\n",
       "      <td>0.0</td>\n",
       "      <td>0.0</td>\n",
       "      <td>0.0</td>\n",
       "      <td>0.0</td>\n",
       "      <td>0.0</td>\n",
       "      <td>2.0</td>\n",
       "      <td>NaN</td>\n",
       "      <td>NaN</td>\n",
       "      <td>NaN</td>\n",
       "      <td>NaN</td>\n",
       "    </tr>\n",
       "    <tr>\n",
       "      <th>1</th>\n",
       "      <td>0.0</td>\n",
       "      <td>0.0</td>\n",
       "      <td>0.0</td>\n",
       "      <td>0.0</td>\n",
       "      <td>0.0</td>\n",
       "      <td>2.0</td>\n",
       "      <td>NaN</td>\n",
       "      <td>NaN</td>\n",
       "      <td>NaN</td>\n",
       "      <td>NaN</td>\n",
       "    </tr>\n",
       "    <tr>\n",
       "      <th>2</th>\n",
       "      <td>0.0</td>\n",
       "      <td>0.0</td>\n",
       "      <td>0.0</td>\n",
       "      <td>0.0</td>\n",
       "      <td>0.0</td>\n",
       "      <td>2.0</td>\n",
       "      <td>NaN</td>\n",
       "      <td>NaN</td>\n",
       "      <td>NaN</td>\n",
       "      <td>NaN</td>\n",
       "    </tr>\n",
       "    <tr>\n",
       "      <th>3</th>\n",
       "      <td>1.0</td>\n",
       "      <td>0.0</td>\n",
       "      <td>0.0</td>\n",
       "      <td>0.0</td>\n",
       "      <td>0.0</td>\n",
       "      <td>0.0</td>\n",
       "      <td>0.0</td>\n",
       "      <td>0.0</td>\n",
       "      <td>5.0</td>\n",
       "      <td>0.0</td>\n",
       "    </tr>\n",
       "    <tr>\n",
       "      <th>4</th>\n",
       "      <td>0.0</td>\n",
       "      <td>0.0</td>\n",
       "      <td>0.0</td>\n",
       "      <td>0.0</td>\n",
       "      <td>1.0</td>\n",
       "      <td>0.0</td>\n",
       "      <td>0.0</td>\n",
       "      <td>0.0</td>\n",
       "      <td>5.0</td>\n",
       "      <td>0.0</td>\n",
       "    </tr>\n",
       "  </tbody>\n",
       "</table>\n",
       "</div>"
      ],
      "text/plain": [
       "     U    A    H    I    S    D    L    X  countDims  Entropy\n",
       "0  0.0  0.0  0.0  0.0  0.0  2.0  NaN  NaN        NaN      NaN\n",
       "1  0.0  0.0  0.0  0.0  0.0  2.0  NaN  NaN        NaN      NaN\n",
       "2  0.0  0.0  0.0  0.0  0.0  2.0  NaN  NaN        NaN      NaN\n",
       "3  1.0  0.0  0.0  0.0  0.0  0.0  0.0  0.0        5.0      0.0\n",
       "4  0.0  0.0  0.0  0.0  1.0  0.0  0.0  0.0        5.0      0.0"
      ]
     },
     "execution_count": 71,
     "metadata": {},
     "output_type": "execute_result"
    }
   ],
   "source": [
    "wordSimMergedDFEntropy2.head()"
   ]
  },
  {
   "cell_type": "code",
   "execution_count": 72,
   "id": "second-valuation",
   "metadata": {},
   "outputs": [],
   "source": [
    "# wordSimMergedDF_WEntropy.set_index(['Word 1', 'Word 2']).loc[('announcement', 'effort')]"
   ]
  },
  {
   "cell_type": "code",
   "execution_count": 73,
   "id": "demonstrated-explanation",
   "metadata": {},
   "outputs": [],
   "source": [
    "wordSimMergedDF_WEntropy2 = wordSimMergedDF.join(wordSimMergedDFEntropy2)"
   ]
  },
  {
   "cell_type": "code",
   "execution_count": 74,
   "id": "genetic-inspiration",
   "metadata": {},
   "outputs": [
    {
     "name": "stdout",
     "output_type": "stream",
     "text": [
      "Dataset is being reduced from 286 to 219\n"
     ]
    }
   ],
   "source": [
    "print(f\"Dataset is being reduced from {len(wordSimMergedDF_WEntropy)} to {len(wordSimMergedDF_WEntropy2[~wordSimMergedDF_WEntropy2.Entropy.isna()])}\")"
   ]
  },
  {
   "cell_type": "code",
   "execution_count": 75,
   "id": "seventh-syracuse",
   "metadata": {},
   "outputs": [],
   "source": [
    "wordSimMergedDF_WEntropy2 = wordSimMergedDF_WEntropy2[~wordSimMergedDF_WEntropy2.Entropy.isna()]"
   ]
  },
  {
   "cell_type": "code",
   "execution_count": 76,
   "id": "human-entrance",
   "metadata": {},
   "outputs": [
    {
     "data": {
      "text/plain": [
       "SpearmanrResult(correlation=0.4630150942094212, pvalue=4.909163356811773e-13)"
      ]
     },
     "execution_count": 76,
     "metadata": {},
     "output_type": "execute_result"
    }
   ],
   "source": [
    "stats.spearmanr(wordSimMergedDF_WEntropy2.Entropy, wordSimMergedDF_WEntropy2.Avg)\n"
   ]
  },
  {
   "cell_type": "code",
   "execution_count": 77,
   "id": "capable-hacker",
   "metadata": {},
   "outputs": [
    {
     "data": {
      "text/plain": [
       "M    216\n",
       "I      3\n",
       "Name: category, dtype: int64"
      ]
     },
     "execution_count": 77,
     "metadata": {},
     "output_type": "execute_result"
    }
   ],
   "source": [
    "wordSimMergedDF_WEntropy2.category.value_counts()"
   ]
  },
  {
   "cell_type": "code",
   "execution_count": 78,
   "id": "relevant-flood",
   "metadata": {},
   "outputs": [
    {
     "name": "stderr",
     "output_type": "stream",
     "text": [
      "/nas/home/kshenoy/miniconda3/envs/kgtkEnv/lib/python3.8/site-packages/scipy/stats/stats.py:4264: SpearmanRConstantInputWarning: An input array is constant; the correlation coefficent is not defined.\n",
      "  warnings.warn(SpearmanRConstantInputWarning())\n"
     ]
    },
    {
     "data": {
      "text/plain": [
       "SpearmanrResult(correlation=nan, pvalue=nan)"
      ]
     },
     "execution_count": 78,
     "metadata": {},
     "output_type": "execute_result"
    }
   ],
   "source": [
    "cat1 = 'I'\n",
    "stats.spearmanr(wordSimMergedDF_WEntropy2[wordSimMergedDF_WEntropy2.category == cat1].Entropy, wordSimMergedDF_WEntropy2[wordSimMergedDF_WEntropy2.category == cat1].Avg)\n",
    "\n"
   ]
  },
  {
   "cell_type": "code",
   "execution_count": 79,
   "id": "partial-malawi",
   "metadata": {},
   "outputs": [
    {
     "data": {
      "text/plain": [
       "SpearmanrResult(correlation=nan, pvalue=nan)"
      ]
     },
     "execution_count": 79,
     "metadata": {},
     "output_type": "execute_result"
    }
   ],
   "source": [
    "cat1 = 'U'\n",
    "stats.spearmanr(wordSimMergedDF_WEntropy2[wordSimMergedDF_WEntropy2.category == cat1].Entropy, wordSimMergedDF_WEntropy2[wordSimMergedDF_WEntropy2.category == cat1].Avg)\n",
    "\n"
   ]
  },
  {
   "cell_type": "code",
   "execution_count": 80,
   "id": "beautiful-borough",
   "metadata": {},
   "outputs": [
    {
     "data": {
      "text/plain": [
       "SpearmanrResult(correlation=0.48264071045505, pvalue=5.282364887488181e-14)"
      ]
     },
     "execution_count": 80,
     "metadata": {},
     "output_type": "execute_result"
    }
   ],
   "source": [
    "cat1 = 'M'\n",
    "stats.spearmanr(wordSimMergedDF_WEntropy2[wordSimMergedDF_WEntropy2.category == cat1].Entropy, wordSimMergedDF_WEntropy2[wordSimMergedDF_WEntropy2.category == cat1].Avg)\n",
    "\n"
   ]
  },
  {
   "cell_type": "code",
   "execution_count": null,
   "id": "literary-patrick",
   "metadata": {},
   "outputs": [],
   "source": []
  },
  {
   "cell_type": "code",
   "execution_count": null,
   "id": "congressional-assumption",
   "metadata": {},
   "outputs": [],
   "source": []
  }
 ],
 "metadata": {
  "kernelspec": {
   "display_name": "kgtkEnv",
   "language": "python",
   "name": "kgtkenv"
  },
  "language_info": {
   "codemirror_mode": {
    "name": "ipython",
    "version": 3
   },
   "file_extension": ".py",
   "mimetype": "text/x-python",
   "name": "python",
   "nbconvert_exporter": "python",
   "pygments_lexer": "ipython3",
   "version": "3.8.5"
  },
  "toc": {
   "base_numbering": 1,
   "nav_menu": {},
   "number_sections": true,
   "sideBar": true,
   "skip_h1_title": false,
   "title_cell": "Table of Contents",
   "title_sidebar": "Contents",
   "toc_cell": false,
   "toc_position": {},
   "toc_section_display": true,
   "toc_window_display": true
  },
  "varInspector": {
   "cols": {
    "lenName": 16,
    "lenType": 16,
    "lenVar": 40
   },
   "kernels_config": {
    "python": {
     "delete_cmd_postfix": "",
     "delete_cmd_prefix": "del ",
     "library": "var_list.py",
     "varRefreshCmd": "print(var_dic_list())"
    },
    "r": {
     "delete_cmd_postfix": ") ",
     "delete_cmd_prefix": "rm(",
     "library": "var_list.r",
     "varRefreshCmd": "cat(var_dic_list()) "
    }
   },
   "types_to_exclude": [
    "module",
    "function",
    "builtin_function_or_method",
    "instance",
    "_Feature"
   ],
   "window_display": false
  }
 },
 "nbformat": 4,
 "nbformat_minor": 5
}
